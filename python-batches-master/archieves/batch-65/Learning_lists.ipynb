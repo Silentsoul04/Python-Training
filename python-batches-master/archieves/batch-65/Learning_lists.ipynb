{
 "metadata": {
  "name": "",
  "signature": "sha256:141c39f4fec38e6a89590faae6cb8d725ebdf63fd80dc6e76c66ffd8239e11da"
 },
 "nbformat": 3,
 "nbformat_minor": 0,
 "worksheets": [
  {
   "cells": [
    {
     "cell_type": "code",
     "collapsed": false,
     "input": [
      "# lists\n",
      "# list is a sequence of values - homongenous list or hetrogenous list\n",
      "# list vs arrays\n",
      "# list is linear representation of data.\n",
      "# array is n dimensional representation of data.\n",
      "# https://scipy.org/"
     ],
     "language": "python",
     "metadata": {},
     "outputs": [],
     "prompt_number": 1
    },
    {
     "cell_type": "code",
     "collapsed": false,
     "input": [
      "# how to create a list\n",
      "my_fruits = ['apple','banana','cherry','dates']\n",
      "print my_fruits,type(my_fruits)"
     ],
     "language": "python",
     "metadata": {},
     "outputs": [
      {
       "output_type": "stream",
       "stream": "stdout",
       "text": [
        "['apple', 'banana', 'cherry', 'dates'] <type 'list'>\n"
       ]
      }
     ],
     "prompt_number": 1
    },
    {
     "cell_type": "code",
     "collapsed": false,
     "input": [
      "my_empty = []\n",
      "print my_empty,type(my_empty)"
     ],
     "language": "python",
     "metadata": {},
     "outputs": [
      {
       "output_type": "stream",
       "stream": "stdout",
       "text": [
        "[] <type 'list'>\n"
       ]
      }
     ],
     "prompt_number": 3
    },
    {
     "cell_type": "code",
     "collapsed": false,
     "input": [
      "my_empty = list()\n",
      "print my_empty,type(my_empty)"
     ],
     "language": "python",
     "metadata": {},
     "outputs": [
      {
       "output_type": "stream",
       "stream": "stdout",
       "text": [
        "[] <type 'list'>\n"
       ]
      }
     ],
     "prompt_number": 4
    },
    {
     "cell_type": "code",
     "collapsed": false,
     "input": [
      "# list support indexing\n",
      "# my_fruits = ['apple','banana','cherry','dates']\n",
      "#                 0        1         2      3     # +ve index or left to right\n",
      "#                -4        -3        -2     -1    # -ve index or right to left"
     ],
     "language": "python",
     "metadata": {},
     "outputs": [],
     "prompt_number": 5
    },
    {
     "cell_type": "code",
     "collapsed": false,
     "input": [
      "# indexing\n",
      "print my_fruits[0]"
     ],
     "language": "python",
     "metadata": {},
     "outputs": [
      {
       "output_type": "stream",
       "stream": "stdout",
       "text": [
        "apple\n"
       ]
      }
     ],
     "prompt_number": 6
    },
    {
     "cell_type": "code",
     "collapsed": false,
     "input": [
      "print my_fruits[-4]"
     ],
     "language": "python",
     "metadata": {},
     "outputs": [
      {
       "output_type": "stream",
       "stream": "stdout",
       "text": [
        "apple\n"
       ]
      }
     ],
     "prompt_number": 7
    },
    {
     "cell_type": "code",
     "collapsed": false,
     "input": [
      "# slicing\n",
      "print my_fruits[1:3]"
     ],
     "language": "python",
     "metadata": {},
     "outputs": [
      {
       "output_type": "stream",
       "stream": "stdout",
       "text": [
        "['banana', 'cherry']\n"
       ]
      }
     ],
     "prompt_number": 8
    },
    {
     "cell_type": "code",
     "collapsed": false,
     "input": [
      "# we can modify the values.\n",
      "print my_fruits\n",
      "my_fruits[0]='Apple'\n",
      "print my_fruits"
     ],
     "language": "python",
     "metadata": {},
     "outputs": [
      {
       "output_type": "stream",
       "stream": "stdout",
       "text": [
        "['apple', 'banana', 'cherry', 'dates']\n",
        "['Apple', 'banana', 'cherry', 'dates']\n"
       ]
      }
     ],
     "prompt_number": 9
    },
    {
     "cell_type": "code",
     "collapsed": false,
     "input": [
      "my_string=\"apple\"\n",
      "print my_string[0]\n",
      "my_string[0]='A'"
     ],
     "language": "python",
     "metadata": {},
     "outputs": [
      {
       "output_type": "stream",
       "stream": "stdout",
       "text": [
        "a\n"
       ]
      },
      {
       "ename": "TypeError",
       "evalue": "'str' object does not support item assignment",
       "output_type": "pyerr",
       "traceback": [
        "\u001b[0;31m---------------------------------------------------------------------------\u001b[0m\n\u001b[0;31mTypeError\u001b[0m                                 Traceback (most recent call last)",
        "\u001b[0;32m<ipython-input-10-e6294aac8af9>\u001b[0m in \u001b[0;36m<module>\u001b[0;34m()\u001b[0m\n\u001b[1;32m      1\u001b[0m \u001b[0mmy_string\u001b[0m\u001b[0;34m=\u001b[0m\u001b[0;34m\"apple\"\u001b[0m\u001b[0;34m\u001b[0m\u001b[0m\n\u001b[1;32m      2\u001b[0m \u001b[0;32mprint\u001b[0m \u001b[0mmy_string\u001b[0m\u001b[0;34m[\u001b[0m\u001b[0;36m0\u001b[0m\u001b[0;34m]\u001b[0m\u001b[0;34m\u001b[0m\u001b[0m\n\u001b[0;32m----> 3\u001b[0;31m \u001b[0mmy_string\u001b[0m\u001b[0;34m[\u001b[0m\u001b[0;36m0\u001b[0m\u001b[0;34m]\u001b[0m\u001b[0;34m=\u001b[0m\u001b[0;34m'A'\u001b[0m\u001b[0;34m\u001b[0m\u001b[0m\n\u001b[0m",
        "\u001b[0;31mTypeError\u001b[0m: 'str' object does not support item assignment"
       ]
      }
     ],
     "prompt_number": 10
    },
    {
     "cell_type": "code",
     "collapsed": false,
     "input": [
      "# in operator\n",
      "print my_fruits\n",
      "print 'apple' in my_fruits\n",
      "print 'Apple' in my_fruits"
     ],
     "language": "python",
     "metadata": {},
     "outputs": [
      {
       "output_type": "stream",
       "stream": "stdout",
       "text": [
        "['Apple', 'banana', 'cherry', 'dates']\n",
        "False\n",
        "True\n"
       ]
      }
     ],
     "prompt_number": 12
    },
    {
     "cell_type": "code",
     "collapsed": false,
     "input": [
      "absentee = ['bibha','kumar','ashish']\n",
      "for student in ['bibha','ansh','kumar','sri','ashish','ashok']:\n",
      "\tif student in absentee:\n",
      "\t\tcontinue\n",
      "\t\t#break\n",
      "\t\t#pass\n",
      "\tprint \"result for the - {}\".format(student)"
     ],
     "language": "python",
     "metadata": {},
     "outputs": [
      {
       "output_type": "stream",
       "stream": "stdout",
       "text": [
        "result for the - ansh\n",
        "result for the - sri\n",
        "result for the - ashok\n"
       ]
      }
     ],
     "prompt_number": 13
    },
    {
     "cell_type": "code",
     "collapsed": false,
     "input": [
      "# converting a list to string and a string to a list\n",
      "my_string=\"python\""
     ],
     "language": "python",
     "metadata": {},
     "outputs": [],
     "prompt_number": 14
    },
    {
     "cell_type": "code",
     "collapsed": false,
     "input": [
      "# convert a string to a list\n",
      "Lmy_string = list(my_string)\n",
      "print Lmy_string"
     ],
     "language": "python",
     "metadata": {},
     "outputs": [
      {
       "output_type": "stream",
       "stream": "stdout",
       "text": [
        "['p', 'y', 't', 'h', 'o', 'n']\n"
       ]
      }
     ],
     "prompt_number": 15
    },
    {
     "cell_type": "code",
     "collapsed": false,
     "input": [
      "# modify p to t\n",
      "Lmy_string[0]='T'\n",
      "print Lmy_string\n",
      "# list to a string\n",
      "new_string=''\n",
      "print help(new_string.join)\n",
      "print new_string.join(Lmy_string)"
     ],
     "language": "python",
     "metadata": {},
     "outputs": [
      {
       "output_type": "stream",
       "stream": "stdout",
       "text": [
        "['T', 'y', 't', 'h', 'o', 'n']\n",
        "Help on built-in function join:\n",
        "\n",
        "join(...)\n",
        "    S.join(iterable) -> string\n",
        "    \n",
        "    Return a string which is the concatenation of the strings in the\n",
        "    iterable.  The separator between elements is S.\n",
        "\n",
        "None\n",
        "Tython\n"
       ]
      }
     ],
     "prompt_number": 20
    },
    {
     "cell_type": "code",
     "collapsed": false,
     "input": [
      "# example2:\n",
      "my_sentence=\"today is saturday\""
     ],
     "language": "python",
     "metadata": {},
     "outputs": [],
     "prompt_number": 21
    },
    {
     "cell_type": "code",
     "collapsed": false,
     "input": [
      "Lmy_sentence=list(my_sentence)\n",
      "print Lmy_sentence"
     ],
     "language": "python",
     "metadata": {},
     "outputs": [
      {
       "output_type": "stream",
       "stream": "stdout",
       "text": [
        "['t', 'o', 'd', 'a', 'y', ' ', 'i', 's', ' ', 's', 'a', 't', 'u', 'r', 'd', 'a', 'y']\n"
       ]
      }
     ],
     "prompt_number": 22
    },
    {
     "cell_type": "code",
     "collapsed": false,
     "input": [
      "# split\n",
      "print help(my_sentence.split)"
     ],
     "language": "python",
     "metadata": {},
     "outputs": [
      {
       "output_type": "stream",
       "stream": "stdout",
       "text": [
        "Help on built-in function split:\n",
        "\n",
        "split(...)\n",
        "    S.split([sep [,maxsplit]]) -> list of strings\n",
        "    \n",
        "    Return a list of the words in the string S, using sep as the\n",
        "    delimiter string.  If maxsplit is given, at most maxsplit\n",
        "    splits are done. If sep is not specified or is None, any\n",
        "    whitespace string is a separator and empty strings are removed\n",
        "    from the result.\n",
        "\n",
        "None\n"
       ]
      }
     ],
     "prompt_number": 23
    },
    {
     "cell_type": "code",
     "collapsed": false,
     "input": [
      "# convert a string to a list\n",
      "Lmy_sentence=my_sentence.split()\n",
      "print Lmy_sentence\n",
      "Lmy_sentence[-1]='Friday'\n",
      "print Lmy_sentence"
     ],
     "language": "python",
     "metadata": {},
     "outputs": [
      {
       "output_type": "stream",
       "stream": "stdout",
       "text": [
        "['today', 'is', 'saturday']\n",
        "['today', 'is', 'Friday']\n"
       ]
      }
     ],
     "prompt_number": 25
    },
    {
     "cell_type": "code",
     "collapsed": false,
     "input": [
      "# convert a list to string\n",
      "delimiter=\" \"\n",
      "print delimiter.join(Lmy_sentence)"
     ],
     "language": "python",
     "metadata": {},
     "outputs": [
      {
       "output_type": "stream",
       "stream": "stdout",
       "text": [
        "today is Friday\n"
       ]
      }
     ],
     "prompt_number": 26
    },
    {
     "cell_type": "code",
     "collapsed": false,
     "input": [
      "# khyaathi:x:1000:1000:KHYAATHI,,,:/home/khyaathi:/bin/bash\n",
      "# useradd khyaathi\n",
      "my_user=['khyaathi','x','1000','1000','khyaathi home','/home/khyaathi','/bin/bash']"
     ],
     "language": "python",
     "metadata": {},
     "outputs": [],
     "prompt_number": 27
    },
    {
     "cell_type": "code",
     "collapsed": false,
     "input": [
      "print my_user\n",
      "print ':'.join(my_user)\n",
      "print ','.join(my_user)"
     ],
     "language": "python",
     "metadata": {},
     "outputs": [
      {
       "output_type": "stream",
       "stream": "stdout",
       "text": [
        "['khyaathi', 'x', '1000', '1000', 'khyaathi home', '/home/khyaathi', '/bin/bash']\n",
        "khyaathi:x:1000:1000:khyaathi home:/home/khyaathi:/bin/bash\n",
        "khyaathi,x,1000,1000,khyaathi home,/home/khyaathi,/bin/bash\n"
       ]
      }
     ],
     "prompt_number": 30
    },
    {
     "cell_type": "code",
     "collapsed": false,
     "input": [
      "# Function in a list\n",
      "print my_fruits"
     ],
     "language": "python",
     "metadata": {},
     "outputs": [
      {
       "output_type": "stream",
       "stream": "stdout",
       "text": [
        "['apple', 'banana', 'cherry', 'dates']\n"
       ]
      }
     ],
     "prompt_number": 2
    },
    {
     "cell_type": "code",
     "collapsed": false,
     "input": [
      "print dir(my_fruits)"
     ],
     "language": "python",
     "metadata": {},
     "outputs": [
      {
       "output_type": "stream",
       "stream": "stdout",
       "text": [
        "['__add__', '__class__', '__contains__', '__delattr__', '__delitem__', '__delslice__', '__doc__', '__eq__', '__format__', '__ge__', '__getattribute__', '__getitem__', '__getslice__', '__gt__', '__hash__', '__iadd__', '__imul__', '__init__', '__iter__', '__le__', '__len__', '__lt__', '__mul__', '__ne__', '__new__', '__reduce__', '__reduce_ex__', '__repr__', '__reversed__', '__rmul__', '__setattr__', '__setitem__', '__setslice__', '__sizeof__', '__str__', '__subclasshook__', 'append', 'count', 'extend', 'index', 'insert', 'pop', 'remove', 'reverse', 'sort']\n"
       ]
      }
     ],
     "prompt_number": 3
    },
    {
     "cell_type": "code",
     "collapsed": false,
     "input": [
      "# append\n",
      "print help(my_fruits.append)"
     ],
     "language": "python",
     "metadata": {},
     "outputs": [
      {
       "output_type": "stream",
       "stream": "stdout",
       "text": [
        "Help on built-in function append:\n",
        "\n",
        "append(...)\n",
        "    L.append(object) -- append object to end\n",
        "\n",
        "None\n"
       ]
      }
     ],
     "prompt_number": 4
    },
    {
     "cell_type": "code",
     "collapsed": false,
     "input": [
      "print my_fruits.append('gauva')"
     ],
     "language": "python",
     "metadata": {},
     "outputs": [
      {
       "output_type": "stream",
       "stream": "stdout",
       "text": [
        "None\n"
       ]
      }
     ],
     "prompt_number": 5
    },
    {
     "cell_type": "code",
     "collapsed": false,
     "input": [
      "print my_fruits"
     ],
     "language": "python",
     "metadata": {},
     "outputs": [
      {
       "output_type": "stream",
       "stream": "stdout",
       "text": [
        "['apple', 'banana', 'cherry', 'dates', 'gauva']\n"
       ]
      }
     ],
     "prompt_number": 6
    },
    {
     "cell_type": "code",
     "collapsed": false,
     "input": [
      "# extend\n",
      "print help(my_fruits.extend)\n",
      "print my_fruits.extend(['grapes','jackfruit','kiwi'])\n",
      "print my_fruits"
     ],
     "language": "python",
     "metadata": {},
     "outputs": [
      {
       "output_type": "stream",
       "stream": "stdout",
       "text": [
        "Help on built-in function extend:\n",
        "\n",
        "extend(...)\n",
        "    L.extend(iterable) -- extend list by appending elements from the iterable\n",
        "\n",
        "None\n",
        "None\n",
        "['apple', 'banana', 'cherry', 'dates', 'gauva', 'grapes', 'jackfruit', 'kiwi']\n"
       ]
      }
     ],
     "prompt_number": 8
    },
    {
     "cell_type": "code",
     "collapsed": false,
     "input": [
      "# insert\n",
      "print help(my_fruits.insert)\n",
      "my_fruits.insert(0,'apricot')\n",
      "print my_fruits"
     ],
     "language": "python",
     "metadata": {},
     "outputs": [
      {
       "output_type": "stream",
       "stream": "stdout",
       "text": [
        "Help on built-in function insert:\n",
        "\n",
        "insert(...)\n",
        "    L.insert(index, object) -- insert object before index\n",
        "\n",
        "None\n",
        "['apricot', 'apple', 'banana', 'cherry', 'dates', 'gauva', 'grapes', 'jackfruit', 'kiwi']\n"
       ]
      }
     ],
     "prompt_number": 10
    },
    {
     "cell_type": "code",
     "collapsed": false,
     "input": [
      "# index\n",
      "print help(my_fruits.index)"
     ],
     "language": "python",
     "metadata": {},
     "outputs": [
      {
       "output_type": "stream",
       "stream": "stdout",
       "text": [
        "Help on built-in function index:\n",
        "\n",
        "index(...)\n",
        "    L.index(value, [start, [stop]]) -> integer -- return first index of value.\n",
        "    Raises ValueError if the value is not present.\n",
        "\n",
        "None\n"
       ]
      }
     ],
     "prompt_number": 11
    },
    {
     "cell_type": "code",
     "collapsed": false,
     "input": [
      "# use case\n",
      "my_fruits.insert(0,'grapes')\n",
      "print my_fruits"
     ],
     "language": "python",
     "metadata": {},
     "outputs": [
      {
       "output_type": "stream",
       "stream": "stdout",
       "text": [
        "['grapes', 'apricot', 'apple', 'banana', 'cherry', 'dates', 'gauva', 'grapes', 'jackfruit', 'kiwi']\n"
       ]
      }
     ],
     "prompt_number": 12
    },
    {
     "cell_type": "code",
     "collapsed": false,
     "input": [
      "print my_fruits.index('grapes')\n",
      "print my_fruits.index('grapes',1)"
     ],
     "language": "python",
     "metadata": {},
     "outputs": [
      {
       "output_type": "stream",
       "stream": "stdout",
       "text": [
        "0\n",
        "7\n"
       ]
      }
     ],
     "prompt_number": 15
    },
    {
     "cell_type": "code",
     "collapsed": false,
     "input": [
      "# count\n",
      "print help(my_fruits.count)"
     ],
     "language": "python",
     "metadata": {},
     "outputs": [
      {
       "output_type": "stream",
       "stream": "stdout",
       "text": [
        "Help on built-in function count:\n",
        "\n",
        "count(...)\n",
        "    L.count(value) -> integer -- return number of occurrences of value\n",
        "\n",
        "None\n"
       ]
      }
     ],
     "prompt_number": 16
    },
    {
     "cell_type": "code",
     "collapsed": false,
     "input": [
      "print my_fruits.count('grapes')"
     ],
     "language": "python",
     "metadata": {},
     "outputs": [
      {
       "output_type": "stream",
       "stream": "stdout",
       "text": [
        "2\n"
       ]
      }
     ],
     "prompt_number": 17
    },
    {
     "cell_type": "code",
     "collapsed": false,
     "input": [
      "# reverse\n",
      "print help(my_fruits.reverse)\n",
      "my_fruits.reverse()\n",
      "print my_fruits"
     ],
     "language": "python",
     "metadata": {},
     "outputs": [
      {
       "output_type": "stream",
       "stream": "stdout",
       "text": [
        "Help on built-in function reverse:\n",
        "\n",
        "reverse(...)\n",
        "    L.reverse() -- reverse *IN PLACE*\n",
        "\n",
        "None\n",
        "['kiwi', 'jackfruit', 'grapes', 'gauva', 'dates', 'cherry', 'banana', 'apple', 'apricot', 'grapes']\n"
       ]
      }
     ],
     "prompt_number": 21
    },
    {
     "cell_type": "code",
     "collapsed": false,
     "input": [
      "# sort\n",
      "# ascending or descending"
     ],
     "language": "python",
     "metadata": {},
     "outputs": [],
     "prompt_number": 20
    },
    {
     "cell_type": "code",
     "collapsed": false,
     "input": [
      "print help(my_fruits.sort)"
     ],
     "language": "python",
     "metadata": {},
     "outputs": [
      {
       "output_type": "stream",
       "stream": "stdout",
       "text": [
        "Help on built-in function sort:\n",
        "\n",
        "sort(...)\n",
        "    L.sort(cmp=None, key=None, reverse=False) -- stable sort *IN PLACE*;\n",
        "    cmp(x, y) -> -1, 0, 1\n",
        "\n",
        "None\n"
       ]
      }
     ],
     "prompt_number": 22
    },
    {
     "cell_type": "code",
     "collapsed": false,
     "input": [
      "# ascending\n",
      "my_fruits.sort()\n",
      "print my_fruits"
     ],
     "language": "python",
     "metadata": {},
     "outputs": [
      {
       "output_type": "stream",
       "stream": "stdout",
       "text": [
        "['apple', 'apricot', 'banana', 'cherry', 'dates', 'gauva', 'grapes', 'grapes', 'jackfruit', 'kiwi']\n"
       ]
      }
     ],
     "prompt_number": 23
    },
    {
     "cell_type": "code",
     "collapsed": false,
     "input": [
      "# descending\n",
      "my_fruits.sort(reverse=True)\n",
      "print my_fruits"
     ],
     "language": "python",
     "metadata": {},
     "outputs": [
      {
       "output_type": "stream",
       "stream": "stdout",
       "text": [
        "['kiwi', 'jackfruit', 'grapes', 'grapes', 'gauva', 'dates', 'cherry', 'banana', 'apricot', 'apple']\n"
       ]
      }
     ],
     "prompt_number": 24
    },
    {
     "cell_type": "code",
     "collapsed": false,
     "input": [
      "# pop\n",
      "print help(my_fruits.pop)"
     ],
     "language": "python",
     "metadata": {},
     "outputs": [
      {
       "output_type": "stream",
       "stream": "stdout",
       "text": [
        "Help on built-in function pop:\n",
        "\n",
        "pop(...)\n",
        "    L.pop([index]) -> item -- remove and return item at index (default last).\n",
        "    Raises IndexError if list is empty or index is out of range.\n",
        "\n",
        "None\n"
       ]
      }
     ],
     "prompt_number": 25
    },
    {
     "cell_type": "code",
     "collapsed": false,
     "input": [
      "# i want to remove grapes\n",
      "my_fruits.pop(2)"
     ],
     "language": "python",
     "metadata": {},
     "outputs": [
      {
       "metadata": {},
       "output_type": "pyout",
       "prompt_number": 26,
       "text": [
        "'grapes'"
       ]
      }
     ],
     "prompt_number": 26
    },
    {
     "cell_type": "code",
     "collapsed": false,
     "input": [
      "print my_fruits"
     ],
     "language": "python",
     "metadata": {},
     "outputs": [
      {
       "output_type": "stream",
       "stream": "stdout",
       "text": [
        "['kiwi', 'jackfruit', 'grapes', 'gauva', 'dates', 'cherry', 'banana', 'apricot', 'apple']\n"
       ]
      }
     ],
     "prompt_number": 27
    },
    {
     "cell_type": "code",
     "collapsed": false,
     "input": [
      "print my_fruits.pop(20)"
     ],
     "language": "python",
     "metadata": {},
     "outputs": [
      {
       "ename": "IndexError",
       "evalue": "pop index out of range",
       "output_type": "pyerr",
       "traceback": [
        "\u001b[0;31m---------------------------------------------------------------------------\u001b[0m\n\u001b[0;31mIndexError\u001b[0m                                Traceback (most recent call last)",
        "\u001b[0;32m<ipython-input-28-deedb1201e56>\u001b[0m in \u001b[0;36m<module>\u001b[0;34m()\u001b[0m\n\u001b[0;32m----> 1\u001b[0;31m \u001b[0;32mprint\u001b[0m \u001b[0mmy_fruits\u001b[0m\u001b[0;34m.\u001b[0m\u001b[0mpop\u001b[0m\u001b[0;34m(\u001b[0m\u001b[0;36m20\u001b[0m\u001b[0;34m)\u001b[0m\u001b[0;34m\u001b[0m\u001b[0m\n\u001b[0m",
        "\u001b[0;31mIndexError\u001b[0m: pop index out of range"
       ]
      }
     ],
     "prompt_number": 28
    },
    {
     "cell_type": "code",
     "collapsed": false,
     "input": [
      "# remove\n",
      "print help(my_fruits.remove)"
     ],
     "language": "python",
     "metadata": {},
     "outputs": [
      {
       "output_type": "stream",
       "stream": "stdout",
       "text": [
        "Help on built-in function remove:\n",
        "\n",
        "remove(...)\n",
        "    L.remove(value) -- remove first occurrence of value.\n",
        "    Raises ValueError if the value is not present.\n",
        "\n",
        "None\n"
       ]
      }
     ],
     "prompt_number": 29
    },
    {
     "cell_type": "code",
     "collapsed": false,
     "input": [
      "my_fruits.remove('grapes')\n",
      "print my_fruits"
     ],
     "language": "python",
     "metadata": {},
     "outputs": [
      {
       "output_type": "stream",
       "stream": "stdout",
       "text": [
        "['kiwi', 'jackfruit', 'gauva', 'dates', 'cherry', 'banana', 'apricot', 'apple']\n"
       ]
      }
     ],
     "prompt_number": 30
    },
    {
     "cell_type": "code",
     "collapsed": false,
     "input": [
      "my_fruits.remove('grapes')"
     ],
     "language": "python",
     "metadata": {},
     "outputs": [
      {
       "ename": "ValueError",
       "evalue": "list.remove(x): x not in list",
       "output_type": "pyerr",
       "traceback": [
        "\u001b[0;31m---------------------------------------------------------------------------\u001b[0m\n\u001b[0;31mValueError\u001b[0m                                Traceback (most recent call last)",
        "\u001b[0;32m<ipython-input-31-9bd377028339>\u001b[0m in \u001b[0;36m<module>\u001b[0;34m()\u001b[0m\n\u001b[0;32m----> 1\u001b[0;31m \u001b[0mmy_fruits\u001b[0m\u001b[0;34m.\u001b[0m\u001b[0mremove\u001b[0m\u001b[0;34m(\u001b[0m\u001b[0;34m'grapes'\u001b[0m\u001b[0;34m)\u001b[0m\u001b[0;34m\u001b[0m\u001b[0m\n\u001b[0m",
        "\u001b[0;31mValueError\u001b[0m: list.remove(x): x not in list"
       ]
      }
     ],
     "prompt_number": 31
    },
    {
     "cell_type": "code",
     "collapsed": false,
     "input": [
      "# example1:\n",
      "my_trainings = ['python','django','python','django','python','devops']\n",
      "# my_trainings = ['python','django','devops']\n",
      "# my_duplicates = ['python','django']"
     ],
     "language": "python",
     "metadata": {},
     "outputs": [],
     "prompt_number": 52
    },
    {
     "cell_type": "code",
     "collapsed": false,
     "input": [
      "# soft copy and deep copy.\n",
      "my_duplicates=[]\n",
      "for value in my_trainings[:]:\n",
      "    print \"value- {}\".format(value)\n",
      "    if my_trainings.count(value) > 1:\n",
      "        print \"value rm {}\".format(value)\n",
      "        my_trainings.remove(value)\n",
      "        if value not in my_duplicates:\n",
      "            print \"value add {}\".format(value)\n",
      "            my_duplicates.append(value)\n",
      "\n",
      "            \n",
      "print my_trainings\n",
      "print my_duplicates"
     ],
     "language": "python",
     "metadata": {},
     "outputs": [
      {
       "output_type": "stream",
       "stream": "stdout",
       "text": [
        "value- python\n",
        "value rm python\n",
        "value add python\n",
        "value- django\n",
        "value rm django\n",
        "value add django\n",
        "value- python\n",
        "value rm python\n",
        "value- django\n",
        "value- python\n",
        "value- devops\n",
        "['django', 'python', 'devops']\n",
        "['python', 'django']\n"
       ]
      }
     ],
     "prompt_number": 53
    },
    {
     "cell_type": "code",
     "collapsed": false,
     "input": [
      "# example2\n",
      "my_days  = ['yesterday','today','tomorrow','dayafter']\n",
      "# task1:\n",
      "# output\n",
      "#  yesterday'   9\n",
      "#  today        5\n",
      "#  tomorrow     8\n",
      "#  dayafter     8\n",
      "\n",
      "# task2:\n",
      "# output\n",
      "# Yesterday\n",
      "# TOday\n",
      "# TOMorrow\n",
      "# DAYAfter"
     ],
     "language": "python",
     "metadata": {},
     "outputs": [],
     "prompt_number": 54
    },
    {
     "cell_type": "code",
     "collapsed": false,
     "input": [
      "# task1\n",
      "for value in my_days:\n",
      "    print value,len(value)"
     ],
     "language": "python",
     "metadata": {},
     "outputs": [
      {
       "output_type": "stream",
       "stream": "stdout",
       "text": [
        "yesterday 9\n",
        "today 5\n",
        "tomorrow 8\n",
        "dayafter 8\n"
       ]
      }
     ],
     "prompt_number": 55
    },
    {
     "cell_type": "code",
     "collapsed": false,
     "input": [
      "# task2\n",
      "print my_days\n",
      "for value in my_days:\n",
      "    print value,my_days.index(value),value[my_days.index(value)],value[0:my_days.index(value)],value[0:my_days.index(value) + 1]\n",
      "    \n"
     ],
     "language": "python",
     "metadata": {},
     "outputs": [
      {
       "output_type": "stream",
       "stream": "stdout",
       "text": [
        "['yesterday', 'today', 'tomorrow', 'dayafter']\n",
        "yesterday 0 y  y\n",
        "today 1 o t to\n",
        "tomorrow 2 m to tom\n",
        "dayafter 3 a day daya\n"
       ]
      }
     ],
     "prompt_number": 61
    },
    {
     "cell_type": "code",
     "collapsed": false,
     "input": [
      "print my_days\n",
      "for value in my_days:\n",
      "    print value[0:my_days.index(value)]"
     ],
     "language": "python",
     "metadata": {},
     "outputs": [
      {
       "output_type": "stream",
       "stream": "stdout",
       "text": [
        "['yesterday', 'today', 'tomorrow', 'dayafter']\n",
        "\n",
        "t\n",
        "to\n",
        "day\n"
       ]
      }
     ],
     "prompt_number": 63
    },
    {
     "cell_type": "code",
     "collapsed": false,
     "input": [
      "print my_days\n",
      "for value in my_days:\n",
      "    print value[0:my_days.index(value) + 1]\n",
      "    \n"
     ],
     "language": "python",
     "metadata": {},
     "outputs": [
      {
       "output_type": "stream",
       "stream": "stdout",
       "text": [
        "['yesterday', 'today', 'tomorrow', 'dayafter']\n",
        "y\n",
        "to\n",
        "tom\n",
        "daya\n"
       ]
      }
     ],
     "prompt_number": 66
    },
    {
     "cell_type": "code",
     "collapsed": false,
     "input": [
      "my_string=\"python\"\n",
      "print my_string[0:3]\n",
      "print my_string[:3]\n",
      "print my_string[3:6]\n",
      "print my_string[3:]\n",
      "print my_string[:3] + my_string[3:]"
     ],
     "language": "python",
     "metadata": {},
     "outputs": [
      {
       "output_type": "stream",
       "stream": "stdout",
       "text": [
        "pyt\n",
        "pyt\n",
        "hon\n",
        "hon\n",
        "python\n"
       ]
      }
     ],
     "prompt_number": 65
    },
    {
     "cell_type": "code",
     "collapsed": false,
     "input": [
      "print my_days\n",
      "for value in my_days:\n",
      "    print value[:my_days.index(value) + 1].upper() + value[my_days.index(value) + 1:]"
     ],
     "language": "python",
     "metadata": {},
     "outputs": [
      {
       "output_type": "stream",
       "stream": "stdout",
       "text": [
        "['yesterday', 'today', 'tomorrow', 'dayafter']\n",
        "Yesterday\n",
        "TOday\n",
        "TOMorrow\n",
        "DAYAfter\n"
       ]
      }
     ],
     "prompt_number": 68
    },
    {
     "cell_type": "code",
     "collapsed": false,
     "input": [
      "# soft and deep copy\n",
      "# memory allocaiton happend for lists in python"
     ],
     "language": "python",
     "metadata": {},
     "outputs": [],
     "prompt_number": 69
    },
    {
     "cell_type": "code",
     "collapsed": false,
     "input": [
      "# variable\n",
      "a = 1"
     ],
     "language": "python",
     "metadata": {},
     "outputs": [],
     "prompt_number": 70
    },
    {
     "cell_type": "code",
     "collapsed": false,
     "input": [
      "print help(id)"
     ],
     "language": "python",
     "metadata": {},
     "outputs": [
      {
       "output_type": "stream",
       "stream": "stdout",
       "text": [
        "Help on built-in function id in module __builtin__:\n",
        "\n",
        "id(...)\n",
        "    id(object) -> integer\n",
        "    \n",
        "    Return the identity of an object.  This is guaranteed to be unique among\n",
        "    simultaneously existing objects.  (Hint: it's the object's memory address.)\n",
        "\n",
        "None\n"
       ]
      }
     ],
     "prompt_number": 71
    },
    {
     "cell_type": "code",
     "collapsed": false,
     "input": [
      "print id(a)\n",
      "print id(1)"
     ],
     "language": "python",
     "metadata": {},
     "outputs": [
      {
       "output_type": "stream",
       "stream": "stdout",
       "text": [
        "94193735795096\n",
        "94193735795096\n"
       ]
      }
     ],
     "prompt_number": 72
    },
    {
     "cell_type": "code",
     "collapsed": false,
     "input": [
      "b = 1"
     ],
     "language": "python",
     "metadata": {},
     "outputs": [],
     "prompt_number": 73
    },
    {
     "cell_type": "code",
     "collapsed": false,
     "input": [
      "print id(b)"
     ],
     "language": "python",
     "metadata": {},
     "outputs": [
      {
       "output_type": "stream",
       "stream": "stdout",
       "text": [
        "94193735795096\n"
       ]
      }
     ],
     "prompt_number": 74
    },
    {
     "cell_type": "code",
     "collapsed": false,
     "input": [
      "b = 2"
     ],
     "language": "python",
     "metadata": {},
     "outputs": [],
     "prompt_number": 75
    },
    {
     "cell_type": "code",
     "collapsed": false,
     "input": [
      "print id(a)\n",
      "print id(1)\n",
      "print id(2)\n",
      "print id(b)"
     ],
     "language": "python",
     "metadata": {},
     "outputs": [
      {
       "output_type": "stream",
       "stream": "stdout",
       "text": [
        "94193735795096\n",
        "94193735795096\n",
        "94193735795072\n",
        "94193735795072\n"
       ]
      }
     ],
     "prompt_number": 76
    },
    {
     "cell_type": "code",
     "collapsed": false,
     "input": [
      "# lists"
     ],
     "language": "python",
     "metadata": {},
     "outputs": [],
     "prompt_number": 77
    },
    {
     "cell_type": "code",
     "collapsed": false,
     "input": [
      "a = [1,2,3]\n",
      "print a,id(a)\n",
      "b = a\n",
      "print b,id(b)"
     ],
     "language": "python",
     "metadata": {},
     "outputs": [
      {
       "output_type": "stream",
       "stream": "stdout",
       "text": [
        "[1, 2, 3] 140363916491808\n",
        "[1, 2, 3] 140363916491808\n"
       ]
      }
     ],
     "prompt_number": 85
    },
    {
     "cell_type": "code",
     "collapsed": false,
     "input": [
      "# is\n",
      "print a is b"
     ],
     "language": "python",
     "metadata": {},
     "outputs": [
      {
       "output_type": "stream",
       "stream": "stdout",
       "text": [
        "True\n"
       ]
      }
     ],
     "prompt_number": 86
    },
    {
     "cell_type": "code",
     "collapsed": false,
     "input": [
      "# softcopy - object(memory) can have multiple labels.\n",
      "# case1: modify one value within my list\n",
      "a[1] = 30\n",
      "print a  #  [1,2,3] or [1,30,3]\n",
      "print b  #  [1,2,3] or [1,30,3]\n",
      "print a is b"
     ],
     "language": "python",
     "metadata": {},
     "outputs": [
      {
       "output_type": "stream",
       "stream": "stdout",
       "text": [
        "[1, 30, 3]\n",
        "[1, 30, 3]\n",
        "True\n"
       ]
      }
     ],
     "prompt_number": 87
    },
    {
     "cell_type": "code",
     "collapsed": false,
     "input": [
      "# case2 : my modify my whole list\n",
      "a = [20,30,40]\n",
      "print a # [1,30,3] or [20,30,40]\n",
      "print b # [1,30,3] or [20,30,40]\n",
      "print a is b"
     ],
     "language": "python",
     "metadata": {},
     "outputs": [
      {
       "output_type": "stream",
       "stream": "stdout",
       "text": [
        "[20, 30, 40]\n",
        "[1, 30, 3]\n",
        "False\n"
       ]
      }
     ],
     "prompt_number": 89
    },
    {
     "cell_type": "code",
     "collapsed": false,
     "input": [
      "# deep copy - each object has its own memory allocation."
     ],
     "language": "python",
     "metadata": {},
     "outputs": [],
     "prompt_number": 90
    },
    {
     "cell_type": "code",
     "collapsed": false,
     "input": [
      "c = [20,30,40]\n",
      "d = c[:]    # one way to create a deep copy.\n",
      "print c,d\n",
      "print id(c),id(d)\n",
      "print c is d"
     ],
     "language": "python",
     "metadata": {},
     "outputs": [
      {
       "output_type": "stream",
       "stream": "stdout",
       "text": [
        "[20, 30, 40] [20, 30, 40]\n",
        "140363916329400 140363916329184\n",
        "False\n"
       ]
      }
     ],
     "prompt_number": 91
    },
    {
     "cell_type": "code",
     "collapsed": false,
     "input": [
      "# case1:\n",
      "c[1]=33\n",
      "print c\n",
      "print d"
     ],
     "language": "python",
     "metadata": {},
     "outputs": [
      {
       "output_type": "stream",
       "stream": "stdout",
       "text": [
        "[20, 33, 40]\n",
        "[20, 30, 40]\n"
       ]
      }
     ],
     "prompt_number": 92
    },
    {
     "cell_type": "code",
     "collapsed": false,
     "input": [
      "# another way to create deepcopy.\n",
      "import copy\n",
      "print dir(copy)\n",
      "print help(copy.deepcopy)\n",
      "\n",
      "e = copy.deepcopy(c)\n",
      "print e\n",
      "print c\n",
      "print e is c"
     ],
     "language": "python",
     "metadata": {},
     "outputs": [
      {
       "output_type": "stream",
       "stream": "stdout",
       "text": [
        "['Error', 'PyStringMap', '_EmptyClass', '__all__', '__builtins__', '__doc__', '__file__', '__name__', '__package__', '_copy_dispatch', '_copy_immutable', '_copy_inst', '_copy_with_constructor', '_copy_with_copy_method', '_deepcopy_atomic', '_deepcopy_dict', '_deepcopy_dispatch', '_deepcopy_inst', '_deepcopy_list', '_deepcopy_method', '_deepcopy_tuple', '_keep_alive', '_reconstruct', '_test', 'copy', 'deepcopy', 'dispatch_table', 'error', 'name', 't', 'weakref']\n",
        "Help on function deepcopy in module copy:\n",
        "\n",
        "deepcopy(x, memo=None, _nil=[])\n",
        "    Deep copy operation on arbitrary Python objects.\n",
        "    \n",
        "    See the module's __doc__ string for more info.\n",
        "\n",
        "None\n",
        "[20, 33, 40]\n",
        "[20, 33, 40]\n",
        "False\n"
       ]
      }
     ],
     "prompt_number": 93
    },
    {
     "cell_type": "code",
     "collapsed": false,
     "input": [
      "# list comprehension\n",
      "# https://github.com/tuxfux-hlp/Python-examples/blob/master/lists/list_comprehension.txt"
     ],
     "language": "python",
     "metadata": {},
     "outputs": [],
     "prompt_number": 1
    },
    {
     "cell_type": "code",
     "collapsed": false,
     "input": [
      "# input of number - string - 1,2,3,4,5,6,7,8,9,10\n",
      "# 2,4,6,8,10"
     ],
     "language": "python",
     "metadata": {},
     "outputs": []
    },
    {
     "cell_type": "code",
     "collapsed": false,
     "input": [
      "# example1\n",
      "even=[]\n",
      "number = raw_input(\"please enter the number: \")\n",
      "for value in number.split(','):\n",
      "    if int(value) % 2 == 0:\n",
      "       even.append(value)\n",
      "print \",\".join(even)"
     ],
     "language": "python",
     "metadata": {},
     "outputs": [
      {
       "name": "stdout",
       "output_type": "stream",
       "stream": "stdout",
       "text": [
        "please enter the number: 1,2,3,4,5,6,7,8,9,10\n"
       ]
      },
      {
       "output_type": "stream",
       "stream": "stdout",
       "text": [
        "2,4,6,8,10\n"
       ]
      }
     ],
     "prompt_number": 6
    },
    {
     "cell_type": "code",
     "collapsed": false,
     "input": [
      "# list comprehnesion on example1\n",
      "number = raw_input(\"please enter your number:\")\n",
      "# [ print expression condition]\n",
      "print \",\".join([ value for value in number.split(',') if int(value) % 2 == 0])"
     ],
     "language": "python",
     "metadata": {},
     "outputs": [
      {
       "name": "stdout",
       "output_type": "stream",
       "stream": "stdout",
       "text": [
        "please enter your number:1,2,3,4,5,6,7,8,9,10\n"
       ]
      },
      {
       "output_type": "stream",
       "stream": "stdout",
       "text": [
        "2,4,6,8,10\n"
       ]
      }
     ],
     "prompt_number": 9
    },
    {
     "cell_type": "code",
     "collapsed": false,
     "input": [
      "# example2:\n",
      "my_string=\"today is monday\"\n",
      "for value in my_string.split():\n",
      "    print value"
     ],
     "language": "python",
     "metadata": {},
     "outputs": [
      {
       "output_type": "stream",
       "stream": "stdout",
       "text": [
        "today\n",
        "is\n",
        "monday\n"
       ]
      }
     ],
     "prompt_number": 10
    },
    {
     "cell_type": "code",
     "collapsed": false,
     "input": [
      "[ [value,value.capitalize(),value.upper()] for value in my_string.split()]"
     ],
     "language": "python",
     "metadata": {},
     "outputs": [
      {
       "metadata": {},
       "output_type": "pyout",
       "prompt_number": 12,
       "text": [
        "[['today', 'Today', 'TODAY'],\n",
        " ['is', 'Is', 'IS'],\n",
        " ['monday', 'Monday', 'MONDAY']]"
       ]
      }
     ],
     "prompt_number": 12
    },
    {
     "cell_type": "code",
     "collapsed": false,
     "input": [],
     "language": "python",
     "metadata": {},
     "outputs": []
    }
   ],
   "metadata": {}
  }
 ]
}