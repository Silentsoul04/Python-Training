{
 "metadata": {
  "name": "",
  "signature": "sha256:4240eada7f1673d89c4e5402c0f5e064474706578658a79d35e1dbbaf905985e"
 },
 "nbformat": 3,
 "nbformat_minor": 0,
 "worksheets": [
  {
   "cells": [
    {
     "cell_type": "code",
     "collapsed": false,
     "input": [
      "# dictionaries,hashes,dict\n",
      "# key => value\n",
      "# keys should not be duplicated, values can be duplicate.\n",
      "# ex: apple => red color fruit\n",
      "# ex: cherry => red color fruit\n",
      "# ex: ssn,uin,"
     ],
     "language": "python",
     "metadata": {},
     "outputs": []
    },
    {
     "cell_type": "code",
     "collapsed": false,
     "input": [
      "# creation of a dictionary \n",
      "my_fruits = {'a':'apple','b':'banana','c':'cherry','d':'dates',2:'twenty'}\n",
      "print my_fruits,type(my_fruits)\n",
      "# empty dictionaries\n",
      "my_empty={}\n",
      "print my_empty,type(my_empty)\n",
      "# empty dictionaries\n",
      "my_empty=dict()\n",
      "print my_empty,type(my_empty)"
     ],
     "language": "python",
     "metadata": {},
     "outputs": [
      {
       "output_type": "stream",
       "stream": "stdout",
       "text": [
        "{'a': 'apple', 2: 'twenty', 'c': 'cherry', 'b': 'banana', 'd': 'dates'} <type 'dict'>\n",
        "{} <type 'dict'>\n",
        "{} <type 'dict'>\n"
       ]
      }
     ],
     "prompt_number": 1
    },
    {
     "cell_type": "code",
     "collapsed": false,
     "input": [
      "# cheat sheet\n",
      "# list - [apple,banana],[],list()\n",
      "# tuple - (apple,banana),(),tuple()\n",
      "# dict - {'a':'apple','b':'banana'},{},dict()"
     ],
     "language": "python",
     "metadata": {},
     "outputs": [],
     "prompt_number": 3
    },
    {
     "cell_type": "code",
     "collapsed": false,
     "input": [
      "# add new value to a dictionary\n",
      "my_fruits['g'] = 'guava'\n",
      "print my_fruits"
     ],
     "language": "python",
     "metadata": {},
     "outputs": [
      {
       "output_type": "stream",
       "stream": "stdout",
       "text": [
        "{'a': 'apple', 'c': 'cherry', 'b': 'banana', 'd': 'dates', 'g': 'guava'}\n"
       ]
      }
     ],
     "prompt_number": 4
    },
    {
     "cell_type": "code",
     "collapsed": false,
     "input": [
      "# modify already existing values\n",
      "my_fruits['g'] = ['grapes','guava']\n",
      "print my_fruits"
     ],
     "language": "python",
     "metadata": {},
     "outputs": [
      {
       "output_type": "stream",
       "stream": "stdout",
       "text": [
        "{'a': 'apple', 2: 'twenty', 'b': 'banana', 'd': 'dates', 'g': ['grapes', 'guava'], 'c': 'cherry'}\n"
       ]
      }
     ],
     "prompt_number": 27
    },
    {
     "cell_type": "code",
     "collapsed": false,
     "input": [
      "# how to get a value from a key\n",
      "print my_fruits['a']\n",
      "print my_fruits['g'][0]"
     ],
     "language": "python",
     "metadata": {},
     "outputs": [
      {
       "output_type": "stream",
       "stream": "stdout",
       "text": [
        "apple\n",
        "grapes\n"
       ]
      }
     ],
     "prompt_number": 8
    },
    {
     "cell_type": "code",
     "collapsed": false,
     "input": [
      "# in operation\n",
      "print 'a' in my_fruits\n",
      "print 'apple' in my_fruits"
     ],
     "language": "python",
     "metadata": {},
     "outputs": [
      {
       "output_type": "stream",
       "stream": "stdout",
       "text": [
        "True\n",
        "False\n"
       ]
      }
     ],
     "prompt_number": 10
    },
    {
     "cell_type": "code",
     "collapsed": false,
     "input": [
      "# functions\n",
      "print dir(my_fruits)"
     ],
     "language": "python",
     "metadata": {},
     "outputs": [
      {
       "output_type": "stream",
       "stream": "stdout",
       "text": [
        "['__class__', '__cmp__', '__contains__', '__delattr__', '__delitem__', '__doc__', '__eq__', '__format__', '__ge__', '__getattribute__', '__getitem__', '__gt__', '__hash__', '__init__', '__iter__', '__le__', '__len__', '__lt__', '__ne__', '__new__', '__reduce__', '__reduce_ex__', '__repr__', '__setattr__', '__setitem__', '__sizeof__', '__str__', '__subclasshook__', 'clear', 'copy', 'fromkeys', 'get', 'has_key', 'items', 'iteritems', 'iterkeys', 'itervalues', 'keys', 'pop', 'popitem', 'setdefault', 'update', 'values', 'viewitems', 'viewkeys', 'viewvalues']\n"
       ]
      }
     ],
     "prompt_number": 11
    },
    {
     "cell_type": "code",
     "collapsed": false,
     "input": [
      "# get\n",
      "print help(my_fruits.get)"
     ],
     "language": "python",
     "metadata": {},
     "outputs": [
      {
       "output_type": "stream",
       "stream": "stdout",
       "text": [
        "Help on built-in function get:\n",
        "\n",
        "get(...)\n",
        "    D.get(k[,d]) -> D[k] if k in D, else d.  d defaults to None.\n",
        "\n",
        "None\n"
       ]
      }
     ],
     "prompt_number": 12
    },
    {
     "cell_type": "code",
     "collapsed": false,
     "input": [
      "print my_fruits.get('a')\n",
      "print my_fruits.get('h')\n",
      "print my_fruits['a']"
     ],
     "language": "python",
     "metadata": {},
     "outputs": [
      {
       "output_type": "stream",
       "stream": "stdout",
       "text": [
        "apple\n",
        "None\n",
        "apple\n"
       ]
      }
     ],
     "prompt_number": 15
    },
    {
     "cell_type": "code",
     "collapsed": false,
     "input": [
      "# has_key\n",
      "print help(my_fruits.has_key)"
     ],
     "language": "python",
     "metadata": {},
     "outputs": [
      {
       "output_type": "stream",
       "stream": "stdout",
       "text": [
        "Help on built-in function has_key:\n",
        "\n",
        "has_key(...)\n",
        "    D.has_key(k) -> True if D has a key k, else False\n",
        "\n",
        "None\n"
       ]
      }
     ],
     "prompt_number": 16
    },
    {
     "cell_type": "code",
     "collapsed": false,
     "input": [
      "print my_fruits.has_key('a')\n",
      "print my_fruits.has_key('apple')\n",
      "print 'a' in my_fruits\n",
      "print 'apple' in my_fruits"
     ],
     "language": "python",
     "metadata": {},
     "outputs": [
      {
       "output_type": "stream",
       "stream": "stdout",
       "text": [
        "True\n",
        "False\n",
        "True\n",
        "False\n"
       ]
      }
     ],
     "prompt_number": 19
    },
    {
     "cell_type": "code",
     "collapsed": false,
     "input": [
      "# keys,iterkeys,viewkeys\n",
      "\n",
      "# keys\n",
      "print help(my_fruits.keys)\n",
      "print my_fruits.keys()"
     ],
     "language": "python",
     "metadata": {},
     "outputs": [
      {
       "output_type": "stream",
       "stream": "stdout",
       "text": [
        "Help on built-in function keys:\n",
        "\n",
        "keys(...)\n",
        "    D.keys() -> list of D's keys\n",
        "\n",
        "None\n",
        "['a', 2, 'c', 'b', 'd']\n"
       ]
      }
     ],
     "prompt_number": 21
    },
    {
     "cell_type": "code",
     "collapsed": false,
     "input": [
      "# iterkeys\n",
      "print help(my_fruits.iterkeys)\n",
      "print my_fruits.iterkeys()\n",
      "for key in my_fruits.iterkeys():\n",
      "    print key"
     ],
     "language": "python",
     "metadata": {},
     "outputs": [
      {
       "output_type": "stream",
       "stream": "stdout",
       "text": [
        "Help on built-in function iterkeys:\n",
        "\n",
        "iterkeys(...)\n",
        "    D.iterkeys() -> an iterator over the keys of D\n",
        "\n",
        "None\n",
        "<dictionary-keyiterator object at 0x7f2e68532628>\n",
        "a\n",
        "2\n",
        "c\n",
        "b\n",
        "d\n"
       ]
      }
     ],
     "prompt_number": 23
    },
    {
     "cell_type": "code",
     "collapsed": false,
     "input": [
      "# viewkeys\n",
      "print help(my_fruits.viewkeys)\n",
      "print my_fruits.viewkeys()"
     ],
     "language": "python",
     "metadata": {},
     "outputs": [
      {
       "output_type": "stream",
       "stream": "stdout",
       "text": [
        "Help on built-in function viewkeys:\n",
        "\n",
        "viewkeys(...)\n",
        "    D.viewkeys() -> a set-like object providing a view on D's keys\n",
        "\n",
        "None\n",
        "dict_keys(['a', 2, 'c', 'b', 'd'])\n"
       ]
      }
     ],
     "prompt_number": 24
    },
    {
     "cell_type": "code",
     "collapsed": false,
     "input": [
      "# values,itervalues,viewvalue\n",
      "# values\n",
      "print my_fruits\n",
      "print help(my_fruits.values)\n",
      "print my_fruits.values()"
     ],
     "language": "python",
     "metadata": {},
     "outputs": [
      {
       "output_type": "stream",
       "stream": "stdout",
       "text": [
        "{'a': 'apple', 2: 'twenty', 'b': 'banana', 'd': 'dates', 'g': ['grapes', 'guava'], 'c': 'cherry'}\n",
        "Help on built-in function values:\n",
        "\n",
        "values(...)\n",
        "    D.values() -> list of D's values\n",
        "\n",
        "None\n",
        "['apple', 'twenty', 'banana', 'dates', ['grapes', 'guava'], 'cherry']\n"
       ]
      }
     ],
     "prompt_number": 28
    },
    {
     "cell_type": "code",
     "collapsed": false,
     "input": [
      "# itervalues\n",
      "print help(my_fruits.itervalues)\n",
      "print my_fruits.itervalues()"
     ],
     "language": "python",
     "metadata": {},
     "outputs": [
      {
       "output_type": "stream",
       "stream": "stdout",
       "text": [
        "Help on built-in function itervalues:\n",
        "\n",
        "itervalues(...)\n",
        "    D.itervalues() -> an iterator over the values of D\n",
        "\n",
        "None\n",
        "<dictionary-valueiterator object at 0x7f2e68532940>\n"
       ]
      }
     ],
     "prompt_number": 29
    },
    {
     "cell_type": "code",
     "collapsed": false,
     "input": [
      "# viewvalues\n",
      "print help(my_fruits.viewvalues)\n",
      "print my_fruits.viewvalues()"
     ],
     "language": "python",
     "metadata": {},
     "outputs": [
      {
       "output_type": "stream",
       "stream": "stdout",
       "text": [
        "Help on built-in function viewvalues:\n",
        "\n",
        "viewvalues(...)\n",
        "    D.viewvalues() -> an object providing a view on D's values\n",
        "\n",
        "None\n",
        "dict_values(['apple', 'twenty', 'banana', 'dates', ['grapes', 'guava'], 'cherry'])\n"
       ]
      }
     ],
     "prompt_number": 30
    },
    {
     "cell_type": "code",
     "collapsed": false,
     "input": [
      "# items,iteritems,viewitems"
     ],
     "language": "python",
     "metadata": {},
     "outputs": [],
     "prompt_number": 31
    },
    {
     "cell_type": "code",
     "collapsed": false,
     "input": [
      "# items\n",
      "print help(my_fruits.items)\n",
      "print my_fruits.items()"
     ],
     "language": "python",
     "metadata": {},
     "outputs": [
      {
       "output_type": "stream",
       "stream": "stdout",
       "text": [
        "Help on built-in function items:\n",
        "\n",
        "items(...)\n",
        "    D.items() -> list of D's (key, value) pairs, as 2-tuples\n",
        "\n",
        "None\n",
        "[('a', 'apple'), (2, 'twenty'), ('b', 'banana'), ('d', 'dates'), ('g', ['grapes', 'guava']), ('c', 'cherry')]\n"
       ]
      }
     ],
     "prompt_number": 32
    },
    {
     "cell_type": "code",
     "collapsed": false,
     "input": [
      "# iteritems\n",
      "print help(my_fruits.iteritems)\n",
      "print my_fruits.iteritems()"
     ],
     "language": "python",
     "metadata": {},
     "outputs": [
      {
       "output_type": "stream",
       "stream": "stdout",
       "text": [
        "Help on built-in function iteritems:\n",
        "\n",
        "iteritems(...)\n",
        "    D.iteritems() -> an iterator over the (key, value) items of D\n",
        "\n",
        "None\n",
        "<dictionary-itemiterator object at 0x7f2e68532ba8>\n"
       ]
      }
     ],
     "prompt_number": 33
    },
    {
     "cell_type": "code",
     "collapsed": false,
     "input": [
      "# viewitems\n",
      "print help(my_fruits.viewitems)\n",
      "print my_fruits.viewitems()"
     ],
     "language": "python",
     "metadata": {},
     "outputs": [
      {
       "output_type": "stream",
       "stream": "stdout",
       "text": [
        "Help on built-in function viewitems:\n",
        "\n",
        "viewitems(...)\n",
        "    D.viewitems() -> a set-like object providing a view on D's items\n",
        "\n",
        "None\n",
        "dict_items([('a', 'apple'), (2, 'twenty'), ('b', 'banana'), ('d', 'dates'), ('g', ['grapes', 'guava']), ('c', 'cherry')])\n"
       ]
      }
     ],
     "prompt_number": 34
    },
    {
     "cell_type": "code",
     "collapsed": false,
     "input": [
      "#'clear', 'copy', 'fromkeys','pop', 'popitem', 'setdefault', 'update'"
     ],
     "language": "python",
     "metadata": {},
     "outputs": [],
     "prompt_number": 2
    },
    {
     "cell_type": "code",
     "collapsed": false,
     "input": [
      "#update\n",
      "print help(my_fruits.update)"
     ],
     "language": "python",
     "metadata": {},
     "outputs": [
      {
       "output_type": "stream",
       "stream": "stdout",
       "text": [
        "Help on built-in function update:\n",
        "\n",
        "update(...)\n",
        "    D.update([E, ]**F) -> None.  Update D from dict/iterable E and F.\n",
        "    If E present and has a .keys() method, does:     for k in E: D[k] = E[k]\n",
        "    If E present and lacks .keys() method, does:     for (k, v) in E: D[k] = v\n",
        "    In either case, this is followed by: for k in F: D[k] = F[k]\n",
        "\n",
        "None\n"
       ]
      }
     ],
     "prompt_number": 3
    },
    {
     "cell_type": "code",
     "collapsed": false,
     "input": [
      "print my_fruits"
     ],
     "language": "python",
     "metadata": {},
     "outputs": [
      {
       "output_type": "stream",
       "stream": "stdout",
       "text": [
        "{'a': 'apple', 2: 'twenty', 'c': 'cherry', 'b': 'banana', 'd': 'dates'}\n"
       ]
      }
     ],
     "prompt_number": 4
    },
    {
     "cell_type": "code",
     "collapsed": false,
     "input": [
      "my_fruits.update({3:'thirty',4:'fourty','5':'fifty'})"
     ],
     "language": "python",
     "metadata": {},
     "outputs": [],
     "prompt_number": 5
    },
    {
     "cell_type": "code",
     "collapsed": false,
     "input": [
      "print my_fruits"
     ],
     "language": "python",
     "metadata": {},
     "outputs": [
      {
       "output_type": "stream",
       "stream": "stdout",
       "text": [
        "{'a': 'apple', 2: 'twenty', 'b': 'banana', 4: 'fourty', 'd': 'dates', 'c': 'cherry', 3: 'thirty', '5': 'fifty'}\n"
       ]
      }
     ],
     "prompt_number": 6
    },
    {
     "cell_type": "code",
     "collapsed": false,
     "input": [
      "# 'setdefault'\n",
      "print help(my_fruits.setdefault)\n",
      "print my_fruits.setdefault??"
     ],
     "language": "python",
     "metadata": {},
     "outputs": [
      {
       "output_type": "stream",
       "stream": "stdout",
       "text": [
        "Help on built-in function setdefault:\n",
        "\n",
        "setdefault(...)\n",
        "    D.setdefault(k[,d]) -> D.get(k,d), also set D[k]=d if k not in D\n",
        "\n",
        "None\n"
       ]
      }
     ],
     "prompt_number": 10
    },
    {
     "cell_type": "code",
     "collapsed": false,
     "input": [
      "print my_fruits.setdefault"
     ],
     "language": "python",
     "metadata": {},
     "outputs": []
    },
    {
     "cell_type": "code",
     "collapsed": false,
     "input": [
      "my_fruits.setdefault('a',['apple','apricot'])\n",
      "# my_fruits['a']=['apple','apricot']"
     ],
     "language": "python",
     "metadata": {},
     "outputs": [
      {
       "metadata": {},
       "output_type": "pyout",
       "prompt_number": 13,
       "text": [
        "'apple'"
       ]
      }
     ],
     "prompt_number": 13
    },
    {
     "cell_type": "code",
     "collapsed": false,
     "input": [
      "print my_fruits"
     ],
     "language": "python",
     "metadata": {},
     "outputs": [
      {
       "output_type": "stream",
       "stream": "stdout",
       "text": [
        "{'a': 'apple', 2: 'twenty', 'b': 'banana', 4: 'fourty', 'd': 'dates', 'c': 'cherry', 3: 'thirty', '5': 'fifty'}\n"
       ]
      }
     ],
     "prompt_number": 9
    },
    {
     "cell_type": "code",
     "collapsed": false,
     "input": [
      "my_fruits.setdefault('j','jackfruit')\n",
      "print my_fruits"
     ],
     "language": "python",
     "metadata": {},
     "outputs": [
      {
       "output_type": "stream",
       "stream": "stdout",
       "text": [
        "{'a': 'apple', 2: 'twenty', 'b': 'banana', 4: 'fourty', 'd': 'dates', 'j': 'jackfruit', 'c': 'cherry', 3: 'thirty', '5': 'fifty'}\n"
       ]
      }
     ],
     "prompt_number": 11
    },
    {
     "cell_type": "code",
     "collapsed": false,
     "input": [
      "my_fruits.setdefault('j')\n",
      "# my_fruits['j'] = 'jackfruit'"
     ],
     "language": "python",
     "metadata": {},
     "outputs": [
      {
       "metadata": {},
       "output_type": "pyout",
       "prompt_number": 12,
       "text": [
        "'jackfruit'"
       ]
      }
     ],
     "prompt_number": 12
    },
    {
     "cell_type": "code",
     "collapsed": false,
     "input": [
      "my_fruits.setdefault('j','jamun')"
     ],
     "language": "python",
     "metadata": {},
     "outputs": [
      {
       "metadata": {},
       "output_type": "pyout",
       "prompt_number": 14,
       "text": [
        "'jackfruit'"
       ]
      }
     ],
     "prompt_number": 14
    },
    {
     "cell_type": "code",
     "collapsed": false,
     "input": [
      "print my_fruits"
     ],
     "language": "python",
     "metadata": {},
     "outputs": [
      {
       "output_type": "stream",
       "stream": "stdout",
       "text": [
        "{'a': 'apple', 2: 'twenty', 'b': 'banana', 4: 'fourty', 'd': 'dates', 'j': 'jackfruit', 'c': 'cherry', 3: 'thirty', '5': 'fifty'}\n"
       ]
      }
     ],
     "prompt_number": 15
    },
    {
     "cell_type": "code",
     "collapsed": false,
     "input": [
      "# user\n",
      "my_employee={'labor':500,'manager':50000}\n",
      "my_oracle={}\n",
      "my_oracle.setdefault('kumar',my_employee.setdefault('labor'))\n",
      "my_oracle.setdefault('sai',my_employee.setdefault('labor'))\n",
      "my_oracle.setdefault('ansh',my_employee.setdefault('manager'))\n",
      "print my_oracle"
     ],
     "language": "python",
     "metadata": {},
     "outputs": [
      {
       "output_type": "stream",
       "stream": "stdout",
       "text": [
        "{'ansh': 50000, 'kumar': 500, 'sai': 500}\n"
       ]
      }
     ],
     "prompt_number": 18
    },
    {
     "cell_type": "code",
     "collapsed": false,
     "input": [
      "#'fromkeys'\n",
      "print help(my_fruits.fromkeys)"
     ],
     "language": "python",
     "metadata": {},
     "outputs": [
      {
       "output_type": "stream",
       "stream": "stdout",
       "text": [
        "Help on built-in function fromkeys:\n",
        "\n",
        "fromkeys(...)\n",
        "    dict.fromkeys(S[,v]) -> New dict with keys from S and values equal to v.\n",
        "    v defaults to None.\n",
        "\n",
        "None\n"
       ]
      }
     ],
     "prompt_number": 19
    },
    {
     "cell_type": "code",
     "collapsed": false,
     "input": [
      "my_new={}\n",
      "print my_fruits\n",
      "my_new.fromkeys(my_fruits,10)"
     ],
     "language": "python",
     "metadata": {},
     "outputs": [
      {
       "output_type": "stream",
       "stream": "stdout",
       "text": [
        "{'a': 'apple', 2: 'twenty', 'b': 'banana', 4: 'fourty', 'd': 'dates', 'j': 'jackfruit', 'c': 'cherry', 3: 'thirty', '5': 'fifty'}\n"
       ]
      },
      {
       "metadata": {},
       "output_type": "pyout",
       "prompt_number": 21,
       "text": [
        "{2: 10, 3: 10, 4: 10, '5': 10, 'a': 10, 'b': 10, 'c': 10, 'd': 10, 'j': 10}"
       ]
      }
     ],
     "prompt_number": 21
    },
    {
     "cell_type": "code",
     "collapsed": false,
     "input": [
      "#'pop', 'popitem'\n",
      "print help(my_fruits.pop)"
     ],
     "language": "python",
     "metadata": {},
     "outputs": [
      {
       "output_type": "stream",
       "stream": "stdout",
       "text": [
        "Help on built-in function pop:\n",
        "\n",
        "pop(...)\n",
        "    D.pop(k[,d]) -> v, remove specified key and return the corresponding value.\n",
        "    If key is not found, d is returned if given, otherwise KeyError is raised\n",
        "\n",
        "None\n"
       ]
      }
     ],
     "prompt_number": 22
    },
    {
     "cell_type": "code",
     "collapsed": false,
     "input": [
      "print my_fruits\n",
      "my_fruits.pop(2)"
     ],
     "language": "python",
     "metadata": {},
     "outputs": [
      {
       "output_type": "stream",
       "stream": "stdout",
       "text": [
        "{'a': 'apple', 2: 'twenty', 'b': 'banana', 4: 'fourty', 'd': 'dates', 'j': 'jackfruit', 'c': 'cherry', 3: 'thirty', '5': 'fifty'}\n"
       ]
      },
      {
       "metadata": {},
       "output_type": "pyout",
       "prompt_number": 24,
       "text": [
        "'twenty'"
       ]
      }
     ],
     "prompt_number": 24
    },
    {
     "cell_type": "code",
     "collapsed": false,
     "input": [
      "print my_fruits\n",
      "my_fruits.pop(2)"
     ],
     "language": "python",
     "metadata": {},
     "outputs": [
      {
       "output_type": "stream",
       "stream": "stdout",
       "text": [
        "{'a': 'apple', 'b': 'banana', 4: 'fourty', 'd': 'dates', 'j': 'jackfruit', 'c': 'cherry', 3: 'thirty', '5': 'fifty'}\n"
       ]
      },
      {
       "ename": "KeyError",
       "evalue": "2",
       "output_type": "pyerr",
       "traceback": [
        "\u001b[0;31m---------------------------------------------------------------------------\u001b[0m\n\u001b[0;31mKeyError\u001b[0m                                  Traceback (most recent call last)",
        "\u001b[0;32m<ipython-input-25-4a51d03bd8ae>\u001b[0m in \u001b[0;36m<module>\u001b[0;34m()\u001b[0m\n\u001b[1;32m      1\u001b[0m \u001b[0;32mprint\u001b[0m \u001b[0mmy_fruits\u001b[0m\u001b[0;34m\u001b[0m\u001b[0m\n\u001b[0;32m----> 2\u001b[0;31m \u001b[0mmy_fruits\u001b[0m\u001b[0;34m.\u001b[0m\u001b[0mpop\u001b[0m\u001b[0;34m(\u001b[0m\u001b[0;36m2\u001b[0m\u001b[0;34m)\u001b[0m\u001b[0;34m\u001b[0m\u001b[0m\n\u001b[0m",
        "\u001b[0;31mKeyError\u001b[0m: 2"
       ]
      }
     ],
     "prompt_number": 25
    },
    {
     "cell_type": "code",
     "collapsed": false,
     "input": [
      "# del\n",
      "del(my_fruits[3])"
     ],
     "language": "python",
     "metadata": {},
     "outputs": [],
     "prompt_number": 28
    },
    {
     "cell_type": "code",
     "collapsed": false,
     "input": [
      "print my_fruits"
     ],
     "language": "python",
     "metadata": {},
     "outputs": [
      {
       "output_type": "stream",
       "stream": "stdout",
       "text": [
        "{'a': 'apple', 'b': 'banana', 4: 'fourty', 'd': 'dates', 'j': 'jackfruit', 'c': 'cherry', '5': 'fifty'}\n"
       ]
      }
     ],
     "prompt_number": 29
    },
    {
     "cell_type": "code",
     "collapsed": false,
     "input": [
      "del(my_fruits[3])"
     ],
     "language": "python",
     "metadata": {},
     "outputs": [
      {
       "ename": "KeyError",
       "evalue": "3",
       "output_type": "pyerr",
       "traceback": [
        "\u001b[0;31m---------------------------------------------------------------------------\u001b[0m\n\u001b[0;31mKeyError\u001b[0m                                  Traceback (most recent call last)",
        "\u001b[0;32m<ipython-input-30-c99105937e48>\u001b[0m in \u001b[0;36m<module>\u001b[0;34m()\u001b[0m\n\u001b[0;32m----> 1\u001b[0;31m \u001b[0;32mdel\u001b[0m\u001b[0;34m(\u001b[0m\u001b[0mmy_fruits\u001b[0m\u001b[0;34m[\u001b[0m\u001b[0;36m3\u001b[0m\u001b[0;34m]\u001b[0m\u001b[0;34m)\u001b[0m\u001b[0;34m\u001b[0m\u001b[0m\n\u001b[0m",
        "\u001b[0;31mKeyError\u001b[0m: 3"
       ]
      }
     ],
     "prompt_number": 30
    },
    {
     "cell_type": "code",
     "collapsed": false,
     "input": [
      "# popitem\n",
      "print help(my_fruits.popitem)"
     ],
     "language": "python",
     "metadata": {},
     "outputs": [
      {
       "output_type": "stream",
       "stream": "stdout",
       "text": [
        "Help on built-in function popitem:\n",
        "\n",
        "popitem(...)\n",
        "    D.popitem() -> (k, v), remove and return some (key, value) pair as a\n",
        "    2-tuple; but raise KeyError if D is empty.\n",
        "\n",
        "None\n"
       ]
      }
     ],
     "prompt_number": 31
    },
    {
     "cell_type": "code",
     "collapsed": false,
     "input": [
      "my_fruits.popitem()"
     ],
     "language": "python",
     "metadata": {},
     "outputs": [
      {
       "metadata": {},
       "output_type": "pyout",
       "prompt_number": 32,
       "text": [
        "('a', 'apple')"
       ]
      }
     ],
     "prompt_number": 32
    },
    {
     "cell_type": "code",
     "collapsed": false,
     "input": [
      "# copy - shallow copy"
     ],
     "language": "python",
     "metadata": {},
     "outputs": [],
     "prompt_number": 33
    },
    {
     "cell_type": "code",
     "collapsed": false,
     "input": [
      "print help(my_fruits.copy)"
     ],
     "language": "python",
     "metadata": {},
     "outputs": [
      {
       "output_type": "stream",
       "stream": "stdout",
       "text": [
        "Help on built-in function copy:\n",
        "\n",
        "copy(...)\n",
        "    D.copy() -> a shallow copy of D\n",
        "\n",
        "None\n"
       ]
      }
     ],
     "prompt_number": 34
    },
    {
     "cell_type": "code",
     "collapsed": false,
     "input": [
      "new_fruits = my_fruits.copy()\n",
      "print new_fruits\n",
      "print new_fruits is my_fruits"
     ],
     "language": "python",
     "metadata": {},
     "outputs": [
      {
       "output_type": "stream",
       "stream": "stdout",
       "text": [
        "{'c': 'cherry', 'b': 'banana', 4: 'fourty', 'd': 'dates', '5': 'fifty', 'j': 'jackfruit'}\n",
        "False\n"
       ]
      }
     ],
     "prompt_number": 42
    },
    {
     "cell_type": "code",
     "collapsed": false,
     "input": [
      "# shallow copy"
     ],
     "language": "python",
     "metadata": {},
     "outputs": [],
     "prompt_number": 35
    },
    {
     "cell_type": "code",
     "collapsed": false,
     "input": [
      "a = [1,2,3]\n",
      "b = [4,5,6]\n",
      "print id(a),id(b)\n",
      "print a,b"
     ],
     "language": "python",
     "metadata": {},
     "outputs": [
      {
       "output_type": "stream",
       "stream": "stdout",
       "text": [
        "139904227034464 139904227034608\n",
        "[1, 2, 3] [4, 5, 6]\n"
       ]
      }
     ],
     "prompt_number": 36
    },
    {
     "cell_type": "code",
     "collapsed": false,
     "input": [
      "# complex object\n",
      "cob = [a,b]\n",
      "print cob,cob[0],cob[1]\n",
      "print id(cob),id(cob[0]),id(cob[1])"
     ],
     "language": "python",
     "metadata": {},
     "outputs": [
      {
       "output_type": "stream",
       "stream": "stdout",
       "text": [
        "[[1, 2, 3], [4, 5, 6]] [1, 2, 3] [4, 5, 6]\n",
        "139904227034752 139904227034464 139904227034608\n"
       ]
      }
     ],
     "prompt_number": 37
    },
    {
     "cell_type": "code",
     "collapsed": false,
     "input": [
      "# soft copy\n",
      "soc = cob\n",
      "print id(cob),id(cob[0]),id(cob[1])\n",
      "print id(soc),id(soc[0]),id(soc[1])"
     ],
     "language": "python",
     "metadata": {},
     "outputs": [
      {
       "output_type": "stream",
       "stream": "stdout",
       "text": [
        "139904227034752 139904227034464 139904227034608\n",
        "139904227034752 139904227034464 139904227034608\n"
       ]
      }
     ],
     "prompt_number": 38
    },
    {
     "cell_type": "code",
     "collapsed": false,
     "input": [
      "# deep copy\n",
      "import copy\n",
      "doc = copy.deepcopy(cob)\n",
      "print id(cob),id(cob[0]),id(cob[1])\n",
      "print id(doc),id(doc[0]),id(doc[1])"
     ],
     "language": "python",
     "metadata": {},
     "outputs": [
      {
       "output_type": "stream",
       "stream": "stdout",
       "text": [
        "139904227034752 139904227034464 139904227034608\n",
        "139904278705504 139904278704784 139904278785200\n"
       ]
      }
     ],
     "prompt_number": 39
    },
    {
     "cell_type": "code",
     "collapsed": false,
     "input": [
      "# shallow copy\n",
      "import copy\n",
      "shc = copy.copy(cob)\n",
      "print id(cob),id(cob[0]),id(cob[1])\n",
      "print id(shc),id(shc[0]),id(shc[1])\n",
      "print \"-\" * 15,id(a),id(b)"
     ],
     "language": "python",
     "metadata": {},
     "outputs": [
      {
       "output_type": "stream",
       "stream": "stdout",
       "text": [
        "139904227034752 139904227034464 139904227034608\n",
        "139904212583200 139904227034464 139904227034608\n",
        "--------------- 139904227034464 139904227034608\n"
       ]
      }
     ],
     "prompt_number": 41
    },
    {
     "cell_type": "code",
     "collapsed": false,
     "input": [
      "# clear\n",
      "print help(my_fruits.clear)"
     ],
     "language": "python",
     "metadata": {},
     "outputs": [
      {
       "output_type": "stream",
       "stream": "stdout",
       "text": [
        "Help on built-in function clear:\n",
        "\n",
        "clear(...)\n",
        "    D.clear() -> None.  Remove all items from D.\n",
        "\n",
        "None\n"
       ]
      }
     ],
     "prompt_number": 43
    },
    {
     "cell_type": "code",
     "collapsed": false,
     "input": [
      "my_fruits.clear()\n",
      "print my_fruits"
     ],
     "language": "python",
     "metadata": {},
     "outputs": [
      {
       "output_type": "stream",
       "stream": "stdout",
       "text": [
        "{}\n"
       ]
      }
     ],
     "prompt_number": 44
    },
    {
     "cell_type": "code",
     "collapsed": false,
     "input": [],
     "language": "python",
     "metadata": {},
     "outputs": []
    }
   ],
   "metadata": {}
  }
 ]
}