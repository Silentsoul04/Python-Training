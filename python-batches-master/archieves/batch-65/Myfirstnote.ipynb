{
 "metadata": {
  "name": "",
  "signature": "sha256:15f2a59c11fd07ac360b5d421b0b697e85e365eb9cc1d9cdb977937c0b64d16c"
 },
 "nbformat": 3,
 "nbformat_minor": 0,
 "worksheets": []
}