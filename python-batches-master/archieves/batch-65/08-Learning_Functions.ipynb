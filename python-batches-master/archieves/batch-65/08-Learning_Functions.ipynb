{
 "cells": [
  {
   "cell_type": "code",
   "execution_count": null,
   "metadata": {},
   "outputs": [],
   "source": [
    "# function\n",
    "# A function is a block of code which can be called n number of times.\n",
    "# "
   ]
  },
  {
   "cell_type": "code",
   "execution_count": 1,
   "metadata": {},
   "outputs": [],
   "source": [
    "# function start with a 'def' keyword\n",
    "# function returns a value\n",
    "# Your function return a None if there is no value to return.if not it returns a value.\n",
    "def my_func():\n",
    "    print \"hello!! world\""
   ]
  },
  {
   "cell_type": "code",
   "execution_count": 4,
   "metadata": {},
   "outputs": [
    {
     "name": "stdout",
     "output_type": "stream",
     "text": [
      "<function my_func at 0x7f5bac115f50> <type 'function'>\n",
      "hello!! world\n",
      "None\n"
     ]
    },
    {
     "data": {
      "text/plain": [
       "<function __main__.my_func>"
      ]
     },
     "execution_count": 4,
     "metadata": {},
     "output_type": "execute_result"
    }
   ],
   "source": [
    "print my_func,type(my_func)\n",
    "print my_func()\n",
    "my_func"
   ]
  },
  {
   "cell_type": "code",
   "execution_count": 5,
   "metadata": {},
   "outputs": [],
   "source": [
    "# return is not a print value.\n",
    "# return marks the end of the function.\n",
    "def my_func():\n",
    "    return \"hello!!! world\""
   ]
  },
  {
   "cell_type": "code",
   "execution_count": 6,
   "metadata": {},
   "outputs": [
    {
     "name": "stdout",
     "output_type": "stream",
     "text": [
      "hello!!! world\n"
     ]
    }
   ],
   "source": [
    "print my_func()"
   ]
  },
  {
   "cell_type": "code",
   "execution_count": 7,
   "metadata": {},
   "outputs": [],
   "source": [
    "# return marks the end of the function.\n",
    "# how many return values can we have in a function ? n number provided we have conditions.\n",
    "def my_func():\n",
    "    return \"hello!!! world\"\n",
    "    print \"line1\"\n",
    "    print \"line2\"\n",
    "    print \"line3\""
   ]
  },
  {
   "cell_type": "code",
   "execution_count": 8,
   "metadata": {},
   "outputs": [
    {
     "name": "stdout",
     "output_type": "stream",
     "text": [
      "hello!!! world\n"
     ]
    }
   ],
   "source": [
    "print my_func()"
   ]
  },
  {
   "cell_type": "code",
   "execution_count": 9,
   "metadata": {},
   "outputs": [],
   "source": [
    "def my_func():\n",
    "    print \"line1\"\n",
    "    print \"line2\"\n",
    "    print \"line3\"\n",
    "    return \"hello!!! world\"\n"
   ]
  },
  {
   "cell_type": "code",
   "execution_count": 10,
   "metadata": {},
   "outputs": [
    {
     "name": "stdout",
     "output_type": "stream",
     "text": [
      "line1\n",
      "line2\n",
      "line3\n",
      "hello!!! world\n"
     ]
    }
   ],
   "source": [
    "print my_func()"
   ]
  },
  {
   "cell_type": "code",
   "execution_count": 14,
   "metadata": {},
   "outputs": [],
   "source": [
    "# namespaces or local and global variables\n",
    "# Any value you define within a function is restricted to the local namespace.\n",
    "# there is no syntax which can get that value for you.\n",
    "# locals() - inbuild function.\n",
    "# value x is only available during the runtime of the function.\n",
    "def my_func():\n",
    "    x = 10\n",
    "    print locals()\n",
    "    return x"
   ]
  },
  {
   "cell_type": "code",
   "execution_count": 15,
   "metadata": {},
   "outputs": [
    {
     "name": "stdout",
     "output_type": "stream",
     "text": [
      "{'x': 10}\n",
      "10\n"
     ]
    }
   ],
   "source": [
    "print my_func() # 10"
   ]
  },
  {
   "cell_type": "code",
   "execution_count": 13,
   "metadata": {},
   "outputs": [
    {
     "ename": "NameError",
     "evalue": "name 'x' is not defined",
     "output_type": "error",
     "traceback": [
      "\u001b[0;31m---------------------------------------------------------------------------\u001b[0m\n\u001b[0;31mNameError\u001b[0m                                 Traceback (most recent call last)",
      "\u001b[0;32m<ipython-input-13-9e0b17f1da3b>\u001b[0m in \u001b[0;36m<module>\u001b[0;34m()\u001b[0m\n\u001b[0;32m----> 1\u001b[0;31m \u001b[0;32mprint\u001b[0m \u001b[0mx\u001b[0m \u001b[0;31m# None,x,10,error\u001b[0m\u001b[0;34m\u001b[0m\u001b[0m\n\u001b[0m",
      "\u001b[0;31mNameError\u001b[0m: name 'x' is not defined"
     ]
    }
   ],
   "source": [
    "print x # None,x,10,error"
   ]
  },
  {
   "cell_type": "code",
   "execution_count": null,
   "metadata": {},
   "outputs": [],
   "source": [
    "# global variables\n",
    "#  If you local variables are not there your function looks into the global namespaces.\n",
    "\n",
    "In [1]: y = 10\n",
    "\n",
    "In [2]: def my_func():\n",
    "   ...:     print locals()\n",
    "   ...:     return y\n",
    "   ...: \n",
    "\n",
    "In [3]: print my_func() # 10\n",
    "{}\n",
    "10\n",
    "\n",
    "In [5]: globals()\n",
    "Out[5]: \n",
    "{'In': ['',\n",
    "  u'y = 10',\n",
    "  u'def my_func():\\n    print locals()\\n    return y',\n",
    "  u'print my_func() # 10',\n",
    "  u'print globals()',\n",
    "  u'globals()'],\n",
    " 'Out': {},\n",
    " '_': '',\n",
    " '__': '',\n",
    " '___': '',\n",
    " '__builtin__': <module '__builtin__' (built-in)>,\n",
    " '__builtins__': <module '__builtin__' (built-in)>,\n",
    " '__doc__': 'Automatically created module for IPython interactive environment',\n",
    " '__name__': '__main__',\n",
    " '_dh': [u'/home/khyaathi/Documents/git_repos/python-batches/batch-65'],\n",
    " '_i': u'print globals()',\n",
    " '_i1': u'y = 10',\n",
    " '_i2': u'def my_func():\\n    print locals()\\n    return y',\n",
    " '_i3': u'print my_func() # 10',\n",
    " '_i4': u'print globals()',\n",
    " '_i5': u'globals()',\n",
    " '_ih': ['',\n",
    "  u'y = 10',\n",
    "  u'def my_func():\\n    print locals()\\n    return y',\n",
    "  u'print my_func() # 10',\n",
    "  u'print globals()',\n",
    "  u'globals()'],\n",
    " '_ii': u'print my_func() # 10',\n",
    " '_iii': u'def my_func():\\n    print locals()\\n    return y',\n",
    " '_oh': {},\n",
    " '_sh': <module 'IPython.core.shadowns' from '/usr/lib/python2.7/dist-packages/IPython/core/shadowns.pyc'>,\n",
    " 'exit': <IPython.core.autocall.ExitAutocall at 0x7fe679b02550>,\n",
    " 'get_ipython': <bound method TerminalInteractiveShell.get_ipython of <IPython.terminal.interactiveshell.TerminalInteractiveShell object at 0x7fe67a449a10>>,\n",
    " 'my_func': <function __main__.my_func>,\n",
    " 'quit': <IPython.core.autocall.ExitAutocall at 0x7fe679b02550>,\n",
    " 'y': 10}\n"
   ]
  },
  {
   "cell_type": "code",
   "execution_count": 16,
   "metadata": {},
   "outputs": [
    {
     "name": "stdout",
     "output_type": "stream",
     "text": [
      "{'y': 2}\n",
      "2\n",
      "10\n"
     ]
    }
   ],
   "source": [
    "# local variables are given higher priority then global variable.\n",
    "y = 10\n",
    "def my_func():\n",
    "    y = 2\n",
    "    print locals()\n",
    "    return y\n",
    "\n",
    "print my_func() # 2,2 \n",
    "print y # (2,10),10"
   ]
  },
  {
   "cell_type": "code",
   "execution_count": null,
   "metadata": {},
   "outputs": [],
   "source": [
    "# global keyword"
   ]
  },
  {
   "cell_type": "code",
   "execution_count": 17,
   "metadata": {},
   "outputs": [],
   "source": [
    "balance = 0\n",
    "\n",
    "def deposit():\n",
    "    balance = balance + 5000\n",
    "    return balance\n",
    "\n",
    "def withdraw():\n",
    "    balance = balance - 1000\n",
    "    return balance"
   ]
  },
  {
   "cell_type": "code",
   "execution_count": 18,
   "metadata": {},
   "outputs": [
    {
     "ename": "UnboundLocalError",
     "evalue": "local variable 'balance' referenced before assignment",
     "output_type": "error",
     "traceback": [
      "\u001b[0;31m---------------------------------------------------------------------------\u001b[0m\n\u001b[0;31mUnboundLocalError\u001b[0m                         Traceback (most recent call last)",
      "\u001b[0;32m<ipython-input-18-f63fab9016ab>\u001b[0m in \u001b[0;36m<module>\u001b[0;34m()\u001b[0m\n\u001b[0;32m----> 1\u001b[0;31m \u001b[0;32mprint\u001b[0m \u001b[0mdeposit\u001b[0m\u001b[0;34m(\u001b[0m\u001b[0;34m)\u001b[0m\u001b[0;34m\u001b[0m\u001b[0m\n\u001b[0m",
      "\u001b[0;32m<ipython-input-17-a75502b6cdfa>\u001b[0m in \u001b[0;36mdeposit\u001b[0;34m()\u001b[0m\n\u001b[1;32m      2\u001b[0m \u001b[0;34m\u001b[0m\u001b[0m\n\u001b[1;32m      3\u001b[0m \u001b[0;32mdef\u001b[0m \u001b[0mdeposit\u001b[0m\u001b[0;34m(\u001b[0m\u001b[0;34m)\u001b[0m\u001b[0;34m:\u001b[0m\u001b[0;34m\u001b[0m\u001b[0m\n\u001b[0;32m----> 4\u001b[0;31m     \u001b[0mbalance\u001b[0m \u001b[0;34m=\u001b[0m \u001b[0mbalance\u001b[0m \u001b[0;34m+\u001b[0m \u001b[0;36m5000\u001b[0m\u001b[0;34m\u001b[0m\u001b[0m\n\u001b[0m\u001b[1;32m      5\u001b[0m     \u001b[0;32mreturn\u001b[0m \u001b[0mbalance\u001b[0m\u001b[0;34m\u001b[0m\u001b[0m\n\u001b[1;32m      6\u001b[0m \u001b[0;34m\u001b[0m\u001b[0m\n",
      "\u001b[0;31mUnboundLocalError\u001b[0m: local variable 'balance' referenced before assignment"
     ]
    }
   ],
   "source": [
    "print deposit()"
   ]
  },
  {
   "cell_type": "code",
   "execution_count": 19,
   "metadata": {},
   "outputs": [],
   "source": [
    "# one of crazy solution\n",
    "\n",
    "def deposit():\n",
    "    balance = 0\n",
    "    balance = balance + 5000\n",
    "    return balance\n",
    "\n",
    "def withdraw():\n",
    "    balance=0\n",
    "    balance = balance - 1000\n",
    "    return balance"
   ]
  },
  {
   "cell_type": "code",
   "execution_count": 20,
   "metadata": {},
   "outputs": [
    {
     "name": "stdout",
     "output_type": "stream",
     "text": [
      "5000\n"
     ]
    }
   ],
   "source": [
    "# srikant\n",
    "# imps\n",
    "print deposit() # 5000"
   ]
  },
  {
   "cell_type": "code",
   "execution_count": 21,
   "metadata": {},
   "outputs": [
    {
     "name": "stdout",
     "output_type": "stream",
     "text": [
      "-1000\n"
     ]
    }
   ],
   "source": [
    "print withdraw()"
   ]
  },
  {
   "cell_type": "code",
   "execution_count": 41,
   "metadata": {},
   "outputs": [],
   "source": [
    "# exact solution\n",
    "\n",
    "balance=0\n",
    "\n",
    "def deposit():\n",
    "    global balance\n",
    "    print locals()\n",
    "    balance = balance + 5000\n",
    "    return balance\n",
    "\n",
    "def withdraw():\n",
    "    global balance\n",
    "    print locals()\n",
    "    balance = balance - 1000\n",
    "    return balance"
   ]
  },
  {
   "cell_type": "code",
   "execution_count": 42,
   "metadata": {},
   "outputs": [
    {
     "name": "stdout",
     "output_type": "stream",
     "text": [
      "{}\n",
      "5000\n"
     ]
    }
   ],
   "source": [
    "# srikant\n",
    "# imps\n",
    "print deposit() # 5000"
   ]
  },
  {
   "cell_type": "code",
   "execution_count": 43,
   "metadata": {},
   "outputs": [
    {
     "name": "stdout",
     "output_type": "stream",
     "text": [
      "{}\n",
      "4000\n"
     ]
    }
   ],
   "source": [
    "print withdraw()"
   ]
  },
  {
   "cell_type": "code",
   "execution_count": 44,
   "metadata": {},
   "outputs": [
    {
     "name": "stdout",
     "output_type": "stream",
     "text": [
      "4000\n"
     ]
    }
   ],
   "source": [
    "# pulling balance from global namespace\n",
    "print globals()['balance']"
   ]
  },
  {
   "cell_type": "code",
   "execution_count": null,
   "metadata": {},
   "outputs": [],
   "source": []
  }
 ],
 "metadata": {
  "kernelspec": {
   "display_name": "Python 2",
   "language": "python",
   "name": "python2"
  },
  "language_info": {
   "codemirror_mode": {
    "name": "ipython",
    "version": 2
   },
   "file_extension": ".py",
   "mimetype": "text/x-python",
   "name": "python",
   "nbconvert_exporter": "python",
   "pygments_lexer": "ipython2",
   "version": "2.7.12+"
  }
 },
 "nbformat": 4,
 "nbformat_minor": 1
}
