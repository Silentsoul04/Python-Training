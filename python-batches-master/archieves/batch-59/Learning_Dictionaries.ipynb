{
 "cells": [
  {
   "cell_type": "code",
   "execution_count": null,
   "metadata": {
    "collapsed": true
   },
   "outputs": [],
   "source": [
    "# Dictionaries\n",
    "# hashes,hash,dict \n",
    "# ssn,UIN\n",
    "# ABX123RTC : male,hyd,#301\n",
    "# ABX1IRCTC : female,hyd,#301\n",
    "# key : value\n",
    "# key - unique\n",
    "# value - repetative"
   ]
  },
  {
   "cell_type": "code",
   "execution_count": 1,
   "metadata": {
    "collapsed": false
   },
   "outputs": [
    {
     "name": "stdout",
     "output_type": "stream",
     "text": [
      "{'a': 'apple', 'c': 'cherry', 'b': 'banana', 'd': 'dates'} <type 'dict'>\n"
     ]
    }
   ],
   "source": [
    "my_fruits = {'a':'apple','b':'banana','c':'cherry','d':'dates'}\n",
    "print my_fruits,type(my_fruits)"
   ]
  },
  {
   "cell_type": "code",
   "execution_count": 2,
   "metadata": {
    "collapsed": false
   },
   "outputs": [
    {
     "name": "stdout",
     "output_type": "stream",
     "text": [
      "{} <type 'dict'>\n",
      "{} <type 'dict'>\n"
     ]
    }
   ],
   "source": [
    "my_empty = {}\n",
    "print my_empty,type(my_empty)\n",
    "my_empty = dict()\n",
    "print my_empty,type(my_empty)"
   ]
  },
  {
   "cell_type": "code",
   "execution_count": 3,
   "metadata": {
    "collapsed": false
   },
   "outputs": [
    {
     "name": "stdout",
     "output_type": "stream",
     "text": [
      "banana\n"
     ]
    }
   ],
   "source": [
    "# how to retrive an element from a dictionary\n",
    "print my_fruits['b']"
   ]
  },
  {
   "cell_type": "code",
   "execution_count": 5,
   "metadata": {
    "collapsed": false
   },
   "outputs": [
    {
     "name": "stdout",
     "output_type": "stream",
     "text": [
      "{'a': 'apple', 'c': 'cherry', 'b': 'brinjal', 'd': 'dates'}\n"
     ]
    }
   ],
   "source": [
    "# modify\n",
    "my_fruits['b']='brinjal'\n",
    "print my_fruits"
   ]
  },
  {
   "cell_type": "code",
   "execution_count": 6,
   "metadata": {
    "collapsed": false
   },
   "outputs": [
    {
     "name": "stdout",
     "output_type": "stream",
     "text": [
      "{'a': 'apple', 'c': 'cherry', 'b': 'brinjal', 'd': 'dates', 'f': 'figs'}\n"
     ]
    }
   ],
   "source": [
    "# adding a new key\n",
    "my_fruits['f']='figs'\n",
    "print my_fruits"
   ]
  },
  {
   "cell_type": "code",
   "execution_count": 10,
   "metadata": {
    "collapsed": false
   },
   "outputs": [
    {
     "name": "stdout",
     "output_type": "stream",
     "text": [
      "{'a': ['apple', 'avacado'], 'c': 'cherry', 'b': 'brinjal', 'd': 'dates', 'f': 'figs'}\n"
     ]
    }
   ],
   "source": [
    "my_fruits['a'] = ['apple','avacado']\n",
    "print my_fruits"
   ]
  },
  {
   "cell_type": "code",
   "execution_count": 8,
   "metadata": {
    "collapsed": false
   },
   "outputs": [
    {
     "name": "stdout",
     "output_type": "stream",
     "text": [
      "True\n",
      "False\n"
     ]
    }
   ],
   "source": [
    "# in operation\n",
    "# in operation works only on key in a dictionary.\n",
    "print 'a' in my_fruits\n",
    "print 'apple' in my_fruits"
   ]
  },
  {
   "cell_type": "code",
   "execution_count": 26,
   "metadata": {
    "collapsed": false
   },
   "outputs": [
    {
     "name": "stdout",
     "output_type": "stream",
     "text": [
      "key:a,value:['apple', 'avacado']\n",
      "key:c,value:cherry\n",
      "key:b,value:brinjal\n",
      "key:d,value:dates\n",
      "key:f,value:figs\n"
     ]
    }
   ],
   "source": [
    "# dictionary is an iterator\n",
    "for key in my_fruits:\n",
    "    print \"key:{},value:{}\".format(key,my_fruits[key])"
   ]
  },
  {
   "cell_type": "code",
   "execution_count": null,
   "metadata": {
    "collapsed": true
   },
   "outputs": [],
   "source": [
    "# task\n",
    "# square of numbers from 1 to 10\n",
    "# {1:1,2:4,.....,10:100}"
   ]
  },
  {
   "cell_type": "code",
   "execution_count": 11,
   "metadata": {
    "collapsed": false
   },
   "outputs": [
    {
     "name": "stdout",
     "output_type": "stream",
     "text": [
      "please enter the number:10\n",
      "{1: 1, 2: 4, 3: 9, 4: 16, 5: 25, 6: 36, 7: 49, 8: 64, 9: 81, 10: 100}\n"
     ]
    }
   ],
   "source": [
    "my_square={}\n",
    "num = int(raw_input(\"please enter the number:\"))\n",
    "for value in range(1,num+1):\n",
    "    my_square[value]=value*value\n",
    "print my_square"
   ]
  },
  {
   "cell_type": "code",
   "execution_count": 13,
   "metadata": {
    "collapsed": false
   },
   "outputs": [
    {
     "name": "stdout",
     "output_type": "stream",
     "text": [
      "['__class__', '__cmp__', '__contains__', '__delattr__', '__delitem__', '__doc__', '__eq__', '__format__', '__ge__', '__getattribute__', '__getitem__', '__gt__', '__hash__', '__init__', '__iter__', '__le__', '__len__', '__lt__', '__ne__', '__new__', '__reduce__', '__reduce_ex__', '__repr__', '__setattr__', '__setitem__', '__sizeof__', '__str__', '__subclasshook__', 'clear', 'copy', 'fromkeys', 'get', 'has_key', 'items', 'iteritems', 'iterkeys', 'itervalues', 'keys', 'pop', 'popitem', 'setdefault', 'update', 'values', 'viewitems', 'viewkeys', 'viewvalues']\n"
     ]
    }
   ],
   "source": [
    "# functions\n",
    "\n",
    "print dir(my_fruits)"
   ]
  },
  {
   "cell_type": "code",
   "execution_count": null,
   "metadata": {
    "collapsed": true
   },
   "outputs": [],
   "source": [
    "# fromkeys,setdefault,update => google -> tutorialpoint"
   ]
  },
  {
   "cell_type": "code",
   "execution_count": 14,
   "metadata": {
    "collapsed": false
   },
   "outputs": [
    {
     "name": "stdout",
     "output_type": "stream",
     "text": [
      "Help on built-in function get:\n",
      "\n",
      "get(...)\n",
      "    D.get(k[,d]) -> D[k] if k in D, else d.  d defaults to None.\n",
      "\n",
      "None\n"
     ]
    }
   ],
   "source": [
    "# get\n",
    "print help(my_fruits.get)\n"
   ]
  },
  {
   "cell_type": "code",
   "execution_count": 15,
   "metadata": {
    "collapsed": false
   },
   "outputs": [
    {
     "name": "stdout",
     "output_type": "stream",
     "text": [
      "['apple', 'avacado']\n",
      "['apple', 'avacado']\n"
     ]
    }
   ],
   "source": [
    "print my_fruits.get('a')\n",
    "print my_fruits['a']"
   ]
  },
  {
   "cell_type": "code",
   "execution_count": 17,
   "metadata": {
    "collapsed": false
   },
   "outputs": [
    {
     "name": "stdout",
     "output_type": "stream",
     "text": [
      "Help on built-in function has_key:\n",
      "\n",
      "has_key(...)\n",
      "    D.has_key(k) -> True if D has a key k, else False\n",
      "\n",
      "None\n"
     ]
    }
   ],
   "source": [
    "# has_key\n",
    "print help(my_fruits.has_key)"
   ]
  },
  {
   "cell_type": "code",
   "execution_count": 18,
   "metadata": {
    "collapsed": false
   },
   "outputs": [
    {
     "name": "stdout",
     "output_type": "stream",
     "text": [
      "True\n",
      "True\n"
     ]
    }
   ],
   "source": [
    "print my_fruits.has_key('a')\n",
    "print 'a' in my_fruits"
   ]
  },
  {
   "cell_type": "code",
   "execution_count": 19,
   "metadata": {
    "collapsed": false
   },
   "outputs": [
    {
     "name": "stdout",
     "output_type": "stream",
     "text": [
      "Help on built-in function keys:\n",
      "\n",
      "keys(...)\n",
      "    D.keys() -> list of D's keys\n",
      "\n",
      "None\n"
     ]
    }
   ],
   "source": [
    "# keys\n",
    "print help(my_fruits.keys)"
   ]
  },
  {
   "cell_type": "code",
   "execution_count": 20,
   "metadata": {
    "collapsed": false
   },
   "outputs": [
    {
     "name": "stdout",
     "output_type": "stream",
     "text": [
      "['a', 'c', 'b', 'd', 'f']\n"
     ]
    }
   ],
   "source": [
    "print my_fruits.keys()"
   ]
  },
  {
   "cell_type": "code",
   "execution_count": 27,
   "metadata": {
    "collapsed": false
   },
   "outputs": [
    {
     "name": "stdout",
     "output_type": "stream",
     "text": [
      "Help on built-in function iterkeys:\n",
      "\n",
      "iterkeys(...)\n",
      "    D.iterkeys() -> an iterator over the keys of D\n",
      "\n",
      "None\n"
     ]
    }
   ],
   "source": [
    "# iterkeys\n",
    "print help(my_fruits.iterkeys)"
   ]
  },
  {
   "cell_type": "code",
   "execution_count": 29,
   "metadata": {
    "collapsed": false
   },
   "outputs": [
    {
     "name": "stdout",
     "output_type": "stream",
     "text": [
      "<dictionary-keyiterator object at 0x7f597831f158>\n",
      "a\n",
      "c\n",
      "b\n",
      "d\n",
      "f\n"
     ]
    }
   ],
   "source": [
    "print my_fruits.iterkeys()\n",
    "for value in my_fruits.iterkeys():\n",
    "    print value"
   ]
  },
  {
   "cell_type": "code",
   "execution_count": 33,
   "metadata": {
    "collapsed": false
   },
   "outputs": [
    {
     "name": "stdout",
     "output_type": "stream",
     "text": [
      "Help on built-in function viewkeys:\n",
      "\n",
      "viewkeys(...)\n",
      "    D.viewkeys() -> a set-like object providing a view on D's keys\n",
      "\n",
      "None\n",
      "dict_keys(['a', 'c', 'b', 'd', 'f'])\n"
     ]
    }
   ],
   "source": [
    "# viewkeys\n",
    "print help(my_fruits.viewkeys)\n",
    "print my_fruits.viewkeys()"
   ]
  },
  {
   "cell_type": "code",
   "execution_count": 36,
   "metadata": {
    "collapsed": false
   },
   "outputs": [
    {
     "name": "stdout",
     "output_type": "stream",
     "text": [
      "Help on built-in function values:\n",
      "\n",
      "values(...)\n",
      "    D.values() -> list of D's values\n",
      "\n",
      "None\n"
     ]
    }
   ],
   "source": [
    "# keys\n",
    "print help(my_fruits.values)"
   ]
  },
  {
   "cell_type": "code",
   "execution_count": 37,
   "metadata": {
    "collapsed": false
   },
   "outputs": [
    {
     "name": "stdout",
     "output_type": "stream",
     "text": [
      "[['apple', 'avacado'], 'cherry', 'brinjal', 'dates', 'figs']\n"
     ]
    }
   ],
   "source": [
    "print my_fruits.values()"
   ]
  },
  {
   "cell_type": "code",
   "execution_count": 31,
   "metadata": {
    "collapsed": false
   },
   "outputs": [
    {
     "name": "stdout",
     "output_type": "stream",
     "text": [
      "Help on built-in function itervalues:\n",
      "\n",
      "itervalues(...)\n",
      "    D.itervalues() -> an iterator over the values of D\n",
      "\n",
      "None\n",
      "<dictionary-valueiterator object at 0x7f597831f368>\n",
      "['apple', 'avacado']\n",
      "cherry\n",
      "brinjal\n",
      "dates\n",
      "figs\n"
     ]
    }
   ],
   "source": [
    "# itervalues\n",
    "print help(my_fruits.itervalues)\n",
    "print my_fruits.itervalues()\n",
    "for value in my_fruits.itervalues():\n",
    "    print value"
   ]
  },
  {
   "cell_type": "code",
   "execution_count": null,
   "metadata": {
    "collapsed": true
   },
   "outputs": [],
   "source": [
    "# viewvalues\n"
   ]
  },
  {
   "cell_type": "code",
   "execution_count": 23,
   "metadata": {
    "collapsed": false
   },
   "outputs": [
    {
     "name": "stdout",
     "output_type": "stream",
     "text": [
      "Help on built-in function items:\n",
      "\n",
      "items(...)\n",
      "    D.items() -> list of D's (key, value) pairs, as 2-tuples\n",
      "\n",
      "None\n"
     ]
    }
   ],
   "source": [
    "# items\n",
    "print help(my_fruits.items)\n"
   ]
  },
  {
   "cell_type": "code",
   "execution_count": 24,
   "metadata": {
    "collapsed": false
   },
   "outputs": [
    {
     "name": "stdout",
     "output_type": "stream",
     "text": [
      "[('a', ['apple', 'avacado']), ('c', 'cherry'), ('b', 'brinjal'), ('d', 'dates'), ('f', 'figs')]\n"
     ]
    }
   ],
   "source": [
    "print my_fruits.items()"
   ]
  },
  {
   "cell_type": "code",
   "execution_count": 32,
   "metadata": {
    "collapsed": false
   },
   "outputs": [
    {
     "name": "stdout",
     "output_type": "stream",
     "text": [
      "Help on built-in function iteritems:\n",
      "\n",
      "iteritems(...)\n",
      "    D.iteritems() -> an iterator over the (key, value) items of D\n",
      "\n",
      "None\n",
      "<built-in method iteritems of dict object at 0x7f5978ba1280>\n",
      "('a', ['apple', 'avacado'])\n",
      "('c', 'cherry')\n",
      "('b', 'brinjal')\n",
      "('d', 'dates')\n",
      "('f', 'figs')\n"
     ]
    }
   ],
   "source": [
    "# iteritems\n",
    "print help(my_fruits.iteritems)\n",
    "print my_fruits.iteritems\n",
    "for value in my_fruits.iteritems():\n",
    "    print value"
   ]
  },
  {
   "cell_type": "code",
   "execution_count": null,
   "metadata": {
    "collapsed": true
   },
   "outputs": [],
   "source": [
    "# viewitems"
   ]
  },
  {
   "cell_type": "code",
   "execution_count": 2,
   "metadata": {
    "collapsed": false
   },
   "outputs": [
    {
     "name": "stdout",
     "output_type": "stream",
     "text": [
      "Help on built-in function copy:\n",
      "\n",
      "copy(...)\n",
      "    D.copy() -> a shallow copy of D\n",
      "\n",
      "None\n"
     ]
    }
   ],
   "source": [
    "# copy\n",
    "print help(my_fruits.copy)"
   ]
  },
  {
   "cell_type": "code",
   "execution_count": 14,
   "metadata": {
    "collapsed": false
   },
   "outputs": [
    {
     "name": "stdout",
     "output_type": "stream",
     "text": [
      "[['ant', 'ball', 'call', 'doll'], ['one', 'two', 'three', 'four']]\n",
      "140599654901736 140599654902456 140599654902456 140599654902024 140599654902024\n",
      "140599654901736 140599654901736\n",
      "True\n",
      "[['ant', 'ball', 'call', 'doll'], ['one', 'two', 'three', 'four']]\n",
      "[['ant', 'ball', 'call', 'doll'], ['one', 'two', 'three', 'four']]\n",
      "[['Ant', 'ball', 'call', 'doll'], ['one', 'two', 'three', 'four']]\n",
      "[['Ant', 'ball', 'call', 'doll'], ['one', 'two', 'three', 'four']]\n",
      "140599654560400 140599654901736\n",
      "False\n",
      "[['Ant', 'ball', 'call', 'doll'], ['one', 'two', 'three', 'four']]\n",
      "140599654828152 140599654902456 140599655346760 140599654902024\n",
      "[['Ant', 'ball', 'call', 'doll'], ['one', 'two', 'three', 'four']]\n",
      "[['Ant', 'ball', 'call', 'doll'], ['one', 'two', 'three', 'four']]\n",
      "[['Ant', 'ball', 'call', 'doll'], ['One', 'two', 'three', 'four']]\n"
     ]
    }
   ],
   "source": [
    "# shallow copy works on complex objects\n",
    "\n",
    "a = ['ant','ball','call','doll']\n",
    "b = ['one','two','three','four']\n",
    "\n",
    "Cc = [a,b]\n",
    "print Cc\n",
    "print id(Cc),id(a),id(Cc[0]),id(b),id(Cc[1])\n",
    "\n",
    "# soft copy\n",
    "Sc = Cc\n",
    "print id(Sc),id(Cc)\n",
    "print Sc is Cc\n",
    "print Sc\n",
    "print Cc\n",
    "a[0]='Ant'\n",
    "print Sc\n",
    "print Cc\n",
    "\n",
    "# deep copy\n",
    "import copy\n",
    "Dc = copy.deepcopy(Cc)\n",
    "print id(Dc),id(Cc)\n",
    "print Dc is Cc\n",
    "print Dc\n",
    "print id(Dc[0]),id(a),id(Dc[1]),id(b)\n",
    "print Cc\n",
    "b[0]=\"One\"\n",
    "print Dc\n",
    "print Cc"
   ]
  },
  {
   "cell_type": "code",
   "execution_count": 15,
   "metadata": {
    "collapsed": false
   },
   "outputs": [
    {
     "name": "stdout",
     "output_type": "stream",
     "text": [
      "Help on function copy in module copy:\n",
      "\n",
      "copy(x)\n",
      "    Shallow copy operation on arbitrary Python objects.\n",
      "    \n",
      "    See the module's __doc__ string for more info.\n",
      "\n",
      "None\n"
     ]
    }
   ],
   "source": [
    "# shallow copy\n",
    "print help(copy.copy)"
   ]
  },
  {
   "cell_type": "code",
   "execution_count": 19,
   "metadata": {
    "collapsed": false
   },
   "outputs": [
    {
     "name": "stdout",
     "output_type": "stream",
     "text": [
      "[['ant', 'ball', 'call', 'doll'], ['one', 'two', 'three', 'four']]\n",
      "[['ant', 'ball', 'call', 'doll'], ['one', 'two', 'three', 'four']]\n",
      "140599654900512 140599654900800 140599654900800 140599654900584 140599654900584\n",
      "140599654561840 140599654900800 140599654900800 140599654900584 140599654900584\n",
      "[['ant', 'ballon', 'call', 'doll'], ['one', 'two', 'three', 'four']] [['ant', 'ballon', 'call', 'doll'], ['one', 'two', 'three', 'four']]\n"
     ]
    }
   ],
   "source": [
    "a = ['ant','ball','call','doll']\n",
    "b = ['one','two','three','four']\n",
    "\n",
    "Cc = [a,b]\n",
    "print Cc\n",
    "Sh = copy.copy(Cc)\n",
    "print Sh\n",
    "\n",
    "print id(Cc),id(a),id(Cc[0]),id(b),id(Cc[1])\n",
    "print id(Sh),id(a),id(Sh[0]),id(b),id(Sh[1])\n",
    "\n",
    "a[1] = \"ballon\"\n",
    "print Cc,Sh"
   ]
  },
  {
   "cell_type": "code",
   "execution_count": 20,
   "metadata": {
    "collapsed": true
   },
   "outputs": [],
   "source": [
    "D_fruits = my_fruits.copy()"
   ]
  },
  {
   "cell_type": "code",
   "execution_count": 22,
   "metadata": {
    "collapsed": false
   },
   "outputs": [
    {
     "name": "stdout",
     "output_type": "stream",
     "text": [
      "{'a': 'apple', 'c': 'cherry', 'b': 'banana', 'd': 'dates'}\n",
      "{'a': 'apple', 'c': 'cherry', 'b': 'banana', 'd': 'dates'}\n",
      "False\n"
     ]
    }
   ],
   "source": [
    "print D_fruits\n",
    "print my_fruits\n",
    "print D_fruits is my_fruits"
   ]
  },
  {
   "cell_type": "code",
   "execution_count": 23,
   "metadata": {
    "collapsed": false
   },
   "outputs": [
    {
     "name": "stdout",
     "output_type": "stream",
     "text": [
      "Help on built-in function pop:\n",
      "\n",
      "pop(...)\n",
      "    D.pop(k[,d]) -> v, remove specified key and return the corresponding value.\n",
      "    If key is not found, d is returned if given, otherwise KeyError is raised\n",
      "\n",
      "None\n"
     ]
    }
   ],
   "source": [
    "# pop\n",
    "print help(my_fruits.pop)"
   ]
  },
  {
   "cell_type": "code",
   "execution_count": 24,
   "metadata": {
    "collapsed": false
   },
   "outputs": [
    {
     "data": {
      "text/plain": [
       "'dates'"
      ]
     },
     "execution_count": 24,
     "metadata": {},
     "output_type": "execute_result"
    }
   ],
   "source": [
    "D_fruits.pop('d')"
   ]
  },
  {
   "cell_type": "code",
   "execution_count": 25,
   "metadata": {
    "collapsed": false
   },
   "outputs": [
    {
     "name": "stdout",
     "output_type": "stream",
     "text": [
      "{'a': 'apple', 'c': 'cherry', 'b': 'banana'}\n"
     ]
    }
   ],
   "source": [
    "print D_fruits"
   ]
  },
  {
   "cell_type": "code",
   "execution_count": 26,
   "metadata": {
    "collapsed": false
   },
   "outputs": [
    {
     "name": "stdout",
     "output_type": "stream",
     "text": [
      "Help on built-in function popitem:\n",
      "\n",
      "popitem(...)\n",
      "    D.popitem() -> (k, v), remove and return some (key, value) pair as a\n",
      "    2-tuple; but raise KeyError if D is empty.\n",
      "\n",
      "None\n"
     ]
    }
   ],
   "source": [
    "# popitem\n",
    "print help(D_fruits.popitem)"
   ]
  },
  {
   "cell_type": "code",
   "execution_count": 27,
   "metadata": {
    "collapsed": false
   },
   "outputs": [
    {
     "name": "stdout",
     "output_type": "stream",
     "text": [
      "('a', 'apple')\n"
     ]
    }
   ],
   "source": [
    "print D_fruits.popitem()"
   ]
  },
  {
   "cell_type": "code",
   "execution_count": 28,
   "metadata": {
    "collapsed": false
   },
   "outputs": [
    {
     "name": "stdout",
     "output_type": "stream",
     "text": [
      "('c', 'cherry')\n"
     ]
    }
   ],
   "source": [
    "print D_fruits.popitem()"
   ]
  },
  {
   "cell_type": "code",
   "execution_count": 29,
   "metadata": {
    "collapsed": false
   },
   "outputs": [
    {
     "name": "stdout",
     "output_type": "stream",
     "text": [
      "{'b': 'banana'}\n"
     ]
    }
   ],
   "source": [
    "print D_fruits"
   ]
  },
  {
   "cell_type": "code",
   "execution_count": 31,
   "metadata": {
    "collapsed": false
   },
   "outputs": [
    {
     "name": "stdout",
     "output_type": "stream",
     "text": [
      "Help on built-in function clear:\n",
      "\n",
      "clear(...)\n",
      "    D.clear() -> None.  Remove all items from D.\n",
      "\n",
      "None\n"
     ]
    }
   ],
   "source": [
    "# clear\n",
    "print help(D_fruits.clear)"
   ]
  },
  {
   "cell_type": "code",
   "execution_count": 32,
   "metadata": {
    "collapsed": true
   },
   "outputs": [],
   "source": [
    "D_fruits.clear()"
   ]
  },
  {
   "cell_type": "code",
   "execution_count": 33,
   "metadata": {
    "collapsed": false
   },
   "outputs": [
    {
     "name": "stdout",
     "output_type": "stream",
     "text": [
      "{}\n"
     ]
    }
   ],
   "source": [
    "print D_fruits"
   ]
  },
  {
   "cell_type": "code",
   "execution_count": null,
   "metadata": {
    "collapsed": true
   },
   "outputs": [],
   "source": [
    "# \n",
    "# numpy,pandas\n",
    "# http://tinyurl.com/TconSeminars"
   ]
  }
 ],
 "metadata": {
  "kernelspec": {
   "display_name": "Python 2",
   "language": "python",
   "name": "python2"
  },
  "language_info": {
   "codemirror_mode": {
    "name": "ipython",
    "version": 2
   },
   "file_extension": ".py",
   "mimetype": "text/x-python",
   "name": "python",
   "nbconvert_exporter": "python",
   "pygments_lexer": "ipython2",
   "version": "2.7.6"
  }
 },
 "nbformat": 4,
 "nbformat_minor": 1
}
