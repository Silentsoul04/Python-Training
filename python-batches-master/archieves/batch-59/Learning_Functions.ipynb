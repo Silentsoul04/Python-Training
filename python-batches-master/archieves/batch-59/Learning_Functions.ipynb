{
 "cells": [
  {
   "cell_type": "code",
   "execution_count": null,
   "metadata": {
    "collapsed": true
   },
   "outputs": [],
   "source": [
    "# Function\n",
    "# A block of code,which can be called repetatively."
   ]
  },
  {
   "cell_type": "code",
   "execution_count": 1,
   "metadata": {
    "collapsed": true
   },
   "outputs": [],
   "source": [
    "# defining a function\n",
    "\n",
    "def my_func():\n",
    "    print \"hey there!!\""
   ]
  },
  {
   "cell_type": "code",
   "execution_count": 2,
   "metadata": {
    "collapsed": false
   },
   "outputs": [
    {
     "name": "stdout",
     "output_type": "stream",
     "text": [
      "<function my_func at 0x7f843c220c80>\n",
      "hey there!!\n",
      "None\n"
     ]
    },
    {
     "data": {
      "text/plain": [
       "<function __main__.my_func>"
      ]
     },
     "execution_count": 2,
     "metadata": {},
     "output_type": "execute_result"
    }
   ],
   "source": [
    "print my_func   # address of the function\n",
    "print my_func() # calling the function.\n",
    "my_func         # my_func is part of our __main__ program. similar to void main in c++."
   ]
  },
  {
   "cell_type": "code",
   "execution_count": null,
   "metadata": {
    "collapsed": true
   },
   "outputs": [],
   "source": [
    "# every function has a return value.\n",
    "# if a function has no retrun value we get None.\n",
    "# return marks the end of the function."
   ]
  },
  {
   "cell_type": "code",
   "execution_count": 5,
   "metadata": {
    "collapsed": true
   },
   "outputs": [],
   "source": [
    "def my_func():\n",
    "    return \"hey there!!\"\n",
    "    print \"line1\"\n",
    "    print \"line2\"\n",
    "    print \"line3\""
   ]
  },
  {
   "cell_type": "code",
   "execution_count": 6,
   "metadata": {
    "collapsed": false
   },
   "outputs": [
    {
     "name": "stdout",
     "output_type": "stream",
     "text": [
      "hey there!!\n"
     ]
    }
   ],
   "source": [
    "print my_func()"
   ]
  },
  {
   "cell_type": "code",
   "execution_count": null,
   "metadata": {
    "collapsed": true
   },
   "outputs": [],
   "source": [
    "# function scope/namespaces/variables"
   ]
  },
  {
   "cell_type": "code",
   "execution_count": null,
   "metadata": {
    "collapsed": true
   },
   "outputs": [],
   "source": [
    "# variable defined inside a function are restricted to the function.\n",
    "# variable inside function/local scope variables get activated during run time of function.\n",
    "# Lifespan of a variable is during the runtime of the function."
   ]
  },
  {
   "cell_type": "code",
   "execution_count": 7,
   "metadata": {
    "collapsed": true
   },
   "outputs": [],
   "source": [
    "# case 1\n",
    "def my_func():\n",
    "    a = 1\n",
    "    return a"
   ]
  },
  {
   "cell_type": "code",
   "execution_count": null,
   "metadata": {
    "collapsed": true
   },
   "outputs": [],
   "source": [
    "print my_func() # 1\n"
   ]
  },
  {
   "cell_type": "code",
   "execution_count": 8,
   "metadata": {
    "collapsed": false
   },
   "outputs": [
    {
     "ename": "NameError",
     "evalue": "name 'a' is not defined",
     "output_type": "error",
     "traceback": [
      "\u001b[0;31m---------------------------------------------------------------------------\u001b[0m",
      "\u001b[0;31mNameError\u001b[0m                                 Traceback (most recent call last)",
      "\u001b[0;32m<ipython-input-8-9d7b17ad5387>\u001b[0m in \u001b[0;36m<module>\u001b[0;34m()\u001b[0m\n\u001b[0;32m----> 1\u001b[0;31m \u001b[0;32mprint\u001b[0m \u001b[0ma\u001b[0m\u001b[0;34m\u001b[0m\u001b[0m\n\u001b[0m",
      "\u001b[0;31mNameError\u001b[0m: name 'a' is not defined"
     ]
    }
   ],
   "source": [
    "print a"
   ]
  },
  {
   "cell_type": "code",
   "execution_count": 12,
   "metadata": {
    "collapsed": true
   },
   "outputs": [],
   "source": [
    "# case 2\n",
    "# locals - show the local variables\n",
    "a = 10 # global variable\n",
    "def my_func():\n",
    "    print locals()\n",
    "    return a\n",
    "\n"
   ]
  },
  {
   "cell_type": "code",
   "execution_count": 13,
   "metadata": {
    "collapsed": false
   },
   "outputs": [
    {
     "name": "stdout",
     "output_type": "stream",
     "text": [
      "{}\n",
      "10\n",
      "10\n"
     ]
    }
   ],
   "source": [
    "print my_func() # 10\n",
    "print a         # 10"
   ]
  },
  {
   "cell_type": "code",
   "execution_count": 14,
   "metadata": {
    "collapsed": true
   },
   "outputs": [],
   "source": [
    "# case 3 \n",
    "# locals - show the local variables\n",
    "# local variabels are given higher precedence than global variable.\n",
    "a = 10 # global variable\n",
    "def my_func():\n",
    "    a = 2\n",
    "    print locals()\n",
    "    return a"
   ]
  },
  {
   "cell_type": "code",
   "execution_count": 15,
   "metadata": {
    "collapsed": false
   },
   "outputs": [
    {
     "name": "stdout",
     "output_type": "stream",
     "text": [
      "{'a': 2}\n",
      "2\n",
      "10\n"
     ]
    }
   ],
   "source": [
    "print my_func() # 2\n",
    "print a         # 10"
   ]
  },
  {
   "cell_type": "code",
   "execution_count": 16,
   "metadata": {
    "collapsed": false
   },
   "outputs": [
    {
     "name": "stdout",
     "output_type": "stream",
     "text": [
      "{'_dh': [u'/home/tcloudost/Documents/git_repositories/python-batches/batch-59'], '__': '', '_i': u'print my_func() # 2\\nprint a         # 10', 'quit': <IPython.core.autocall.ZMQExitAutocall object at 0x7f843c2e9290>, '__builtins__': <module '__builtin__' (built-in)>, '_ih': ['', u'# defining a function\\n\\ndef my_func():\\n    print \"hey there!!\"', u'print my_func\\nprint my_func()\\nmy_func', u'def my_func():\\n    return \"hey there!!\"', u'print my_func()', u'def my_func():\\n    return \"hey there!!\"\\n    print \"line1\"\\n    print \"line2\"\\n    print \"line3\"', u'print my_func()', u'def my_func():\\n    a = 1\\n    return a', u'print a', u'# case 2\\na = 10 # global variable\\ndef my_func():\\n    return a', u'print my_func() # 10\\nprint a         # 10', u'print my_func() # 10\\nprint a         # 10', u'# case 2\\n# locals - show the local variables\\na = 10 # global variable\\ndef my_func():\\n    print locals()\\n    return a', u'print my_func() # 10\\nprint a         # 10', u'# case 3 \\n# locals - show the local variables\\na = 10 # global variable\\ndef my_func():\\n    a = 2\\n    print locals()\\n    return a', u'print my_func() # 2\\nprint a         # 10', u'# globals\\nprint globals()'], '__builtin__': <module '__builtin__' (built-in)>, '_2': <function my_func at 0x7f843c220c80>, '__name__': '__main__', '___': '', '_i15': u'print my_func() # 2\\nprint a         # 10', '_': <function my_func at 0x7f843c220c80>, 'a': 10, '_sh': <module 'IPython.core.shadowns' from '/usr/local/lib/python2.7/dist-packages/IPython/core/shadowns.pyc'>, '_i12': u'# case 2\\n# locals - show the local variables\\na = 10 # global variable\\ndef my_func():\\n    print locals()\\n    return a', '_i11': u'print my_func() # 10\\nprint a         # 10', '_i9': u'# case 2\\na = 10 # global variable\\ndef my_func():\\n    return a', '_i8': u'print a', '_i7': u'def my_func():\\n    a = 1\\n    return a', '_i6': u'print my_func()', '_i5': u'def my_func():\\n    return \"hey there!!\"\\n    print \"line1\"\\n    print \"line2\"\\n    print \"line3\"', '_i4': u'print my_func()', '_i3': u'def my_func():\\n    return \"hey there!!\"', '_i2': u'print my_func\\nprint my_func()\\nmy_func', '_i1': u'# defining a function\\n\\ndef my_func():\\n    print \"hey there!!\"', '__doc__': 'Automatically created module for IPython interactive environment', '_i13': u'print my_func() # 10\\nprint a         # 10', 'my_func': <function my_func at 0x7f84427b1140>, '_iii': u'print my_func() # 10\\nprint a         # 10', '_i10': u'print my_func() # 10\\nprint a         # 10', 'exit': <IPython.core.autocall.ZMQExitAutocall object at 0x7f843c2e9290>, 'get_ipython': <bound method ZMQInteractiveShell.get_ipython of <ipykernel.zmqshell.ZMQInteractiveShell object at 0x7f8444f4d950>>, '_ii': u'# case 3 \\n# locals - show the local variables\\na = 10 # global variable\\ndef my_func():\\n    a = 2\\n    print locals()\\n    return a', 'In': ['', u'# defining a function\\n\\ndef my_func():\\n    print \"hey there!!\"', u'print my_func\\nprint my_func()\\nmy_func', u'def my_func():\\n    return \"hey there!!\"', u'print my_func()', u'def my_func():\\n    return \"hey there!!\"\\n    print \"line1\"\\n    print \"line2\"\\n    print \"line3\"', u'print my_func()', u'def my_func():\\n    a = 1\\n    return a', u'print a', u'# case 2\\na = 10 # global variable\\ndef my_func():\\n    return a', u'print my_func() # 10\\nprint a         # 10', u'print my_func() # 10\\nprint a         # 10', u'# case 2\\n# locals - show the local variables\\na = 10 # global variable\\ndef my_func():\\n    print locals()\\n    return a', u'print my_func() # 10\\nprint a         # 10', u'# case 3 \\n# locals - show the local variables\\na = 10 # global variable\\ndef my_func():\\n    a = 2\\n    print locals()\\n    return a', u'print my_func() # 2\\nprint a         # 10', u'# globals\\nprint globals()'], '_i16': u'# globals\\nprint globals()', '_i14': u'# case 3 \\n# locals - show the local variables\\na = 10 # global variable\\ndef my_func():\\n    a = 2\\n    print locals()\\n    return a', '_oh': {2: <function my_func at 0x7f843c220c80>}, 'Out': {2: <function my_func at 0x7f843c220c80>}}\n"
     ]
    }
   ],
   "source": [
    "# globals\n",
    "print globals()"
   ]
  },
  {
   "cell_type": "code",
   "execution_count": 26,
   "metadata": {
    "collapsed": true
   },
   "outputs": [],
   "source": [
    "# global: keyword\n",
    "\n",
    "balance = 0\n",
    "\n",
    "def deposit():\n",
    "    global balance\n",
    "    print locals()\n",
    "    balance = balance + 1000\n",
    "    return balance\n",
    "\n",
    "def withdraw():\n",
    "    global balance\n",
    "    print locals()\n",
    "    balance = balance - 300\n",
    "    return balance"
   ]
  },
  {
   "cell_type": "code",
   "execution_count": 18,
   "metadata": {
    "collapsed": false
   },
   "outputs": [
    {
     "ename": "UnboundLocalError",
     "evalue": "local variable 'balance' referenced before assignment",
     "output_type": "error",
     "traceback": [
      "\u001b[0;31m---------------------------------------------------------------------------\u001b[0m",
      "\u001b[0;31mUnboundLocalError\u001b[0m                         Traceback (most recent call last)",
      "\u001b[0;32m<ipython-input-18-f63fab9016ab>\u001b[0m in \u001b[0;36m<module>\u001b[0;34m()\u001b[0m\n\u001b[0;32m----> 1\u001b[0;31m \u001b[0;32mprint\u001b[0m \u001b[0mdeposit\u001b[0m\u001b[0;34m(\u001b[0m\u001b[0;34m)\u001b[0m\u001b[0;34m\u001b[0m\u001b[0m\n\u001b[0m",
      "\u001b[0;32m<ipython-input-17-bc0de6ae4759>\u001b[0m in \u001b[0;36mdeposit\u001b[0;34m()\u001b[0m\n\u001b[1;32m      4\u001b[0m \u001b[0;34m\u001b[0m\u001b[0m\n\u001b[1;32m      5\u001b[0m \u001b[0;32mdef\u001b[0m \u001b[0mdeposit\u001b[0m\u001b[0;34m(\u001b[0m\u001b[0;34m)\u001b[0m\u001b[0;34m:\u001b[0m\u001b[0;34m\u001b[0m\u001b[0m\n\u001b[0;32m----> 6\u001b[0;31m     \u001b[0mbalance\u001b[0m \u001b[0;34m=\u001b[0m \u001b[0mbalance\u001b[0m \u001b[0;34m+\u001b[0m \u001b[0;36m1000\u001b[0m\u001b[0;34m\u001b[0m\u001b[0m\n\u001b[0m\u001b[1;32m      7\u001b[0m     \u001b[0;32mreturn\u001b[0m \u001b[0mbalance\u001b[0m\u001b[0;34m\u001b[0m\u001b[0m\n\u001b[1;32m      8\u001b[0m \u001b[0;34m\u001b[0m\u001b[0m\n",
      "\u001b[0;31mUnboundLocalError\u001b[0m: local variable 'balance' referenced before assignment"
     ]
    }
   ],
   "source": [
    "# i see this error when the code was\n",
    "'''\n",
    "def deposit():\n",
    "    balance = balance + 1000\n",
    "    return balance\n",
    "'''\n",
    "print deposit()"
   ]
  },
  {
   "cell_type": "code",
   "execution_count": 27,
   "metadata": {
    "collapsed": false
   },
   "outputs": [
    {
     "name": "stdout",
     "output_type": "stream",
     "text": [
      "{}\n",
      "1000\n"
     ]
    }
   ],
   "source": [
    "print deposit()"
   ]
  },
  {
   "cell_type": "code",
   "execution_count": 28,
   "metadata": {
    "collapsed": false
   },
   "outputs": [
    {
     "name": "stdout",
     "output_type": "stream",
     "text": [
      "{}\n",
      "700\n"
     ]
    }
   ],
   "source": [
    "print withdraw()"
   ]
  },
  {
   "cell_type": "code",
   "execution_count": 29,
   "metadata": {
    "collapsed": false
   },
   "outputs": [
    {
     "name": "stdout",
     "output_type": "stream",
     "text": [
      "700\n"
     ]
    }
   ],
   "source": [
    "print balance"
   ]
  },
  {
   "cell_type": "code",
   "execution_count": null,
   "metadata": {
    "collapsed": true
   },
   "outputs": [],
   "source": [
    "# passing arguments,key arguments,default arguments\n",
    "# *,**,*args,**kwargs"
   ]
  },
  {
   "cell_type": "code",
   "execution_count": 4,
   "metadata": {
    "collapsed": false
   },
   "outputs": [
    {
     "name": "stdout",
     "output_type": "stream",
     "text": [
      "45\n",
      "linux rocks\n",
      " rockslinux\n"
     ]
    }
   ],
   "source": [
    "# passing arguments\n",
    "\n",
    "# position based.\n",
    "def my_add(a,b):\n",
    "    return a + b\n",
    "\n",
    "print my_add(22,23)\n",
    "print my_add('linux',' rocks')\n",
    "print my_add(' rocks','linux')"
   ]
  },
  {
   "cell_type": "code",
   "execution_count": 6,
   "metadata": {
    "collapsed": false
   },
   "outputs": [
    {
     "name": "stdout",
     "output_type": "stream",
     "text": [
      "45\n",
      "linux rocks\n",
      "linux rocks\n"
     ]
    }
   ],
   "source": [
    "# key based\n",
    "def my_add(a,b):\n",
    "    return a + b\n",
    "\n",
    "print my_add(b=22,a=23)\n",
    "print my_add(a='linux',b=' rocks')\n",
    "print my_add(b=' rocks',a='linux')"
   ]
  },
  {
   "cell_type": "code",
   "execution_count": 7,
   "metadata": {
    "collapsed": true
   },
   "outputs": [],
   "source": [
    "# default keys\n",
    "# default is a variable not key word.\n",
    "\n",
    "def my_multi(num,default=10):\n",
    "    for value in range(1,default+1):\n",
    "        print \"{} * {} = {}\".format(num,value,num*value)"
   ]
  },
  {
   "cell_type": "code",
   "execution_count": 8,
   "metadata": {
    "collapsed": false
   },
   "outputs": [
    {
     "name": "stdout",
     "output_type": "stream",
     "text": [
      "2 * 1 = 2\n",
      "2 * 2 = 4\n",
      "2 * 3 = 6\n",
      "2 * 4 = 8\n",
      "2 * 5 = 10\n",
      "2 * 6 = 12\n",
      "2 * 7 = 14\n",
      "2 * 8 = 16\n",
      "2 * 9 = 18\n",
      "2 * 10 = 20\n",
      "None\n"
     ]
    }
   ],
   "source": [
    "print my_multi(2)\n"
   ]
  },
  {
   "cell_type": "code",
   "execution_count": 9,
   "metadata": {
    "collapsed": false
   },
   "outputs": [
    {
     "name": "stdout",
     "output_type": "stream",
     "text": [
      "3 * 1 = 3\n",
      "3 * 2 = 6\n",
      "3 * 3 = 9\n",
      "3 * 4 = 12\n",
      "3 * 5 = 15\n",
      "None\n"
     ]
    }
   ],
   "source": [
    "print my_multi(3,5)\n"
   ]
  },
  {
   "cell_type": "code",
   "execution_count": 10,
   "metadata": {
    "collapsed": false
   },
   "outputs": [
    {
     "name": "stdout",
     "output_type": "stream",
     "text": [
      "10 * 1 = 10\n",
      "10 * 2 = 20\n",
      "10 * 3 = 30\n",
      "10 * 4 = 40\n",
      "10 * 5 = 50\n",
      "None\n"
     ]
    }
   ],
   "source": [
    "print my_multi(default=5,num=10)"
   ]
  },
  {
   "cell_type": "code",
   "execution_count": 11,
   "metadata": {
    "collapsed": false
   },
   "outputs": [
    {
     "name": "stdout",
     "output_type": "stream",
     "text": [
      "www.google.com,22\n",
      "www.amazon.com,22\n",
      "www.icicibank.com,80\n",
      "www.yahoo.com,23\n"
     ]
    }
   ],
   "source": [
    "# http://cache.filehippo.com/img/ex/1125__putty1.png\n",
    "\n",
    "def putty(hostname,port=22):\n",
    "     print \"{},{}\".format(hostname,port)\n",
    "    \n",
    "putty('www.google.com')\n",
    "putty('www.amazon.com')\n",
    "putty('www.icicibank.com',port=80)\n",
    "putty('www.yahoo.com',port=23)"
   ]
  },
  {
   "cell_type": "code",
   "execution_count": 15,
   "metadata": {
    "collapsed": true
   },
   "outputs": [],
   "source": [
    "# *\n",
    "\n",
    "def my_add(a,b):\n",
    "    return a + b\n",
    "\n",
    "my_list = [22,23]\n",
    "my_list1 = ['linux','rocks']\n",
    "my_list2 = ['my','linux','rocks']"
   ]
  },
  {
   "cell_type": "code",
   "execution_count": 13,
   "metadata": {
    "collapsed": false
   },
   "outputs": [
    {
     "ename": "TypeError",
     "evalue": "my_add() takes exactly 2 arguments (1 given)",
     "output_type": "error",
     "traceback": [
      "\u001b[0;31m---------------------------------------------------------------------------\u001b[0m",
      "\u001b[0;31mTypeError\u001b[0m                                 Traceback (most recent call last)",
      "\u001b[0;32m<ipython-input-13-dcdd83570984>\u001b[0m in \u001b[0;36m<module>\u001b[0;34m()\u001b[0m\n\u001b[0;32m----> 1\u001b[0;31m \u001b[0;32mprint\u001b[0m \u001b[0mmy_add\u001b[0m\u001b[0;34m(\u001b[0m\u001b[0mmy_list\u001b[0m\u001b[0;34m)\u001b[0m\u001b[0;34m\u001b[0m\u001b[0m\n\u001b[0m",
      "\u001b[0;31mTypeError\u001b[0m: my_add() takes exactly 2 arguments (1 given)"
     ]
    }
   ],
   "source": [
    "print my_add(my_list)"
   ]
  },
  {
   "cell_type": "code",
   "execution_count": 16,
   "metadata": {
    "collapsed": false
   },
   "outputs": [
    {
     "name": "stdout",
     "output_type": "stream",
     "text": [
      "45\n",
      "linuxrocks\n"
     ]
    },
    {
     "ename": "TypeError",
     "evalue": "my_add() takes exactly 2 arguments (3 given)",
     "output_type": "error",
     "traceback": [
      "\u001b[0;31m---------------------------------------------------------------------------\u001b[0m",
      "\u001b[0;31mTypeError\u001b[0m                                 Traceback (most recent call last)",
      "\u001b[0;32m<ipython-input-16-00d6eed815b0>\u001b[0m in \u001b[0;36m<module>\u001b[0;34m()\u001b[0m\n\u001b[1;32m      2\u001b[0m \u001b[0;32mprint\u001b[0m \u001b[0mmy_add\u001b[0m\u001b[0;34m(\u001b[0m\u001b[0;34m*\u001b[0m\u001b[0mmy_list\u001b[0m\u001b[0;34m)\u001b[0m\u001b[0;34m\u001b[0m\u001b[0m\n\u001b[1;32m      3\u001b[0m \u001b[0;32mprint\u001b[0m \u001b[0mmy_add\u001b[0m\u001b[0;34m(\u001b[0m\u001b[0;34m*\u001b[0m\u001b[0mmy_list1\u001b[0m\u001b[0;34m)\u001b[0m\u001b[0;34m\u001b[0m\u001b[0m\n\u001b[0;32m----> 4\u001b[0;31m \u001b[0;32mprint\u001b[0m \u001b[0mmy_add\u001b[0m\u001b[0;34m(\u001b[0m\u001b[0;34m*\u001b[0m\u001b[0mmy_list2\u001b[0m\u001b[0;34m)\u001b[0m\u001b[0;34m\u001b[0m\u001b[0m\n\u001b[0m",
      "\u001b[0;31mTypeError\u001b[0m: my_add() takes exactly 2 arguments (3 given)"
     ]
    }
   ],
   "source": [
    "# * is unpacking the list to elements of a function.\n",
    "print my_add(*my_list)\n",
    "print my_add(*my_list1)\n",
    "print my_add(*my_list2)"
   ]
  },
  {
   "cell_type": "code",
   "execution_count": 19,
   "metadata": {
    "collapsed": false
   },
   "outputs": [
    {
     "name": "stdout",
     "output_type": "stream",
     "text": [
      "33\n",
      "linuxrocks\n"
     ]
    },
    {
     "ename": "TypeError",
     "evalue": "my_add() got an unexpected keyword argument 'c'",
     "output_type": "error",
     "traceback": [
      "\u001b[0;31m---------------------------------------------------------------------------\u001b[0m",
      "\u001b[0;31mTypeError\u001b[0m                                 Traceback (most recent call last)",
      "\u001b[0;32m<ipython-input-19-14a3cc0bf749>\u001b[0m in \u001b[0;36m<module>\u001b[0;34m()\u001b[0m\n\u001b[1;32m      6\u001b[0m \u001b[0;32mprint\u001b[0m \u001b[0mmy_add\u001b[0m\u001b[0;34m(\u001b[0m\u001b[0;34m**\u001b[0m\u001b[0mmy_dict\u001b[0m\u001b[0;34m)\u001b[0m\u001b[0;34m\u001b[0m\u001b[0m\n\u001b[1;32m      7\u001b[0m \u001b[0;32mprint\u001b[0m \u001b[0mmy_add\u001b[0m\u001b[0;34m(\u001b[0m\u001b[0;34m**\u001b[0m\u001b[0mmy_dict1\u001b[0m\u001b[0;34m)\u001b[0m\u001b[0;34m\u001b[0m\u001b[0m\n\u001b[0;32m----> 8\u001b[0;31m \u001b[0;32mprint\u001b[0m \u001b[0mmy_add\u001b[0m\u001b[0;34m(\u001b[0m\u001b[0;34m**\u001b[0m\u001b[0mmy_dict2\u001b[0m\u001b[0;34m)\u001b[0m\u001b[0;34m\u001b[0m\u001b[0m\n\u001b[0m",
      "\u001b[0;31mTypeError\u001b[0m: my_add() got an unexpected keyword argument 'c'"
     ]
    }
   ],
   "source": [
    "# **\n",
    "my_dict = {'a':11,'b':22}\n",
    "my_dict1 = {'a':'linux','b':'rocks'}\n",
    "my_dict2 = {'a':'linux','c':'rocks'}\n",
    "\n",
    "print my_add(**my_dict)\n",
    "print my_add(**my_dict1)\n",
    "print my_add(**my_dict2)"
   ]
  },
  {
   "cell_type": "code",
   "execution_count": 20,
   "metadata": {
    "collapsed": false
   },
   "outputs": [
    {
     "name": "stdout",
     "output_type": "stream",
     "text": [
      "Help on built-in function max in module __builtin__:\n",
      "\n",
      "max(...)\n",
      "    max(iterable[, key=func]) -> value\n",
      "    max(a, b, c, ...[, key=func]) -> value\n",
      "    \n",
      "    With a single iterable argument, return its largest item.\n",
      "    With two or more arguments, return the largest argument.\n",
      "\n",
      "None\n"
     ]
    }
   ],
   "source": [
    "# *args\n",
    "print help(max)"
   ]
  },
  {
   "cell_type": "code",
   "execution_count": 22,
   "metadata": {
    "collapsed": false
   },
   "outputs": [
    {
     "name": "stdout",
     "output_type": "stream",
     "text": [
      "99\n",
      "-1\n",
      "4\n"
     ]
    }
   ],
   "source": [
    "print max(77,21,31,48,99)\n",
    "print max(-1,-2,-44,-55)\n",
    "print max(2,4)"
   ]
  },
  {
   "cell_type": "code",
   "execution_count": 23,
   "metadata": {
    "collapsed": true
   },
   "outputs": [],
   "source": [
    "# gmax\n",
    "# args a tuple of values passed to *args.\n",
    "def gmax(*args):\n",
    "    print args"
   ]
  },
  {
   "cell_type": "code",
   "execution_count": 26,
   "metadata": {
    "collapsed": true
   },
   "outputs": [],
   "source": [
    "def gmax(*args):\n",
    "    big=-1\n",
    "    for value in args:\n",
    "        if value > big:\n",
    "            big = value\n",
    "    return big"
   ]
  },
  {
   "cell_type": "code",
   "execution_count": 27,
   "metadata": {
    "collapsed": false
   },
   "outputs": [
    {
     "name": "stdout",
     "output_type": "stream",
     "text": [
      "99\n",
      "-1\n",
      "4\n"
     ]
    }
   ],
   "source": [
    "print gmax(77,21,31,48,99)\n",
    "print gmax(-1,-2,-44,-55)\n",
    "print gmax(2,4)"
   ]
  },
  {
   "cell_type": "code",
   "execution_count": 28,
   "metadata": {
    "collapsed": true
   },
   "outputs": [],
   "source": [
    "# **kwargs\n",
    "# kwargs returns a dictionary.\n",
    "def callme(**kwargs):\n",
    "    return kwargs"
   ]
  },
  {
   "cell_type": "code",
   "execution_count": 29,
   "metadata": {
    "collapsed": false
   },
   "outputs": [
    {
     "name": "stdout",
     "output_type": "stream",
     "text": [
      "{'gender': 'm', 'name': 'kumar'}\n",
      "{'name': 'kumar', 'maiden': 'vijaya'}\n",
      "{'loc': 'hyd', 'name': 'kumar', 'maiden': 'vijaya', 'gender': 'm'}\n"
     ]
    }
   ],
   "source": [
    "print callme(name='kumar',gender='m')\n",
    "print callme(name='kumar',maiden='vijaya')\n",
    "print callme(name='kumar',maiden='vijaya',loc='hyd',gender='m')"
   ]
  },
  {
   "cell_type": "code",
   "execution_count": 32,
   "metadata": {
    "collapsed": true
   },
   "outputs": [],
   "source": [
    "def callme(**kwargs):\n",
    "    if 'name' in kwargs:\n",
    "        print 'my name is {}'.format(kwargs['name'])\n",
    "    if 'gender' in kwargs:\n",
    "        print 'my gender is {}'.format(kwargs['gender'])\n",
    "    if 'loc' in kwargs:\n",
    "        print \"my location is {}\".format(kwargs['loc'])\n",
    "    if 'maiden' in kwargs:\n",
    "        print \"my mother name is {}\".format(kwargs['maiden'])\n"
   ]
  },
  {
   "cell_type": "code",
   "execution_count": 33,
   "metadata": {
    "collapsed": false
   },
   "outputs": [
    {
     "name": "stdout",
     "output_type": "stream",
     "text": [
      "my name is kumar\n",
      "my gender is m\n",
      "None\n",
      "my name is kumar\n",
      "my mother name is vijaya\n",
      "None\n",
      "my name is kumar\n",
      "my gender is m\n",
      "my location is hyd\n",
      "my mother name is vijaya\n",
      "None\n"
     ]
    }
   ],
   "source": [
    "print callme(name='kumar',gender='m')\n",
    "print callme(name='kumar',maiden='vijaya')\n",
    "print callme(name='kumar',maiden='vijaya',loc='hyd',gender='m')"
   ]
  },
  {
   "cell_type": "code",
   "execution_count": 35,
   "metadata": {
    "collapsed": true
   },
   "outputs": [],
   "source": [
    "# function is a first class object.\n",
    "# function is just like any other object like string,number and integer.\n",
    "\n",
    "def my_add(a,b):\n",
    "    return a + b\n",
    "\n",
    "def my_sub(c,d):\n",
    "    return c - d\n",
    "\n",
    "def my_extra(func,x,y):\n",
    "    return func(x,y)\n",
    "    "
   ]
  },
  {
   "cell_type": "code",
   "execution_count": 36,
   "metadata": {
    "collapsed": false
   },
   "outputs": [
    {
     "name": "stdout",
     "output_type": "stream",
     "text": [
      "55\n",
      "11\n"
     ]
    }
   ],
   "source": [
    "print my_extra(my_add,22,33)\n",
    "print my_extra(my_sub,33,22)"
   ]
  },
  {
   "cell_type": "code",
   "execution_count": null,
   "metadata": {
    "collapsed": true
   },
   "outputs": [],
   "source": [
    "# function within a function.\n",
    "# function closures\n",
    "# map,filter and lambda"
   ]
  },
  {
   "cell_type": "code",
   "execution_count": null,
   "metadata": {
    "collapsed": true
   },
   "outputs": [],
   "source": [
    "# function within a function"
   ]
  },
  {
   "cell_type": "code",
   "execution_count": 4,
   "metadata": {
    "collapsed": true
   },
   "outputs": [],
   "source": [
    "def outer():\n",
    "    x = 1        # global variabel for inner and local for outer.\n",
    "    def inner(): # local function/scope of outer.\n",
    "        return x\n",
    "    return inner()"
   ]
  },
  {
   "cell_type": "code",
   "execution_count": 6,
   "metadata": {
    "collapsed": false
   },
   "outputs": [
    {
     "name": "stdout",
     "output_type": "stream",
     "text": [
      "1\n"
     ]
    },
    {
     "ename": "NameError",
     "evalue": "name 'inner' is not defined",
     "output_type": "error",
     "traceback": [
      "\u001b[0;31m---------------------------------------------------------------------------\u001b[0m",
      "\u001b[0;31mNameError\u001b[0m                                 Traceback (most recent call last)",
      "\u001b[0;32m<ipython-input-6-b41bfa3ad3a5>\u001b[0m in \u001b[0;36m<module>\u001b[0;34m()\u001b[0m\n\u001b[1;32m      1\u001b[0m \u001b[0;32mprint\u001b[0m \u001b[0mouter\u001b[0m\u001b[0;34m(\u001b[0m\u001b[0;34m)\u001b[0m \u001b[0;31m# 1,no output\u001b[0m\u001b[0;34m\u001b[0m\u001b[0m\n\u001b[0;32m----> 2\u001b[0;31m \u001b[0;32mprint\u001b[0m \u001b[0minner\u001b[0m\u001b[0;34m(\u001b[0m\u001b[0;34m)\u001b[0m \u001b[0;31m# 1,no output\u001b[0m\u001b[0;34m\u001b[0m\u001b[0m\n\u001b[0m",
      "\u001b[0;31mNameError\u001b[0m: name 'inner' is not defined"
     ]
    }
   ],
   "source": [
    "print outer() # 1,no output\n",
    "print inner() # 1,no output"
   ]
  },
  {
   "cell_type": "code",
   "execution_count": 7,
   "metadata": {
    "collapsed": false
   },
   "outputs": [
    {
     "name": "stdout",
     "output_type": "stream",
     "text": [
      "<function fun at 0x7f96846a6050>\n",
      "<type 'function'>\n"
     ]
    },
    {
     "data": {
      "text/plain": [
       "<function __main__.fun>"
      ]
     },
     "execution_count": 7,
     "metadata": {},
     "output_type": "execute_result"
    }
   ],
   "source": [
    "# \n",
    "def fun():\n",
    "    pass\n",
    "\n",
    "print fun\n",
    "print type(fun)\n",
    "fun"
   ]
  },
  {
   "cell_type": "code",
   "execution_count": 10,
   "metadata": {
    "collapsed": true
   },
   "outputs": [],
   "source": [
    "# function closures : During defination of function,the function address holds all the variable \n",
    "# available both locally and globally.\n",
    "# decorators.\n",
    "\n",
    "def outer():\n",
    "    x = 1        # global variabel for inner and local for outer.\n",
    "    def inner(): # local function/scope of outer.\n",
    "        return x\n",
    "    print locals()\n",
    "    return inner # address of function inner"
   ]
  },
  {
   "cell_type": "code",
   "execution_count": 12,
   "metadata": {
    "collapsed": false
   },
   "outputs": [
    {
     "name": "stdout",
     "output_type": "stream",
     "text": [
      "{'x': 1, 'inner': <function inner at 0x7f96846a6320>}\n"
     ]
    },
    {
     "ename": "NameError",
     "evalue": "name 'x' is not defined",
     "output_type": "error",
     "traceback": [
      "\u001b[0;31m---------------------------------------------------------------------------\u001b[0m",
      "\u001b[0;31mNameError\u001b[0m                                 Traceback (most recent call last)",
      "\u001b[0;32m<ipython-input-12-56a6594c95d9>\u001b[0m in \u001b[0;36m<module>\u001b[0;34m()\u001b[0m\n\u001b[1;32m      1\u001b[0m \u001b[0mfoo\u001b[0m \u001b[0;34m=\u001b[0m \u001b[0mouter\u001b[0m\u001b[0;34m(\u001b[0m\u001b[0;34m)\u001b[0m\u001b[0;34m\u001b[0m\u001b[0m\n\u001b[0;32m----> 2\u001b[0;31m \u001b[0;32mprint\u001b[0m \u001b[0mx\u001b[0m\u001b[0;34m\u001b[0m\u001b[0m\n\u001b[0m\u001b[1;32m      3\u001b[0m '''\n\u001b[1;32m      4\u001b[0m     \u001b[0;32mdef\u001b[0m \u001b[0minner\u001b[0m\u001b[0;34m(\u001b[0m\u001b[0;34m)\u001b[0m\u001b[0;34m:\u001b[0m \u001b[0;31m# local function/scope of outer.\u001b[0m\u001b[0;34m\u001b[0m\u001b[0m\n\u001b[1;32m      5\u001b[0m         \u001b[0;32mreturn\u001b[0m \u001b[0mx\u001b[0m\u001b[0;34m\u001b[0m\u001b[0m\n",
      "\u001b[0;31mNameError\u001b[0m: name 'x' is not defined"
     ]
    }
   ],
   "source": [
    "foo = outer()\n",
    "print x\n"
   ]
  },
  {
   "cell_type": "code",
   "execution_count": 13,
   "metadata": {
    "collapsed": false
   },
   "outputs": [
    {
     "name": "stdout",
     "output_type": "stream",
     "text": [
      "<function inner at 0x7f96846a6320>\n",
      "1\n"
     ]
    }
   ],
   "source": [
    "'''\n",
    "    def inner(): # local function/scope of outer.\n",
    "        return x\n",
    "'''\n",
    "print foo\n",
    "print foo()"
   ]
  },
  {
   "cell_type": "code",
   "execution_count": 14,
   "metadata": {
    "collapsed": true
   },
   "outputs": [],
   "source": [
    "# map,filter and lambda"
   ]
  },
  {
   "cell_type": "code",
   "execution_count": 15,
   "metadata": {
    "collapsed": false
   },
   "outputs": [
    {
     "name": "stdout",
     "output_type": "stream",
     "text": [
      "Help on built-in function map in module __builtin__:\n",
      "\n",
      "map(...)\n",
      "    map(function, sequence[, sequence, ...]) -> list\n",
      "    \n",
      "    Return a list of the results of applying the function to the items of\n",
      "    the argument sequence(s).  If more than one sequence is given, the\n",
      "    function is called with an argument list consisting of the corresponding\n",
      "    item of each sequence, substituting None for missing values when not all\n",
      "    sequences have the same length.  If the function is None, return a list of\n",
      "    the items of the sequence (or a list of tuples if more than one sequence).\n",
      "\n",
      "None\n"
     ]
    }
   ],
   "source": [
    "# map\n",
    "print help(map)"
   ]
  },
  {
   "cell_type": "code",
   "execution_count": 17,
   "metadata": {
    "collapsed": false
   },
   "outputs": [
    {
     "name": "stdout",
     "output_type": "stream",
     "text": [
      "4\n",
      "9\n",
      "16\n"
     ]
    }
   ],
   "source": [
    "def square(a):\n",
    "    return a * a\n",
    "\n",
    "# square\n",
    "print square(2)\n",
    "print square(3)\n",
    "print square(4)"
   ]
  },
  {
   "cell_type": "code",
   "execution_count": 18,
   "metadata": {
    "collapsed": false
   },
   "outputs": [
    {
     "name": "stdout",
     "output_type": "stream",
     "text": [
      "[1, 16, 36, 64, 144, 196, 289, 361]\n"
     ]
    }
   ],
   "source": [
    "print map(square,[1,4,6,8,12,14,17,19])"
   ]
  },
  {
   "cell_type": "code",
   "execution_count": 19,
   "metadata": {
    "collapsed": false
   },
   "outputs": [
    {
     "name": "stdout",
     "output_type": "stream",
     "text": [
      "Help on built-in function filter in module __builtin__:\n",
      "\n",
      "filter(...)\n",
      "    filter(function or None, sequence) -> list, tuple, or string\n",
      "    \n",
      "    Return those items of sequence for which function(item) is true.  If\n",
      "    function is None, return the items that are true.  If sequence is a tuple\n",
      "    or string, return the same type, else return a list.\n",
      "\n",
      "None\n"
     ]
    }
   ],
   "source": [
    "# filter\n",
    "print help(filter)"
   ]
  },
  {
   "cell_type": "code",
   "execution_count": 20,
   "metadata": {
    "collapsed": false
   },
   "outputs": [
    {
     "name": "stdout",
     "output_type": "stream",
     "text": [
      "even\n",
      "None\n"
     ]
    }
   ],
   "source": [
    "def even(a):\n",
    "    if a % 2 == 0:\n",
    "        return 'even'\n",
    "    \n",
    "print even(2) # true\n",
    "print even(3) # false"
   ]
  },
  {
   "cell_type": "code",
   "execution_count": 21,
   "metadata": {
    "collapsed": false
   },
   "outputs": [
    {
     "name": "stdout",
     "output_type": "stream",
     "text": [
      "[2, 4, 6, 8, 10]\n"
     ]
    }
   ],
   "source": [
    "print filter(even,[1,2,3,4,5,6,7,8,9,10])"
   ]
  },
  {
   "cell_type": "code",
   "execution_count": 22,
   "metadata": {
    "collapsed": false
   },
   "outputs": [
    {
     "name": "stdout",
     "output_type": "stream",
     "text": [
      "[1, 16, 36, 64, 144, 196, 289, 361]\n",
      "[1, 4, 6, 8, 12, 14, 17, 19]\n"
     ]
    }
   ],
   "source": [
    "# other examples\n",
    "print map(square,[1,4,6,8,12,14,17,19])    # output after applying sequence to function.\n",
    "print filter(square,[1,4,6,8,12,14,17,19]) # give you elementf of sequence for function being true."
   ]
  },
  {
   "cell_type": "code",
   "execution_count": 23,
   "metadata": {
    "collapsed": false
   },
   "outputs": [
    {
     "name": "stdout",
     "output_type": "stream",
     "text": [
      "[2, 4, 6, 8, 10]\n",
      "[None, 'even', None, 'even', None, 'even', None, 'even', None, 'even']\n"
     ]
    }
   ],
   "source": [
    "print filter(even,[1,2,3,4,5,6,7,8,9,10])\n",
    "print map(even,[1,2,3,4,5,6,7,8,9,10])"
   ]
  },
  {
   "cell_type": "code",
   "execution_count": 25,
   "metadata": {
    "collapsed": false
   },
   "outputs": [
    {
     "name": "stdout",
     "output_type": "stream",
     "text": [
      "[1, 16, 36, 64, 144, 196, 289, 361]\n",
      "[1, 16, 36, 64, 144, 196, 289, 361]\n"
     ]
    }
   ],
   "source": [
    "# lambda\n",
    "# nameless function.\n",
    "print map(square,[1,4,6,8,12,14,17,19])\n",
    "print map(lambda a:a*a,[1,4,6,8,12,14,17,19])"
   ]
  },
  {
   "cell_type": "code",
   "execution_count": 26,
   "metadata": {
    "collapsed": false
   },
   "outputs": [
    {
     "name": "stdout",
     "output_type": "stream",
     "text": [
      "[2, 4, 6, 8, 10]\n",
      "[2, 4, 6, 8, 10]\n"
     ]
    }
   ],
   "source": [
    "print filter(even,[1,2,3,4,5,6,7,8,9,10])\n",
    "print filter(lambda a: a % 2 == 0,[1,2,3,4,5,6,7,8,9,10])"
   ]
  },
  {
   "cell_type": "code",
   "execution_count": null,
   "metadata": {
    "collapsed": true
   },
   "outputs": [],
   "source": [
    "# exercises\n",
    "# https://github.com/zhiwehu/Python-programming-exercises/blob/master/100%2B%20Python%20challenging%20programming%20exercises.txt"
   ]
  }
 ],
 "metadata": {
  "kernelspec": {
   "display_name": "Python 2",
   "language": "python",
   "name": "python2"
  },
  "language_info": {
   "codemirror_mode": {
    "name": "ipython",
    "version": 2
   },
   "file_extension": ".py",
   "mimetype": "text/x-python",
   "name": "python",
   "nbconvert_exporter": "python",
   "pygments_lexer": "ipython2",
   "version": "2.7.6"
  }
 },
 "nbformat": 4,
 "nbformat_minor": 1
}
