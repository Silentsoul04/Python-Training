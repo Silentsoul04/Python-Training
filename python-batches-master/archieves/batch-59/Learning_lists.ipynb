{
 "cells": [
  {
   "cell_type": "code",
   "execution_count": null,
   "metadata": {
    "collapsed": true
   },
   "outputs": [],
   "source": [
    "# Lists\n",
    "# A collection of elements - homongenous/hetrogenous collection of data.\n",
    "# list and array are different - python\n",
    "# list is a linear collection of data.\n",
    "# Array is a n dimension representation of data. ( numpy)\n",
    "# http://scipy.org/\n",
    "# TODO : ADD THE LINK FOR THE SEMINARS"
   ]
  },
  {
   "cell_type": "code",
   "execution_count": 3,
   "metadata": {
    "collapsed": false
   },
   "outputs": [
    {
     "name": "stdout",
     "output_type": "stream",
     "text": [
      "['apple', 'banana', 'cherry', 'dates'] <type 'list'>\n",
      "[] <type 'list'>\n",
      "[] <type 'list'>\n"
     ]
    }
   ],
   "source": [
    "my_fruits = ['apple','banana','cherry','dates']\n",
    "print my_fruits,type(my_fruits)\n",
    "\n",
    "my_empty = []\n",
    "print my_empty,type(my_empty)\n",
    "\n",
    "my_emtpy = list()\n",
    "print my_empty,type(my_empty)"
   ]
  },
  {
   "cell_type": "code",
   "execution_count": 4,
   "metadata": {
    "collapsed": false
   },
   "outputs": [
    {
     "name": "stdout",
     "output_type": "stream",
     "text": [
      "banana\n"
     ]
    }
   ],
   "source": [
    "# indexing\n",
    "my_fruits = ['apple','banana','cherry','dates']\n",
    "#              0        1        2       3      # +ve indexing or left to right\n",
    "#              -4       -3       -2      -1     # -ve indexing or right to left\n",
    "\n",
    "print my_fruits[1]"
   ]
  },
  {
   "cell_type": "code",
   "execution_count": 7,
   "metadata": {
    "collapsed": false
   },
   "outputs": [
    {
     "name": "stdout",
     "output_type": "stream",
     "text": [
      "['apple', 'banana', 'cherry']\n",
      "['apple', 'cherry']\n",
      "['banana', 'dates']\n"
     ]
    }
   ],
   "source": [
    "# slicing\n",
    "print my_fruits[0:3]\n",
    "# for(i=0;i<=4;i+2)\n",
    "print my_fruits[::2]\n",
    "print my_fruits[1::2]"
   ]
  },
  {
   "cell_type": "code",
   "execution_count": 9,
   "metadata": {
    "collapsed": false
   },
   "outputs": [
    {
     "name": "stdout",
     "output_type": "stream",
     "text": [
      "True\n",
      "False\n"
     ]
    }
   ],
   "source": [
    "# in operator\n",
    "print 'apple' in my_fruits\n",
    "print 'gauva' in my_fruits"
   ]
  },
  {
   "cell_type": "code",
   "execution_count": 12,
   "metadata": {
    "collapsed": false
   },
   "outputs": [
    {
     "name": "stdout",
     "output_type": "stream",
     "text": [
      "results of student - naren\n",
      "results of student - sushma\n"
     ]
    }
   ],
   "source": [
    "# task\n",
    "absent = ['kumar','shalini','sandy']\n",
    "for student in ['naren','sandy','kumar','shalini','sushma']:\n",
    "\tif student in absent:\n",
    "\t\tcontinue\n",
    "\t\t#break\n",
    "\t\t#pass\n",
    "\tprint \"results of student - {}\".format(student)"
   ]
  },
  {
   "cell_type": "code",
   "execution_count": null,
   "metadata": {
    "collapsed": true
   },
   "outputs": [],
   "source": [
    "# lists are mutable \n",
    "# strings are immutable"
   ]
  },
  {
   "cell_type": "code",
   "execution_count": 14,
   "metadata": {
    "collapsed": false
   },
   "outputs": [
    {
     "name": "stdout",
     "output_type": "stream",
     "text": [
      "['apple', 'banana', 'cherry', 'dates']\n",
      "['Apple', 'banana', 'cherry', 'dates']\n"
     ]
    }
   ],
   "source": [
    "print my_fruits\n",
    "my_fruits[0]='Apple'\n",
    "print my_fruits"
   ]
  },
  {
   "cell_type": "code",
   "execution_count": 15,
   "metadata": {
    "collapsed": false
   },
   "outputs": [
    {
     "ename": "TypeError",
     "evalue": "'str' object does not support item assignment",
     "output_type": "error",
     "traceback": [
      "\u001b[0;31m---------------------------------------------------------------------------\u001b[0m",
      "\u001b[0;31mTypeError\u001b[0m                                 Traceback (most recent call last)",
      "\u001b[0;32m<ipython-input-15-f8a878169bfa>\u001b[0m in \u001b[0;36m<module>\u001b[0;34m()\u001b[0m\n\u001b[1;32m      1\u001b[0m \u001b[0;31m# string\u001b[0m\u001b[0;34m\u001b[0m\u001b[0;34m\u001b[0m\u001b[0m\n\u001b[1;32m      2\u001b[0m \u001b[0mmy_string\u001b[0m \u001b[0;34m=\u001b[0m \u001b[0;34m\"python\"\u001b[0m\u001b[0;34m\u001b[0m\u001b[0m\n\u001b[0;32m----> 3\u001b[0;31m \u001b[0mmy_string\u001b[0m\u001b[0;34m[\u001b[0m\u001b[0;36m0\u001b[0m\u001b[0;34m]\u001b[0m\u001b[0;34m=\u001b[0m\u001b[0;34m\"P\"\u001b[0m\u001b[0;34m\u001b[0m\u001b[0m\n\u001b[0m",
      "\u001b[0;31mTypeError\u001b[0m: 'str' object does not support item assignment"
     ]
    }
   ],
   "source": [
    "# string\n",
    "my_string = \"python\"\n",
    "my_string[0]=\"P\""
   ]
  },
  {
   "cell_type": "code",
   "execution_count": 16,
   "metadata": {
    "collapsed": false
   },
   "outputs": [
    {
     "name": "stdout",
     "output_type": "stream",
     "text": [
      "Apple\n",
      "banana\n",
      "cherry\n",
      "dates\n"
     ]
    }
   ],
   "source": [
    "# lists are iterable.\n",
    "\n",
    "for value in my_fruits:\n",
    "    print value"
   ]
  },
  {
   "cell_type": "code",
   "execution_count": 18,
   "metadata": {
    "collapsed": false
   },
   "outputs": [
    {
     "name": "stdout",
     "output_type": "stream",
     "text": [
      "['p', 'y', 't', 'h', 'o', 'n'] <type 'list'>\n"
     ]
    }
   ],
   "source": [
    "# converting a list to string and vice-versa\n",
    "\n",
    "## convert a string to a list.\n",
    "my_string=\"python\"\n",
    "Lmy_string = list(my_string)\n",
    "print Lmy_string,type(Lmy_string)"
   ]
  },
  {
   "cell_type": "code",
   "execution_count": 19,
   "metadata": {
    "collapsed": false
   },
   "outputs": [
    {
     "name": "stdout",
     "output_type": "stream",
     "text": [
      "['T', 'y', 't', 'h', 'o', 'n']\n"
     ]
    }
   ],
   "source": [
    "# list to string\n",
    "Lmy_string[0]='T'\n",
    "print Lmy_string"
   ]
  },
  {
   "cell_type": "code",
   "execution_count": 23,
   "metadata": {
    "collapsed": false
   },
   "outputs": [
    {
     "name": "stdout",
     "output_type": "stream",
     "text": [
      "Help on built-in function join:\n",
      "\n",
      "join(...)\n",
      "    S.join(iterable) -> string\n",
      "    \n",
      "    Return a string which is the concatenation of the strings in the\n",
      "    iterable.  The separator between elements is S.\n",
      "\n",
      "None\n",
      "T:y:t:h:o:n\n"
     ]
    }
   ],
   "source": [
    "delimiter=\"\"\n",
    "print help(delimiter.join)\n",
    "print delimiter.join(Lmy_string)"
   ]
  },
  {
   "cell_type": "code",
   "execution_count": 25,
   "metadata": {
    "collapsed": false
   },
   "outputs": [
    {
     "name": "stdout",
     "output_type": "stream",
     "text": [
      "['T', 'o', 'd', 'a', 'y', ' ', 'i', 's', ' ', 's', 'u', 'n', 'd', 'a', 'y']\n"
     ]
    }
   ],
   "source": [
    "# case - II\n",
    "my_string = \"Today is sunday\"\n",
    "Lmy_string=list(my_string)\n",
    "print Lmy_string"
   ]
  },
  {
   "cell_type": "code",
   "execution_count": 26,
   "metadata": {
    "collapsed": false
   },
   "outputs": [
    {
     "name": "stdout",
     "output_type": "stream",
     "text": [
      "Help on built-in function split:\n",
      "\n",
      "split(...)\n",
      "    S.split([sep [,maxsplit]]) -> list of strings\n",
      "    \n",
      "    Return a list of the words in the string S, using sep as the\n",
      "    delimiter string.  If maxsplit is given, at most maxsplit\n",
      "    splits are done. If sep is not specified or is None, any\n",
      "    whitespace string is a separator and empty strings are removed\n",
      "    from the result.\n",
      "\n",
      "None\n"
     ]
    }
   ],
   "source": [
    "print help(my_string.split)"
   ]
  },
  {
   "cell_type": "code",
   "execution_count": 29,
   "metadata": {
    "collapsed": false
   },
   "outputs": [
    {
     "name": "stdout",
     "output_type": "stream",
     "text": [
      "['Today', 'is', 'sunday']\n",
      "['Tomorrow', 'is', 'sunday']\n"
     ]
    }
   ],
   "source": [
    "Lmy_string = my_string.split()\n",
    "print Lmy_string\n",
    "Lmy_string[0]='Tomorrow'\n",
    "print Lmy_string"
   ]
  },
  {
   "cell_type": "code",
   "execution_count": 30,
   "metadata": {
    "collapsed": false
   },
   "outputs": [
    {
     "name": "stdout",
     "output_type": "stream",
     "text": [
      "Tomorrow is sunday\n"
     ]
    }
   ],
   "source": [
    "# convert the list back to string\n",
    "limiter=\" \"\n",
    "print limiter.join(Lmy_string)"
   ]
  },
  {
   "cell_type": "code",
   "execution_count": 33,
   "metadata": {
    "collapsed": false
   },
   "outputs": [
    {
     "name": "stdout",
     "output_type": "stream",
     "text": [
      "['Apple', 'banana', 'cherry', 'dates']\n",
      "['__add__', '__class__', '__contains__', '__delattr__', '__delitem__', '__delslice__', '__doc__', '__eq__', '__format__', '__ge__', '__getattribute__', '__getitem__', '__getslice__', '__gt__', '__hash__', '__iadd__', '__imul__', '__init__', '__iter__', '__le__', '__len__', '__lt__', '__mul__', '__ne__', '__new__', '__reduce__', '__reduce_ex__', '__repr__', '__reversed__', '__rmul__', '__setattr__', '__setitem__', '__setslice__', '__sizeof__', '__str__', '__subclasshook__', 'append', 'count', 'extend', 'index', 'insert', 'pop', 'remove', 'reverse', 'sort']\n",
      "Help on built-in function dir in module __builtin__:\n",
      "\n",
      "dir(...)\n",
      "    dir([object]) -> list of strings\n",
      "    \n",
      "    If called without an argument, return the names in the current scope.\n",
      "    Else, return an alphabetized list of names comprising (some of) the attributes\n",
      "    of the given object, and of attributes reachable from it.\n",
      "    If the object supplies a method named __dir__, it will be used; otherwise\n",
      "    the default dir() logic is used and returns:\n",
      "      for a module object: the module's attributes.\n",
      "      for a class object:  its attributes, and recursively the attributes\n",
      "        of its bases.\n",
      "      for any other object: its attributes, its class's attributes, and\n",
      "        recursively the attributes of its class's base classes.\n",
      "\n",
      "None\n"
     ]
    }
   ],
   "source": [
    "# Function\n",
    "\n",
    "print my_fruits\n",
    "print dir(my_fruits)\n",
    "print help(dir)"
   ]
  },
  {
   "cell_type": "code",
   "execution_count": 34,
   "metadata": {
    "collapsed": false
   },
   "outputs": [
    {
     "name": "stdout",
     "output_type": "stream",
     "text": [
      "Help on built-in function append:\n",
      "\n",
      "append(...)\n",
      "    L.append(object) -- append object to end\n",
      "\n",
      "None\n"
     ]
    }
   ],
   "source": [
    "# append\n",
    "\n",
    "print help(my_fruits.append)"
   ]
  },
  {
   "cell_type": "code",
   "execution_count": 35,
   "metadata": {
    "collapsed": false
   },
   "outputs": [
    {
     "name": "stdout",
     "output_type": "stream",
     "text": [
      "None\n",
      "['Apple', 'banana', 'cherry', 'dates', 'figs']\n"
     ]
    }
   ],
   "source": [
    "print my_fruits.append('figs')\n",
    "print my_fruits"
   ]
  },
  {
   "cell_type": "code",
   "execution_count": 36,
   "metadata": {
    "collapsed": false
   },
   "outputs": [
    {
     "name": "stdout",
     "output_type": "stream",
     "text": [
      "Help on built-in function extend:\n",
      "\n",
      "extend(...)\n",
      "    L.extend(iterable) -- extend list by appending elements from the iterable\n",
      "\n",
      "None\n"
     ]
    }
   ],
   "source": [
    "# extend\n",
    "\n",
    "print help(my_fruits.extend)"
   ]
  },
  {
   "cell_type": "code",
   "execution_count": 38,
   "metadata": {
    "collapsed": false
   },
   "outputs": [
    {
     "name": "stdout",
     "output_type": "stream",
     "text": [
      "['Apple', 'banana', 'cherry', 'dates', 'figs', 'gauva', 'jackfruit', 'kiwi']\n"
     ]
    }
   ],
   "source": [
    "my_fruits.extend(['gauva','jackfruit','kiwi'])\n",
    "print my_fruits"
   ]
  },
  {
   "cell_type": "code",
   "execution_count": 39,
   "metadata": {
    "collapsed": false
   },
   "outputs": [
    {
     "name": "stdout",
     "output_type": "stream",
     "text": [
      "Help on built-in function index:\n",
      "\n",
      "index(...)\n",
      "    L.index(value, [start, [stop]]) -> integer -- return first index of value.\n",
      "    Raises ValueError if the value is not present.\n",
      "\n",
      "None\n"
     ]
    }
   ],
   "source": [
    "# index\n",
    "\n",
    "print help(my_fruits.index)\n"
   ]
  },
  {
   "cell_type": "code",
   "execution_count": 40,
   "metadata": {
    "collapsed": false
   },
   "outputs": [
    {
     "data": {
      "text/plain": [
       "5"
      ]
     },
     "execution_count": 40,
     "metadata": {},
     "output_type": "execute_result"
    }
   ],
   "source": [
    "my_fruits.index('gauva')"
   ]
  },
  {
   "cell_type": "code",
   "execution_count": 41,
   "metadata": {
    "collapsed": false
   },
   "outputs": [
    {
     "name": "stdout",
     "output_type": "stream",
     "text": [
      "Help on built-in function insert:\n",
      "\n",
      "insert(...)\n",
      "    L.insert(index, object) -- insert object before index\n",
      "\n",
      "None\n"
     ]
    }
   ],
   "source": [
    "# insert\n",
    "print help(my_fruits.insert)"
   ]
  },
  {
   "cell_type": "code",
   "execution_count": 42,
   "metadata": {
    "collapsed": false
   },
   "outputs": [
    {
     "name": "stdout",
     "output_type": "stream",
     "text": [
      "['Apple', 'banana', 'cherry', 'dates', 'figs', 'grapes', 'gauva', 'jackfruit', 'kiwi']\n"
     ]
    }
   ],
   "source": [
    "my_fruits.insert(5,'grapes')\n",
    "print my_fruits"
   ]
  },
  {
   "cell_type": "code",
   "execution_count": 43,
   "metadata": {
    "collapsed": false
   },
   "outputs": [
    {
     "name": "stdout",
     "output_type": "stream",
     "text": [
      "Help on built-in function count:\n",
      "\n",
      "count(...)\n",
      "    L.count(value) -> integer -- return number of occurrences of value\n",
      "\n",
      "None\n"
     ]
    }
   ],
   "source": [
    "# count\n",
    "print help(my_fruits.count)"
   ]
  },
  {
   "cell_type": "code",
   "execution_count": 44,
   "metadata": {
    "collapsed": false
   },
   "outputs": [
    {
     "name": "stdout",
     "output_type": "stream",
     "text": [
      "1\n"
     ]
    }
   ],
   "source": [
    "print my_fruits.count('gauva')"
   ]
  },
  {
   "cell_type": "code",
   "execution_count": 45,
   "metadata": {
    "collapsed": false
   },
   "outputs": [
    {
     "name": "stdout",
     "output_type": "stream",
     "text": [
      "['Apple', 'banana', 'cherry', 'dates', 'figs', 'grapes', 'gauva', 'jackfruit', 'kiwi', 'gauva']\n",
      "2\n"
     ]
    }
   ],
   "source": [
    "my_fruits.append('gauva')\n",
    "print my_fruits\n",
    "print my_fruits.count('gauva')"
   ]
  },
  {
   "cell_type": "code",
   "execution_count": 46,
   "metadata": {
    "collapsed": false
   },
   "outputs": [
    {
     "name": "stdout",
     "output_type": "stream",
     "text": [
      "Help on built-in function pop:\n",
      "\n",
      "pop(...)\n",
      "    L.pop([index]) -> item -- remove and return item at index (default last).\n",
      "    Raises IndexError if list is empty or index is out of range.\n",
      "\n",
      "None\n"
     ]
    }
   ],
   "source": [
    "# pop\n",
    "\n",
    "print help(my_fruits.pop)"
   ]
  },
  {
   "cell_type": "code",
   "execution_count": 47,
   "metadata": {
    "collapsed": false
   },
   "outputs": [
    {
     "name": "stdout",
     "output_type": "stream",
     "text": [
      "jackfruit\n"
     ]
    }
   ],
   "source": [
    "print my_fruits.pop(my_fruits.index('jackfruit'))"
   ]
  },
  {
   "cell_type": "code",
   "execution_count": 48,
   "metadata": {
    "collapsed": false
   },
   "outputs": [
    {
     "name": "stdout",
     "output_type": "stream",
     "text": [
      "['Apple', 'banana', 'cherry', 'dates', 'figs', 'grapes', 'gauva', 'kiwi', 'gauva']\n"
     ]
    }
   ],
   "source": [
    "print my_fruits"
   ]
  },
  {
   "cell_type": "code",
   "execution_count": 49,
   "metadata": {
    "collapsed": false
   },
   "outputs": [
    {
     "name": "stdout",
     "output_type": "stream",
     "text": [
      "gauva\n"
     ]
    }
   ],
   "source": [
    "print my_fruits.pop()"
   ]
  },
  {
   "cell_type": "code",
   "execution_count": 50,
   "metadata": {
    "collapsed": false
   },
   "outputs": [
    {
     "name": "stdout",
     "output_type": "stream",
     "text": [
      "['Apple', 'banana', 'cherry', 'dates', 'figs', 'grapes', 'gauva', 'kiwi']\n"
     ]
    }
   ],
   "source": [
    "print my_fruits"
   ]
  },
  {
   "cell_type": "code",
   "execution_count": 51,
   "metadata": {
    "collapsed": false
   },
   "outputs": [
    {
     "ename": "IndexError",
     "evalue": "pop index out of range",
     "output_type": "error",
     "traceback": [
      "\u001b[0;31m---------------------------------------------------------------------------\u001b[0m",
      "\u001b[0;31mIndexError\u001b[0m                                Traceback (most recent call last)",
      "\u001b[0;32m<ipython-input-51-deedb1201e56>\u001b[0m in \u001b[0;36m<module>\u001b[0;34m()\u001b[0m\n\u001b[0;32m----> 1\u001b[0;31m \u001b[0;32mprint\u001b[0m \u001b[0mmy_fruits\u001b[0m\u001b[0;34m.\u001b[0m\u001b[0mpop\u001b[0m\u001b[0;34m(\u001b[0m\u001b[0;36m20\u001b[0m\u001b[0;34m)\u001b[0m\u001b[0;34m\u001b[0m\u001b[0m\n\u001b[0m",
      "\u001b[0;31mIndexError\u001b[0m: pop index out of range"
     ]
    }
   ],
   "source": [
    "print my_fruits.pop(20)"
   ]
  },
  {
   "cell_type": "code",
   "execution_count": 52,
   "metadata": {
    "collapsed": false
   },
   "outputs": [
    {
     "name": "stdout",
     "output_type": "stream",
     "text": [
      "Help on built-in function remove:\n",
      "\n",
      "remove(...)\n",
      "    L.remove(value) -- remove first occurrence of value.\n",
      "    Raises ValueError if the value is not present.\n",
      "\n",
      "None\n"
     ]
    }
   ],
   "source": [
    "# remove\n",
    "print help(my_fruits.remove)"
   ]
  },
  {
   "cell_type": "code",
   "execution_count": 53,
   "metadata": {
    "collapsed": false
   },
   "outputs": [
    {
     "name": "stdout",
     "output_type": "stream",
     "text": [
      "None\n",
      "['Apple', 'banana', 'cherry', 'dates', 'figs', 'gauva', 'kiwi']\n"
     ]
    }
   ],
   "source": [
    "print my_fruits.remove('grapes')\n",
    "print my_fruits"
   ]
  },
  {
   "cell_type": "code",
   "execution_count": 54,
   "metadata": {
    "collapsed": false
   },
   "outputs": [
    {
     "ename": "ValueError",
     "evalue": "list.remove(x): x not in list",
     "output_type": "error",
     "traceback": [
      "\u001b[0;31m---------------------------------------------------------------------------\u001b[0m",
      "\u001b[0;31mValueError\u001b[0m                                Traceback (most recent call last)",
      "\u001b[0;32m<ipython-input-54-2be81d71bbd3>\u001b[0m in \u001b[0;36m<module>\u001b[0;34m()\u001b[0m\n\u001b[0;32m----> 1\u001b[0;31m \u001b[0;32mprint\u001b[0m \u001b[0mmy_fruits\u001b[0m\u001b[0;34m.\u001b[0m\u001b[0mremove\u001b[0m\u001b[0;34m(\u001b[0m\u001b[0;34m'grapes'\u001b[0m\u001b[0;34m)\u001b[0m\u001b[0;34m\u001b[0m\u001b[0m\n\u001b[0m",
      "\u001b[0;31mValueError\u001b[0m: list.remove(x): x not in list"
     ]
    }
   ],
   "source": [
    "print my_fruits.remove('grapes')"
   ]
  },
  {
   "cell_type": "code",
   "execution_count": 55,
   "metadata": {
    "collapsed": false
   },
   "outputs": [
    {
     "name": "stdout",
     "output_type": "stream",
     "text": [
      "Help on built-in function reverse:\n",
      "\n",
      "reverse(...)\n",
      "    L.reverse() -- reverse *IN PLACE*\n",
      "\n",
      "None\n",
      "None\n",
      "['kiwi', 'gauva', 'figs', 'dates', 'cherry', 'banana', 'Apple']\n"
     ]
    }
   ],
   "source": [
    "# reverse\n",
    "print help(my_fruits.reverse)\n",
    "print my_fruits.reverse()\n",
    "print my_fruits"
   ]
  },
  {
   "cell_type": "code",
   "execution_count": 56,
   "metadata": {
    "collapsed": false
   },
   "outputs": [
    {
     "name": "stdout",
     "output_type": "stream",
     "text": [
      "Help on built-in function sort:\n",
      "\n",
      "sort(...)\n",
      "    L.sort(cmp=None, key=None, reverse=False) -- stable sort *IN PLACE*;\n",
      "    cmp(x, y) -> -1, 0, 1\n",
      "\n",
      "None\n"
     ]
    }
   ],
   "source": [
    "# sort\n",
    "print help(my_fruits.sort)"
   ]
  },
  {
   "cell_type": "code",
   "execution_count": 57,
   "metadata": {
    "collapsed": false
   },
   "outputs": [
    {
     "name": "stdout",
     "output_type": "stream",
     "text": [
      "None\n",
      "['kiwi', 'gauva', 'figs', 'dates', 'cherry', 'banana', 'Apple']\n"
     ]
    }
   ],
   "source": [
    "print my_fruits.sort(reverse=True)\n",
    "print my_fruits"
   ]
  },
  {
   "cell_type": "code",
   "execution_count": 58,
   "metadata": {
    "collapsed": false
   },
   "outputs": [
    {
     "name": "stdout",
     "output_type": "stream",
     "text": [
      "None\n",
      "['Apple', 'banana', 'cherry', 'dates', 'figs', 'gauva', 'kiwi']\n"
     ]
    }
   ],
   "source": [
    "print my_fruits.sort()\n",
    "print my_fruits"
   ]
  },
  {
   "cell_type": "raw",
   "metadata": {
    "collapsed": true
   },
   "source": [
    "# task1\n",
    "--------\n",
    "\n",
    "Part 1:\n",
    "days = ['yesterday','today','tomorrow','dayafter']\n",
    "\n",
    "yesterday  9\n",
    "today      5\n",
    "tomorrow   8\n",
    "dayafter   8\n",
    "\n",
    "Part 2:\n",
    "Yesterday\n",
    "TOday\n",
    "TOMorrow\n",
    "DAYAfter\n",
    "\n",
    "Task2\n",
    "------\n",
    "# input\n",
    "my_fruits = ['apple','banana','apple','banana','cherry']\n",
    "# output\n",
    "duplicate = ['apple','banana']\n",
    "my_fruits = ['apple','banana','cherry]\n",
    "\n",
    "Task3\n",
    "------\n",
    "num = raw_input(\"please enter a number:\")\n",
    "# give num as 1,2,3,4,5,6,7,8,9,10\n",
    "i want the output as 2,4,6,8,10\n"
   ]
  },
  {
   "cell_type": "code",
   "execution_count": 18,
   "metadata": {
    "collapsed": false
   },
   "outputs": [
    {
     "name": "stdout",
     "output_type": "stream",
     "text": [
      "yesterday 9\n",
      "today 5\n",
      "tomorrow 8\n",
      "dayafter 8\n"
     ]
    }
   ],
   "source": [
    "# task1\n",
    "days = ['yesterday','today','tomorrow','dayafter']\n",
    "\n",
    "# part1\n",
    "# len\n",
    "for value in days:\n",
    "    print value,len(value)\n",
    "    \n"
   ]
  },
  {
   "cell_type": "code",
   "execution_count": 25,
   "metadata": {
    "collapsed": false
   },
   "outputs": [
    {
     "name": "stdout",
     "output_type": "stream",
     "text": [
      "yesterday 0 y y\n",
      "today 1 o to\n",
      "tomorrow 2 m tom\n",
      "dayafter 3 a daya\n"
     ]
    }
   ],
   "source": [
    "# part 2\n",
    "for value in days:\n",
    "    print value,days.index(value),value[days.index(value)],value[:days.index(value) + 1]"
   ]
  },
  {
   "cell_type": "code",
   "execution_count": 1,
   "metadata": {
    "collapsed": false
   },
   "outputs": [
    {
     "name": "stdout",
     "output_type": "stream",
     "text": [
      "pyt\n",
      "hon\n",
      "python\n"
     ]
    }
   ],
   "source": [
    "my_string=\"python\"\n",
    "print my_string[:3]\n",
    "print my_string[3:]\n",
    "print my_string[:3] + my_string[3:]"
   ]
  },
  {
   "cell_type": "code",
   "execution_count": 28,
   "metadata": {
    "collapsed": false
   },
   "outputs": [
    {
     "name": "stdout",
     "output_type": "stream",
     "text": [
      "Yesterday\n",
      "TOday\n",
      "TOMorrow\n",
      "DAYAfter\n"
     ]
    }
   ],
   "source": [
    "for value in days:\n",
    "    print value[:days.index(value) + 1].upper() + value[days.index(value) + 1:]"
   ]
  },
  {
   "cell_type": "code",
   "execution_count": 22,
   "metadata": {
    "collapsed": false
   },
   "outputs": [
    {
     "name": "stdout",
     "output_type": "stream",
     "text": [
      "['apple', 'banana', 'cherry'] ['apple', 'banana']\n"
     ]
    }
   ],
   "source": [
    "# task2\n",
    "my_fruits = ['apple','banana','apple','banana','cherry']\n",
    "duplicate=[]\n",
    "for value in my_fruits:\n",
    "    if my_fruits.count(value) > 1:\n",
    "        if value in duplicate:\n",
    "            pass\n",
    "        else:\n",
    "            duplicate.append(value)\n",
    "        my_fruits.remove(value)\n",
    "print my_fruits,duplicate"
   ]
  },
  {
   "cell_type": "code",
   "execution_count": 6,
   "metadata": {
    "collapsed": false
   },
   "outputs": [
    {
     "name": "stdout",
     "output_type": "stream",
     "text": [
      "please enter a number1,2,3,4,5,6,7,8,9,10\n",
      "1,2,3,4,5,6,7,8,9,10 <type 'str'>\n",
      "['1', '2', '3', '4', '5', '6', '7', '8', '9', '10']\n",
      "2,4,6,8,10\n"
     ]
    }
   ],
   "source": [
    "# task3\n",
    "\n",
    "my_even = []\n",
    "num = raw_input(\"please enter a number\")\n",
    "print num,type(num)\n",
    "Lmy_num = num.split(',')\n",
    "print Lmy_num\n",
    "for value in Lmy_num:\n",
    "    if int(value) % 2 == 0:\n",
    "        my_even.append(value)\n",
    "print \",\".join(my_even)"
   ]
  },
  {
   "cell_type": "code",
   "execution_count": 10,
   "metadata": {
    "collapsed": false
   },
   "outputs": [
    {
     "name": "stdout",
     "output_type": "stream",
     "text": [
      "please enter a number:1,2,3,4,5,6,7,8,9,10\n",
      "2,4,6,8,10\n"
     ]
    }
   ],
   "source": [
    "# list comprehnesions\n",
    "# https://github.com/tuxfux-hlp/Python-examples/blob/master/lists/list_comprehension.txt\n",
    "# [ print ; condition ; statement ]\n",
    "num = raw_input(\"please enter a number:\")\n",
    "print \",\".join([ value for value in num.split(',') if int(value) % 2 == 0])"
   ]
  },
  {
   "cell_type": "code",
   "execution_count": 12,
   "metadata": {
    "collapsed": false
   },
   "outputs": [
    {
     "name": "stdout",
     "output_type": "stream",
     "text": [
      "[['Today', 'TODAY', 'today'], ['Is', 'IS', 'is'], ['Sunday', 'SUNDAY', 'sunday']]\n"
     ]
    }
   ],
   "source": [
    "# \n",
    "my_string = \"today is sunday\"\n",
    "# output\n",
    "# capitalize,upper,lower\n",
    "print [[value.capitalize(),value.upper(),value.lower()] for value in my_string.split()]"
   ]
  },
  {
   "cell_type": "code",
   "execution_count": 1,
   "metadata": {
    "collapsed": false
   },
   "outputs": [
    {
     "name": "stdout",
     "output_type": "stream",
     "text": [
      "Help on built-in function id in module __builtin__:\n",
      "\n",
      "id(...)\n",
      "    id(object) -> integer\n",
      "    \n",
      "    Return the identity of an object.  This is guaranteed to be unique among\n",
      "    simultaneously existing objects.  (Hint: it's the object's memory address.)\n",
      "\n",
      "None\n"
     ]
    }
   ],
   "source": [
    "# memory allocation in list\n",
    "a = 10\n",
    "\n",
    "print help(id)"
   ]
  },
  {
   "cell_type": "code",
   "execution_count": 2,
   "metadata": {
    "collapsed": false
   },
   "outputs": [
    {
     "name": "stdout",
     "output_type": "stream",
     "text": [
      "11153568\n",
      "11153568\n"
     ]
    }
   ],
   "source": [
    "print id(a)\n",
    "print id(10)"
   ]
  },
  {
   "cell_type": "code",
   "execution_count": 3,
   "metadata": {
    "collapsed": false
   },
   "outputs": [
    {
     "name": "stdout",
     "output_type": "stream",
     "text": [
      "10 10\n",
      "11153568 11153568 11153568\n"
     ]
    }
   ],
   "source": [
    "b = a\n",
    "print a,b\n",
    "print id(a),id(b),id(10)"
   ]
  },
  {
   "cell_type": "code",
   "execution_count": 4,
   "metadata": {
    "collapsed": false
   },
   "outputs": [
    {
     "name": "stdout",
     "output_type": "stream",
     "text": [
      "True\n"
     ]
    }
   ],
   "source": [
    "# is\n",
    "print  b is a"
   ]
  },
  {
   "cell_type": "code",
   "execution_count": 5,
   "metadata": {
    "collapsed": false
   },
   "outputs": [
    {
     "name": "stdout",
     "output_type": "stream",
     "text": [
      "10 20\n",
      "11153568 11153328 11153568 11153328\n"
     ]
    }
   ],
   "source": [
    "b = 20\n",
    "print a,b\n",
    "print id(a),id(b),id(10),id(20)"
   ]
  },
  {
   "cell_type": "code",
   "execution_count": 7,
   "metadata": {
    "collapsed": false
   },
   "outputs": [
    {
     "name": "stdout",
     "output_type": "stream",
     "text": [
      "['one', 'two', 'three'] 140424628996432\n",
      "['one', 'two', 'three'] 140424628996432\n",
      "True\n"
     ]
    }
   ],
   "source": [
    "# lists\n",
    "# soft and deepcopy\n",
    "\n",
    "# softcopy : both your labels(La,Lb) are refering to same memory block.\n",
    "La = [\"one\",\"two\",\"three\"]\n",
    "print La,id(La)\n",
    "Lb = La\n",
    "print Lb,id(Lb)\n",
    "print La is Lb"
   ]
  },
  {
   "cell_type": "code",
   "execution_count": 8,
   "metadata": {
    "collapsed": false
   },
   "outputs": [
    {
     "name": "stdout",
     "output_type": "stream",
     "text": [
      "['one', '2', 'three']\n",
      "['one', '2', 'three']\n"
     ]
    }
   ],
   "source": [
    "La[1] = \"2\"\n",
    "print La\n",
    "print Lb"
   ]
  },
  {
   "cell_type": "code",
   "execution_count": 9,
   "metadata": {
    "collapsed": false
   },
   "outputs": [
    {
     "name": "stdout",
     "output_type": "stream",
     "text": [
      "[5, 6, 7]\n",
      "['one', '2', 'three']\n"
     ]
    }
   ],
   "source": [
    "La = [5,6,7]\n",
    "print La\n",
    "print Lb"
   ]
  },
  {
   "cell_type": "code",
   "execution_count": 10,
   "metadata": {
    "collapsed": false
   },
   "outputs": [
    {
     "name": "stdout",
     "output_type": "stream",
     "text": [
      "Help on function deepcopy in module copy:\n",
      "\n",
      "deepcopy(x, memo=None, _nil=[])\n",
      "    Deep copy operation on arbitrary Python objects.\n",
      "    \n",
      "    See the module's __doc__ string for more info.\n",
      "\n",
      "None\n"
     ]
    }
   ],
   "source": [
    "# deep copy\n",
    "C = [1,2,3]\n",
    "\n",
    "import copy\n",
    "print help(copy.deepcopy)"
   ]
  },
  {
   "cell_type": "code",
   "execution_count": 11,
   "metadata": {
    "collapsed": false
   },
   "outputs": [
    {
     "name": "stdout",
     "output_type": "stream",
     "text": [
      "[1, 2, 3] [1, 2, 3] 140424629434344 140424628938944\n",
      "False\n"
     ]
    }
   ],
   "source": [
    "D = copy.deepcopy(C)\n",
    "print D,C,id(D),id(C)\n",
    "print C is D"
   ]
  },
  {
   "cell_type": "code",
   "execution_count": 12,
   "metadata": {
    "collapsed": false
   },
   "outputs": [
    {
     "name": "stdout",
     "output_type": "stream",
     "text": [
      "[1, 2, 3] [1, 2, 3] 140424629861912 140424628938944\n",
      "False\n"
     ]
    }
   ],
   "source": [
    "E = C[:]\n",
    "print E,C,id(E),id(C)\n",
    "print E is C"
   ]
  },
  {
   "cell_type": "code",
   "execution_count": null,
   "metadata": {
    "collapsed": true
   },
   "outputs": [],
   "source": []
  }
 ],
 "metadata": {
  "kernelspec": {
   "display_name": "Python 2",
   "language": "python",
   "name": "python2"
  },
  "language_info": {
   "codemirror_mode": {
    "name": "ipython",
    "version": 2
   },
   "file_extension": ".py",
   "mimetype": "text/x-python",
   "name": "python",
   "nbconvert_exporter": "python",
   "pygments_lexer": "ipython2",
   "version": "2.7.6"
  }
 },
 "nbformat": 4,
 "nbformat_minor": 1
}
