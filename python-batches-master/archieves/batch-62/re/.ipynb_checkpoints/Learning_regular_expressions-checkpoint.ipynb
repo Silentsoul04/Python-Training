{
 "cells": [
  {
   "cell_type": "code",
   "execution_count": null,
   "metadata": {
    "collapsed": true
   },
   "outputs": [],
   "source": [
    "# regular expression\n",
    "# pattern matching and regex\n",
    "# reference\n",
    "# https://docs.python.org/2/library/re.html\n",
    "# https://docs.python.org/2/howto/regex.html"
   ]
  },
  {
   "cell_type": "code",
   "execution_count": 5,
   "metadata": {
    "collapsed": false
   },
   "outputs": [
    {
     "name": "stdout",
     "output_type": "stream",
     "text": [
      "do you want to come to movies ?YES\n",
      "I will buy you a popcorn.\n"
     ]
    }
   ],
   "source": [
    "answer = raw_input(\"do you want to come to movies ?\")\n",
    "if answer == 'yes' or answer == 'YES':\n",
    "    print \"I will buy you a popcorn.\"\n",
    "else:\n",
    "    print \"You better buy your own popcorn.\""
   ]
  },
  {
   "cell_type": "code",
   "execution_count": 6,
   "metadata": {
    "collapsed": true
   },
   "outputs": [],
   "source": [
    "import re"
   ]
  },
  {
   "cell_type": "code",
   "execution_count": 7,
   "metadata": {
    "collapsed": false
   },
   "outputs": [
    {
     "name": "stdout",
     "output_type": "stream",
     "text": [
      "['DEBUG', 'DOTALL', 'I', 'IGNORECASE', 'L', 'LOCALE', 'M', 'MULTILINE', 'S', 'Scanner', 'T', 'TEMPLATE', 'U', 'UNICODE', 'VERBOSE', 'X', '_MAXCACHE', '__all__', '__builtins__', '__doc__', '__file__', '__name__', '__package__', '__version__', '_alphanum', '_cache', '_cache_repl', '_compile', '_compile_repl', '_expand', '_pattern_type', '_pickle', '_subx', 'compile', 'copy_reg', 'error', 'escape', 'findall', 'finditer', 'match', 'purge', 'search', 'split', 'sre_compile', 'sre_parse', 'sub', 'subn', 'sys', 'template']\n"
     ]
    }
   ],
   "source": [
    "print dir(re)"
   ]
  },
  {
   "cell_type": "code",
   "execution_count": 8,
   "metadata": {
    "collapsed": true
   },
   "outputs": [],
   "source": [
    "my_string=\"python\""
   ]
  },
  {
   "cell_type": "code",
   "execution_count": 9,
   "metadata": {
    "collapsed": false
   },
   "outputs": [
    {
     "name": "stdout",
     "output_type": "stream",
     "text": [
      "Help on function match in module re:\n",
      "\n",
      "match(pattern, string, flags=0)\n",
      "    Try to apply the pattern at the start of the string, returning\n",
      "    a match object, or None if no match was found.\n",
      "\n",
      "None\n"
     ]
    }
   ],
   "source": [
    "print help(re.match)\n",
    "# Note: a pattern is always a subset "
   ]
  },
  {
   "cell_type": "code",
   "execution_count": 10,
   "metadata": {
    "collapsed": false
   },
   "outputs": [
    {
     "name": "stdout",
     "output_type": "stream",
     "text": [
      "<_sre.SRE_Match object at 0x7f82ac95d2a0>\n"
     ]
    }
   ],
   "source": [
    "print re.match('py',my_string)"
   ]
  },
  {
   "cell_type": "code",
   "execution_count": 11,
   "metadata": {
    "collapsed": false
   },
   "outputs": [
    {
     "name": "stdout",
     "output_type": "stream",
     "text": [
      "<type '_sre.SRE_Match'>\n"
     ]
    }
   ],
   "source": [
    "print type(re.match('py',my_string))"
   ]
  },
  {
   "cell_type": "code",
   "execution_count": 12,
   "metadata": {
    "collapsed": false
   },
   "outputs": [
    {
     "name": "stdout",
     "output_type": "stream",
     "text": [
      "None\n"
     ]
    }
   ],
   "source": [
    "print re.match('yt',my_string)"
   ]
  },
  {
   "cell_type": "code",
   "execution_count": 13,
   "metadata": {
    "collapsed": false
   },
   "outputs": [
    {
     "name": "stdout",
     "output_type": "stream",
     "text": [
      "None\n"
     ]
    }
   ],
   "source": [
    "print re.match(\"Pyth\",my_string)"
   ]
  },
  {
   "cell_type": "code",
   "execution_count": 14,
   "metadata": {
    "collapsed": false
   },
   "outputs": [
    {
     "name": "stdout",
     "output_type": "stream",
     "text": [
      "<_sre.SRE_Match object at 0x7f82ac95d168>\n"
     ]
    }
   ],
   "source": [
    "# IGNORECASE\n",
    "print re.match(\"Pyth\",my_string,re.I)"
   ]
  },
  {
   "cell_type": "code",
   "execution_count": 17,
   "metadata": {
    "collapsed": false
   },
   "outputs": [
    {
     "name": "stdout",
     "output_type": "stream",
     "text": [
      "do you want to come to movies ?no\n",
      "You better buy your own popcorn.\n"
     ]
    }
   ],
   "source": [
    "import re\n",
    "answer = raw_input(\"do you want to come to movies ?\")\n",
    "#if answer == 'yes' or answer == 'YES':\n",
    "if re.match(answer,'yes',re.I):\n",
    "    print \"I will buy you a popcorn.\"\n",
    "else:\n",
    "    print \"You better buy your own popcorn.\""
   ]
  },
  {
   "cell_type": "code",
   "execution_count": 18,
   "metadata": {
    "collapsed": false
   },
   "outputs": [
    {
     "name": "stdout",
     "output_type": "stream",
     "text": [
      "Help on function search in module re:\n",
      "\n",
      "search(pattern, string, flags=0)\n",
      "    Scan through string looking for a match to the pattern, returning\n",
      "    a match object, or None if no match was found.\n",
      "\n",
      "None\n"
     ]
    }
   ],
   "source": [
    "# re.search\n",
    "print help(re.search)"
   ]
  },
  {
   "cell_type": "code",
   "execution_count": 19,
   "metadata": {
    "collapsed": true
   },
   "outputs": [],
   "source": [
    "my_sentence1 = \"python is a good language.\"\n",
    "my_sentence2 = \"one of the good languages is python.\""
   ]
  },
  {
   "cell_type": "code",
   "execution_count": 20,
   "metadata": {
    "collapsed": false
   },
   "outputs": [
    {
     "name": "stdout",
     "output_type": "stream",
     "text": [
      "<_sre.SRE_Match object at 0x7f82ac95db28>\n",
      "None\n",
      "<_sre.SRE_Match object at 0x7f82ac95db28>\n",
      "<_sre.SRE_Match object at 0x7f82ac95db28>\n"
     ]
    }
   ],
   "source": [
    "print re.match(\"python\",my_sentence1)  # true\n",
    "print re.match(\"python\",my_sentence2)  # false\n",
    "print re.search(\"python\",my_sentence1) # true\n",
    "print re.search(\"python\",my_sentence2) # true"
   ]
  },
  {
   "cell_type": "code",
   "execution_count": 21,
   "metadata": {
    "collapsed": true
   },
   "outputs": [],
   "source": [
    "# compile"
   ]
  },
  {
   "cell_type": "code",
   "execution_count": 22,
   "metadata": {
    "collapsed": false
   },
   "outputs": [
    {
     "name": "stdout",
     "output_type": "stream",
     "text": [
      "Help on function compile in module re:\n",
      "\n",
      "compile(pattern, flags=0)\n",
      "    Compile a regular expression pattern, returning a pattern object.\n",
      "\n",
      "None\n"
     ]
    }
   ],
   "source": [
    "print help(re.compile)"
   ]
  },
  {
   "cell_type": "code",
   "execution_count": 23,
   "metadata": {
    "collapsed": true
   },
   "outputs": [],
   "source": [
    "reg1 = re.compile(\"python\")"
   ]
  },
  {
   "cell_type": "code",
   "execution_count": 25,
   "metadata": {
    "collapsed": false
   },
   "outputs": [
    {
     "name": "stdout",
     "output_type": "stream",
     "text": [
      "<_sre.SRE_Pattern object at 0x7f82b6e87618>\n",
      "<type '_sre.SRE_Pattern'>\n",
      "['__class__', '__copy__', '__deepcopy__', '__delattr__', '__doc__', '__format__', '__getattribute__', '__hash__', '__init__', '__new__', '__reduce__', '__reduce_ex__', '__repr__', '__setattr__', '__sizeof__', '__str__', '__subclasshook__', 'findall', 'finditer', 'flags', 'groupindex', 'groups', 'match', 'pattern', 'scanner', 'search', 'split', 'sub', 'subn']\n"
     ]
    }
   ],
   "source": [
    "print reg1\n",
    "print type(reg1)\n",
    "print dir(reg1)"
   ]
  },
  {
   "cell_type": "code",
   "execution_count": 26,
   "metadata": {
    "collapsed": false
   },
   "outputs": [
    {
     "name": "stdout",
     "output_type": "stream",
     "text": [
      "Help on built-in function match:\n",
      "\n",
      "match(...)\n",
      "    match(string[, pos[, endpos]]) --> match object or None.\n",
      "    Matches zero or more characters at the beginning of the string\n",
      "\n",
      "None\n"
     ]
    }
   ],
   "source": [
    "print help(reg1.match)"
   ]
  },
  {
   "cell_type": "code",
   "execution_count": 27,
   "metadata": {
    "collapsed": false
   },
   "outputs": [
    {
     "name": "stdout",
     "output_type": "stream",
     "text": [
      "<_sre.SRE_Match object at 0x7f82ac95dd30>\n",
      "None\n",
      "<_sre.SRE_Match object at 0x7f82ac95dd30>\n",
      "<_sre.SRE_Match object at 0x7f82ac95dd30>\n"
     ]
    }
   ],
   "source": [
    "print reg1.match(my_sentence1)\n",
    "print reg1.match(my_sentence2)\n",
    "print reg1.search(my_sentence1)\n",
    "print reg1.search(my_sentence2)"
   ]
  },
  {
   "cell_type": "code",
   "execution_count": 28,
   "metadata": {
    "collapsed": true
   },
   "outputs": [],
   "source": [
    "# special characters\n",
    "# ^ -> caret -> beginning of line/sentence.\n",
    "# $ -> dollar -> end of the line/sentence.\n",
    "# . -> dot -> one character."
   ]
  },
  {
   "cell_type": "code",
   "execution_count": 33,
   "metadata": {
    "collapsed": true
   },
   "outputs": [],
   "source": [
    "# ^ - caret\n",
    "my_sentence1 = \"python is a good language.\"\n",
    "my_sentence2 = \"one of the good languages is python.\""
   ]
  },
  {
   "cell_type": "code",
   "execution_count": 31,
   "metadata": {
    "collapsed": true
   },
   "outputs": [],
   "source": [
    "reg1 = re.compile(\"^python\")"
   ]
  },
  {
   "cell_type": "code",
   "execution_count": 32,
   "metadata": {
    "collapsed": false
   },
   "outputs": [
    {
     "name": "stdout",
     "output_type": "stream",
     "text": [
      "<_sre.SRE_Match object at 0x7f82ac0e5100>\n",
      "None\n",
      "<_sre.SRE_Match object at 0x7f82ac0e5100>\n",
      "None\n"
     ]
    }
   ],
   "source": [
    "print reg1.match(my_sentence1) # true\n",
    "print reg1.match(my_sentence2) # false\n",
    "print reg1.search(my_sentence1) # true\n",
    "print reg1.search(my_sentence2) # false"
   ]
  },
  {
   "cell_type": "code",
   "execution_count": 39,
   "metadata": {
    "collapsed": true
   },
   "outputs": [],
   "source": [
    "# $ - dollar\n",
    "my_sentence1 = \"python is a good language.\"\n",
    "my_sentence2 = \"one of the good languages is python.\""
   ]
  },
  {
   "cell_type": "code",
   "execution_count": 35,
   "metadata": {
    "collapsed": true
   },
   "outputs": [],
   "source": [
    "reg1 = re.compile(\"python$\")"
   ]
  },
  {
   "cell_type": "code",
   "execution_count": 40,
   "metadata": {
    "collapsed": false
   },
   "outputs": [
    {
     "name": "stdout",
     "output_type": "stream",
     "text": [
      "None\n",
      "None\n",
      "None\n",
      "None\n"
     ]
    }
   ],
   "source": [
    "print reg1.match(my_sentence1)\n",
    "print reg1.match(my_sentence2)\n",
    "print reg1.search(my_sentence1)\n",
    "print reg1.search(my_sentence2)"
   ]
  },
  {
   "cell_type": "code",
   "execution_count": 41,
   "metadata": {
    "collapsed": true
   },
   "outputs": [],
   "source": [
    "# . - dot"
   ]
  },
  {
   "cell_type": "code",
   "execution_count": 42,
   "metadata": {
    "collapsed": false
   },
   "outputs": [
    {
     "name": "stdout",
     "output_type": "stream",
     "text": [
      "<_sre.SRE_Match object at 0x7f82ac0e54a8>\n"
     ]
    }
   ],
   "source": [
    "my_string = \"python\"\n",
    "print re.match('...',my_string)"
   ]
  },
  {
   "cell_type": "code",
   "execution_count": 46,
   "metadata": {
    "collapsed": false
   },
   "outputs": [
    {
     "name": "stdout",
     "output_type": "stream",
     "text": [
      "<_sre.SRE_Match object at 0x7f82ac0c96b0>\n"
     ]
    }
   ],
   "source": [
    "# group\n",
    "print re.match('...',my_string)"
   ]
  },
  {
   "cell_type": "code",
   "execution_count": 47,
   "metadata": {
    "collapsed": true
   },
   "outputs": [],
   "source": [
    "# lenght of words\n",
    "my_students = ['abhi','rakesh','vishu','akshay','anuhya','varun','viraja']"
   ]
  },
  {
   "cell_type": "code",
   "execution_count": 51,
   "metadata": {
    "collapsed": false
   },
   "outputs": [
    {
     "name": "stdout",
     "output_type": "stream",
     "text": [
      "vishu\n",
      "varun\n"
     ]
    }
   ],
   "source": [
    "import re\n",
    "for value in my_students:\n",
    "    if re.match('^.....$',value):\n",
    "        print re.match('^.....$',value).group()"
   ]
  },
  {
   "cell_type": "code",
   "execution_count": 52,
   "metadata": {
    "collapsed": true
   },
   "outputs": [],
   "source": [
    "# DOTALL\n",
    "my_string = \"django\\n\""
   ]
  },
  {
   "cell_type": "code",
   "execution_count": 53,
   "metadata": {
    "collapsed": false
   },
   "outputs": [
    {
     "name": "stdout",
     "output_type": "stream",
     "text": [
      "django\n",
      "\n"
     ]
    }
   ],
   "source": [
    "print my_string"
   ]
  },
  {
   "cell_type": "code",
   "execution_count": 54,
   "metadata": {
    "collapsed": false
   },
   "outputs": [
    {
     "name": "stdout",
     "output_type": "stream",
     "text": [
      "None\n"
     ]
    }
   ],
   "source": [
    "print re.match('.......',my_string)"
   ]
  },
  {
   "cell_type": "code",
   "execution_count": 55,
   "metadata": {
    "collapsed": false
   },
   "outputs": [
    {
     "name": "stdout",
     "output_type": "stream",
     "text": [
      "<_sre.SRE_Match object at 0x7f82ac0c9ac0>\n"
     ]
    }
   ],
   "source": [
    "print re.match('.......',my_string,re.DOTALL)"
   ]
  },
  {
   "cell_type": "code",
   "execution_count": 56,
   "metadata": {
    "collapsed": false,
    "scrolled": false
   },
   "outputs": [
    {
     "name": "stdout",
     "output_type": "stream",
     "text": [
      "django\n",
      "\n"
     ]
    }
   ],
   "source": [
    "print re.match('.......',my_string,re.DOTALL).group()"
   ]
  },
  {
   "cell_type": "code",
   "execution_count": 57,
   "metadata": {
    "collapsed": true
   },
   "outputs": [],
   "source": [
    "# globbling characters\n",
    "# greedy"
   ]
  },
  {
   "cell_type": "code",
   "execution_count": 58,
   "metadata": {
    "collapsed": true
   },
   "outputs": [],
   "source": [
    "# * -> zero or more characters.\n",
    "# + -> one or more characters.\n",
    "# ? -> zero or one character"
   ]
  },
  {
   "cell_type": "code",
   "execution_count": 59,
   "metadata": {
    "collapsed": true
   },
   "outputs": [],
   "source": [
    "film1 = \"ashique\"\n",
    "film2 = \"aashique\"\n",
    "film3 = \"aaashique\"\n",
    "film4 = \"shique\""
   ]
  },
  {
   "cell_type": "code",
   "execution_count": 60,
   "metadata": {
    "collapsed": true
   },
   "outputs": [],
   "source": [
    "reg = re.compile('a*shique') # a* -> a repeated zero or more times."
   ]
  },
  {
   "cell_type": "code",
   "execution_count": 61,
   "metadata": {
    "collapsed": false
   },
   "outputs": [
    {
     "name": "stdout",
     "output_type": "stream",
     "text": [
      "<_sre.SRE_Match object at 0x7f82ac0c9ed0>\n",
      "<_sre.SRE_Match object at 0x7f82ac0c9ed0>\n",
      "<_sre.SRE_Match object at 0x7f82ac0c9ed0>\n",
      "<_sre.SRE_Match object at 0x7f82ac0c9ed0>\n",
      "<_sre.SRE_Match object at 0x7f82ac0c9ed0>\n",
      "<_sre.SRE_Match object at 0x7f82ac0c9ed0>\n",
      "<_sre.SRE_Match object at 0x7f82ac0c9ed0>\n",
      "<_sre.SRE_Match object at 0x7f82ac0c9ed0>\n"
     ]
    }
   ],
   "source": [
    "print reg.match(film1)\n",
    "print reg.match(film2)\n",
    "print reg.match(film3)\n",
    "print reg.match(film4)\n",
    "print reg.search(film1)\n",
    "print reg.search(film2)\n",
    "print reg.search(film3)\n",
    "print reg.search(film4)"
   ]
  },
  {
   "cell_type": "code",
   "execution_count": 62,
   "metadata": {
    "collapsed": false
   },
   "outputs": [
    {
     "name": "stdout",
     "output_type": "stream",
     "text": [
      "<_sre.SRE_Match object at 0x7f82ac0c9f38>\n",
      "<_sre.SRE_Match object at 0x7f82ac0c9f38>\n",
      "<_sre.SRE_Match object at 0x7f82ac0c9f38>\n",
      "None\n",
      "<_sre.SRE_Match object at 0x7f82ac0c9f38>\n",
      "<_sre.SRE_Match object at 0x7f82ac0c9f38>\n",
      "<_sre.SRE_Match object at 0x7f82ac0c9f38>\n",
      "None\n"
     ]
    }
   ],
   "source": [
    "# +\n",
    "film1 = \"ashique\"\n",
    "film2 = \"aashique\"\n",
    "film3 = \"aaashique\"\n",
    "film4 = \"shique\"\n",
    "reg = re.compile('a+shique') # a+ -> a repeated one or more times.\n",
    "print reg.match(film1) # true\n",
    "print reg.match(film2) # true\n",
    "print reg.match(film3) # true\n",
    "print reg.match(film4) # false\n",
    "print reg.search(film1) # true\n",
    "print reg.search(film2) # true\n",
    "print reg.search(film3) # true\n",
    "print reg.search(film4) # false"
   ]
  },
  {
   "cell_type": "code",
   "execution_count": 64,
   "metadata": {
    "collapsed": false
   },
   "outputs": [
    {
     "name": "stdout",
     "output_type": "stream",
     "text": [
      "<_sre.SRE_Match object at 0x7f8297fc3100>\n",
      "None\n",
      "None\n",
      "<_sre.SRE_Match object at 0x7f8297fc3100>\n",
      "<_sre.SRE_Match object at 0x7f8297fc3100>\n",
      "<_sre.SRE_Match object at 0x7f8297fc3100>\n",
      "<_sre.SRE_Match object at 0x7f8297fc3100>\n",
      "<_sre.SRE_Match object at 0x7f8297fc3100>\n"
     ]
    }
   ],
   "source": [
    "# ?\n",
    "film1 = \"ashique\"\n",
    "film2 = \"aashique\"\n",
    "film3 = \"aaashique\"\n",
    "film4 = \"shique\"\n",
    "\n",
    "reg = re.compile('a?shique') # a repeated zero or one time\n",
    "\n",
    "print reg.match(film1) # true\n",
    "print reg.match(film2) # false\n",
    "print reg.match(film3) # false\n",
    "print reg.match(film4) # true\n",
    "print reg.search(film1) # true\n",
    "print reg.search(film2) # true\n",
    "print reg.search(film3) # true\n",
    "print reg.search(film4) # true"
   ]
  },
  {
   "cell_type": "code",
   "execution_count": 66,
   "metadata": {
    "collapsed": true
   },
   "outputs": [],
   "source": [
    "# example\n",
    "my_string1 = \"<movie1>bahubali</movie1>\"\n",
    "my_string2 = \"<book2>alchemy</book1>\"\n",
    "my_string3 = \"<food3>biriyani</food1>\""
   ]
  },
  {
   "cell_type": "code",
   "execution_count": 68,
   "metadata": {
    "collapsed": false
   },
   "outputs": [
    {
     "name": "stdout",
     "output_type": "stream",
     "text": [
      "<movie1>bahubali</movie1>\n",
      "<book2>alchemy</book1>\n",
      "<food3>biriyani</food1>\n"
     ]
    }
   ],
   "source": [
    "# *,+ always go for maximal matching.\n",
    "import re\n",
    "reg = re.compile('<.*>')\n",
    "print reg.match(my_string1).group()\n",
    "print reg.match(my_string2).group()\n",
    "print reg.match(my_string3).group()"
   ]
  },
  {
   "cell_type": "code",
   "execution_count": 69,
   "metadata": {
    "collapsed": false
   },
   "outputs": [
    {
     "name": "stdout",
     "output_type": "stream",
     "text": [
      "<movie1>\n",
      "<book2>\n",
      "<food3>\n"
     ]
    }
   ],
   "source": [
    "# *?,+? always go for minimal matching.\n",
    "import re\n",
    "reg = re.compile('<.*?>')\n",
    "print reg.match(my_string1).group()\n",
    "print reg.match(my_string2).group()\n",
    "print reg.match(my_string3).group()"
   ]
  },
  {
   "cell_type": "code",
   "execution_count": 70,
   "metadata": {
    "collapsed": true
   },
   "outputs": [],
   "source": [
    "# Anchors\n",
    "# {m} -> m represents a number -> m repeated n number of times.\n",
    "# {m,} -> m represents a number -> m repeated more than m number of times.\n",
    "# {m,n} -> m represented between m and n nmber of times."
   ]
  },
  {
   "cell_type": "code",
   "execution_count": null,
   "metadata": {
    "collapsed": true
   },
   "outputs": [],
   "source": [
    "# character sets\n",
    "# [a-z] -> Any characters between a to z.\n",
    "# [0-9] -> Any number between 0 to 9.\n",
    "# [^a-z] -> negation -> not having a to z.\n",
    "# ^[a-z] -> starting with a to z.\n",
    "# [.+*?] -> your regular expressions behave like symbols."
   ]
  },
  {
   "cell_type": "code",
   "execution_count": 71,
   "metadata": {
    "collapsed": true
   },
   "outputs": [],
   "source": [
    "my_sentence=\"today its raining hard.\""
   ]
  },
  {
   "cell_type": "code",
   "execution_count": 76,
   "metadata": {
    "collapsed": false
   },
   "outputs": [
    {
     "name": "stdout",
     "output_type": "stream",
     "text": [
      "today \n"
     ]
    }
   ],
   "source": [
    "print re.match('[a-z]+\\s+',my_sentence).group()"
   ]
  },
  {
   "cell_type": "code",
   "execution_count": 78,
   "metadata": {
    "collapsed": false
   },
   "outputs": [
    {
     "name": "stdout",
     "output_type": "stream",
     "text": [
      "today its raining hard.\n"
     ]
    }
   ],
   "source": [
    "print re.match('[a-z]+\\s+[a-z]+\\s+[a-z]+\\s+[a-z]+[.]',my_sentence).group()"
   ]
  },
  {
   "cell_type": "code",
   "execution_count": 80,
   "metadata": {
    "collapsed": false
   },
   "outputs": [
    {
     "name": "stdout",
     "output_type": "stream",
     "text": [
      "today its raining hard.\n"
     ]
    }
   ],
   "source": [
    "print re.match('([a-z]+\\s+){3}[a-z]+[.]',my_sentence).group()"
   ]
  },
  {
   "cell_type": "code",
   "execution_count": 81,
   "metadata": {
    "collapsed": false
   },
   "outputs": [
    {
     "name": "stdout",
     "output_type": "stream",
     "text": [
      "today its raining hard.\n"
     ]
    }
   ],
   "source": [
    "print re.match('(\\w+\\s+){3}\\w+[.]',my_sentence).group()"
   ]
  },
  {
   "cell_type": "code",
   "execution_count": 83,
   "metadata": {
    "collapsed": false
   },
   "outputs": [
    {
     "name": "stdout",
     "output_type": "stream",
     "text": [
      "today its raining hard.\n"
     ]
    }
   ],
   "source": [
    "# re.VERBOSE\n",
    "print re.match('''\n",
    "(\\w+\\s+)   # a word and a space ,ex: ladoo\n",
    "{3}        # similar word as above repeated 3 times.\n",
    "\\w+        # a word without any space\n",
    "[.]        # remember as sentence should have a dot.\n",
    "''',my_sentence,re.VERBOSE).group()"
   ]
  },
  {
   "cell_type": "code",
   "execution_count": 97,
   "metadata": {
    "collapsed": false
   },
   "outputs": [
    {
     "name": "stdout",
     "output_type": "stream",
     "text": [
      "today its raining hard.\n",
      "today its raining hard.\n",
      "today its raining hard.\n",
      "today\n",
      "raining\n",
      "('today', 'raining')\n",
      "('today', 'raining')\n",
      "today its raining hard.\n",
      "raining\n",
      "today\n"
     ]
    }
   ],
   "source": [
    "# grouping\n",
    "# group() -> states what exactly matched.\n",
    "print re.match('[a-z]+\\s+[a-z]+\\s+[a-z]+\\s+[a-z]+[.]',my_sentence).group()\n",
    "print re.match('[a-z]+\\s+[a-z]+\\s+[a-z]+\\s+[a-z]+[.]',my_sentence).group(0)\n",
    "print re.match('([a-z]+)\\s+[a-z]+\\s+([a-z]+)\\s+[a-z]+[.]',my_sentence).group()\n",
    "# index based\n",
    "print re.match('([a-z]+)\\s+[a-z]+\\s+([a-z]+)\\s+[a-z]+[.]',my_sentence).group(1)\n",
    "print re.match('([a-z]+)\\s+[a-z]+\\s+([a-z]+)\\s+[a-z]+[.]',my_sentence).group(2)\n",
    "print re.match('([a-z]+)\\s+[a-z]+\\s+([a-z]+)\\s+[a-z]+[.]',my_sentence).group(1,2)\n",
    "print re.match('([a-z]+)\\s+[a-z]+\\s+([a-z]+)\\s+[a-z]+[.]',my_sentence).groups()\n",
    "# key based\n",
    "print re.match('(?P<ajtak>[a-z]+)\\s+[a-z]+\\s+(?P<barish>[a-z]+)\\s+[a-z]+[.]',my_sentence).group()\n",
    "print re.match('(?P<ajtak>[a-z]+)\\s+[a-z]+\\s+(?P<barish>[a-z]+)\\s+[a-z]+[.]',my_sentence).group('barish')\n",
    "print re.match('(?P<ajtak>[a-z]+)\\s+[a-z]+\\s+(?P<barish>[a-z]+)\\s+[a-z]+[.]',my_sentence).group('ajtak')"
   ]
  },
  {
   "cell_type": "code",
   "execution_count": 98,
   "metadata": {
    "collapsed": true
   },
   "outputs": [],
   "source": [
    "# MULTILINE\n",
    "my_sentence=\"Today is cloudy.\\nToday i want to eat haleem.\\nToday i may rain.\""
   ]
  },
  {
   "cell_type": "code",
   "execution_count": 99,
   "metadata": {
    "collapsed": false
   },
   "outputs": [
    {
     "name": "stdout",
     "output_type": "stream",
     "text": [
      "Today is cloudy.\n",
      "Today i want to eat haleem.\n",
      "Today i may rain.\n"
     ]
    }
   ],
   "source": [
    "print my_sentence"
   ]
  },
  {
   "cell_type": "code",
   "execution_count": 100,
   "metadata": {
    "collapsed": false
   },
   "outputs": [
    {
     "name": "stdout",
     "output_type": "stream",
     "text": [
      "Today\n"
     ]
    }
   ],
   "source": [
    "# match - always looks at the beginning of the string.\n",
    "print re.match('today',my_sentence,re.I).group()"
   ]
  },
  {
   "cell_type": "code",
   "execution_count": null,
   "metadata": {
    "collapsed": true
   },
   "outputs": [],
   "source": []
  }
 ],
 "metadata": {
  "kernelspec": {
   "display_name": "Python 2",
   "language": "python",
   "name": "python2"
  },
  "language_info": {
   "codemirror_mode": {
    "name": "ipython",
    "version": 2
   },
   "file_extension": ".py",
   "mimetype": "text/x-python",
   "name": "python",
   "nbconvert_exporter": "python",
   "pygments_lexer": "ipython2",
   "version": "2.7.6"
  }
 },
 "nbformat": 4,
 "nbformat_minor": 1
}
