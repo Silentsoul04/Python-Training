{
 "cells": [
  {
   "cell_type": "code",
   "execution_count": 2,
   "metadata": {
    "collapsed": true
   },
   "outputs": [],
   "source": [
    "# dictionaries,hashes,dict\n",
    "# key => value\n",
    "# adhar,ssn"
   ]
  },
  {
   "cell_type": "code",
   "execution_count": 3,
   "metadata": {
    "collapsed": true
   },
   "outputs": [],
   "source": [
    "my_fruits = {'a':'apple','b':'banana','c':'cherry','d':'dates'}"
   ]
  },
  {
   "cell_type": "code",
   "execution_count": 4,
   "metadata": {
    "collapsed": false
   },
   "outputs": [
    {
     "name": "stdout",
     "output_type": "stream",
     "text": [
      "{'a': 'apple', 'c': 'cherry', 'b': 'banana', 'd': 'dates'} <type 'dict'>\n"
     ]
    }
   ],
   "source": [
    "print my_fruits,type(my_fruits)"
   ]
  },
  {
   "cell_type": "code",
   "execution_count": 12,
   "metadata": {
    "collapsed": false
   },
   "outputs": [
    {
     "name": "stdout",
     "output_type": "stream",
     "text": [
      "{} <type 'dict'>\n"
     ]
    }
   ],
   "source": [
    "my_empty = {}\n",
    "print my_empty,type(my_empty)"
   ]
  },
  {
   "cell_type": "code",
   "execution_count": 13,
   "metadata": {
    "collapsed": false
   },
   "outputs": [
    {
     "name": "stdout",
     "output_type": "stream",
     "text": [
      "{} <type 'dict'>\n"
     ]
    }
   ],
   "source": [
    "my_empty = dict()\n",
    "print my_empty,type(my_empty)"
   ]
  },
  {
   "cell_type": "code",
   "execution_count": 14,
   "metadata": {
    "collapsed": true
   },
   "outputs": [],
   "source": [
    "# cheatsheet\n",
    "# list => ['apple','banana'],list(),[]\n",
    "# tuple => ('apple','banana'),tuple(),()\n",
    "# dict => {'a':'apple','b':'banana'},dict(),{}"
   ]
  },
  {
   "cell_type": "code",
   "execution_count": 5,
   "metadata": {
    "collapsed": false
   },
   "outputs": [
    {
     "name": "stdout",
     "output_type": "stream",
     "text": [
      "apple\n"
     ]
    }
   ],
   "source": [
    "# listing elements of dictionary\n",
    "print my_fruits['a']"
   ]
  },
  {
   "cell_type": "code",
   "execution_count": 7,
   "metadata": {
    "collapsed": false
   },
   "outputs": [
    {
     "name": "stdout",
     "output_type": "stream",
     "text": [
      "{'a': 'apple', 'c': 'cherry', 'b': 'banana', 'd': 'dates', 'g': ['guava', 'grapes']}\n"
     ]
    }
   ],
   "source": [
    "# append\n",
    "my_fruits['g'] = ['guava','grapes']\n",
    "print my_fruits"
   ]
  },
  {
   "cell_type": "code",
   "execution_count": 9,
   "metadata": {
    "collapsed": false
   },
   "outputs": [
    {
     "name": "stdout",
     "output_type": "stream",
     "text": [
      "{'a': 'apricot', 'c': 'cherry', 'b': 'banana', 'd': 'dates', 'g': ['guava', 'grapes']}\n"
     ]
    }
   ],
   "source": [
    "# replace\n",
    "my_fruits['a'] = 'apricot'\n",
    "print my_fruits"
   ]
  },
  {
   "cell_type": "code",
   "execution_count": 11,
   "metadata": {
    "collapsed": false
   },
   "outputs": [
    {
     "name": "stdout",
     "output_type": "stream",
     "text": [
      "{'a': ['apple', 'apple'], 'c': 'cherry', 'b': 'banana', 'd': 'dates', 'g': ['guava', 'grapes']}\n"
     ]
    }
   ],
   "source": [
    "my_fruits['a'] = ['apple','apple']\n",
    "print my_fruits"
   ]
  },
  {
   "cell_type": "code",
   "execution_count": 16,
   "metadata": {
    "collapsed": false
   },
   "outputs": [
    {
     "name": "stdout",
     "output_type": "stream",
     "text": [
      "False\n",
      "True\n"
     ]
    }
   ],
   "source": [
    "# in operation\n",
    "print 'cherry' in my_fruits\n",
    "print 'c' in my_fruits"
   ]
  },
  {
   "cell_type": "code",
   "execution_count": 18,
   "metadata": {
    "collapsed": false
   },
   "outputs": [
    {
     "name": "stdout",
     "output_type": "stream",
     "text": [
      "a\n",
      "c\n",
      "b\n",
      "d\n",
      "g\n"
     ]
    }
   ],
   "source": [
    "# looping in dictionaries\n",
    "for key in my_fruits:\n",
    "    print key"
   ]
  },
  {
   "cell_type": "code",
   "execution_count": 19,
   "metadata": {
    "collapsed": false
   },
   "outputs": [
    {
     "name": "stdout",
     "output_type": "stream",
     "text": [
      "a ['apple', 'apple']\n",
      "c cherry\n",
      "b banana\n",
      "d dates\n",
      "g ['guava', 'grapes']\n"
     ]
    }
   ],
   "source": [
    "for key in my_fruits:\n",
    "    print key,my_fruits[key]"
   ]
  },
  {
   "cell_type": "code",
   "execution_count": 20,
   "metadata": {
    "collapsed": true
   },
   "outputs": [],
   "source": [
    "# functions"
   ]
  },
  {
   "cell_type": "code",
   "execution_count": 22,
   "metadata": {
    "collapsed": false
   },
   "outputs": [
    {
     "name": "stdout",
     "output_type": "stream",
     "text": [
      "{'a': ['apple', 'apple'], 'c': 'cherry', 'b': 'banana', 'd': 'dates', 'g': ['guava', 'grapes']}\n",
      "['__class__', '__cmp__', '__contains__', '__delattr__', '__delitem__', '__doc__', '__eq__', '__format__', '__ge__', '__getattribute__', '__getitem__', '__gt__', '__hash__', '__init__', '__iter__', '__le__', '__len__', '__lt__', '__ne__', '__new__', '__reduce__', '__reduce_ex__', '__repr__', '__setattr__', '__setitem__', '__sizeof__', '__str__', '__subclasshook__', 'clear', 'copy', 'fromkeys', 'get', 'has_key', 'items', 'iteritems', 'iterkeys', 'itervalues', 'keys', 'pop', 'popitem', 'setdefault', 'update', 'values', 'viewitems', 'viewkeys', 'viewvalues']\n"
     ]
    }
   ],
   "source": [
    "print my_fruits\n",
    "print dir(my_fruits)"
   ]
  },
  {
   "cell_type": "code",
   "execution_count": 29,
   "metadata": {
    "collapsed": false
   },
   "outputs": [
    {
     "name": "stdout",
     "output_type": "stream",
     "text": [
      "Help on built-in function has_key:\n",
      "\n",
      "has_key(...)\n",
      "    D.has_key(k) -> True if D has a key k, else False\n",
      "\n",
      "None\n",
      "True\n",
      "True\n"
     ]
    }
   ],
   "source": [
    "# has_key\n",
    "print help(my_fruits.has_key)\n",
    "print 'a' in my_fruits\n",
    "print my_fruits.has_key('a')"
   ]
  },
  {
   "cell_type": "code",
   "execution_count": 30,
   "metadata": {
    "collapsed": false
   },
   "outputs": [
    {
     "name": "stdout",
     "output_type": "stream",
     "text": [
      "Help on built-in function get:\n",
      "\n",
      "get(...)\n",
      "    D.get(k[,d]) -> D[k] if k in D, else d.  d defaults to None.\n",
      "\n",
      "None\n",
      "['guava', 'grapes']\n",
      "['guava', 'grapes']\n"
     ]
    }
   ],
   "source": [
    "# get\n",
    "print help(my_fruits.get)\n",
    "print my_fruits['g']\n",
    "print my_fruits.get('g')"
   ]
  },
  {
   "cell_type": "code",
   "execution_count": 31,
   "metadata": {
    "collapsed": false
   },
   "outputs": [
    {
     "name": "stdout",
     "output_type": "stream",
     "text": [
      "Help on built-in function fromkeys:\n",
      "\n",
      "fromkeys(...)\n",
      "    dict.fromkeys(S[,v]) -> New dict with keys from S and values equal to v.\n",
      "    v defaults to None.\n",
      "\n",
      "None\n"
     ]
    }
   ],
   "source": [
    "# fromkeys\n",
    "print help(my_fruits.fromkeys)"
   ]
  },
  {
   "cell_type": "code",
   "execution_count": 62,
   "metadata": {
    "collapsed": false
   },
   "outputs": [
    {
     "name": "stdout",
     "output_type": "stream",
     "text": [
      "{'arun': None, 'vishnu': None, 'bishwa': None, 'varun': None}\n",
      "{'arun': 'python', 'vishnu': 'python', 'bishwa': 'python', 'varun': 'python'}\n",
      "{'arun': 'python', 'vishnu': 'python', 'bishwa': 'python', 'varun': 'python'}\n"
     ]
    }
   ],
   "source": [
    "students={}\n",
    "new_students = ('bishwa','arun','varun','vishnu')\n",
    "print students.fromkeys(new_students)\n",
    "print students.fromkeys(new_students,'python')\n",
    "students = students.fromkeys(new_students,'python')\n",
    "print students"
   ]
  },
  {
   "cell_type": "code",
   "execution_count": 34,
   "metadata": {
    "collapsed": true
   },
   "outputs": [],
   "source": [
    "# keys,iterkeys,viewkeys"
   ]
  },
  {
   "cell_type": "code",
   "execution_count": 37,
   "metadata": {
    "collapsed": false
   },
   "outputs": [
    {
     "name": "stdout",
     "output_type": "stream",
     "text": [
      "Help on built-in function keys:\n",
      "\n",
      "keys(...)\n",
      "    D.keys() -> list of D's keys\n",
      "\n",
      "None\n",
      "['a', 'c', 'b', 'd', 'g']\n"
     ]
    }
   ],
   "source": [
    "# keys\n",
    "print help(my_fruits.keys)\n",
    "print my_fruits.keys()"
   ]
  },
  {
   "cell_type": "code",
   "execution_count": 38,
   "metadata": {
    "collapsed": false
   },
   "outputs": [
    {
     "name": "stdout",
     "output_type": "stream",
     "text": [
      "Help on built-in function iterkeys:\n",
      "\n",
      "iterkeys(...)\n",
      "    D.iterkeys() -> an iterator over the keys of D\n",
      "\n",
      "None\n"
     ]
    }
   ],
   "source": [
    "# iterkeys\n",
    "print help(my_fruits.iterkeys)"
   ]
  },
  {
   "cell_type": "code",
   "execution_count": 39,
   "metadata": {
    "collapsed": false
   },
   "outputs": [
    {
     "name": "stdout",
     "output_type": "stream",
     "text": [
      "<built-in method iterkeys of dict object at 0x7fae6c59d7f8>\n"
     ]
    }
   ],
   "source": [
    "print my_fruits.iterkeys"
   ]
  },
  {
   "cell_type": "code",
   "execution_count": 40,
   "metadata": {
    "collapsed": false
   },
   "outputs": [
    {
     "name": "stdout",
     "output_type": "stream",
     "text": [
      "a\n",
      "c\n",
      "b\n",
      "d\n",
      "g\n"
     ]
    }
   ],
   "source": [
    "for key in my_fruits.iterkeys():\n",
    "    print key"
   ]
  },
  {
   "cell_type": "code",
   "execution_count": 41,
   "metadata": {
    "collapsed": false
   },
   "outputs": [
    {
     "name": "stdout",
     "output_type": "stream",
     "text": [
      "Help on built-in function viewkeys:\n",
      "\n",
      "viewkeys(...)\n",
      "    D.viewkeys() -> a set-like object providing a view on D's keys\n",
      "\n",
      "None\n"
     ]
    }
   ],
   "source": [
    "# viewkeys\n",
    "print help(my_fruits.viewkeys)"
   ]
  },
  {
   "cell_type": "code",
   "execution_count": 42,
   "metadata": {
    "collapsed": false
   },
   "outputs": [
    {
     "name": "stdout",
     "output_type": "stream",
     "text": [
      "dict_keys(['a', 'c', 'b', 'd', 'g'])\n"
     ]
    }
   ],
   "source": [
    "print my_fruits.viewkeys()"
   ]
  },
  {
   "cell_type": "code",
   "execution_count": 43,
   "metadata": {
    "collapsed": true
   },
   "outputs": [],
   "source": [
    "# values,itervalue,viewvalues"
   ]
  },
  {
   "cell_type": "code",
   "execution_count": 44,
   "metadata": {
    "collapsed": false
   },
   "outputs": [
    {
     "name": "stdout",
     "output_type": "stream",
     "text": [
      "Help on built-in function values:\n",
      "\n",
      "values(...)\n",
      "    D.values() -> list of D's values\n",
      "\n",
      "None\n"
     ]
    }
   ],
   "source": [
    "#values\n",
    "print help(my_fruits.values)"
   ]
  },
  {
   "cell_type": "code",
   "execution_count": 45,
   "metadata": {
    "collapsed": false
   },
   "outputs": [
    {
     "name": "stdout",
     "output_type": "stream",
     "text": [
      "[['apple', 'apple'], 'cherry', 'banana', 'dates', ['guava', 'grapes']]\n"
     ]
    }
   ],
   "source": [
    "print my_fruits.values()"
   ]
  },
  {
   "cell_type": "code",
   "execution_count": 47,
   "metadata": {
    "collapsed": false
   },
   "outputs": [
    {
     "name": "stdout",
     "output_type": "stream",
     "text": [
      "Help on built-in function itervalues:\n",
      "\n",
      "itervalues(...)\n",
      "    D.itervalues() -> an iterator over the values of D\n",
      "\n",
      "None\n",
      "<dictionary-valueiterator object at 0x7fae6c531520>\n",
      "['apple', 'apple']\n",
      "cherry\n",
      "banana\n",
      "dates\n",
      "['guava', 'grapes']\n"
     ]
    }
   ],
   "source": [
    "# itervalues\n",
    "print help(my_fruits.itervalues)\n",
    "print my_fruits.itervalues()\n",
    "for value in my_fruits.itervalues():\n",
    "    print value"
   ]
  },
  {
   "cell_type": "code",
   "execution_count": 48,
   "metadata": {
    "collapsed": false
   },
   "outputs": [
    {
     "name": "stdout",
     "output_type": "stream",
     "text": [
      "Help on built-in function viewvalues:\n",
      "\n",
      "viewvalues(...)\n",
      "    D.viewvalues() -> an object providing a view on D's values\n",
      "\n",
      "None\n",
      "dict_values([['apple', 'apple'], 'cherry', 'banana', 'dates', ['guava', 'grapes']])\n"
     ]
    }
   ],
   "source": [
    "# viewvalues\n",
    "print help(my_fruits.viewvalues)\n",
    "print my_fruits.viewvalues()"
   ]
  },
  {
   "cell_type": "code",
   "execution_count": null,
   "metadata": {
    "collapsed": true
   },
   "outputs": [],
   "source": [
    "# items,viewitems,iteritems"
   ]
  },
  {
   "cell_type": "code",
   "execution_count": 49,
   "metadata": {
    "collapsed": false
   },
   "outputs": [
    {
     "name": "stdout",
     "output_type": "stream",
     "text": [
      "Help on built-in function items:\n",
      "\n",
      "items(...)\n",
      "    D.items() -> list of D's (key, value) pairs, as 2-tuples\n",
      "\n",
      "None\n"
     ]
    }
   ],
   "source": [
    "# items\n",
    "print help(my_fruits.items)"
   ]
  },
  {
   "cell_type": "code",
   "execution_count": 50,
   "metadata": {
    "collapsed": false
   },
   "outputs": [
    {
     "name": "stdout",
     "output_type": "stream",
     "text": [
      "[('a', ['apple', 'apple']), ('c', 'cherry'), ('b', 'banana'), ('d', 'dates'), ('g', ['guava', 'grapes'])]\n"
     ]
    }
   ],
   "source": [
    "print my_fruits.items()"
   ]
  },
  {
   "cell_type": "code",
   "execution_count": 52,
   "metadata": {
    "collapsed": false
   },
   "outputs": [
    {
     "name": "stdout",
     "output_type": "stream",
     "text": [
      "Help on built-in function iteritems:\n",
      "\n",
      "iteritems(...)\n",
      "    D.iteritems() -> an iterator over the (key, value) items of D\n",
      "\n",
      "None\n",
      "<dictionary-itemiterator object at 0x7fae6c531838>\n",
      "('a', ['apple', 'apple'])\n",
      "('c', 'cherry')\n",
      "('b', 'banana')\n",
      "('d', 'dates')\n",
      "('g', ['guava', 'grapes'])\n"
     ]
    }
   ],
   "source": [
    "# iteritems\n",
    "print help(my_fruits.iteritems)\n",
    "print my_fruits.iteritems()\n",
    "for value in my_fruits.iteritems():\n",
    "    print value"
   ]
  },
  {
   "cell_type": "code",
   "execution_count": 53,
   "metadata": {
    "collapsed": false
   },
   "outputs": [
    {
     "name": "stdout",
     "output_type": "stream",
     "text": [
      "Help on built-in function viewitems:\n",
      "\n",
      "viewitems(...)\n",
      "    D.viewitems() -> a set-like object providing a view on D's items\n",
      "\n",
      "None\n",
      "dict_items([('a', ['apple', 'apple']), ('c', 'cherry'), ('b', 'banana'), ('d', 'dates'), ('g', ['guava', 'grapes'])])\n"
     ]
    }
   ],
   "source": [
    "# viewitems\n",
    "print help(my_fruits.viewitems)\n",
    "print my_fruits.viewitems()"
   ]
  },
  {
   "cell_type": "code",
   "execution_count": 54,
   "metadata": {
    "collapsed": false
   },
   "outputs": [
    {
     "name": "stdout",
     "output_type": "stream",
     "text": [
      "Help on built-in function update:\n",
      "\n",
      "update(...)\n",
      "    D.update([E, ]**F) -> None.  Update D from dict/iterable E and F.\n",
      "    If E present and has a .keys() method, does:     for k in E: D[k] = E[k]\n",
      "    If E present and lacks .keys() method, does:     for (k, v) in E: D[k] = v\n",
      "    In either case, this is followed by: for k in F: D[k] = F[k]\n",
      "\n",
      "None\n"
     ]
    }
   ],
   "source": [
    "# update\n",
    "print help(my_fruits.update)"
   ]
  },
  {
   "cell_type": "code",
   "execution_count": 55,
   "metadata": {
    "collapsed": true
   },
   "outputs": [],
   "source": [
    "my_fruits.update({'j':'jackfruit','k':'kiwi'})"
   ]
  },
  {
   "cell_type": "code",
   "execution_count": 56,
   "metadata": {
    "collapsed": false
   },
   "outputs": [
    {
     "name": "stdout",
     "output_type": "stream",
     "text": [
      "{'a': ['apple', 'apple'], 'c': 'cherry', 'b': 'banana', 'd': 'dates', 'g': ['guava', 'grapes'], 'k': 'kiwi', 'j': 'jackfruit'}\n"
     ]
    }
   ],
   "source": [
    "print my_fruits"
   ]
  },
  {
   "cell_type": "code",
   "execution_count": 57,
   "metadata": {
    "collapsed": false
   },
   "outputs": [
    {
     "name": "stdout",
     "output_type": "stream",
     "text": [
      "{'a': ['apple', 'apple'], 'c': 'cherry', 'b': 'banana', 'd': 'dates', 'g': ['guava', 'grapes'], 'k': 'kiwi', 'j': 'jackfruit', 'l': 'leechi'}\n"
     ]
    }
   ],
   "source": [
    "my_fruits['l'] = 'leechi'\n",
    "print my_fruits"
   ]
  },
  {
   "cell_type": "code",
   "execution_count": 58,
   "metadata": {
    "collapsed": false
   },
   "outputs": [
    {
     "name": "stdout",
     "output_type": "stream",
     "text": [
      "Help on built-in function setdefault:\n",
      "\n",
      "setdefault(...)\n",
      "    D.setdefault(k[,d]) -> D.get(k,d), also set D[k]=d if k not in D\n",
      "\n",
      "None\n"
     ]
    }
   ],
   "source": [
    "# setdefault\n",
    "print help(my_fruits.setdefault)"
   ]
  },
  {
   "cell_type": "code",
   "execution_count": 71,
   "metadata": {
    "collapsed": false
   },
   "outputs": [
    {
     "name": "stdout",
     "output_type": "stream",
     "text": [
      "{'arun': 'python', 'kumar': 'django', 'vishnu': 'python', 'bishwa': 'python', 'varun': 'python'}\n",
      "{'arun': 'python', 'kumar': 'django', 'vishnu': 'python', 'bishwa': 'python', 'varun': 'python'}\n",
      "django\n",
      "django\n",
      "django\n"
     ]
    }
   ],
   "source": [
    "print students\n",
    "# assignment\n",
    "students.setdefault('kumar','django')\n",
    "print students\n",
    "# get - TODO\n",
    "print students.setdefault('kumar')"
   ]
  },
  {
   "cell_type": "code",
   "execution_count": null,
   "metadata": {
    "collapsed": true
   },
   "outputs": [],
   "source": [
    "# copy - shallowcopy - complex object"
   ]
  },
  {
   "cell_type": "code",
   "execution_count": 73,
   "metadata": {
    "collapsed": false
   },
   "outputs": [
    {
     "name": "stdout",
     "output_type": "stream",
     "text": [
      "[1, 2, 3] 140387118869464\n",
      "[4, 5, 6] 140387118869968\n",
      "[[1, 2, 3], [4, 5, 6]] 140387118304720\n"
     ]
    }
   ],
   "source": [
    "a = [1,2,3]\n",
    "b = [4,5,6]\n",
    "print a,id(a)\n",
    "print b,id(b)\n",
    "Cc = [a,b]\n",
    "print Cc,id(Cc)"
   ]
  },
  {
   "cell_type": "code",
   "execution_count": 76,
   "metadata": {
    "collapsed": false
   },
   "outputs": [
    {
     "name": "stdout",
     "output_type": "stream",
     "text": [
      "[[1, 2, 3], [4, 5, 6]] 140387118304720\n",
      "[[1, 2, 3], [4, 5, 6]] 140387118304720\n",
      "True\n",
      "140387118869464 140387118869968\n",
      "140387118869464 140387118869968\n",
      "140387118869464 140387118869968\n"
     ]
    }
   ],
   "source": [
    "# soft copy\n",
    "Soc = Cc\n",
    "print Cc,id(Cc)\n",
    "print Soc,id(Soc)\n",
    "print Cc is Soc\n",
    "\n",
    "# task\n",
    "print id(a),id(b)\n",
    "print id(Cc[0]),id(Cc[1])\n",
    "print id(Soc[0]),id(Soc[1])"
   ]
  },
  {
   "cell_type": "code",
   "execution_count": 77,
   "metadata": {
    "collapsed": false
   },
   "outputs": [
    {
     "name": "stdout",
     "output_type": "stream",
     "text": [
      "[[1, 2, 3], [4, 5, 6]] 140387118304720\n",
      "[[1, 2, 3], [4, 5, 6]] 140387118430688\n",
      "False\n",
      "140387118869464 140387118869968\n",
      "140387118869464 140387118869968\n",
      "140387118450736 140387118450808\n"
     ]
    }
   ],
   "source": [
    "# deep copy\n",
    "import copy\n",
    "Doc = copy.deepcopy(Cc)\n",
    "print Cc,id(Cc)\n",
    "print Doc,id(Doc)\n",
    "print Cc is Doc\n",
    "\n",
    "# task\n",
    "print id(a),id(b)\n",
    "print id(Cc[0]),id(Cc[1])\n",
    "print id(Doc[0]),id(Doc[1])"
   ]
  },
  {
   "cell_type": "code",
   "execution_count": 79,
   "metadata": {
    "collapsed": false
   },
   "outputs": [
    {
     "name": "stdout",
     "output_type": "stream",
     "text": [
      "Help on function copy in module copy:\n",
      "\n",
      "copy(x)\n",
      "    Shallow copy operation on arbitrary Python objects.\n",
      "    \n",
      "    See the module's __doc__ string for more info.\n",
      "\n",
      "None\n"
     ]
    }
   ],
   "source": [
    "# shallow copy\n",
    "import copy\n",
    "print help(copy.copy)"
   ]
  },
  {
   "cell_type": "code",
   "execution_count": 82,
   "metadata": {
    "collapsed": false
   },
   "outputs": [
    {
     "name": "stdout",
     "output_type": "stream",
     "text": [
      "140387118456984 140387118304720\n",
      "False\n",
      "140387118869464 140387118869968\n",
      "140387118869464 140387118869968\n",
      "140387118869464 140387118869968\n"
     ]
    }
   ],
   "source": [
    "Sho = copy.copy(Cc)\n",
    "print id(Sho),id(Cc)\n",
    "print Sho is Cc # false\n",
    "# task\n",
    "print id(a),id(b)\n",
    "print id(Cc[0]),id(Cc[1])\n",
    "print id(Sho[0]),id(Sho[1])"
   ]
  },
  {
   "cell_type": "code",
   "execution_count": 83,
   "metadata": {
    "collapsed": false
   },
   "outputs": [
    {
     "name": "stdout",
     "output_type": "stream",
     "text": [
      "{'a': ['apple', 'apple'], 'c': 'cherry', 'b': 'banana', 'd': 'dates', 'g': ['guava', 'grapes'], 'k': 'kiwi', 'j': 'jackfruit', 'l': 'leechi'}\n"
     ]
    }
   ],
   "source": [
    "print my_fruits"
   ]
  },
  {
   "cell_type": "code",
   "execution_count": 84,
   "metadata": {
    "collapsed": false
   },
   "outputs": [
    {
     "name": "stdout",
     "output_type": "stream",
     "text": [
      "{'a': ['apple', 'apple'], 'c': 'cherry', 'b': 'banana', 'd': 'dates', 'g': ['guava', 'grapes'], 'k': 'kiwi', 'j': 'jackfruit', 'l': 'leechi'}\n"
     ]
    }
   ],
   "source": [
    "Cmy_fruits = my_fruits.copy()\n",
    "print Cmy_fruits"
   ]
  },
  {
   "cell_type": "code",
   "execution_count": 85,
   "metadata": {
    "collapsed": false
   },
   "outputs": [
    {
     "name": "stdout",
     "output_type": "stream",
     "text": [
      "False\n"
     ]
    }
   ],
   "source": [
    "print Cmy_fruits is my_fruits"
   ]
  },
  {
   "cell_type": "code",
   "execution_count": 86,
   "metadata": {
    "collapsed": true
   },
   "outputs": [],
   "source": [
    "# pop\n",
    "# popitem\n",
    "# clean"
   ]
  },
  {
   "cell_type": "code",
   "execution_count": 88,
   "metadata": {
    "collapsed": false
   },
   "outputs": [
    {
     "name": "stdout",
     "output_type": "stream",
     "text": [
      "Help on built-in function pop:\n",
      "\n",
      "pop(...)\n",
      "    D.pop(k[,d]) -> v, remove specified key and return the corresponding value.\n",
      "    If key is not found, d is returned if given, otherwise KeyError is raised\n",
      "\n",
      "None\n",
      "['apple', 'apple']\n"
     ]
    }
   ],
   "source": [
    "# pop\n",
    "print help(Cmy_fruits.pop)\n",
    "print Cmy_fruits.pop('a')"
   ]
  },
  {
   "cell_type": "code",
   "execution_count": 89,
   "metadata": {
    "collapsed": false
   },
   "outputs": [
    {
     "name": "stdout",
     "output_type": "stream",
     "text": [
      "{'c': 'cherry', 'b': 'banana', 'd': 'dates', 'g': ['guava', 'grapes'], 'k': 'kiwi', 'j': 'jackfruit', 'l': 'leechi'}\n"
     ]
    }
   ],
   "source": [
    "print Cmy_fruits"
   ]
  },
  {
   "cell_type": "code",
   "execution_count": 91,
   "metadata": {
    "collapsed": false
   },
   "outputs": [
    {
     "name": "stdout",
     "output_type": "stream",
     "text": [
      "Help on built-in function popitem:\n",
      "\n",
      "popitem(...)\n",
      "    D.popitem() -> (k, v), remove and return some (key, value) pair as a\n",
      "    2-tuple; but raise KeyError if D is empty.\n",
      "\n",
      "None\n",
      "('c', 'cherry')\n"
     ]
    }
   ],
   "source": [
    "# popitem\n",
    "print help(Cmy_fruits.popitem)\n",
    "print Cmy_fruits.popitem()"
   ]
  },
  {
   "cell_type": "code",
   "execution_count": 92,
   "metadata": {
    "collapsed": false
   },
   "outputs": [
    {
     "name": "stdout",
     "output_type": "stream",
     "text": [
      "('b', 'banana')\n"
     ]
    }
   ],
   "source": [
    "print Cmy_fruits.popitem()"
   ]
  },
  {
   "cell_type": "code",
   "execution_count": 93,
   "metadata": {
    "collapsed": false
   },
   "outputs": [
    {
     "name": "stdout",
     "output_type": "stream",
     "text": [
      "Help on built-in function clear:\n",
      "\n",
      "clear(...)\n",
      "    D.clear() -> None.  Remove all items from D.\n",
      "\n",
      "None\n"
     ]
    }
   ],
   "source": [
    "# clear\n",
    "print help(Cmy_fruits.clear)"
   ]
  },
  {
   "cell_type": "code",
   "execution_count": 94,
   "metadata": {
    "collapsed": true
   },
   "outputs": [],
   "source": [
    "Cmy_fruits.clear()"
   ]
  },
  {
   "cell_type": "code",
   "execution_count": 96,
   "metadata": {
    "collapsed": false
   },
   "outputs": [
    {
     "name": "stdout",
     "output_type": "stream",
     "text": [
      "{}\n"
     ]
    }
   ],
   "source": [
    "print Cmy_fruits"
   ]
  },
  {
   "cell_type": "code",
   "execution_count": null,
   "metadata": {
    "collapsed": true
   },
   "outputs": [],
   "source": [
    "# howework"
   ]
  }
 ],
 "metadata": {
  "kernelspec": {
   "display_name": "Python 2",
   "language": "python",
   "name": "python2"
  },
  "language_info": {
   "codemirror_mode": {
    "name": "ipython",
    "version": 2
   },
   "file_extension": ".py",
   "mimetype": "text/x-python",
   "name": "python",
   "nbconvert_exporter": "python",
   "pygments_lexer": "ipython2",
   "version": "2.7.6"
  }
 },
 "nbformat": 4,
 "nbformat_minor": 1
}
