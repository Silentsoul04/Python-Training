{
 "cells": [
  {
   "cell_type": "code",
   "execution_count": null,
   "metadata": {
    "collapsed": true
   },
   "outputs": [],
   "source": [
    "# what is a list?\n",
    "# List is a collection of data.\n",
    "# Lists can store both homogenous and hetrogenous data.\n",
    "# list vs array\n",
    "# array : http://tinyurl.com/TconSeminars"
   ]
  },
  {
   "cell_type": "code",
   "execution_count": 2,
   "metadata": {
    "collapsed": false
   },
   "outputs": [
    {
     "name": "stdout",
     "output_type": "stream",
     "text": [
      "['apple', 'banana', 'cherry', 'dates'] <type 'list'>\n"
     ]
    }
   ],
   "source": [
    "# lists are indexed.\n",
    "my_fruits = ['apple','banana','cherry','dates']\n",
    "print my_fruits,type(my_fruits)"
   ]
  },
  {
   "cell_type": "code",
   "execution_count": 3,
   "metadata": {
    "collapsed": false
   },
   "outputs": [
    {
     "name": "stdout",
     "output_type": "stream",
     "text": [
      "[] <type 'list'>\n"
     ]
    }
   ],
   "source": [
    "my_empty = list()\n",
    "print my_empty,type(my_empty)"
   ]
  },
  {
   "cell_type": "code",
   "execution_count": 4,
   "metadata": {
    "collapsed": false
   },
   "outputs": [
    {
     "name": "stdout",
     "output_type": "stream",
     "text": [
      "[] <type 'list'>\n"
     ]
    }
   ],
   "source": [
    "my_empty = []\n",
    "print my_empty,type(my_empty)"
   ]
  },
  {
   "cell_type": "code",
   "execution_count": 5,
   "metadata": {
    "collapsed": false
   },
   "outputs": [
    {
     "name": "stdout",
     "output_type": "stream",
     "text": [
      "apple\n"
     ]
    }
   ],
   "source": [
    "# indexing\n",
    "# my_fruits = ['apple','banana','cherry','dates']\n",
    "#                0       1         2         3    # +ve indexing or left to right\n",
    "#               -4       -3       -2        -1    # -ve indexing or right to left\n",
    "print my_fruits[0]"
   ]
  },
  {
   "cell_type": "code",
   "execution_count": 6,
   "metadata": {
    "collapsed": false
   },
   "outputs": [
    {
     "name": "stdout",
     "output_type": "stream",
     "text": [
      "['apple', 'banana', 'cherry']\n"
     ]
    }
   ],
   "source": [
    "# slicing\n",
    "print my_fruits[0:3]"
   ]
  },
  {
   "cell_type": "code",
   "execution_count": 7,
   "metadata": {
    "collapsed": false
   },
   "outputs": [
    {
     "name": "stdout",
     "output_type": "stream",
     "text": [
      "p\n"
     ]
    },
    {
     "ename": "TypeError",
     "evalue": "'str' object does not support item assignment",
     "output_type": "error",
     "traceback": [
      "\u001b[0;31m---------------------------------------------------------------------------\u001b[0m",
      "\u001b[0;31mTypeError\u001b[0m                                 Traceback (most recent call last)",
      "\u001b[0;32m<ipython-input-7-a16b53304d79>\u001b[0m in \u001b[0;36m<module>\u001b[0;34m()\u001b[0m\n\u001b[1;32m      2\u001b[0m \u001b[0mmy_string\u001b[0m \u001b[0;34m=\u001b[0m \u001b[0;34m\"python\"\u001b[0m\u001b[0;34m\u001b[0m\u001b[0m\n\u001b[1;32m      3\u001b[0m \u001b[0;32mprint\u001b[0m \u001b[0mmy_string\u001b[0m\u001b[0;34m[\u001b[0m\u001b[0;36m0\u001b[0m\u001b[0;34m]\u001b[0m\u001b[0;34m\u001b[0m\u001b[0m\n\u001b[0;32m----> 4\u001b[0;31m \u001b[0mmy_string\u001b[0m\u001b[0;34m[\u001b[0m\u001b[0;36m0\u001b[0m\u001b[0;34m]\u001b[0m \u001b[0;34m=\u001b[0m \u001b[0;34m\"P\"\u001b[0m\u001b[0;34m\u001b[0m\u001b[0m\n\u001b[0m",
      "\u001b[0;31mTypeError\u001b[0m: 'str' object does not support item assignment"
     ]
    }
   ],
   "source": [
    "# lists are mutable. - you can modify the lists.\n",
    "my_string = \"python\"\n",
    "print my_string[0]\n",
    "my_string[0] = \"P\""
   ]
  },
  {
   "cell_type": "code",
   "execution_count": 9,
   "metadata": {
    "collapsed": false
   },
   "outputs": [
    {
     "name": "stdout",
     "output_type": "stream",
     "text": [
      "['apple', 'banana', 'cherry', 'dates']\n",
      "apple\n",
      "['Apple', 'banana', 'cherry', 'dates']\n"
     ]
    }
   ],
   "source": [
    "print my_fruits\n",
    "print my_fruits[0]\n",
    "my_fruits[0]='Apple'\n",
    "print my_fruits"
   ]
  },
  {
   "cell_type": "code",
   "execution_count": 11,
   "metadata": {
    "collapsed": false
   },
   "outputs": [
    {
     "name": "stdout",
     "output_type": "stream",
     "text": [
      "True\n",
      "False\n"
     ]
    }
   ],
   "source": [
    "# in\n",
    "print 'Apple' in my_fruits\n",
    "print 'orange' in my_fruits"
   ]
  },
  {
   "cell_type": "code",
   "execution_count": 14,
   "metadata": {
    "collapsed": false
   },
   "outputs": [
    {
     "name": "stdout",
     "output_type": "stream",
     "text": [
      "results for the student - rajni\n",
      "results for the student - priya\n",
      "results for the student - praveen\n"
     ]
    }
   ],
   "source": [
    "# example on in\n",
    "#!/usr/bin/python\n",
    "# continue : its skips an iteration.\n",
    "\n",
    "absent = ['sunil','raj','madhuri','kumar']\n",
    "for student in ['rajni','madhuri','priya','kumar','sunil','raj','praveen']:\n",
    "\tif student in absent:\n",
    "\t\tcontinue\n",
    "\t\t#break\n",
    "\t\t#pass\n",
    "\tprint \"results for the student - {}\".format(student)"
   ]
  },
  {
   "cell_type": "code",
   "execution_count": 16,
   "metadata": {
    "collapsed": false
   },
   "outputs": [
    {
     "name": "stdout",
     "output_type": "stream",
     "text": [
      "python ['p', 'y', 't', 'h', 'o', 'n']\n"
     ]
    }
   ],
   "source": [
    "# converting string to list and vice-versa.\n",
    "# case I\n",
    "# converted a string to list.\n",
    "my_string=\"python\"\n",
    "Lmy_string = list(my_string)\n",
    "print my_string,Lmy_string"
   ]
  },
  {
   "cell_type": "code",
   "execution_count": 17,
   "metadata": {
    "collapsed": false
   },
   "outputs": [
    {
     "name": "stdout",
     "output_type": "stream",
     "text": [
      "['T', 'y', 't', 'h', 'o', 'n']\n"
     ]
    }
   ],
   "source": [
    "Lmy_string[0]='T'\n",
    "print Lmy_string"
   ]
  },
  {
   "cell_type": "code",
   "execution_count": 21,
   "metadata": {
    "collapsed": false
   },
   "outputs": [
    {
     "name": "stdout",
     "output_type": "stream",
     "text": [
      "Help on built-in function join:\n",
      "\n",
      "join(...)\n",
      "    S.join(iterable) -> string\n",
      "    \n",
      "    Return a string which is the concatenation of the strings in the\n",
      "    iterable.  The separator between elements is S.\n",
      "\n",
      "None\n",
      "Tython\n"
     ]
    }
   ],
   "source": [
    "# we have a list and need to convert it to string\n",
    "# you converted a list to string.\n",
    "delimiter=\"\"\n",
    "print help(delimiter.join)\n",
    "print delimiter.join(Lmy_string)"
   ]
  },
  {
   "cell_type": "code",
   "execution_count": 23,
   "metadata": {
    "collapsed": false
   },
   "outputs": [
    {
     "name": "stdout",
     "output_type": "stream",
     "text": [
      "['T', 'o', 'd', 'a', 'y', ' ', 'i', 's', ' ', 'f', 'r', 'i', 'd', 'a', 'y']\n",
      "Help on built-in function split:\n",
      "\n",
      "split(...)\n",
      "    S.split([sep [,maxsplit]]) -> list of strings\n",
      "    \n",
      "    Return a list of the words in the string S, using sep as the\n",
      "    delimiter string.  If maxsplit is given, at most maxsplit\n",
      "    splits are done. If sep is not specified or is None, any\n",
      "    whitespace string is a separator and empty strings are removed\n",
      "    from the result.\n",
      "\n",
      "None\n"
     ]
    }
   ],
   "source": [
    "# case II\n",
    "my_sentence=\"Today is friday\"\n",
    "print list(my_sentence)\n",
    "print help(my_sentence.split)"
   ]
  },
  {
   "cell_type": "code",
   "execution_count": 25,
   "metadata": {
    "collapsed": false
   },
   "outputs": [
    {
     "name": "stdout",
     "output_type": "stream",
     "text": [
      "['Today', 'is', 'friday']\n",
      "['Today', 'is', 'Thursday']\n"
     ]
    }
   ],
   "source": [
    "Lmy_string = my_sentence.split()\n",
    "print Lmy_string\n",
    "Lmy_string[2]='Thursday'\n",
    "print Lmy_string"
   ]
  },
  {
   "cell_type": "code",
   "execution_count": 28,
   "metadata": {
    "collapsed": false
   },
   "outputs": [
    {
     "name": "stdout",
     "output_type": "stream",
     "text": [
      "Today is Thursday\n"
     ]
    }
   ],
   "source": [
    "# convert a list to string\n",
    "delimiter=\" \"\n",
    "print delimiter.join(Lmy_string)"
   ]
  },
  {
   "cell_type": "code",
   "execution_count": 5,
   "metadata": {
    "collapsed": false
   },
   "outputs": [
    {
     "name": "stdout",
     "output_type": "stream",
     "text": [
      "Help on built-in function id in module __builtin__:\n",
      "\n",
      "id(...)\n",
      "    id(object) -> integer\n",
      "    \n",
      "    Return the identity of an object.  This is guaranteed to be unique among\n",
      "    simultaneously existing objects.  (Hint: it's the object's memory address.)\n",
      "\n",
      "None\n",
      "1 33239416 33239416\n",
      "1 33239416\n",
      "True\n",
      "3 33239368 33239368\n",
      "1 33239416\n"
     ]
    }
   ],
   "source": [
    "# Memory of lists in python.\n",
    "# soft copy,deep copy,shallow copy\n",
    "\n",
    "a = 1\n",
    "print help(id)\n",
    "print a,id(1),id(a)\n",
    "\n",
    "b = a\n",
    "print b,id(b)\n",
    "\n",
    "# is\n",
    "print a is b\n",
    "\n",
    "# lets modify the value of b\n",
    "b = 3\n",
    "print b,id(b),id(3)\n",
    "print a,id(a)"
   ]
  },
  {
   "cell_type": "code",
   "execution_count": 11,
   "metadata": {
    "collapsed": false
   },
   "outputs": [
    {
     "name": "stdout",
     "output_type": "stream",
     "text": [
      "140242684691592 [1, 2, 3]\n",
      "140242684691592 [1, 2, 3]\n",
      "[1, 'two', 3]\n",
      "[1, 'two', 3]\n",
      "['one', 'two', 'three']\n",
      "[1, 'two', 3]\n",
      "140242561477016 140242684691592\n"
     ]
    }
   ],
   "source": [
    "# lists\n",
    "my_list = [1,2,3]\n",
    "print id(my_list),my_list\n",
    "my_list1 = my_list\n",
    "print id(my_list1),my_list1\n",
    "\n",
    "# soft copy: both the objects linked to same memory block\n",
    "my_list[1] = \"two\"\n",
    "print my_list  # [1,'two',3]\n",
    "print my_list1 # [1,2,3]\n",
    "my_list = [\"one\",\"two\",\"three\"]\n",
    "print my_list\n",
    "print my_list1\n",
    "print id(my_list),id(my_list1)"
   ]
  },
  {
   "cell_type": "code",
   "execution_count": 17,
   "metadata": {
    "collapsed": false
   },
   "outputs": [
    {
     "name": "stdout",
     "output_type": "stream",
     "text": [
      "[1, 2, 3] 140242561475792\n",
      "[1, 2, 3] 140242561475720\n",
      "[1, 'two', 3]\n",
      "[1, 2, 3]\n",
      "['Error', 'PyStringMap', '_EmptyClass', '__all__', '__builtins__', '__doc__', '__file__', '__name__', '__package__', '_copy_dispatch', '_copy_immutable', '_copy_inst', '_copy_with_constructor', '_copy_with_copy_method', '_deepcopy_atomic', '_deepcopy_dict', '_deepcopy_dispatch', '_deepcopy_inst', '_deepcopy_list', '_deepcopy_method', '_deepcopy_tuple', '_keep_alive', '_reconstruct', '_test', 'copy', 'deepcopy', 'dispatch_table', 'error', 'name', 't', 'weakref']\n",
      "[1, 'two', 3] 140242561481544\n",
      "[1, 'two', 3] 140242561475792\n",
      "False\n"
     ]
    }
   ],
   "source": [
    "# deep copy\n",
    "my_list = [1,2,3]\n",
    "print my_list,id(my_list)\n",
    "my_list1 = my_list[:]\n",
    "print my_list1,id(my_list1)\n",
    "my_list[1]=\"two\"\n",
    "print my_list\n",
    "print my_list1\n",
    "\n",
    "# deep copy\n",
    "import copy\n",
    "print dir(copy)\n",
    "my_list2 = copy.deepcopy(my_list)\n",
    "print my_list2,id(my_list2)\n",
    "print my_list,id(my_list)\n",
    "\n",
    "# is\n",
    "print my_list is my_list2"
   ]
  },
  {
   "cell_type": "code",
   "execution_count": 18,
   "metadata": {
    "collapsed": false
   },
   "outputs": [
    {
     "name": "stdout",
     "output_type": "stream",
     "text": [
      "['__add__', '__class__', '__contains__', '__delattr__', '__delitem__', '__delslice__', '__doc__', '__eq__', '__format__', '__ge__', '__getattribute__', '__getitem__', '__getslice__', '__gt__', '__hash__', '__iadd__', '__imul__', '__init__', '__iter__', '__le__', '__len__', '__lt__', '__mul__', '__ne__', '__new__', '__reduce__', '__reduce_ex__', '__repr__', '__reversed__', '__rmul__', '__setattr__', '__setitem__', '__setslice__', '__sizeof__', '__str__', '__subclasshook__', 'append', 'count', 'extend', 'index', 'insert', 'pop', 'remove', 'reverse', 'sort']\n"
     ]
    }
   ],
   "source": [
    "# my_functions\n",
    "\n",
    "my_fruits = ['apple','banana','cherry','dates']\n",
    "print dir(my_fruits)"
   ]
  },
  {
   "cell_type": "code",
   "execution_count": 20,
   "metadata": {
    "collapsed": false
   },
   "outputs": [
    {
     "name": "stdout",
     "output_type": "stream",
     "text": [
      "Help on built-in function append:\n",
      "\n",
      "append(...)\n",
      "    L.append(object) -- append object to end\n",
      "\n",
      "None\n",
      "['apple', 'banana', 'cherry', 'dates', 'fig']\n"
     ]
    }
   ],
   "source": [
    "# append\n",
    "print help(my_fruits.append)\n",
    "my_fruits.append('fig')\n",
    "print my_fruits"
   ]
  },
  {
   "cell_type": "code",
   "execution_count": 22,
   "metadata": {
    "collapsed": false
   },
   "outputs": [
    {
     "name": "stdout",
     "output_type": "stream",
     "text": [
      "Help on built-in function extend:\n",
      "\n",
      "extend(...)\n",
      "    L.extend(iterable) -- extend list by appending elements from the iterable\n",
      "\n",
      "None\n",
      "['apple', 'banana', 'cherry', 'dates', 'fig', 'grapes', 'jackfruit', 'kiwi']\n"
     ]
    }
   ],
   "source": [
    "# extend\n",
    "print help(my_fruits.extend)\n",
    "my_fruits.extend(['grapes','jackfruit','kiwi'])\n",
    "print my_fruits"
   ]
  },
  {
   "cell_type": "code",
   "execution_count": 26,
   "metadata": {
    "collapsed": false
   },
   "outputs": [
    {
     "name": "stdout",
     "output_type": "stream",
     "text": [
      "Help on built-in function index:\n",
      "\n",
      "index(...)\n",
      "    L.index(value, [start, [stop]]) -> integer -- return first index of value.\n",
      "    Raises ValueError if the value is not present.\n",
      "\n",
      "None\n",
      "5\n"
     ]
    }
   ],
   "source": [
    "# index\n",
    "print help(my_fruits.index)\n",
    "print my_fruits.index('grapes')"
   ]
  },
  {
   "cell_type": "code",
   "execution_count": 27,
   "metadata": {
    "collapsed": false
   },
   "outputs": [
    {
     "name": "stdout",
     "output_type": "stream",
     "text": [
      "Help on built-in function insert:\n",
      "\n",
      "insert(...)\n",
      "    L.insert(index, object) -- insert object before index\n",
      "\n",
      "None\n",
      "['apple', 'banana', 'cherry', 'dates', 'fig', 'gauva', 'grapes', 'jackfruit', 'kiwi']\n"
     ]
    }
   ],
   "source": [
    "# insert\n",
    "print help(my_fruits.insert)\n",
    "my_fruits.insert(5,'gauva')\n",
    "print my_fruits"
   ]
  },
  {
   "cell_type": "code",
   "execution_count": 29,
   "metadata": {
    "collapsed": false
   },
   "outputs": [
    {
     "name": "stdout",
     "output_type": "stream",
     "text": [
      "Help on built-in function pop:\n",
      "\n",
      "pop(...)\n",
      "    L.pop([index]) -> item -- remove and return item at index (default last).\n",
      "    Raises IndexError if list is empty or index is out of range.\n",
      "\n",
      "None\n",
      "kiwi\n",
      "['apple', 'banana', 'cherry', 'dates', 'fig', 'gauva', 'grapes', 'jackfruit']\n"
     ]
    }
   ],
   "source": [
    "# pop\n",
    "print help(my_fruits.pop)\n",
    "print my_fruits.pop()\n",
    "print my_fruits"
   ]
  },
  {
   "cell_type": "code",
   "execution_count": 30,
   "metadata": {
    "collapsed": false
   },
   "outputs": [
    {
     "name": "stdout",
     "output_type": "stream",
     "text": [
      "Help on built-in function remove:\n",
      "\n",
      "remove(...)\n",
      "    L.remove(value) -- remove first occurrence of value.\n",
      "    Raises ValueError if the value is not present.\n",
      "\n",
      "None\n",
      "None\n",
      "['apple', 'banana', 'cherry', 'fig', 'gauva', 'grapes', 'jackfruit']\n"
     ]
    }
   ],
   "source": [
    "# remove\n",
    "print help(my_fruits.remove)\n",
    "print my_fruits.remove('dates')\n",
    "print my_fruits"
   ]
  },
  {
   "cell_type": "code",
   "execution_count": 31,
   "metadata": {
    "collapsed": false
   },
   "outputs": [
    {
     "name": "stdout",
     "output_type": "stream",
     "text": [
      "Help on built-in function count:\n",
      "\n",
      "count(...)\n",
      "    L.count(value) -> integer -- return number of occurrences of value\n",
      "\n",
      "None\n",
      "1\n",
      "['apple', 'banana', 'cherry', 'fig', 'gauva', 'grapes', 'jackfruit']\n"
     ]
    }
   ],
   "source": [
    "# count\n",
    "print help(my_fruits.count)\n",
    "print my_fruits.count('cherry')\n",
    "print my_fruits"
   ]
  },
  {
   "cell_type": "code",
   "execution_count": 32,
   "metadata": {
    "collapsed": false
   },
   "outputs": [
    {
     "name": "stdout",
     "output_type": "stream",
     "text": [
      "Help on built-in function reverse:\n",
      "\n",
      "reverse(...)\n",
      "    L.reverse() -- reverse *IN PLACE*\n",
      "\n",
      "None\n",
      "['apple', 'banana', 'cherry', 'fig', 'gauva', 'grapes', 'jackfruit']\n",
      "None\n",
      "['jackfruit', 'grapes', 'gauva', 'fig', 'cherry', 'banana', 'apple']\n"
     ]
    }
   ],
   "source": [
    "# reverse\n",
    "print help(my_fruits.reverse)\n",
    "print my_fruits\n",
    "print my_fruits.reverse()\n",
    "print my_fruits"
   ]
  },
  {
   "cell_type": "code",
   "execution_count": 36,
   "metadata": {
    "collapsed": false
   },
   "outputs": [
    {
     "name": "stdout",
     "output_type": "stream",
     "text": [
      "Help on built-in function sort:\n",
      "\n",
      "sort(...)\n",
      "    L.sort(cmp=None, key=None, reverse=False) -- stable sort *IN PLACE*;\n",
      "    cmp(x, y) -> -1, 0, 1\n",
      "\n",
      "None\n",
      "None\n",
      "['apple', 'banana', 'cherry', 'fig', 'gauva', 'grapes', 'jackfruit']\n",
      "None\n",
      "['jackfruit', 'grapes', 'gauva', 'fig', 'cherry', 'banana', 'apple']\n"
     ]
    }
   ],
   "source": [
    "# sort\n",
    "print help(my_fruits.sort)\n",
    "print my_fruits.sort()\n",
    "print my_fruits\n",
    "print my_fruits.sort(reverse=True)\n",
    "print my_fruits"
   ]
  },
  {
   "cell_type": "raw",
   "metadata": {
    "collapsed": true
   },
   "source": [
    "# task\n",
    "\n",
    "my_days = ['yesterday','today','tomorrow','dayafter']\n",
    "\n",
    "# task1: output\n",
    "yesterday 9\n",
    "today     5\n",
    "tomorrow  8\n",
    "dayafter  8\n",
    "\n",
    "# task2: output\n",
    "Yesterday\n",
    "TOday\n",
    "TOMorrow\n",
    "DAYAfter"
   ]
  },
  {
   "cell_type": "code",
   "execution_count": 37,
   "metadata": {
    "collapsed": false
   },
   "outputs": [
    {
     "name": "stdout",
     "output_type": "stream",
     "text": [
      "yesterday 9\n",
      "today 5\n",
      "tomorrow 8\n",
      "dayafter 8\n"
     ]
    }
   ],
   "source": [
    "my_days = ['yesterday','today','tomorrow','dayafter']\n",
    "for value in my_days:\n",
    "    print value,len(value)"
   ]
  },
  {
   "cell_type": "code",
   "execution_count": 42,
   "metadata": {
    "collapsed": false
   },
   "outputs": [
    {
     "name": "stdout",
     "output_type": "stream",
     "text": [
      "yesterday 0 y y\n",
      "today 1 o to\n",
      "tomorrow 2 m tom\n",
      "dayafter 3 a daya\n"
     ]
    }
   ],
   "source": [
    "# task2\n",
    "for value in my_days:\n",
    "    print value,my_days.index(value),value[my_days.index(value)],value[:my_days.index(value) + 1]"
   ]
  },
  {
   "cell_type": "code",
   "execution_count": 44,
   "metadata": {
    "collapsed": false
   },
   "outputs": [
    {
     "name": "stdout",
     "output_type": "stream",
     "text": [
      "pyt\n",
      "hon\n",
      "python\n"
     ]
    }
   ],
   "source": [
    "my_string=\"python\"\n",
    "print my_string[:3]\n",
    "print my_string[3:]\n",
    "print my_string[:3] + my_string[3:]"
   ]
  },
  {
   "cell_type": "code",
   "execution_count": 43,
   "metadata": {
    "collapsed": false
   },
   "outputs": [
    {
     "name": "stdout",
     "output_type": "stream",
     "text": [
      "Yesterday\n",
      "TOday\n",
      "TOMorrow\n",
      "DAYAfter\n"
     ]
    }
   ],
   "source": [
    "for value in my_days:\n",
    "    print value[:my_days.index(value) + 1].upper() + value[my_days.index(value) + 1:]"
   ]
  },
  {
   "cell_type": "code",
   "execution_count": null,
   "metadata": {
    "collapsed": true
   },
   "outputs": [],
   "source": [
    "# List comprehensions\n",
    "# https://github.com/tuxfux-hlp/Python-examples/blob/master/lists/list_comprehension.txt\n",
    "# https://github.com/tuxfux-hlp/Python-examples"
   ]
  },
  {
   "cell_type": "code",
   "execution_count": 1,
   "metadata": {
    "collapsed": false
   },
   "outputs": [
    {
     "name": "stdout",
     "output_type": "stream",
     "text": [
      "please enter a number:1,2,3,4,5,6,7,8,9,10\n",
      "1,2,3,4,5,6,7,8,9,10 <type 'str'>\n"
     ]
    }
   ],
   "source": [
    "# without list comprehnesions \n",
    "# 1,2,3,4,5,6,7,8,9,10\n",
    "# 2,4,6,8,10\n",
    "num = raw_input(\"please enter a number:\")\n",
    "print num,type(num)"
   ]
  },
  {
   "cell_type": "code",
   "execution_count": 2,
   "metadata": {
    "collapsed": false
   },
   "outputs": [
    {
     "name": "stdout",
     "output_type": "stream",
     "text": [
      "['1', '2', '3', '4', '5', '6', '7', '8', '9', '10'] <type 'list'>\n"
     ]
    }
   ],
   "source": [
    "Lnum = num.split(',')\n",
    "print Lnum,type(Lnum)"
   ]
  },
  {
   "cell_type": "code",
   "execution_count": 3,
   "metadata": {
    "collapsed": true
   },
   "outputs": [],
   "source": [
    "Leven = []\n",
    "for value in Lnum:\n",
    "    if int(value) % 2 == 0:\n",
    "        Leven.append(value)"
   ]
  },
  {
   "cell_type": "code",
   "execution_count": 5,
   "metadata": {
    "collapsed": false
   },
   "outputs": [
    {
     "name": "stdout",
     "output_type": "stream",
     "text": [
      "['2', '4', '6', '8', '10']\n",
      "2,4,6,8,10\n"
     ]
    }
   ],
   "source": [
    "print Leven\n",
    "print \",\".join(Leven)"
   ]
  },
  {
   "cell_type": "code",
   "execution_count": 9,
   "metadata": {
    "collapsed": false
   },
   "outputs": [
    {
     "name": "stdout",
     "output_type": "stream",
     "text": [
      "2,4,6,8,10\n"
     ]
    }
   ],
   "source": [
    "# list comprehensions\n",
    "# [print;condition;statements]\n",
    "# [3,1,2]\n",
    "print \",\".join([ value for value in num.split(',') if int(value) % 2 == 0])"
   ]
  },
  {
   "cell_type": "code",
   "execution_count": 11,
   "metadata": {
    "collapsed": false
   },
   "outputs": [
    {
     "data": {
      "text/plain": [
       "[['TODAY', 'Today', 'today'],\n",
       " ['IS', 'Is', 'is'],\n",
       " ['SATURDAY', 'Saturday', 'saturday']]"
      ]
     },
     "execution_count": 11,
     "metadata": {},
     "output_type": "execute_result"
    }
   ],
   "source": [
    "# example 2\n",
    "my_string=\"today is saturday\"\n",
    "[ [value.upper(),value.capitalize(),value.lower()] for value in my_string.split()]"
   ]
  },
  {
   "cell_type": "code",
   "execution_count": null,
   "metadata": {
    "collapsed": true
   },
   "outputs": [],
   "source": []
  }
 ],
 "metadata": {
  "kernelspec": {
   "display_name": "Python 2",
   "language": "python",
   "name": "python2"
  },
  "language_info": {
   "codemirror_mode": {
    "name": "ipython",
    "version": 2
   },
   "file_extension": ".py",
   "mimetype": "text/x-python",
   "name": "python",
   "nbconvert_exporter": "python",
   "pygments_lexer": "ipython2",
   "version": "2.7.6"
  }
 },
 "nbformat": 4,
 "nbformat_minor": 1
}
