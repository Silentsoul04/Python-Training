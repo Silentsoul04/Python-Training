{
 "cells": [
  {
   "cell_type": "code",
   "execution_count": null,
   "metadata": {
    "collapsed": true
   },
   "outputs": [],
   "source": [
    "# modules\n",
    "# module is a collection of functions/variables which can be used later.\n",
    "# f1.py - fun1,fun2,fun3,fun4,fun5\n",
    "# f2.py - fun1,fun2,fun3,f1.fun1\n",
    "# this makes sure we dont have to deal with program namespaces."
   ]
  },
  {
   "cell_type": "code",
   "execution_count": null,
   "metadata": {
    "collapsed": true
   },
   "outputs": [],
   "source": [
    "# why do you save your program as .py ?\n",
    "# if you dont save your program as a .py , you cannot use it as module in future."
   ]
  },
  {
   "cell_type": "code",
   "execution_count": 1,
   "metadata": {
    "collapsed": false
   },
   "outputs": [
    {
     "name": "stdout",
     "output_type": "stream",
     "text": [
      "\n",
      "Welcome to Python 2.7!  This is the online help utility.\n",
      "\n",
      "If this is your first time using Python, you should definitely check out\n",
      "the tutorial on the Internet at http://docs.python.org/2.7/tutorial/.\n",
      "\n",
      "Enter the name of any module, keyword, or topic to get help on writing\n",
      "Python programs and using Python modules.  To quit this help utility and\n",
      "return to the interpreter, just type \"quit\".\n",
      "\n",
      "To get a list of available modules, keywords, or topics, type \"modules\",\n",
      "\"keywords\", or \"topics\".  Each module also comes with a one-line summary\n",
      "of what it does; to list the modules whose summaries contain a given word\n",
      "such as \"spam\", type \"modules spam\".\n",
      "\n",
      "help> modules\n",
      "\n",
      "Please wait a moment while I gather a list of all available modules...\n",
      "\n"
     ]
    },
    {
     "name": "stderr",
     "output_type": "stream",
     "text": [
      "/usr/local/lib/python2.7/dist-packages/IPython/kernel/__init__.py:13: ShimWarning: The `IPython.kernel` package has been deprecated. You should import from ipykernel or jupyter_client instead.\n",
      "  \"You should import from ipykernel or jupyter_client instead.\", ShimWarning)\n",
      "/usr/lib/python2.7/dist-packages/gobject/constants.py:24: Warning: g_boxed_type_register_static: assertion 'g_type_from_name (name) == 0' failed\n",
      "  import gobject._gobject\n",
      "No handlers could be found for logger \"oneconf.distributor\"\n",
      "/usr/lib/python2.7/dist-packages/gtk-2.0/gtk/__init__.py:127: RuntimeWarning: PyOS_InputHook is not available for interactive use of PyGTK\n",
      "  set_interactive(1)\n"
     ]
    },
    {
     "name": "stdout",
     "output_type": "stream",
     "text": [
      "ANSI                apt                 gtkunixprint        requests\n",
      "AptUrl              apt_inst            gzip                resource\n",
      "BaseHTTPServer      apt_pkg             hashlib             rexec\n",
      "Bastion             aptdaemon           heapq               rfc822\n",
      "BeautifulSoup       aptsources          hmac                rlcompleter\n",
      "BeautifulSoupTests  argparse            hotshot             rmagic\n",
      "CDROM               array               html5lib            robotparser\n",
      "CGIHTTPServer       ast                 htmlentitydefs      runpy\n",
      "Canvas              asynchat            htmllib             samba\n",
      "CommandNotFound     asyncore            httplib             sched\n",
      "ConfigParser        atexit              httplib2            screen\n",
      "Cookie              atk                 idlelib             select\n",
      "Crypto              audiodev            ihooks              serial\n",
      "DLFCN               audioop             imaplib             sessioninstaller\n",
      "Dialog              autoreload          imghdr              sets\n",
      "DocXMLRPCServer     axi                 imp                 setuptools\n",
      "Exscript            backports           importlib           sexy\n",
      "Exscriptd           backports_abc       imputil             sgmllib\n",
      "FSM                 base64              inspect             sha\n",
      "FileDialog          bdb                 io                  shelve\n",
      "FixTk               binascii            ipykernel           shlex\n",
      "HTMLParser          binhex              ipython_genutils    shutil\n",
      "IN                  bisect              ipywidgets          shutil_backports\n",
      "IPython             bonobo              itertools           signal\n",
      "Image               bpdb                jinja2              simplegeneric\n",
      "ImageChops          bpython             json                singledispatch\n",
      "ImageColor          bsddb               jsonschema          singledispatch_helpers\n",
      "ImageCrackCode      bz2                 jupyter             sip\n",
      "ImageDraw           cPickle             jupyter_client      sipconfig\n",
      "ImageEnhance        cProfile            jupyter_console     sipconfig_nd\n",
      "ImageFile           cStringIO           jupyter_core        site\n",
      "ImageFileIO         cairo               keyword             sitecustomize\n",
      "ImageFilter         calendar            ldb                 six\n",
      "ImageFont           caribou             lib2to3             smbc\n",
      "ImageGL             certifi             libxml2             smtpd\n",
      "ImageGrab           cgi                 libxml2mod          smtplib\n",
      "ImageMath           cgitb               linecache           sndhdr\n",
      "ImageOps            chardet             linuxaudiodev       socket\n",
      "ImagePalette        chunk               locale              spwd\n",
      "ImagePath           cmath               lockfile            spyderlib\n",
      "ImageQt             cmd                 logging             spyderplugins\n",
      "ImageSequence       code                lsb_release         sqlite3\n",
      "ImageStat           codecs              lxml                sre\n",
      "ImageTk             codeop              macpath             sre_compile\n",
      "ImageWin            collections         macurl2path         sre_constants\n",
      "MimeWriter          colorama            mailbox             sre_parse\n",
      "MySQLdb             colorsys            mailcap             ssl\n",
      "ORBit               commands            mako                stat\n",
      "OpenSSL             compileall          markupbase          statvfs\n",
      "PAM                 compiler            markupsafe          storemagic\n",
      "PIL                 configglue          marshal             string\n",
      "PSDraw              configobj           math                stringold\n",
      "PngImagePlugin      configparser        md5                 stringprep\n",
      "PyQt4               contextlib          mhlib               strop\n",
      "Queue               cookielib           mimetools           struct\n",
      "ScrolledText        copy                mimetypes           subprocess\n",
      "SimpleDialog        copy_reg            mimify              sunau\n",
      "SimpleHTTPServer    crypt               mistune             sunaudio\n",
      "SimpleXMLRPCServer  csv                 mmap                symbol\n",
      "SocketServer        ctypes              modulefinder        sympyprinting\n",
      "StringIO            cups                multifile           symtable\n",
      "TYPES               cupshelpers         multiprocessing     sys\n",
      "Tix                 curl                mutex               sysconfig\n",
      "TkExscript          curses              mysql               syslog\n",
      "Tkconstants         cv                  nbconvert           tabnanny\n",
      "Tkdnd               cv2                 nbformat            talloc\n",
      "Tkinter             cythonmagic         netrc               tarfile\n",
      "UbuntuSystemService datetime            new                 tdb\n",
      "UserDict            dbhash              nis                 telnetlib\n",
      "UserList            dbm                 nntplib             tempfile\n",
      "UserString          dbus                notebook            terminado\n",
      "_LWPCookieJar       deb822              ntdb                termios\n",
      "_MozillaCookieJar   debconf             ntpath              test\n",
      "__builtin__         debian              nturl2path          tests\n",
      "__future__          debian_bundle       numbers             textwrap\n",
      "_abcoll             debtagshw           numpy               this\n",
      "_ast                decimal             oauthlib            thread\n",
      "_bisect             decorator           oneconf             threading\n",
      "_bsddb              defer               opcode              tidy\n",
      "_codecs             difflib             operator            time\n",
      "_codecs_cn          dircache            optparse            timeit\n",
      "_codecs_hk          dirspec             os                  tkColorChooser\n",
      "_codecs_iso2022     dis                 os2emxpath          tkCommonDialog\n",
      "_codecs_jp          distlib             ossaudiodev         tkFileDialog\n",
      "_codecs_kr          distutils           pango               tkFont\n",
      "_codecs_tw          django              pangocairo          tkMessageBox\n",
      "_collections        dns                 paramiko            tkSimpleDialog\n",
      "_csv                doctest             parser              toaiff\n",
      "_ctypes             drv_libxml2         parted              token\n",
      "_ctypes_test        dsextras            pathlib2            tokenize\n",
      "_curses             dumbdbm             pdb                 tornado\n",
      "_curses_panel       dummy_thread        pexpect             trace\n",
      "_dbus_bindings      dummy_threading     pickle              traceback\n",
      "_dbus_glib_bindings duplicity           pickleshare         traitlets\n",
      "_elementtree        easy_install        pickletools         ttk\n",
      "_functools          email               pip                 tty\n",
      "_hashlib            encodings           pipes               turtle\n",
      "_heapq              entrypoints         piston_mini_client  twisted\n",
      "_hotshot            errno               pkg_resources       types\n",
      "_io                 exceptions          pkgutil             ubuntu_sso\n",
      "_json               fabfile             platform            unicodedata\n",
      "_locale             fabric              plistlib            unittest\n",
      "_lsprof             fcntl               popen2              urllib\n",
      "_markerlib          fdpexpect           poplib              urllib2\n",
      "_md5                feedparser          posix               urllib3\n",
      "_multibytecodec     filecmp             posixfile           urlparse\n",
      "_multiprocessing    fileinput           posixpath           user\n",
      "_mysql              fnmatch             pprint              uu\n",
      "_mysql_exceptions   formatter           profile             uuid\n",
      "_osx_support        fpectl              prompt_toolkit      validate\n",
      "_ped                fpformat            pstats              virtualenv\n",
      "_pyio               fractions           pty                 vte\n",
      "_random             ftplib              ptyprocess          warnings\n",
      "_sha                functools           pwd                 wave\n",
      "_sha256             functools32         pxssh               wcwidth\n",
      "_sha512             future_builtins     py_compile          weakref\n",
      "_smbc               gc                  pyatspi             webbrowser\n",
      "_socket             gconf               pyclbr              webkit\n",
      "_sqlite3            gdbm                pycurl              whichdb\n",
      "_sre                genericpath         pydoc               widgetsnbextension\n",
      "_ssl                getopt              pydoc_data          wsgiref\n",
      "_strptime           getpass             pyexpat             xapian\n",
      "_struct             gettext             pygments            xdg\n",
      "_symtable           gi                  pygtk               xdrlib\n",
      "_sysconfigdata      gio                 pygtkcompat         xml\n",
      "_sysconfigdata_nd   glib                pyinotify           xmllib\n",
      "_testcapi           glob                pynotify            xmlrpclib\n",
      "_threading_local    gnome               pyodbc              xxsubtype\n",
      "_tkinter            gnomecanvas         pysqlite2           zipfile\n",
      "_warnings           gnomekeyring        qtconsole           zipimport\n",
      "_weakref            gnomevfs            quopri              zlib\n",
      "_weakrefset         gobject             random              zmq\n",
      "abc                 google              re                  zope\n",
      "aifc                grp                 readline            \n",
      "antigravity         gtk                 reportlab           \n",
      "anydbm              gtksourceview2      repr                \n",
      "\n",
      "Enter any module name to get more help.  Or, type \"modules spam\" to search\n",
      "for modules whose descriptions contain the word \"spam\".\n",
      "\n",
      "help> quit\n",
      "\n",
      "You are now leaving help and returning to the Python interpreter.\n",
      "If you want to ask for help on a particular object directly from the\n",
      "interpreter, you can type \"help(object)\".  Executing \"help('string')\"\n",
      "has the same effect as typing a particular string at the help> prompt.\n"
     ]
    }
   ],
   "source": [
    "# modules\n",
    "help()"
   ]
  },
  {
   "cell_type": "code",
   "execution_count": 2,
   "metadata": {
    "collapsed": true
   },
   "outputs": [],
   "source": [
    "# math\n",
    "import math"
   ]
  },
  {
   "cell_type": "code",
   "execution_count": 3,
   "metadata": {
    "collapsed": false
   },
   "outputs": [
    {
     "name": "stdout",
     "output_type": "stream",
     "text": [
      "['__doc__', '__name__', '__package__', 'acos', 'acosh', 'asin', 'asinh', 'atan', 'atan2', 'atanh', 'ceil', 'copysign', 'cos', 'cosh', 'degrees', 'e', 'erf', 'erfc', 'exp', 'expm1', 'fabs', 'factorial', 'floor', 'fmod', 'frexp', 'fsum', 'gamma', 'hypot', 'isinf', 'isnan', 'ldexp', 'lgamma', 'log', 'log10', 'log1p', 'modf', 'pi', 'pow', 'radians', 'sin', 'sinh', 'sqrt', 'tan', 'tanh', 'trunc']\n"
     ]
    }
   ],
   "source": [
    "print dir(math)\n",
    "# or\n",
    "# math.<tab> in ipython"
   ]
  },
  {
   "cell_type": "code",
   "execution_count": 4,
   "metadata": {
    "collapsed": false
   },
   "outputs": [
    {
     "name": "stdout",
     "output_type": "stream",
     "text": [
      "3.14159265359\n"
     ]
    }
   ],
   "source": [
    "print math.pi"
   ]
  },
  {
   "cell_type": "code",
   "execution_count": 5,
   "metadata": {
    "collapsed": false
   },
   "outputs": [
    {
     "name": "stdout",
     "output_type": "stream",
     "text": [
      "Help on built-in function pow in module math:\n",
      "\n",
      "pow(...)\n",
      "    pow(x, y)\n",
      "    \n",
      "    Return x**y (x to the power of y).\n",
      "\n",
      "None\n"
     ]
    }
   ],
   "source": [
    "print help(math.pow)"
   ]
  },
  {
   "cell_type": "code",
   "execution_count": 6,
   "metadata": {
    "collapsed": false
   },
   "outputs": [
    {
     "name": "stdout",
     "output_type": "stream",
     "text": [
      "8.0\n"
     ]
    }
   ],
   "source": [
    "print math.pow(2,3)"
   ]
  },
  {
   "cell_type": "code",
   "execution_count": null,
   "metadata": {
    "collapsed": true
   },
   "outputs": [],
   "source": [
    "# type 2"
   ]
  },
  {
   "cell_type": "code",
   "execution_count": 7,
   "metadata": {
    "collapsed": true
   },
   "outputs": [],
   "source": [
    "import math as m"
   ]
  },
  {
   "cell_type": "code",
   "execution_count": 8,
   "metadata": {
    "collapsed": false
   },
   "outputs": [
    {
     "name": "stdout",
     "output_type": "stream",
     "text": [
      "3.14159265359\n",
      "8.0\n"
     ]
    }
   ],
   "source": [
    "print m.pi\n",
    "print m.pow(2,3)"
   ]
  },
  {
   "cell_type": "code",
   "execution_count": 9,
   "metadata": {
    "collapsed": true
   },
   "outputs": [],
   "source": [
    "# type 3"
   ]
  },
  {
   "cell_type": "code",
   "execution_count": 10,
   "metadata": {
    "collapsed": false
   },
   "outputs": [
    {
     "name": "stdout",
     "output_type": "stream",
     "text": [
      "3.14159265359\n",
      "8.0\n"
     ]
    }
   ],
   "source": [
    "# your are making pi and pow part of local namespace\n",
    "from math import pi,pow\n",
    "print pi\n",
    "print pow(2,3)"
   ]
  },
  {
   "cell_type": "code",
   "execution_count": 11,
   "metadata": {
    "collapsed": true
   },
   "outputs": [],
   "source": [
    "# type 4\n",
    "# DONT TRY THIS AT HOME AND OFFICE.\n",
    "# from math import *"
   ]
  },
  {
   "cell_type": "code",
   "execution_count": null,
   "metadata": {
    "collapsed": true
   },
   "outputs": [],
   "source": [
    "# location of first.py under modules folder"
   ]
  },
  {
   "cell_type": "raw",
   "metadata": {},
   "source": [
    "In [4]: pwd\n",
    "Out[4]: u'/home/tcloudost/Documents/git_repositories/python-batches/batch-58/modules'\n",
    "\n",
    "In [5]: ls\n",
    "first.py  Learning_Modules.ipynb\n",
    "\n",
    "In [6]: import first as f\n",
    "\n",
    "In [7]: print dir(f)\n",
    "['__builtins__', '__doc__', '__file__', '__name__', '__package__', 'my_add', 'my_div', 'my_multi', 'my_sub', 'version']\n",
    "\n",
    "In [8]: f.my_add?\n",
    "Signature: f.my_add(a, b)\n",
    "Docstring: This is for addition of number/strings \n",
    "File:      ~/Documents/git_repositories/python-batches/batch-58/modules/first.py\n",
    "Type:      function\n",
    "\n",
    "In [9]: f.my_sub?\n",
    "Signature: f.my_sub(a, b)\n",
    "Docstring: This is for substraction of number \n",
    "File:      ~/Documents/git_repositories/python-batches/batch-58/modules/first.py\n",
    "Type:      function\n",
    "\n",
    "In [10]: f.version\n",
    "Out[10]: 1.0\n",
    "\n",
    "In [11]: f.my_add(1,2)\n",
    "Out[11]: 3\n",
    "\n",
    "In [12]: f.my_add('linux','rocks')\n",
    "Out[12]: 'linuxrocks'\n",
    "\n",
    "# made a modification of version=2.0 in my first.py program.\n",
    "In [13]: f.version\n",
    "Out[13]: 1.0\n",
    "\n",
    "In [14]: import first as f\n",
    "\n",
    "In [15]: f.version\n",
    "Out[15]: 1.0\n",
    "\n",
    "In [16]: ls\n",
    "first.py  first.pyc  Learning_Modules.ipynb\n",
    "\n",
    "In [17]: reload(f)\n",
    "Out[17]: <module 'first' from 'first.py'>\n",
    "\n",
    "In [18]: f.version\n",
    "Out[18]: 2.0\n",
    "\n",
    "\n",
    "tcloudost@tcloudost-VirtualBox ~/Documents/git_repositories/python-batches/batch-58/modules $ file first.pyc\n",
    "first.pyc: python 2.7 byte-compiled\n",
    "tcloudost@tcloudost-VirtualBox ~/Documents/git_repositories/python-batches/batch-58/modules $ cat fist.pyc\n",
    "cat: fist.pyc: No such file or directory\n",
    "tcloudost@tcloudost-VirtualBox ~/Documents/git_repositories/python-batches/batch-58/modules $ cat first.pyc\n",
    "\n",
    "\n",
    "* .pyc file is platform independent and can be imported without a .py file.\n",
    "* .pyc can be regenerated provided we have .py file.\n",
    "* .py cannot be regenerated, so dont delete it."
   ]
  },
  {
   "cell_type": "raw",
   "metadata": {},
   "source": [
    "Modules :ls\n",
    "first.py  first.pyc  Learning_Modules.ipynb\n",
    "Modules :ipython\n",
    "Python 2.7.6 (default, Jun 22 2015, 17:58:13) \n",
    "Type \"copyright\", \"credits\" or \"license\" for more information.\n",
    "\n",
    "IPython 5.1.0 -- An enhanced Interactive Python.\n",
    "?         -> Introduction and overview of IPython's features.\n",
    "%quickref -> Quick reference.\n",
    "help      -> Python's own help system.\n",
    "object?   -> Details about 'object', use 'object??' for extra details.\n",
    "\n",
    "In [1]: import first as f\n",
    "Launching a Missile.\n",
    "\n",
    "In [2]: \n",
    "\n"
   ]
  },
  {
   "cell_type": "raw",
   "metadata": {},
   "source": [
    "In [2]: f.my_add\n",
    "Out[2]: <function first.my_add>\n",
    "\n",
    "In [3]: def g():\n",
    "   ...:     pass\n",
    "   ...: \n",
    "\n",
    "In [4]: g\n",
    "Out[4]: <function __main__.g>\n",
    "\n",
    "In [5]: globals\n",
    "Out[5]: <function globals>\n",
    "\n",
    "In [6]: globals()\n",
    "Out[6]: \n",
    "{'In': ['',\n",
    "  u'import first as f',\n",
    "  u'f.my_add',\n",
    "  u'def g():\\n    pass',\n",
    "  u'g',\n",
    "  u'globals',\n",
    "  u'globals()'],\n",
    " 'Out': {2: <function first.my_add>,\n",
    "  4: <function __main__.g>,\n",
    "  5: <function globals>},\n",
    " '_': <function globals>,\n",
    " '_2': <function first.my_add>,\n",
    " '_4': <function __main__.g>,\n",
    " '_5': <function globals>,\n",
    " '__': <function __main__.g>,\n",
    " '___': <function first.my_add>,\n",
    " '__builtin__': <module '__builtin__' (built-in)>,\n",
    " '__builtins__': <module '__builtin__' (built-in)>,\n",
    " '__doc__': 'Automatically created module for IPython interactive environment',\n",
    " '__name__': '__main__',\n",
    " '__package__': None,\n",
    " '_dh': [u'/home/tcloudost/Documents/git_repositories/python-batches/batch-58/modules'],\n",
    " '_i': u'globals',\n",
    " '_i1': u'import first as f',\n",
    " '_i2': u'f.my_add',\n",
    " '_i3': u'def g():\\n    pass',\n",
    " '_i4': u'g',\n",
    " '_i5': u'globals',\n",
    " '_i6': u'globals()',\n",
    " '_ih': ['',\n",
    "  u'import first as f',\n",
    "  u'f.my_add',\n",
    "  u'def g():\\n    pass',\n",
    "  u'g',\n",
    "  u'globals',\n",
    "  u'globals()'],\n",
    " '_ii': u'g',\n",
    " '_iii': u'def g():\\n    pass',\n",
    " '_oh': {2: <function first.my_add>,\n",
    "  4: <function __main__.g>,\n",
    "  5: <function globals>},\n",
    " '_sh': <module 'IPython.core.shadowns' from '/usr/local/lib/python2.7/dist-packages/IPython/core/shadowns.pyc'>,\n",
    " 'exit': <IPython.core.autocall.ExitAutocall at 0x7f7a7f928c50>,\n",
    " 'f': <module 'first' from 'first.py'>,\n",
    " 'g': <function __main__.g>,\n",
    " 'get_ipython': <bound method TerminalInteractiveShell.get_ipython of <IPython.terminal.interactiveshell.TerminalInteractiveShell object at 0x7f7a7f970950>>,\n",
    " 'quit': <IPython.core.autocall.ExitAutocall at 0x7f7a7f928c50>}\n",
    "\n"
   ]
  },
  {
   "cell_type": "raw",
   "metadata": {},
   "source": [
    "In [1]: import first as f\n",
    "\n",
    "In [2]: f.\n",
    "           f.my_add   f.my_sub   \n",
    "           f.my_div   f.version  \n",
    "           f.my_multi            \n",
    "\n",
    "Modules :\n",
    "Modules :python first.py\n",
    "Launching a Missile.\n",
    "Modules :\n",
    "\n"
   ]
  },
  {
   "cell_type": "raw",
   "metadata": {},
   "source": [
    "-- created a second.py file in same folder and it worked fine --- \n",
    "\n",
    "Modules :ls\n",
    "first.py  first.pyc  Learning_Modules.ipynb  second.py\n",
    "Modules :\n",
    "Modules :python second.py\n",
    "addition of two numbers is 5\n",
    "addition of two strings is linuxrocks\n",
    "Modules :\n",
    "Modules :ls -l\n",
    "total 40\n",
    "drwxr-xr-x 2 tcloudost tcloudost  4096 Feb 24 08:45 extra\n",
    "-rw-r--r-- 1 tcloudost tcloudost   408 Feb 24 08:39 first.py\n",
    "-rw-r--r-- 1 tcloudost tcloudost  1216 Feb 24 08:43 first.pyc\n",
    "-rw-r--r-- 1 tcloudost tcloudost 24107 Feb 24 08:39 Learning_Modules.ipynb\n",
    "-rw-r--r-- 1 tcloudost tcloudost   300 Feb 24 08:44 second.py\n",
    "\n",
    "\n",
    "--- created a new folder - extra and moved first.py to extra folder ---\n",
    "\n",
    "Modules :ls -l\n",
    "total 40\n",
    "drwxr-xr-x 2 tcloudost tcloudost  4096 Feb 24 08:45 extra\n",
    "-rw-r--r-- 1 tcloudost tcloudost   408 Feb 24 08:39 first.py\n",
    "-rw-r--r-- 1 tcloudost tcloudost  1216 Feb 24 08:43 first.pyc\n",
    "-rw-r--r-- 1 tcloudost tcloudost 24107 Feb 24 08:39 Learning_Modules.ipynb\n",
    "-rw-r--r-- 1 tcloudost tcloudost   300 Feb 24 08:44 second.py\n",
    "Modules :mv first.py extra/\n",
    "Modules :\n",
    "Modules :ls\n",
    "extra  first.pyc  Learning_Modules.ipynb  second.py\n",
    "Modules :\n",
    "Modules :python second.py\n",
    "addition of two numbers is 5\n",
    "addition of two strings is linuxrocks\n",
    "Modules :\n",
    "Modules :ls\n",
    "extra  first.pyc  Learning_Modules.ipynb  second.py\n",
    "Modules :\n",
    "Modules :rm -f first.pyc \n",
    "Modules :\n",
    "Modules :python second.py\n",
    "Traceback (most recent call last):\n",
    "  File \"second.py\", line 3, in <module>\n",
    "    import first as f \n",
    "ImportError: No module named first\n",
    "\n"
   ]
  },
  {
   "cell_type": "raw",
   "metadata": {},
   "source": [
    "# os specific\n",
    "# yum install django or apt-get install django\n",
    "\n",
    "\n",
    "# installation of a module\n",
    "# pip install <module>\n",
    "# ex: pip install django (latest version)\n",
    "# ex: pip install django==1.8 \n",
    "\n",
    "# easy_install\n",
    "# easy_install <modulename>\n",
    "\n",
    "# setuptools\n"
   ]
  },
  {
   "cell_type": "raw",
   "metadata": {
    "collapsed": true
   },
   "source": [
    "# virtualenv\n",
    "\n",
    "Installation of virtual env: https://virtualenv.pypa.io/en/stable/installation/\n",
    "\n",
    "tcloudost@tcloudost-VirtualBox ~/Documents/git_repositories/python-batches/batch-58 $ python\n",
    "Python 2.7.6 (default, Jun 22 2015, 17:58:13) \n",
    "[GCC 4.8.2] on linux2\n",
    "Type \"help\", \"copyright\", \"credits\" or \"license\" for more information.\n",
    ">>> import excel\n",
    "Traceback (most recent call last):\n",
    "  File \"<stdin>\", line 1, in <module>\n",
    "ImportError: No module named excel\n",
    ">>> \n",
    "\n",
    "\n",
    "Modules : pwd\n",
    "/home/tcloudost/Documents/git_repositories/python-batches/batch-58/modules\n",
    "Modules : virtualenv sheets\n",
    "New python executable in sheets/bin/python\n",
    "Installing setuptools, pip...done.\n",
    "Modules : \n",
    "Modules : ls\n",
    "extra  Learning_Modules.ipynb  second.py  sheets\n",
    "Modules : \n",
    "Modules : source sheets/bin/activate\n",
    "(sheets)Modules : ls sheets\n",
    "bin  include  lib  local\n",
    "(sheets)Modules : \n",
    "(sheets)Modules : pip freeze\n",
    "argparse==1.2.1\n",
    "wsgiref==0.1.2\n",
    "(sheets)Modules : #http_port\n",
    "(sheets)Modules : #https_port\n",
    "(sheets)Modules : \n",
    "(sheets)Modules : pip install excel\n",
    "Downloading/unpacking excel\n",
    "  Downloading excel-1.0.0.tar.gz\n",
    "  Running setup.py (path:/home/tcloudost/Documents/git_repositories/python-batches/batch-58/modules/sheets/build/excel/setup.py) egg_info for package excel\n",
    "    \n",
    "Downloading/unpacking xlrd (from excel)\n",
    "  Downloading xlrd-1.0.0.tar.gz (2.6MB): 2.6MB downloaded\n",
    "  Running setup.py (path:/home/tcloudost/Documents/git_repositories/python-batches/batch-58/modules/sheets/build/xlrd/setup.py) egg_info for package xlrd\n",
    "    \n",
    "    warning: no files found matching 'README.html'\n",
    "Installing collected packages: excel, xlrd\n",
    "  Running setup.py install for excel\n",
    "    \n",
    "  Running setup.py install for xlrd\n",
    "    changing mode of build/scripts-2.7/runxlrd.py from 644 to 755\n",
    "    \n",
    "    warning: no files found matching 'README.html'\n",
    "    changing mode of /home/tcloudost/Documents/git_repositories/python-batches/batch-58/modules/sheets/bin/runxlrd.py to 755\n",
    "Successfully installed excel xlrd\n",
    "Cleaning up...\n",
    "(sheets)Modules : pip freeze\n",
    "argparse==1.2.1\n",
    "excel==1.0.0\n",
    "wsgiref==0.1.2\n",
    "xlrd==1.0.0\n",
    "(sheets)Modules : python\n",
    "Python 2.7.6 (default, Jun 22 2015, 17:58:13) \n",
    "[GCC 4.8.2] on linux2\n",
    "Type \"help\", \"copyright\", \"credits\" or \"license\" for more information.\n",
    ">>> import excel\n",
    ">>> quit()\n",
    "(sheets)Modules : deactivate \n",
    "Modules : \n",
    "Modules : ls\n",
    "extra  Learning_Modules.ipynb  second.py  sheets\n",
    "Modules : \n",
    "\n",
    "\n",
    "# pydoc\n",
    "\n",
    "Modules : pydoc first\n",
    "Modules : pydoc math"
   ]
  },
  {
   "cell_type": "raw",
   "metadata": {},
   "source": [
    "# package\n",
    "# https://docs.python.org/2/tutorial/modules.html#packages\n",
    "# https://docs.python.org/2/installing/index.html\n",
    "# https://docs.python.org/2/distributing/index.html\n",
    "# https://docs.python.org/2/distutils/\n",
    "\n",
    "# how to create a package.\n",
    "\n",
    "* first create a OS folder and within in create lin,sol,aix,hpux\n",
    "\n",
    "# mkdir OS\n",
    "# mkdir OS/{lin,sol,aix,hpux}\n",
    "\n",
    "# later create first.py,second.py,third.py and fourth.py inside it.\n",
    "# please see these files from your git location.\n",
    "# from OS folder when you try to import lin you fail.\n",
    "\n",
    "Modules : ipython\n",
    "Python 2.7.6 (default, Jun 22 2015, 17:58:13) \n",
    "Type \"copyright\", \"credits\" or \"license\" for more information.\n",
    "\n",
    "IPython 5.1.0 -- An enhanced Interactive Python.\n",
    "?         -> Introduction and overview of IPython's features.\n",
    "%quickref -> Quick reference.\n",
    "help      -> Python's own help system.\n",
    "object?   -> Details about 'object', use 'object??' for extra details.\n",
    "\n",
    "In [1]: import lin\n",
    "---------------------------------------------------------------------------\n",
    "ImportError                               Traceback (most recent call last)\n",
    "<ipython-input-1-e3ffd921b4a6> in <module>()\n",
    "----> 1 import lin\n",
    "\n",
    "ImportError: No module named lin\n",
    "\n",
    "\n",
    "# also create a __init__.py under your lin folder to import the files under the lin folder.\n",
    "\n",
    "# cat __init__.py\n",
    "import first\n",
    "import second\n",
    "import third\n",
    "import fourth\n",
    "\n",
    "In [2]: import lin\n",
    "\n",
    "In [3]: lin.first.my_first_lin1()\n",
    "Out[3]: 'this is my first lin1 function'\n",
    "\n",
    "In [4]: lin.second.my_first_lin2()\n",
    "Out[4]: 'this is my first lin2 function'\n",
    "\n",
    "# Later copy the content of lin to sol.\n",
    "# cp sol/*.py lin/*.py\n",
    "# Make sure your __init__.py looks a this.\n",
    "Modules Tree: cat OS/sol/__init__.py\n",
    "import first\n",
    "import second\n",
    "import third\n",
    "\n",
    "# when you import the sol you will see only first,second and third getting imported.\n",
    "Modules : python\n",
    "Python 2.7.6 (default, Jun 22 2015, 17:58:13) \n",
    "[GCC 4.8.2] on linux2\n",
    "Type \"help\", \"copyright\", \"credits\" or \"license\" for more information.\n",
    ">>> import sol\n",
    ">>> print dir(sol)\n",
    "['__builtins__', '__doc__', '__file__', '__name__', '__package__', '__path__', 'first', 'second', 'third']\n",
    ">>> \n",
    "\n",
    "# the best part is we can explicitly import the fourth module too.\n",
    "\n",
    "In [1]: import sol\n",
    "\n",
    "In [2]: from sol import fourth\n",
    "\n",
    "In [3]: sol.    \n",
    "             sol.first  sol.second \n",
    "             sol.fourth sol.third  \n",
    "\n",
    "\n",
    "\n",
    "example:\n",
    "--------\n",
    "\n",
    "tcloudost@tcloudost-VirtualBox /usr/lib/python2.7/xml $ ls\n",
    "dom  etree  __init__.py  __init__.pyc  parsers  sax\n",
    "tcloudost@tcloudost-VirtualBox /usr/lib/python2.7/xml $ ls dom\n",
    "domreg.py        expatbuilder.pyc  minicompat.py   minidom.pyc     pulldom.py     xmlbuilder.pyc\n",
    "domreg.pyc       __init__.py       minicompat.pyc  NodeFilter.py   pulldom.pyc\n",
    "expatbuilder.py  __init__.pyc      minidom.py      NodeFilter.pyc  xmlbuilder.py\n",
    "tcloudost@tcloudost-VirtualBox /usr/lib/python2.7/xml $ ls etree\n",
    "cElementTree.py   ElementInclude.py   ElementPath.py   ElementTree.py   __init__.py\n",
    "cElementTree.pyc  ElementInclude.pyc  ElementPath.pyc  ElementTree.pyc  __init__.pyc\n",
    "tcloudost@tcloudost-VirtualBox /usr/lib/python2.7/xml $ ls parsers\n",
    "expat.py  expat.pyc  __init__.py  __init__.pyc\n",
    "tcloudost@tcloudost-VirtualBox /usr/lib/python2.7/xml $ ls sax\n",
    "_exceptions.py   expatreader.py   handler.py   __init__.py   saxutils.py   xmlreader.py\n",
    "_exceptions.pyc  expatreader.pyc  handler.pyc  __init__.pyc  saxutils.pyc  xmlreader.pyc\n",
    "tcloudost@tcloudost-VirtualBox /usr/lib/python2.7/xml $ \n",
    "tcloudost@tcloudost-VirtualBox /usr/lib/python2.7/xml $ pwd\n",
    "/usr/lib/python2.7/xml\n",
    "tcloudost@tcloudost-VirtualBox /usr/lib/python2.7/xml $ \n"
   ]
  },
  {
   "cell_type": "code",
   "execution_count": null,
   "metadata": {
    "collapsed": true
   },
   "outputs": [],
   "source": [
    "# exercises\n",
    "https://github.com/zhiwehu/Python-programming-exercises/blob/master/100%2B%20Python%20challenging%20programming%20exercises.txt"
   ]
  }
 ],
 "metadata": {
  "kernelspec": {
   "display_name": "Python 2",
   "language": "python",
   "name": "python2"
  },
  "language_info": {
   "codemirror_mode": {
    "name": "ipython",
    "version": 2
   },
   "file_extension": ".py",
   "mimetype": "text/x-python",
   "name": "python",
   "nbconvert_exporter": "python",
   "pygments_lexer": "ipython2",
   "version": "2.7.6"
  }
 },
 "nbformat": 4,
 "nbformat_minor": 1
}
