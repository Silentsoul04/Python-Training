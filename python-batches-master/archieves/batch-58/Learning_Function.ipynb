{
 "cells": [
  {
   "cell_type": "code",
   "execution_count": null,
   "metadata": {
    "collapsed": true
   },
   "outputs": [],
   "source": [
    "# Function\n",
    "# Its a block of code."
   ]
  },
  {
   "cell_type": "code",
   "execution_count": 6,
   "metadata": {
    "collapsed": true
   },
   "outputs": [],
   "source": [
    "# function\n",
    "def my_fun():\n",
    "    print \"hello world\"\n",
    "    \n",
    "def my_func():\n",
    "    return \"hello world\"\n",
    "    print \"how are you\"\n",
    "    print \"what are you doing\""
   ]
  },
  {
   "cell_type": "code",
   "execution_count": 3,
   "metadata": {
    "collapsed": false
   },
   "outputs": [
    {
     "name": "stdout",
     "output_type": "stream",
     "text": [
      "hello world\n",
      "None\n"
     ]
    }
   ],
   "source": [
    "# Every function has a return value.\n",
    "# if your function has no return value it gives None.\n",
    "print my_fun()"
   ]
  },
  {
   "cell_type": "code",
   "execution_count": 7,
   "metadata": {
    "collapsed": false
   },
   "outputs": [
    {
     "name": "stdout",
     "output_type": "stream",
     "text": [
      "hello world\n"
     ]
    }
   ],
   "source": [
    "# If you have a return value in a function, that is the last statement to be executed in function.\n",
    "# return is not a print statement.\n",
    "# it marks end of the function.\n",
    "print my_func()"
   ]
  },
  {
   "cell_type": "code",
   "execution_count": 10,
   "metadata": {
    "collapsed": false
   },
   "outputs": [
    {
     "name": "stdout",
     "output_type": "stream",
     "text": [
      "<type 'function'>\n",
      "<function my_func at 0x7fa78c28ae60>\n"
     ]
    },
    {
     "data": {
      "text/plain": [
       "<function __main__.my_func>"
      ]
     },
     "execution_count": 10,
     "metadata": {},
     "output_type": "execute_result"
    }
   ],
   "source": [
    "print type(my_func)\n",
    "print my_func\n",
    "my_func"
   ]
  },
  {
   "cell_type": "code",
   "execution_count": 12,
   "metadata": {
    "collapsed": false
   },
   "outputs": [
    {
     "name": "stdout",
     "output_type": "stream",
     "text": [
      "{'a': 1}\n",
      "1\n"
     ]
    },
    {
     "ename": "NameError",
     "evalue": "name 'a' is not defined",
     "output_type": "error",
     "traceback": [
      "\u001b[0;31m---------------------------------------------------------------------------\u001b[0m",
      "\u001b[0;31mNameError\u001b[0m                                 Traceback (most recent call last)",
      "\u001b[0;32m<ipython-input-12-a3823ea901f1>\u001b[0m in \u001b[0;36m<module>\u001b[0;34m()\u001b[0m\n\u001b[1;32m     11\u001b[0m \u001b[0;34m\u001b[0m\u001b[0m\n\u001b[1;32m     12\u001b[0m \u001b[0;32mprint\u001b[0m \u001b[0mmy_new\u001b[0m\u001b[0;34m(\u001b[0m\u001b[0;34m)\u001b[0m \u001b[0;31m# 1\u001b[0m\u001b[0;34m\u001b[0m\u001b[0m\n\u001b[0;32m---> 13\u001b[0;31m \u001b[0;32mprint\u001b[0m \u001b[0ma\u001b[0m  \u001b[0;31m# 1,error\u001b[0m\u001b[0;34m\u001b[0m\u001b[0m\n\u001b[0m",
      "\u001b[0;31mNameError\u001b[0m: name 'a' is not defined"
     ]
    }
   ],
   "source": [
    "# scope\n",
    "# local scope/namespace and global scope/namespace.\n",
    "# values defined inside a function are restricted to the function.\n",
    "# life space of a variable is during the runtime of the function.\n",
    "# locals() : is a inbuild function to see only local namespaces\n",
    "# \n",
    "\n",
    "def my_new():\n",
    "    a = 1\n",
    "    print locals()\n",
    "    return a\n",
    "\n",
    "print my_new() # 1\n",
    "print a  # 1,error"
   ]
  },
  {
   "cell_type": "code",
   "execution_count": 14,
   "metadata": {
    "collapsed": false
   },
   "outputs": [
    {
     "name": "stdout",
     "output_type": "stream",
     "text": [
      "{'_dh': [u'/home/tcloudost/Documents/git_repositories/python-batches/batch-58'], '__': '', 'my_new': <function my_new at 0x7fa7928a8140>, '_i': u'x = 10\\ndef my_new1():\\n    print locals()\\n    return x\\n\\nprint my_new1()\\nprint x', 'quit': <IPython.core.autocall.ZMQExitAutocall object at 0x7fa78c3e1290>, '__builtins__': <module '__builtin__' (built-in)>, '_ih': ['', u'# function\\ndef my_fun():\\n    print \"hello world\"', u'my_fun2()', u'print my_fun()', u'# function\\ndef my_fun():\\n    print \"hello world\"\\n    \\ndef my_func():\\n    return \"hello world\"', u'print my_func()', u'# function\\ndef my_fun():\\n    print \"hello world\"\\n    \\ndef my_func():\\n    return \"hello world\"\\n    print \"how are you\"\\n    print \"what are you doing\"', u'# If you have a return value in a function, that is the last statement to be executed in function.\\n# return is not a print statement.\\n# it marks end of the function.\\nprint my_func()', u'print type(my_func)', u'print type(my_func)\\nprint my_func', u'print type(my_func)\\nprint my_func\\nmy_func', u'# scope\\n# localscope and global scope.\\n\\ndef my_new():\\n    a = 1\\n    return a\\n\\nprint my_new() # 1\\nprint a  # 1,error', u'# scope\\n# local scope/namespace and global scope/namespace.\\n# values defined inside a function are restricted to the function.\\n# life space of a variable is during the runtime of the function.\\n# locals\\n\\ndef my_new():\\n    a = 1\\n    print locals()\\n    return a\\n\\nprint my_new() # 1\\nprint a  # 1,error', u'x = 10\\ndef my_new1():\\n    print locals()\\n    return x\\n\\nprint my_new1()\\nprint x', u'x = 10 # global variable\\nprint globals()\\n\\n\\ndef my_new1():\\n    print locals()\\n    return x\\n\\nprint my_new1()\\nprint x'], '__builtin__': <module '__builtin__' (built-in)>, '_10': <function my_func at 0x7fa78c28ae60>, 'my_new1': <function my_new1 at 0x7fa78c28acf8>, '__name__': '__main__', '___': '', '_': <function my_func at 0x7fa78c28ae60>, '_sh': <module 'IPython.core.shadowns' from '/usr/local/lib/python2.7/dist-packages/IPython/core/shadowns.pyc'>, 'my_fun': <function my_fun at 0x7fa78c2f2f50>, '_i11': u'# scope\\n# localscope and global scope.\\n\\ndef my_new():\\n    a = 1\\n    return a\\n\\nprint my_new() # 1\\nprint a  # 1,error', '_i9': u'print type(my_func)\\nprint my_func', '_i8': u'print type(my_func)', '_i7': u'# If you have a return value in a function, that is the last statement to be executed in function.\\n# return is not a print statement.\\n# it marks end of the function.\\nprint my_func()', '_i6': u'# function\\ndef my_fun():\\n    print \"hello world\"\\n    \\ndef my_func():\\n    return \"hello world\"\\n    print \"how are you\"\\n    print \"what are you doing\"', '_i5': u'print my_func()', '_i4': u'# function\\ndef my_fun():\\n    print \"hello world\"\\n    \\ndef my_func():\\n    return \"hello world\"', '_i3': u'print my_fun()', '_i2': u'my_fun2()', '_i1': u'# function\\ndef my_fun():\\n    print \"hello world\"', '__doc__': 'Automatically created module for IPython interactive environment', '_i13': u'x = 10\\ndef my_new1():\\n    print locals()\\n    return x\\n\\nprint my_new1()\\nprint x', 'my_func': <function my_func at 0x7fa78c28ae60>, '_iii': u'# scope\\n# localscope and global scope.\\n\\ndef my_new():\\n    a = 1\\n    return a\\n\\nprint my_new() # 1\\nprint a  # 1,error', '_i10': u'print type(my_func)\\nprint my_func\\nmy_func', 'exit': <IPython.core.autocall.ZMQExitAutocall object at 0x7fa78c3e1290>, 'get_ipython': <bound method ZMQInteractiveShell.get_ipython of <ipykernel.zmqshell.ZMQInteractiveShell object at 0x7fa795044950>>, '_ii': u'# scope\\n# local scope/namespace and global scope/namespace.\\n# values defined inside a function are restricted to the function.\\n# life space of a variable is during the runtime of the function.\\n# locals\\n\\ndef my_new():\\n    a = 1\\n    print locals()\\n    return a\\n\\nprint my_new() # 1\\nprint a  # 1,error', 'In': ['', u'# function\\ndef my_fun():\\n    print \"hello world\"', u'my_fun2()', u'print my_fun()', u'# function\\ndef my_fun():\\n    print \"hello world\"\\n    \\ndef my_func():\\n    return \"hello world\"', u'print my_func()', u'# function\\ndef my_fun():\\n    print \"hello world\"\\n    \\ndef my_func():\\n    return \"hello world\"\\n    print \"how are you\"\\n    print \"what are you doing\"', u'# If you have a return value in a function, that is the last statement to be executed in function.\\n# return is not a print statement.\\n# it marks end of the function.\\nprint my_func()', u'print type(my_func)', u'print type(my_func)\\nprint my_func', u'print type(my_func)\\nprint my_func\\nmy_func', u'# scope\\n# localscope and global scope.\\n\\ndef my_new():\\n    a = 1\\n    return a\\n\\nprint my_new() # 1\\nprint a  # 1,error', u'# scope\\n# local scope/namespace and global scope/namespace.\\n# values defined inside a function are restricted to the function.\\n# life space of a variable is during the runtime of the function.\\n# locals\\n\\ndef my_new():\\n    a = 1\\n    print locals()\\n    return a\\n\\nprint my_new() # 1\\nprint a  # 1,error', u'x = 10\\ndef my_new1():\\n    print locals()\\n    return x\\n\\nprint my_new1()\\nprint x', u'x = 10 # global variable\\nprint globals()\\n\\n\\ndef my_new1():\\n    print locals()\\n    return x\\n\\nprint my_new1()\\nprint x'], '_i12': u'# scope\\n# local scope/namespace and global scope/namespace.\\n# values defined inside a function are restricted to the function.\\n# life space of a variable is during the runtime of the function.\\n# locals\\n\\ndef my_new():\\n    a = 1\\n    print locals()\\n    return a\\n\\nprint my_new() # 1\\nprint a  # 1,error', 'x': 10, '_i14': u'x = 10 # global variable\\nprint globals()\\n\\n\\ndef my_new1():\\n    print locals()\\n    return x\\n\\nprint my_new1()\\nprint x', '_oh': {10: <function my_func at 0x7fa78c28ae60>}, 'Out': {10: <function my_func at 0x7fa78c28ae60>}}\n",
      "{}\n",
      "10\n",
      "10\n"
     ]
    }
   ],
   "source": [
    "# globals() : its a inbuild function which shows you all the variables, which are availabel to us.\n",
    "\n",
    "x = 10 # global variable\n",
    "print globals()\n",
    "\n",
    "\n",
    "def my_new1():\n",
    "    print locals()\n",
    "    return x\n",
    "\n",
    "print my_new1() # 10\n",
    "# we got a value 10 for the function call as x is avaible globally.\n",
    "# the first priority is given to local scope and then global scope.\n",
    "print x"
   ]
  },
  {
   "cell_type": "code",
   "execution_count": 15,
   "metadata": {
    "collapsed": false
   },
   "outputs": [
    {
     "name": "stdout",
     "output_type": "stream",
     "text": [
      "{'x': 2}\n",
      "2\n",
      "10\n"
     ]
    }
   ],
   "source": [
    "x = 10\n",
    "\n",
    "def my_new1():\n",
    "    x = 2\n",
    "    print locals()\n",
    "    return x\n",
    "\n",
    "print my_new1() # 2\n",
    "print x # 10"
   ]
  },
  {
   "cell_type": "code",
   "execution_count": 41,
   "metadata": {
    "collapsed": true
   },
   "outputs": [],
   "source": [
    "# global\n",
    "\n",
    "balance=0\n",
    "\n",
    "def my_deposit():\n",
    "    global balance\n",
    "    balance = balance + 1000\n",
    "    return balance\n",
    "\n",
    "def my_withdraw():\n",
    "    global balance\n",
    "    balance = balance - 300\n",
    "    return balance\n"
   ]
  },
  {
   "cell_type": "code",
   "execution_count": 42,
   "metadata": {
    "collapsed": false
   },
   "outputs": [
    {
     "name": "stdout",
     "output_type": "stream",
     "text": [
      "1000\n"
     ]
    }
   ],
   "source": [
    "# calling dad\n",
    "print my_deposit()"
   ]
  },
  {
   "cell_type": "code",
   "execution_count": 43,
   "metadata": {
    "collapsed": false
   },
   "outputs": [
    {
     "name": "stdout",
     "output_type": "stream",
     "text": [
      "700\n"
     ]
    }
   ],
   "source": [
    "print my_withdraw()"
   ]
  },
  {
   "cell_type": "code",
   "execution_count": 44,
   "metadata": {
    "collapsed": false
   },
   "outputs": [
    {
     "name": "stdout",
     "output_type": "stream",
     "text": [
      "{'a': 2, 'b': 3}\n",
      "5\n"
     ]
    }
   ],
   "source": [
    "# Passing arguments\n",
    "# in python arguments are passed as objects. not as references or values.\n",
    "# passing functional arguments - positions\n",
    "def my_func(a,b):\n",
    "    print locals()\n",
    "    return a + b\n",
    "\n",
    "print my_func(2,3)"
   ]
  },
  {
   "cell_type": "code",
   "execution_count": 36,
   "metadata": {
    "collapsed": false
   },
   "outputs": [
    {
     "name": "stdout",
     "output_type": "stream",
     "text": [
      "{'c': 3, 'd': 5}\n",
      "8\n",
      "{'c': 3, 'd': 2}\n",
      "5\n"
     ]
    }
   ],
   "source": [
    "# keys based - functional arguments\n",
    "# \n",
    "def my_func(c,d):\n",
    "    print locals()\n",
    "    return c + d\n",
    "\n",
    "print my_func(3,5)\n",
    "print my_func(d=2,c=3)"
   ]
  },
  {
   "cell_type": "code",
   "execution_count": 5,
   "metadata": {
    "collapsed": false
   },
   "outputs": [
    {
     "name": "stdout",
     "output_type": "stream",
     "text": [
      "2 * 1 = 2\n",
      "2 * 2 = 4\n",
      "2 * 3 = 6\n",
      "2 * 4 = 8\n",
      "2 * 5 = 10\n",
      "2 * 6 = 12\n",
      "2 * 7 = 14\n",
      "2 * 8 = 16\n",
      "2 * 9 = 18\n",
      "2 * 10 = 20\n",
      "5 * 1 = 5\n",
      "5 * 2 = 10\n",
      "5 * 3 = 15\n",
      "5 * 4 = 20\n",
      "5 * 5 = 25\n",
      "2 * 1 = 2\n",
      "2 * 2 = 4\n",
      "2 * 3 = 6\n"
     ]
    }
   ],
   "source": [
    "# default: its not a key word.\n",
    "# i am working on default argument\n",
    "\n",
    "def my_multi(num,default=10):\n",
    "    for value in range(1,default+1):\n",
    "        print \"{} * {} = {}\".format(num,value,num*value)\n",
    "\n",
    "my_multi(2)\n",
    "my_multi(5,default=5)\n",
    "my_multi(2,3)"
   ]
  },
  {
   "cell_type": "code",
   "execution_count": null,
   "metadata": {
    "collapsed": true
   },
   "outputs": [],
   "source": [
    "# http://cache.filehippo.com/img/ex/1125__putty1.png\n",
    "def putty(hostname,port=22)\n",
    "    pass\n",
    "\n",
    "# putty(www.google.com)\n",
    "# putty(www.google.com,port=23)"
   ]
  },
  {
   "cell_type": "code",
   "execution_count": null,
   "metadata": {
    "collapsed": true
   },
   "outputs": [],
   "source": [
    "# *,**,*args,**kwargs"
   ]
  },
  {
   "cell_type": "code",
   "execution_count": 10,
   "metadata": {
    "collapsed": false
   },
   "outputs": [
    {
     "ename": "TypeError",
     "evalue": "my_func() takes exactly 2 arguments (1 given)",
     "output_type": "error",
     "traceback": [
      "\u001b[0;31m---------------------------------------------------------------------------\u001b[0m",
      "\u001b[0;31mTypeError\u001b[0m                                 Traceback (most recent call last)",
      "\u001b[0;32m<ipython-input-10-95963bc77acf>\u001b[0m in \u001b[0;36m<module>\u001b[0;34m()\u001b[0m\n\u001b[1;32m     10\u001b[0m \u001b[0;31m# b = my_list[1]\u001b[0m\u001b[0;34m\u001b[0m\u001b[0;34m\u001b[0m\u001b[0m\n\u001b[1;32m     11\u001b[0m \u001b[0;31m# print my_func(a,b)\u001b[0m\u001b[0;34m\u001b[0m\u001b[0;34m\u001b[0m\u001b[0m\n\u001b[0;32m---> 12\u001b[0;31m \u001b[0;32mprint\u001b[0m \u001b[0mmy_func\u001b[0m\u001b[0;34m(\u001b[0m\u001b[0mmy_list\u001b[0m\u001b[0;34m)\u001b[0m\u001b[0;34m\u001b[0m\u001b[0m\n\u001b[0m",
      "\u001b[0;31mTypeError\u001b[0m: my_func() takes exactly 2 arguments (1 given)"
     ]
    }
   ],
   "source": [
    "# *\n",
    "my_list = [22,33]\n",
    "my_list1 = [22,33,44]\n",
    "\n",
    "def my_func(a,b):\n",
    "    print locals()\n",
    "    return a + b\n",
    "\n",
    "# a = my_list[0]\n",
    "# b = my_list[1]\n",
    "# print my_func(a,b)\n",
    "print my_func(my_list)\n"
   ]
  },
  {
   "cell_type": "code",
   "execution_count": 8,
   "metadata": {
    "collapsed": false
   },
   "outputs": [
    {
     "name": "stdout",
     "output_type": "stream",
     "text": [
      "{'a': 22, 'b': 33}\n",
      "55\n"
     ]
    }
   ],
   "source": [
    "print my_func(*my_list)"
   ]
  },
  {
   "cell_type": "code",
   "execution_count": 11,
   "metadata": {
    "collapsed": false
   },
   "outputs": [
    {
     "ename": "TypeError",
     "evalue": "my_func() takes exactly 2 arguments (3 given)",
     "output_type": "error",
     "traceback": [
      "\u001b[0;31m---------------------------------------------------------------------------\u001b[0m",
      "\u001b[0;31mTypeError\u001b[0m                                 Traceback (most recent call last)",
      "\u001b[0;32m<ipython-input-11-57ace6a63d1a>\u001b[0m in \u001b[0;36m<module>\u001b[0;34m()\u001b[0m\n\u001b[0;32m----> 1\u001b[0;31m \u001b[0;32mprint\u001b[0m \u001b[0mmy_func\u001b[0m\u001b[0;34m(\u001b[0m\u001b[0;34m*\u001b[0m\u001b[0mmy_list1\u001b[0m\u001b[0;34m)\u001b[0m\u001b[0;34m\u001b[0m\u001b[0m\n\u001b[0m",
      "\u001b[0;31mTypeError\u001b[0m: my_func() takes exactly 2 arguments (3 given)"
     ]
    }
   ],
   "source": [
    "print my_func(*my_list1)"
   ]
  },
  {
   "cell_type": "code",
   "execution_count": 13,
   "metadata": {
    "collapsed": false
   },
   "outputs": [
    {
     "name": "stdout",
     "output_type": "stream",
     "text": [
      "{'a': 11, 'b': 12}\n",
      "23\n"
     ]
    },
    {
     "ename": "TypeError",
     "evalue": "my_func() got an unexpected keyword argument 'c'",
     "output_type": "error",
     "traceback": [
      "\u001b[0;31m---------------------------------------------------------------------------\u001b[0m",
      "\u001b[0;31mTypeError\u001b[0m                                 Traceback (most recent call last)",
      "\u001b[0;32m<ipython-input-13-599b542f421e>\u001b[0m in \u001b[0;36m<module>\u001b[0;34m()\u001b[0m\n\u001b[1;32m      3\u001b[0m \u001b[0mmy_dict1\u001b[0m \u001b[0;34m=\u001b[0m \u001b[0;34m{\u001b[0m\u001b[0;34m'a'\u001b[0m\u001b[0;34m:\u001b[0m\u001b[0;36m12\u001b[0m\u001b[0;34m,\u001b[0m\u001b[0;34m'c'\u001b[0m\u001b[0;34m:\u001b[0m\u001b[0;36m33\u001b[0m\u001b[0;34m}\u001b[0m\u001b[0;34m\u001b[0m\u001b[0m\n\u001b[1;32m      4\u001b[0m \u001b[0;32mprint\u001b[0m \u001b[0mmy_func\u001b[0m\u001b[0;34m(\u001b[0m\u001b[0;34m**\u001b[0m\u001b[0mmy_dict\u001b[0m\u001b[0;34m)\u001b[0m\u001b[0;34m\u001b[0m\u001b[0m\n\u001b[0;32m----> 5\u001b[0;31m \u001b[0;32mprint\u001b[0m \u001b[0mmy_func\u001b[0m\u001b[0;34m(\u001b[0m\u001b[0;34m**\u001b[0m\u001b[0mmy_dict1\u001b[0m\u001b[0;34m)\u001b[0m\u001b[0;34m\u001b[0m\u001b[0m\n\u001b[0m",
      "\u001b[0;31mTypeError\u001b[0m: my_func() got an unexpected keyword argument 'c'"
     ]
    }
   ],
   "source": [
    "# **\n",
    "my_dict={'a':11,'b':12}\n",
    "my_dict1 = {'a':12,'c':33}\n",
    "print my_func(**my_dict)\n",
    "print my_func(**my_dict1)"
   ]
  },
  {
   "cell_type": "code",
   "execution_count": 14,
   "metadata": {
    "collapsed": false
   },
   "outputs": [
    {
     "name": "stdout",
     "output_type": "stream",
     "text": [
      "Help on built-in function max in module __builtin__:\n",
      "\n",
      "max(...)\n",
      "    max(iterable[, key=func]) -> value\n",
      "    max(a, b, c, ...[, key=func]) -> value\n",
      "    \n",
      "    With a single iterable argument, return its largest item.\n",
      "    With two or more arguments, return the largest argument.\n",
      "\n",
      "None\n"
     ]
    }
   ],
   "source": [
    "# *args\n",
    "print help(max)"
   ]
  },
  {
   "cell_type": "code",
   "execution_count": 16,
   "metadata": {
    "collapsed": false
   },
   "outputs": [
    {
     "name": "stdout",
     "output_type": "stream",
     "text": [
      "95\n",
      "-1\n"
     ]
    }
   ],
   "source": [
    "print max(22,33,44,95) \n",
    "print max(-1,-4)"
   ]
  },
  {
   "cell_type": "code",
   "execution_count": 23,
   "metadata": {
    "collapsed": true
   },
   "outputs": [],
   "source": [
    "# gmax\n",
    "def gmax(*args):\n",
    "    return args"
   ]
  },
  {
   "cell_type": "code",
   "execution_count": 20,
   "metadata": {
    "collapsed": true
   },
   "outputs": [],
   "source": [
    "# gmax\n",
    "def gmax(*args):\n",
    "    big = -1\n",
    "    for value in args:\n",
    "        if value > big:\n",
    "            big = value\n",
    "    return big"
   ]
  },
  {
   "cell_type": "code",
   "execution_count": 21,
   "metadata": {
    "collapsed": false
   },
   "outputs": [
    {
     "name": "stdout",
     "output_type": "stream",
     "text": [
      "95\n",
      "-1\n"
     ]
    }
   ],
   "source": [
    "print gmax(22,33,44,95) \n",
    "print gmax(-1,-4)"
   ]
  },
  {
   "cell_type": "code",
   "execution_count": 26,
   "metadata": {
    "collapsed": true
   },
   "outputs": [],
   "source": [
    "# **kwargs\n",
    "\n",
    "def my_func(**kwargs):\n",
    "    return kwargs"
   ]
  },
  {
   "cell_type": "code",
   "execution_count": 27,
   "metadata": {
    "collapsed": false
   },
   "outputs": [
    {
     "name": "stdout",
     "output_type": "stream",
     "text": [
      "{'gender': 'male', 'name': 'kumar'}\n",
      "{'loc': 'hyd', 'name': 'kumar'}\n",
      "{'loc': 'hyd', 'name': 'kumar', 'maiden': 'vijaya'}\n"
     ]
    }
   ],
   "source": [
    "print my_func(name='kumar',gender='male')\n",
    "print my_func(name='kumar',loc='hyd')\n",
    "print my_func(maiden='vijaya',loc='hyd',name='kumar')"
   ]
  },
  {
   "cell_type": "code",
   "execution_count": 28,
   "metadata": {
    "collapsed": true
   },
   "outputs": [],
   "source": [
    "def my_func(**kwargs):\n",
    "    if 'name' in kwargs:\n",
    "        print \"my name is {}\".format(kwargs['name'])\n",
    "    if 'gender' in kwargs:\n",
    "        print \"my gender is {}\".format(kwargs['gender'])\n",
    "    if 'loc' in kwargs:\n",
    "        print \"my location is {}\".format(kwargs['loc'])\n",
    "    if 'maiden' in kwargs:\n",
    "        print \"my mother name is {}\".format(kwargs['maiden'])"
   ]
  },
  {
   "cell_type": "code",
   "execution_count": 29,
   "metadata": {
    "collapsed": false
   },
   "outputs": [
    {
     "name": "stdout",
     "output_type": "stream",
     "text": [
      "my name is kumar\n",
      "my gender is male\n",
      "None\n",
      "my name is kumar\n",
      "my location is hyd\n",
      "None\n",
      "my name is kumar\n",
      "my location is hyd\n",
      "my mother name is vijaya\n",
      "None\n"
     ]
    }
   ],
   "source": [
    "print my_func(name='kumar',gender='male')\n",
    "print my_func(name='kumar',loc='hyd')\n",
    "print my_func(maiden='vijaya',loc='hyd',name='kumar')"
   ]
  },
  {
   "cell_type": "code",
   "execution_count": 48,
   "metadata": {
    "collapsed": false
   },
   "outputs": [
    {
     "name": "stdout",
     "output_type": "stream",
     "text": [
      "1\n",
      "None\n"
     ]
    },
    {
     "ename": "NameError",
     "evalue": "name 'lower' is not defined",
     "output_type": "error",
     "traceback": [
      "\u001b[0;31m---------------------------------------------------------------------------\u001b[0m",
      "\u001b[0;31mNameError\u001b[0m                                 Traceback (most recent call last)",
      "\u001b[0;32m<ipython-input-48-3f8659ad5569>\u001b[0m in \u001b[0;36m<module>\u001b[0;34m()\u001b[0m\n\u001b[1;32m      8\u001b[0m \u001b[0;34m\u001b[0m\u001b[0m\n\u001b[1;32m      9\u001b[0m \u001b[0;32mprint\u001b[0m \u001b[0mupper\u001b[0m\u001b[0;34m(\u001b[0m\u001b[0;34m)\u001b[0m  \u001b[0;31m# 1,1,error\u001b[0m\u001b[0;34m\u001b[0m\u001b[0m\n\u001b[0;32m---> 10\u001b[0;31m \u001b[0;32mprint\u001b[0m \u001b[0mlower\u001b[0m\u001b[0;34m(\u001b[0m\u001b[0;34m)\u001b[0m  \u001b[0;31m# 1,error,error\u001b[0m\u001b[0;34m\u001b[0m\u001b[0m\n\u001b[0m",
      "\u001b[0;31mNameError\u001b[0m: name 'lower' is not defined"
     ]
    }
   ],
   "source": [
    "# function within a function\n",
    "\n",
    "def upper():\n",
    "    x = 1\n",
    "    def lower():\n",
    "        return x\n",
    "    print lower()\n",
    "    \n",
    "print upper()  # 1,1,error\n",
    "print lower()  # 1,error,error"
   ]
  },
  {
   "cell_type": "code",
   "execution_count": 4,
   "metadata": {
    "collapsed": false
   },
   "outputs": [],
   "source": [
    "# decorators\n",
    "# variable available during the defination of a function,exits even when we return them.\n",
    "# @ - decorator\n",
    "\n",
    "def upper():\n",
    "    x = 1\n",
    "    def lower():\n",
    "        return x\n",
    "    return lower\n",
    "\n",
    "foo = upper()  # the lower function is returned to value foo.\n",
    "# after running upper function i neither see lower or x available for me.\n",
    "# they are gone during the runtime of the function.\n",
    "\n",
    "#print lower()\n",
    "#print x\n"
   ]
  },
  {
   "cell_type": "code",
   "execution_count": 5,
   "metadata": {
    "collapsed": false
   },
   "outputs": [
    {
     "name": "stdout",
     "output_type": "stream",
     "text": [
      "<function lower at 0x7fa86ca1bf50>\n",
      "1\n"
     ]
    }
   ],
   "source": [
    "print foo\n",
    "'''\n",
    "    def lower():\n",
    "        return x\n",
    "'''\n",
    "print foo()"
   ]
  },
  {
   "cell_type": "code",
   "execution_count": 6,
   "metadata": {
    "collapsed": false
   },
   "outputs": [
    {
     "name": "stdout",
     "output_type": "stream",
     "text": [
      "30\n",
      "20\n"
     ]
    }
   ],
   "source": [
    "# function are first class objects.\n",
    "\n",
    "def add(x,y):\n",
    "    return x + y\n",
    "\n",
    "def sub(x,y):\n",
    "    return x - y\n",
    "\n",
    "def extra(func,x,y):\n",
    "    return func(x,y)\n",
    "\n",
    "print extra(add,10,20) # 30\n",
    "print extra(sub,30,10) # 20"
   ]
  },
  {
   "cell_type": "code",
   "execution_count": null,
   "metadata": {
    "collapsed": true
   },
   "outputs": [],
   "source": [
    "# map,filter and lambda"
   ]
  },
  {
   "cell_type": "code",
   "execution_count": 7,
   "metadata": {
    "collapsed": false
   },
   "outputs": [
    {
     "name": "stdout",
     "output_type": "stream",
     "text": [
      "Help on built-in function map in module __builtin__:\n",
      "\n",
      "map(...)\n",
      "    map(function, sequence[, sequence, ...]) -> list\n",
      "    \n",
      "    Return a list of the results of applying the function to the items of\n",
      "    the argument sequence(s).  If more than one sequence is given, the\n",
      "    function is called with an argument list consisting of the corresponding\n",
      "    item of each sequence, substituting None for missing values when not all\n",
      "    sequences have the same length.  If the function is None, return a list of\n",
      "    the items of the sequence (or a list of tuples if more than one sequence).\n",
      "\n",
      "None\n"
     ]
    }
   ],
   "source": [
    "print help(map)"
   ]
  },
  {
   "cell_type": "code",
   "execution_count": 9,
   "metadata": {
    "collapsed": false
   },
   "outputs": [
    {
     "name": "stdout",
     "output_type": "stream",
     "text": [
      "4\n",
      "169\n"
     ]
    }
   ],
   "source": [
    "def my_square(a):\n",
    "    return a * a\n",
    "\n",
    "print my_square(2)\n",
    "print my_square(13)"
   ]
  },
  {
   "cell_type": "code",
   "execution_count": 14,
   "metadata": {
    "collapsed": false
   },
   "outputs": [
    {
     "name": "stdout",
     "output_type": "stream",
     "text": [
      "[121, 144, 169, 196, 225, 256, 289, 324]\n",
      "[11, 12, 13, 14, 15, 16, 17, 18]\n"
     ]
    }
   ],
   "source": [
    "print map(my_square,[11,12,13,14,15,16,17,18])\n",
    "print filter(my_square,[11,12,13,14,15,16,17,18])"
   ]
  },
  {
   "cell_type": "code",
   "execution_count": 15,
   "metadata": {
    "collapsed": false
   },
   "outputs": [
    {
     "name": "stdout",
     "output_type": "stream",
     "text": [
      "Help on built-in function filter in module __builtin__:\n",
      "\n",
      "filter(...)\n",
      "    filter(function or None, sequence) -> list, tuple, or string\n",
      "    \n",
      "    Return those items of sequence for which function(item) is true.  If\n",
      "    function is None, return the items that are true.  If sequence is a tuple\n",
      "    or string, return the same type, else return a list.\n",
      "\n",
      "None\n"
     ]
    }
   ],
   "source": [
    "# filter\n",
    "print help(filter)"
   ]
  },
  {
   "cell_type": "code",
   "execution_count": 12,
   "metadata": {
    "collapsed": false
   },
   "outputs": [
    {
     "name": "stdout",
     "output_type": "stream",
     "text": [
      "even\n",
      "None\n"
     ]
    }
   ],
   "source": [
    "def even(a):\n",
    "    if a % 2 == 0:\n",
    "        return 'even'\n",
    "    \n",
    "print even(2) # True\n",
    "print even(3) # False"
   ]
  },
  {
   "cell_type": "code",
   "execution_count": 16,
   "metadata": {
    "collapsed": false
   },
   "outputs": [
    {
     "name": "stdout",
     "output_type": "stream",
     "text": [
      "[2, 4, 6, 8, 10]\n",
      "[None, 'even', None, 'even', None, 'even', None, 'even', None, 'even']\n"
     ]
    }
   ],
   "source": [
    "print filter(even,[1,2,3,4,5,6,7,8,9,10])\n",
    "print map(even,[1,2,3,4,5,6,7,8,9,10])"
   ]
  },
  {
   "cell_type": "code",
   "execution_count": 18,
   "metadata": {
    "collapsed": false
   },
   "outputs": [
    {
     "name": "stdout",
     "output_type": "stream",
     "text": [
      "[121, 144, 169, 196, 225, 256, 289, 324]\n",
      "[121, 144, 169, 196, 225, 256, 289, 324]\n"
     ]
    }
   ],
   "source": [
    "# lambda\n",
    "# creating nameless functions on fly.\n",
    "print map(my_square,[11,12,13,14,15,16,17,18])\n",
    "print map(lambda a:a*a,[11,12,13,14,15,16,17,18])"
   ]
  },
  {
   "cell_type": "code",
   "execution_count": 20,
   "metadata": {
    "collapsed": false
   },
   "outputs": [
    {
     "name": "stdout",
     "output_type": "stream",
     "text": [
      "[2, 4, 6, 8, 10]\n",
      "[2, 4, 6, 8, 10]\n"
     ]
    }
   ],
   "source": [
    "print filter(even,[1,2,3,4,5,6,7,8,9,10])\n",
    "print filter(lambda a:a%2 ==0,[1,2,3,4,5,6,7,8,9,10])"
   ]
  },
  {
   "cell_type": "code",
   "execution_count": null,
   "metadata": {
    "collapsed": true
   },
   "outputs": [],
   "source": []
  },
  {
   "cell_type": "code",
   "execution_count": null,
   "metadata": {
    "collapsed": true
   },
   "outputs": [],
   "source": []
  }
 ],
 "metadata": {
  "kernelspec": {
   "display_name": "Python 2",
   "language": "python",
   "name": "python2"
  },
  "language_info": {
   "codemirror_mode": {
    "name": "ipython",
    "version": 2
   },
   "file_extension": ".py",
   "mimetype": "text/x-python",
   "name": "python",
   "nbconvert_exporter": "python",
   "pygments_lexer": "ipython2",
   "version": "2.7.6"
  }
 },
 "nbformat": 4,
 "nbformat_minor": 1
}
