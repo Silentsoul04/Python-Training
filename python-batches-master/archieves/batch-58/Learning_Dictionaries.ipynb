{
 "cells": [
  {
   "cell_type": "code",
   "execution_count": null,
   "metadata": {
    "collapsed": true
   },
   "outputs": [],
   "source": [
    "# Learning Python the Hardway ( 2 weeks/3 weeks)"
   ]
  },
  {
   "cell_type": "code",
   "execution_count": null,
   "metadata": {
    "collapsed": true
   },
   "outputs": [],
   "source": [
    "# dictionaries\n",
    "# dict,hashes.\n",
    "# string,tuples,lists [indexed objects]\n",
    "# Dictionaries are not indexed objects -> key,value\n",
    "# apple => red color fruit\n",
    "# cherry => red color fruit\n",
    "# apple,cherry(keys) -> unique\n",
    "# red colour fruit(values)\n",
    "# SSN,UIN\n",
    "# json,yaml,pickle.."
   ]
  },
  {
   "cell_type": "code",
   "execution_count": 20,
   "metadata": {
    "collapsed": false
   },
   "outputs": [
    {
     "name": "stdout",
     "output_type": "stream",
     "text": [
      "{'a': 'apple', 'c': 'chocolate', 'b': 'banana', 'd': 'dates'} <type 'dict'>\n"
     ]
    }
   ],
   "source": [
    "# Dictionary\n",
    "# pprint\n",
    "# dictionary indexes\n",
    "\n",
    "my_fruits = {'a':'apple','b':'banana','c':'chocolate','d':'dates'}\n",
    "print my_fruits,type(my_fruits)"
   ]
  },
  {
   "cell_type": "code",
   "execution_count": 9,
   "metadata": {
    "collapsed": false
   },
   "outputs": [
    {
     "name": "stdout",
     "output_type": "stream",
     "text": [
      "dates\n"
     ]
    }
   ],
   "source": [
    "# how to read a value provided we have key\n",
    "print my_fruits['d']"
   ]
  },
  {
   "cell_type": "code",
   "execution_count": 3,
   "metadata": {
    "collapsed": false
   },
   "outputs": [
    {
     "name": "stdout",
     "output_type": "stream",
     "text": [
      "{} <type 'dict'>\n",
      "{} <type 'dict'>\n"
     ]
    }
   ],
   "source": [
    "my_empty = {}\n",
    "print my_empty,type(my_empty)\n",
    "\n",
    "my_empty = dict()\n",
    "print my_empty,type(my_empty)"
   ]
  },
  {
   "cell_type": "code",
   "execution_count": 4,
   "metadata": {
    "collapsed": false
   },
   "outputs": [
    {
     "name": "stdout",
     "output_type": "stream",
     "text": [
      "{'a': 'apple', 'c': 'chocolate', 'b': 'banana', 'd': 'dates', 'f': 'figs'}\n"
     ]
    }
   ],
   "source": [
    "# insert values into dictionries\n",
    "my_fruits['f']='figs'\n",
    "print my_fruits"
   ]
  },
  {
   "cell_type": "code",
   "execution_count": 6,
   "metadata": {
    "collapsed": false
   },
   "outputs": [
    {
     "name": "stdout",
     "output_type": "stream",
     "text": [
      "{'a': ['apricot', 'apple'], 'c': 'chocolate', 'b': 'banana', 'd': 'dates', 'f': 'figs'}\n"
     ]
    }
   ],
   "source": [
    "# replace\n",
    "my_fruits['a']=['apricot','apple']\n",
    "print my_fruits"
   ]
  },
  {
   "cell_type": "code",
   "execution_count": 10,
   "metadata": {
    "collapsed": false
   },
   "outputs": [
    {
     "name": "stdout",
     "output_type": "stream",
     "text": [
      "a => ['apricot', 'apple']\n",
      "c => chocolate\n",
      "b => banana\n",
      "d => dates\n",
      "f => figs\n"
     ]
    }
   ],
   "source": [
    "# recursion\n",
    "# we get keys while running a for loop on a dictionary.\n",
    "\n",
    "for key in my_fruits:\n",
    "    print \"{} => {}\".format(key,my_fruits[key])"
   ]
  },
  {
   "cell_type": "code",
   "execution_count": 12,
   "metadata": {
    "collapsed": false
   },
   "outputs": [
    {
     "name": "stdout",
     "output_type": "stream",
     "text": [
      "True\n",
      "False\n"
     ]
    }
   ],
   "source": [
    "# in operation\n",
    "# in operator works only on keys in a dictionary.\n",
    "print 'a' in my_fruits\n",
    "print 'banana' in my_fruits"
   ]
  },
  {
   "cell_type": "code",
   "execution_count": 13,
   "metadata": {
    "collapsed": false
   },
   "outputs": [
    {
     "name": "stdout",
     "output_type": "stream",
     "text": [
      "['__class__', '__cmp__', '__contains__', '__delattr__', '__delitem__', '__doc__', '__eq__', '__format__', '__ge__', '__getattribute__', '__getitem__', '__gt__', '__hash__', '__init__', '__iter__', '__le__', '__len__', '__lt__', '__ne__', '__new__', '__reduce__', '__reduce_ex__', '__repr__', '__setattr__', '__setitem__', '__sizeof__', '__str__', '__subclasshook__', 'clear', 'copy', 'fromkeys', 'get', 'has_key', 'items', 'iteritems', 'iterkeys', 'itervalues', 'keys', 'pop', 'popitem', 'setdefault', 'update', 'values', 'viewitems', 'viewkeys', 'viewvalues']\n"
     ]
    }
   ],
   "source": [
    "# functions\n",
    "print dir(my_fruits)"
   ]
  },
  {
   "cell_type": "code",
   "execution_count": 15,
   "metadata": {
    "collapsed": false
   },
   "outputs": [
    {
     "name": "stdout",
     "output_type": "stream",
     "text": [
      "Help on built-in function get:\n",
      "\n",
      "get(...)\n",
      "    D.get(k[,d]) -> D[k] if k in D, else d.  d defaults to None.\n",
      "\n",
      "None\n",
      "['apricot', 'apple']\n",
      "['apricot', 'apple']\n"
     ]
    }
   ],
   "source": [
    "# function\n",
    "# get\n",
    "print help(my_fruits.get)\n",
    "print my_fruits.get('a')\n",
    "print my_fruits['a']"
   ]
  },
  {
   "cell_type": "code",
   "execution_count": 16,
   "metadata": {
    "collapsed": false
   },
   "outputs": [
    {
     "name": "stdout",
     "output_type": "stream",
     "text": [
      "Help on built-in function has_key:\n",
      "\n",
      "has_key(...)\n",
      "    D.has_key(k) -> True if D has a key k, else False\n",
      "\n",
      "None\n",
      "True\n",
      "True\n"
     ]
    }
   ],
   "source": [
    "# has_key\n",
    "print help(my_fruits.has_key)\n",
    "print my_fruits.has_key('a')\n",
    "print 'a' in my_fruits"
   ]
  },
  {
   "cell_type": "code",
   "execution_count": 18,
   "metadata": {
    "collapsed": false
   },
   "outputs": [
    {
     "name": "stdout",
     "output_type": "stream",
     "text": [
      "Help on built-in function keys:\n",
      "\n",
      "keys(...)\n",
      "    D.keys() -> list of D's keys\n",
      "\n",
      "None\n",
      "['a', 'c', 'b', 'd', 'f']\n"
     ]
    }
   ],
   "source": [
    "# keys,iterkeys,viewkeys\n",
    "\n",
    "#keys\n",
    "print help(my_fruits.keys)\n",
    "print my_fruits.keys()"
   ]
  },
  {
   "cell_type": "code",
   "execution_count": 19,
   "metadata": {
    "collapsed": false
   },
   "outputs": [
    {
     "name": "stdout",
     "output_type": "stream",
     "text": [
      "Help on built-in function iterkeys:\n",
      "\n",
      "iterkeys(...)\n",
      "    D.iterkeys() -> an iterator over the keys of D\n",
      "\n",
      "None\n",
      "<dictionary-keyiterator object at 0x7f47f0d3c208>\n"
     ]
    }
   ],
   "source": [
    "# iterkeys\n",
    "print help(my_fruits.iterkeys)\n",
    "print my_fruits.iterkeys()"
   ]
  },
  {
   "cell_type": "code",
   "execution_count": 20,
   "metadata": {
    "collapsed": false
   },
   "outputs": [
    {
     "name": "stdout",
     "output_type": "stream",
     "text": [
      "a\n",
      "c\n",
      "b\n",
      "d\n",
      "f\n"
     ]
    }
   ],
   "source": [
    "for key in my_fruits.iterkeys():\n",
    "    print key"
   ]
  },
  {
   "cell_type": "code",
   "execution_count": 3,
   "metadata": {
    "collapsed": false
   },
   "outputs": [
    {
     "name": "stdout",
     "output_type": "stream",
     "text": [
      "Help on built-in function viewkeys:\n",
      "\n",
      "viewkeys(...)\n",
      "    D.viewkeys() -> a set-like object providing a view on D's keys\n",
      "\n",
      "None\n",
      "dict_keys(['a', 'c', 'b', 'd'])\n"
     ]
    }
   ],
   "source": [
    "# viewkeys\n",
    "print help(my_fruits.viewkeys)\n",
    "print my_fruits.viewkeys()"
   ]
  },
  {
   "cell_type": "code",
   "execution_count": 6,
   "metadata": {
    "collapsed": false
   },
   "outputs": [
    {
     "name": "stdout",
     "output_type": "stream",
     "text": [
      "['apple', 'chocolate', 'banana', 'dates']\n",
      "<dictionary-valueiterator object at 0x7f7878616628>\n",
      "apple\n",
      "chocolate\n",
      "banana\n",
      "dates\n",
      "dict_values(['apple', 'chocolate', 'banana', 'dates'])\n",
      "apple\n",
      "chocolate\n",
      "banana\n",
      "dates\n"
     ]
    }
   ],
   "source": [
    "# values,itervalues,viewvalues\n",
    "\n",
    "# value\n",
    "print my_fruits.values()\n",
    "\n",
    "# itevalues\n",
    "print my_fruits.itervalues()\n",
    "for value in my_fruits.itervalues():\n",
    "    print value\n",
    "    \n",
    "# viewvalues\n",
    "print my_fruits.viewvalues()\n",
    "for value in my_fruits.viewvalues():\n",
    "    print value"
   ]
  },
  {
   "cell_type": "code",
   "execution_count": 8,
   "metadata": {
    "collapsed": false
   },
   "outputs": [
    {
     "name": "stdout",
     "output_type": "stream",
     "text": [
      "[('a', 'apple'), ('c', 'chocolate'), ('b', 'banana'), ('d', 'dates')]\n",
      "<dictionary-itemiterator object at 0x7f7878616788>\n",
      "dict_items([('a', 'apple'), ('c', 'chocolate'), ('b', 'banana'), ('d', 'dates')])\n"
     ]
    }
   ],
   "source": [
    "# items,iteritems,viewitems\n",
    "print my_fruits.items()\n",
    "print my_fruits.iteritems()\n",
    "print my_fruits.viewitems()"
   ]
  },
  {
   "cell_type": "code",
   "execution_count": null,
   "metadata": {
    "collapsed": true
   },
   "outputs": [],
   "source": [
    "# copy\n",
    "# soft,hard,shallow copy(complex objects)"
   ]
  },
  {
   "cell_type": "code",
   "execution_count": 15,
   "metadata": {
    "collapsed": false
   },
   "outputs": [
    {
     "name": "stdout",
     "output_type": "stream",
     "text": [
      "140155392611392 140155392611320 ['one', 'two', 'three'] ['four', 'five', 'six']\n",
      "[['one', 'two', 'three'], ['four', 'five', 'six']] 140155392611536\n",
      "140155392611392 140155392611320\n",
      "140155392611536 140155392611536\n",
      "140155392611392 140155392611320 140155392611392 140155392611320\n",
      "True\n",
      "140155392613048 140155392611536\n",
      "140155392611392 140155392611320 140155392472560 140155392473280\n",
      "Help on function copy in module copy:\n",
      "\n",
      "copy(x)\n",
      "    Shallow copy operation on arbitrary Python objects.\n",
      "    \n",
      "    See the module's __doc__ string for more info.\n",
      "\n",
      "None\n",
      "140155392612040 140155392611536\n",
      "False\n",
      "140155392611392 140155392611320 140155392611392 140155392611320\n"
     ]
    }
   ],
   "source": [
    "a = [\"one\",\"two\",\"three\"]\n",
    "b = [\"four\",\"five\",\"six\"]\n",
    "print id(a),id(b),a,b\n",
    "\n",
    "Cc = [a,b]\n",
    "print Cc,id(Cc)\n",
    "print id(Cc[0]),id(Cc[1]) # the elements of complex objects are refering to a and b.\n",
    "\n",
    "SOc = Cc\n",
    "print id(SOc),id(Cc)\n",
    "print id(Cc[0]),id(Cc[1]),id(SOc[0]),id(SOc[1])\n",
    "print SOc is Cc\n",
    "# Any modification to any one a and b should reflect in SOc and Cc.\n",
    "\n",
    "# deep copy\n",
    "# two different memory location. any modification in Cc does not refelect in Dc.\n",
    "import copy\n",
    "Dc = copy.deepcopy(Cc)\n",
    "print id(Dc),id(Cc)\n",
    "print id(Cc[0]),id(Cc[1]),id(Dc[0]),id(Dc[1])\n",
    "\n",
    "# shallow copy\n",
    "# its a mix of soft and deep copy.\n",
    "# external object is deepcopy and internal are softcopy.\n",
    "print help(copy.copy)\n",
    "\n",
    "Sc = copy.copy(Cc)  # shallowcopy\n",
    "print id(Sc),id(Cc)\n",
    "print Sc is Cc\n",
    "print id(Cc[0]),id(Cc[1]),id(Sc[0]),id(Sc[1])\n",
    "\n",
    "#\n",
    "# traings = [['linux','python','Puppet','django'],['2:00','3:00','4:00','5:00']]  - page1\n",
    "# costing = [['linux','python','Puppet','django'],['20.00','30.00','40.00','50.00']] - page2"
   ]
  },
  {
   "cell_type": "code",
   "execution_count": 21,
   "metadata": {
    "collapsed": false
   },
   "outputs": [
    {
     "name": "stdout",
     "output_type": "stream",
     "text": [
      "{'a': 'apple', 'c': 'chocolate', 'b': 'banana', 'd': 'dates'}\n",
      "None\n",
      "{}\n",
      "{'a': 'apple', 'c': 'chocolate', 'b': 'banana', 'd': 'dates'}\n"
     ]
    }
   ],
   "source": [
    "# clear\n",
    "Dmy_fruits = copy.deepcopy(my_fruits)\n",
    "print Dmy_fruits\n",
    "print Dmy_fruits.clear()\n",
    "print Dmy_fruits\n",
    "print my_fruits"
   ]
  },
  {
   "cell_type": "code",
   "execution_count": 27,
   "metadata": {
    "collapsed": false
   },
   "outputs": [
    {
     "name": "stdout",
     "output_type": "stream",
     "text": [
      "Help on built-in function pop:\n",
      "\n",
      "pop(...)\n",
      "    D.pop(k[,d]) -> v, remove specified key and return the corresponding value.\n",
      "    If key is not found, d is returned if given, otherwise KeyError is raised\n",
      "\n",
      "None\n",
      "{'a': 'apple', 'd': 'dates'}\n"
     ]
    }
   ],
   "source": [
    "# pop\n",
    "print help(my_fruits.pop)\n",
    "my_fruits.pop('c')\n",
    "print my_fruits\n"
   ]
  },
  {
   "cell_type": "code",
   "execution_count": 28,
   "metadata": {
    "collapsed": false
   },
   "outputs": [
    {
     "name": "stdout",
     "output_type": "stream",
     "text": [
      "{'a': 'apple', 'd': 'dates'}\n"
     ]
    },
    {
     "ename": "KeyError",
     "evalue": "'c'",
     "output_type": "error",
     "traceback": [
      "\u001b[0;31m---------------------------------------------------------------------------\u001b[0m",
      "\u001b[0;31mKeyError\u001b[0m                                  Traceback (most recent call last)",
      "\u001b[0;32m<ipython-input-28-3049844b812e>\u001b[0m in \u001b[0;36m<module>\u001b[0;34m()\u001b[0m\n\u001b[1;32m      1\u001b[0m \u001b[0;32mprint\u001b[0m \u001b[0mmy_fruits\u001b[0m\u001b[0;34m\u001b[0m\u001b[0m\n\u001b[0;32m----> 2\u001b[0;31m \u001b[0mmy_fruits\u001b[0m\u001b[0;34m.\u001b[0m\u001b[0mpop\u001b[0m\u001b[0;34m(\u001b[0m\u001b[0;34m'c'\u001b[0m\u001b[0;34m)\u001b[0m\u001b[0;34m\u001b[0m\u001b[0m\n\u001b[0m",
      "\u001b[0;31mKeyError\u001b[0m: 'c'"
     ]
    }
   ],
   "source": [
    "print my_fruits\n",
    "my_fruits.pop('c')"
   ]
  },
  {
   "cell_type": "code",
   "execution_count": 29,
   "metadata": {
    "collapsed": false
   },
   "outputs": [
    {
     "name": "stdout",
     "output_type": "stream",
     "text": [
      "('a', 'apple')\n"
     ]
    }
   ],
   "source": [
    "# my_fruits.popitem\n",
    "print my_fruits.popitem()"
   ]
  },
  {
   "cell_type": "code",
   "execution_count": 24,
   "metadata": {
    "collapsed": true
   },
   "outputs": [],
   "source": [
    "# Project\n",
    "# https://drive.google.com/file/d/0Bxq4UvUJTuQPMWZKd2d5ZlBoY00/view"
   ]
  },
  {
   "cell_type": "code",
   "execution_count": 23,
   "metadata": {
    "collapsed": false
   },
   "outputs": [
    {
     "name": "stdout",
     "output_type": "stream",
     "text": [
      "[1, 4, 9, 16, 25, 36, 49, 64, 81]\n"
     ]
    }
   ],
   "source": [
    "my_square = {}\n",
    "for key in range(1,10):\n",
    "    my_square[key] = key * key\n",
    "print my_square.values()"
   ]
  },
  {
   "cell_type": "code",
   "execution_count": null,
   "metadata": {
    "collapsed": true
   },
   "outputs": [],
   "source": []
  }
 ],
 "metadata": {
  "kernelspec": {
   "display_name": "Python 2",
   "language": "python",
   "name": "python2"
  },
  "language_info": {
   "codemirror_mode": {
    "name": "ipython",
    "version": 2
   },
   "file_extension": ".py",
   "mimetype": "text/x-python",
   "name": "python",
   "nbconvert_exporter": "python",
   "pygments_lexer": "ipython2",
   "version": "2.7.6"
  }
 },
 "nbformat": 4,
 "nbformat_minor": 1
}
