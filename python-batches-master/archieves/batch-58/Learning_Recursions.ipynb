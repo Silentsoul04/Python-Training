{
 "cells": [
  {
   "cell_type": "code",
   "execution_count": null,
   "metadata": {
    "collapsed": true
   },
   "outputs": [],
   "source": [
    "# recursion or looping\n",
    "# for,do..while,while..do,foreach,until - for other languages\n",
    "# for,while\n",
    "# for is a finite loop and while is infinite.\n",
    "# for/while both work on a sequence."
   ]
  },
  {
   "cell_type": "code",
   "execution_count": 1,
   "metadata": {
    "collapsed": false
   },
   "outputs": [
    {
     "name": "stdout",
     "output_type": "stream",
     "text": [
      "p\n",
      "y\n",
      "t\n",
      "h\n",
      "o\n",
      "n\n"
     ]
    }
   ],
   "source": [
    "# my_string\n",
    "my_string = \"python\"\n",
    "\n",
    "for value in my_string:\n",
    "    print value"
   ]
  },
  {
   "cell_type": "code",
   "execution_count": 2,
   "metadata": {
    "collapsed": false
   },
   "outputs": [
    {
     "name": "stdout",
     "output_type": "stream",
     "text": [
      "perl\n",
      "shell\n",
      "linux\n",
      "python\n"
     ]
    }
   ],
   "source": [
    "# a list/tuple of trainings\n",
    "my_trainings = ['perl','shell','linux','python']\n",
    "\n",
    "for training in my_trainings:\n",
    "    print training"
   ]
  },
  {
   "cell_type": "code",
   "execution_count": 3,
   "metadata": {
    "collapsed": false
   },
   "outputs": [
    {
     "name": "stdout",
     "output_type": "stream",
     "text": [
      "Help on built-in function range in module __builtin__:\n",
      "\n",
      "range(...)\n",
      "    range(stop) -> list of integers\n",
      "    range(start, stop[, step]) -> list of integers\n",
      "    \n",
      "    Return a list containing an arithmetic progression of integers.\n",
      "    range(i, j) returns [i, i+1, i+2, ..., j-1]; start (!) defaults to 0.\n",
      "    When step is given, it specifies the increment (or decrement).\n",
      "    For example, range(4) returns [0, 1, 2, 3].  The end point is omitted!\n",
      "    These are exactly the valid indices for a list of 4 elements.\n",
      "\n",
      "None\n"
     ]
    }
   ],
   "source": [
    "# numbers\n",
    "print help(range)"
   ]
  },
  {
   "cell_type": "code",
   "execution_count": 8,
   "metadata": {
    "collapsed": false
   },
   "outputs": [
    {
     "name": "stdout",
     "output_type": "stream",
     "text": [
      "[0, 1, 2, 3, 4]\n",
      "[1, 2, 3, 4]\n",
      "[1, 2, 3, 4, 5, 6, 7, 8, 9, 10]\n",
      "[1, 3, 5, 7, 9]\n"
     ]
    }
   ],
   "source": [
    "print range(5) # 0 till 5\n",
    "print range(1,5) # 1 till 5\n",
    "# for((i=1;i<=10;i++))\n",
    "print range(1,11,1) # 1 til 11 with a step of 1.\n",
    "# for((i=1;i<=10;i+2))\n",
    "print range(1,11,2) # 1 til 11 with a step of 2."
   ]
  },
  {
   "cell_type": "code",
   "execution_count": 9,
   "metadata": {
    "collapsed": false
   },
   "outputs": [
    {
     "name": "stdout",
     "output_type": "stream",
     "text": [
      "1\n",
      "2\n",
      "3\n",
      "4\n",
      "5\n",
      "6\n",
      "7\n",
      "8\n",
      "9\n",
      "10\n"
     ]
    }
   ],
   "source": [
    "for value in range(1,11,1):\n",
    "    print value"
   ]
  },
  {
   "cell_type": "code",
   "execution_count": 10,
   "metadata": {
    "collapsed": false
   },
   "outputs": [
    {
     "name": "stdout",
     "output_type": "stream",
     "text": [
      "Help on built-in function iter in module __builtin__:\n",
      "\n",
      "iter(...)\n",
      "    iter(collection) -> iterator\n",
      "    iter(callable, sentinel) -> iterator\n",
      "    \n",
      "    Get an iterator from an object.  In the first form, the argument must\n",
      "    supply its own iterator, or be a sequence.\n",
      "    In the second form, the callable is called until it returns the sentinel.\n",
      "\n",
      "None\n"
     ]
    }
   ],
   "source": [
    "# how for loop works\n",
    "print help(iter)"
   ]
  },
  {
   "cell_type": "code",
   "execution_count": 11,
   "metadata": {
    "collapsed": false
   },
   "outputs": [
    {
     "name": "stdout",
     "output_type": "stream",
     "text": [
      "<listiterator object at 0x7ff60f7f78d0> <type 'listiterator'>\n"
     ]
    }
   ],
   "source": [
    "m = iter(range(5))\n",
    "print m,type(m)"
   ]
  },
  {
   "cell_type": "code",
   "execution_count": 12,
   "metadata": {
    "collapsed": false
   },
   "outputs": [
    {
     "name": "stdout",
     "output_type": "stream",
     "text": [
      "0\n"
     ]
    }
   ],
   "source": [
    "print m.next()"
   ]
  },
  {
   "cell_type": "code",
   "execution_count": 13,
   "metadata": {
    "collapsed": false
   },
   "outputs": [
    {
     "name": "stdout",
     "output_type": "stream",
     "text": [
      "1\n"
     ]
    }
   ],
   "source": [
    "print m.next()"
   ]
  },
  {
   "cell_type": "code",
   "execution_count": 14,
   "metadata": {
    "collapsed": false
   },
   "outputs": [
    {
     "name": "stdout",
     "output_type": "stream",
     "text": [
      "2\n"
     ]
    }
   ],
   "source": [
    "print m.next()"
   ]
  },
  {
   "cell_type": "code",
   "execution_count": 15,
   "metadata": {
    "collapsed": false
   },
   "outputs": [
    {
     "name": "stdout",
     "output_type": "stream",
     "text": [
      "3\n"
     ]
    }
   ],
   "source": [
    "print m.next()"
   ]
  },
  {
   "cell_type": "code",
   "execution_count": 16,
   "metadata": {
    "collapsed": false
   },
   "outputs": [
    {
     "name": "stdout",
     "output_type": "stream",
     "text": [
      "4\n"
     ]
    }
   ],
   "source": [
    "print m.next()"
   ]
  },
  {
   "cell_type": "code",
   "execution_count": 17,
   "metadata": {
    "collapsed": false
   },
   "outputs": [
    {
     "ename": "StopIteration",
     "evalue": "",
     "output_type": "error",
     "traceback": [
      "\u001b[0;31m---------------------------------------------------------------------------\u001b[0m",
      "\u001b[0;31mStopIteration\u001b[0m                             Traceback (most recent call last)",
      "\u001b[0;32m<ipython-input-17-6ecd064bb0a6>\u001b[0m in \u001b[0;36m<module>\u001b[0;34m()\u001b[0m\n\u001b[0;32m----> 1\u001b[0;31m \u001b[0;32mprint\u001b[0m \u001b[0mm\u001b[0m\u001b[0;34m.\u001b[0m\u001b[0mnext\u001b[0m\u001b[0;34m(\u001b[0m\u001b[0;34m)\u001b[0m\u001b[0;34m\u001b[0m\u001b[0m\n\u001b[0m",
      "\u001b[0;31mStopIteration\u001b[0m: "
     ]
    }
   ],
   "source": [
    "print m.next()"
   ]
  },
  {
   "cell_type": "code",
   "execution_count": 18,
   "metadata": {
    "collapsed": false
   },
   "outputs": [
    {
     "name": "stdout",
     "output_type": "stream",
     "text": [
      "Help on built-in function range in module __builtin__:\n",
      "\n",
      "range(...)\n",
      "    range(stop) -> list of integers\n",
      "    range(start, stop[, step]) -> list of integers\n",
      "    \n",
      "    Return a list containing an arithmetic progression of integers.\n",
      "    range(i, j) returns [i, i+1, i+2, ..., j-1]; start (!) defaults to 0.\n",
      "    When step is given, it specifies the increment (or decrement).\n",
      "    For example, range(4) returns [0, 1, 2, 3].  The end point is omitted!\n",
      "    These are exactly the valid indices for a list of 4 elements.\n",
      "\n",
      "None\n",
      "Help on class xrange in module __builtin__:\n",
      "\n",
      "class xrange(object)\n",
      " |  xrange(stop) -> xrange object\n",
      " |  xrange(start, stop[, step]) -> xrange object\n",
      " |  \n",
      " |  Like range(), but instead of returning a list, returns an object that\n",
      " |  generates the numbers in the range on demand.  For looping, this is \n",
      " |  slightly faster than range() and more memory efficient.\n",
      " |  \n",
      " |  Methods defined here:\n",
      " |  \n",
      " |  __getattribute__(...)\n",
      " |      x.__getattribute__('name') <==> x.name\n",
      " |  \n",
      " |  __getitem__(...)\n",
      " |      x.__getitem__(y) <==> x[y]\n",
      " |  \n",
      " |  __iter__(...)\n",
      " |      x.__iter__() <==> iter(x)\n",
      " |  \n",
      " |  __len__(...)\n",
      " |      x.__len__() <==> len(x)\n",
      " |  \n",
      " |  __reduce__(...)\n",
      " |  \n",
      " |  __repr__(...)\n",
      " |      x.__repr__() <==> repr(x)\n",
      " |  \n",
      " |  __reversed__(...)\n",
      " |      Returns a reverse iterator.\n",
      " |  \n",
      " |  ----------------------------------------------------------------------\n",
      " |  Data and other attributes defined here:\n",
      " |  \n",
      " |  __new__ = <built-in method __new__ of type object>\n",
      " |      T.__new__(S, ...) -> a new object with type S, a subtype of T\n",
      "\n",
      "None\n"
     ]
    }
   ],
   "source": [
    "# iterator and generator\n",
    "# iterator - range\n",
    "# generator - xrange\n",
    "\n",
    "print help(range)\n",
    "print help(xrange)"
   ]
  },
  {
   "cell_type": "code",
   "execution_count": 20,
   "metadata": {
    "collapsed": false
   },
   "outputs": [
    {
     "name": "stdout",
     "output_type": "stream",
     "text": [
      "[0, 1, 2, 3, 4] <type 'list'>\n",
      "xrange(5) <type 'xrange'>\n"
     ]
    }
   ],
   "source": [
    "print range(5),type(range(5))\n",
    "print xrange(5),type(xrange(5))"
   ]
  },
  {
   "cell_type": "code",
   "execution_count": 21,
   "metadata": {
    "collapsed": false
   },
   "outputs": [
    {
     "name": "stdout",
     "output_type": "stream",
     "text": [
      "0\n",
      "1\n",
      "2\n",
      "3\n",
      "4\n"
     ]
    }
   ],
   "source": [
    "for value in xrange(5):\n",
    "    print value"
   ]
  },
  {
   "cell_type": "code",
   "execution_count": null,
   "metadata": {
    "collapsed": true
   },
   "outputs": [],
   "source": [
    "# range(1000000) # you will run oout of memory.\n",
    "# xrange(1000000) # you will run out of time."
   ]
  }
 ],
 "metadata": {
  "kernelspec": {
   "display_name": "Python 2",
   "language": "python",
   "name": "python2"
  },
  "language_info": {
   "codemirror_mode": {
    "name": "ipython",
    "version": 2
   },
   "file_extension": ".py",
   "mimetype": "text/x-python",
   "name": "python",
   "nbconvert_exporter": "python",
   "pygments_lexer": "ipython2",
   "version": "2.7.6"
  }
 },
 "nbformat": 4,
 "nbformat_minor": 1
}
