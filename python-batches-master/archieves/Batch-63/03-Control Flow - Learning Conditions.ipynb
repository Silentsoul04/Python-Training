{
 "metadata": {
  "name": "",
  "signature": "sha256:95cc852e91c1ac0eccfb99051eb26d96682b3351670e370f76998f8e213b1f78"
 },
 "nbformat": 3,
 "nbformat_minor": 0,
 "worksheets": []
}