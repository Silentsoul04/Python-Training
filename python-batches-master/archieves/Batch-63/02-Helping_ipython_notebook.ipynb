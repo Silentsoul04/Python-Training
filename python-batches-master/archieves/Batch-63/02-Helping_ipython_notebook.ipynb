{
 "metadata": {
  "name": "",
  "signature": "sha256:5737b2f7cd2b410b5c769bc122f57ae74dd78220160d2e137ddba4c899f0e8f0"
 },
 "nbformat": 3,
 "nbformat_minor": 0,
 "worksheets": [
  {
   "cells": [
    {
     "cell_type": "code",
     "collapsed": false,
     "input": [
      "my_string=\"python\""
     ],
     "language": "python",
     "metadata": {},
     "outputs": [],
     "prompt_number": 1
    },
    {
     "cell_type": "code",
     "collapsed": false,
     "input": [
      "print help(my_string.upper)"
     ],
     "language": "python",
     "metadata": {},
     "outputs": [
      {
       "output_type": "stream",
       "stream": "stdout",
       "text": [
        "Help on built-in function upper:\n",
        "\n",
        "upper(...)\n",
        "    S.upper() -> string\n",
        "    \n",
        "    Return a copy of the string S converted to uppercase.\n",
        "\n",
        "None\n"
       ]
      }
     ],
     "prompt_number": 3
    },
    {
     "cell_type": "code",
     "collapsed": false,
     "input": [],
     "language": "python",
     "metadata": {},
     "outputs": []
    }
   ],
   "metadata": {}
  }
 ]
}