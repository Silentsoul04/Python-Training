{
 "metadata": {
  "name": "",
  "signature": "sha256:bf7f9c6ad5fc51e5371a20d259c5647836deebd0d802974e9301b6a703b3999b"
 },
 "nbformat": 3,
 "nbformat_minor": 0,
 "worksheets": []
}