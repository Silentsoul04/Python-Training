{
 "cells": [
  {
   "cell_type": "raw",
   "metadata": {},
   "source": [
    "# what is function\n",
    "Function is a block of code , which can be called multiple times."
   ]
  },
  {
   "cell_type": "code",
   "execution_count": 1,
   "metadata": {},
   "outputs": [],
   "source": [
    "# A function block always starts with a def keyword.\n",
    "# A function has optional parameters.\n",
    "# Every funtion has a return value.\n",
    "# if there is no return value you get 'None'\n",
    "# Basically,every function should have a return value.\n",
    "\n",
    "def my_func():\n",
    "    print \"hello world\""
   ]
  },
  {
   "cell_type": "code",
   "execution_count": 2,
   "metadata": {},
   "outputs": [
    {
     "name": "stdout",
     "output_type": "stream",
     "text": [
      "hello world\n",
      "None\n"
     ]
    }
   ],
   "source": [
    "print my_func()"
   ]
  },
  {
   "cell_type": "code",
   "execution_count": 5,
   "metadata": {},
   "outputs": [],
   "source": [
    "# take 2\n",
    "# return is a keyword which marks the end of the funtion.\n",
    "# note: return is not a print statement.\n",
    "def my_func():\n",
    "    return \"hello world\"\n",
    "    print \"hey there\"\n",
    "    print \"how is it today\"\n",
    "    print \"hopefully it was a good monday\""
   ]
  },
  {
   "cell_type": "code",
   "execution_count": 6,
   "metadata": {},
   "outputs": [
    {
     "name": "stdout",
     "output_type": "stream",
     "text": [
      "hello world\n"
     ]
    }
   ],
   "source": [
    "print my_func()"
   ]
  },
  {
   "cell_type": "code",
   "execution_count": 7,
   "metadata": {},
   "outputs": [],
   "source": [
    "# namespaces or local/global values."
   ]
  },
  {
   "cell_type": "code",
   "execution_count": 8,
   "metadata": {},
   "outputs": [],
   "source": [
    "# Nenu local\n",
    "# variables defined inside a function are called local variables.\n",
    "# The local variables are restricted to the function.\n",
    "# there is no syntax which can access local variaable outside a function.\n",
    "# The life span of a local variable is during the run time of the function.\n",
    "def me_local():\n",
    "    a = 10\n",
    "    return a"
   ]
  },
  {
   "cell_type": "code",
   "execution_count": 9,
   "metadata": {},
   "outputs": [
    {
     "name": "stdout",
     "output_type": "stream",
     "text": [
      "10\n"
     ]
    }
   ],
   "source": [
    "print me_local()"
   ]
  },
  {
   "cell_type": "code",
   "execution_count": 10,
   "metadata": {},
   "outputs": [
    {
     "ename": "NameError",
     "evalue": "name 'a' is not defined",
     "output_type": "error",
     "traceback": [
      "\u001b[0;31m---------------------------------------------------------------------------\u001b[0m",
      "\u001b[0;31mNameError\u001b[0m                                 Traceback (most recent call last)",
      "\u001b[0;32m<ipython-input-10-d718eed2177d>\u001b[0m in \u001b[0;36m<module>\u001b[0;34m()\u001b[0m\n\u001b[0;32m----> 1\u001b[0;31m \u001b[0;32mprint\u001b[0m \u001b[0ma\u001b[0m \u001b[0;31m#\u001b[0m\u001b[0;34m\u001b[0m\u001b[0m\n\u001b[0m",
      "\u001b[0;31mNameError\u001b[0m: name 'a' is not defined"
     ]
    }
   ],
   "source": [
    "print a # "
   ]
  },
  {
   "cell_type": "code",
   "execution_count": 11,
   "metadata": {},
   "outputs": [],
   "source": [
    "# locals()\n",
    "def me_local():\n",
    "    a = 10\n",
    "    print locals()\n",
    "    return a"
   ]
  },
  {
   "cell_type": "code",
   "execution_count": 13,
   "metadata": {},
   "outputs": [
    {
     "name": "stdout",
     "output_type": "stream",
     "text": [
      "{'a': 10}\n",
      "10\n"
     ]
    }
   ],
   "source": [
    "print me_local()"
   ]
  },
  {
   "cell_type": "code",
   "execution_count": 14,
   "metadata": {},
   "outputs": [],
   "source": [
    "# global\n",
    "# first your function looks into local scope then into global scope.\n",
    "# globals() is a function(inbuild) to show us global name spaces.\n"
   ]
  },
  {
   "cell_type": "code",
   "execution_count": null,
   "metadata": {},
   "outputs": [],
   "source": [
    "'''\n",
    "In [4]: x = 10\n",
    "\n",
    "In [5]: def me_global():\n",
    "   ...:     x = 2\n",
    "   ...:     print locals()\n",
    "   ...:     return x\n",
    "   ...: \n",
    "\n",
    "In [6]: print me_global() # 2\n",
    "{'x': 2}\n",
    "2\n",
    "\n",
    "In [7]: print x\n",
    "10\n",
    "'''"
   ]
  },
  {
   "cell_type": "code",
   "execution_count": null,
   "metadata": {},
   "outputs": [],
   "source": [
    "'''\n",
    "In [10]: globals()\n",
    "Out[10]: \n",
    "{'In': ['',\n",
    "  u'x = 10',\n",
    "  u'def me_global():\\n    x = 2\\n    return x',\n",
    "  u\"get_ipython().magic(u'clear ')\",\n",
    "  u'x = 10',\n",
    "  u'def me_global():\\n    x = 2\\n    print locals()\\n    return x',\n",
    "  u'print me_global() # 2',\n",
    "  u'print x',\n",
    "  u'print globals()',\n",
    "  u'globals',\n",
    "  u'globals()'],\n",
    " 'Out': {9: <function globals>},\n",
    " '_': <function globals>,\n",
    " '_9': <function globals>,\n",
    " '__': '',\n",
    " '___': '',\n",
    " '__builtin__': <module '__builtin__' (built-in)>,\n",
    " '__builtins__': <module '__builtin__' (built-in)>,\n",
    " '__doc__': 'Automatically created module for IPython interactive environment',\n",
    " '__name__': '__main__',\n",
    " '_dh': [u'/home/khyaathi'],\n",
    " '_exit_code': 0,\n",
    " '_i': u'globals',\n",
    " '_i1': u'x = 10',\n",
    " '_i10': u'globals()',\n",
    " '_i2': u'def me_global():\\n    x = 2\\n    return x',\n",
    " '_i3': u'clear',\n",
    " '_i4': u'x = 10',\n",
    " '_i5': u'def me_global():\\n    x = 2\\n    print locals()\\n    return x',\n",
    " '_i6': u'print me_global() # 2',\n",
    " '_i7': u'print x',\n",
    " '_i8': u'print globals()',\n",
    " '_i9': u'globals',\n",
    " '_ih': ['',\n",
    "  u'x = 10',\n",
    "  u'def me_global():\\n    x = 2\\n    return x',\n",
    "  u\"get_ipython().magic(u'clear ')\",\n",
    "  u'x = 10',\n",
    "  u'def me_global():\\n    x = 2\\n    print locals()\\n    return x',\n",
    "  u'print me_global() # 2',\n",
    "  u'print x',\n",
    "  u'print globals()',\n",
    "  u'globals',\n",
    "  u'globals()'],\n",
    " '_ii': u'print globals()',\n",
    " '_iii': u'print x',\n",
    " '_oh': {9: <function globals>},\n",
    " '_sh': <module 'IPython.core.shadowns' from '/usr/local/lib/python2.7/dist-packages/IPython/core/shadowns.pyc'>,\n",
    " 'exit': <IPython.core.autocall.ExitAutocall at 0x7f0b4fd386d0>,\n",
    " 'get_ipython': <bound method TerminalInteractiveShell.get_ipython of <IPython.terminal.interactiveshell.TerminalInteractiveShell object at 0x7f0b4fd4a090>>,\n",
    " 'me_global': <function __main__.me_global>,\n",
    " 'quit': <IPython.core.autocall.ExitAutocall at 0x7f0b4fd386d0>,\n",
    " 'x': 10}\n",
    "\n",
    "'''"
   ]
  },
  {
   "cell_type": "code",
   "execution_count": 17,
   "metadata": {},
   "outputs": [],
   "source": [
    "# take 3\n",
    "# if there is no variables in local namespace , we will go to global namespace.\n",
    "x = 10\n",
    "def me_global():\n",
    "    print locals()\n",
    "    return x"
   ]
  },
  {
   "cell_type": "code",
   "execution_count": 16,
   "metadata": {},
   "outputs": [
    {
     "name": "stdout",
     "output_type": "stream",
     "text": [
      "{}\n",
      "10\n"
     ]
    }
   ],
   "source": [
    "print me_global()"
   ]
  },
  {
   "cell_type": "code",
   "execution_count": 20,
   "metadata": {},
   "outputs": [
    {
     "name": "stdout",
     "output_type": "stream",
     "text": [
      "10\n"
     ]
    }
   ],
   "source": [
    "print globals()['x']"
   ]
  },
  {
   "cell_type": "code",
   "execution_count": 23,
   "metadata": {},
   "outputs": [],
   "source": [
    "# global\n",
    "\n",
    "balance = 0  # global\n",
    "def my_deposit():\n",
    "    print locals()\n",
    "    balance = balance + 10000\n",
    "    return balance\n",
    "    "
   ]
  },
  {
   "cell_type": "code",
   "execution_count": 24,
   "metadata": {},
   "outputs": [
    {
     "name": "stdout",
     "output_type": "stream",
     "text": [
      "{}\n"
     ]
    },
    {
     "ename": "UnboundLocalError",
     "evalue": "local variable 'balance' referenced before assignment",
     "output_type": "error",
     "traceback": [
      "\u001b[0;31m---------------------------------------------------------------------------\u001b[0m",
      "\u001b[0;31mUnboundLocalError\u001b[0m                         Traceback (most recent call last)",
      "\u001b[0;32m<ipython-input-24-87870cd62757>\u001b[0m in \u001b[0;36m<module>\u001b[0;34m()\u001b[0m\n\u001b[0;32m----> 1\u001b[0;31m \u001b[0;32mprint\u001b[0m \u001b[0mmy_deposit\u001b[0m\u001b[0;34m(\u001b[0m\u001b[0;34m)\u001b[0m\u001b[0;34m\u001b[0m\u001b[0m\n\u001b[0m",
      "\u001b[0;32m<ipython-input-23-b12fdeb8d484>\u001b[0m in \u001b[0;36mmy_deposit\u001b[0;34m()\u001b[0m\n\u001b[1;32m      4\u001b[0m \u001b[0;32mdef\u001b[0m \u001b[0mmy_deposit\u001b[0m\u001b[0;34m(\u001b[0m\u001b[0;34m)\u001b[0m\u001b[0;34m:\u001b[0m\u001b[0;34m\u001b[0m\u001b[0m\n\u001b[1;32m      5\u001b[0m     \u001b[0;32mprint\u001b[0m \u001b[0mlocals\u001b[0m\u001b[0;34m(\u001b[0m\u001b[0;34m)\u001b[0m\u001b[0;34m\u001b[0m\u001b[0m\n\u001b[0;32m----> 6\u001b[0;31m     \u001b[0mbalance\u001b[0m \u001b[0;34m=\u001b[0m \u001b[0mbalance\u001b[0m \u001b[0;34m+\u001b[0m \u001b[0;36m10000\u001b[0m\u001b[0;34m\u001b[0m\u001b[0m\n\u001b[0m\u001b[1;32m      7\u001b[0m     \u001b[0;32mreturn\u001b[0m \u001b[0mbalance\u001b[0m\u001b[0;34m\u001b[0m\u001b[0m\n\u001b[1;32m      8\u001b[0m \u001b[0;34m\u001b[0m\u001b[0m\n",
      "\u001b[0;31mUnboundLocalError\u001b[0m: local variable 'balance' referenced before assignment"
     ]
    }
   ],
   "source": [
    "print my_deposit()"
   ]
  },
  {
   "cell_type": "code",
   "execution_count": 25,
   "metadata": {},
   "outputs": [],
   "source": [
    "balance = 0  # global\n",
    "def my_deposit():\n",
    "    balance = 0\n",
    "    print locals()\n",
    "    balance = balance + 10000\n",
    "    return balance"
   ]
  },
  {
   "cell_type": "code",
   "execution_count": 26,
   "metadata": {},
   "outputs": [
    {
     "name": "stdout",
     "output_type": "stream",
     "text": [
      "{'balance': 0}\n",
      "10000\n"
     ]
    }
   ],
   "source": [
    "print my_deposit()"
   ]
  },
  {
   "cell_type": "code",
   "execution_count": 27,
   "metadata": {},
   "outputs": [],
   "source": [
    "def my_withdraw():\n",
    "    \n",
    "    print locals()\n",
    "    balance = balance - 3000\n",
    "    return balance"
   ]
  },
  {
   "cell_type": "code",
   "execution_count": 28,
   "metadata": {},
   "outputs": [
    {
     "name": "stdout",
     "output_type": "stream",
     "text": [
      "{}\n"
     ]
    },
    {
     "ename": "UnboundLocalError",
     "evalue": "local variable 'balance' referenced before assignment",
     "output_type": "error",
     "traceback": [
      "\u001b[0;31m---------------------------------------------------------------------------\u001b[0m",
      "\u001b[0;31mUnboundLocalError\u001b[0m                         Traceback (most recent call last)",
      "\u001b[0;32m<ipython-input-28-13040dbf34bc>\u001b[0m in \u001b[0;36m<module>\u001b[0;34m()\u001b[0m\n\u001b[0;32m----> 1\u001b[0;31m \u001b[0;32mprint\u001b[0m \u001b[0mmy_withdraw\u001b[0m\u001b[0;34m(\u001b[0m\u001b[0;34m)\u001b[0m\u001b[0;34m\u001b[0m\u001b[0m\n\u001b[0m",
      "\u001b[0;32m<ipython-input-27-83c8d02b4443>\u001b[0m in \u001b[0;36mmy_withdraw\u001b[0;34m()\u001b[0m\n\u001b[1;32m      1\u001b[0m \u001b[0;32mdef\u001b[0m \u001b[0mmy_withdraw\u001b[0m\u001b[0;34m(\u001b[0m\u001b[0;34m)\u001b[0m\u001b[0;34m:\u001b[0m\u001b[0;34m\u001b[0m\u001b[0m\n\u001b[1;32m      2\u001b[0m     \u001b[0;32mprint\u001b[0m \u001b[0mlocals\u001b[0m\u001b[0;34m(\u001b[0m\u001b[0;34m)\u001b[0m\u001b[0;34m\u001b[0m\u001b[0m\n\u001b[0;32m----> 3\u001b[0;31m     \u001b[0mbalance\u001b[0m \u001b[0;34m=\u001b[0m \u001b[0mbalance\u001b[0m \u001b[0;34m-\u001b[0m \u001b[0;36m3000\u001b[0m\u001b[0;34m\u001b[0m\u001b[0m\n\u001b[0m\u001b[1;32m      4\u001b[0m     \u001b[0;32mreturn\u001b[0m \u001b[0mbalance\u001b[0m\u001b[0;34m\u001b[0m\u001b[0m\n",
      "\u001b[0;31mUnboundLocalError\u001b[0m: local variable 'balance' referenced before assignment"
     ]
    }
   ],
   "source": [
    "print my_withdraw()"
   ]
  },
  {
   "cell_type": "code",
   "execution_count": 29,
   "metadata": {},
   "outputs": [],
   "source": [
    "def my_withdraw():\n",
    "    balance = 0\n",
    "    print locals()\n",
    "    balance = balance - 3000\n",
    "    return balance"
   ]
  },
  {
   "cell_type": "code",
   "execution_count": 30,
   "metadata": {},
   "outputs": [
    {
     "name": "stdout",
     "output_type": "stream",
     "text": [
      "{'balance': 0}\n",
      "-3000\n"
     ]
    }
   ],
   "source": [
    "print my_withdraw()"
   ]
  },
  {
   "cell_type": "code",
   "execution_count": 34,
   "metadata": {},
   "outputs": [],
   "source": [
    "# use case\n",
    "# A single variable across multiple function you need to use global keyword.\n",
    "balance = 0  # global\n",
    "def my_deposit():\n",
    "    global balance\n",
    "    print locals()\n",
    "    balance = balance + 10000\n",
    "    return balance\n",
    "def my_withdraw():\n",
    "    global balance\n",
    "    print locals()\n",
    "    balance = balance - 3000\n",
    "    return balance"
   ]
  },
  {
   "cell_type": "code",
   "execution_count": 35,
   "metadata": {},
   "outputs": [
    {
     "name": "stdout",
     "output_type": "stream",
     "text": [
      "{}\n",
      "10000\n",
      "10000\n"
     ]
    }
   ],
   "source": [
    "print my_deposit()\n",
    "print balance"
   ]
  },
  {
   "cell_type": "code",
   "execution_count": 36,
   "metadata": {},
   "outputs": [
    {
     "name": "stdout",
     "output_type": "stream",
     "text": [
      "{}\n",
      "7000\n",
      "7000\n"
     ]
    }
   ],
   "source": [
    "print my_withdraw()\n",
    "print balance"
   ]
  },
  {
   "cell_type": "code",
   "execution_count": 37,
   "metadata": {},
   "outputs": [],
   "source": [
    "# Functional arguments"
   ]
  },
  {
   "cell_type": "code",
   "execution_count": 38,
   "metadata": {},
   "outputs": [],
   "source": [
    "def my_add(a,b):\n",
    "    return a + b"
   ]
  },
  {
   "cell_type": "code",
   "execution_count": 41,
   "metadata": {},
   "outputs": [
    {
     "name": "stdout",
     "output_type": "stream",
     "text": [
      "30\n",
      "Linuxrocks\n",
      "rocksLinux\n"
     ]
    }
   ],
   "source": [
    "# positional based.\n",
    "print my_add(10,20)\n",
    "print my_add(\"Linux\",\"rocks\")\n",
    "print my_add(\"rocks\",\"Linux\")"
   ]
  },
  {
   "cell_type": "code",
   "execution_count": 42,
   "metadata": {},
   "outputs": [
    {
     "name": "stdout",
     "output_type": "stream",
     "text": [
      "Linuxrocks\n"
     ]
    }
   ],
   "source": [
    "# key based.\n",
    "print my_add(b='rocks',a='Linux')"
   ]
  },
  {
   "cell_type": "code",
   "execution_count": 44,
   "metadata": {},
   "outputs": [],
   "source": [
    "# default\n",
    "def tables(num,kumar=10):\n",
    "    for value in range(1,kumar+1):\n",
    "        print \"{0:2d} * {1:2d} = {2:3d}\".format(num,value,num*value)"
   ]
  },
  {
   "cell_type": "code",
   "execution_count": 46,
   "metadata": {},
   "outputs": [
    {
     "name": "stdout",
     "output_type": "stream",
     "text": [
      " 2 *  1 =   2\n",
      " 2 *  2 =   4\n",
      " 2 *  3 =   6\n",
      " 2 *  4 =   8\n",
      " 2 *  5 =  10\n",
      " 2 *  6 =  12\n",
      " 2 *  7 =  14\n",
      " 2 *  8 =  16\n",
      " 2 *  9 =  18\n",
      " 2 * 10 =  20\n"
     ]
    }
   ],
   "source": [
    "tables(2)"
   ]
  },
  {
   "cell_type": "code",
   "execution_count": 47,
   "metadata": {},
   "outputs": [
    {
     "name": "stdout",
     "output_type": "stream",
     "text": [
      " 2 *  1 =   2\n",
      " 2 *  2 =   4\n",
      " 2 *  3 =   6\n",
      " 2 *  4 =   8\n",
      " 2 *  5 =  10\n"
     ]
    }
   ],
   "source": [
    "tables(2,5)"
   ]
  },
  {
   "cell_type": "code",
   "execution_count": 49,
   "metadata": {},
   "outputs": [],
   "source": [
    "# http://cache.filehippo.com/img/ex/1125__putty1.png\n",
    "def putty(hostname,port=22):\n",
    "    pass"
   ]
  },
  {
   "cell_type": "code",
   "execution_count": 50,
   "metadata": {},
   "outputs": [],
   "source": [
    "# putty(www.google.com) # port 22\n",
    "# putty(www.google.com,23) # port 23"
   ]
  },
  {
   "cell_type": "code",
   "execution_count": 51,
   "metadata": {},
   "outputs": [],
   "source": [
    "# *,**,*args,**kwargs"
   ]
  },
  {
   "cell_type": "code",
   "execution_count": 52,
   "metadata": {},
   "outputs": [],
   "source": [
    "# *\n",
    "def my_add(a,b):\n",
    "    return a + b"
   ]
  },
  {
   "cell_type": "code",
   "execution_count": 53,
   "metadata": {},
   "outputs": [
    {
     "name": "stdout",
     "output_type": "stream",
     "text": [
      "30\n"
     ]
    }
   ],
   "source": [
    "print my_add(10,20)"
   ]
  },
  {
   "cell_type": "code",
   "execution_count": 4,
   "metadata": {},
   "outputs": [
    {
     "ename": "TypeError",
     "evalue": "my_add() takes exactly 2 arguments (1 given)",
     "output_type": "error",
     "traceback": [
      "\u001b[0;31m---------------------------------------------------------------------------\u001b[0m",
      "\u001b[0;31mTypeError\u001b[0m                                 Traceback (most recent call last)",
      "\u001b[0;32m<ipython-input-4-7729f18c52c7>\u001b[0m in \u001b[0;36m<module>\u001b[0;34m()\u001b[0m\n\u001b[1;32m      4\u001b[0m \u001b[0;31m# b = my_values[1]\u001b[0m\u001b[0;34m\u001b[0m\u001b[0;34m\u001b[0m\u001b[0m\n\u001b[1;32m      5\u001b[0m \u001b[0;34m\u001b[0m\u001b[0m\n\u001b[0;32m----> 6\u001b[0;31m \u001b[0;32mprint\u001b[0m \u001b[0mmy_add\u001b[0m\u001b[0;34m(\u001b[0m\u001b[0mmy_values\u001b[0m\u001b[0;34m)\u001b[0m\u001b[0;34m\u001b[0m\u001b[0m\n\u001b[0m",
      "\u001b[0;31mTypeError\u001b[0m: my_add() takes exactly 2 arguments (1 given)"
     ]
    }
   ],
   "source": [
    "my_values = [200,300]\n",
    "my_values2 = [300,600,800]\n",
    "# a = my_values[0]\n",
    "# b = my_values[1]\n",
    "\n",
    "print my_add(my_values)\n"
   ]
  },
  {
   "cell_type": "code",
   "execution_count": 55,
   "metadata": {},
   "outputs": [
    {
     "name": "stdout",
     "output_type": "stream",
     "text": [
      "500\n"
     ]
    }
   ],
   "source": [
    "print my_add(*my_values)"
   ]
  },
  {
   "cell_type": "code",
   "execution_count": 57,
   "metadata": {},
   "outputs": [
    {
     "ename": "TypeError",
     "evalue": "my_add() takes exactly 2 arguments (3 given)",
     "output_type": "error",
     "traceback": [
      "\u001b[0;31m---------------------------------------------------------------------------\u001b[0m",
      "\u001b[0;31mTypeError\u001b[0m                                 Traceback (most recent call last)",
      "\u001b[0;32m<ipython-input-57-1f235df59f30>\u001b[0m in \u001b[0;36m<module>\u001b[0;34m()\u001b[0m\n\u001b[0;32m----> 1\u001b[0;31m \u001b[0;32mprint\u001b[0m \u001b[0mmy_add\u001b[0m\u001b[0;34m(\u001b[0m\u001b[0;34m*\u001b[0m\u001b[0mmy_values2\u001b[0m\u001b[0;34m)\u001b[0m\u001b[0;34m\u001b[0m\u001b[0m\n\u001b[0m",
      "\u001b[0;31mTypeError\u001b[0m: my_add() takes exactly 2 arguments (3 given)"
     ]
    }
   ],
   "source": [
    "print my_add(*my_values2)"
   ]
  },
  {
   "cell_type": "code",
   "execution_count": 6,
   "metadata": {},
   "outputs": [
    {
     "name": "stdout",
     "output_type": "stream",
     "text": [
      "900\n"
     ]
    }
   ],
   "source": [
    "print my_add(*my_values2[0:2])"
   ]
  },
  {
   "cell_type": "code",
   "execution_count": 1,
   "metadata": {},
   "outputs": [],
   "source": [
    "# **\n",
    "def my_add(a,b):\n",
    "    return a + b"
   ]
  },
  {
   "cell_type": "code",
   "execution_count": 8,
   "metadata": {},
   "outputs": [],
   "source": [
    "my_values = {'a':10,'b':20}\n",
    "my_values2 = {'a':20,'c':50}"
   ]
  },
  {
   "cell_type": "code",
   "execution_count": 9,
   "metadata": {},
   "outputs": [
    {
     "name": "stdout",
     "output_type": "stream",
     "text": [
      "30\n"
     ]
    },
    {
     "ename": "TypeError",
     "evalue": "my_add() got an unexpected keyword argument 'c'",
     "output_type": "error",
     "traceback": [
      "\u001b[0;31m---------------------------------------------------------------------------\u001b[0m",
      "\u001b[0;31mTypeError\u001b[0m                                 Traceback (most recent call last)",
      "\u001b[0;32m<ipython-input-9-95bb97ea460a>\u001b[0m in \u001b[0;36m<module>\u001b[0;34m()\u001b[0m\n\u001b[1;32m      1\u001b[0m \u001b[0;32mprint\u001b[0m \u001b[0mmy_add\u001b[0m\u001b[0;34m(\u001b[0m\u001b[0;34m**\u001b[0m\u001b[0mmy_values\u001b[0m\u001b[0;34m)\u001b[0m\u001b[0;34m\u001b[0m\u001b[0m\n\u001b[0;32m----> 2\u001b[0;31m \u001b[0;32mprint\u001b[0m \u001b[0mmy_add\u001b[0m\u001b[0;34m(\u001b[0m\u001b[0;34m**\u001b[0m\u001b[0mmy_values2\u001b[0m\u001b[0;34m)\u001b[0m\u001b[0;34m\u001b[0m\u001b[0m\n\u001b[0m",
      "\u001b[0;31mTypeError\u001b[0m: my_add() got an unexpected keyword argument 'c'"
     ]
    }
   ],
   "source": [
    "print my_add(**my_values)\n",
    "print my_add(**my_values2)"
   ]
  },
  {
   "cell_type": "code",
   "execution_count": 15,
   "metadata": {},
   "outputs": [
    {
     "name": "stdout",
     "output_type": "stream",
     "text": [
      "Help on built-in function max in module __builtin__:\n",
      "\n",
      "max(...)\n",
      "    max(iterable[, key=func]) -> value\n",
      "    max(a, b, c, ...[, key=func]) -> value\n",
      "    \n",
      "    With a single iterable argument, return its largest item.\n",
      "    With two or more arguments, return the largest argument.\n",
      "\n",
      "None\n",
      "33\n",
      "0\n",
      "-21\n"
     ]
    }
   ],
   "source": [
    "# *args\n",
    "\n",
    "print help(max)\n",
    "print max(22,33)\n",
    "print max(-1,0,-4)\n",
    "print max(-22,-33,-45,-55,-21)"
   ]
  },
  {
   "cell_type": "code",
   "execution_count": 17,
   "metadata": {},
   "outputs": [
    {
     "name": "stdout",
     "output_type": "stream",
     "text": [
      "(22, 33)\n",
      "(-1, 0, -4)\n",
      "(-22, -33, -45, -55, -21)\n"
     ]
    }
   ],
   "source": [
    "# args return a tuple.\n",
    "def gmax(*args):\n",
    "    return args\n",
    "    \n",
    "print gmax(22,33)\n",
    "print gmax(-1,0,-4)\n",
    "print gmax(-22,-33,-45,-55,-21)"
   ]
  },
  {
   "cell_type": "code",
   "execution_count": 20,
   "metadata": {},
   "outputs": [
    {
     "name": "stdout",
     "output_type": "stream",
     "text": [
      "33\n",
      "0\n",
      "-21\n"
     ]
    }
   ],
   "source": [
    "def gmax(*args):\n",
    "    big = args[0]\n",
    "    for value in args:\n",
    "        if value > big:\n",
    "            big = value\n",
    "    return big\n",
    "\n",
    "print gmax(22,33)\n",
    "print gmax(-1,0,-4)\n",
    "print gmax(-22,-33,-45,-55,-21)"
   ]
  },
  {
   "cell_type": "code",
   "execution_count": 21,
   "metadata": {},
   "outputs": [
    {
     "name": "stdout",
     "output_type": "stream",
     "text": [
      "{'gender': 'm', 'name': 'kumar'}\n",
      "{'name': 'kumar', 'maiden': 'vijaya'}\n",
      "{'loc': 'hyd', 'name': 'kumar', 'gender': 'm'}\n"
     ]
    }
   ],
   "source": [
    "# **kwargs\n",
    "# kwargs returns a dictionary.\n",
    "\n",
    "def callme(**kwargs):\n",
    "    return kwargs\n",
    "\n",
    "print callme(name='kumar',gender='m')\n",
    "print callme(name='kumar',maiden='vijaya')\n",
    "print callme(loc='hyd',name='kumar',gender='m')"
   ]
  },
  {
   "cell_type": "code",
   "execution_count": 27,
   "metadata": {},
   "outputs": [
    {
     "name": "stdout",
     "output_type": "stream",
     "text": [
      "my name is kumar\n",
      "my gender is m\n",
      "Thank you\n",
      "my name is kumar\n",
      "my maiden name is vijaya\n",
      "Thank you\n",
      "my name is kumar\n",
      "my gender is m\n",
      "my location is hyd\n",
      "Thank you\n"
     ]
    }
   ],
   "source": [
    "def callme(**kwargs):\n",
    "        if 'name' in kwargs:\n",
    "            print \"my name is {}\".format(kwargs['name'])\n",
    "        if 'gender' in kwargs:\n",
    "            print \"my gender is {}\".format(kwargs['gender'])\n",
    "        if 'loc' in kwargs:\n",
    "            print 'my location is {}'.format(kwargs['loc'])\n",
    "        if 'maiden' in kwargs:\n",
    "            print \"my maiden name is {}\".format(kwargs['maiden'])\n",
    "        return \"Thank you\"\n",
    "            \n",
    "print callme(name='kumar',gender='m')\n",
    "print callme(name='kumar',maiden='vijaya')\n",
    "print callme(loc='hyd',name='kumar',gender='m')"
   ]
  },
  {
   "cell_type": "code",
   "execution_count": 28,
   "metadata": {},
   "outputs": [],
   "source": [
    "# function within functions\n",
    "# function lower is getting called during the runtime of function upper.\n",
    "# "
   ]
  },
  {
   "cell_type": "code",
   "execution_count": 32,
   "metadata": {},
   "outputs": [
    {
     "name": "stdout",
     "output_type": "stream",
     "text": [
      "1\n"
     ]
    }
   ],
   "source": [
    "def upper():\n",
    "    x = 1       #local to upper,global to lower\n",
    "    def lower(): # local to upper\n",
    "        return x\n",
    "    return lower()\n",
    "    \n",
    "print upper() # 1\n",
    "        "
   ]
  },
  {
   "cell_type": "code",
   "execution_count": 38,
   "metadata": {},
   "outputs": [
    {
     "name": "stdout",
     "output_type": "stream",
     "text": [
      "1\n"
     ]
    }
   ],
   "source": [
    "def upper():\n",
    "    x = 1       #local to upper,global to lower\n",
    "    def lower(): # local to upper\n",
    "        return x\n",
    "    return lower()\n",
    "\n",
    "foo = upper()\n",
    "print foo"
   ]
  },
  {
   "cell_type": "code",
   "execution_count": 33,
   "metadata": {},
   "outputs": [
    {
     "ename": "NameError",
     "evalue": "name 'lower' is not defined",
     "output_type": "error",
     "traceback": [
      "\u001b[0;31m---------------------------------------------------------------------------\u001b[0m",
      "\u001b[0;31mNameError\u001b[0m                                 Traceback (most recent call last)",
      "\u001b[0;32m<ipython-input-33-20045edbe1b3>\u001b[0m in \u001b[0;36m<module>\u001b[0;34m()\u001b[0m\n\u001b[1;32m      1\u001b[0m \u001b[0;31m# lower is defined withing the upper function.\u001b[0m\u001b[0;34m\u001b[0m\u001b[0;34m\u001b[0m\u001b[0m\n\u001b[0;32m----> 2\u001b[0;31m \u001b[0;32mprint\u001b[0m \u001b[0mlower\u001b[0m\u001b[0;34m(\u001b[0m\u001b[0;34m)\u001b[0m\u001b[0;34m\u001b[0m\u001b[0m\n\u001b[0m",
      "\u001b[0;31mNameError\u001b[0m: name 'lower' is not defined"
     ]
    }
   ],
   "source": [
    "# lower is defined withing the upper function.\n",
    "print lower()"
   ]
  },
  {
   "cell_type": "code",
   "execution_count": 34,
   "metadata": {},
   "outputs": [],
   "source": [
    "# ex:fibonacci series in python"
   ]
  },
  {
   "cell_type": "code",
   "execution_count": 35,
   "metadata": {},
   "outputs": [
    {
     "name": "stdout",
     "output_type": "stream",
     "text": [
      "<type 'function'>\n",
      "<function my_new at 0x7f94210df398>\n",
      "None\n"
     ]
    }
   ],
   "source": [
    "def my_new():\n",
    "    pass\n",
    "\n",
    "print type(my_new)\n",
    "print my_new    # address of the function\n",
    "print my_new()  # calling my function"
   ]
  },
  {
   "cell_type": "code",
   "execution_count": 36,
   "metadata": {},
   "outputs": [
    {
     "name": "stdout",
     "output_type": "stream",
     "text": [
      "<function lower at 0x7f942995dc08> <type 'function'>\n"
     ]
    }
   ],
   "source": [
    "# function closures\n",
    "# the variables(local/global) available during the defination of a function\n",
    "# will be available even if we call them away from run time.\n",
    "\n",
    "def upper():\n",
    "    x = 1       #local to upper,global to lower\n",
    "    def lower(): # local to upper\n",
    "        return x\n",
    "    return lower  # address of the lower.\n",
    "    \n",
    "# use case\n",
    "\n",
    "foo = upper()\n",
    "'''\n",
    "    def lower(): # local to upper\n",
    "        return x\n",
    "'''\n",
    "print foo,type(foo)\n",
    "        "
   ]
  },
  {
   "cell_type": "code",
   "execution_count": 37,
   "metadata": {},
   "outputs": [
    {
     "name": "stdout",
     "output_type": "stream",
     "text": [
      "1\n"
     ]
    }
   ],
   "source": [
    "print foo() "
   ]
  },
  {
   "cell_type": "code",
   "execution_count": 39,
   "metadata": {},
   "outputs": [],
   "source": [
    "# map,filter,lambda"
   ]
  },
  {
   "cell_type": "code",
   "execution_count": 40,
   "metadata": {},
   "outputs": [
    {
     "name": "stdout",
     "output_type": "stream",
     "text": [
      "Help on built-in function map in module __builtin__:\n",
      "\n",
      "map(...)\n",
      "    map(function, sequence[, sequence, ...]) -> list\n",
      "    \n",
      "    Return a list of the results of applying the function to the items of\n",
      "    the argument sequence(s).  If more than one sequence is given, the\n",
      "    function is called with an argument list consisting of the corresponding\n",
      "    item of each sequence, substituting None for missing values when not all\n",
      "    sequences have the same length.  If the function is None, return a list of\n",
      "    the items of the sequence (or a list of tuples if more than one sequence).\n",
      "\n",
      "None\n"
     ]
    }
   ],
   "source": [
    "print help(map)"
   ]
  },
  {
   "cell_type": "code",
   "execution_count": 41,
   "metadata": {},
   "outputs": [],
   "source": [
    "def my_square(a):\n",
    "    return a * a\n"
   ]
  },
  {
   "cell_type": "code",
   "execution_count": 42,
   "metadata": {},
   "outputs": [
    {
     "name": "stdout",
     "output_type": "stream",
     "text": [
      "144\n"
     ]
    }
   ],
   "source": [
    "print my_square(12)"
   ]
  },
  {
   "cell_type": "code",
   "execution_count": 44,
   "metadata": {},
   "outputs": [
    {
     "name": "stdout",
     "output_type": "stream",
     "text": [
      "[1, 9, 25, 49, 81]\n"
     ]
    }
   ],
   "source": [
    "print map(my_square,range(1,10,2))"
   ]
  },
  {
   "cell_type": "code",
   "execution_count": 45,
   "metadata": {},
   "outputs": [
    {
     "name": "stdout",
     "output_type": "stream",
     "text": [
      "Help on built-in function filter in module __builtin__:\n",
      "\n",
      "filter(...)\n",
      "    filter(function or None, sequence) -> list, tuple, or string\n",
      "    \n",
      "    Return those items of sequence for which function(item) is true.  If\n",
      "    function is None, return the items that are true.  If sequence is a tuple\n",
      "    or string, return the same type, else return a list.\n",
      "\n",
      "None\n"
     ]
    }
   ],
   "source": [
    "# filter\n",
    "print help(filter)"
   ]
  },
  {
   "cell_type": "code",
   "execution_count": 47,
   "metadata": {},
   "outputs": [
    {
     "name": "stdout",
     "output_type": "stream",
     "text": [
      "even\n",
      "None\n"
     ]
    }
   ],
   "source": [
    "def my_even(a):\n",
    "    if a % 2 == 0:\n",
    "        return 'even'\n",
    "    \n",
    "print my_even(10) # truth of a function,valid output.\n",
    "print my_even(9)  # false of a function,not valid output"
   ]
  },
  {
   "cell_type": "code",
   "execution_count": 48,
   "metadata": {},
   "outputs": [
    {
     "name": "stdout",
     "output_type": "stream",
     "text": [
      "[2, 4, 6, 8, 10]\n"
     ]
    }
   ],
   "source": [
    "print filter(my_even,range(1,11))"
   ]
  },
  {
   "cell_type": "code",
   "execution_count": 50,
   "metadata": {},
   "outputs": [
    {
     "name": "stdout",
     "output_type": "stream",
     "text": [
      "[1, 9, 25, 49, 81]\n",
      "[1, 3, 5, 7, 9]\n",
      "[2, 4, 6, 8, 10]\n",
      "[None, 'even', None, 'even', None, 'even', None, 'even', None, 'even']\n"
     ]
    }
   ],
   "source": [
    "# use cases\n",
    "print map(my_square,range(1,10,2))\n",
    "print filter(my_square,range(1,10,2)) # None\n",
    "print filter(my_even,range(1,11))\n",
    "print map(my_even,range(1,11)) # ['none','even',...10times]"
   ]
  },
  {
   "cell_type": "code",
   "execution_count": 52,
   "metadata": {},
   "outputs": [
    {
     "name": "stdout",
     "output_type": "stream",
     "text": [
      "[1, 9, 25, 49, 81]\n",
      "[2, 4, 6, 8, 10]\n"
     ]
    }
   ],
   "source": [
    "# lambda\n",
    "# nameless functions\n",
    "'''\n",
    "def my_even(a):\n",
    "    if a % 2 == 0:\n",
    "        return 'even'\n",
    "\n",
    "def my_square(a):\n",
    "    return a * a\n",
    "'''\n",
    "\n",
    "#print map(my_square,range(1,10,2))\n",
    "print map(lambda a:a*a,range(1,10,2))\n",
    "#print filter(my_even,range(1,11))\n",
    "print filter(lambda a:a%2==0,range(1,11))"
   ]
  },
  {
   "cell_type": "code",
   "execution_count": null,
   "metadata": {},
   "outputs": [],
   "source": [
    "Reference: https://github.com/zhiwehu/Python-programming-exercises/blob/master/100%2B%20Python%20challenging%20programming%20exercises.txt"
   ]
  }
 ],
 "metadata": {
  "kernelspec": {
   "display_name": "Python 2",
   "language": "python",
   "name": "python2"
  },
  "language_info": {
   "codemirror_mode": {
    "name": "ipython",
    "version": 2
   },
   "file_extension": ".py",
   "mimetype": "text/x-python",
   "name": "python",
   "nbconvert_exporter": "python",
   "pygments_lexer": "ipython2",
   "version": "2.7.12+"
  }
 },
 "nbformat": 4,
 "nbformat_minor": 2
}
