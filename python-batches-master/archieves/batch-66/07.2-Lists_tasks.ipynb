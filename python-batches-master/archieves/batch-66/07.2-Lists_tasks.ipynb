{
 "cells": [
  {
   "cell_type": "code",
   "execution_count": 1,
   "metadata": {},
   "outputs": [],
   "source": [
    "days = ['yesterday','today','tomorrow','dayafter']"
   ]
  },
  {
   "cell_type": "code",
   "execution_count": 2,
   "metadata": {},
   "outputs": [
    {
     "name": "stdout",
     "output_type": "stream",
     "text": [
      "yesterday 9\n",
      "today 5\n",
      "tomorrow 8\n",
      "dayafter 8\n"
     ]
    }
   ],
   "source": [
    "# task1\n",
    "for value in days:\n",
    "    print value,len(value)"
   ]
  },
  {
   "cell_type": "code",
   "execution_count": 4,
   "metadata": {},
   "outputs": [
    {
     "name": "stdout",
     "output_type": "stream",
     "text": [
      "yesterday 0\n",
      "today 1\n",
      "tomorrow 2\n",
      "dayafter 3\n"
     ]
    }
   ],
   "source": [
    "# task2\n",
    "for value in days:\n",
    "    print value,days.index(value)"
   ]
  },
  {
   "cell_type": "code",
   "execution_count": 5,
   "metadata": {},
   "outputs": [
    {
     "name": "stdout",
     "output_type": "stream",
     "text": [
      "yesterday 0 y\n",
      "today 1 o\n",
      "tomorrow 2 m\n",
      "dayafter 3 a\n"
     ]
    }
   ],
   "source": [
    "for value in days:\n",
    "    print value,days.index(value),value[days.index(value)]"
   ]
  },
  {
   "cell_type": "code",
   "execution_count": 7,
   "metadata": {},
   "outputs": [
    {
     "name": "stdout",
     "output_type": "stream",
     "text": [
      "yesterday 0 y\n",
      "today 1 to\n",
      "tomorrow 2 tom\n",
      "dayafter 3 daya\n"
     ]
    }
   ],
   "source": [
    "for value in days:\n",
    "    print value,days.index(value),value[0:days.index(value) + 1]"
   ]
  },
  {
   "cell_type": "code",
   "execution_count": 8,
   "metadata": {},
   "outputs": [
    {
     "name": "stdout",
     "output_type": "stream",
     "text": [
      "pyt\n",
      "pyt\n",
      "hon\n",
      "python\n"
     ]
    }
   ],
   "source": [
    "# my_string\n",
    "my_string=\"python\"\n",
    "print my_string[0:3] # pyt\n",
    "print my_string[:3] # pyt\n",
    "print my_string[3:] # hon\n",
    "print my_string[:3] + my_string[3:]"
   ]
  },
  {
   "cell_type": "code",
   "execution_count": 10,
   "metadata": {},
   "outputs": [
    {
     "name": "stdout",
     "output_type": "stream",
     "text": [
      "Yesterday\n",
      "TOday\n",
      "TOMorrow\n",
      "DAYAfter\n"
     ]
    }
   ],
   "source": [
    "for value in days:\n",
    "    print value[:days.index(value) + 1].upper() + value[days.index(value) + 1:]"
   ]
  },
  {
   "cell_type": "code",
   "execution_count": 4,
   "metadata": {},
   "outputs": [
    {
     "name": "stdout",
     "output_type": "stream",
     "text": [
      "looking into value - apple\n",
      "looking into value - banana\n",
      "looking into value - banana\n",
      "looking into value - apple\n",
      "['banana', 'cherry', 'apple']\n",
      "['apple', 'banana']\n"
     ]
    }
   ],
   "source": [
    "# task2\n",
    "my_fruits = ['apple','apple','banana','banana','banana','cherry','apple']\n",
    "# my_fruits = ['apple','banana','cherry']\n",
    "# my_dupli = ['apple','banana']\n",
    "\n",
    "my_dupli=[]\n",
    "for value in my_fruits:\n",
    "    print \"looking into value - {}\".format(value)\n",
    "    if my_fruits.count(value) > 1:\n",
    "        if not value in my_dupli:\n",
    "            my_dupli.append(value)\n",
    "        my_fruits.remove(value)\n",
    "        \n",
    "print my_fruits\n",
    "print my_dupli"
   ]
  },
  {
   "cell_type": "code",
   "execution_count": 5,
   "metadata": {},
   "outputs": [
    {
     "name": "stdout",
     "output_type": "stream",
     "text": [
      "['apple', 'banana', 'cherry'] ['apple', 'banana', 'cherry']\n",
      "False\n"
     ]
    }
   ],
   "source": [
    "# deep copy\n",
    "my_fruits =['apple','banana','cherry']\n",
    "my_new = my_fruits[:]\n",
    "print my_fruits,my_new\n",
    "print my_fruits is my_new"
   ]
  },
  {
   "cell_type": "code",
   "execution_count": 6,
   "metadata": {},
   "outputs": [
    {
     "name": "stdout",
     "output_type": "stream",
     "text": [
      "['apple', 'banana', 'cherry'] ['apple', 'banana', 'cherry']\n",
      "False\n"
     ]
    }
   ],
   "source": [
    "import copy\n",
    "my_fruits =['apple','banana','cherry']\n",
    "my_new = copy.deepcopy(my_fruits)\n",
    "print my_fruits,my_new\n",
    "print my_fruits is my_new"
   ]
  },
  {
   "cell_type": "code",
   "execution_count": 7,
   "metadata": {},
   "outputs": [
    {
     "name": "stdout",
     "output_type": "stream",
     "text": [
      "['apple', 'banana', 'cherry'] ['apple', 'banana', 'cherry']\n",
      "True\n"
     ]
    }
   ],
   "source": [
    "# soft copy\n",
    "my_fruits =['apple','banana','cherry']\n",
    "my_new = my_fruits\n",
    "print my_fruits,my_new\n",
    "print my_fruits is my_new"
   ]
  },
  {
   "cell_type": "code",
   "execution_count": null,
   "metadata": {},
   "outputs": [],
   "source": []
  }
 ],
 "metadata": {
  "kernelspec": {
   "display_name": "Python 2",
   "language": "python",
   "name": "python2"
  },
  "language_info": {
   "codemirror_mode": {
    "name": "ipython",
    "version": 2
   },
   "file_extension": ".py",
   "mimetype": "text/x-python",
   "name": "python",
   "nbconvert_exporter": "python",
   "pygments_lexer": "ipython2",
   "version": "2.7.12+"
  }
 },
 "nbformat": 4,
 "nbformat_minor": 2
}
