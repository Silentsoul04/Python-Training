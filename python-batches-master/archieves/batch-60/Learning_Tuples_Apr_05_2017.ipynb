{
 "cells": [
  {
   "cell_type": "code",
   "execution_count": null,
   "metadata": {
    "collapsed": true
   },
   "outputs": [],
   "source": [
    "# tuples\n",
    "# tuples are readonly representation of a list."
   ]
  },
  {
   "cell_type": "code",
   "execution_count": 16,
   "metadata": {
    "collapsed": false
   },
   "outputs": [
    {
     "name": "stdout",
     "output_type": "stream",
     "text": [
      "('sun', 'mon', 'tue', 'wed', 'thu', 'fri', 'sat') <type 'tuple'>\n"
     ]
    }
   ],
   "source": [
    "weeks = ('sun','mon','tue','wed','thu','fri','sat')\n",
    "print weeks,type(weeks)"
   ]
  },
  {
   "cell_type": "code",
   "execution_count": 2,
   "metadata": {
    "collapsed": false
   },
   "outputs": [
    {
     "name": "stdout",
     "output_type": "stream",
     "text": [
      "() <type 'tuple'>\n"
     ]
    }
   ],
   "source": [
    "empty_tuple = tuple()\n",
    "print empty_tuple,type(empty_tuple)"
   ]
  },
  {
   "cell_type": "code",
   "execution_count": 3,
   "metadata": {
    "collapsed": false
   },
   "outputs": [
    {
     "name": "stdout",
     "output_type": "stream",
     "text": [
      "() <type 'tuple'>\n"
     ]
    }
   ],
   "source": [
    "empty_tuple = ()\n",
    "print empty_tuple,type(empty_tuple)"
   ]
  },
  {
   "cell_type": "code",
   "execution_count": 4,
   "metadata": {
    "collapsed": true
   },
   "outputs": [],
   "source": [
    "# support iteration\n",
    "# indexing,slicing"
   ]
  },
  {
   "cell_type": "code",
   "execution_count": null,
   "metadata": {
    "collapsed": true
   },
   "outputs": [],
   "source": [
    "# packing and unpacking\n",
    "# any list or tuple with values inside it is called a package.\n",
    "# "
   ]
  },
  {
   "cell_type": "code",
   "execution_count": 5,
   "metadata": {
    "collapsed": false
   },
   "outputs": [
    {
     "name": "stdout",
     "output_type": "stream",
     "text": [
      "sun mon tue wed thu fri sat\n"
     ]
    }
   ],
   "source": [
    "# p = weeks[0]\n",
    "p,q,r,s,t,u,v = weeks\n",
    "print p,q,r,s,t,u,v"
   ]
  },
  {
   "cell_type": "code",
   "execution_count": 6,
   "metadata": {
    "collapsed": false
   },
   "outputs": [
    {
     "ename": "ValueError",
     "evalue": "too many values to unpack",
     "output_type": "error",
     "traceback": [
      "\u001b[0;31m---------------------------------------------------------------------------\u001b[0m",
      "\u001b[0;31mValueError\u001b[0m                                Traceback (most recent call last)",
      "\u001b[0;32m<ipython-input-6-53aa8c17f2b9>\u001b[0m in \u001b[0;36m<module>\u001b[0;34m()\u001b[0m\n\u001b[1;32m      1\u001b[0m \u001b[0;31m# RHS != LHS\u001b[0m\u001b[0;34m\u001b[0m\u001b[0;34m\u001b[0m\u001b[0m\n\u001b[0;32m----> 2\u001b[0;31m \u001b[0mp\u001b[0m\u001b[0;34m,\u001b[0m\u001b[0mq\u001b[0m\u001b[0;34m,\u001b[0m\u001b[0mr\u001b[0m\u001b[0;34m,\u001b[0m\u001b[0ms\u001b[0m\u001b[0;34m,\u001b[0m\u001b[0mt\u001b[0m\u001b[0;34m,\u001b[0m\u001b[0mu\u001b[0m \u001b[0;34m=\u001b[0m \u001b[0mweeks\u001b[0m\u001b[0;34m\u001b[0m\u001b[0m\n\u001b[0m",
      "\u001b[0;31mValueError\u001b[0m: too many values to unpack"
     ]
    }
   ],
   "source": [
    "# LHS != RHS\n",
    "p,q,r,s,t,u = weeks"
   ]
  },
  {
   "cell_type": "code",
   "execution_count": 7,
   "metadata": {
    "collapsed": false
   },
   "outputs": [
    {
     "ename": "ValueError",
     "evalue": "need more than 7 values to unpack",
     "output_type": "error",
     "traceback": [
      "\u001b[0;31m---------------------------------------------------------------------------\u001b[0m",
      "\u001b[0;31mValueError\u001b[0m                                Traceback (most recent call last)",
      "\u001b[0;32m<ipython-input-7-17ad5318d731>\u001b[0m in \u001b[0;36m<module>\u001b[0;34m()\u001b[0m\n\u001b[0;32m----> 1\u001b[0;31m \u001b[0mp\u001b[0m\u001b[0;34m,\u001b[0m\u001b[0mq\u001b[0m\u001b[0;34m,\u001b[0m\u001b[0mr\u001b[0m\u001b[0;34m,\u001b[0m\u001b[0ms\u001b[0m\u001b[0;34m,\u001b[0m\u001b[0mt\u001b[0m\u001b[0;34m,\u001b[0m\u001b[0mu\u001b[0m\u001b[0;34m,\u001b[0m\u001b[0mv\u001b[0m\u001b[0;34m,\u001b[0m\u001b[0mw\u001b[0m \u001b[0;34m=\u001b[0m \u001b[0mweeks\u001b[0m\u001b[0;34m\u001b[0m\u001b[0m\n\u001b[0m",
      "\u001b[0;31mValueError\u001b[0m: need more than 7 values to unpack"
     ]
    }
   ],
   "source": [
    "p,q,r,s,t,u,v,w = weeks"
   ]
  },
  {
   "cell_type": "code",
   "execution_count": 8,
   "metadata": {
    "collapsed": true
   },
   "outputs": [],
   "source": [
    "# list and tuples\n",
    "students = ['khiri','ajay','ajas','arun','venkat','rahul']\n",
    "subject = ['python','django','puppet','chef','ajax','flask']"
   ]
  },
  {
   "cell_type": "code",
   "execution_count": 9,
   "metadata": {
    "collapsed": false
   },
   "outputs": [
    {
     "name": "stdout",
     "output_type": "stream",
     "text": [
      "True\n"
     ]
    }
   ],
   "source": [
    "name='venkat'\n",
    "print name in students"
   ]
  },
  {
   "cell_type": "code",
   "execution_count": 11,
   "metadata": {
    "collapsed": false
   },
   "outputs": [
    {
     "name": "stdout",
     "output_type": "stream",
     "text": [
      "4\n",
      "ajax\n"
     ]
    }
   ],
   "source": [
    "# rollno/index of venkat\n",
    "print students.index(name)\n",
    "print subject[students.index(name)]"
   ]
  },
  {
   "cell_type": "code",
   "execution_count": 15,
   "metadata": {
    "collapsed": false
   },
   "outputs": [
    {
     "name": "stdout",
     "output_type": "stream",
     "text": [
      "please enter the name of the student:venkat\n",
      "venkat is going to give the exam ajax\n"
     ]
    }
   ],
   "source": [
    "# program\n",
    "name = raw_input(\"please enter the name of the student:\")\n",
    "if name in students:\n",
    "    print \"{} is going to give the exam {}\".format(name,subject[students.index(name)])\n",
    "else:\n",
    "    print \"{} is not in the list\".format(name)"
   ]
  },
  {
   "cell_type": "code",
   "execution_count": 16,
   "metadata": {
    "collapsed": false
   },
   "outputs": [
    {
     "name": "stdout",
     "output_type": "stream",
     "text": [
      "['ajas', 'ajay', 'arun', 'khiri', 'rahul', 'venkat']\n"
     ]
    }
   ],
   "source": [
    "# sort\n",
    "students.sort()\n",
    "print students"
   ]
  },
  {
   "cell_type": "code",
   "execution_count": 18,
   "metadata": {
    "collapsed": false
   },
   "outputs": [
    {
     "name": "stdout",
     "output_type": "stream",
     "text": [
      "['python', 'django', 'puppet', 'chef', 'ajax', 'flask']\n"
     ]
    }
   ],
   "source": [
    "print subject"
   ]
  },
  {
   "cell_type": "code",
   "execution_count": 19,
   "metadata": {
    "collapsed": false
   },
   "outputs": [
    {
     "name": "stdout",
     "output_type": "stream",
     "text": [
      "please enter the name of the student:venkat\n",
      "venkat is going to give the exam flask\n"
     ]
    }
   ],
   "source": [
    "# program\n",
    "name = raw_input(\"please enter the name of the student:\")\n",
    "if name in students:\n",
    "    print \"{} is going to give the exam {}\".format(name,subject[students.index(name)])\n",
    "else:\n",
    "    print \"{} is not in the list\".format(name)"
   ]
  },
  {
   "cell_type": "code",
   "execution_count": null,
   "metadata": {
    "collapsed": true
   },
   "outputs": [],
   "source": [
    "#students = ['khiri','ajay','ajas','arun','venkat','rahul']\n",
    "#subject = ['python','django','puppet','chef','ajax','flask']"
   ]
  },
  {
   "cell_type": "code",
   "execution_count": 1,
   "metadata": {
    "collapsed": true
   },
   "outputs": [],
   "source": [
    "exams = [('khiri','python'),('ajay','django'),('ajas','puppet'),('arun','chef')]"
   ]
  },
  {
   "cell_type": "code",
   "execution_count": 2,
   "metadata": {
    "collapsed": false
   },
   "outputs": [
    {
     "name": "stdout",
     "output_type": "stream",
     "text": [
      "[('khiri', 'python'), ('ajay', 'django'), ('ajas', 'puppet'), ('arun', 'chef')]\n"
     ]
    }
   ],
   "source": [
    "print exams"
   ]
  },
  {
   "cell_type": "code",
   "execution_count": 15,
   "metadata": {
    "collapsed": false
   },
   "outputs": [
    {
     "name": "stdout",
     "output_type": "stream",
     "text": [
      "python\n",
      "('khiri', 'python') <type 'tuple'>\n",
      "[('Khiri', 'Python'), ('ajay', 'django'), ('ajas', 'puppet'), ('arun', 'chef')]\n"
     ]
    }
   ],
   "source": [
    "# task\n",
    "tasks = [('khiri', 'python'), ('ajay', 'django'), ('ajas', 'puppet'), ('arun', 'chef')]\n",
    "print tasks[0][1]\n",
    "#tasks[0][1]='Jython'\n",
    "# you get the below error as you cannot modify the elements inside a tuple.\n",
    "'''\n",
    "---------------------------------------------------------------------------\n",
    "TypeError                                 Traceback (most recent call last)\n",
    "<ipython-input-12-20ae4ae5bf82> in <module>()\n",
    "      2 tasks = [('khiri', 'python'), ('ajay', 'django'), ('ajas', 'puppet'), ('arun', 'chef')]\n",
    "      3 print tasks[0][1]\n",
    "----> 4 tasks[0][1]='Jython'\n",
    "\n",
    "TypeError: 'tuple' object does not support item assignment\n",
    "\n",
    "\n",
    "'''\n",
    "# I was able to modify as tuple is an element of a list.\n",
    "\n",
    "print tasks[0],type(tasks[0])\n",
    "tasks[0]=('Khiri','Python')\n",
    "print tasks"
   ]
  },
  {
   "cell_type": "code",
   "execution_count": 7,
   "metadata": {
    "collapsed": false
   },
   "outputs": [
    {
     "name": "stdout",
     "output_type": "stream",
     "text": [
      "please enter the student name:ajas\n",
      "ajas is going to give exam puppet\n"
     ]
    }
   ],
   "source": [
    "name = raw_input(\"please enter the student name:\")\n",
    "for student,subject in exams:\n",
    "    if student == name:\n",
    "        print \"{} is going to give exam {}\".format(student,subject)"
   ]
  },
  {
   "cell_type": "code",
   "execution_count": 8,
   "metadata": {
    "collapsed": false
   },
   "outputs": [
    {
     "name": "stdout",
     "output_type": "stream",
     "text": [
      "[('ajas', 'puppet'), ('ajay', 'django'), ('arun', 'chef'), ('khiri', 'python')]\n"
     ]
    }
   ],
   "source": [
    "# sort on top of exams\n",
    "exams.sort()\n",
    "print exams"
   ]
  },
  {
   "cell_type": "code",
   "execution_count": 9,
   "metadata": {
    "collapsed": false
   },
   "outputs": [
    {
     "name": "stdout",
     "output_type": "stream",
     "text": [
      "please enter the student name:ajas\n",
      "ajas is going to give exam puppet\n"
     ]
    }
   ],
   "source": [
    "name = raw_input(\"please enter the student name:\")\n",
    "for student,subject in exams:\n",
    "    if student == name:\n",
    "        print \"{} is going to give exam {}\".format(student,subject)"
   ]
  },
  {
   "cell_type": "code",
   "execution_count": 19,
   "metadata": {
    "collapsed": false
   },
   "outputs": [
    {
     "name": "stdout",
     "output_type": "stream",
     "text": [
      "('sun', 'mon', 'tue', 'wed', 'thu', 'fri', 'sat')\n",
      "1\n",
      "0\n"
     ]
    }
   ],
   "source": [
    "# functions\n",
    "print weeks\n",
    "print weeks.count('sun')\n",
    "print weeks.index('sun')"
   ]
  },
  {
   "cell_type": "code",
   "execution_count": null,
   "metadata": {
    "collapsed": true
   },
   "outputs": [],
   "source": []
  }
 ],
 "metadata": {
  "kernelspec": {
   "display_name": "Python 2",
   "language": "python",
   "name": "python2"
  },
  "language_info": {
   "codemirror_mode": {
    "name": "ipython",
    "version": 2
   },
   "file_extension": ".py",
   "mimetype": "text/x-python",
   "name": "python",
   "nbconvert_exporter": "python",
   "pygments_lexer": "ipython2",
   "version": "2.7.6"
  }
 },
 "nbformat": 4,
 "nbformat_minor": 1
}
