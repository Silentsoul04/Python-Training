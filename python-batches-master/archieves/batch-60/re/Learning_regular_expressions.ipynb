{
 "cells": [
  {
   "cell_type": "code",
   "execution_count": null,
   "metadata": {
    "collapsed": true
   },
   "outputs": [],
   "source": [
    "# re,regex,pattern matching.\n",
    "# references: https://docs.python.org/2/library/re.html\n",
    "# https://docs.python.org/2/howto/regex.html"
   ]
  },
  {
   "cell_type": "code",
   "execution_count": 1,
   "metadata": {
    "collapsed": true
   },
   "outputs": [],
   "source": [
    "import re"
   ]
  },
  {
   "cell_type": "code",
   "execution_count": 2,
   "metadata": {
    "collapsed": false
   },
   "outputs": [
    {
     "name": "stdout",
     "output_type": "stream",
     "text": [
      "['DEBUG', 'DOTALL', 'I', 'IGNORECASE', 'L', 'LOCALE', 'M', 'MULTILINE', 'S', 'Scanner', 'T', 'TEMPLATE', 'U', 'UNICODE', 'VERBOSE', 'X', '_MAXCACHE', '__all__', '__builtins__', '__doc__', '__file__', '__name__', '__package__', '__version__', '_alphanum', '_cache', '_cache_repl', '_compile', '_compile_repl', '_expand', '_pattern_type', '_pickle', '_subx', 'compile', 'copy_reg', 'error', 'escape', 'findall', 'finditer', 'match', 'purge', 'search', 'split', 'sre_compile', 'sre_parse', 'sub', 'subn', 'sys', 'template']\n"
     ]
    }
   ],
   "source": [
    "print dir(re)"
   ]
  },
  {
   "cell_type": "code",
   "execution_count": 3,
   "metadata": {
    "collapsed": false
   },
   "outputs": [
    {
     "name": "stdout",
     "output_type": "stream",
     "text": [
      "Help on function match in module re:\n",
      "\n",
      "match(pattern, string, flags=0)\n",
      "    Try to apply the pattern at the start of the string, returning\n",
      "    a match object, or None if no match was found.\n",
      "\n",
      "None\n"
     ]
    }
   ],
   "source": [
    "print help(re.match)"
   ]
  },
  {
   "cell_type": "code",
   "execution_count": 4,
   "metadata": {
    "collapsed": true
   },
   "outputs": [],
   "source": [
    "my_string=\"python\""
   ]
  },
  {
   "cell_type": "code",
   "execution_count": 5,
   "metadata": {
    "collapsed": false
   },
   "outputs": [
    {
     "name": "stdout",
     "output_type": "stream",
     "text": [
      "<_sre.SRE_Match object at 0x7fcac87dd6b0>\n"
     ]
    }
   ],
   "source": [
    "print re.match(\"p\",my_string)"
   ]
  },
  {
   "cell_type": "code",
   "execution_count": 6,
   "metadata": {
    "collapsed": false
   },
   "outputs": [
    {
     "name": "stdout",
     "output_type": "stream",
     "text": [
      "<_sre.SRE_Match object at 0x7fcac87dd5e0>\n",
      "None\n",
      "None\n"
     ]
    }
   ],
   "source": [
    "print re.match(\"py\",my_string) # match\n",
    "print re.match(\"pythons\",my_string) # no match\n",
    "print re.match(\"yt\",my_string) # no match"
   ]
  },
  {
   "cell_type": "code",
   "execution_count": 8,
   "metadata": {
    "collapsed": false
   },
   "outputs": [
    {
     "name": "stdout",
     "output_type": "stream",
     "text": [
      "None\n",
      "<_sre.SRE_Match object at 0x7fcac87dd578>\n"
     ]
    }
   ],
   "source": [
    "print re.match(\"Py\",my_string)\n",
    "print re.match(\"Py\",my_string,re.I)"
   ]
  },
  {
   "cell_type": "code",
   "execution_count": null,
   "metadata": {
    "collapsed": true
   },
   "outputs": [],
   "source": [
    "# search"
   ]
  },
  {
   "cell_type": "code",
   "execution_count": 9,
   "metadata": {
    "collapsed": false
   },
   "outputs": [
    {
     "name": "stdout",
     "output_type": "stream",
     "text": [
      "Help on function search in module re:\n",
      "\n",
      "search(pattern, string, flags=0)\n",
      "    Scan through string looking for a match to the pattern, returning\n",
      "    a match object, or None if no match was found.\n",
      "\n",
      "None\n"
     ]
    }
   ],
   "source": [
    "print help(re.search)"
   ]
  },
  {
   "cell_type": "code",
   "execution_count": 10,
   "metadata": {
    "collapsed": false
   },
   "outputs": [
    {
     "name": "stdout",
     "output_type": "stream",
     "text": [
      "<_sre.SRE_Match object at 0x7fcac87dd440>\n"
     ]
    }
   ],
   "source": [
    "print re.search(\"yt\",my_string)"
   ]
  },
  {
   "cell_type": "code",
   "execution_count": 11,
   "metadata": {
    "collapsed": false
   },
   "outputs": [
    {
     "name": "stdout",
     "output_type": "stream",
     "text": [
      "<_sre.SRE_Match object at 0x7fcac87dd510>\n",
      "None\n",
      "<_sre.SRE_Match object at 0x7fcac87dd510>\n",
      "<_sre.SRE_Match object at 0x7fcac87dd510>\n"
     ]
    }
   ],
   "source": [
    "# sentences\n",
    "my_sentence1 = \"python is a great language.\"\n",
    "my_sentence2 = \"one of the great languages is python.\"\n",
    "\n",
    "print re.match(\"python\",my_sentence1) # true\n",
    "print re.match(\"python\",my_sentence2) # False\n",
    "print re.search('python',my_sentence1) # true\n",
    "print re.search('python',my_sentence2) # true"
   ]
  },
  {
   "cell_type": "code",
   "execution_count": 12,
   "metadata": {
    "collapsed": false
   },
   "outputs": [
    {
     "name": "stdout",
     "output_type": "stream",
     "text": [
      "Help on function compile in module re:\n",
      "\n",
      "compile(pattern, flags=0)\n",
      "    Compile a regular expression pattern, returning a pattern object.\n",
      "\n",
      "None\n"
     ]
    }
   ],
   "source": [
    "# compile\n",
    "print help(re.compile)"
   ]
  },
  {
   "cell_type": "code",
   "execution_count": 14,
   "metadata": {
    "collapsed": false
   },
   "outputs": [
    {
     "name": "stdout",
     "output_type": "stream",
     "text": [
      "Help on built-in function match:\n",
      "\n",
      "match(...)\n",
      "    match(string[, pos[, endpos]]) --> match object or None.\n",
      "    Matches zero or more characters at the beginning of the string\n",
      "\n",
      "None\n"
     ]
    }
   ],
   "source": [
    "reg = re.compile(\"python\",re.I)\n",
    "\n",
    "print help(reg.match)"
   ]
  },
  {
   "cell_type": "code",
   "execution_count": 15,
   "metadata": {
    "collapsed": false
   },
   "outputs": [
    {
     "name": "stdout",
     "output_type": "stream",
     "text": [
      "<_sre.SRE_Match object at 0x7fcac87dd168>\n",
      "None\n",
      "<_sre.SRE_Match object at 0x7fcac87dd168>\n",
      "<_sre.SRE_Match object at 0x7fcac87dd168>\n"
     ]
    }
   ],
   "source": [
    "print reg.match(my_sentence1)  # true\n",
    "print reg.match(my_sentence2)  # False\n",
    "print reg.search(my_sentence1) # true\n",
    "print reg.search(my_sentence2) # true"
   ]
  },
  {
   "cell_type": "code",
   "execution_count": null,
   "metadata": {
    "collapsed": true
   },
   "outputs": [],
   "source": [
    "# special characters\n",
    "# ^ -> caret -> beginning of a sentence.\n",
    "# $ -> dollar -> end of a sentence.\n",
    "# . -> dot -> one character."
   ]
  },
  {
   "cell_type": "code",
   "execution_count": 16,
   "metadata": {
    "collapsed": true
   },
   "outputs": [],
   "source": [
    "# sentences\n",
    "my_sentence1 = \"python is a great language.\"\n",
    "my_sentence2 = \"one of the great languages is python.\""
   ]
  },
  {
   "cell_type": "code",
   "execution_count": 17,
   "metadata": {
    "collapsed": false
   },
   "outputs": [
    {
     "name": "stdout",
     "output_type": "stream",
     "text": [
      "<_sre.SRE_Match object at 0x7fcac87dd370>\n",
      "<_sre.SRE_Match object at 0x7fcac87dd370>\n",
      "<_sre.SRE_Match object at 0x7fcac87dd370>\n",
      "None\n"
     ]
    }
   ],
   "source": [
    "reg = re.compile('python',re.I)\n",
    "reg1 = re.compile('^python',re.I)\n",
    "print reg1.search(my_sentence1) # true\n",
    "print reg.search(my_sentence1)  # true\n",
    "print reg.search(my_sentence2)  # true\n",
    "print reg1.search(my_sentence2) # false"
   ]
  },
  {
   "cell_type": "code",
   "execution_count": 24,
   "metadata": {
    "collapsed": false
   },
   "outputs": [
    {
     "name": "stdout",
     "output_type": "stream",
     "text": [
      "<_sre.SRE_Match object at 0x7fcac87ddcc8>\n",
      "None\n",
      "<_sre.SRE_Match object at 0x7fcac87ddcc8>\n",
      "pyt\n"
     ]
    }
   ],
   "source": [
    "# dot (.)\n",
    "# . doest not repressent a \\n or \\r .\n",
    "my_string=\"python\"\n",
    "my_string1 = \"python\\n\"\n",
    "print re.match('......',my_string,re.I)\n",
    "print re.match('.......',my_string1,re.I)\n",
    "print re.match('.......',my_string1,(re.I|re.DOTALL))\n",
    "print re.match('...',my_string,re.I).group()"
   ]
  },
  {
   "cell_type": "code",
   "execution_count": 7,
   "metadata": {
    "collapsed": false
   },
   "outputs": [
    {
     "name": "stdout",
     "output_type": "stream",
     "text": [
      "khiri\n",
      "kumar\n"
     ]
    }
   ],
   "source": [
    "# example.\n",
    "import re\n",
    "\n",
    "reg = re.compile('^.....$',re.I)\n",
    "students = ['khiri','Sujani','rahulji','Ramyaji','kirankumar','kumar']\n",
    "\n",
    "for value in students:\n",
    "    if reg.match(value):\n",
    "        print reg.match(value).group()"
   ]
  },
  {
   "cell_type": "code",
   "execution_count": null,
   "metadata": {
    "collapsed": true
   },
   "outputs": [],
   "source": [
    "# globbling characters"
   ]
  },
  {
   "cell_type": "code",
   "execution_count": null,
   "metadata": {
    "collapsed": true
   },
   "outputs": [],
   "source": [
    "# * -> zero or more charactes.\n",
    "# + -> one or more characters.\n",
    "# ? -> zero or one characters."
   ]
  },
  {
   "cell_type": "code",
   "execution_count": 8,
   "metadata": {
    "collapsed": true
   },
   "outputs": [],
   "source": [
    "film1 = \"ashique\"\n",
    "film2 = \"aashique\"\n",
    "film3 = \"aaashique\"\n",
    "film4 = \"shique\""
   ]
  },
  {
   "cell_type": "code",
   "execution_count": 9,
   "metadata": {
    "collapsed": true
   },
   "outputs": [],
   "source": [
    "reg = re.compile(\"a*shique\")"
   ]
  },
  {
   "cell_type": "code",
   "execution_count": 10,
   "metadata": {
    "collapsed": false
   },
   "outputs": [
    {
     "name": "stdout",
     "output_type": "stream",
     "text": [
      "<_sre.SRE_Match object at 0x7f5003b97cc8>\n",
      "<_sre.SRE_Match object at 0x7f5003b97cc8>\n",
      "<_sre.SRE_Match object at 0x7f5003b97cc8>\n",
      "<_sre.SRE_Match object at 0x7f5003b97cc8>\n"
     ]
    }
   ],
   "source": [
    "print reg.match(film1)\n",
    "print reg.match(film2)\n",
    "print reg.match(film3)\n",
    "print reg.match(film4)"
   ]
  },
  {
   "cell_type": "code",
   "execution_count": 11,
   "metadata": {
    "collapsed": true
   },
   "outputs": [],
   "source": [
    "reg1 = re.compile(\"a+shique\")"
   ]
  },
  {
   "cell_type": "code",
   "execution_count": 12,
   "metadata": {
    "collapsed": false
   },
   "outputs": [
    {
     "name": "stdout",
     "output_type": "stream",
     "text": [
      "<_sre.SRE_Match object at 0x7f5003b97e68>\n",
      "<_sre.SRE_Match object at 0x7f5003b97e68>\n",
      "<_sre.SRE_Match object at 0x7f5003b97e68>\n",
      "None\n"
     ]
    }
   ],
   "source": [
    "print reg1.match(film1)\n",
    "print reg1.match(film2)\n",
    "print reg1.match(film3)\n",
    "print reg1.match(film4)"
   ]
  },
  {
   "cell_type": "code",
   "execution_count": 13,
   "metadata": {
    "collapsed": true
   },
   "outputs": [],
   "source": [
    "reg2 = re.compile(\"a?shique\")"
   ]
  },
  {
   "cell_type": "code",
   "execution_count": 14,
   "metadata": {
    "collapsed": false
   },
   "outputs": [
    {
     "name": "stdout",
     "output_type": "stream",
     "text": [
      "<_sre.SRE_Match object at 0x7f5003ba8168>\n",
      "None\n",
      "None\n",
      "<_sre.SRE_Match object at 0x7f5003ba8168>\n"
     ]
    }
   ],
   "source": [
    "print reg2.match(film1)\n",
    "print reg2.match(film2)\n",
    "print reg2.match(film3)\n",
    "print reg2.match(film4)"
   ]
  },
  {
   "cell_type": "code",
   "execution_count": 15,
   "metadata": {
    "collapsed": false
   },
   "outputs": [
    {
     "name": "stdout",
     "output_type": "stream",
     "text": [
      "<_sre.SRE_Match object at 0x7f5003ba82a0>\n",
      "<_sre.SRE_Match object at 0x7f5003ba82a0>\n",
      "<_sre.SRE_Match object at 0x7f5003ba82a0>\n",
      "<_sre.SRE_Match object at 0x7f5003ba82a0>\n"
     ]
    }
   ],
   "source": [
    "'''\n",
    "film1 = \"ashique\"\n",
    "film2 = \"aashique\"\n",
    "film3 = \"aaashique\"\n",
    "film4 = \"shique\"\n",
    "'''\n",
    "\n",
    "print reg2.search(film1) # true\n",
    "print reg2.search(film2) # true,false\n",
    "print reg2.search(film3) # true,false\n",
    "print reg2.search(film4) # true,false"
   ]
  },
  {
   "cell_type": "code",
   "execution_count": 17,
   "metadata": {
    "collapsed": true
   },
   "outputs": [],
   "source": [
    "# exercise\n",
    "# globbling as greedy.\n",
    "my_name1 = \"<n1>kumar</n1>\"\n",
    "my_name2 = \"<n2>hello</n2>\"\n",
    "my_name3 = \"<hello>raj</hello>\"\n",
    "my_name4 = \"<hai>whatsup</hai>\""
   ]
  },
  {
   "cell_type": "code",
   "execution_count": 18,
   "metadata": {
    "collapsed": true
   },
   "outputs": [],
   "source": [
    "reg3 = re.compile('<.*>')"
   ]
  },
  {
   "cell_type": "code",
   "execution_count": 20,
   "metadata": {
    "collapsed": false
   },
   "outputs": [
    {
     "name": "stdout",
     "output_type": "stream",
     "text": [
      "<n1>kumar</n1>\n",
      "<n2>hello</n2>\n",
      "<hello>raj<hello>\n",
      "<hai>whatsup</hai>\n"
     ]
    }
   ],
   "source": [
    "print reg3.match(my_name1).group()\n",
    "print reg3.match(my_name2).group()\n",
    "print reg3.match(my_name3).group()\n",
    "print reg3.match(my_name4).group()"
   ]
  },
  {
   "cell_type": "code",
   "execution_count": null,
   "metadata": {
    "collapsed": true
   },
   "outputs": [],
   "source": [
    "# ??,*?,+? -> minimal matchings."
   ]
  },
  {
   "cell_type": "code",
   "execution_count": 24,
   "metadata": {
    "collapsed": true
   },
   "outputs": [],
   "source": [
    "reg4 = re.compile('<.*?>')"
   ]
  },
  {
   "cell_type": "code",
   "execution_count": 25,
   "metadata": {
    "collapsed": false
   },
   "outputs": [
    {
     "name": "stdout",
     "output_type": "stream",
     "text": [
      "<n1>\n",
      "<n2>\n",
      "<hello>\n",
      "<hai>\n"
     ]
    }
   ],
   "source": [
    "print reg4.match(my_name1).group()\n",
    "print reg4.match(my_name2).group()\n",
    "print reg4.match(my_name3).group()\n",
    "print reg4.match(my_name4).group()"
   ]
  },
  {
   "cell_type": "code",
   "execution_count": 26,
   "metadata": {
    "collapsed": true
   },
   "outputs": [],
   "source": [
    "# anchors"
   ]
  },
  {
   "cell_type": "code",
   "execution_count": 27,
   "metadata": {
    "collapsed": true
   },
   "outputs": [],
   "source": [
    "# {m} -> exactly m number of characters.\n",
    "# {m,n} -> exactly between m and n number of characters.\n",
    "# {m,} -> more than m number of charcters."
   ]
  },
  {
   "cell_type": "code",
   "execution_count": 29,
   "metadata": {
    "collapsed": false
   },
   "outputs": [],
   "source": [
    "film1 = \"ashique\"\n",
    "film2 = \"aashique\"\n",
    "film3 = \"aaashique\"\n",
    "film4 = \"shique\""
   ]
  },
  {
   "cell_type": "code",
   "execution_count": 30,
   "metadata": {
    "collapsed": false
   },
   "outputs": [
    {
     "name": "stdout",
     "output_type": "stream",
     "text": [
      "None\n",
      "<_sre.SRE_Match object at 0x7f5003ba89f0>\n",
      "None\n",
      "None\n"
     ]
    }
   ],
   "source": [
    "print re.match('a{2}shique',film1) # no\n",
    "print re.match('a{2}shique',film2) # yes\n",
    "print re.match('a{2}shique',film3) # no\n",
    "print re.match('a{2}shique',film4) # no"
   ]
  },
  {
   "cell_type": "code",
   "execution_count": 31,
   "metadata": {
    "collapsed": true
   },
   "outputs": [],
   "source": [
    "# character sets"
   ]
  },
  {
   "cell_type": "code",
   "execution_count": 32,
   "metadata": {
    "collapsed": true
   },
   "outputs": [],
   "source": [
    "# [a-z] => match characters from a to z\n",
    "# [0-9] => all numbers from 0 to 9\n",
    "# ^[a-z] => starting with a to z\n",
    "# [^a-z] => not having a to z\n",
    "# [.+?*] => it converts your regular expression to symbols."
   ]
  },
  {
   "cell_type": "code",
   "execution_count": 33,
   "metadata": {
    "collapsed": true
   },
   "outputs": [],
   "source": [
    "# \n",
    "my_sentence = \"Today day is tuesday.\""
   ]
  },
  {
   "cell_type": "code",
   "execution_count": 35,
   "metadata": {
    "collapsed": false
   },
   "outputs": [
    {
     "name": "stdout",
     "output_type": "stream",
     "text": [
      "T\n"
     ]
    }
   ],
   "source": [
    "print re.match('[a-z]',my_sentence,re.I).group()"
   ]
  },
  {
   "cell_type": "code",
   "execution_count": 36,
   "metadata": {
    "collapsed": false
   },
   "outputs": [
    {
     "name": "stdout",
     "output_type": "stream",
     "text": [
      "Today\n"
     ]
    }
   ],
   "source": [
    "print re.match('[a-z]+',my_sentence,re.I).group()"
   ]
  },
  {
   "cell_type": "code",
   "execution_count": 38,
   "metadata": {
    "collapsed": false
   },
   "outputs": [
    {
     "name": "stdout",
     "output_type": "stream",
     "text": [
      "Today \n",
      "Today \n"
     ]
    }
   ],
   "source": [
    "# handling space\n",
    "print re.match('[a-z]+ ',my_sentence,re.I).group()\n",
    "print re.match('[a-z]+\\s+',my_sentence,re.I).group()"
   ]
  },
  {
   "cell_type": "code",
   "execution_count": 39,
   "metadata": {
    "collapsed": false
   },
   "outputs": [
    {
     "name": "stdout",
     "output_type": "stream",
     "text": [
      "Today day is tuesday\n"
     ]
    }
   ],
   "source": [
    "# other words\n",
    "print re.match('[a-z]+\\s+[a-z]+\\s+[a-z]+\\s+[a-z]+',my_sentence,re.I).group()"
   ]
  },
  {
   "cell_type": "code",
   "execution_count": 40,
   "metadata": {
    "collapsed": false
   },
   "outputs": [
    {
     "name": "stdout",
     "output_type": "stream",
     "text": [
      "Today day is tuesday.\n"
     ]
    }
   ],
   "source": [
    "print re.match('[a-z]+\\s+[a-z]+\\s+[a-z]+\\s+[a-z]+[.]',my_sentence,re.I).group()"
   ]
  },
  {
   "cell_type": "code",
   "execution_count": 41,
   "metadata": {
    "collapsed": false
   },
   "outputs": [
    {
     "name": "stdout",
     "output_type": "stream",
     "text": [
      "Today day is tuesday.\n"
     ]
    }
   ],
   "source": [
    "#https://docs.python.org/2/howto/regex.html\n",
    "print re.match('(\\w+\\s+){3}[a-z]+[.]',my_sentence,re.I).group()"
   ]
  },
  {
   "cell_type": "code",
   "execution_count": 42,
   "metadata": {
    "collapsed": false
   },
   "outputs": [
    {
     "name": "stdout",
     "output_type": "stream",
     "text": [
      "Today day is tuesday.\n"
     ]
    }
   ],
   "source": [
    "# verbose\n",
    "print re.match('''\n",
    "(\\w+\\s+)   # a word and a space\n",
    "{3}        # similar words repeated 3 times just like above word.\n",
    "[a-z]+[.]  # a word and a dot.\n",
    "''',my_sentence,(re.I|re.VERBOSE)).group()"
   ]
  },
  {
   "cell_type": "code",
   "execution_count": 52,
   "metadata": {
    "collapsed": false
   },
   "outputs": [
    {
     "name": "stdout",
     "output_type": "stream",
     "text": [
      "Today day is tuesday.\n",
      "Today day is tuesday.\n",
      "Today\n",
      "tuesday\n",
      "('Today', 'tuesday')\n",
      "tuesday\n",
      "Today\n"
     ]
    }
   ],
   "source": [
    "# grouping\n",
    "print re.match('[a-z]+\\s+[a-z]+\\s+[a-z]+\\s+[a-z]+[.]',my_sentence,re.I).group()\n",
    "print re.match('[a-z]+\\s+[a-z]+\\s+[a-z]+\\s+[a-z]+[.]',my_sentence,re.I).group(0)\n",
    "# indexing\n",
    "print re.match('([a-z]+)\\s+[a-z]+\\s+[a-z]+\\s+([a-z]+)[.]',my_sentence,re.I).group(1)\n",
    "print re.match('([a-z]+)\\s+[a-z]+\\s+[a-z]+\\s+([a-z]+)[.]',my_sentence,re.I).group(2)\n",
    "print re.match('([a-z]+)\\s+[a-z]+\\s+[a-z]+\\s+([a-z]+)[.]',my_sentence,re.I).groups()\n",
    "# keybased\n",
    "# (?P<[key]>pattern)\n",
    "print re.match('(?P<T>[a-z]+)\\s+[a-z]+\\s+[a-z]+\\s+(?P<t>[a-z]+)[.]',my_sentence,re.I).group('t')\n",
    "print re.match('(?P<T>[a-z]+)\\s+[a-z]+\\s+[a-z]+\\s+(?P<t>[a-z]+)[.]',my_sentence,re.I).group('T')"
   ]
  },
  {
   "cell_type": "code",
   "execution_count": 60,
   "metadata": {
    "collapsed": true
   },
   "outputs": [],
   "source": [
    "# findall\n",
    "my_sentence = \"Python is a great language.\\nPython is my first choice.\\nPython is good.\\n\""
   ]
  },
  {
   "cell_type": "code",
   "execution_count": 55,
   "metadata": {
    "collapsed": false
   },
   "outputs": [
    {
     "name": "stdout",
     "output_type": "stream",
     "text": [
      "Python\n"
     ]
    }
   ],
   "source": [
    "# match\n",
    "print re.match(\"python\",my_sentence,re.I).group()"
   ]
  },
  {
   "cell_type": "code",
   "execution_count": 56,
   "metadata": {
    "collapsed": false
   },
   "outputs": [
    {
     "name": "stdout",
     "output_type": "stream",
     "text": [
      "Python\n"
     ]
    }
   ],
   "source": [
    "# search\n",
    "print re.search(\"python\",my_sentence,re.I).group()"
   ]
  },
  {
   "cell_type": "code",
   "execution_count": 58,
   "metadata": {
    "collapsed": false
   },
   "outputs": [
    {
     "name": "stdout",
     "output_type": "stream",
     "text": [
      "Help on function findall in module re:\n",
      "\n",
      "findall(pattern, string, flags=0)\n",
      "    Return a list of all non-overlapping matches in the string.\n",
      "    \n",
      "    If one or more groups are present in the pattern, return a\n",
      "    list of groups; this will be a list of tuples if the pattern\n",
      "    has more than one group.\n",
      "    \n",
      "    Empty matches are included in the result.\n",
      "\n",
      "None\n"
     ]
    }
   ],
   "source": [
    "# findall\n",
    "print help(re.findall)"
   ]
  },
  {
   "cell_type": "code",
   "execution_count": 57,
   "metadata": {
    "collapsed": false
   },
   "outputs": [
    {
     "name": "stdout",
     "output_type": "stream",
     "text": [
      "['Python', 'Python', 'Python']\n"
     ]
    }
   ],
   "source": [
    "# findall\n",
    "print re.findall(\"python\",my_sentence,re.I)"
   ]
  },
  {
   "cell_type": "code",
   "execution_count": 64,
   "metadata": {
    "collapsed": false
   },
   "outputs": [
    {
     "name": "stdout",
     "output_type": "stream",
     "text": [
      "Python is a great language.\n",
      "Python is my first choice.\n",
      "Python is good.\n",
      "\n",
      "['Python', 'Python', 'Python']\n"
     ]
    }
   ],
   "source": [
    "# MULTILINE\n",
    "\n",
    "print my_sentence\n",
    "print re.findall(\"^python\",my_sentence,(re.I|re.M))"
   ]
  },
  {
   "cell_type": "code",
   "execution_count": 65,
   "metadata": {
    "collapsed": true
   },
   "outputs": [],
   "source": [
    "# examples"
   ]
  },
  {
   "cell_type": "code",
   "execution_count": 75,
   "metadata": {
    "collapsed": true
   },
   "outputs": [],
   "source": [
    "# example1\n",
    "my_email = '''\n",
    "my valid email address is khiri@gmail.com\n",
    "my valid email address is sujani@yahoo.co.in\n",
    "my valid email address is rahul@\n",
    "my valid email address is @yahoo.co.in\n",
    "my valid email address is 123ramya@gmail.com\n",
    "my valid email adress is tuxfux.hlp@gmail.co.in\n",
    "\n",
    "'''"
   ]
  },
  {
   "cell_type": "code",
   "execution_count": 76,
   "metadata": {
    "collapsed": true
   },
   "outputs": [],
   "source": [
    "reg = re.compile('[a-z0-9.]+@[a-z0-9.]+')"
   ]
  },
  {
   "cell_type": "code",
   "execution_count": 77,
   "metadata": {
    "collapsed": false
   },
   "outputs": [
    {
     "name": "stdout",
     "output_type": "stream",
     "text": [
      "['khiri@gmail.com', 'sujani@yahoo.co.in', '123ramya@gmail.com', 'tuxfux.hlp@gmail.co.in']\n"
     ]
    }
   ],
   "source": [
    "print reg.findall(my_email)"
   ]
  },
  {
   "cell_type": "code",
   "execution_count": null,
   "metadata": {
    "collapsed": true
   },
   "outputs": [],
   "source": [
    "# example2\n",
    "# remove tcloudost-VirtualBox from string and print it."
   ]
  },
  {
   "cell_type": "code",
   "execution_count": 79,
   "metadata": {
    "collapsed": false
   },
   "outputs": [],
   "source": [
    "my_log=\"Apr 25 09:47:56 tcloudost-VirtualBox mtp-probe: bus: 1, device: 3 was not an MTP device\""
   ]
  },
  {
   "cell_type": "code",
   "execution_count": 108,
   "metadata": {
    "collapsed": true
   },
   "outputs": [],
   "source": [
    "m = re.search('[a-z]+-[a-z]+[:]',my_log,re.I)"
   ]
  },
  {
   "cell_type": "code",
   "execution_count": 109,
   "metadata": {
    "collapsed": false
   },
   "outputs": [
    {
     "name": "stdout",
     "output_type": "stream",
     "text": [
      "['__class__', '__copy__', '__deepcopy__', '__delattr__', '__doc__', '__format__', '__getattribute__', '__hash__', '__init__', '__new__', '__reduce__', '__reduce_ex__', '__repr__', '__setattr__', '__sizeof__', '__str__', '__subclasshook__', 'end', 'endpos', 'expand', 'group', 'groupdict', 'groups', 'lastgroup', 'lastindex', 'pos', 're', 'regs', 'span', 'start', 'string']\n"
     ]
    }
   ],
   "source": [
    "print dir(m)"
   ]
  },
  {
   "cell_type": "code",
   "execution_count": 110,
   "metadata": {
    "collapsed": false
   },
   "outputs": [
    {
     "name": "stdout",
     "output_type": "stream",
     "text": [
      "37\n",
      "47\n",
      "mtp-probe:\n"
     ]
    }
   ],
   "source": [
    "print m.start()\n",
    "print m.end()\n",
    "print m.group()"
   ]
  },
  {
   "cell_type": "code",
   "execution_count": 111,
   "metadata": {
    "collapsed": false
   },
   "outputs": [
    {
     "name": "stdout",
     "output_type": "stream",
     "text": [
      "Apr 25 09:47:56 tcloudost-VirtualBox  bus: 1, device: 3 was not an MTP device\n"
     ]
    }
   ],
   "source": [
    "print my_log[:m.start()] + my_log[m.end():]"
   ]
  },
  {
   "cell_type": "code",
   "execution_count": null,
   "metadata": {
    "collapsed": true
   },
   "outputs": [],
   "source": []
  },
  {
   "cell_type": "code",
   "execution_count": null,
   "metadata": {
    "collapsed": true
   },
   "outputs": [],
   "source": []
  }
 ],
 "metadata": {
  "kernelspec": {
   "display_name": "Python 2",
   "language": "python",
   "name": "python2"
  },
  "language_info": {
   "codemirror_mode": {
    "name": "ipython",
    "version": 2
   },
   "file_extension": ".py",
   "mimetype": "text/x-python",
   "name": "python",
   "nbconvert_exporter": "python",
   "pygments_lexer": "ipython2",
   "version": "2.7.11"
  }
 },
 "nbformat": 4,
 "nbformat_minor": 1
}
