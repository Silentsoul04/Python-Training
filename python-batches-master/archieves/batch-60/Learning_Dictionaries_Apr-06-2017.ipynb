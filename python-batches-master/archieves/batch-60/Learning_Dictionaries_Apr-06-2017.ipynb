{
 "cells": [
  {
   "cell_type": "code",
   "execution_count": null,
   "metadata": {
    "collapsed": true
   },
   "outputs": [],
   "source": [
    "# Dictionary\n",
    "# perl - hashes,hash\n",
    "# apple => red color fruit.\n",
    "# cherry => red color fruit.\n",
    "# key(unique) => value(duplicated) \n",
    "# dictionary is not index based its key based."
   ]
  },
  {
   "cell_type": "code",
   "execution_count": 1,
   "metadata": {
    "collapsed": true
   },
   "outputs": [],
   "source": [
    "my_fruits = {'a':'apple','b':'banana','c':'cherry','d':'dates'}"
   ]
  },
  {
   "cell_type": "code",
   "execution_count": 2,
   "metadata": {
    "collapsed": false
   },
   "outputs": [
    {
     "name": "stdout",
     "output_type": "stream",
     "text": [
      "{'a': 'apple', 'c': 'cherry', 'b': 'banana', 'd': 'dates'} <type 'dict'>\n"
     ]
    }
   ],
   "source": [
    "print my_fruits,type(my_fruits)"
   ]
  },
  {
   "cell_type": "code",
   "execution_count": 3,
   "metadata": {
    "collapsed": false
   },
   "outputs": [
    {
     "name": "stdout",
     "output_type": "stream",
     "text": [
      "{} <type 'dict'>\n"
     ]
    }
   ],
   "source": [
    "my_empty = dict()\n",
    "print my_empty,type(my_empty)"
   ]
  },
  {
   "cell_type": "code",
   "execution_count": 4,
   "metadata": {
    "collapsed": false
   },
   "outputs": [
    {
     "name": "stdout",
     "output_type": "stream",
     "text": [
      "{} <type 'dict'>\n"
     ]
    }
   ],
   "source": [
    "my_empty = {}\n",
    "print my_empty,type(my_empty)"
   ]
  },
  {
   "cell_type": "code",
   "execution_count": 13,
   "metadata": {
    "collapsed": false
   },
   "outputs": [
    {
     "name": "stdout",
     "output_type": "stream",
     "text": [
      "apple\n"
     ]
    }
   ],
   "source": [
    "# know the value for a key.\n",
    "print my_fruits['a']"
   ]
  },
  {
   "cell_type": "code",
   "execution_count": 5,
   "metadata": {
    "collapsed": true
   },
   "outputs": [],
   "source": [
    "# cheat sheets\n",
    "# list -> ['apple','banana'],list(),[]\n",
    "# tuple -> ('apple','banana'),tuple(),()\n",
    "# dict -> {'a':'apple','b':'banana'},dict(),{}"
   ]
  },
  {
   "cell_type": "code",
   "execution_count": 6,
   "metadata": {
    "collapsed": false
   },
   "outputs": [
    {
     "name": "stdout",
     "output_type": "stream",
     "text": [
      "python <type 'str'>\n"
     ]
    }
   ],
   "source": [
    "# tasks\n",
    "my_string = \"python\"\n",
    "print my_string,type(my_string)"
   ]
  },
  {
   "cell_type": "code",
   "execution_count": 7,
   "metadata": {
    "collapsed": false
   },
   "outputs": [
    {
     "name": "stdout",
     "output_type": "stream",
     "text": [
      "python <type 'str'>\n"
     ]
    }
   ],
   "source": [
    "my_string1 = ('python')\n",
    "print my_string1,type(my_string1)"
   ]
  },
  {
   "cell_type": "code",
   "execution_count": 8,
   "metadata": {
    "collapsed": false
   },
   "outputs": [
    {
     "name": "stdout",
     "output_type": "stream",
     "text": [
      "('python',) <type 'tuple'>\n"
     ]
    }
   ],
   "source": [
    "my_string1 = ('python',)\n",
    "print my_string1,type(my_string1)"
   ]
  },
  {
   "cell_type": "code",
   "execution_count": 9,
   "metadata": {
    "collapsed": false
   },
   "outputs": [
    {
     "name": "stdout",
     "output_type": "stream",
     "text": [
      "('linux', 'python', 'jython', 'perl') <type 'tuple'>\n"
     ]
    }
   ],
   "source": [
    "my_string2 = 'linux','python','jython','perl'\n",
    "print my_string2,type(my_string2)"
   ]
  },
  {
   "cell_type": "code",
   "execution_count": 10,
   "metadata": {
    "collapsed": false
   },
   "outputs": [
    {
     "name": "stdout",
     "output_type": "stream",
     "text": [
      "linux,python,jython,perl <type 'str'>\n"
     ]
    }
   ],
   "source": [
    "my_string3 = 'linux,python,jython,perl'\n",
    "print my_string3,type(my_string3)"
   ]
  },
  {
   "cell_type": "code",
   "execution_count": 12,
   "metadata": {
    "collapsed": false
   },
   "outputs": [
    {
     "name": "stdout",
     "output_type": "stream",
     "text": [
      "{'a': 'apple', 'c': 'cherry', 'b': 'banana', 'd': 'dates'}\n",
      "{'a': 'apple', 'c': 'cherry', 'b': 'banana', 'd': 'dates', 'g': 'guava'}\n"
     ]
    }
   ],
   "source": [
    "# assignment\n",
    "print my_fruits\n",
    "my_fruits['g']='guava'\n",
    "print my_fruits"
   ]
  },
  {
   "cell_type": "code",
   "execution_count": 14,
   "metadata": {
    "collapsed": false
   },
   "outputs": [
    {
     "name": "stdout",
     "output_type": "stream",
     "text": [
      "{'a': 'apple', 'c': 'cherry', 'b': 'banana', 'd': 'dates', 'g': 'grapes'}\n"
     ]
    }
   ],
   "source": [
    "# replace\n",
    "my_fruits['g'] = 'grapes'\n",
    "print my_fruits"
   ]
  },
  {
   "cell_type": "code",
   "execution_count": 16,
   "metadata": {
    "collapsed": false
   },
   "outputs": [
    {
     "name": "stdout",
     "output_type": "stream",
     "text": [
      "{'a': 'apple', 'c': 'cherry', 'b': 'banana', 'd': 'dates', 'g': ['grapes', 'guava']}\n"
     ]
    }
   ],
   "source": [
    "# task\n",
    "# 'g' => 'grapes','guava'\n",
    "my_fruits['g'] = ['grapes','guava']\n",
    "print my_fruits"
   ]
  },
  {
   "cell_type": "code",
   "execution_count": 19,
   "metadata": {
    "collapsed": false
   },
   "outputs": [
    {
     "name": "stdout",
     "output_type": "stream",
     "text": [
      "True\n",
      "False\n"
     ]
    }
   ],
   "source": [
    "# in operation\n",
    "# its gives True only if you key is there.\n",
    "# in operator on dictionaries work on keys.\n",
    "print 'a' in my_fruits\n",
    "print 'apple' in my_fruits"
   ]
  },
  {
   "cell_type": "code",
   "execution_count": 20,
   "metadata": {
    "collapsed": false
   },
   "outputs": [
    {
     "name": "stdout",
     "output_type": "stream",
     "text": [
      "['__class__', '__cmp__', '__contains__', '__delattr__', '__delitem__', '__doc__', '__eq__', '__format__', '__ge__', '__getattribute__', '__getitem__', '__gt__', '__hash__', '__init__', '__iter__', '__le__', '__len__', '__lt__', '__ne__', '__new__', '__reduce__', '__reduce_ex__', '__repr__', '__setattr__', '__setitem__', '__sizeof__', '__str__', '__subclasshook__', 'clear', 'copy', 'fromkeys', 'get', 'has_key', 'items', 'iteritems', 'iterkeys', 'itervalues', 'keys', 'pop', 'popitem', 'setdefault', 'update', 'values', 'viewitems', 'viewkeys', 'viewvalues']\n"
     ]
    }
   ],
   "source": [
    "# function\n",
    "print dir(my_fruits)"
   ]
  },
  {
   "cell_type": "code",
   "execution_count": null,
   "metadata": {
    "collapsed": true
   },
   "outputs": [],
   "source": [
    "# TODO: fromkeys,update,setdefault\n",
    "# https://www.tutorialspoint.com/python/python_dictionary.htm"
   ]
  },
  {
   "cell_type": "code",
   "execution_count": 22,
   "metadata": {
    "collapsed": false
   },
   "outputs": [
    {
     "name": "stdout",
     "output_type": "stream",
     "text": [
      "Help on built-in function get:\n",
      "\n",
      "get(...)\n",
      "    D.get(k[,d]) -> D[k] if k in D, else d.  d defaults to None.\n",
      "\n",
      "None\n",
      "apple\n",
      "apple\n"
     ]
    }
   ],
   "source": [
    "# get\n",
    "print help(my_fruits.get)\n",
    "print my_fruits.get('a')\n",
    "# or\n",
    "print my_fruits['a']"
   ]
  },
  {
   "cell_type": "code",
   "execution_count": 25,
   "metadata": {
    "collapsed": false
   },
   "outputs": [
    {
     "name": "stdout",
     "output_type": "stream",
     "text": [
      "Help on built-in function has_key:\n",
      "\n",
      "has_key(...)\n",
      "    D.has_key(k) -> True if D has a key k, else False\n",
      "\n",
      "None\n",
      "True\n",
      "False\n",
      "True\n"
     ]
    }
   ],
   "source": [
    "# has_key\n",
    "print help(my_fruits.has_key)\n",
    "print my_fruits.has_key('a')\n",
    "print my_fruits.has_key('apple')\n",
    "#or\n",
    "print 'a' in my_fruits"
   ]
  },
  {
   "cell_type": "code",
   "execution_count": 26,
   "metadata": {
    "collapsed": false
   },
   "outputs": [
    {
     "name": "stdout",
     "output_type": "stream",
     "text": [
      "Help on built-in function keys:\n",
      "\n",
      "keys(...)\n",
      "    D.keys() -> list of D's keys\n",
      "\n",
      "None\n",
      "['a', 'c', 'b', 'd', 'g']\n"
     ]
    }
   ],
   "source": [
    "# key,iterkeys,viewkeys\n",
    "\n",
    "# keys\n",
    "print help(my_fruits.keys)\n",
    "print my_fruits.keys()\n"
   ]
  },
  {
   "cell_type": "code",
   "execution_count": 28,
   "metadata": {
    "collapsed": false
   },
   "outputs": [
    {
     "name": "stdout",
     "output_type": "stream",
     "text": [
      "Help on built-in function iterkeys:\n",
      "\n",
      "iterkeys(...)\n",
      "    D.iterkeys() -> an iterator over the keys of D\n",
      "\n",
      "None\n",
      "<dictionary-keyiterator object at 0x7f4b697bd998>\n",
      "a\n",
      "c\n",
      "b\n",
      "d\n",
      "g\n"
     ]
    }
   ],
   "source": [
    "# iterkeys\n",
    "print help(my_fruits.iterkeys)\n",
    "print my_fruits.iterkeys()\n",
    "for key in my_fruits.iterkeys():\n",
    "    print key"
   ]
  },
  {
   "cell_type": "code",
   "execution_count": 29,
   "metadata": {
    "collapsed": false
   },
   "outputs": [
    {
     "name": "stdout",
     "output_type": "stream",
     "text": [
      "Help on built-in function viewkeys:\n",
      "\n",
      "viewkeys(...)\n",
      "    D.viewkeys() -> a set-like object providing a view on D's keys\n",
      "\n",
      "None\n",
      "dict_keys(['a', 'c', 'b', 'd', 'g'])\n"
     ]
    }
   ],
   "source": [
    "# viewkeys\n",
    "print help(my_fruits.viewkeys)\n",
    "print my_fruits.viewkeys() # template values to pass as an argument."
   ]
  },
  {
   "cell_type": "code",
   "execution_count": 30,
   "metadata": {
    "collapsed": false
   },
   "outputs": [
    {
     "name": "stdout",
     "output_type": "stream",
     "text": [
      "['apple', 'cherry', 'banana', 'dates', ['grapes', 'guava']]\n",
      "<dictionary-valueiterator object at 0x7f4b697bdaa0>\n",
      "dict_values(['apple', 'cherry', 'banana', 'dates', ['grapes', 'guava']])\n"
     ]
    }
   ],
   "source": [
    "# values,itervalue,viewvalues\n",
    "\n",
    "print my_fruits.values()\n",
    "print my_fruits.itervalues()\n",
    "print my_fruits.viewvalues()"
   ]
  },
  {
   "cell_type": "code",
   "execution_count": 32,
   "metadata": {
    "collapsed": false
   },
   "outputs": [
    {
     "name": "stdout",
     "output_type": "stream",
     "text": [
      "[('a', 'apple'), ('c', 'cherry'), ('b', 'banana'), ('d', 'dates'), ('g', ['grapes', 'guava'])]\n",
      "<dictionary-itemiterator object at 0x7f4b697bdc00>\n",
      "dict_items([('a', 'apple'), ('c', 'cherry'), ('b', 'banana'), ('d', 'dates'), ('g', ['grapes', 'guava'])])\n"
     ]
    }
   ],
   "source": [
    "# items,iteritems,viewitems\n",
    "\n",
    "print my_fruits.items()\n",
    "print my_fruits.iteritems()\n",
    "print my_fruits.viewitems()\n"
   ]
  },
  {
   "cell_type": "code",
   "execution_count": 34,
   "metadata": {
    "collapsed": false
   },
   "outputs": [
    {
     "name": "stdout",
     "output_type": "stream",
     "text": [
      "139961978541768 139961978548168\n",
      "[['ant', 'ball', 'call'], ['den', 'egg', 'fin']] 139961978541912\n",
      "139961978541768 139961978548168\n"
     ]
    }
   ],
   "source": [
    "# copy\n",
    "# soft,deep and shallow copy.\n",
    "\n",
    "a = ['ant','ball','call']\n",
    "b = ['den','egg','fin']\n",
    "print id(a),id(b)\n",
    "\n",
    "# complex object\n",
    "Cc = [a,b]\n",
    "print Cc,id(Cc)\n",
    "print id(Cc[0]),id(Cc[1])"
   ]
  },
  {
   "cell_type": "code",
   "execution_count": 35,
   "metadata": {
    "collapsed": false
   },
   "outputs": [
    {
     "name": "stdout",
     "output_type": "stream",
     "text": [
      "[['ant', 'ball', 'call'], ['den', 'egg', 'fin']] 139961978541912 139961978541768 139961978548168\n",
      "[['ant', 'ball', 'call'], ['den', 'egg', 'fin']] 139961978541912 139961978541768 139961978548168\n"
     ]
    }
   ],
   "source": [
    "# soft copy\n",
    "Soc = Cc\n",
    "\n",
    "print Cc,id(Cc),id(Cc[0]),id(Cc[1])\n",
    "print Soc,id(Soc),id(Soc[0]),id(Soc[1])"
   ]
  },
  {
   "cell_type": "code",
   "execution_count": 37,
   "metadata": {
    "collapsed": false
   },
   "outputs": [
    {
     "name": "stdout",
     "output_type": "stream",
     "text": [
      "['Error', 'PyStringMap', '_EmptyClass', '__all__', '__builtins__', '__doc__', '__file__', '__name__', '__package__', '_copy_dispatch', '_copy_immutable', '_copy_inst', '_copy_with_constructor', '_copy_with_copy_method', '_deepcopy_atomic', '_deepcopy_dict', '_deepcopy_dispatch', '_deepcopy_inst', '_deepcopy_list', '_deepcopy_method', '_deepcopy_tuple', '_keep_alive', '_reconstruct', '_test', 'copy', 'deepcopy', 'dispatch_table', 'error', 'name', 't', 'weakref']\n"
     ]
    }
   ],
   "source": [
    "# hard copy\n",
    "import copy\n",
    "print dir(copy)"
   ]
  },
  {
   "cell_type": "code",
   "execution_count": 39,
   "metadata": {
    "collapsed": false
   },
   "outputs": [
    {
     "name": "stdout",
     "output_type": "stream",
     "text": [
      "[['ant', 'ball', 'call'], ['den', 'egg', 'fin']] 139961978541912 139961978541768 139961978548168\n",
      "[['ant', 'ball', 'call'], ['den', 'egg', 'fin']] 139961978547376 139961978547160 139961978544424\n"
     ]
    }
   ],
   "source": [
    "Dc = copy.deepcopy(Cc)\n",
    "print Cc,id(Cc),id(Cc[0]),id(Cc[1])\n",
    "print Dc,id(Dc),id(Dc[0]),id(Dc[1])"
   ]
  },
  {
   "cell_type": "code",
   "execution_count": 40,
   "metadata": {
    "collapsed": false
   },
   "outputs": [
    {
     "name": "stdout",
     "output_type": "stream",
     "text": [
      "[['ant', 'ball', 'call'], ['den', 'egg', 'fin']] 139961978541912 139961978541768 139961978548168\n",
      "[['ant', 'ball', 'call'], ['den', 'egg', 'fin']] 139961869099736 139961978541768 139961978548168\n"
     ]
    }
   ],
   "source": [
    "# shallow copy\n",
    "# the new object has a new memory address\n",
    "# the interal elements are still refering to old objects.\n",
    "# ex:\n",
    "# sc[0] => a \n",
    "# sc[1] => b\n",
    "\n",
    "Sc = copy.copy(Cc)\n",
    "print Cc,id(Cc),id(Cc[0]),id(Cc[1])\n",
    "print Sc,id(Sc),id(Sc[0]),id(Sc[1])"
   ]
  },
  {
   "cell_type": "code",
   "execution_count": 41,
   "metadata": {
    "collapsed": false
   },
   "outputs": [
    {
     "name": "stdout",
     "output_type": "stream",
     "text": [
      "{'a': 'apple', 'c': 'cherry', 'b': 'banana', 'd': 'dates', 'g': ['grapes', 'guava']}\n"
     ]
    }
   ],
   "source": [
    "#pop\n",
    "print my_fruits"
   ]
  },
  {
   "cell_type": "code",
   "execution_count": 42,
   "metadata": {
    "collapsed": false
   },
   "outputs": [
    {
     "name": "stdout",
     "output_type": "stream",
     "text": [
      "Help on built-in function pop:\n",
      "\n",
      "pop(...)\n",
      "    D.pop(k[,d]) -> v, remove specified key and return the corresponding value.\n",
      "    If key is not found, d is returned if given, otherwise KeyError is raised\n",
      "\n",
      "None\n"
     ]
    }
   ],
   "source": [
    "print help(my_fruits.pop)"
   ]
  },
  {
   "cell_type": "code",
   "execution_count": 43,
   "metadata": {
    "collapsed": false
   },
   "outputs": [
    {
     "name": "stdout",
     "output_type": "stream",
     "text": [
      "['grapes', 'guava']\n",
      "{'a': 'apple', 'c': 'cherry', 'b': 'banana', 'd': 'dates'}\n"
     ]
    }
   ],
   "source": [
    "print my_fruits.pop('g')\n",
    "print my_fruits"
   ]
  },
  {
   "cell_type": "code",
   "execution_count": 44,
   "metadata": {
    "collapsed": false
   },
   "outputs": [
    {
     "name": "stdout",
     "output_type": "stream",
     "text": [
      "Help on built-in function popitem:\n",
      "\n",
      "popitem(...)\n",
      "    D.popitem() -> (k, v), remove and return some (key, value) pair as a\n",
      "    2-tuple; but raise KeyError if D is empty.\n",
      "\n",
      "None\n"
     ]
    }
   ],
   "source": [
    "# popitem\n",
    "print help(my_fruits.popitem)"
   ]
  },
  {
   "cell_type": "code",
   "execution_count": 45,
   "metadata": {
    "collapsed": false
   },
   "outputs": [
    {
     "name": "stdout",
     "output_type": "stream",
     "text": [
      "('a', 'apple')\n"
     ]
    }
   ],
   "source": [
    "print my_fruits.popitem()"
   ]
  },
  {
   "cell_type": "code",
   "execution_count": 46,
   "metadata": {
    "collapsed": false
   },
   "outputs": [
    {
     "name": "stdout",
     "output_type": "stream",
     "text": [
      "('c', 'cherry')\n"
     ]
    }
   ],
   "source": [
    "print my_fruits.popitem()"
   ]
  },
  {
   "cell_type": "code",
   "execution_count": 47,
   "metadata": {
    "collapsed": false
   },
   "outputs": [
    {
     "name": "stdout",
     "output_type": "stream",
     "text": [
      "{'b': 'banana', 'd': 'dates'}\n"
     ]
    }
   ],
   "source": [
    "print my_fruits"
   ]
  },
  {
   "cell_type": "code",
   "execution_count": 49,
   "metadata": {
    "collapsed": false
   },
   "outputs": [
    {
     "name": "stdout",
     "output_type": "stream",
     "text": [
      "{'b': 'banana', 'd': 'dates'}\n",
      "None\n",
      "{}\n"
     ]
    }
   ],
   "source": [
    "# clear\n",
    "print my_fruits\n",
    "print my_fruits.clear()\n",
    "print my_fruits"
   ]
  },
  {
   "cell_type": "code",
   "execution_count": null,
   "metadata": {
    "collapsed": true
   },
   "outputs": [],
   "source": [
    "# homework\n",
    "# task 1\n",
    "# output\n",
    "# {1:1,2:4,3:9,4:16,...,100:10000}\n",
    "\n",
    "# task2\n",
    "# my_values = [1,2,3,4,5]\n",
    "# output => (1,2,3,4,5)"
   ]
  }
 ],
 "metadata": {
  "kernelspec": {
   "display_name": "Python 2",
   "language": "python",
   "name": "python2"
  },
  "language_info": {
   "codemirror_mode": {
    "name": "ipython",
    "version": 2
   },
   "file_extension": ".py",
   "mimetype": "text/x-python",
   "name": "python",
   "nbconvert_exporter": "python",
   "pygments_lexer": "ipython2",
   "version": "2.7.6"
  }
 },
 "nbformat": 4,
 "nbformat_minor": 1
}
