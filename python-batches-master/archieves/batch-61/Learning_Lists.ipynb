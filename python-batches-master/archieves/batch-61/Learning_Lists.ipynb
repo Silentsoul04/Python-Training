{
 "cells": [
  {
   "cell_type": "code",
   "execution_count": null,
   "metadata": {
    "collapsed": true
   },
   "outputs": [],
   "source": [
    "# Lists\n",
    "# List is a linear representation of hetrogeneous data .\n",
    "# Arrays(numpy) and Lists are not synonymous.\n",
    "# https://scipy.org/"
   ]
  },
  {
   "cell_type": "code",
   "execution_count": 1,
   "metadata": {
    "collapsed": true
   },
   "outputs": [],
   "source": [
    "my_fruits = [\"Apple\",\"banana\",\"cherry\",\"dates\"]"
   ]
  },
  {
   "cell_type": "code",
   "execution_count": 2,
   "metadata": {
    "collapsed": false
   },
   "outputs": [
    {
     "name": "stdout",
     "output_type": "stream",
     "text": [
      "['Apple', 'banana', 'cherry', 'dates'] <type 'list'>\n"
     ]
    }
   ],
   "source": [
    "print my_fruits,type(my_fruits)"
   ]
  },
  {
   "cell_type": "code",
   "execution_count": 3,
   "metadata": {
    "collapsed": false
   },
   "outputs": [
    {
     "name": "stdout",
     "output_type": "stream",
     "text": [
      "[] <type 'list'>\n"
     ]
    }
   ],
   "source": [
    "my_empty = []\n",
    "print my_empty,type(my_empty)"
   ]
  },
  {
   "cell_type": "code",
   "execution_count": 4,
   "metadata": {
    "collapsed": false
   },
   "outputs": [
    {
     "name": "stdout",
     "output_type": "stream",
     "text": [
      "[] <type 'list'>\n"
     ]
    }
   ],
   "source": [
    "my_empty = list()\n",
    "print my_empty,type(my_empty)"
   ]
  },
  {
   "cell_type": "code",
   "execution_count": 5,
   "metadata": {
    "collapsed": false
   },
   "outputs": [
    {
     "name": "stdout",
     "output_type": "stream",
     "text": [
      "Apple\n",
      "banana\n",
      "cherry\n",
      "dates\n"
     ]
    }
   ],
   "source": [
    "# list - iterator\n",
    "for value in my_fruits:\n",
    "    print value"
   ]
  },
  {
   "cell_type": "code",
   "execution_count": null,
   "metadata": {
    "collapsed": true
   },
   "outputs": [],
   "source": [
    "# list support - indexing,slicing."
   ]
  },
  {
   "cell_type": "code",
   "execution_count": 6,
   "metadata": {
    "collapsed": false
   },
   "outputs": [
    {
     "name": "stdout",
     "output_type": "stream",
     "text": [
      "dates\n",
      "dates\n"
     ]
    }
   ],
   "source": [
    "print my_fruits[3]\n",
    "print my_fruits[-1]"
   ]
  },
  {
   "cell_type": "code",
   "execution_count": 7,
   "metadata": {
    "collapsed": false
   },
   "outputs": [
    {
     "name": "stdout",
     "output_type": "stream",
     "text": [
      "e\n"
     ]
    }
   ],
   "source": [
    "# cherry\n",
    "print my_fruits[2][2]\n"
   ]
  },
  {
   "cell_type": "code",
   "execution_count": 8,
   "metadata": {
    "collapsed": false
   },
   "outputs": [
    {
     "name": "stdout",
     "output_type": "stream",
     "text": [
      "['banana', 'cherry']\n"
     ]
    }
   ],
   "source": [
    "# slicing\n",
    "print my_fruits[1:3]"
   ]
  },
  {
   "cell_type": "code",
   "execution_count": null,
   "metadata": {
    "collapsed": true
   },
   "outputs": [],
   "source": [
    "# in"
   ]
  },
  {
   "cell_type": "code",
   "execution_count": 10,
   "metadata": {
    "collapsed": false
   },
   "outputs": [
    {
     "name": "stdout",
     "output_type": "stream",
     "text": [
      "False\n",
      "True\n"
     ]
    }
   ],
   "source": [
    "print 'apple' in my_fruits\n",
    "print 'Apple' in my_fruits"
   ]
  },
  {
   "cell_type": "code",
   "execution_count": 11,
   "metadata": {
    "collapsed": false
   },
   "outputs": [
    {
     "name": "stdout",
     "output_type": "stream",
     "text": [
      "['Apple', 'banana', 'cherry', 'dates']\n"
     ]
    }
   ],
   "source": [
    "# list are mutable.\n",
    "print my_fruits"
   ]
  },
  {
   "cell_type": "code",
   "execution_count": 12,
   "metadata": {
    "collapsed": false
   },
   "outputs": [
    {
     "name": "stdout",
     "output_type": "stream",
     "text": [
      "['Apple', 'Banana', 'cherry', 'dates']\n"
     ]
    }
   ],
   "source": [
    "my_fruits[1]=\"Banana\"\n",
    "print my_fruits"
   ]
  },
  {
   "cell_type": "code",
   "execution_count": 13,
   "metadata": {
    "collapsed": false
   },
   "outputs": [
    {
     "ename": "TypeError",
     "evalue": "'str' object does not support item assignment",
     "output_type": "error",
     "traceback": [
      "\u001b[0;31m---------------------------------------------------------------------------\u001b[0m",
      "\u001b[0;31mTypeError\u001b[0m                                 Traceback (most recent call last)",
      "\u001b[0;32m<ipython-input-13-4d0912d41d59>\u001b[0m in \u001b[0;36m<module>\u001b[0;34m()\u001b[0m\n\u001b[1;32m      1\u001b[0m \u001b[0;31m# string\u001b[0m\u001b[0;34m\u001b[0m\u001b[0;34m\u001b[0m\u001b[0m\n\u001b[1;32m      2\u001b[0m \u001b[0mmy_string\u001b[0m\u001b[0;34m=\u001b[0m\u001b[0;34m\"banana\"\u001b[0m\u001b[0;34m\u001b[0m\u001b[0m\n\u001b[0;32m----> 3\u001b[0;31m \u001b[0mmy_string\u001b[0m\u001b[0;34m[\u001b[0m\u001b[0;36m0\u001b[0m\u001b[0;34m]\u001b[0m\u001b[0;34m=\u001b[0m\u001b[0;34m\"B\"\u001b[0m\u001b[0;34m\u001b[0m\u001b[0m\n\u001b[0m",
      "\u001b[0;31mTypeError\u001b[0m: 'str' object does not support item assignment"
     ]
    }
   ],
   "source": [
    "# string cannot be modified - immutable.\n",
    "my_string=\"banana\"\n",
    "my_string[0]=\"B\""
   ]
  },
  {
   "cell_type": "code",
   "execution_count": null,
   "metadata": {
    "collapsed": true
   },
   "outputs": [],
   "source": [
    "# converting a list to string and vice-versa\n"
   ]
  },
  {
   "cell_type": "code",
   "execution_count": 14,
   "metadata": {
    "collapsed": false
   },
   "outputs": [
    {
     "name": "stdout",
     "output_type": "stream",
     "text": [
      "['p', 'y', 't', 'h', 'o', 'n']\n"
     ]
    }
   ],
   "source": [
    "# string\n",
    "my_string=\"python\"\n",
    "\n",
    "# convering a string to a list\n",
    "Lmy_string = list(my_string)\n",
    "print Lmy_string"
   ]
  },
  {
   "cell_type": "code",
   "execution_count": 15,
   "metadata": {
    "collapsed": false
   },
   "outputs": [
    {
     "name": "stdout",
     "output_type": "stream",
     "text": [
      "['T', 'y', 't', 'h', 'o', 'n']\n"
     ]
    }
   ],
   "source": [
    "# modified list.\n",
    "Lmy_string[0]=\"T\"\n",
    "print Lmy_string"
   ]
  },
  {
   "cell_type": "code",
   "execution_count": 26,
   "metadata": {
    "collapsed": false
   },
   "outputs": [
    {
     "name": "stdout",
     "output_type": "stream",
     "text": [
      "Help on built-in function join:\n",
      "\n",
      "join(...)\n",
      "    S.join(iterable) -> string\n",
      "    \n",
      "    Return a string which is the concatenation of the strings in the\n",
      "    iterable.  The separator between elements is S.\n",
      "\n",
      "None\n"
     ]
    }
   ],
   "source": [
    "# convert the list back to string\n",
    "limiter=\"\"\n",
    "print help(limiter.join)"
   ]
  },
  {
   "cell_type": "code",
   "execution_count": 28,
   "metadata": {
    "collapsed": false
   },
   "outputs": [
    {
     "name": "stdout",
     "output_type": "stream",
     "text": [
      "Tython\n",
      "T,y,t,h,o,n\n"
     ]
    }
   ],
   "source": [
    "print limiter.join(Lmy_string)\n",
    "print \",\".join(Lmy_string)"
   ]
  },
  {
   "cell_type": "code",
   "execution_count": 31,
   "metadata": {
    "collapsed": false
   },
   "outputs": [
    {
     "name": "stdout",
     "output_type": "stream",
     "text": [
      "Today is thursday\n"
     ]
    }
   ],
   "source": [
    "# my_sentence\n",
    "my_sentence = \"Today is thursday\"\n",
    "print my_sentence"
   ]
  },
  {
   "cell_type": "code",
   "execution_count": 33,
   "metadata": {
    "collapsed": false
   },
   "outputs": [
    {
     "name": "stdout",
     "output_type": "stream",
     "text": [
      "['T', 'o', 'd', 'a', 'y', ' ', 'i', 's', ' ', 't', 'h', 'u', 'r', 's', 'd', 'a', 'y']\n"
     ]
    }
   ],
   "source": [
    "Lmy_sentence = list(my_sentence)\n",
    "print Lmy_sentence"
   ]
  },
  {
   "cell_type": "code",
   "execution_count": 34,
   "metadata": {
    "collapsed": false
   },
   "outputs": [
    {
     "name": "stdout",
     "output_type": "stream",
     "text": [
      "Help on built-in function split:\n",
      "\n",
      "split(...)\n",
      "    S.split([sep [,maxsplit]]) -> list of strings\n",
      "    \n",
      "    Return a list of the words in the string S, using sep as the\n",
      "    delimiter string.  If maxsplit is given, at most maxsplit\n",
      "    splits are done. If sep is not specified or is None, any\n",
      "    whitespace string is a separator and empty strings are removed\n",
      "    from the result.\n",
      "\n",
      "None\n"
     ]
    }
   ],
   "source": [
    "# split\n",
    "print help(my_sentence.split)"
   ]
  },
  {
   "cell_type": "code",
   "execution_count": 35,
   "metadata": {
    "collapsed": false
   },
   "outputs": [
    {
     "name": "stdout",
     "output_type": "stream",
     "text": [
      "['Today', 'is', 'thursday']\n"
     ]
    }
   ],
   "source": [
    "Lmy_sentence = my_sentence.split()\n",
    "print Lmy_sentence"
   ]
  },
  {
   "cell_type": "code",
   "execution_count": 37,
   "metadata": {
    "collapsed": false
   },
   "outputs": [
    {
     "name": "stdout",
     "output_type": "stream",
     "text": [
      "['Today', 'is', 'Friday']\n"
     ]
    }
   ],
   "source": [
    "Lmy_sentence[2]=\"Friday\"\n",
    "print Lmy_sentence"
   ]
  },
  {
   "cell_type": "code",
   "execution_count": 38,
   "metadata": {
    "collapsed": false
   },
   "outputs": [
    {
     "name": "stdout",
     "output_type": "stream",
     "text": [
      "Today is Friday\n"
     ]
    }
   ],
   "source": [
    "# revert it back to a string\n",
    "limiter=\" \"\n",
    "print limiter.join(Lmy_sentence)"
   ]
  },
  {
   "cell_type": "code",
   "execution_count": 40,
   "metadata": {
    "collapsed": false
   },
   "outputs": [
    {
     "name": "stdout",
     "output_type": "stream",
     "text": [
      "results of student - soumi \n",
      "results of student - aditya \n",
      "results of student - krishna \n"
     ]
    }
   ],
   "source": [
    "#!/usr/bin/python\n",
    "# continue: you can skip an iteration\n",
    "absent = ['chitu','ravi','law','akshit','kumar']\n",
    "for student in ['chitu','soumi','ravi','kumar','law','aditya','akshit','krishna']:\n",
    "\tif student in absent:\n",
    "\t\tcontinue\n",
    "\t\t#break\n",
    "\t\t#pass\n",
    "\tprint \"results of student - {} \".format(student)"
   ]
  },
  {
   "cell_type": "code",
   "execution_count": 43,
   "metadata": {
    "collapsed": false
   },
   "outputs": [
    {
     "name": "stdout",
     "output_type": "stream",
     "text": [
      "name of the student who is absent - chitu\n",
      "name of the student who is absent - ravi\n",
      "name of the student who is absent - law\n",
      "name of the student who is absent - akshit\n"
     ]
    }
   ],
   "source": [
    "# i want to find out the students who are absent and also there in studnet list.\n",
    "absent = ['chitu','ravi','law','akshit','kumar']\n",
    "student = ['chitu','soumi','ravi','law','aditya','akshit','krishna']\n",
    "\n",
    "for stu in absent:\n",
    "    if stu not in student:\n",
    "        continue\n",
    "    print \"name of the student who is absent - {}\".format(stu)\n"
   ]
  },
  {
   "cell_type": "code",
   "execution_count": null,
   "metadata": {
    "collapsed": true
   },
   "outputs": [],
   "source": [
    "# Assignements\n",
    "# https://github.com/sambapython/python/blob/master/assignments.txt\n",
    "# reverse a list -wihout a function.\n",
    "l=[1,2,3,5,7,8,9,10,11,12,13,20,22,23,24,25,26,27,20,21,22,4] output = [[1, 2, 3], [5], [7, 8, 9, 10, 11, 12, 13], [20], [22, 23, 24, 25, 26, 27], [20, 21, 22], [4]]\n"
   ]
  },
  {
   "cell_type": "code",
   "execution_count": null,
   "metadata": {
    "collapsed": true
   },
   "outputs": [],
   "source": [
    "# functions"
   ]
  },
  {
   "cell_type": "code",
   "execution_count": 1,
   "metadata": {
    "collapsed": true
   },
   "outputs": [],
   "source": [
    "my_fruits = ['apple','banana','cherry','dates']"
   ]
  },
  {
   "cell_type": "code",
   "execution_count": 2,
   "metadata": {
    "collapsed": false
   },
   "outputs": [
    {
     "name": "stdout",
     "output_type": "stream",
     "text": [
      "['__add__', '__class__', '__contains__', '__delattr__', '__delitem__', '__delslice__', '__doc__', '__eq__', '__format__', '__ge__', '__getattribute__', '__getitem__', '__getslice__', '__gt__', '__hash__', '__iadd__', '__imul__', '__init__', '__iter__', '__le__', '__len__', '__lt__', '__mul__', '__ne__', '__new__', '__reduce__', '__reduce_ex__', '__repr__', '__reversed__', '__rmul__', '__setattr__', '__setitem__', '__setslice__', '__sizeof__', '__str__', '__subclasshook__', 'append', 'count', 'extend', 'index', 'insert', 'pop', 'remove', 'reverse', 'sort']\n"
     ]
    }
   ],
   "source": [
    "print dir(my_fruits)"
   ]
  },
  {
   "cell_type": "code",
   "execution_count": 3,
   "metadata": {
    "collapsed": false
   },
   "outputs": [
    {
     "name": "stdout",
     "output_type": "stream",
     "text": [
      "Help on built-in function append:\n",
      "\n",
      "append(...)\n",
      "    L.append(object) -- append object to end\n",
      "\n",
      "None\n"
     ]
    }
   ],
   "source": [
    "# append\n",
    "print help(my_fruits.append)"
   ]
  },
  {
   "cell_type": "code",
   "execution_count": 4,
   "metadata": {
    "collapsed": true
   },
   "outputs": [],
   "source": [
    "my_fruits.append('fig')"
   ]
  },
  {
   "cell_type": "code",
   "execution_count": 5,
   "metadata": {
    "collapsed": false
   },
   "outputs": [
    {
     "name": "stdout",
     "output_type": "stream",
     "text": [
      "['apple', 'banana', 'cherry', 'dates', 'fig']\n"
     ]
    }
   ],
   "source": [
    "print my_fruits"
   ]
  },
  {
   "cell_type": "code",
   "execution_count": 6,
   "metadata": {
    "collapsed": false
   },
   "outputs": [
    {
     "name": "stdout",
     "output_type": "stream",
     "text": [
      "Help on built-in function extend:\n",
      "\n",
      "extend(...)\n",
      "    L.extend(iterable) -- extend list by appending elements from the iterable\n",
      "\n",
      "None\n"
     ]
    }
   ],
   "source": [
    "# extend\n",
    "print help(my_fruits.extend)"
   ]
  },
  {
   "cell_type": "code",
   "execution_count": 7,
   "metadata": {
    "collapsed": true
   },
   "outputs": [],
   "source": [
    "my_fruits.extend(['grapes','jackfruit','kiwi'])"
   ]
  },
  {
   "cell_type": "code",
   "execution_count": 8,
   "metadata": {
    "collapsed": false
   },
   "outputs": [
    {
     "name": "stdout",
     "output_type": "stream",
     "text": [
      "['apple', 'banana', 'cherry', 'dates', 'fig', 'grapes', 'jackfruit', 'kiwi']\n"
     ]
    }
   ],
   "source": [
    "print my_fruits"
   ]
  },
  {
   "cell_type": "code",
   "execution_count": 10,
   "metadata": {
    "collapsed": false
   },
   "outputs": [
    {
     "name": "stdout",
     "output_type": "stream",
     "text": [
      "Help on built-in function insert:\n",
      "\n",
      "insert(...)\n",
      "    L.insert(index, object) -- insert object before index\n",
      "\n",
      "None\n"
     ]
    }
   ],
   "source": [
    "# insert\n",
    "print help(my_fruits.insert)"
   ]
  },
  {
   "cell_type": "code",
   "execution_count": 11,
   "metadata": {
    "collapsed": true
   },
   "outputs": [],
   "source": [
    "my_fruits.insert(6,'guava')"
   ]
  },
  {
   "cell_type": "code",
   "execution_count": 12,
   "metadata": {
    "collapsed": false
   },
   "outputs": [
    {
     "name": "stdout",
     "output_type": "stream",
     "text": [
      "['apple', 'banana', 'cherry', 'dates', 'fig', 'grapes', 'guava', 'jackfruit', 'kiwi']\n"
     ]
    }
   ],
   "source": [
    "print my_fruits"
   ]
  },
  {
   "cell_type": "code",
   "execution_count": 13,
   "metadata": {
    "collapsed": false
   },
   "outputs": [
    {
     "name": "stdout",
     "output_type": "stream",
     "text": [
      "Help on built-in function index:\n",
      "\n",
      "index(...)\n",
      "    L.index(value, [start, [stop]]) -> integer -- return first index of value.\n",
      "    Raises ValueError if the value is not present.\n",
      "\n",
      "None\n"
     ]
    }
   ],
   "source": [
    "# index\n",
    "print help(my_fruits.index)"
   ]
  },
  {
   "cell_type": "code",
   "execution_count": 14,
   "metadata": {
    "collapsed": false
   },
   "outputs": [
    {
     "name": "stdout",
     "output_type": "stream",
     "text": [
      "6\n"
     ]
    }
   ],
   "source": [
    "print my_fruits.index('guava')"
   ]
  },
  {
   "cell_type": "code",
   "execution_count": 17,
   "metadata": {
    "collapsed": false
   },
   "outputs": [
    {
     "name": "stdout",
     "output_type": "stream",
     "text": [
      "['guava', 'guava', 'guava', 'apple', 'banana', 'cherry', 'dates', 'fig', 'grapes', 'guava', 'jackfruit', 'kiwi']\n",
      "0\n",
      "1\n"
     ]
    }
   ],
   "source": [
    "my_fruits.insert(0,'guava')\n",
    "print my_fruits\n",
    "print my_fruits.index('guava') # first guava\n",
    "print my_fruits.index('guava',1)"
   ]
  },
  {
   "cell_type": "code",
   "execution_count": 19,
   "metadata": {
    "collapsed": false
   },
   "outputs": [
    {
     "name": "stdout",
     "output_type": "stream",
     "text": [
      "Help on built-in function count:\n",
      "\n",
      "count(...)\n",
      "    L.count(value) -> integer -- return number of occurrences of value\n",
      "\n",
      "None\n"
     ]
    }
   ],
   "source": [
    "# count\n",
    "print help(my_fruits.count)"
   ]
  },
  {
   "cell_type": "code",
   "execution_count": 20,
   "metadata": {
    "collapsed": false
   },
   "outputs": [
    {
     "name": "stdout",
     "output_type": "stream",
     "text": [
      "4\n"
     ]
    }
   ],
   "source": [
    "print my_fruits.count('guava')"
   ]
  },
  {
   "cell_type": "code",
   "execution_count": 21,
   "metadata": {
    "collapsed": false
   },
   "outputs": [
    {
     "name": "stdout",
     "output_type": "stream",
     "text": [
      "Help on built-in function pop:\n",
      "\n",
      "pop(...)\n",
      "    L.pop([index]) -> item -- remove and return item at index (default last).\n",
      "    Raises IndexError if list is empty or index is out of range.\n",
      "\n",
      "None\n"
     ]
    }
   ],
   "source": [
    "# pop\n",
    "print help(my_fruits.pop)"
   ]
  },
  {
   "cell_type": "code",
   "execution_count": 22,
   "metadata": {
    "collapsed": false
   },
   "outputs": [
    {
     "name": "stdout",
     "output_type": "stream",
     "text": [
      "['guava', 'guava', 'guava', 'apple', 'banana', 'cherry', 'dates', 'fig', 'grapes', 'guava', 'jackfruit', 'kiwi']\n"
     ]
    }
   ],
   "source": [
    "print my_fruits"
   ]
  },
  {
   "cell_type": "code",
   "execution_count": 23,
   "metadata": {
    "collapsed": false
   },
   "outputs": [
    {
     "data": {
      "text/plain": [
       "'guava'"
      ]
     },
     "execution_count": 23,
     "metadata": {},
     "output_type": "execute_result"
    }
   ],
   "source": [
    "my_fruits.pop(0)"
   ]
  },
  {
   "cell_type": "code",
   "execution_count": 24,
   "metadata": {
    "collapsed": false
   },
   "outputs": [
    {
     "name": "stdout",
     "output_type": "stream",
     "text": [
      "['guava', 'guava', 'apple', 'banana', 'cherry', 'dates', 'fig', 'grapes', 'guava', 'jackfruit', 'kiwi']\n"
     ]
    }
   ],
   "source": [
    "print my_fruits"
   ]
  },
  {
   "cell_type": "code",
   "execution_count": 25,
   "metadata": {
    "collapsed": false
   },
   "outputs": [
    {
     "name": "stdout",
     "output_type": "stream",
     "text": [
      "kiwi\n"
     ]
    }
   ],
   "source": [
    "print my_fruits.pop(10)"
   ]
  },
  {
   "cell_type": "code",
   "execution_count": 26,
   "metadata": {
    "collapsed": false
   },
   "outputs": [
    {
     "ename": "IndexError",
     "evalue": "pop index out of range",
     "output_type": "error",
     "traceback": [
      "\u001b[0;31m---------------------------------------------------------------------------\u001b[0m",
      "\u001b[0;31mIndexError\u001b[0m                                Traceback (most recent call last)",
      "\u001b[0;32m<ipython-input-26-caee7eda01fa>\u001b[0m in \u001b[0;36m<module>\u001b[0;34m()\u001b[0m\n\u001b[0;32m----> 1\u001b[0;31m \u001b[0;32mprint\u001b[0m \u001b[0mmy_fruits\u001b[0m\u001b[0;34m.\u001b[0m\u001b[0mpop\u001b[0m\u001b[0;34m(\u001b[0m\u001b[0;36m10\u001b[0m\u001b[0;34m)\u001b[0m\u001b[0;34m\u001b[0m\u001b[0m\n\u001b[0m",
      "\u001b[0;31mIndexError\u001b[0m: pop index out of range"
     ]
    }
   ],
   "source": [
    "print my_fruits.pop(10)"
   ]
  },
  {
   "cell_type": "code",
   "execution_count": 27,
   "metadata": {
    "collapsed": false
   },
   "outputs": [
    {
     "name": "stdout",
     "output_type": "stream",
     "text": [
      "Help on built-in function remove:\n",
      "\n",
      "remove(...)\n",
      "    L.remove(value) -- remove first occurrence of value.\n",
      "    Raises ValueError if the value is not present.\n",
      "\n",
      "None\n"
     ]
    }
   ],
   "source": [
    "# remove\n",
    "print help(my_fruits.remove)"
   ]
  },
  {
   "cell_type": "code",
   "execution_count": 28,
   "metadata": {
    "collapsed": false
   },
   "outputs": [
    {
     "name": "stdout",
     "output_type": "stream",
     "text": [
      "None\n"
     ]
    }
   ],
   "source": [
    "print my_fruits.remove('guava')"
   ]
  },
  {
   "cell_type": "code",
   "execution_count": 29,
   "metadata": {
    "collapsed": false
   },
   "outputs": [
    {
     "name": "stdout",
     "output_type": "stream",
     "text": [
      "['guava', 'apple', 'banana', 'cherry', 'dates', 'fig', 'grapes', 'guava', 'jackfruit']\n"
     ]
    }
   ],
   "source": [
    "print my_fruits"
   ]
  },
  {
   "cell_type": "code",
   "execution_count": 31,
   "metadata": {
    "collapsed": false
   },
   "outputs": [
    {
     "name": "stdout",
     "output_type": "stream",
     "text": [
      "Help on built-in function sort:\n",
      "\n",
      "sort(...)\n",
      "    L.sort(cmp=None, key=None, reverse=False) -- stable sort *IN PLACE*;\n",
      "    cmp(x, y) -> -1, 0, 1\n",
      "\n",
      "None\n"
     ]
    }
   ],
   "source": [
    "# sort\n",
    "print help(my_fruits.sort)\n",
    "my_fruits.sort()\n"
   ]
  },
  {
   "cell_type": "code",
   "execution_count": 32,
   "metadata": {
    "collapsed": false
   },
   "outputs": [
    {
     "name": "stdout",
     "output_type": "stream",
     "text": [
      "['apple', 'banana', 'cherry', 'dates', 'fig', 'grapes', 'guava', 'guava', 'jackfruit']\n"
     ]
    }
   ],
   "source": [
    "print my_fruits"
   ]
  },
  {
   "cell_type": "code",
   "execution_count": 33,
   "metadata": {
    "collapsed": false
   },
   "outputs": [
    {
     "name": "stdout",
     "output_type": "stream",
     "text": [
      "None\n"
     ]
    }
   ],
   "source": [
    "print my_fruits.sort(reverse=True)"
   ]
  },
  {
   "cell_type": "code",
   "execution_count": 34,
   "metadata": {
    "collapsed": false
   },
   "outputs": [
    {
     "name": "stdout",
     "output_type": "stream",
     "text": [
      "['jackfruit', 'guava', 'guava', 'grapes', 'fig', 'dates', 'cherry', 'banana', 'apple']\n"
     ]
    }
   ],
   "source": [
    "print my_fruits"
   ]
  },
  {
   "cell_type": "code",
   "execution_count": 35,
   "metadata": {
    "collapsed": false
   },
   "outputs": [
    {
     "name": "stdout",
     "output_type": "stream",
     "text": [
      "Help on built-in function reverse:\n",
      "\n",
      "reverse(...)\n",
      "    L.reverse() -- reverse *IN PLACE*\n",
      "\n",
      "None\n",
      "None\n"
     ]
    }
   ],
   "source": [
    "# reverse\n",
    "print help(my_fruits.reverse)\n",
    "print my_fruits.reverse()"
   ]
  },
  {
   "cell_type": "code",
   "execution_count": 36,
   "metadata": {
    "collapsed": false
   },
   "outputs": [
    {
     "name": "stdout",
     "output_type": "stream",
     "text": [
      "['apple', 'banana', 'cherry', 'dates', 'fig', 'grapes', 'guava', 'guava', 'jackfruit']\n"
     ]
    }
   ],
   "source": [
    "print my_fruits"
   ]
  },
  {
   "cell_type": "code",
   "execution_count": 38,
   "metadata": {
    "collapsed": true
   },
   "outputs": [],
   "source": [
    "# task\n",
    "\n",
    "days = ['yesterday','today','tomorrow','dayafter']\n",
    "\n",
    "# task1\n",
    "# \n",
    "# yesterday 9\n",
    "# today    5\n",
    "# tomorrow 8\n",
    "# dayafter 8\n",
    "\n",
    "# task2\n",
    "# Yesterday\n",
    "# TOday\n",
    "# TOMorrow\n",
    "# DAYAfter\n"
   ]
  },
  {
   "cell_type": "code",
   "execution_count": 39,
   "metadata": {
    "collapsed": false
   },
   "outputs": [
    {
     "name": "stdout",
     "output_type": "stream",
     "text": [
      "yesterday 9\n",
      "today 5\n",
      "tomorrow 8\n",
      "dayafter 8\n"
     ]
    }
   ],
   "source": [
    "for value in days:\n",
    "    print value,len(value)\n",
    "    "
   ]
  },
  {
   "cell_type": "code",
   "execution_count": 42,
   "metadata": {
    "collapsed": false
   },
   "outputs": [
    {
     "name": "stdout",
     "output_type": "stream",
     "text": [
      "yesterday 0 y\n",
      "today 1 o\n",
      "tomorrow 2 m\n",
      "dayafter 3 a\n"
     ]
    }
   ],
   "source": [
    "for value in days:\n",
    "    print value,days.index(value),value[days.index(value)]"
   ]
  },
  {
   "cell_type": "code",
   "execution_count": 44,
   "metadata": {
    "collapsed": false
   },
   "outputs": [
    {
     "name": "stdout",
     "output_type": "stream",
     "text": [
      "yesterday 0 y\n",
      "today 1 to\n",
      "tomorrow 2 tom\n",
      "dayafter 3 daya\n"
     ]
    }
   ],
   "source": [
    "for value in days:\n",
    "    print value,days.index(value),value[0:days.index(value) + 1]"
   ]
  },
  {
   "cell_type": "code",
   "execution_count": 48,
   "metadata": {
    "collapsed": false
   },
   "outputs": [
    {
     "name": "stdout",
     "output_type": "stream",
     "text": [
      "Y\n",
      "TO\n",
      "TOM\n",
      "DAYA\n"
     ]
    }
   ],
   "source": [
    "for value in days:\n",
    "    print value[:days.index(value) + 1].upper()"
   ]
  },
  {
   "cell_type": "code",
   "execution_count": 47,
   "metadata": {
    "collapsed": false
   },
   "outputs": [
    {
     "name": "stdout",
     "output_type": "stream",
     "text": [
      "pyt\n",
      "pyt\n",
      "hon\n",
      "hon\n",
      "python\n"
     ]
    }
   ],
   "source": [
    "my_string=\"python\"\n",
    "print my_string[0:3] # pyt\n",
    "print my_string[:3]  # pyt\n",
    "print my_string[3:6] # hon\n",
    "print my_string[3:]\n",
    "print my_string[:3] + my_string[3:]"
   ]
  },
  {
   "cell_type": "code",
   "execution_count": 49,
   "metadata": {
    "collapsed": false
   },
   "outputs": [
    {
     "name": "stdout",
     "output_type": "stream",
     "text": [
      "Yesterday\n",
      "TOday\n",
      "TOMorrow\n",
      "DAYAfter\n"
     ]
    }
   ],
   "source": [
    "for value in days:\n",
    "    print value[:days.index(value) + 1].upper() + value[days.index(value) + 1:]"
   ]
  },
  {
   "cell_type": "code",
   "execution_count": null,
   "metadata": {
    "collapsed": true
   },
   "outputs": [],
   "source": [
    "# sys.argv"
   ]
  },
  {
   "cell_type": "code",
   "execution_count": null,
   "metadata": {
    "collapsed": true
   },
   "outputs": [],
   "source": [
    "# List Comprehensions\n",
    "# https://github.com/tuxfux-hlp/Python-examples/blob/master/lists/list_comprehension.txt\n",
    "# example1"
   ]
  },
  {
   "cell_type": "code",
   "execution_count": 53,
   "metadata": {
    "collapsed": false
   },
   "outputs": [
    {
     "name": "stdout",
     "output_type": "stream",
     "text": [
      "[36, 144, 324, 576, 900, 1296, 1764, 2304, 2916, 3600, 4356, 5184, 6084, 7056, 8100, 9216]\n"
     ]
    }
   ],
   "source": [
    "square=[]\n",
    "multiples = []\n",
    "for value in range(1,100):\n",
    "    square.append(value*value)\n",
    "for value in square:\n",
    "    if value % 2 == 0 and value % 3 == 0:\n",
    "        multiples.append(value)\n",
    "print multiples"
   ]
  },
  {
   "cell_type": "code",
   "execution_count": 57,
   "metadata": {
    "collapsed": false
   },
   "outputs": [
    {
     "name": "stdout",
     "output_type": "stream",
     "text": [
      "[36, 144, 324, 576, 900, 1296, 1764, 2304, 2916, 3600, 4356, 5184, 6084, 7056, 8100, 9216]\n"
     ]
    }
   ],
   "source": [
    "# list comprehension\n",
    "# [value looping condition]\n",
    "print [ value for value in [ value*value for value in range(1,100) ] if value % 2 == 0 and value % 3 == 0 ]"
   ]
  },
  {
   "cell_type": "code",
   "execution_count": 63,
   "metadata": {
    "collapsed": false
   },
   "outputs": [
    {
     "name": "stdout",
     "output_type": "stream",
     "text": [
      "please enter a number:1,2,3,4,5,6,7,8,9,10\n",
      "1,2,3,4,5,6,7,8,9,10 <type 'str'>\n",
      "2,4,6,8,10\n"
     ]
    }
   ],
   "source": [
    "# example2\n",
    "# 2,4,6,8,10\n",
    "num = raw_input(\"please enter a number:\")\n",
    "print num,type(num) \n",
    "print \",\".join([value for value in num.split(',') if int(value) % 2 == 0])"
   ]
  },
  {
   "cell_type": "code",
   "execution_count": null,
   "metadata": {
    "collapsed": true
   },
   "outputs": [],
   "source": [
    "# softcopy and deepcopy"
   ]
  },
  {
   "cell_type": "code",
   "execution_count": 1,
   "metadata": {
    "collapsed": true
   },
   "outputs": [],
   "source": [
    "a = 1"
   ]
  },
  {
   "cell_type": "code",
   "execution_count": 3,
   "metadata": {
    "collapsed": false
   },
   "outputs": [
    {
     "name": "stdout",
     "output_type": "stream",
     "text": [
      "Help on built-in function id in module __builtin__:\n",
      "\n",
      "id(...)\n",
      "    id(object) -> integer\n",
      "    \n",
      "    Return the identity of an object.  This is guaranteed to be unique among\n",
      "    simultaneously existing objects.  (Hint: it's the object's memory address.)\n",
      "\n",
      "None\n"
     ]
    }
   ],
   "source": [
    "print help(id)"
   ]
  },
  {
   "cell_type": "code",
   "execution_count": 2,
   "metadata": {
    "collapsed": false
   },
   "outputs": [
    {
     "name": "stdout",
     "output_type": "stream",
     "text": [
      "27566456 27566456\n"
     ]
    }
   ],
   "source": [
    "print id(1),id(a)"
   ]
  },
  {
   "cell_type": "code",
   "execution_count": 4,
   "metadata": {
    "collapsed": true
   },
   "outputs": [],
   "source": [
    "b = 1"
   ]
  },
  {
   "cell_type": "code",
   "execution_count": 5,
   "metadata": {
    "collapsed": false
   },
   "outputs": [
    {
     "name": "stdout",
     "output_type": "stream",
     "text": [
      "27566456 27566456\n"
     ]
    }
   ],
   "source": [
    "print id(b),id(1)"
   ]
  },
  {
   "cell_type": "code",
   "execution_count": 6,
   "metadata": {
    "collapsed": false
   },
   "outputs": [
    {
     "name": "stdout",
     "output_type": "stream",
     "text": [
      "True\n"
     ]
    }
   ],
   "source": [
    "# is\n",
    "print a is b"
   ]
  },
  {
   "cell_type": "code",
   "execution_count": 9,
   "metadata": {
    "collapsed": false
   },
   "outputs": [
    {
     "name": "stdout",
     "output_type": "stream",
     "text": [
      "True\n"
     ]
    }
   ],
   "source": [
    "# in\n",
    "print b in [1,2]"
   ]
  },
  {
   "cell_type": "code",
   "execution_count": 10,
   "metadata": {
    "collapsed": true
   },
   "outputs": [],
   "source": [
    "b = 2"
   ]
  },
  {
   "cell_type": "code",
   "execution_count": 11,
   "metadata": {
    "collapsed": false
   },
   "outputs": [
    {
     "name": "stdout",
     "output_type": "stream",
     "text": [
      "2\n"
     ]
    }
   ],
   "source": [
    "print b"
   ]
  },
  {
   "cell_type": "code",
   "execution_count": 12,
   "metadata": {
    "collapsed": false
   },
   "outputs": [
    {
     "name": "stdout",
     "output_type": "stream",
     "text": [
      "27566456 27566432 27566456 27566432\n"
     ]
    }
   ],
   "source": [
    "print id(1),id(2),id(a),id(b)"
   ]
  },
  {
   "cell_type": "code",
   "execution_count": 13,
   "metadata": {
    "collapsed": true
   },
   "outputs": [],
   "source": [
    "# lists"
   ]
  },
  {
   "cell_type": "code",
   "execution_count": null,
   "metadata": {
    "collapsed": true
   },
   "outputs": [],
   "source": [
    "# two lists sharing similar memory blocks and both get modified when we try to modify one element\n",
    "# this features is called as soft copy."
   ]
  },
  {
   "cell_type": "code",
   "execution_count": 14,
   "metadata": {
    "collapsed": true
   },
   "outputs": [],
   "source": [
    "weeks = ['sun','mon','tue']"
   ]
  },
  {
   "cell_type": "code",
   "execution_count": 15,
   "metadata": {
    "collapsed": false
   },
   "outputs": [
    {
     "name": "stdout",
     "output_type": "stream",
     "text": [
      "140700932997416 140701079789240 140701106579096 140701079789040\n"
     ]
    }
   ],
   "source": [
    "print id(weeks),id(weeks[0]),id(weeks[1]),id(weeks[2])"
   ]
  },
  {
   "cell_type": "code",
   "execution_count": 16,
   "metadata": {
    "collapsed": true
   },
   "outputs": [],
   "source": [
    "weeks1 = weeks"
   ]
  },
  {
   "cell_type": "code",
   "execution_count": 19,
   "metadata": {
    "collapsed": false
   },
   "outputs": [
    {
     "name": "stdout",
     "output_type": "stream",
     "text": [
      "['sun', 'mon', 'tue']\n",
      "140700932997416 140701079789240 140701106579096 140701079789040\n"
     ]
    }
   ],
   "source": [
    "print weeks1\n",
    "print id(weeks1),id(weeks1[0]),id(weeks1[1]),id(weeks1[2])"
   ]
  },
  {
   "cell_type": "code",
   "execution_count": 20,
   "metadata": {
    "collapsed": false
   },
   "outputs": [
    {
     "name": "stdout",
     "output_type": "stream",
     "text": [
      "True\n"
     ]
    }
   ],
   "source": [
    "print weeks is weeks1"
   ]
  },
  {
   "cell_type": "code",
   "execution_count": 22,
   "metadata": {
    "collapsed": false
   },
   "outputs": [
    {
     "name": "stdout",
     "output_type": "stream",
     "text": [
      "wed\n",
      "['sun', 'mon', 'wed']\n",
      "['sun', 'mon', 'wed']\n"
     ]
    }
   ],
   "source": [
    "print weeks[2]\n",
    "weeks[2] = \"wed\"\n",
    "print weeks1  #[\"sun\",\"mon\",\"tue\"]\n",
    "print weeks   #[\"sun\",\"mon\",\"wed\"]"
   ]
  },
  {
   "cell_type": "code",
   "execution_count": 23,
   "metadata": {
    "collapsed": false
   },
   "outputs": [
    {
     "name": "stdout",
     "output_type": "stream",
     "text": [
      "['thu', 'fri', 'sat']\n",
      "['sun', 'mon', 'wed']\n"
     ]
    }
   ],
   "source": [
    "# use case\n",
    "weeks = ['thu','fri','sat']\n",
    "print weeks\n",
    "print weeks1"
   ]
  },
  {
   "cell_type": "code",
   "execution_count": 26,
   "metadata": {
    "collapsed": false
   },
   "outputs": [
    {
     "name": "stdout",
     "output_type": "stream",
     "text": [
      "[1, 2, 3] 140700932546784 27566456 27566432 27566408\n"
     ]
    }
   ],
   "source": [
    "# deep copy\n",
    "a = [1,2,3]\n",
    "print a,id(a),id(a[0]),id(a[1]),id(a[2])"
   ]
  },
  {
   "cell_type": "code",
   "execution_count": 25,
   "metadata": {
    "collapsed": false
   },
   "outputs": [
    {
     "name": "stdout",
     "output_type": "stream",
     "text": [
      "[1, 2, 3] 140700932542336 27566456 27566432 27566408\n"
     ]
    }
   ],
   "source": [
    "# case i\n",
    "b = a[:]\n",
    "print b,id(b),id(b[0]),id(b[1]),id(b[2])"
   ]
  },
  {
   "cell_type": "code",
   "execution_count": 28,
   "metadata": {
    "collapsed": false
   },
   "outputs": [
    {
     "name": "stdout",
     "output_type": "stream",
     "text": [
      "[1, 'two', 3]\n",
      "[1, 2, 3]\n"
     ]
    }
   ],
   "source": [
    "b[1]=\"two\"\n",
    "print b\n",
    "print a"
   ]
  },
  {
   "cell_type": "code",
   "execution_count": 30,
   "metadata": {
    "collapsed": false
   },
   "outputs": [
    {
     "name": "stdout",
     "output_type": "stream",
     "text": [
      "['Error', 'PyStringMap', '_EmptyClass', '__all__', '__builtins__', '__doc__', '__file__', '__name__', '__package__', '_copy_dispatch', '_copy_immutable', '_copy_inst', '_copy_with_constructor', '_copy_with_copy_method', '_deepcopy_atomic', '_deepcopy_dict', '_deepcopy_dispatch', '_deepcopy_inst', '_deepcopy_list', '_deepcopy_method', '_deepcopy_tuple', '_keep_alive', '_reconstruct', '_test', 'copy', 'deepcopy', 'dispatch_table', 'error', 'name', 't', 'weakref']\n"
     ]
    }
   ],
   "source": [
    "# copy\n",
    "import copy\n",
    "print dir(copy)"
   ]
  },
  {
   "cell_type": "code",
   "execution_count": 31,
   "metadata": {
    "collapsed": false
   },
   "outputs": [
    {
     "name": "stdout",
     "output_type": "stream",
     "text": [
      "[1, 2, 3] [1, 2, 3]\n",
      "140700932548368 140700932546784\n"
     ]
    }
   ],
   "source": [
    "c = copy.deepcopy(a)\n",
    "print c,a\n",
    "print id(c),id(a)"
   ]
  },
  {
   "cell_type": "code",
   "execution_count": null,
   "metadata": {
    "collapsed": true
   },
   "outputs": [],
   "source": [
    "#  "
   ]
  },
  {
   "cell_type": "code",
   "execution_count": null,
   "metadata": {
    "collapsed": true
   },
   "outputs": [],
   "source": []
  }
 ],
 "metadata": {
  "kernelspec": {
   "display_name": "Python 2",
   "language": "python",
   "name": "python2"
  },
  "language_info": {
   "codemirror_mode": {
    "name": "ipython",
    "version": 2
   },
   "file_extension": ".py",
   "mimetype": "text/x-python",
   "name": "python",
   "nbconvert_exporter": "python",
   "pygments_lexer": "ipython2",
   "version": "2.7.6"
  }
 },
 "nbformat": 4,
 "nbformat_minor": 1
}
