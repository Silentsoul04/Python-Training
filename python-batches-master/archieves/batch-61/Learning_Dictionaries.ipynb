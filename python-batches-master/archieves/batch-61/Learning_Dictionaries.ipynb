{
 "cells": [
  {
   "cell_type": "code",
   "execution_count": null,
   "metadata": {
    "collapsed": true
   },
   "outputs": [],
   "source": [
    "# Seminar Videos : http://tinyurl.com/TconSeminars"
   ]
  },
  {
   "cell_type": "code",
   "execution_count": null,
   "metadata": {
    "collapsed": true
   },
   "outputs": [],
   "source": [
    "# dictionaries\n",
    "# hashes\n",
    "# dict\n",
    "\n",
    "# key(unique) => value(duplicated)\n",
    "# ssn\n",
    "# uin"
   ]
  },
  {
   "cell_type": "code",
   "execution_count": 1,
   "metadata": {
    "collapsed": false
   },
   "outputs": [
    {
     "name": "stdout",
     "output_type": "stream",
     "text": [
      "{'prakash': 'ruby', 'ramesh': 'python', 'pradeep': 'python'}\n"
     ]
    }
   ],
   "source": [
    "# define  your dictionary.\n",
    "students = {'ramesh':'python','pradeep':'python','prakash':'ruby'}\n",
    "print students"
   ]
  },
  {
   "cell_type": "code",
   "execution_count": 4,
   "metadata": {
    "collapsed": false
   },
   "outputs": [
    {
     "name": "stdout",
     "output_type": "stream",
     "text": [
      "{} <type 'dict'>\n"
     ]
    }
   ],
   "source": [
    "my_empty = {}\n",
    "print my_empty,type(my_empty)"
   ]
  },
  {
   "cell_type": "code",
   "execution_count": 5,
   "metadata": {
    "collapsed": false
   },
   "outputs": [
    {
     "name": "stdout",
     "output_type": "stream",
     "text": [
      "{} <type 'dict'>\n"
     ]
    }
   ],
   "source": [
    "my_empty = dict()\n",
    "print my_empty,type(my_empty)"
   ]
  },
  {
   "cell_type": "code",
   "execution_count": 6,
   "metadata": {
    "collapsed": true
   },
   "outputs": [],
   "source": [
    "# cheatsheet\n",
    "# list => ['apple','banana'],[],list()\n",
    "# tuples => ('apple','banana'),(),tuple()\n",
    "# dictionaries => {'a':'apple','b':'ball'},{},dict()"
   ]
  },
  {
   "cell_type": "code",
   "execution_count": 7,
   "metadata": {
    "collapsed": false
   },
   "outputs": [
    {
     "name": "stdout",
     "output_type": "stream",
     "text": [
      "python\n"
     ]
    }
   ],
   "source": [
    "# access my dictionary\n",
    "print students['ramesh'] "
   ]
  },
  {
   "cell_type": "code",
   "execution_count": 8,
   "metadata": {
    "collapsed": false
   },
   "outputs": [
    {
     "name": "stdout",
     "output_type": "stream",
     "text": [
      "{'prakash': 'ruby', 'ramesh': 'python', 'pradeep': 'python', 'kumar': 'aws'}\n"
     ]
    }
   ],
   "source": [
    "# Adding a new key and value.\n",
    "students['kumar'] = \"aws\"\n",
    "print students"
   ]
  },
  {
   "cell_type": "code",
   "execution_count": 9,
   "metadata": {
    "collapsed": false
   },
   "outputs": [
    {
     "name": "stdout",
     "output_type": "stream",
     "text": [
      "{'prakash': 'ruby', 'ramesh': 'python', 'pradeep': 'python', 'kumar': 'openstack'}\n"
     ]
    }
   ],
   "source": [
    "# replace\n",
    "students['kumar'] = 'openstack'\n",
    "print students"
   ]
  },
  {
   "cell_type": "code",
   "execution_count": 10,
   "metadata": {
    "collapsed": false
   },
   "outputs": [
    {
     "name": "stdout",
     "output_type": "stream",
     "text": [
      "{'prakash': 'ruby', 'ramesh': 'python', 'pradeep': 'python', 'kumar': ['openstack', 'aws']}\n"
     ]
    }
   ],
   "source": [
    "# A key having multiple values.\n",
    "students['kumar'] = ['openstack','aws']\n",
    "print students"
   ]
  },
  {
   "cell_type": "code",
   "execution_count": 12,
   "metadata": {
    "collapsed": false
   },
   "outputs": [
    {
     "name": "stdout",
     "output_type": "stream",
     "text": [
      "True\n",
      "False\n"
     ]
    }
   ],
   "source": [
    "# in operator\n",
    "# in operator is true for the key values.\n",
    "print 'prakash' in students\n",
    "print 'ruby' in students"
   ]
  },
  {
   "cell_type": "code",
   "execution_count": 13,
   "metadata": {
    "collapsed": false
   },
   "outputs": [
    {
     "name": "stdout",
     "output_type": "stream",
     "text": [
      "['__class__', '__cmp__', '__contains__', '__delattr__', '__delitem__', '__doc__', '__eq__', '__format__', '__ge__', '__getattribute__', '__getitem__', '__gt__', '__hash__', '__init__', '__iter__', '__le__', '__len__', '__lt__', '__ne__', '__new__', '__reduce__', '__reduce_ex__', '__repr__', '__setattr__', '__setitem__', '__sizeof__', '__str__', '__subclasshook__', 'clear', 'copy', 'fromkeys', 'get', 'has_key', 'items', 'iteritems', 'iterkeys', 'itervalues', 'keys', 'pop', 'popitem', 'setdefault', 'update', 'values', 'viewitems', 'viewkeys', 'viewvalues']\n"
     ]
    }
   ],
   "source": [
    "# function\n",
    "print dir(students)"
   ]
  },
  {
   "cell_type": "code",
   "execution_count": 14,
   "metadata": {
    "collapsed": false
   },
   "outputs": [
    {
     "name": "stdout",
     "output_type": "stream",
     "text": [
      "Help on built-in function get:\n",
      "\n",
      "get(...)\n",
      "    D.get(k[,d]) -> D[k] if k in D, else d.  d defaults to None.\n",
      "\n",
      "None\n"
     ]
    }
   ],
   "source": [
    "# get\n",
    "print help(students.get)"
   ]
  },
  {
   "cell_type": "code",
   "execution_count": 19,
   "metadata": {
    "collapsed": false
   },
   "outputs": [
    {
     "name": "stdout",
     "output_type": "stream",
     "text": [
      "['openstack', 'aws']\n",
      "['openstack', 'aws']\n",
      "None\n"
     ]
    },
    {
     "ename": "KeyError",
     "evalue": "'hari'",
     "output_type": "error",
     "traceback": [
      "\u001b[0;31m---------------------------------------------------------------------------\u001b[0m",
      "\u001b[0;31mKeyError\u001b[0m                                  Traceback (most recent call last)",
      "\u001b[0;32m<ipython-input-19-70249d466107>\u001b[0m in \u001b[0;36m<module>\u001b[0;34m()\u001b[0m\n\u001b[1;32m      2\u001b[0m \u001b[0;32mprint\u001b[0m \u001b[0mstudents\u001b[0m\u001b[0;34m[\u001b[0m\u001b[0;34m'kumar'\u001b[0m\u001b[0;34m]\u001b[0m\u001b[0;34m\u001b[0m\u001b[0m\n\u001b[1;32m      3\u001b[0m \u001b[0;32mprint\u001b[0m \u001b[0mstudents\u001b[0m\u001b[0;34m.\u001b[0m\u001b[0mget\u001b[0m\u001b[0;34m(\u001b[0m\u001b[0;34m'hari'\u001b[0m\u001b[0;34m)\u001b[0m\u001b[0;34m\u001b[0m\u001b[0m\n\u001b[0;32m----> 4\u001b[0;31m \u001b[0;32mprint\u001b[0m \u001b[0mstudents\u001b[0m\u001b[0;34m[\u001b[0m\u001b[0;34m'hari'\u001b[0m\u001b[0;34m]\u001b[0m\u001b[0;34m\u001b[0m\u001b[0m\n\u001b[0m",
      "\u001b[0;31mKeyError\u001b[0m: 'hari'"
     ]
    }
   ],
   "source": [
    "print students.get('kumar')\n",
    "print students['kumar']\n",
    "print students.get('hari')\n",
    "print students['hari']"
   ]
  },
  {
   "cell_type": "code",
   "execution_count": 21,
   "metadata": {
    "collapsed": false
   },
   "outputs": [
    {
     "name": "stdout",
     "output_type": "stream",
     "text": [
      "Help on built-in function has_key:\n",
      "\n",
      "has_key(...)\n",
      "    D.has_key(k) -> True if D has a key k, else False\n",
      "\n",
      "None\n"
     ]
    }
   ],
   "source": [
    "# has_key\n",
    "print help(students.has_key)"
   ]
  },
  {
   "cell_type": "code",
   "execution_count": 22,
   "metadata": {
    "collapsed": false
   },
   "outputs": [
    {
     "name": "stdout",
     "output_type": "stream",
     "text": [
      "True\n",
      "False\n"
     ]
    }
   ],
   "source": [
    "print students.has_key('kumar')\n",
    "print students.has_key('hari')"
   ]
  },
  {
   "cell_type": "code",
   "execution_count": 23,
   "metadata": {
    "collapsed": false
   },
   "outputs": [
    {
     "name": "stdout",
     "output_type": "stream",
     "text": [
      "True\n",
      "False\n"
     ]
    }
   ],
   "source": [
    "print 'kumar' in students\n",
    "print 'hari' in students"
   ]
  },
  {
   "cell_type": "code",
   "execution_count": 24,
   "metadata": {
    "collapsed": false
   },
   "outputs": [
    {
     "name": "stdout",
     "output_type": "stream",
     "text": [
      "Help on built-in function update:\n",
      "\n",
      "update(...)\n",
      "    D.update([E, ]**F) -> None.  Update D from dict/iterable E and F.\n",
      "    If E present and has a .keys() method, does:     for k in E: D[k] = E[k]\n",
      "    If E present and lacks .keys() method, does:     for (k, v) in E: D[k] = v\n",
      "    In either case, this is followed by: for k in F: D[k] = F[k]\n",
      "\n",
      "None\n"
     ]
    }
   ],
   "source": [
    "# update\n",
    "print help(students.update)"
   ]
  },
  {
   "cell_type": "code",
   "execution_count": 25,
   "metadata": {
    "collapsed": false
   },
   "outputs": [
    {
     "name": "stdout",
     "output_type": "stream",
     "text": [
      "{'prakash': 'ruby', 'ramesh': 'python', 'pradeep': 'python', 'kumar': ['openstack', 'aws']}\n"
     ]
    }
   ],
   "source": [
    "print students"
   ]
  },
  {
   "cell_type": "code",
   "execution_count": 30,
   "metadata": {
    "collapsed": false
   },
   "outputs": [
    {
     "name": "stdout",
     "output_type": "stream",
     "text": [
      "{'a': 'apple', 'b': 'banana'}\n"
     ]
    }
   ],
   "source": [
    "fruits = {'a':'apple','b':'banana'}\n",
    "print fruits"
   ]
  },
  {
   "cell_type": "code",
   "execution_count": 31,
   "metadata": {
    "collapsed": false
   },
   "outputs": [
    {
     "name": "stdout",
     "output_type": "stream",
     "text": [
      "{'a': 'apple', 'kumar': ['openstack', 'aws'], 'ramesh': 'python', 'b': 'banana', 'prakash': 'ruby', 'pradeep': 'python'}\n"
     ]
    }
   ],
   "source": [
    "students.update(fruits)\n",
    "print students"
   ]
  },
  {
   "cell_type": "code",
   "execution_count": 32,
   "metadata": {
    "collapsed": false
   },
   "outputs": [
    {
     "name": "stdout",
     "output_type": "stream",
     "text": [
      "Help on built-in function fromkeys:\n",
      "\n",
      "fromkeys(...)\n",
      "    dict.fromkeys(S[,v]) -> New dict with keys from S and values equal to v.\n",
      "    v defaults to None.\n",
      "\n",
      "None\n"
     ]
    }
   ],
   "source": [
    "# fromkeys\n",
    "print help(students.fromkeys)"
   ]
  },
  {
   "cell_type": "code",
   "execution_count": 34,
   "metadata": {
    "collapsed": false
   },
   "outputs": [
    {
     "name": "stdout",
     "output_type": "stream",
     "text": [
      "{'kumar': 'python', 'dinesh': 'python', 'hari': 'python'}\n",
      "{'kumar': None, 'dinesh': None, 'hari': None}\n"
     ]
    }
   ],
   "source": [
    "names = ('hari','dinesh','kumar')\n",
    "print students.fromkeys(names,\"python\")\n",
    "print students.fromkeys(names)"
   ]
  },
  {
   "cell_type": "code",
   "execution_count": 35,
   "metadata": {
    "collapsed": false
   },
   "outputs": [
    {
     "name": "stdout",
     "output_type": "stream",
     "text": [
      "Help on built-in function keys:\n",
      "\n",
      "keys(...)\n",
      "    D.keys() -> list of D's keys\n",
      "\n",
      "None\n",
      "['a', 'kumar', 'ramesh', 'b', 'prakash', 'pradeep']\n"
     ]
    }
   ],
   "source": [
    "# keys,values,items\n",
    "\n",
    "# keys\n",
    "print help(students.keys)\n",
    "print students.keys()\n"
   ]
  },
  {
   "cell_type": "code",
   "execution_count": 42,
   "metadata": {
    "collapsed": false
   },
   "outputs": [
    {
     "name": "stdout",
     "output_type": "stream",
     "text": [
      "Help on built-in function iterkeys:\n",
      "\n",
      "iterkeys(...)\n",
      "    D.iterkeys() -> an iterator over the keys of D\n",
      "\n",
      "None\n",
      "<built-in method iterkeys of dict object at 0x7fa53c859c58>\n",
      "<dictionary-keyiterator object at 0x7fa527fb8100>\n",
      "a\n",
      "kumar\n",
      "ramesh\n",
      "b\n",
      "prakash\n",
      "pradeep\n"
     ]
    }
   ],
   "source": [
    "# iterkeys\n",
    "print help(students.iterkeys)\n",
    "print students.iterkeys\n",
    "print students.iterkeys()\n",
    "for value in students.iterkeys():\n",
    "    print value"
   ]
  },
  {
   "cell_type": "code",
   "execution_count": 44,
   "metadata": {
    "collapsed": false
   },
   "outputs": [
    {
     "name": "stdout",
     "output_type": "stream",
     "text": [
      "Help on built-in function viewkeys:\n",
      "\n",
      "viewkeys(...)\n",
      "    D.viewkeys() -> a set-like object providing a view on D's keys\n",
      "\n",
      "None\n",
      "dict_keys(['a', 'kumar', 'ramesh', 'b', 'prakash', 'pradeep'])\n"
     ]
    }
   ],
   "source": [
    "# viewkeys\n",
    "print help(students.viewkeys)\n",
    "print students.viewkeys()"
   ]
  },
  {
   "cell_type": "code",
   "execution_count": 36,
   "metadata": {
    "collapsed": false
   },
   "outputs": [
    {
     "name": "stdout",
     "output_type": "stream",
     "text": [
      "Help on built-in function values:\n",
      "\n",
      "values(...)\n",
      "    D.values() -> list of D's values\n",
      "\n",
      "None\n",
      "['apple', ['openstack', 'aws'], 'python', 'banana', 'ruby', 'python']\n"
     ]
    }
   ],
   "source": [
    "# values\n",
    "# itervalues\n",
    "# viewvalues\n",
    "\n",
    "print help(students.values)\n",
    "print students.values()"
   ]
  },
  {
   "cell_type": "code",
   "execution_count": 37,
   "metadata": {
    "collapsed": false
   },
   "outputs": [
    {
     "name": "stdout",
     "output_type": "stream",
     "text": [
      "Help on built-in function items:\n",
      "\n",
      "items(...)\n",
      "    D.items() -> list of D's (key, value) pairs, as 2-tuples\n",
      "\n",
      "None\n",
      "[('a', 'apple'), ('kumar', ['openstack', 'aws']), ('ramesh', 'python'), ('b', 'banana'), ('prakash', 'ruby'), ('pradeep', 'python')]\n"
     ]
    }
   ],
   "source": [
    "# items\n",
    "# iteritems\n",
    "# viewitems\n",
    "\n",
    "print help(students.items)\n",
    "print students.items()"
   ]
  },
  {
   "cell_type": "code",
   "execution_count": 47,
   "metadata": {
    "collapsed": false
   },
   "outputs": [
    {
     "name": "stdout",
     "output_type": "stream",
     "text": [
      "Help on built-in function pop:\n",
      "\n",
      "pop(...)\n",
      "    D.pop(k[,d]) -> v, remove specified key and return the corresponding value.\n",
      "    If key is not found, d is returned if given, otherwise KeyError is raised\n",
      "\n",
      "None\n"
     ]
    },
    {
     "ename": "KeyError",
     "evalue": "'a'",
     "output_type": "error",
     "traceback": [
      "\u001b[0;31m---------------------------------------------------------------------------\u001b[0m",
      "\u001b[0;31mKeyError\u001b[0m                                  Traceback (most recent call last)",
      "\u001b[0;32m<ipython-input-47-614ee2151d81>\u001b[0m in \u001b[0;36m<module>\u001b[0;34m()\u001b[0m\n\u001b[1;32m      1\u001b[0m \u001b[0;31m# pop\u001b[0m\u001b[0;34m\u001b[0m\u001b[0;34m\u001b[0m\u001b[0m\n\u001b[1;32m      2\u001b[0m \u001b[0;32mprint\u001b[0m \u001b[0mhelp\u001b[0m\u001b[0;34m(\u001b[0m\u001b[0mstudents\u001b[0m\u001b[0;34m.\u001b[0m\u001b[0mpop\u001b[0m\u001b[0;34m)\u001b[0m\u001b[0;34m\u001b[0m\u001b[0m\n\u001b[0;32m----> 3\u001b[0;31m \u001b[0mstudents\u001b[0m\u001b[0;34m.\u001b[0m\u001b[0mpop\u001b[0m\u001b[0;34m(\u001b[0m\u001b[0;34m'a'\u001b[0m\u001b[0;34m)\u001b[0m\u001b[0;34m\u001b[0m\u001b[0m\n\u001b[0m\u001b[1;32m      4\u001b[0m \u001b[0;32mprint\u001b[0m \u001b[0mstudents\u001b[0m\u001b[0;34m\u001b[0m\u001b[0m\n\u001b[1;32m      5\u001b[0m \u001b[0;34m\u001b[0m\u001b[0m\n",
      "\u001b[0;31mKeyError\u001b[0m: 'a'"
     ]
    }
   ],
   "source": [
    "# pop\n",
    "print help(students.pop)\n",
    "students.pop('a')\n",
    "print students\n",
    "\n",
    "students.pop('a')"
   ]
  },
  {
   "cell_type": "code",
   "execution_count": 51,
   "metadata": {
    "collapsed": false
   },
   "outputs": [
    {
     "name": "stdout",
     "output_type": "stream",
     "text": [
      "Help on built-in function popitem:\n",
      "\n",
      "popitem(...)\n",
      "    D.popitem() -> (k, v), remove and return some (key, value) pair as a\n",
      "    2-tuple; but raise KeyError if D is empty.\n",
      "\n",
      "None\n",
      "('ramesh', 'python')\n",
      "('b', 'banana')\n"
     ]
    }
   ],
   "source": [
    "# popitem\n",
    "print help(students.popitem)\n",
    "print students.popitem()\n",
    "print students.popitem()"
   ]
  },
  {
   "cell_type": "code",
   "execution_count": null,
   "metadata": {
    "collapsed": true
   },
   "outputs": [],
   "source": [
    "# tasks\n",
    "# zip\n",
    "# del"
   ]
  },
  {
   "cell_type": "code",
   "execution_count": 52,
   "metadata": {
    "collapsed": false
   },
   "outputs": [
    {
     "name": "stdout",
     "output_type": "stream",
     "text": [
      "Help on built-in function setdefault:\n",
      "\n",
      "setdefault(...)\n",
      "    D.setdefault(k[,d]) -> D.get(k,d), also set D[k]=d if k not in D\n",
      "\n",
      "None\n"
     ]
    }
   ],
   "source": [
    "# setdefault\n",
    "print help(students.setdefault)"
   ]
  },
  {
   "cell_type": "code",
   "execution_count": 53,
   "metadata": {
    "collapsed": false
   },
   "outputs": [
    {
     "data": {
      "text/plain": [
       "'python'"
      ]
     },
     "execution_count": 53,
     "metadata": {},
     "output_type": "execute_result"
    }
   ],
   "source": [
    "students.setdefault('hari','python')"
   ]
  },
  {
   "cell_type": "code",
   "execution_count": 54,
   "metadata": {
    "collapsed": false
   },
   "outputs": [
    {
     "name": "stdout",
     "output_type": "stream",
     "text": [
      "{'hari': 'python', 'prakash': 'ruby', 'pradeep': 'python'}\n"
     ]
    }
   ],
   "source": [
    "print students"
   ]
  },
  {
   "cell_type": "code",
   "execution_count": 55,
   "metadata": {
    "collapsed": false
   },
   "outputs": [
    {
     "name": "stdout",
     "output_type": "stream",
     "text": [
      "python\n"
     ]
    }
   ],
   "source": [
    "print students.setdefault('hari','django')"
   ]
  },
  {
   "cell_type": "code",
   "execution_count": 56,
   "metadata": {
    "collapsed": false
   },
   "outputs": [
    {
     "name": "stdout",
     "output_type": "stream",
     "text": [
      "{'hari': 'python', 'prakash': 'ruby', 'pradeep': 'python'}\n"
     ]
    }
   ],
   "source": [
    "print students"
   ]
  },
  {
   "cell_type": "code",
   "execution_count": 57,
   "metadata": {
    "collapsed": false
   },
   "outputs": [
    {
     "name": "stdout",
     "output_type": "stream",
     "text": [
      "python\n",
      "{'kumar': 'python', 'hari': 'python', 'prakash': 'ruby', 'pradeep': 'python'}\n"
     ]
    }
   ],
   "source": [
    "print students.setdefault('kumar','python')\n",
    "print students"
   ]
  },
  {
   "cell_type": "code",
   "execution_count": 58,
   "metadata": {
    "collapsed": false
   },
   "outputs": [
    {
     "name": "stdout",
     "output_type": "stream",
     "text": [
      "{'kumar': 'python', 'hari': 'django', 'prakash': 'ruby', 'pradeep': 'python'}\n"
     ]
    }
   ],
   "source": [
    "students['hari']='django'\n",
    "print students"
   ]
  },
  {
   "cell_type": "code",
   "execution_count": null,
   "metadata": {
    "collapsed": true
   },
   "outputs": [],
   "source": [
    "# tomorrow\n",
    "# clear\n",
    "# copy - shallowcopy"
   ]
  },
  {
   "cell_type": "code",
   "execution_count": null,
   "metadata": {
    "collapsed": true
   },
   "outputs": [],
   "source": []
  }
 ],
 "metadata": {
  "kernelspec": {
   "display_name": "Python 2",
   "language": "python",
   "name": "python2"
  },
  "language_info": {
   "codemirror_mode": {
    "name": "ipython",
    "version": 2
   },
   "file_extension": ".py",
   "mimetype": "text/x-python",
   "name": "python",
   "nbconvert_exporter": "python",
   "pygments_lexer": "ipython2",
   "version": "2.7.6"
  }
 },
 "nbformat": 4,
 "nbformat_minor": 1
}
