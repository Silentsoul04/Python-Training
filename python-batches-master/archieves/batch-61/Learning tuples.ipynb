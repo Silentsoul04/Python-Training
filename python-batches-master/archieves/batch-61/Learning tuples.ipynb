{
 "cells": [
  {
   "cell_type": "code",
   "execution_count": null,
   "metadata": {
    "collapsed": true
   },
   "outputs": [],
   "source": [
    "# tuples - readnonly representation of lists.\n",
    "# gender -> (m,f)\n",
    "# days of week - friday,monday"
   ]
  },
  {
   "cell_type": "code",
   "execution_count": 4,
   "metadata": {
    "collapsed": false
   },
   "outputs": [
    {
     "name": "stdout",
     "output_type": "stream",
     "text": [
      "('f', 'm') <type 'tuple'>\n",
      "() <type 'tuple'>\n",
      "() <type 'tuple'>\n"
     ]
    }
   ],
   "source": [
    "# create a tuple\n",
    "my_gender = ('f','m')\n",
    "print my_gender,type(my_gender)\n",
    "empty_tuple = ()\n",
    "print empty_tuple,type(empty_tuple)\n",
    "empty_tuple = tuple()\n",
    "print empty_tuple,type(empty_tuple)"
   ]
  },
  {
   "cell_type": "code",
   "execution_count": 9,
   "metadata": {
    "collapsed": false
   },
   "outputs": [
    {
     "name": "stdout",
     "output_type": "stream",
     "text": [
      "<type 'str'>\n",
      "<type 'str'>\n",
      "<type 'tuple'>\n",
      "<type 'str'>\n",
      "<type 'tuple'>\n"
     ]
    }
   ],
   "source": [
    "# \n",
    "my_string = \"python\"\n",
    "print type(my_string)\n",
    "my_string = (\"python\")\n",
    "print type(my_string)\n",
    "my_string = \"python\",\"linux\",\"django\",\"redhat\"\n",
    "print type(my_string)\n",
    "my_string=\"python,linux,django,redhat\"\n",
    "print type(my_string)\n",
    "my_string=(\"python\",)\n",
    "print type(my_string)"
   ]
  },
  {
   "cell_type": "code",
   "execution_count": 10,
   "metadata": {
    "collapsed": true
   },
   "outputs": [],
   "source": [
    "# tuple\n",
    "# indexing,slicing"
   ]
  },
  {
   "cell_type": "code",
   "execution_count": 11,
   "metadata": {
    "collapsed": false
   },
   "outputs": [
    {
     "name": "stdout",
     "output_type": "stream",
     "text": [
      "sun mon tue wed thu fri sat\n"
     ]
    }
   ],
   "source": [
    "# packing and unpacking\n",
    "# tuples and lists are packing.\n",
    "my_week=(\"sun\",\"mon\",\"tue\",\"wed\",\"thu\",\"fri\",\"sat\")\n",
    "# s = my_week[0]\n",
    "s,m,t,w,tu,f,sa = my_week\n",
    "print s,m,t,w,tu,f,sa"
   ]
  },
  {
   "cell_type": "code",
   "execution_count": 12,
   "metadata": {
    "collapsed": false
   },
   "outputs": [
    {
     "ename": "ValueError",
     "evalue": "too many values to unpack",
     "output_type": "error",
     "traceback": [
      "\u001b[0;31m---------------------------------------------------------------------------\u001b[0m",
      "\u001b[0;31mValueError\u001b[0m                                Traceback (most recent call last)",
      "\u001b[0;32m<ipython-input-12-8ce1b7e50828>\u001b[0m in \u001b[0;36m<module>\u001b[0;34m()\u001b[0m\n\u001b[0;32m----> 1\u001b[0;31m \u001b[0ms\u001b[0m\u001b[0;34m,\u001b[0m\u001b[0mm\u001b[0m\u001b[0;34m,\u001b[0m\u001b[0mt\u001b[0m\u001b[0;34m,\u001b[0m\u001b[0mw\u001b[0m\u001b[0;34m,\u001b[0m\u001b[0mtu\u001b[0m\u001b[0;34m,\u001b[0m\u001b[0mf\u001b[0m \u001b[0;34m=\u001b[0m \u001b[0mmy_week\u001b[0m\u001b[0;34m\u001b[0m\u001b[0m\n\u001b[0m",
      "\u001b[0;31mValueError\u001b[0m: too many values to unpack"
     ]
    }
   ],
   "source": [
    "s,m,t,w,tu,f = my_week"
   ]
  },
  {
   "cell_type": "code",
   "execution_count": 13,
   "metadata": {
    "collapsed": false
   },
   "outputs": [
    {
     "ename": "ValueError",
     "evalue": "need more than 7 values to unpack",
     "output_type": "error",
     "traceback": [
      "\u001b[0;31m---------------------------------------------------------------------------\u001b[0m",
      "\u001b[0;31mValueError\u001b[0m                                Traceback (most recent call last)",
      "\u001b[0;32m<ipython-input-13-ece0200f866c>\u001b[0m in \u001b[0;36m<module>\u001b[0;34m()\u001b[0m\n\u001b[0;32m----> 1\u001b[0;31m \u001b[0ms\u001b[0m\u001b[0;34m,\u001b[0m\u001b[0mm\u001b[0m\u001b[0;34m,\u001b[0m\u001b[0mt\u001b[0m\u001b[0;34m,\u001b[0m\u001b[0mw\u001b[0m\u001b[0;34m,\u001b[0m\u001b[0mtu\u001b[0m\u001b[0;34m,\u001b[0m\u001b[0mf\u001b[0m\u001b[0;34m,\u001b[0m\u001b[0msa\u001b[0m\u001b[0;34m,\u001b[0m\u001b[0msw\u001b[0m \u001b[0;34m=\u001b[0m \u001b[0mmy_week\u001b[0m\u001b[0;34m\u001b[0m\u001b[0m\n\u001b[0m",
      "\u001b[0;31mValueError\u001b[0m: need more than 7 values to unpack"
     ]
    }
   ],
   "source": [
    "s,m,t,w,tu,f,sa,sw = my_week"
   ]
  },
  {
   "cell_type": "code",
   "execution_count": null,
   "metadata": {
    "collapsed": true
   },
   "outputs": [],
   "source": [
    "# lists and tuple"
   ]
  },
  {
   "cell_type": "code",
   "execution_count": 14,
   "metadata": {
    "collapsed": true
   },
   "outputs": [],
   "source": [
    "students = ['pradeep','ravi','rahul','sudha','keerthan','akshit']\n",
    "subjects = ['python','django','puppet','chef','ansibel','vagrant']"
   ]
  },
  {
   "cell_type": "code",
   "execution_count": 15,
   "metadata": {
    "collapsed": false
   },
   "outputs": [
    {
     "name": "stdout",
     "output_type": "stream",
     "text": [
      "True\n"
     ]
    }
   ],
   "source": [
    "# how to verify is student is ther in list or not.\n",
    "name = 'pradeep'\n",
    "print name in students"
   ]
  },
  {
   "cell_type": "code",
   "execution_count": 17,
   "metadata": {
    "collapsed": false
   },
   "outputs": [
    {
     "name": "stdout",
     "output_type": "stream",
     "text": [
      "0\n"
     ]
    }
   ],
   "source": [
    "# index for pradeep\n",
    "print students.index('pradeep')"
   ]
  },
  {
   "cell_type": "code",
   "execution_count": 18,
   "metadata": {
    "collapsed": false
   },
   "outputs": [
    {
     "name": "stdout",
     "output_type": "stream",
     "text": [
      "python\n"
     ]
    }
   ],
   "source": [
    "# subject pradeep going to write.\n",
    "print subjects[students.index('pradeep')]"
   ]
  },
  {
   "cell_type": "code",
   "execution_count": 21,
   "metadata": {
    "collapsed": false
   },
   "outputs": [
    {
     "name": "stdout",
     "output_type": "stream",
     "text": [
      "please enter  your name:keerthan\n",
      "keerthan is going to give the exam ansibel\n"
     ]
    }
   ],
   "source": [
    "name = raw_input(\"please enter  your name:\")\n",
    "if name in students:\n",
    "    print \"{} is going to give the exam {}\".format(name,subjects[students.index(name)])"
   ]
  },
  {
   "cell_type": "code",
   "execution_count": null,
   "metadata": {
    "collapsed": true
   },
   "outputs": [],
   "source": [
    "#students = ['pradeep','ravi','rahul','sudha','keerthan','akshit']\n",
    "#subjects = ['python','django','puppet','chef','ansibel','vagrant]"
   ]
  },
  {
   "cell_type": "code",
   "execution_count": 22,
   "metadata": {
    "collapsed": false
   },
   "outputs": [
    {
     "name": "stdout",
     "output_type": "stream",
     "text": [
      "['pradeep', 'ravi', 'rahul', 'sudha', 'keerthan', 'akshit']\n",
      "['ansibel', 'chef', 'django', 'puppet', 'python', 'vagrant']\n"
     ]
    }
   ],
   "source": [
    "subjects.sort()\n",
    "print students\n",
    "print subjects"
   ]
  },
  {
   "cell_type": "code",
   "execution_count": 23,
   "metadata": {
    "collapsed": false
   },
   "outputs": [
    {
     "name": "stdout",
     "output_type": "stream",
     "text": [
      "please enter  your name:keerthan\n",
      "keerthan is going to give the exam python\n"
     ]
    }
   ],
   "source": [
    "name = raw_input(\"please enter  your name:\")\n",
    "if name in students:\n",
    "    print \"{} is going to give the exam {}\".format(name,subjects[students.index(name)])"
   ]
  },
  {
   "cell_type": "code",
   "execution_count": 24,
   "metadata": {
    "collapsed": true
   },
   "outputs": [],
   "source": [
    "# list of tuples.\n",
    "exams = [('pradeep','python'),('ravi','django'),('rahul','puppet'),('keerthan','ansible'),('akshit','vagrant')]"
   ]
  },
  {
   "cell_type": "code",
   "execution_count": 25,
   "metadata": {
    "collapsed": false
   },
   "outputs": [
    {
     "name": "stdout",
     "output_type": "stream",
     "text": [
      "('pradeep', 'python')\n",
      "('ravi', 'django')\n",
      "('rahul', 'puppet')\n",
      "('keerthan', 'ansible')\n",
      "('akshit', 'vagrant')\n"
     ]
    }
   ],
   "source": [
    "for value in exams:\n",
    "    print value"
   ]
  },
  {
   "cell_type": "code",
   "execution_count": 26,
   "metadata": {
    "collapsed": false
   },
   "outputs": [
    {
     "name": "stdout",
     "output_type": "stream",
     "text": [
      "please enter your name:ravi\n",
      "ravi is going to give exam django\n"
     ]
    }
   ],
   "source": [
    "name = raw_input(\"please enter your name:\")\n",
    "for student,subject in exams:\n",
    "    if name in student:\n",
    "        print \"{} is going to give exam {}\".format(student,subject)"
   ]
  },
  {
   "cell_type": "code",
   "execution_count": 27,
   "metadata": {
    "collapsed": true
   },
   "outputs": [],
   "source": [
    "exams.sort()"
   ]
  },
  {
   "cell_type": "code",
   "execution_count": 28,
   "metadata": {
    "collapsed": false
   },
   "outputs": [
    {
     "name": "stdout",
     "output_type": "stream",
     "text": [
      "[('akshit', 'vagrant'), ('keerthan', 'ansible'), ('pradeep', 'python'), ('rahul', 'puppet'), ('ravi', 'django')]\n"
     ]
    }
   ],
   "source": [
    "print exams # groupby function in databases."
   ]
  },
  {
   "cell_type": "code",
   "execution_count": null,
   "metadata": {
    "collapsed": true
   },
   "outputs": [],
   "source": [
    "# list of tuple\n",
    "# tuples of list."
   ]
  },
  {
   "cell_type": "code",
   "execution_count": 1,
   "metadata": {
    "collapsed": true
   },
   "outputs": [],
   "source": [
    "names = [('akshit', 'vagrant'), ('keerthan', 'ansible'), ('pradeep', 'python')]"
   ]
  },
  {
   "cell_type": "code",
   "execution_count": 2,
   "metadata": {
    "collapsed": false
   },
   "outputs": [
    {
     "name": "stdout",
     "output_type": "stream",
     "text": [
      "akshit\n"
     ]
    }
   ],
   "source": [
    "print names[0][0]"
   ]
  },
  {
   "cell_type": "code",
   "execution_count": 3,
   "metadata": {
    "collapsed": false
   },
   "outputs": [
    {
     "ename": "TypeError",
     "evalue": "'tuple' object does not support item assignment",
     "output_type": "error",
     "traceback": [
      "\u001b[0;31m---------------------------------------------------------------------------\u001b[0m",
      "\u001b[0;31mTypeError\u001b[0m                                 Traceback (most recent call last)",
      "\u001b[0;32m<ipython-input-3-9a57173c2c41>\u001b[0m in \u001b[0;36m<module>\u001b[0;34m()\u001b[0m\n\u001b[0;32m----> 1\u001b[0;31m \u001b[0mnames\u001b[0m\u001b[0;34m[\u001b[0m\u001b[0;36m0\u001b[0m\u001b[0;34m]\u001b[0m\u001b[0;34m[\u001b[0m\u001b[0;36m0\u001b[0m\u001b[0;34m]\u001b[0m \u001b[0;34m=\u001b[0m \u001b[0;34m'Akshit'\u001b[0m\u001b[0;34m\u001b[0m\u001b[0m\n\u001b[0m",
      "\u001b[0;31mTypeError\u001b[0m: 'tuple' object does not support item assignment"
     ]
    }
   ],
   "source": [
    "names[0][0] = 'Akshit'"
   ]
  },
  {
   "cell_type": "code",
   "execution_count": 4,
   "metadata": {
    "collapsed": true
   },
   "outputs": [],
   "source": [
    "names[0] = ('Akshit','vagrant')"
   ]
  },
  {
   "cell_type": "code",
   "execution_count": 5,
   "metadata": {
    "collapsed": false
   },
   "outputs": [
    {
     "name": "stdout",
     "output_type": "stream",
     "text": [
      "[('Akshit', 'vagrant'), ('keerthan', 'ansible'), ('pradeep', 'python')]\n"
     ]
    }
   ],
   "source": [
    "print names"
   ]
  },
  {
   "cell_type": "code",
   "execution_count": 8,
   "metadata": {
    "collapsed": true
   },
   "outputs": [],
   "source": [
    "names = (['akshit', 'vagrant'], ['keerthan', 'ansible'], ['pradeep', 'python'])"
   ]
  },
  {
   "cell_type": "code",
   "execution_count": 9,
   "metadata": {
    "collapsed": true
   },
   "outputs": [],
   "source": [
    "names[0][0] = \"Akshit\""
   ]
  },
  {
   "cell_type": "code",
   "execution_count": 10,
   "metadata": {
    "collapsed": false
   },
   "outputs": [
    {
     "name": "stdout",
     "output_type": "stream",
     "text": [
      "(['Akshit', 'vagrant'], ['keerthan', 'ansible'], ['pradeep', 'python'])\n"
     ]
    }
   ],
   "source": [
    "print names"
   ]
  },
  {
   "cell_type": "code",
   "execution_count": 11,
   "metadata": {
    "collapsed": false
   },
   "outputs": [
    {
     "ename": "TypeError",
     "evalue": "'tuple' object does not support item assignment",
     "output_type": "error",
     "traceback": [
      "\u001b[0;31m---------------------------------------------------------------------------\u001b[0m",
      "\u001b[0;31mTypeError\u001b[0m                                 Traceback (most recent call last)",
      "\u001b[0;32m<ipython-input-11-d5fc888a04d9>\u001b[0m in \u001b[0;36m<module>\u001b[0;34m()\u001b[0m\n\u001b[0;32m----> 1\u001b[0;31m \u001b[0mnames\u001b[0m\u001b[0;34m[\u001b[0m\u001b[0;36m0\u001b[0m\u001b[0;34m]\u001b[0m \u001b[0;34m=\u001b[0m \u001b[0;34m[\u001b[0m\u001b[0;34m'kumar'\u001b[0m\u001b[0;34m,\u001b[0m\u001b[0;34m'ansibel'\u001b[0m\u001b[0;34m]\u001b[0m\u001b[0;34m\u001b[0m\u001b[0m\n\u001b[0m\u001b[1;32m      2\u001b[0m \u001b[0;32mprint\u001b[0m \u001b[0mnames\u001b[0m\u001b[0;34m\u001b[0m\u001b[0m\n",
      "\u001b[0;31mTypeError\u001b[0m: 'tuple' object does not support item assignment"
     ]
    }
   ],
   "source": [
    "names[0] = ['kumar','ansibel']\n",
    "print names"
   ]
  },
  {
   "cell_type": "code",
   "execution_count": 13,
   "metadata": {
    "collapsed": false
   },
   "outputs": [
    {
     "name": "stdout",
     "output_type": "stream",
     "text": [
      "(1, 2, 3, 4, 5)\n",
      "[1, 2, 3, 4, 5]\n"
     ]
    }
   ],
   "source": [
    "#task\n",
    "my_list = [1,2,3,4,5]\n",
    "# output (1,2,3,4,5)\n",
    "my_tuple = tuple(my_list)\n",
    "print my_tuple\n",
    "print my_list"
   ]
  },
  {
   "cell_type": "code",
   "execution_count": null,
   "metadata": {
    "collapsed": true
   },
   "outputs": [],
   "source": []
  }
 ],
 "metadata": {
  "kernelspec": {
   "display_name": "Python 2",
   "language": "python",
   "name": "python2"
  },
  "language_info": {
   "codemirror_mode": {
    "name": "ipython",
    "version": 2
   },
   "file_extension": ".py",
   "mimetype": "text/x-python",
   "name": "python",
   "nbconvert_exporter": "python",
   "pygments_lexer": "ipython2",
   "version": "2.7.6"
  }
 },
 "nbformat": 4,
 "nbformat_minor": 1
}
