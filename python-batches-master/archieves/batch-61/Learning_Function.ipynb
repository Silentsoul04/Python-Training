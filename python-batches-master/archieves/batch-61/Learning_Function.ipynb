{
 "cells": [
  {
   "cell_type": "code",
   "execution_count": null,
   "metadata": {
    "collapsed": true
   },
   "outputs": [],
   "source": [
    "# functions\n",
    "# A function is a block of code.. which can be called n number of times.\n",
    "# block - function - which could be repetative."
   ]
  },
  {
   "cell_type": "code",
   "execution_count": 1,
   "metadata": {
    "collapsed": true
   },
   "outputs": [],
   "source": [
    "# every function has a return value.\n",
    "# if there is no value returned , we get None.\n",
    "def myfunc():\n",
    "    print \"hello world!!!\""
   ]
  },
  {
   "cell_type": "code",
   "execution_count": 2,
   "metadata": {
    "collapsed": false
   },
   "outputs": [
    {
     "name": "stdout",
     "output_type": "stream",
     "text": [
      "hello world!!!\n",
      "None\n",
      "hello world!!!\n",
      "None\n"
     ]
    }
   ],
   "source": [
    "print myfunc()\n",
    "print myfunc()"
   ]
  },
  {
   "cell_type": "code",
   "execution_count": 13,
   "metadata": {
    "collapsed": true
   },
   "outputs": [],
   "source": [
    "# return is not a print statement.\n",
    "# return marks the end of the function.\n",
    "\n",
    "# defin\n",
    "def myfunc():\n",
    "    print \"hey there\"\n",
    "    print \"how are you\"\n",
    "    print \"hope you are fine\"\n",
    "    return \"hello world!!!\"\n",
    "    "
   ]
  },
  {
   "cell_type": "code",
   "execution_count": 14,
   "metadata": {
    "collapsed": false
   },
   "outputs": [
    {
     "name": "stdout",
     "output_type": "stream",
     "text": [
      "hey there\n",
      "how are you\n",
      "hope you are fine\n",
      "hello world!!!\n",
      "hey there\n",
      "how are you\n",
      "hope you are fine\n",
      "hello world!!!\n"
     ]
    }
   ],
   "source": [
    "# calling the function.\n",
    "print myfunc()\n",
    "print myfunc()"
   ]
  },
  {
   "cell_type": "code",
   "execution_count": 19,
   "metadata": {
    "collapsed": true
   },
   "outputs": [],
   "source": [
    "# scope of function\n",
    "# scope or namespaces\n",
    "# any variable defined inside a function is available only during the runtime of function.\n",
    "# locals -> what are the variables available to us locally for our function.\n",
    "\n",
    "\n",
    "def new():\n",
    "    a = 1\n",
    "    print locals()\n",
    "    return a"
   ]
  },
  {
   "cell_type": "code",
   "execution_count": 21,
   "metadata": {
    "collapsed": false
   },
   "outputs": [
    {
     "name": "stdout",
     "output_type": "stream",
     "text": [
      "<function new at 0x7fa6d429a500>\n",
      "<type 'function'>\n"
     ]
    }
   ],
   "source": [
    "print new\n",
    "print type(new)"
   ]
  },
  {
   "cell_type": "code",
   "execution_count": 22,
   "metadata": {
    "collapsed": false
   },
   "outputs": [
    {
     "name": "stdout",
     "output_type": "stream",
     "text": [
      "{'a': 1}\n",
      "1\n"
     ]
    },
    {
     "ename": "NameError",
     "evalue": "name 'a' is not defined",
     "output_type": "error",
     "traceback": [
      "\u001b[0;31m---------------------------------------------------------------------------\u001b[0m",
      "\u001b[0;31mNameError\u001b[0m                                 Traceback (most recent call last)",
      "\u001b[0;32m<ipython-input-22-cb8c301ab2fa>\u001b[0m in \u001b[0;36m<module>\u001b[0;34m()\u001b[0m\n\u001b[1;32m      1\u001b[0m \u001b[0;32mprint\u001b[0m \u001b[0mnew\u001b[0m\u001b[0;34m(\u001b[0m\u001b[0;34m)\u001b[0m \u001b[0;31m# 1\u001b[0m\u001b[0;34m\u001b[0m\u001b[0m\n\u001b[0;32m----> 2\u001b[0;31m \u001b[0;32mprint\u001b[0m \u001b[0ma\u001b[0m\u001b[0;34m\u001b[0m\u001b[0m\n\u001b[0m",
      "\u001b[0;31mNameError\u001b[0m: name 'a' is not defined"
     ]
    }
   ],
   "source": [
    "print new() # 1\n",
    "print a "
   ]
  },
  {
   "cell_type": "code",
   "execution_count": 18,
   "metadata": {
    "collapsed": false
   },
   "outputs": [
    {
     "name": "stdout",
     "output_type": "stream",
     "text": [
      "1\n"
     ]
    }
   ],
   "source": [
    "# if i want to save the value of \"a\" outside the function.\n",
    "# we can trap the return value\n",
    "\n",
    "z = new()\n",
    "print z"
   ]
  },
  {
   "cell_type": "code",
   "execution_count": 23,
   "metadata": {
    "collapsed": true
   },
   "outputs": [],
   "source": [
    "# case II\n",
    "# scope resolution\n",
    "# if variables are not available in local namespace, your function looks in global namespace.\n",
    "# globals -> what are variables available to us globally.\n",
    "\n",
    "y = 10\n",
    "\n",
    "def new():\n",
    "    print locals()\n",
    "    return y"
   ]
  },
  {
   "cell_type": "code",
   "execution_count": 24,
   "metadata": {
    "collapsed": false
   },
   "outputs": [
    {
     "name": "stdout",
     "output_type": "stream",
     "text": [
      "{}\n",
      "10\n",
      "10\n"
     ]
    }
   ],
   "source": [
    "print new() # 10\n",
    "print y # 10"
   ]
  },
  {
   "cell_type": "code",
   "execution_count": 25,
   "metadata": {
    "collapsed": false
   },
   "outputs": [
    {
     "name": "stdout",
     "output_type": "stream",
     "text": [
      "{'_dh': [u'/home/tcloudost/Documents/git_repositories/python-batches/batch-61'], '__': '', '__builtin__': <module '__builtin__' (built-in)>, '_iii': u'print new() # 1\\nprint a ', 'quit': <IPython.core.autocall.ZMQExitAutocall object at 0x7fa6d43e0210>, '_i9': u'# calling the function.\\nprint myfunc()\\nprint myfunc()', '_i8': u'# return is not a print statement.\\n# return marks the end of the function.\\n\\n# defin\\ndef myfunc():\\n    print \"hey there\"\\n    print \"how are you\"\\n    print \"hope you are fine\"\\n    return \"hello world!!!\"\\n    ', '_i7': u'print myfunc()\\nprint myfunc()', '_i6': u'print myfunc()\\nprint myfunc()', '_i5': u'# return is not a print statement.\\n# return marks the end of the function.\\ndef myfunc():\\n    return \"hello world!!!\"\\n    print \"hey there\"\\n    print \"how are you\"\\n    print \"hope you are fine\"', '_i4': u'print myfunc()\\nprint myfunc()', '_i3': u'def myfunc():\\n    return \"hello world!!!\"', '_i2': u'print myfunc()\\nprint myfunc()', '_i1': u'def myfunc():\\n    print \"hello world!!!\"', 'exit': <IPython.core.autocall.ZMQExitAutocall object at 0x7fa6d43e0210>, 'get_ipython': <bound method ZMQInteractiveShell.get_ipython of <ipykernel.zmqshell.ZMQInteractiveShell object at 0x7fa6dd043950>>, '_i': u'print new() # 10\\nprint y # 10', 'new': <function new at 0x7fa6d429a5f0>, '_i24': u'print new() # 10\\nprint y # 10', '_i14': u'# calling the function.\\nprint myfunc()\\nprint myfunc()', '_i22': u'print new() # 1\\nprint a ', '__doc__': 'Automatically created module for IPython interactive environment', '_i20': u'print new\\nprint type(new)', '_i21': u'print new\\nprint type(new)', 'myfunc': <function myfunc at 0x7fa6d433c1b8>, '_ii': u'# case II\\ny = 10\\n\\ndef new():\\n    print locals()\\n    return y', '__builtins__': <module '__builtin__' (built-in)>, 'In': ['', u'def myfunc():\\n    print \"hello world!!!\"', u'print myfunc()\\nprint myfunc()', u'def myfunc():\\n    return \"hello world!!!\"', u'print myfunc()\\nprint myfunc()', u'# return is not a print statement.\\n# return marks the end of the function.\\ndef myfunc():\\n    return \"hello world!!!\"\\n    print \"hey there\"\\n    print \"how are you\"\\n    print \"hope you are fine\"', u'print myfunc()\\nprint myfunc()', u'print myfunc()\\nprint myfunc()', u'# return is not a print statement.\\n# return marks the end of the function.\\n\\n# defin\\ndef myfunc():\\n    print \"hey there\"\\n    print \"how are you\"\\n    print \"hope you are fine\"\\n    return \"hello world!!!\"\\n    ', u'# calling the function.\\nprint myfunc()\\nprint myfunc()', u'# return is not a print statement.\\n# return marks the end of the function.\\n\\n# defin\\ndef myfunc():\\n    print \"hey there\"\\n    print \"how are you\"\\n    print \"hope you are fine\"\\n    print \"hello world!!!\"\\n    ', u'# calling the function.\\nprint myfunc()\\nprint myfunc()', u'# calling the function.\\nprint myfunc()\\nprint myfunc()', u'# return is not a print statement.\\n# return marks the end of the function.\\n\\n# defin\\ndef myfunc():\\n    print \"hey there\"\\n    print \"how are you\"\\n    print \"hope you are fine\"\\n    return \"hello world!!!\"\\n    ', u'# calling the function.\\nprint myfunc()\\nprint myfunc()', u'# scope of function\\n# scope or namespaces\\n\\ndef new():\\n    a = 1\\n    return a', u'print new\\nprint type(new)', u'print new() # 1\\nprint a ', u'# if i want to save the value of \"a\" outside the function.\\n# we can trap the return value\\n\\nz = new()\\nprint z', u'# scope of function\\n# scope or namespaces\\n# any variable defined inside a function is available only during the runtime of function.\\n# locals -> what are the variables available to us locally.\\n\\n\\ndef new():\\n    a = 1\\n    print locals()\\n    return a', u'print new\\nprint type(new)', u'print new\\nprint type(new)', u'print new() # 1\\nprint a ', u'# case II\\ny = 10\\n\\ndef new():\\n    print locals()\\n    return y', u'print new() # 10\\nprint y # 10', u'print globals()'], '__name__': '__main__', '___': '', '_': '', '_sh': <module 'IPython.core.shadowns' from '/usr/local/lib/python2.7/dist-packages/IPython/core/shadowns.pyc'>, '_i18': u'# if i want to save the value of \"a\" outside the function.\\n# we can trap the return value\\n\\nz = new()\\nprint z', '_i25': u'print globals()', '_i23': u'# case II\\ny = 10\\n\\ndef new():\\n    print locals()\\n    return y', '_i13': u'# return is not a print statement.\\n# return marks the end of the function.\\n\\n# defin\\ndef myfunc():\\n    print \"hey there\"\\n    print \"how are you\"\\n    print \"hope you are fine\"\\n    return \"hello world!!!\"\\n    ', '_i12': u'# calling the function.\\nprint myfunc()\\nprint myfunc()', '_i11': u'# calling the function.\\nprint myfunc()\\nprint myfunc()', '_i10': u'# return is not a print statement.\\n# return marks the end of the function.\\n\\n# defin\\ndef myfunc():\\n    print \"hey there\"\\n    print \"how are you\"\\n    print \"hope you are fine\"\\n    print \"hello world!!!\"\\n    ', '_i17': u'print new() # 1\\nprint a ', '_i16': u'print new\\nprint type(new)', '_i15': u'# scope of function\\n# scope or namespaces\\n\\ndef new():\\n    a = 1\\n    return a', '_ih': ['', u'def myfunc():\\n    print \"hello world!!!\"', u'print myfunc()\\nprint myfunc()', u'def myfunc():\\n    return \"hello world!!!\"', u'print myfunc()\\nprint myfunc()', u'# return is not a print statement.\\n# return marks the end of the function.\\ndef myfunc():\\n    return \"hello world!!!\"\\n    print \"hey there\"\\n    print \"how are you\"\\n    print \"hope you are fine\"', u'print myfunc()\\nprint myfunc()', u'print myfunc()\\nprint myfunc()', u'# return is not a print statement.\\n# return marks the end of the function.\\n\\n# defin\\ndef myfunc():\\n    print \"hey there\"\\n    print \"how are you\"\\n    print \"hope you are fine\"\\n    return \"hello world!!!\"\\n    ', u'# calling the function.\\nprint myfunc()\\nprint myfunc()', u'# return is not a print statement.\\n# return marks the end of the function.\\n\\n# defin\\ndef myfunc():\\n    print \"hey there\"\\n    print \"how are you\"\\n    print \"hope you are fine\"\\n    print \"hello world!!!\"\\n    ', u'# calling the function.\\nprint myfunc()\\nprint myfunc()', u'# calling the function.\\nprint myfunc()\\nprint myfunc()', u'# return is not a print statement.\\n# return marks the end of the function.\\n\\n# defin\\ndef myfunc():\\n    print \"hey there\"\\n    print \"how are you\"\\n    print \"hope you are fine\"\\n    return \"hello world!!!\"\\n    ', u'# calling the function.\\nprint myfunc()\\nprint myfunc()', u'# scope of function\\n# scope or namespaces\\n\\ndef new():\\n    a = 1\\n    return a', u'print new\\nprint type(new)', u'print new() # 1\\nprint a ', u'# if i want to save the value of \"a\" outside the function.\\n# we can trap the return value\\n\\nz = new()\\nprint z', u'# scope of function\\n# scope or namespaces\\n# any variable defined inside a function is available only during the runtime of function.\\n# locals -> what are the variables available to us locally.\\n\\n\\ndef new():\\n    a = 1\\n    print locals()\\n    return a', u'print new\\nprint type(new)', u'print new\\nprint type(new)', u'print new() # 1\\nprint a ', u'# case II\\ny = 10\\n\\ndef new():\\n    print locals()\\n    return y', u'print new() # 10\\nprint y # 10', u'print globals()'], 'y': 10, '_i19': u'# scope of function\\n# scope or namespaces\\n# any variable defined inside a function is available only during the runtime of function.\\n# locals -> what are the variables available to us locally.\\n\\n\\ndef new():\\n    a = 1\\n    print locals()\\n    return a', 'z': 1, '_oh': {}, 'Out': {}}\n"
     ]
    }
   ],
   "source": [
    "print globals()"
   ]
  },
  {
   "cell_type": "code",
   "execution_count": 33,
   "metadata": {
    "collapsed": false
   },
   "outputs": [],
   "source": [
    "# local or global variable\n",
    "# local variables are given more priority than global variabels.\n",
    "y = 10\n",
    "def new():\n",
    "    print locals()\n",
    "    y = 2\n",
    "    print locals()\n",
    "    return y"
   ]
  },
  {
   "cell_type": "code",
   "execution_count": 34,
   "metadata": {
    "collapsed": false
   },
   "outputs": [
    {
     "name": "stdout",
     "output_type": "stream",
     "text": [
      "{}\n",
      "{'y': 2}\n",
      "2\n",
      "10\n"
     ]
    }
   ],
   "source": [
    "print new()\n",
    "print y"
   ]
  },
  {
   "cell_type": "code",
   "execution_count": 35,
   "metadata": {
    "collapsed": true
   },
   "outputs": [],
   "source": [
    "# global\n",
    "\n",
    "balance = 0\n",
    "def deposit():\n",
    "    balance = balance + 1000\n",
    "    return balance"
   ]
  },
  {
   "cell_type": "code",
   "execution_count": 37,
   "metadata": {
    "collapsed": false
   },
   "outputs": [
    {
     "ename": "UnboundLocalError",
     "evalue": "local variable 'balance' referenced before assignment",
     "output_type": "error",
     "traceback": [
      "\u001b[0;31m---------------------------------------------------------------------------\u001b[0m",
      "\u001b[0;31mUnboundLocalError\u001b[0m                         Traceback (most recent call last)",
      "\u001b[0;32m<ipython-input-37-f63fab9016ab>\u001b[0m in \u001b[0;36m<module>\u001b[0;34m()\u001b[0m\n\u001b[0;32m----> 1\u001b[0;31m \u001b[0;32mprint\u001b[0m \u001b[0mdeposit\u001b[0m\u001b[0;34m(\u001b[0m\u001b[0;34m)\u001b[0m\u001b[0;34m\u001b[0m\u001b[0m\n\u001b[0m",
      "\u001b[0;32m<ipython-input-35-9eb156c782f3>\u001b[0m in \u001b[0;36mdeposit\u001b[0;34m()\u001b[0m\n\u001b[1;32m      3\u001b[0m \u001b[0mbalance\u001b[0m \u001b[0;34m=\u001b[0m \u001b[0;36m0\u001b[0m\u001b[0;34m\u001b[0m\u001b[0m\n\u001b[1;32m      4\u001b[0m \u001b[0;32mdef\u001b[0m \u001b[0mdeposit\u001b[0m\u001b[0;34m(\u001b[0m\u001b[0;34m)\u001b[0m\u001b[0;34m:\u001b[0m\u001b[0;34m\u001b[0m\u001b[0m\n\u001b[0;32m----> 5\u001b[0;31m     \u001b[0mbalance\u001b[0m \u001b[0;34m=\u001b[0m \u001b[0mbalance\u001b[0m \u001b[0;34m+\u001b[0m \u001b[0;36m1000\u001b[0m\u001b[0;34m\u001b[0m\u001b[0m\n\u001b[0m\u001b[1;32m      6\u001b[0m     \u001b[0;32mreturn\u001b[0m \u001b[0mbalance\u001b[0m\u001b[0;34m\u001b[0m\u001b[0m\n",
      "\u001b[0;31mUnboundLocalError\u001b[0m: local variable 'balance' referenced before assignment"
     ]
    }
   ],
   "source": [
    "print deposit()"
   ]
  },
  {
   "cell_type": "code",
   "execution_count": 45,
   "metadata": {
    "collapsed": true
   },
   "outputs": [],
   "source": [
    "balance = 0\n",
    "def deposit():\n",
    "    balance = 0\n",
    "    balance = balance + 1000\n",
    "    return balance\n",
    "def withdraw():\n",
    "    balance = 0\n",
    "    balance = balance - 300\n",
    "    return balance"
   ]
  },
  {
   "cell_type": "code",
   "execution_count": 41,
   "metadata": {
    "collapsed": false
   },
   "outputs": [
    {
     "name": "stdout",
     "output_type": "stream",
     "text": [
      "1000\n"
     ]
    }
   ],
   "source": [
    "print deposit()"
   ]
  },
  {
   "cell_type": "code",
   "execution_count": 46,
   "metadata": {
    "collapsed": false
   },
   "outputs": [
    {
     "name": "stdout",
     "output_type": "stream",
     "text": [
      "-300\n"
     ]
    }
   ],
   "source": [
    "print withdraw()"
   ]
  },
  {
   "cell_type": "code",
   "execution_count": 51,
   "metadata": {
    "collapsed": false
   },
   "outputs": [],
   "source": [
    "balance = 0\n",
    "def deposit():\n",
    "    global balance\n",
    "    print locals()\n",
    "    balance = balance + 1000\n",
    "    return balance\n",
    "def withdraw():\n",
    "    global balance\n",
    "    print locals()\n",
    "    balance = balance - 300\n",
    "    return balance"
   ]
  },
  {
   "cell_type": "code",
   "execution_count": 52,
   "metadata": {
    "collapsed": false
   },
   "outputs": [
    {
     "name": "stdout",
     "output_type": "stream",
     "text": [
      "0\n",
      "{}\n",
      "-300\n"
     ]
    }
   ],
   "source": [
    "print balance\n",
    "print withdraw()"
   ]
  },
  {
   "cell_type": "code",
   "execution_count": 53,
   "metadata": {
    "collapsed": false
   },
   "outputs": [
    {
     "name": "stdout",
     "output_type": "stream",
     "text": [
      "-300\n",
      "{}\n",
      "700\n"
     ]
    }
   ],
   "source": [
    "print balance\n",
    "print deposit()"
   ]
  },
  {
   "cell_type": "code",
   "execution_count": 54,
   "metadata": {
    "collapsed": false
   },
   "outputs": [
    {
     "name": "stdout",
     "output_type": "stream",
     "text": [
      "700\n",
      "{}\n",
      "400\n",
      "400\n"
     ]
    }
   ],
   "source": [
    "print balance\n",
    "print withdraw()\n",
    "print balance"
   ]
  },
  {
   "cell_type": "code",
   "execution_count": 60,
   "metadata": {
    "collapsed": true
   },
   "outputs": [],
   "source": [
    "# case 3\n",
    "bal = 0\n",
    "def deposit():\n",
    "    return bal + 1000"
   ]
  },
  {
   "cell_type": "code",
   "execution_count": 62,
   "metadata": {
    "collapsed": false
   },
   "outputs": [
    {
     "name": "stdout",
     "output_type": "stream",
     "text": [
      "1000\n"
     ]
    }
   ],
   "source": [
    "print deposit()"
   ]
  },
  {
   "cell_type": "code",
   "execution_count": 63,
   "metadata": {
    "collapsed": false
   },
   "outputs": [
    {
     "name": "stdout",
     "output_type": "stream",
     "text": [
      "0\n"
     ]
    }
   ],
   "source": [
    "print bal"
   ]
  },
  {
   "cell_type": "code",
   "execution_count": null,
   "metadata": {
    "collapsed": true
   },
   "outputs": [],
   "source": [
    "# Functional Arguments"
   ]
  },
  {
   "cell_type": "code",
   "execution_count": 1,
   "metadata": {
    "collapsed": true
   },
   "outputs": [],
   "source": [
    "def my_add(a,b):\n",
    "    return a + b"
   ]
  },
  {
   "cell_type": "code",
   "execution_count": 4,
   "metadata": {
    "collapsed": false
   },
   "outputs": [
    {
     "name": "stdout",
     "output_type": "stream",
     "text": [
      "23\n",
      "linux rocks\n",
      "rocks linux\n"
     ]
    }
   ],
   "source": [
    "# positional arguments\n",
    "print my_add(11,12)\n",
    "print my_add(\"linux\",\" rocks\")\n",
    "print my_add(\"rocks\",\" linux\")"
   ]
  },
  {
   "cell_type": "code",
   "execution_count": 5,
   "metadata": {
    "collapsed": false
   },
   "outputs": [
    {
     "name": "stdout",
     "output_type": "stream",
     "text": [
      "linux rocks\n"
     ]
    }
   ],
   "source": [
    "# key based arguments\n",
    "print my_add(b=\" rocks\",a=\"linux\")"
   ]
  },
  {
   "cell_type": "code",
   "execution_count": 6,
   "metadata": {
    "collapsed": true
   },
   "outputs": [],
   "source": [
    "# *,**,*args,**kwargs"
   ]
  },
  {
   "cell_type": "code",
   "execution_count": 10,
   "metadata": {
    "collapsed": false
   },
   "outputs": [
    {
     "ename": "TypeError",
     "evalue": "my_add() takes exactly 2 arguments (1 given)",
     "output_type": "error",
     "traceback": [
      "\u001b[0;31m---------------------------------------------------------------------------\u001b[0m",
      "\u001b[0;31mTypeError\u001b[0m                                 Traceback (most recent call last)",
      "\u001b[0;32m<ipython-input-10-2c0da2546135>\u001b[0m in \u001b[0;36m<module>\u001b[0;34m()\u001b[0m\n\u001b[1;32m      2\u001b[0m \u001b[0mmy_names1\u001b[0m \u001b[0;34m=\u001b[0m \u001b[0;34m[\u001b[0m\u001b[0;34m\"my\"\u001b[0m\u001b[0;34m,\u001b[0m\u001b[0;34m\" linux\"\u001b[0m\u001b[0;34m,\u001b[0m\u001b[0;34m\" rocks\"\u001b[0m\u001b[0;34m]\u001b[0m\u001b[0;34m\u001b[0m\u001b[0m\n\u001b[1;32m      3\u001b[0m \u001b[0;34m\u001b[0m\u001b[0m\n\u001b[0;32m----> 4\u001b[0;31m \u001b[0;32mprint\u001b[0m \u001b[0mmy_add\u001b[0m\u001b[0;34m(\u001b[0m\u001b[0mmy_names\u001b[0m\u001b[0;34m)\u001b[0m\u001b[0;34m\u001b[0m\u001b[0m\n\u001b[0m",
      "\u001b[0;31mTypeError\u001b[0m: my_add() takes exactly 2 arguments (1 given)"
     ]
    }
   ],
   "source": [
    "my_names = [\"linux\",\" rocks\"]\n",
    "my_names1 = [\"my\",\" linux\",\" rocks\"]\n",
    "\n",
    "print my_add(my_names)"
   ]
  },
  {
   "cell_type": "code",
   "execution_count": 13,
   "metadata": {
    "collapsed": false
   },
   "outputs": [
    {
     "name": "stdout",
     "output_type": "stream",
     "text": [
      "linux rocks\n"
     ]
    },
    {
     "ename": "TypeError",
     "evalue": "my_add() takes exactly 2 arguments (3 given)",
     "output_type": "error",
     "traceback": [
      "\u001b[0;31m---------------------------------------------------------------------------\u001b[0m",
      "\u001b[0;31mTypeError\u001b[0m                                 Traceback (most recent call last)",
      "\u001b[0;32m<ipython-input-13-d38d4e3fa3e7>\u001b[0m in \u001b[0;36m<module>\u001b[0;34m()\u001b[0m\n\u001b[1;32m      1\u001b[0m \u001b[0;32mprint\u001b[0m \u001b[0mmy_add\u001b[0m\u001b[0;34m(\u001b[0m\u001b[0;34m*\u001b[0m\u001b[0mmy_names\u001b[0m\u001b[0;34m)\u001b[0m\u001b[0;34m\u001b[0m\u001b[0m\n\u001b[0;32m----> 2\u001b[0;31m \u001b[0;32mprint\u001b[0m \u001b[0mmy_add\u001b[0m\u001b[0;34m(\u001b[0m\u001b[0;34m*\u001b[0m\u001b[0mmy_names1\u001b[0m\u001b[0;34m)\u001b[0m\u001b[0;34m\u001b[0m\u001b[0m\n\u001b[0m",
      "\u001b[0;31mTypeError\u001b[0m: my_add() takes exactly 2 arguments (3 given)"
     ]
    }
   ],
   "source": [
    "print my_add(*my_names)\n",
    "print my_add(*my_names1)"
   ]
  },
  {
   "cell_type": "code",
   "execution_count": 20,
   "metadata": {
    "collapsed": false
   },
   "outputs": [
    {
     "name": "stdout",
     "output_type": "stream",
     "text": [
      "linux rocks\n"
     ]
    }
   ],
   "source": [
    "# **\n",
    "my_names = {'a':'linux','b':' rocks'}\n",
    "my_names1 = {'a':'linux','c':' rocks'}\n",
    "\n",
    "print my_add(**my_names)"
   ]
  },
  {
   "cell_type": "code",
   "execution_count": 17,
   "metadata": {
    "collapsed": false
   },
   "outputs": [
    {
     "ename": "TypeError",
     "evalue": "my_add() takes exactly 2 arguments (1 given)",
     "output_type": "error",
     "traceback": [
      "\u001b[0;31m---------------------------------------------------------------------------\u001b[0m",
      "\u001b[0;31mTypeError\u001b[0m                                 Traceback (most recent call last)",
      "\u001b[0;32m<ipython-input-17-9e16aa041126>\u001b[0m in \u001b[0;36m<module>\u001b[0;34m()\u001b[0m\n\u001b[0;32m----> 1\u001b[0;31m \u001b[0;32mprint\u001b[0m \u001b[0mmy_add\u001b[0m\u001b[0;34m(\u001b[0m\u001b[0mmy_names\u001b[0m\u001b[0;34m)\u001b[0m\u001b[0;34m\u001b[0m\u001b[0m\n\u001b[0m",
      "\u001b[0;31mTypeError\u001b[0m: my_add() takes exactly 2 arguments (1 given)"
     ]
    }
   ],
   "source": [
    "print my_add(my_names)"
   ]
  },
  {
   "cell_type": "code",
   "execution_count": 21,
   "metadata": {
    "collapsed": false
   },
   "outputs": [
    {
     "ename": "TypeError",
     "evalue": "my_add() got an unexpected keyword argument 'c'",
     "output_type": "error",
     "traceback": [
      "\u001b[0;31m---------------------------------------------------------------------------\u001b[0m",
      "\u001b[0;31mTypeError\u001b[0m                                 Traceback (most recent call last)",
      "\u001b[0;32m<ipython-input-21-1fd724038689>\u001b[0m in \u001b[0;36m<module>\u001b[0;34m()\u001b[0m\n\u001b[0;32m----> 1\u001b[0;31m \u001b[0;32mprint\u001b[0m \u001b[0mmy_add\u001b[0m\u001b[0;34m(\u001b[0m\u001b[0;34m**\u001b[0m\u001b[0mmy_names1\u001b[0m\u001b[0;34m)\u001b[0m\u001b[0;34m\u001b[0m\u001b[0m\n\u001b[0m",
      "\u001b[0;31mTypeError\u001b[0m: my_add() got an unexpected keyword argument 'c'"
     ]
    }
   ],
   "source": [
    "print my_add(**my_names1)"
   ]
  },
  {
   "cell_type": "code",
   "execution_count": 23,
   "metadata": {
    "collapsed": false
   },
   "outputs": [
    {
     "name": "stdout",
     "output_type": "stream",
     "text": [
      "Help on built-in function max in module __builtin__:\n",
      "\n",
      "max(...)\n",
      "    max(iterable[, key=func]) -> value\n",
      "    max(a, b, c, ...[, key=func]) -> value\n",
      "    \n",
      "    With a single iterable argument, return its largest item.\n",
      "    With two or more arguments, return the largest argument.\n",
      "\n",
      "None\n"
     ]
    }
   ],
   "source": [
    "# *args\n",
    "\n",
    "print help(max)"
   ]
  },
  {
   "cell_type": "code",
   "execution_count": 25,
   "metadata": {
    "collapsed": false
   },
   "outputs": [
    {
     "name": "stdout",
     "output_type": "stream",
     "text": [
      "6\n",
      "5555\n"
     ]
    }
   ],
   "source": [
    "print max(2,3,4,5,6)\n",
    "print max(133,5555)"
   ]
  },
  {
   "cell_type": "code",
   "execution_count": 26,
   "metadata": {
    "collapsed": true
   },
   "outputs": [],
   "source": [
    "def gmax(*args):\n",
    "    return args"
   ]
  },
  {
   "cell_type": "code",
   "execution_count": 59,
   "metadata": {
    "collapsed": false
   },
   "outputs": [
    {
     "name": "stdout",
     "output_type": "stream",
     "text": [
      "6\n",
      "5555\n",
      "[1, 2, 3, 4]\n",
      "4\n"
     ]
    }
   ],
   "source": [
    "print gmax(2,3,4,5,6)\n",
    "print gmax(133,5555)\n",
    "print gmax([1,2,3,4])"
   ]
  },
  {
   "cell_type": "code",
   "execution_count": 30,
   "metadata": {
    "collapsed": true
   },
   "outputs": [],
   "source": [
    "def gmax(*args):\n",
    "    big = -1\n",
    "    for value in args:\n",
    "         if value > big:\n",
    "                big = value\n",
    "    return big"
   ]
  },
  {
   "cell_type": "code",
   "execution_count": 31,
   "metadata": {
    "collapsed": false
   },
   "outputs": [
    {
     "name": "stdout",
     "output_type": "stream",
     "text": [
      "6\n",
      "5555\n"
     ]
    }
   ],
   "source": [
    "print gmax(2,3,4,5,6)\n",
    "print gmax(133,5555)"
   ]
  },
  {
   "cell_type": "code",
   "execution_count": 33,
   "metadata": {
    "collapsed": false
   },
   "outputs": [
    {
     "name": "stdout",
     "output_type": "stream",
     "text": [
      "[1, 2, 3, 4]\n",
      "[5, 6, 7]\n"
     ]
    }
   ],
   "source": [
    "print max([1,2,3,4],[5,6,7],key=len)\n",
    "print max([1,2,3,4],[5,6,7],key=sum)"
   ]
  },
  {
   "cell_type": "code",
   "execution_count": 41,
   "metadata": {
    "collapsed": true
   },
   "outputs": [],
   "source": [
    "def my_ip(*args):\n",
    "    big = 0\n",
    "    for value in args:\n",
    "        my_split = int(value.split('.')[0])\n",
    "        if my_split > big:\n",
    "            big = my_split\n",
    "            ip  = value\n",
    "    return ip"
   ]
  },
  {
   "cell_type": "code",
   "execution_count": 42,
   "metadata": {
    "collapsed": false
   },
   "outputs": [
    {
     "name": "stdout",
     "output_type": "stream",
     "text": [
      "2.0.0.0\n"
     ]
    }
   ],
   "source": [
    "print my_ip('1.0.0.0','2.0.0.0')"
   ]
  },
  {
   "cell_type": "code",
   "execution_count": 37,
   "metadata": {
    "collapsed": true
   },
   "outputs": [],
   "source": [
    "# TODO\n",
    "# ip address\n",
    "# key => max"
   ]
  },
  {
   "cell_type": "code",
   "execution_count": null,
   "metadata": {
    "collapsed": true
   },
   "outputs": [],
   "source": [
    "# **kwargs"
   ]
  },
  {
   "cell_type": "code",
   "execution_count": 43,
   "metadata": {
    "collapsed": true
   },
   "outputs": [],
   "source": [
    "def callme(**kwargs):\n",
    "    return kwargs"
   ]
  },
  {
   "cell_type": "code",
   "execution_count": 44,
   "metadata": {
    "collapsed": false
   },
   "outputs": [
    {
     "name": "stdout",
     "output_type": "stream",
     "text": [
      "{'gender': 'male', 'name': 'kumar'}\n",
      "{'account': '04066758765', 'name': 'kumar'}\n",
      "{'name': 'kumar', 'maiden': 'vijaya'}\n"
     ]
    }
   ],
   "source": [
    "print callme(name=\"kumar\",gender=\"male\")\n",
    "print callme(name=\"kumar\",account=\"04066758765\")\n",
    "print callme(name=\"kumar\",maiden=\"vijaya\")"
   ]
  },
  {
   "cell_type": "code",
   "execution_count": 56,
   "metadata": {
    "collapsed": false
   },
   "outputs": [],
   "source": [
    "def callme(**kwargs):\n",
    "        if 'name' in kwargs:\n",
    "            print \"my name is {}\".format(kwargs['name'])\n",
    "        if 'gender' in kwargs:\n",
    "            print \"my gender is {}\".format(kwargs['gender'])\n",
    "        if 'account' in kwargs:\n",
    "            print \"my account is {}\".format(kwargs['account'])\n",
    "        if 'maiden' in kwargs:\n",
    "            print \"my mother name is {}\".format(kwargs['maiden'])\n",
    "        return ''"
   ]
  },
  {
   "cell_type": "code",
   "execution_count": 57,
   "metadata": {
    "collapsed": false
   },
   "outputs": [
    {
     "name": "stdout",
     "output_type": "stream",
     "text": [
      "my name is kumar\n",
      "my gender is male\n",
      "\n",
      "my name is kumar\n",
      "my account is 04066758765\n",
      "\n",
      "my name is kumar\n",
      "my mother name is vijaya\n",
      "\n"
     ]
    }
   ],
   "source": [
    "print callme(name=\"kumar\",gender=\"male\")\n",
    "print callme(name=\"kumar\",account=\"04066758765\")\n",
    "print callme(name=\"kumar\",maiden=\"vijaya\")"
   ]
  },
  {
   "cell_type": "code",
   "execution_count": 58,
   "metadata": {
    "collapsed": false
   },
   "outputs": [
    {
     "name": "stdout",
     "output_type": "stream",
     "text": [
      "Help on function basicConfig in module logging:\n",
      "\n",
      "basicConfig(**kwargs)\n",
      "    Do basic configuration for the logging system.\n",
      "    \n",
      "    This function does nothing if the root logger already has handlers\n",
      "    configured. It is a convenience method intended for use by simple scripts\n",
      "    to do one-shot configuration of the logging package.\n",
      "    \n",
      "    The default behaviour is to create a StreamHandler which writes to\n",
      "    sys.stderr, set a formatter using the BASIC_FORMAT format string, and\n",
      "    add the handler to the root logger.\n",
      "    \n",
      "    A number of optional keyword arguments may be specified, which can alter\n",
      "    the default behaviour.\n",
      "    \n",
      "    filename  Specifies that a FileHandler be created, using the specified\n",
      "              filename, rather than a StreamHandler.\n",
      "    filemode  Specifies the mode to open the file, if filename is specified\n",
      "              (if filemode is unspecified, it defaults to 'a').\n",
      "    format    Use the specified format string for the handler.\n",
      "    datefmt   Use the specified date/time format.\n",
      "    level     Set the root logger level to the specified level.\n",
      "    stream    Use the specified stream to initialize the StreamHandler. Note\n",
      "              that this argument is incompatible with 'filename' - if both\n",
      "              are present, 'stream' is ignored.\n",
      "    \n",
      "    Note that you could specify a stream created using open(filename, mode)\n",
      "    rather than passing the filename and mode in. However, it should be\n",
      "    remembered that StreamHandler does not close its stream (since it may be\n",
      "    using sys.stdout or sys.stderr), whereas FileHandler closes its stream\n",
      "    when the handler is closed.\n",
      "\n",
      "None\n"
     ]
    }
   ],
   "source": [
    "import logging\n",
    "print help(logging.basicConfig)"
   ]
  },
  {
   "cell_type": "code",
   "execution_count": 60,
   "metadata": {
    "collapsed": true
   },
   "outputs": [],
   "source": [
    "# function are first class objects"
   ]
  },
  {
   "cell_type": "code",
   "execution_count": 62,
   "metadata": {
    "collapsed": true
   },
   "outputs": [],
   "source": [
    "def extra(func,x,y):\n",
    "    return func(x,y)\n",
    "\n",
    "def add(x,y):\n",
    "    return x + y\n",
    "\n",
    "def sub(x,y):\n",
    "    if x > y:\n",
    "        return x - y\n",
    "    else:\n",
    "        return y - x"
   ]
  },
  {
   "cell_type": "code",
   "execution_count": 63,
   "metadata": {
    "collapsed": false
   },
   "outputs": [
    {
     "name": "stdout",
     "output_type": "stream",
     "text": [
      "23\n",
      "11\n"
     ]
    }
   ],
   "source": [
    "print extra(add,11,12)\n",
    "print extra(sub,22,33)"
   ]
  },
  {
   "cell_type": "code",
   "execution_count": 64,
   "metadata": {
    "collapsed": false
   },
   "outputs": [
    {
     "name": "stdout",
     "output_type": "stream",
     "text": [
      "<type 'function'>\n"
     ]
    }
   ],
   "source": [
    "print type(add)"
   ]
  },
  {
   "cell_type": "code",
   "execution_count": 67,
   "metadata": {
    "collapsed": false
   },
   "outputs": [],
   "source": [
    "# https://pyformat.info/#string_pad_align\n",
    "# https://mkaz.tech/code/python-string-format-cookbook/\n",
    "# termcolor"
   ]
  },
  {
   "cell_type": "code",
   "execution_count": null,
   "metadata": {
    "collapsed": true
   },
   "outputs": [],
   "source": [
    "# function within a function\n",
    "# map,filter,lambda,reduce\n",
    "# function enclosures - decorators"
   ]
  },
  {
   "cell_type": "code",
   "execution_count": 1,
   "metadata": {
    "collapsed": false
   },
   "outputs": [
    {
     "name": "stdout",
     "output_type": "stream",
     "text": [
      "Help on built-in function map in module __builtin__:\n",
      "\n",
      "map(...)\n",
      "    map(function, sequence[, sequence, ...]) -> list\n",
      "    \n",
      "    Return a list of the results of applying the function to the items of\n",
      "    the argument sequence(s).  If more than one sequence is given, the\n",
      "    function is called with an argument list consisting of the corresponding\n",
      "    item of each sequence, substituting None for missing values when not all\n",
      "    sequences have the same length.  If the function is None, return a list of\n",
      "    the items of the sequence (or a list of tuples if more than one sequence).\n",
      "\n",
      "None\n"
     ]
    }
   ],
   "source": [
    "# map\n",
    "print help(map)"
   ]
  },
  {
   "cell_type": "code",
   "execution_count": 2,
   "metadata": {
    "collapsed": true
   },
   "outputs": [],
   "source": [
    "def square(a):\n",
    "    return a * a"
   ]
  },
  {
   "cell_type": "code",
   "execution_count": 3,
   "metadata": {
    "collapsed": false
   },
   "outputs": [
    {
     "name": "stdout",
     "output_type": "stream",
     "text": [
      "[4, 1089, 3025, 5929, 9801, 144]\n"
     ]
    }
   ],
   "source": [
    "print map(square,[2,33,55,77,99,12])"
   ]
  },
  {
   "cell_type": "code",
   "execution_count": 4,
   "metadata": {
    "collapsed": false
   },
   "outputs": [
    {
     "name": "stdout",
     "output_type": "stream",
     "text": [
      "Help on built-in function filter in module __builtin__:\n",
      "\n",
      "filter(...)\n",
      "    filter(function or None, sequence) -> list, tuple, or string\n",
      "    \n",
      "    Return those items of sequence for which function(item) is true.  If\n",
      "    function is None, return the items that are true.  If sequence is a tuple\n",
      "    or string, return the same type, else return a list.\n",
      "\n",
      "None\n"
     ]
    }
   ],
   "source": [
    "# filter\n",
    "print help(filter)"
   ]
  },
  {
   "cell_type": "code",
   "execution_count": 21,
   "metadata": {
    "collapsed": true
   },
   "outputs": [],
   "source": [
    "# function is going to be true only when it returns a values if not called false.\n",
    "def even(a):\n",
    "    if a % 2 == 0:\n",
    "        return 'even'"
   ]
  },
  {
   "cell_type": "code",
   "execution_count": 22,
   "metadata": {
    "collapsed": false
   },
   "outputs": [
    {
     "name": "stdout",
     "output_type": "stream",
     "text": [
      "None\n"
     ]
    }
   ],
   "source": [
    "print even(3)"
   ]
  },
  {
   "cell_type": "code",
   "execution_count": 7,
   "metadata": {
    "collapsed": false
   },
   "outputs": [
    {
     "name": "stdout",
     "output_type": "stream",
     "text": [
      "even\n"
     ]
    }
   ],
   "source": [
    "print even(4)"
   ]
  },
  {
   "cell_type": "code",
   "execution_count": 8,
   "metadata": {
    "collapsed": false
   },
   "outputs": [
    {
     "name": "stdout",
     "output_type": "stream",
     "text": [
      "[2, 4, 6, 8, 10]\n"
     ]
    }
   ],
   "source": [
    "print filter(even,range(1,12))"
   ]
  },
  {
   "cell_type": "code",
   "execution_count": 9,
   "metadata": {
    "collapsed": false
   },
   "outputs": [
    {
     "name": "stdout",
     "output_type": "stream",
     "text": [
      "[4, 1089, 3025, 5929, 9801, 144]\n",
      "[2, 4, 6, 8, 10]\n"
     ]
    }
   ],
   "source": [
    "#\n",
    "print map(square,[2,33,55,77,99,12])\n",
    "print filter(even,range(1,12))"
   ]
  },
  {
   "cell_type": "code",
   "execution_count": 14,
   "metadata": {
    "collapsed": false
   },
   "outputs": [
    {
     "name": "stdout",
     "output_type": "stream",
     "text": [
      "[2, 33, 55, 77, 99, 12]\n",
      "['odd', 'even', 'odd', 'even', 'odd', 'even', 'odd', 'even', 'odd', 'even', 'odd']\n"
     ]
    }
   ],
   "source": [
    "print filter(square,[2,33,55,77,99,12])\n",
    "print map(even,range(1,12))"
   ]
  },
  {
   "cell_type": "code",
   "execution_count": 15,
   "metadata": {
    "collapsed": true
   },
   "outputs": [],
   "source": [
    "# lambda"
   ]
  },
  {
   "cell_type": "code",
   "execution_count": 17,
   "metadata": {
    "collapsed": false
   },
   "outputs": [
    {
     "name": "stdout",
     "output_type": "stream",
     "text": [
      "[4, 1089, 3025, 5929, 9801, 144]\n",
      "[4, 1089, 3025, 5929, 9801, 144]\n"
     ]
    }
   ],
   "source": [
    "# nameless function.\n",
    "'''\n",
    "def square(a):\n",
    "    return a*a\n",
    "    \n",
    "lambda a:a*a  (has to be used in conjunction with map,filter) \n",
    "\n",
    "'''\n",
    "print map(square,[2,33,55,77,99,12])\n",
    "print map(lambda a:a*a,[2,33,55,77,99,12])"
   ]
  },
  {
   "cell_type": "code",
   "execution_count": 26,
   "metadata": {
    "collapsed": false
   },
   "outputs": [
    {
     "name": "stdout",
     "output_type": "stream",
     "text": [
      "[2, 4, 6, 8, 10]\n",
      "[2, 4, 6, 8, 10]\n",
      "[False, True, False, True, False, True, False, True, False, True, False]\n"
     ]
    }
   ],
   "source": [
    "print filter(even,range(1,12))\n",
    "print filter(lambda a:a % 2 == 0,range(1,12))\n",
    "print map(lambda a:a % 2 == 0,range(1,12))"
   ]
  },
  {
   "cell_type": "code",
   "execution_count": 27,
   "metadata": {
    "collapsed": true
   },
   "outputs": [],
   "source": [
    "# https://github.com/zhiwehu/Python-programming-exercises/blob/master/100%2B%20Python%20challenging%20programming%20exercises.txt\n",
    "# task\n",
    "'''\n",
    "def add(a,b):\n",
    "    return a + b\n",
    "    \n",
    "# use lambda along with map and filter to pass some arguments.\n",
    "'''"
   ]
  },
  {
   "cell_type": "code",
   "execution_count": 28,
   "metadata": {
    "collapsed": false
   },
   "outputs": [
    {
     "name": "stdout",
     "output_type": "stream",
     "text": [
      "{'x': 10, 'inner': <function inner at 0x7f94784a9b90>}\n",
      "10\n"
     ]
    }
   ],
   "source": [
    "# function within a function.\n",
    "def upper():\n",
    "    x = 10       # global value for inner,local to outer\n",
    "    def inner(): # local function in upper.\n",
    "        return x   # x is locally not available for inner.\n",
    "    print locals()\n",
    "    return inner()  # inner is called here.\n",
    "\n",
    "print upper() # 10\n",
    "\n"
   ]
  },
  {
   "cell_type": "code",
   "execution_count": 29,
   "metadata": {
    "collapsed": false
   },
   "outputs": [
    {
     "ename": "NameError",
     "evalue": "name 'x' is not defined",
     "output_type": "error",
     "traceback": [
      "\u001b[1;31m---------------------------------------------------------------------------\u001b[0m",
      "\u001b[1;31mNameError\u001b[0m                                 Traceback (most recent call last)",
      "\u001b[1;32m<ipython-input-29-7014d7d010cf>\u001b[0m in \u001b[0;36m<module>\u001b[1;34m()\u001b[0m\n\u001b[1;32m----> 1\u001b[1;33m \u001b[1;32mprint\u001b[0m \u001b[0mx\u001b[0m \u001b[1;31m# 10\u001b[0m\u001b[1;33m\u001b[0m\u001b[0m\n\u001b[0m",
      "\u001b[1;31mNameError\u001b[0m: name 'x' is not defined"
     ]
    }
   ],
   "source": [
    "print x # 10"
   ]
  },
  {
   "cell_type": "code",
   "execution_count": 30,
   "metadata": {
    "collapsed": false
   },
   "outputs": [
    {
     "ename": "NameError",
     "evalue": "name 'inner' is not defined",
     "output_type": "error",
     "traceback": [
      "\u001b[1;31m---------------------------------------------------------------------------\u001b[0m",
      "\u001b[1;31mNameError\u001b[0m                                 Traceback (most recent call last)",
      "\u001b[1;32m<ipython-input-30-faa62f522c3c>\u001b[0m in \u001b[0;36m<module>\u001b[1;34m()\u001b[0m\n\u001b[1;32m----> 1\u001b[1;33m \u001b[1;32mprint\u001b[0m \u001b[0minner\u001b[0m\u001b[1;33m(\u001b[0m\u001b[1;33m)\u001b[0m\u001b[1;33m\u001b[0m\u001b[0m\n\u001b[0m",
      "\u001b[1;31mNameError\u001b[0m: name 'inner' is not defined"
     ]
    }
   ],
   "source": [
    "print inner()"
   ]
  },
  {
   "cell_type": "code",
   "execution_count": 32,
   "metadata": {
    "collapsed": true
   },
   "outputs": [],
   "source": [
    "# function closure\n",
    "def upper():\n",
    "    x = 10       # global value for inner,local to outer\n",
    "    def inner(): # local function in upper.\n",
    "        return x   # x is locally not available for inner.\n",
    "    print locals()\n",
    "    return inner  # we are passing the address of inner."
   ]
  },
  {
   "cell_type": "code",
   "execution_count": 33,
   "metadata": {
    "collapsed": false
   },
   "outputs": [
    {
     "name": "stdout",
     "output_type": "stream",
     "text": [
      "<function upper at 0x7f94784e12a8>\n"
     ]
    }
   ],
   "source": [
    "print upper"
   ]
  },
  {
   "cell_type": "code",
   "execution_count": 34,
   "metadata": {
    "collapsed": false
   },
   "outputs": [
    {
     "name": "stdout",
     "output_type": "stream",
     "text": [
      "{'x': 10, 'inner': <function inner at 0x7f94784e11b8>}\n"
     ]
    }
   ],
   "source": [
    "foo = upper()"
   ]
  },
  {
   "cell_type": "code",
   "execution_count": 35,
   "metadata": {
    "collapsed": false
   },
   "outputs": [
    {
     "name": "stdout",
     "output_type": "stream",
     "text": [
      "<type 'function'> <function inner at 0x7f94784e11b8>\n"
     ]
    }
   ],
   "source": [
    "print type(foo),foo"
   ]
  },
  {
   "cell_type": "code",
   "execution_count": 36,
   "metadata": {
    "collapsed": false
   },
   "outputs": [
    {
     "name": "stdout",
     "output_type": "stream",
     "text": [
      "10\n"
     ]
    }
   ],
   "source": [
    "'''\n",
    "def inner():\n",
    "    return x\n",
    "'''\n",
    "print foo() "
   ]
  },
  {
   "cell_type": "code",
   "execution_count": 37,
   "metadata": {
    "collapsed": false
   },
   "outputs": [
    {
     "ename": "NameError",
     "evalue": "name 'x' is not defined",
     "output_type": "error",
     "traceback": [
      "\u001b[1;31m---------------------------------------------------------------------------\u001b[0m",
      "\u001b[1;31mNameError\u001b[0m                                 Traceback (most recent call last)",
      "\u001b[1;32m<ipython-input-37-2ad60813bce5>\u001b[0m in \u001b[0;36m<module>\u001b[1;34m()\u001b[0m\n\u001b[0;32m      3\u001b[0m '''\n\u001b[0;32m      4\u001b[0m \u001b[1;33m\u001b[0m\u001b[0m\n\u001b[1;32m----> 5\u001b[1;33m \u001b[1;32mprint\u001b[0m \u001b[0mx\u001b[0m\u001b[1;33m\u001b[0m\u001b[0m\n\u001b[0m",
      "\u001b[1;31mNameError\u001b[0m: name 'x' is not defined"
     ]
    }
   ],
   "source": [
    "'''\n",
    "* where are we getting the value of x. gloablly x is not available for me.\n",
    "'''\n",
    "\n",
    "print x"
   ]
  },
  {
   "cell_type": "code",
   "execution_count": 38,
   "metadata": {
    "collapsed": true
   },
   "outputs": [],
   "source": [
    "def abc():\n",
    "    return y"
   ]
  },
  {
   "cell_type": "code",
   "execution_count": 39,
   "metadata": {
    "collapsed": false
   },
   "outputs": [
    {
     "ename": "NameError",
     "evalue": "global name 'y' is not defined",
     "output_type": "error",
     "traceback": [
      "\u001b[1;31m---------------------------------------------------------------------------\u001b[0m",
      "\u001b[1;31mNameError\u001b[0m                                 Traceback (most recent call last)",
      "\u001b[1;32m<ipython-input-39-5b4314474db5>\u001b[0m in \u001b[0;36m<module>\u001b[1;34m()\u001b[0m\n\u001b[1;32m----> 1\u001b[1;33m \u001b[1;32mprint\u001b[0m \u001b[0mabc\u001b[0m\u001b[1;33m(\u001b[0m\u001b[1;33m)\u001b[0m\u001b[1;33m\u001b[0m\u001b[0m\n\u001b[0m",
      "\u001b[1;32m<ipython-input-38-601c5d6bf1d4>\u001b[0m in \u001b[0;36mabc\u001b[1;34m()\u001b[0m\n\u001b[0;32m      1\u001b[0m \u001b[1;32mdef\u001b[0m \u001b[0mabc\u001b[0m\u001b[1;33m(\u001b[0m\u001b[1;33m)\u001b[0m\u001b[1;33m:\u001b[0m\u001b[1;33m\u001b[0m\u001b[0m\n\u001b[1;32m----> 2\u001b[1;33m     \u001b[1;32mreturn\u001b[0m \u001b[0my\u001b[0m\u001b[1;33m\u001b[0m\u001b[0m\n\u001b[0m",
      "\u001b[1;31mNameError\u001b[0m: global name 'y' is not defined"
     ]
    }
   ],
   "source": [
    "print abc()"
   ]
  },
  {
   "cell_type": "code",
   "execution_count": null,
   "metadata": {
    "collapsed": true
   },
   "outputs": [],
   "source": [
    "# all the variables available to a function during the defination phase - locally and globally\n",
    "# will be available if you return the address of the function.\n",
    "# function closure - decorators"
   ]
  }
 ],
 "metadata": {
  "kernelspec": {
   "display_name": "Python 2",
   "language": "python",
   "name": "python2"
  },
  "language_info": {
   "codemirror_mode": {
    "name": "ipython",
    "version": 2
   },
   "file_extension": ".py",
   "mimetype": "text/x-python",
   "name": "python",
   "nbconvert_exporter": "python",
   "pygments_lexer": "ipython2",
   "version": "2.7.11"
  }
 },
 "nbformat": 4,
 "nbformat_minor": 1
}
