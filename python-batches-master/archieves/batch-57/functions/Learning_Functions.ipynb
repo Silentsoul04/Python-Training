{
 "cells": [
  {
   "cell_type": "code",
   "execution_count": null,
   "metadata": {
    "collapsed": true
   },
   "outputs": [],
   "source": [
    "# Function: Block of code\n",
    "# stops repeation of a code."
   ]
  },
  {
   "cell_type": "code",
   "execution_count": 1,
   "metadata": {
    "collapsed": true
   },
   "outputs": [],
   "source": [
    "# your function should be pre-defined.\n",
    "# every function returns a value.\n",
    "# if there is nothing to return , you get None.\n",
    "# return is a keyword ,which marks the end of the funtion.\n",
    "# can i have more than one return value in my function? yes\n",
    "# in conditional based programming.\n",
    "\n",
    "\n",
    "def my_func():\n",
    "    print \"hello world\""
   ]
  },
  {
   "cell_type": "code",
   "execution_count": 2,
   "metadata": {
    "collapsed": false
   },
   "outputs": [
    {
     "name": "stdout",
     "output_type": "stream",
     "text": [
      "hello world\n",
      "None\n"
     ]
    }
   ],
   "source": [
    "print my_func()"
   ]
  },
  {
   "cell_type": "code",
   "execution_count": 5,
   "metadata": {
    "collapsed": true
   },
   "outputs": [],
   "source": [
    "def my_func():\n",
    "    return \"hello world\"\n",
    "    print \"hello1\"\n",
    "    print \"hello2\"\n",
    "    print \"hello3\""
   ]
  },
  {
   "cell_type": "code",
   "execution_count": 6,
   "metadata": {
    "collapsed": false
   },
   "outputs": [
    {
     "name": "stdout",
     "output_type": "stream",
     "text": [
      "hello world\n"
     ]
    }
   ],
   "source": [
    "print my_func()"
   ]
  },
  {
   "cell_type": "code",
   "execution_count": 8,
   "metadata": {
    "collapsed": false
   },
   "outputs": [
    {
     "name": "stdout",
     "output_type": "stream",
     "text": [
      "10\n"
     ]
    },
    {
     "ename": "NameError",
     "evalue": "name 'a' is not defined",
     "output_type": "error",
     "traceback": [
      "\u001b[0;31m---------------------------------------------------------------------------\u001b[0m",
      "\u001b[0;31mNameError\u001b[0m                                 Traceback (most recent call last)",
      "\u001b[0;32m<ipython-input-8-b0f0be6049a3>\u001b[0m in \u001b[0;36m<module>\u001b[0;34m()\u001b[0m\n\u001b[1;32m      8\u001b[0m \u001b[0;31m# calling my already defined function my_new()\u001b[0m\u001b[0;34m\u001b[0m\u001b[0;34m\u001b[0m\u001b[0m\n\u001b[1;32m      9\u001b[0m \u001b[0;32mprint\u001b[0m \u001b[0mmy_new\u001b[0m\u001b[0;34m(\u001b[0m\u001b[0;34m)\u001b[0m\u001b[0;34m\u001b[0m\u001b[0m\n\u001b[0;32m---> 10\u001b[0;31m \u001b[0;32mprint\u001b[0m \u001b[0ma\u001b[0m\u001b[0;34m\u001b[0m\u001b[0m\n\u001b[0m",
      "\u001b[0;31mNameError\u001b[0m: name 'a' is not defined"
     ]
    }
   ],
   "source": [
    "# namespaces\n",
    "# local scope/variables/namespaces vs global scope/variables/namespaces.\n",
    "# variable defined inside a function are called local variables/namespaces.\n",
    "# Local variables are available during the run time of the function.\n",
    "# Local variables cannot be accessed from outside of a function. We dont have that syntax of\n",
    "# facility available.\n",
    "# lifetime of a variable is during the runtime of the function.\n",
    "\n",
    "def my_new():\n",
    "    a = 10\n",
    "    return a\n",
    "\n",
    "# calling my already defined function my_new()\n",
    "print my_new()\n",
    "print a\n"
   ]
  },
  {
   "cell_type": "code",
   "execution_count": 10,
   "metadata": {
    "collapsed": true
   },
   "outputs": [],
   "source": [
    "# locals()\n",
    "# locals is a inbuild function and it shows local variables.\n",
    "\n",
    "def my_new():\n",
    "    a = 10\n",
    "    print locals() # {'a':10}\n",
    "    return a"
   ]
  },
  {
   "cell_type": "code",
   "execution_count": 13,
   "metadata": {
    "collapsed": false
   },
   "outputs": [
    {
     "name": "stdout",
     "output_type": "stream",
     "text": [
      "{'a': 10}\n",
      "10\n"
     ]
    }
   ],
   "source": [
    "print my_new()\n"
   ]
  },
  {
   "cell_type": "code",
   "execution_count": 20,
   "metadata": {
    "collapsed": false
   },
   "outputs": [
    {
     "name": "stdout",
     "output_type": "stream",
     "text": [
      "{'_dh': [u'/home/tcloudost/Documents/git_repositories/python-batches/batch-57/functions'], '__': '', 'my_func': <function my_func at 0x7f67b55b9f50>, '__builtin__': <module '__builtin__' (built-in)>, '_iii': u'# scope resolution\\n# first look into locally and then globally.\\n# global variables are those values which are available both inside and outside the function.\\n\\ny = 10 # global variable.\\n\\nprint globals()\\n\\ndef my_new1():\\n    print locals() # {}\\n    return y', 'quit': <IPython.core.autocall.ZMQExitAutocall object at 0x7f67b6e86290>, '_i9': u'print my_new()', '_i8': u'# namespaces\\n# local scope/variables/namespaces vs global scope/variables/namespaces.\\n\\ndef my_new():\\n    a = 10\\n    return a\\n\\n# calling my already defined function my_new()\\nprint my_new()\\nprint a', '_i7': u'# namespaces\\n# local scope/variables/namespaces vs global scope/variables/namespaces.\\n\\ndef my_new():\\n    a = 10\\n    return a\\n\\n# calling my already defined function my_new()\\nprint my_new()', '_i6': u'print my_func()', '_i5': u'def my_func():\\n    return \"hello world\"\\n    print \"hello1\"\\n    print \"hello2\"\\n    print \"hello3\"', '_i4': u'print my_func()', '_i3': u'def my_func():\\n    return \"hello world\"', '_i2': u'print my_func()', '_i1': u'def my_func():\\n    print \"hello world\"', 'exit': <IPython.core.autocall.ZMQExitAutocall object at 0x7f67b6e86290>, 'get_ipython': <bound method ZMQInteractiveShell.get_ipython of <ipykernel.zmqshell.ZMQInteractiveShell object at 0x7f67bfae8950>>, '_i': u'# scope resolution\\n# first look into locally and then globally.\\n# global variables are those values which are available both inside and outside the function.\\n\\ny = 10 # global variable.\\n\\n\\n\\ndef my_new1():\\n    print locals() # {}\\n    return y', 'my_new1': <function my_new1 at 0x7f67b55b9e60>, '_i14': u'# scope resolution\\n\\ny = 10\\n\\ndef my_new1():\\n    print locals()\\n    return y', '__doc__': 'Automatically created module for IPython interactive environment', '_i20': u'print globals()', 'my_new': <function my_new at 0x7f67b4d32f50>, '_ii': u'print my_new1()\\nprint y', '__builtins__': <module '__builtin__' (built-in)>, 'In': ['', u'def my_func():\\n    print \"hello world\"', u'print my_func()', u'def my_func():\\n    return \"hello world\"', u'print my_func()', u'def my_func():\\n    return \"hello world\"\\n    print \"hello1\"\\n    print \"hello2\"\\n    print \"hello3\"', u'print my_func()', u'# namespaces\\n# local scope/variables/namespaces vs global scope/variables/namespaces.\\n\\ndef my_new():\\n    a = 10\\n    return a\\n\\n# calling my already defined function my_new()\\nprint my_new()', u'# namespaces\\n# local scope/variables/namespaces vs global scope/variables/namespaces.\\n\\ndef my_new():\\n    a = 10\\n    return a\\n\\n# calling my already defined function my_new()\\nprint my_new()\\nprint a', u'print my_new()', u'# locals()\\n# locals is a inbuild function and it shows local variables.\\n\\ndef my_new():\\n    a = 10\\n    print locals()\\n    return a', u'print my_new()', u'print my_new()\\nprint locals()', u'print my_new()', u'# scope resolution\\n\\ny = 10\\n\\ndef my_new1():\\n    print locals()\\n    return y', u'print my_new1()', u'print my_new1()\\nprint y', u'# scope resolution\\n# first look into locally and then globally.\\n# global variables are those values which are available both inside and outside the function.\\n\\ny = 10 # global variable.\\n\\nprint globals()\\n\\ndef my_new1():\\n    print locals() # {}\\n    return y', u'print my_new1()\\nprint y', u'# scope resolution\\n# first look into locally and then globally.\\n# global variables are those values which are available both inside and outside the function.\\n\\ny = 10 # global variable.\\n\\n\\n\\ndef my_new1():\\n    print locals() # {}\\n    return y', u'print globals()'], '__name__': '__main__', '___': '', '_': '', '_sh': <module 'IPython.core.shadowns' from '/usr/local/lib/python2.7/dist-packages/IPython/core/shadowns.pyc'>, '_i13': u'print my_new()', '_i12': u'print my_new()\\nprint locals()', '_i11': u'print my_new()', '_i10': u'# locals()\\n# locals is a inbuild function and it shows local variables.\\n\\ndef my_new():\\n    a = 10\\n    print locals()\\n    return a', '_i17': u'# scope resolution\\n# first look into locally and then globally.\\n# global variables are those values which are available both inside and outside the function.\\n\\ny = 10 # global variable.\\n\\nprint globals()\\n\\ndef my_new1():\\n    print locals() # {}\\n    return y', '_i16': u'print my_new1()\\nprint y', '_i15': u'print my_new1()', '_ih': ['', u'def my_func():\\n    print \"hello world\"', u'print my_func()', u'def my_func():\\n    return \"hello world\"', u'print my_func()', u'def my_func():\\n    return \"hello world\"\\n    print \"hello1\"\\n    print \"hello2\"\\n    print \"hello3\"', u'print my_func()', u'# namespaces\\n# local scope/variables/namespaces vs global scope/variables/namespaces.\\n\\ndef my_new():\\n    a = 10\\n    return a\\n\\n# calling my already defined function my_new()\\nprint my_new()', u'# namespaces\\n# local scope/variables/namespaces vs global scope/variables/namespaces.\\n\\ndef my_new():\\n    a = 10\\n    return a\\n\\n# calling my already defined function my_new()\\nprint my_new()\\nprint a', u'print my_new()', u'# locals()\\n# locals is a inbuild function and it shows local variables.\\n\\ndef my_new():\\n    a = 10\\n    print locals()\\n    return a', u'print my_new()', u'print my_new()\\nprint locals()', u'print my_new()', u'# scope resolution\\n\\ny = 10\\n\\ndef my_new1():\\n    print locals()\\n    return y', u'print my_new1()', u'print my_new1()\\nprint y', u'# scope resolution\\n# first look into locally and then globally.\\n# global variables are those values which are available both inside and outside the function.\\n\\ny = 10 # global variable.\\n\\nprint globals()\\n\\ndef my_new1():\\n    print locals() # {}\\n    return y', u'print my_new1()\\nprint y', u'# scope resolution\\n# first look into locally and then globally.\\n# global variables are those values which are available both inside and outside the function.\\n\\ny = 10 # global variable.\\n\\n\\n\\ndef my_new1():\\n    print locals() # {}\\n    return y', u'print globals()'], 'y': 10, '_i19': u'# scope resolution\\n# first look into locally and then globally.\\n# global variables are those values which are available both inside and outside the function.\\n\\ny = 10 # global variable.\\n\\n\\n\\ndef my_new1():\\n    print locals() # {}\\n    return y', '_i18': u'print my_new1()\\nprint y', '_oh': {}, 'Out': {}}\n"
     ]
    }
   ],
   "source": [
    "print globals()"
   ]
  },
  {
   "cell_type": "code",
   "execution_count": 19,
   "metadata": {
    "collapsed": false
   },
   "outputs": [],
   "source": [
    "# scope resolution\n",
    "# first look into locally and then globally.\n",
    "# global variables are those values which are available both inside and outside the function.\n",
    "\n",
    "y = 10 # global variable.\n",
    "\n",
    "def my_new1():\n",
    "    print locals() # {}\n",
    "    return y"
   ]
  },
  {
   "cell_type": "code",
   "execution_count": 18,
   "metadata": {
    "collapsed": false
   },
   "outputs": [
    {
     "name": "stdout",
     "output_type": "stream",
     "text": [
      "{}\n",
      "10\n",
      "10\n"
     ]
    }
   ],
   "source": [
    "print my_new1()\n",
    "print y"
   ]
  },
  {
   "cell_type": "raw",
   "metadata": {},
   "source": [
    "tcloudost@tcloudost-VirtualBox ~/Documents/git_repositories/python-batches/batch-57/functions $ python\n",
    "Python 2.7.6 (default, Jun 22 2015, 17:58:13) \n",
    "[GCC 4.8.2] on linux2\n",
    "Type \"help\", \"copyright\", \"credits\" or \"license\" for more information.\n",
    ">>> print globals()\n",
    "{'__builtins__': <module '__builtin__' (built-in)>, '__name__': '__main__', '__doc__': None, '__package__': None}\n",
    ">>> \n",
    ">>> a = 10\n",
    ">>> print globals()\n",
    "{'__builtins__': <module '__builtin__' (built-in)>, '__name__': '__main__', '__doc__': None, 'a': 10, '__package__': None}\n",
    ">>> \n",
    ">>> def f():\n",
    "...    y = 30\n",
    "...    return y\n",
    "... \n",
    ">>> \n",
    ">>> print globals()\n",
    "{'a': 10, 'f': <function f at 0x7f8685fa7668>, '__builtins__': <module '__builtin__' (built-in)>, '__package__': None, '__name__': '__main__', '__doc__': None}\n",
    ">>> print y\n",
    "Traceback (most recent call last):\n",
    "  File \"<stdin>\", line 1, in <module>\n",
    "NameError: name 'y' is not defined\n",
    ">>> print a\n",
    "10\n"
   ]
  },
  {
   "cell_type": "code",
   "execution_count": 21,
   "metadata": {
    "collapsed": true
   },
   "outputs": [],
   "source": [
    "# global keyword\n",
    "# banking\n",
    "\n",
    "balance=0\n",
    "\n",
    "def my_deposit():\n",
    "    balance = balance + 1000\n",
    "    return balance\n",
    "\n",
    "def my_withdraw():\n",
    "    balance = balance - 300\n",
    "    return balance"
   ]
  },
  {
   "cell_type": "code",
   "execution_count": 22,
   "metadata": {
    "collapsed": false
   },
   "outputs": [
    {
     "ename": "UnboundLocalError",
     "evalue": "local variable 'balance' referenced before assignment",
     "output_type": "error",
     "traceback": [
      "\u001b[0;31m---------------------------------------------------------------------------\u001b[0m",
      "\u001b[0;31mUnboundLocalError\u001b[0m                         Traceback (most recent call last)",
      "\u001b[0;32m<ipython-input-22-31fdef4eec56>\u001b[0m in \u001b[0;36m<module>\u001b[0;34m()\u001b[0m\n\u001b[1;32m      1\u001b[0m \u001b[0;34m\u001b[0m\u001b[0m\n\u001b[0;32m----> 2\u001b[0;31m \u001b[0;32mprint\u001b[0m \u001b[0mmy_deposit\u001b[0m\u001b[0;34m(\u001b[0m\u001b[0;34m)\u001b[0m\u001b[0;34m\u001b[0m\u001b[0m\n\u001b[0m",
      "\u001b[0;32m<ipython-input-21-6023e4c0521a>\u001b[0m in \u001b[0;36mmy_deposit\u001b[0;34m()\u001b[0m\n\u001b[1;32m      5\u001b[0m \u001b[0;34m\u001b[0m\u001b[0m\n\u001b[1;32m      6\u001b[0m \u001b[0;32mdef\u001b[0m \u001b[0mmy_deposit\u001b[0m\u001b[0;34m(\u001b[0m\u001b[0;34m)\u001b[0m\u001b[0;34m:\u001b[0m\u001b[0;34m\u001b[0m\u001b[0m\n\u001b[0;32m----> 7\u001b[0;31m     \u001b[0mbalance\u001b[0m \u001b[0;34m=\u001b[0m \u001b[0mbalance\u001b[0m \u001b[0;34m+\u001b[0m \u001b[0;36m1000\u001b[0m\u001b[0;34m\u001b[0m\u001b[0m\n\u001b[0m\u001b[1;32m      8\u001b[0m     \u001b[0;32mreturn\u001b[0m \u001b[0mbalance\u001b[0m\u001b[0;34m\u001b[0m\u001b[0m\n\u001b[1;32m      9\u001b[0m \u001b[0;34m\u001b[0m\u001b[0m\n",
      "\u001b[0;31mUnboundLocalError\u001b[0m: local variable 'balance' referenced before assignment"
     ]
    }
   ],
   "source": [
    "\n",
    "print my_deposit()"
   ]
  },
  {
   "cell_type": "code",
   "execution_count": 23,
   "metadata": {
    "collapsed": true
   },
   "outputs": [],
   "source": [
    "# hopefully this is the solution.\n",
    "\n",
    "balance=0  # global\n",
    "\n",
    "def my_deposit():\n",
    "    balance=0    # local\n",
    "    balance = balance + 1000\n",
    "    return balance\n",
    "\n",
    "def my_withdraw():\n",
    "    balance=0    # local\n",
    "    balance = balance - 300\n",
    "    return balance"
   ]
  },
  {
   "cell_type": "code",
   "execution_count": 24,
   "metadata": {
    "collapsed": false
   },
   "outputs": [
    {
     "name": "stdout",
     "output_type": "stream",
     "text": [
      "1000\n"
     ]
    }
   ],
   "source": [
    "print my_deposit()"
   ]
  },
  {
   "cell_type": "code",
   "execution_count": 25,
   "metadata": {
    "collapsed": false
   },
   "outputs": [
    {
     "name": "stdout",
     "output_type": "stream",
     "text": [
      "0\n"
     ]
    }
   ],
   "source": [
    "print balance"
   ]
  },
  {
   "cell_type": "code",
   "execution_count": 26,
   "metadata": {
    "collapsed": false
   },
   "outputs": [
    {
     "name": "stdout",
     "output_type": "stream",
     "text": [
      "-300\n",
      "0\n"
     ]
    }
   ],
   "source": [
    "print my_withdraw()\n",
    "print balance"
   ]
  },
  {
   "cell_type": "code",
   "execution_count": 27,
   "metadata": {
    "collapsed": true
   },
   "outputs": [],
   "source": [
    "# Lastly let reach out the solution.\n",
    "\n",
    "balance=0  # global\n",
    "\n",
    "def my_deposit():\n",
    "    global balance\n",
    "    print locals()\n",
    "    balance = balance + 1000\n",
    "    return balance\n",
    "\n",
    "def my_withdraw():\n",
    "    global balance\n",
    "    print locals()\n",
    "    balance = balance - 300\n",
    "    return balance"
   ]
  },
  {
   "cell_type": "code",
   "execution_count": 28,
   "metadata": {
    "collapsed": false
   },
   "outputs": [
    {
     "name": "stdout",
     "output_type": "stream",
     "text": [
      "{}\n",
      "1000\n",
      "1000\n"
     ]
    }
   ],
   "source": [
    "print my_deposit()\n",
    "print balance  # 1000"
   ]
  },
  {
   "cell_type": "code",
   "execution_count": 29,
   "metadata": {
    "collapsed": false
   },
   "outputs": [
    {
     "name": "stdout",
     "output_type": "stream",
     "text": [
      "{}\n",
      "700\n",
      "700\n"
     ]
    }
   ],
   "source": [
    "print my_withdraw()\n",
    "print balance"
   ]
  },
  {
   "cell_type": "code",
   "execution_count": 32,
   "metadata": {
    "collapsed": false
   },
   "outputs": [
    {
     "name": "stdout",
     "output_type": "stream",
     "text": [
      "{'a': 'linux', 'b': ' rocks'}\n",
      "linux rocks\n",
      "{'a': ' rocks', 'b': 'linux'}\n",
      " rockslinux\n"
     ]
    }
   ],
   "source": [
    "# functional parameters\n",
    "# position based parameters\n",
    "\n",
    "def my_add(a,b):\n",
    "    print locals()\n",
    "    return a + b\n",
    "\n",
    "print my_add('linux',' rocks')\n",
    "print my_add(' rocks','linux')"
   ]
  },
  {
   "cell_type": "code",
   "execution_count": 33,
   "metadata": {
    "collapsed": false
   },
   "outputs": [
    {
     "name": "stdout",
     "output_type": "stream",
     "text": [
      "{'a': 'linux', 'b': ' rocks'}\n",
      "linux rocks\n"
     ]
    }
   ],
   "source": [
    "# passing parameters by keys\n",
    "def my_add(a,b):\n",
    "    print locals()\n",
    "    return a + b\n",
    "\n",
    "print my_add(b=' rocks',a='linux')"
   ]
  },
  {
   "cell_type": "code",
   "execution_count": 35,
   "metadata": {
    "collapsed": true
   },
   "outputs": [],
   "source": [
    "# default parameters\n",
    "# multiplication table of 2\n",
    "# default is just a variable, its not a key word.\n",
    "# please use variables of your choice.\n",
    "\n",
    "\n",
    "def my_multi(num,default=10):\n",
    "    for value in range(1,default+1):\n",
    "        print \"{} * {} = {}\".format(num,value,num*value)\n",
    "        "
   ]
  },
  {
   "cell_type": "code",
   "execution_count": 36,
   "metadata": {
    "collapsed": false
   },
   "outputs": [
    {
     "name": "stdout",
     "output_type": "stream",
     "text": [
      "2 * 1 = 2\n",
      "2 * 2 = 4\n",
      "2 * 3 = 6\n",
      "2 * 4 = 8\n",
      "2 * 5 = 10\n",
      "2 * 6 = 12\n",
      "2 * 7 = 14\n",
      "2 * 8 = 16\n",
      "2 * 9 = 18\n",
      "2 * 10 = 20\n"
     ]
    }
   ],
   "source": [
    "my_multi(2)"
   ]
  },
  {
   "cell_type": "code",
   "execution_count": 37,
   "metadata": {
    "collapsed": false
   },
   "outputs": [
    {
     "name": "stdout",
     "output_type": "stream",
     "text": [
      "2 * 1 = 2\n",
      "2 * 2 = 4\n",
      "2 * 3 = 6\n",
      "2 * 4 = 8\n",
      "2 * 5 = 10\n"
     ]
    }
   ],
   "source": [
    "my_multi(2,5)"
   ]
  },
  {
   "cell_type": "code",
   "execution_count": null,
   "metadata": {
    "collapsed": true
   },
   "outputs": [],
   "source": [
    "# putty - http://cache.filehippo.com/img/ex/1125__putty1.png\n",
    "# def putty(hostname,port=22)\n",
    "\n",
    "# putty(mynewip)    # connects on ssh port\n",
    "# putty(mynewip,23) # connects on telnet port"
   ]
  }
 ],
 "metadata": {
  "kernelspec": {
   "display_name": "Python 2",
   "language": "python",
   "name": "python2"
  },
  "language_info": {
   "codemirror_mode": {
    "name": "ipython",
    "version": 2
   },
   "file_extension": ".py",
   "mimetype": "text/x-python",
   "name": "python",
   "nbconvert_exporter": "python",
   "pygments_lexer": "ipython2",
   "version": "2.7.6"
  }
 },
 "nbformat": 4,
 "nbformat_minor": 1
}
