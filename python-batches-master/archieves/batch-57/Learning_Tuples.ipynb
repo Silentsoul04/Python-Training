{
 "metadata": {
  "name": "",
  "signature": "sha256:647c7768c6a2154441f038999fe97036a69315aa7073b8bff92c2fd4b11308cd"
 },
 "nbformat": 3,
 "nbformat_minor": 0,
 "worksheets": [
  {
   "cells": [
    {
     "cell_type": "code",
     "collapsed": false,
     "input": [
      "# Tuples\n",
      "# Tuples are readonly representation of list like data.\n",
      "# days of weeks - 7 days - sun,mon,tue,wed,thu,fri,sat"
     ],
     "language": "python",
     "metadata": {},
     "outputs": []
    },
    {
     "cell_type": "code",
     "collapsed": false,
     "input": [
      "# how to create a tuple.\n",
      "days_of_week = ('sun','mon','tue','wed','thu','fri','sat')\n",
      "print days_of_week,type(days_of_week)\n",
      "\n",
      "empty_tuple = tuple()\n",
      "print empty_tuple,type(empty_tuple)\n",
      "\n",
      "empty_tuple1 = ()\n",
      "print empty_tuple1,type(empty_tuple1)"
     ],
     "language": "python",
     "metadata": {},
     "outputs": [
      {
       "output_type": "stream",
       "stream": "stdout",
       "text": [
        "('sun', 'mon', 'tue', 'wed', 'thu', 'fri', 'sat') <type 'tuple'>\n",
        "() <type 'tuple'>\n",
        "() <type 'tuple'>\n"
       ]
      }
     ],
     "prompt_number": 5
    },
    {
     "cell_type": "code",
     "collapsed": false,
     "input": [
      "# what is tuple?\n",
      "\n",
      "my_string = \"python\"\n",
      "print my_string,type(my_string)\n",
      "\n",
      "my_string = (\"python\")\n",
      "print my_string,type(my_string)\n",
      "\n",
      "my_string = (\"python\",)\n",
      "print my_string,type(my_string)\n",
      "\n",
      "my_string = \"python\",\"perl\",\"shell\",\"linux\"\n",
      "print my_string,type(my_string)"
     ],
     "language": "python",
     "metadata": {},
     "outputs": [
      {
       "output_type": "stream",
       "stream": "stdout",
       "text": [
        "python <type 'str'>\n",
        "python <type 'str'>\n",
        "('python',) <type 'tuple'>\n",
        "('python', 'perl', 'shell', 'linux') <type 'tuple'>\n"
       ]
      }
     ],
     "prompt_number": 9
    },
    {
     "cell_type": "code",
     "collapsed": false,
     "input": [
      "# lists vs tuples vs string\n",
      "\n",
      "# strings are sequence of characters. you cannot index a comma seperated strings.\n",
      "# my_string = \"python\"  # true\n",
      "# my_string = \"python,perl,shell,linux\" # true\n",
      "# my_string = \"python\",\"perl\",\"shell\",\"linux\"  # False\n",
      "# you cannot modify the contents of a string.\n",
      "\n",
      "# List is a sequence of values , which are indexed and are read-write.\n",
      "# days_of_week = ['sun','mon','tue','wed','thu','fri','sat']\n",
      "# you can modify the elements of a list.\n",
      "\n",
      "# Tuple is a sequence of values , which are indexed but are readonly.\n",
      "# days_of_week = ('sun','mon','tue','wed','thu','fri','sat')\n",
      "# you cannot modify the elements of a tuple"
     ],
     "language": "python",
     "metadata": {},
     "outputs": [],
     "prompt_number": 10
    },
    {
     "cell_type": "code",
     "collapsed": false,
     "input": [
      " my_string =\"python\"\n",
      " my_string[0] = 'T'"
     ],
     "language": "python",
     "metadata": {},
     "outputs": [
      {
       "ename": "TypeError",
       "evalue": "'str' object does not support item assignment",
       "output_type": "pyerr",
       "traceback": [
        "\u001b[0;31m---------------------------------------------------------------------------\u001b[0m\n\u001b[0;31mTypeError\u001b[0m                                 Traceback (most recent call last)",
        "\u001b[0;32m<ipython-input-11-32430e616bae>\u001b[0m in \u001b[0;36m<module>\u001b[0;34m()\u001b[0m\n\u001b[1;32m      1\u001b[0m \u001b[0mmy_string\u001b[0m \u001b[0;34m=\u001b[0m\u001b[0;34m\"python\"\u001b[0m\u001b[0;34m\u001b[0m\u001b[0m\n\u001b[0;32m----> 2\u001b[0;31m \u001b[0mmy_string\u001b[0m\u001b[0;34m[\u001b[0m\u001b[0;36m0\u001b[0m\u001b[0;34m]\u001b[0m \u001b[0;34m=\u001b[0m \u001b[0;34m'T'\u001b[0m\u001b[0;34m\u001b[0m\u001b[0m\n\u001b[0m",
        "\u001b[0;31mTypeError\u001b[0m: 'str' object does not support item assignment"
       ]
      }
     ],
     "prompt_number": 11
    },
    {
     "cell_type": "code",
     "collapsed": false,
     "input": [
      "days_of_week = ['sun','mon','tue','wed','thu','fri','sat']\n",
      "days_of_week[0] = \"SUN\"\n",
      "print days_of_week"
     ],
     "language": "python",
     "metadata": {},
     "outputs": [
      {
       "output_type": "stream",
       "stream": "stdout",
       "text": [
        "['SUN', 'mon', 'tue', 'wed', 'thu', 'fri', 'sat']\n"
       ]
      }
     ],
     "prompt_number": 12
    },
    {
     "cell_type": "code",
     "collapsed": false,
     "input": [
      "days_of_week = ('sun','mon','tue','wed','thu','fri','sat')\n",
      "days_of_week[0] = \"SUN\"\n"
     ],
     "language": "python",
     "metadata": {},
     "outputs": [
      {
       "ename": "TypeError",
       "evalue": "'tuple' object does not support item assignment",
       "output_type": "pyerr",
       "traceback": [
        "\u001b[0;31m---------------------------------------------------------------------------\u001b[0m\n\u001b[0;31mTypeError\u001b[0m                                 Traceback (most recent call last)",
        "\u001b[0;32m<ipython-input-13-a86265b9f377>\u001b[0m in \u001b[0;36m<module>\u001b[0;34m()\u001b[0m\n\u001b[1;32m      1\u001b[0m \u001b[0mdays_of_week\u001b[0m \u001b[0;34m=\u001b[0m \u001b[0;34m(\u001b[0m\u001b[0;34m'sun'\u001b[0m\u001b[0;34m,\u001b[0m\u001b[0;34m'mon'\u001b[0m\u001b[0;34m,\u001b[0m\u001b[0;34m'tue'\u001b[0m\u001b[0;34m,\u001b[0m\u001b[0;34m'wed'\u001b[0m\u001b[0;34m,\u001b[0m\u001b[0;34m'thu'\u001b[0m\u001b[0;34m,\u001b[0m\u001b[0;34m'fri'\u001b[0m\u001b[0;34m,\u001b[0m\u001b[0;34m'sat'\u001b[0m\u001b[0;34m)\u001b[0m\u001b[0;34m\u001b[0m\u001b[0m\n\u001b[0;32m----> 2\u001b[0;31m \u001b[0mdays_of_week\u001b[0m\u001b[0;34m[\u001b[0m\u001b[0;36m0\u001b[0m\u001b[0;34m]\u001b[0m \u001b[0;34m=\u001b[0m \u001b[0;34m\"SUN\"\u001b[0m\u001b[0;34m\u001b[0m\u001b[0m\n\u001b[0m",
        "\u001b[0;31mTypeError\u001b[0m: 'tuple' object does not support item assignment"
       ]
      }
     ],
     "prompt_number": 13
    },
    {
     "cell_type": "code",
     "collapsed": false,
     "input": [
      "# string - sequence of characters\n",
      "my_string = \"python,perl,shell,linux\"\n",
      "print my_string,type(my_string)\n",
      "print my_string[0]"
     ],
     "language": "python",
     "metadata": {},
     "outputs": [
      {
       "output_type": "stream",
       "stream": "stdout",
       "text": [
        "python,perl,shell,linux <type 'str'>\n",
        "p\n"
       ]
      }
     ],
     "prompt_number": 16
    },
    {
     "cell_type": "code",
     "collapsed": false,
     "input": [
      "# tuple - sequence of values\n",
      "my_string = (\"python\",\"perl\",\"shell\",\"linux\")\n",
      "print my_string,type(my_string)\n",
      "print my_string[0]"
     ],
     "language": "python",
     "metadata": {},
     "outputs": [
      {
       "output_type": "stream",
       "stream": "stdout",
       "text": [
        "('python', 'perl', 'shell', 'linux') <type 'tuple'>\n",
        "python\n"
       ]
      }
     ],
     "prompt_number": 17
    },
    {
     "cell_type": "code",
     "collapsed": false,
     "input": [
      "# packing and unpacking\n",
      "# lists and tuples are called packing. () or []\n",
      "\n",
      "# (\"python\",\"perl\",\"shell\",\"linux\") -> a packing\n",
      "# unpacking\n",
      "a,b,c,d = (\"python\",\"perl\",\"shell\",\"linux\")\n",
      "print a,type(a)\n",
      "print b,type(b)\n",
      "print c,type(c)\n",
      "print d,type(d)"
     ],
     "language": "python",
     "metadata": {},
     "outputs": [
      {
       "output_type": "stream",
       "stream": "stdout",
       "text": [
        "python <type 'str'>\n",
        "perl <type 'str'>\n",
        "shell <type 'str'>\n",
        "linux <type 'str'>\n"
       ]
      }
     ],
     "prompt_number": 26
    },
    {
     "cell_type": "code",
     "collapsed": false,
     "input": [
      "# while unpacking .. elements on left hand side should be equal to elements on right hand side.\n",
      "# LHS = RHS\n",
      "a,b,c = (\"python\",\"perl\",\"shell\",\"linux\")"
     ],
     "language": "python",
     "metadata": {},
     "outputs": [
      {
       "ename": "ValueError",
       "evalue": "too many values to unpack",
       "output_type": "pyerr",
       "traceback": [
        "\u001b[0;31m---------------------------------------------------------------------------\u001b[0m\n\u001b[0;31mValueError\u001b[0m                                Traceback (most recent call last)",
        "\u001b[0;32m<ipython-input-19-57001ff85a95>\u001b[0m in \u001b[0;36m<module>\u001b[0;34m()\u001b[0m\n\u001b[1;32m      1\u001b[0m \u001b[0;31m# while unpacking .. elements on left hand side should be equal to elements on right hand side.\u001b[0m\u001b[0;34m\u001b[0m\u001b[0;34m\u001b[0m\u001b[0m\n\u001b[1;32m      2\u001b[0m \u001b[0;31m# LHS = RHS\u001b[0m\u001b[0;34m\u001b[0m\u001b[0;34m\u001b[0m\u001b[0m\n\u001b[0;32m----> 3\u001b[0;31m \u001b[0ma\u001b[0m\u001b[0;34m,\u001b[0m\u001b[0mb\u001b[0m\u001b[0;34m,\u001b[0m\u001b[0mc\u001b[0m \u001b[0;34m=\u001b[0m \u001b[0;34m(\u001b[0m\u001b[0;34m\"python\"\u001b[0m\u001b[0;34m,\u001b[0m\u001b[0;34m\"perl\"\u001b[0m\u001b[0;34m,\u001b[0m\u001b[0;34m\"shell\"\u001b[0m\u001b[0;34m,\u001b[0m\u001b[0;34m\"linux\"\u001b[0m\u001b[0;34m)\u001b[0m\u001b[0;34m\u001b[0m\u001b[0m\n\u001b[0m",
        "\u001b[0;31mValueError\u001b[0m: too many values to unpack"
       ]
      }
     ],
     "prompt_number": 19
    },
    {
     "cell_type": "code",
     "collapsed": false,
     "input": [
      "a,b,c,d,e = (\"python\",\"perl\",\"shell\",\"linux\")"
     ],
     "language": "python",
     "metadata": {},
     "outputs": [
      {
       "ename": "ValueError",
       "evalue": "need more than 4 values to unpack",
       "output_type": "pyerr",
       "traceback": [
        "\u001b[0;31m---------------------------------------------------------------------------\u001b[0m\n\u001b[0;31mValueError\u001b[0m                                Traceback (most recent call last)",
        "\u001b[0;32m<ipython-input-20-182658a2351c>\u001b[0m in \u001b[0;36m<module>\u001b[0;34m()\u001b[0m\n\u001b[0;32m----> 1\u001b[0;31m \u001b[0ma\u001b[0m\u001b[0;34m,\u001b[0m\u001b[0mb\u001b[0m\u001b[0;34m,\u001b[0m\u001b[0mc\u001b[0m\u001b[0;34m,\u001b[0m\u001b[0md\u001b[0m\u001b[0;34m,\u001b[0m\u001b[0me\u001b[0m \u001b[0;34m=\u001b[0m \u001b[0;34m(\u001b[0m\u001b[0;34m\"python\"\u001b[0m\u001b[0;34m,\u001b[0m\u001b[0;34m\"perl\"\u001b[0m\u001b[0;34m,\u001b[0m\u001b[0;34m\"shell\"\u001b[0m\u001b[0;34m,\u001b[0m\u001b[0;34m\"linux\"\u001b[0m\u001b[0;34m)\u001b[0m\u001b[0;34m\u001b[0m\u001b[0m\n\u001b[0m",
        "\u001b[0;31mValueError\u001b[0m: need more than 4 values to unpack"
       ]
      }
     ],
     "prompt_number": 20
    },
    {
     "cell_type": "code",
     "collapsed": false,
     "input": [
      "# lists and tuples\n",
      "\n",
      "my_students = ['vipin','avinash','azhar','kumar']\n",
      "my_exams    = ['python','django','ruby','ansibel']\n",
      "\n",
      "# logic\n",
      "#1) if the student name is part of the my_students list.\n",
      "\n",
      "name='vipin'\n",
      "print 'vipin' in my_students\n",
      "print 'rajni' in my_students\n",
      "\n",
      "#2) corelate the student id to that of the my_exams\n",
      "# getting the index of the student from my_students list\n",
      "\n",
      "print my_students.index('vipin')\n",
      "print my_exams[my_students.index('vipin')]"
     ],
     "language": "python",
     "metadata": {},
     "outputs": [
      {
       "output_type": "stream",
       "stream": "stdout",
       "text": [
        "True\n",
        "False\n",
        "0\n",
        "python\n"
       ]
      }
     ],
     "prompt_number": 24
    },
    {
     "cell_type": "code",
     "collapsed": false,
     "input": [
      "# name of the student.\n",
      "name = 'kumar'\n",
      "\n",
      "if name in my_students:\n",
      "    print \"{} is going to give the exam {}\".format(name,my_exams[my_students.index(name)])"
     ],
     "language": "python",
     "metadata": {},
     "outputs": [
      {
       "output_type": "stream",
       "stream": "stdout",
       "text": [
        "kumar is going to give the exam ansibel\n"
       ]
      }
     ],
     "prompt_number": 27
    },
    {
     "cell_type": "code",
     "collapsed": false,
     "input": [
      "# principle - anti-climax\n",
      "my_students.sort()\n",
      "print my_students\n",
      "print my_exams"
     ],
     "language": "python",
     "metadata": {},
     "outputs": [
      {
       "output_type": "stream",
       "stream": "stdout",
       "text": [
        "['avinash', 'azhar', 'kumar', 'vipin']\n",
        "['python', 'django', 'ruby', 'ansibel']\n"
       ]
      }
     ],
     "prompt_number": 28
    },
    {
     "cell_type": "code",
     "collapsed": false,
     "input": [
      "# name of the student.\n",
      "name = 'kumar'\n",
      "\n",
      "if name in my_students:\n",
      "    print \"{} is going to give the exam {}\".format(name,my_exams[my_students.index(name)])"
     ],
     "language": "python",
     "metadata": {},
     "outputs": [
      {
       "output_type": "stream",
       "stream": "stdout",
       "text": [
        "kumar is going to give the exam ruby\n"
       ]
      }
     ],
     "prompt_number": 29
    },
    {
     "cell_type": "code",
     "collapsed": false,
     "input": [
      "#my_students = ['vipin','avinash','azhar','kumar']\n",
      "#my_exams    = ['python','django','ruby','ansibel']\n",
      "# list of tuples\n",
      "\n",
      "name = 'azhar'\n",
      "new_exams = [('vipin','python'),('avinash','django'),('azhar','ruby'),('kumar','ansibel')]\n",
      "\n",
      "for student,subject in new_exams:\n",
      "    if student == name:\n",
      "        print \"{} is going to give exam {}\".format(student,subject)"
     ],
     "language": "python",
     "metadata": {},
     "outputs": [
      {
       "output_type": "stream",
       "stream": "stdout",
       "text": [
        "azhar is going to give exam ruby\n"
       ]
      }
     ],
     "prompt_number": 33
    },
    {
     "cell_type": "code",
     "collapsed": false,
     "input": [
      "\n",
      "name = 'avinash'\n",
      "\n",
      "for student,subject in new_exams:\n",
      "    if student == name:\n",
      "        print \"{} is going to give exam {}\".format(student,subject)\n"
     ],
     "language": "python",
     "metadata": {},
     "outputs": [
      {
       "output_type": "stream",
       "stream": "stdout",
       "text": [
        "avinash is going to give exam django\n"
       ]
      }
     ],
     "prompt_number": 34
    },
    {
     "cell_type": "code",
     "collapsed": false,
     "input": [
      "# anti-climax - sorting\n",
      "new_exams.sort()\n",
      "print new_exams"
     ],
     "language": "python",
     "metadata": {},
     "outputs": [
      {
       "output_type": "stream",
       "stream": "stdout",
       "text": [
        "[('avinash', 'django'), ('azhar', 'ruby'), ('kumar', 'ansibel'), ('vipin', 'python')]\n"
       ]
      }
     ],
     "prompt_number": 35
    },
    {
     "cell_type": "code",
     "collapsed": false,
     "input": [
      "name = 'vipin'\n",
      "\n",
      "for student,subject in new_exams:\n",
      "    if student == name:\n",
      "        print \"{} is going to give exam {}\".format(student,subject)"
     ],
     "language": "python",
     "metadata": {},
     "outputs": [
      {
       "output_type": "stream",
       "stream": "stdout",
       "text": [
        "vipin is going to give exam python\n"
       ]
      }
     ],
     "prompt_number": 36
    },
    {
     "cell_type": "code",
     "collapsed": false,
     "input": [
      "# managing the data with right datastructures. \n",
      "# "
     ],
     "language": "python",
     "metadata": {},
     "outputs": []
    },
    {
     "cell_type": "code",
     "collapsed": false,
     "input": [
      "# tuples\n",
      "\n",
      "days_of_week = ('sun','mon','tue','wed','thu','fri','sat')\n",
      "print days_of_week\n",
      "\n",
      "print dir(days_of_week)"
     ],
     "language": "python",
     "metadata": {},
     "outputs": [
      {
       "output_type": "stream",
       "stream": "stdout",
       "text": [
        "('sun', 'mon', 'tue', 'wed', 'thu', 'fri', 'sat')\n",
        "['__add__', '__class__', '__contains__', '__delattr__', '__doc__', '__eq__', '__format__', '__ge__', '__getattribute__', '__getitem__', '__getnewargs__', '__getslice__', '__gt__', '__hash__', '__init__', '__iter__', '__le__', '__len__', '__lt__', '__mul__', '__ne__', '__new__', '__reduce__', '__reduce_ex__', '__repr__', '__rmul__', '__setattr__', '__sizeof__', '__str__', '__subclasshook__', 'count', 'index']\n"
       ]
      }
     ],
     "prompt_number": 38
    },
    {
     "cell_type": "code",
     "collapsed": false,
     "input": [
      "print days_of_week.count('sun') # 1\n",
      "print days_of_week.index('wed') # 3"
     ],
     "language": "python",
     "metadata": {},
     "outputs": [
      {
       "output_type": "stream",
       "stream": "stdout",
       "text": [
        "1\n",
        "3\n"
       ]
      }
     ],
     "prompt_number": 39
    },
    {
     "cell_type": "code",
     "collapsed": false,
     "input": [],
     "language": "python",
     "metadata": {},
     "outputs": []
    }
   ],
   "metadata": {}
  }
 ]
}