{
 "cells": [
  {
   "cell_type": "code",
   "execution_count": null,
   "metadata": {
    "collapsed": true
   },
   "outputs": [],
   "source": [
    "# dictionaries,dict,hash,hashes\n",
    "# ssn - Social Security Number\n",
    "# uin - Unique Identification number\n",
    "# me(santosh-UID) : address,se\n",
    "# father(UID)     : address,gs\n",
    "# mother(UID)     : address,hw\n",
    "# key:value ( keys should always be unique)"
   ]
  },
  {
   "cell_type": "code",
   "execution_count": 3,
   "metadata": {
    "collapsed": false
   },
   "outputs": [
    {
     "name": "stdout",
     "output_type": "stream",
     "text": [
      "{'a': 'apple', 'c': 'choclate', 'b': 'banana', 'd': 'donut'} <type 'dict'>\n",
      "{} <type 'dict'>\n",
      "{} <type 'dict'>\n"
     ]
    }
   ],
   "source": [
    "# dictionaries are not index based.\n",
    "# dictionaries need not be arranged the way they are inserted.\n",
    "# if you want them to be printed the way you entered then you need to use pprint.\n",
    "\n",
    "my_fruits = {'a':'apple','b':'banana','c':'choclate','d':'donut'}\n",
    "print my_fruits,type(my_fruits)\n",
    "empty_dict = {}\n",
    "print empty_dict,type(empty_dict)\n",
    "empty_dict = dict()\n",
    "print empty_dict,type(empty_dict)"
   ]
  },
  {
   "cell_type": "code",
   "execution_count": 8,
   "metadata": {
    "collapsed": false
   },
   "outputs": [
    {
     "name": "stdout",
     "output_type": "stream",
     "text": [
      "avacardo\n",
      "donut\n"
     ]
    }
   ],
   "source": [
    "# we can extract the elements of a dictionary using the key and value pair.\n",
    "print my_fruits['a']\n",
    "print my_fruits['d']"
   ]
  },
  {
   "cell_type": "code",
   "execution_count": 6,
   "metadata": {
    "collapsed": false
   },
   "outputs": [
    {
     "name": "stdout",
     "output_type": "stream",
     "text": [
      "{'a': 'apple', 'c': 'choclate', 'b': 'banana', 'e': 'elephant', 'd': 'donut'}\n",
      "{'a': 'avacardo', 'c': 'choclate', 'b': 'banana', 'e': 'elephant', 'd': 'donut'}\n"
     ]
    }
   ],
   "source": [
    "# insert a new value into a dictionary\n",
    "my_fruits['e'] = 'elephant'\n",
    "print my_fruits\n",
    "# replace\n",
    "my_fruits['a'] = 'avacardo'\n",
    "print my_fruits"
   ]
  },
  {
   "cell_type": "code",
   "execution_count": 17,
   "metadata": {
    "collapsed": false
   },
   "outputs": [
    {
     "name": "stdout",
     "output_type": "stream",
     "text": [
      "a apple\n",
      "c choclate\n",
      "b banana\n",
      "d donut\n"
     ]
    }
   ],
   "source": [
    "# iteration on dictionaries\n",
    "for key in my_fruits:\n",
    "    print key,my_fruits[key]"
   ]
  },
  {
   "cell_type": "code",
   "execution_count": null,
   "metadata": {
    "collapsed": true
   },
   "outputs": [],
   "source": [
    "# cheat-sheets\n",
    "# list - ['apple','banana','cherry'],[],list()\n",
    "# tuple - ('apple','banana','cherry'),(),tuple()\n",
    "# dict - {'a':'apple','b':'balloon'},{},dict()"
   ]
  },
  {
   "cell_type": "code",
   "execution_count": 4,
   "metadata": {
    "collapsed": false
   },
   "outputs": [
    {
     "name": "stdout",
     "output_type": "stream",
     "text": [
      "True\n",
      "False\n"
     ]
    }
   ],
   "source": [
    "# in on a dictionary works only on keys.\n",
    "print 'a' in my_fruits\n",
    "print 'apple' in my_fruits"
   ]
  },
  {
   "cell_type": "code",
   "execution_count": 9,
   "metadata": {
    "collapsed": false
   },
   "outputs": [
    {
     "name": "stdout",
     "output_type": "stream",
     "text": [
      "['__class__', '__cmp__', '__contains__', '__delattr__', '__delitem__', '__doc__', '__eq__', '__format__', '__ge__', '__getattribute__', '__getitem__', '__gt__', '__hash__', '__init__', '__iter__', '__le__', '__len__', '__lt__', '__ne__', '__new__', '__reduce__', '__reduce_ex__', '__repr__', '__setattr__', '__setitem__', '__sizeof__', '__str__', '__subclasshook__', 'clear', 'copy', 'fromkeys', 'get', 'has_key', 'items', 'iteritems', 'iterkeys', 'itervalues', 'keys', 'pop', 'popitem', 'setdefault', 'update', 'values', 'viewitems', 'viewkeys', 'viewvalues']\n"
     ]
    }
   ],
   "source": [
    "# functions\n",
    "my_fruits = {'a':'apple','b':'banana','c':'choclate','d':'donut'}\n",
    "print dir(my_fruits)"
   ]
  },
  {
   "cell_type": "code",
   "execution_count": 11,
   "metadata": {
    "collapsed": false
   },
   "outputs": [
    {
     "name": "stdout",
     "output_type": "stream",
     "text": [
      "apple\n",
      "apple\n"
     ]
    }
   ],
   "source": [
    "# get\n",
    "print my_fruits.get('a')\n",
    "print my_fruits['a']"
   ]
  },
  {
   "cell_type": "code",
   "execution_count": 12,
   "metadata": {
    "collapsed": false
   },
   "outputs": [
    {
     "name": "stdout",
     "output_type": "stream",
     "text": [
      "True\n",
      "True\n"
     ]
    }
   ],
   "source": [
    "# 'has_key'\n",
    "print 'a' in my_fruits\n",
    "print my_fruits.has_key('a')"
   ]
  },
  {
   "cell_type": "code",
   "execution_count": 13,
   "metadata": {
    "collapsed": false
   },
   "outputs": [
    {
     "name": "stdout",
     "output_type": "stream",
     "text": [
      "Help on built-in function keys:\n",
      "\n",
      "keys(...)\n",
      "    D.keys() -> list of D's keys\n",
      "\n",
      "None\n",
      "['a', 'c', 'b', 'd']\n"
     ]
    }
   ],
   "source": [
    "# keys,iterkeys,viewkeys\n",
    "# keys\n",
    "\n",
    "print help(my_fruits.keys)\n",
    "print my_fruits.keys()"
   ]
  },
  {
   "cell_type": "code",
   "execution_count": 18,
   "metadata": {
    "collapsed": false
   },
   "outputs": [
    {
     "name": "stdout",
     "output_type": "stream",
     "text": [
      "Help on built-in function iterkeys:\n",
      "\n",
      "iterkeys(...)\n",
      "    D.iterkeys() -> an iterator over the keys of D\n",
      "\n",
      "None\n",
      "a\n",
      "c\n",
      "b\n",
      "d\n"
     ]
    }
   ],
   "source": [
    "# iterkeys\n",
    "print help(my_fruits.iterkeys)\n",
    "\n",
    "for key in my_fruits.iterkeys():\n",
    "    print key"
   ]
  },
  {
   "cell_type": "code",
   "execution_count": 19,
   "metadata": {
    "collapsed": false
   },
   "outputs": [
    {
     "name": "stdout",
     "output_type": "stream",
     "text": [
      "Help on built-in function viewkeys:\n",
      "\n",
      "viewkeys(...)\n",
      "    D.viewkeys() -> a set-like object providing a view on D's keys\n",
      "\n",
      "None\n",
      "dict_keys(['a', 'c', 'b', 'd'])\n"
     ]
    }
   ],
   "source": [
    "# viewkeys - templated systems.\n",
    "# for your frameworks - django,flask and bottle.\n",
    "print help(my_fruits.viewkeys)\n",
    "print my_fruits.viewkeys()"
   ]
  },
  {
   "cell_type": "code",
   "execution_count": 21,
   "metadata": {
    "collapsed": false
   },
   "outputs": [
    {
     "name": "stdout",
     "output_type": "stream",
     "text": [
      "Help on built-in function values:\n",
      "\n",
      "values(...)\n",
      "    D.values() -> list of D's values\n",
      "\n",
      "None\n",
      "['apple', 'choclate', 'banana', 'donut']\n"
     ]
    }
   ],
   "source": [
    "#values,itervalues,viewvalues\n",
    "\n",
    "# values\n",
    "print help(my_fruits.values)\n",
    "print my_fruits.values()"
   ]
  },
  {
   "cell_type": "code",
   "execution_count": 23,
   "metadata": {
    "collapsed": false
   },
   "outputs": [
    {
     "name": "stdout",
     "output_type": "stream",
     "text": [
      "Help on built-in function itervalues:\n",
      "\n",
      "itervalues(...)\n",
      "    D.itervalues() -> an iterator over the values of D\n",
      "\n",
      "None\n",
      "apple\n",
      "choclate\n",
      "banana\n",
      "donut\n"
     ]
    }
   ],
   "source": [
    "# itervalues\n",
    "print help(my_fruits.itervalues)\n",
    "for value in  my_fruits.itervalues():\n",
    "    print value"
   ]
  },
  {
   "cell_type": "code",
   "execution_count": 26,
   "metadata": {
    "collapsed": false
   },
   "outputs": [
    {
     "name": "stdout",
     "output_type": "stream",
     "text": [
      "Help on built-in function viewvalues:\n",
      "\n",
      "viewvalues(...)\n",
      "    D.viewvalues() -> an object providing a view on D's values\n",
      "\n",
      "None\n",
      "dict_values(['apple', 'choclate', 'banana', 'donut'])\n",
      "apple\n",
      "choclate\n",
      "banana\n",
      "donut\n"
     ]
    }
   ],
   "source": [
    "# viewvalues - templated systems.\n",
    "# for your frameworks - django,flask and bottle.\n",
    "print help(my_fruits.viewvalues)\n",
    "print my_fruits.viewvalues()\n",
    "for value in my_fruits.viewvalues():\n",
    "    print value"
   ]
  },
  {
   "cell_type": "code",
   "execution_count": 27,
   "metadata": {
    "collapsed": false
   },
   "outputs": [
    {
     "name": "stdout",
     "output_type": "stream",
     "text": [
      "Help on built-in function items:\n",
      "\n",
      "items(...)\n",
      "    D.items() -> list of D's (key, value) pairs, as 2-tuples\n",
      "\n",
      "None\n",
      "[('a', 'apple'), ('c', 'choclate'), ('b', 'banana'), ('d', 'donut')]\n"
     ]
    }
   ],
   "source": [
    "# items,iteritems,viewitems\n",
    "\n",
    "print help(my_fruits.items)\n",
    "print my_fruits.items()\n",
    "# [('avinash', 'django'), ('azhar', 'ruby'), ('kumar', 'ansibel'), ('vipin', 'python')]"
   ]
  },
  {
   "cell_type": "code",
   "execution_count": 29,
   "metadata": {
    "collapsed": false
   },
   "outputs": [
    {
     "name": "stdout",
     "output_type": "stream",
     "text": [
      "Help on built-in function iteritems:\n",
      "\n",
      "iteritems(...)\n",
      "    D.iteritems() -> an iterator over the (key, value) items of D\n",
      "\n",
      "None\n",
      "<dictionary-itemiterator object at 0x7fc164635a48>\n",
      "('a', 'apple')\n",
      "('c', 'choclate')\n",
      "('b', 'banana')\n",
      "('d', 'donut')\n"
     ]
    }
   ],
   "source": [
    "# iteritems\n",
    "print help(my_fruits.iteritems)\n",
    "print my_fruits.iteritems()\n",
    "\n",
    "for value in my_fruits.iteritems():\n",
    "    print value"
   ]
  },
  {
   "cell_type": "code",
   "execution_count": 30,
   "metadata": {
    "collapsed": false
   },
   "outputs": [
    {
     "name": "stdout",
     "output_type": "stream",
     "text": [
      "Help on built-in function viewitems:\n",
      "\n",
      "viewitems(...)\n",
      "    D.viewitems() -> a set-like object providing a view on D's items\n",
      "\n",
      "None\n",
      "dict_items([('a', 'apple'), ('c', 'choclate'), ('b', 'banana'), ('d', 'donut')])\n"
     ]
    }
   ],
   "source": [
    "# viewitems\n",
    "print help(my_fruits.viewitems)\n",
    "print my_fruits.viewitems()"
   ]
  },
  {
   "cell_type": "code",
   "execution_count": 36,
   "metadata": {
    "collapsed": false
   },
   "outputs": [
    {
     "name": "stdout",
     "output_type": "stream",
     "text": [
      "Help on built-in function update:\n",
      "\n",
      "update(...)\n",
      "    D.update([E, ]**F) -> None.  Update D from dict/iterable E and F.\n",
      "    If E present and has a .keys() method, does:     for k in E: D[k] = E[k]\n",
      "    If E present and lacks .keys() method, does:     for (k, v) in E: D[k] = v\n",
      "    In either case, this is followed by: for k in F: D[k] = F[k]\n",
      "\n",
      "None\n",
      "{'a': 'apple', 'c': 'choclate', 'b': 'banana', 'd': 'donut', 'an': 'anjeer'}\n",
      "{'a': 'apple', 'c': 'choclate', 'b': 'banana', 'd': 'donut', 'ana': 'anar', 'an': 'anjeer'}\n"
     ]
    }
   ],
   "source": [
    "# update\n",
    "print help(my_fruits.update)\n",
    "my_fruits.update({'an':'anjeer'})\n",
    "print my_fruits\n",
    "\n",
    "my_fruits['ana']='anar'\n",
    "print my_fruits"
   ]
  },
  {
   "cell_type": "code",
   "execution_count": 47,
   "metadata": {
    "collapsed": false
   },
   "outputs": [
    {
     "name": "stdout",
     "output_type": "stream",
     "text": [
      "Help on built-in function setdefault:\n",
      "\n",
      "setdefault(...)\n",
      "    D.setdefault(k[,d]) -> D.get(k,d), also set D[k]=d if k not in D\n",
      "\n",
      "None\n",
      "apple\n",
      "None\n"
     ]
    }
   ],
   "source": [
    "# setdefault - task to be looked into.\n",
    "print help(my_fruits.setdefault)\n",
    "print my_fruits.setdefault('a',None)\n",
    "print my_fruits.setdefault('z','zebra')\n",
    "#print my_fruits['a']\n",
    "#print my_fruits['z']"
   ]
  },
  {
   "cell_type": "code",
   "execution_count": 55,
   "metadata": {
    "collapsed": false
   },
   "outputs": [
    {
     "name": "stdout",
     "output_type": "stream",
     "text": [
      "[1, 2, 3] 140468589632040\n",
      "[4, 5, 6] 140468589187440\n",
      "[[1, 2, 3], [4, 5, 6]] 140468589188520 140468589632040 140468589187440\n",
      "[[1, 2, 3], [4, 5, 6]] 140468589188520 140468589632040 140468589187440\n",
      "[[1, 2, 3], [4, 5, 6]] 140468589187368 140468589188880 140468589631392\n",
      "[[1, 2, 3], [4, 5, 6]] 140468589189888 140468589632040 140468589187440\n",
      "['one', 2, 3]\n",
      "[['one', 2, 3], [4, 5, 6]] 140468589189888 140468589632040 140468589187440\n",
      "[[1, 2, 3], [4, 5, 6]] 140468589187368 140468589188880 140468589631392\n"
     ]
    }
   ],
   "source": [
    "# copy\n",
    "# softcopy,deepcopy,shallowcopy\n",
    "# shallowcopy always works on complex objects.\n",
    "import copy\n",
    "\n",
    "a = [1,2,3]\n",
    "b = [4,5,6]\n",
    "Cc = [a,b]\n",
    "\n",
    "\n",
    "print a,id(a)\n",
    "print b,id(b)\n",
    "print Cc,id(Cc),id(Cc[0]),id(Cc[1])\n",
    "# softcopy\n",
    "Soc = Cc\n",
    "print Soc,id(Soc),id(Soc[0]),id(Soc[1])\n",
    "\n",
    "# deepcopy\n",
    "Doc = copy.deepcopy(Cc)\n",
    "print Doc,id(Doc),id(Doc[0]),id(Doc[1])\n",
    "\n",
    "\n",
    "\n",
    "# shallowcopy\n",
    "Shc = copy.copy(Cc)\n",
    "print Shc,id(Shc),id(Shc[0]),id(Shc[1])\n",
    "\n",
    "# if i modify a\n",
    "a[0] = \"one\"\n",
    "print a\n",
    "print Shc,id(Shc),id(Shc[0]),id(Shc[1])\n",
    "print Doc,id(Doc),id(Doc[0]),id(Doc[1])\n",
    "\n",
    "\n",
    "# web1,web2\n",
    "# web1(training,timing) # complext object\n",
    "# web2(training,cost)   # complex obejct\n",
    "3\n"
   ]
  },
  {
   "cell_type": "code",
   "execution_count": 58,
   "metadata": {
    "collapsed": false
   },
   "outputs": [
    {
     "name": "stdout",
     "output_type": "stream",
     "text": [
      "Help on built-in function copy:\n",
      "\n",
      "copy(...)\n",
      "    D.copy() -> a shallow copy of D\n",
      "\n",
      "None\n",
      "{'a': 'apple', 'c': 'choclate', 'b': 'banana', 'an': 'anjeer', 'd': 'donut', 'z': None, 'ana': 'anar'}\n",
      "False\n"
     ]
    }
   ],
   "source": [
    "# copy\n",
    "print help(my_fruits.copy)\n",
    "D_fruits = my_fruits.copy()\n",
    "print D_fruits\n",
    "print D_fruits is my_fruits"
   ]
  },
  {
   "cell_type": "code",
   "execution_count": 63,
   "metadata": {
    "collapsed": false
   },
   "outputs": [
    {
     "name": "stdout",
     "output_type": "stream",
     "text": [
      "Help on built-in function pop:\n",
      "\n",
      "pop(...)\n",
      "    D.pop(k[,d]) -> v, remove specified key and return the corresponding value.\n",
      "    If key is not found, d is returned if given, otherwise KeyError is raised\n",
      "\n",
      "None\n",
      "{'c': 'choclate', 'b': 'banana', 'an': 'anjeer', 'd': 'donut', 'z': None, 'ana': 'anar'}\n",
      "banana\n"
     ]
    }
   ],
   "source": [
    "# pop\n",
    "print help(D_fruits.pop)\n",
    "print D_fruits\n",
    "print D_fruits.pop('b')\n"
   ]
  },
  {
   "cell_type": "code",
   "execution_count": 64,
   "metadata": {
    "collapsed": false
   },
   "outputs": [
    {
     "name": "stdout",
     "output_type": "stream",
     "text": [
      "{'c': 'choclate', 'an': 'anjeer', 'd': 'donut', 'z': None, 'ana': 'anar'}\n"
     ]
    },
    {
     "ename": "KeyError",
     "evalue": "'b'",
     "output_type": "error",
     "traceback": [
      "\u001b[0;31m---------------------------------------------------------------------------\u001b[0m",
      "\u001b[0;31mKeyError\u001b[0m                                  Traceback (most recent call last)",
      "\u001b[0;32m<ipython-input-64-74a459eb620f>\u001b[0m in \u001b[0;36m<module>\u001b[0;34m()\u001b[0m\n\u001b[1;32m      1\u001b[0m \u001b[0;32mprint\u001b[0m \u001b[0mD_fruits\u001b[0m\u001b[0;34m\u001b[0m\u001b[0m\n\u001b[0;32m----> 2\u001b[0;31m \u001b[0;32mprint\u001b[0m \u001b[0mD_fruits\u001b[0m\u001b[0;34m.\u001b[0m\u001b[0mpop\u001b[0m\u001b[0;34m(\u001b[0m\u001b[0;34m'b'\u001b[0m\u001b[0;34m)\u001b[0m\u001b[0;34m\u001b[0m\u001b[0m\n\u001b[0m",
      "\u001b[0;31mKeyError\u001b[0m: 'b'"
     ]
    }
   ],
   "source": [
    "print D_fruits\n",
    "print D_fruits.pop('b')\n"
   ]
  },
  {
   "cell_type": "code",
   "execution_count": 66,
   "metadata": {
    "collapsed": false
   },
   "outputs": [
    {
     "name": "stdout",
     "output_type": "stream",
     "text": [
      "Help on built-in function popitem:\n",
      "\n",
      "popitem(...)\n",
      "    D.popitem() -> (k, v), remove and return some (key, value) pair as a\n",
      "    2-tuple; but raise KeyError if D is empty.\n",
      "\n",
      "None\n"
     ]
    },
    {
     "data": {
      "text/plain": [
       "('c', 'choclate')"
      ]
     },
     "execution_count": 66,
     "metadata": {},
     "output_type": "execute_result"
    }
   ],
   "source": [
    "#popitem\n",
    "print help(D_fruits.popitem)\n",
    "D_fruits.popitem()"
   ]
  },
  {
   "cell_type": "code",
   "execution_count": 67,
   "metadata": {
    "collapsed": false
   },
   "outputs": [
    {
     "name": "stdout",
     "output_type": "stream",
     "text": [
      "{'an': 'anjeer', 'd': 'donut', 'z': None, 'ana': 'anar'}\n"
     ]
    }
   ],
   "source": [
    "print D_fruits"
   ]
  },
  {
   "cell_type": "code",
   "execution_count": 69,
   "metadata": {
    "collapsed": false
   },
   "outputs": [
    {
     "name": "stdout",
     "output_type": "stream",
     "text": [
      "Help on built-in function clear:\n",
      "\n",
      "clear(...)\n",
      "    D.clear() -> None.  Remove all items from D.\n",
      "\n",
      "None\n",
      "None\n",
      "{}\n"
     ]
    }
   ],
   "source": [
    "# clear'\n",
    "print help(D_fruits.clear)\n",
    "print D_fruits.clear()\n",
    "print D_fruits"
   ]
  },
  {
   "cell_type": "code",
   "execution_count": null,
   "metadata": {
    "collapsed": true
   },
   "outputs": [],
   "source": [
    "# fromkeys => examples -> tutorialpoint"
   ]
  }
 ],
 "metadata": {
  "kernelspec": {
   "display_name": "Python 2",
   "language": "python",
   "name": "python2"
  },
  "language_info": {
   "codemirror_mode": {
    "name": "ipython",
    "version": 2
   },
   "file_extension": ".py",
   "mimetype": "text/x-python",
   "name": "python",
   "nbconvert_exporter": "python",
   "pygments_lexer": "ipython2",
   "version": "2.7.6"
  }
 },
 "nbformat": 4,
 "nbformat_minor": 1
}
