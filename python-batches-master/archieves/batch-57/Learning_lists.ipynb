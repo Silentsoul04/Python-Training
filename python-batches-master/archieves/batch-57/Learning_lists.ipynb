{
 "cells": [
  {
   "cell_type": "code",
   "execution_count": null,
   "metadata": {
    "collapsed": true
   },
   "outputs": [],
   "source": [
    "# lists\n",
    "# A linear representation of data is called list.\n",
    "# a list could be homogenous or hetrogenous.\n",
    "# array vs list\n",
    "# array is multi dimension representation of data - numpy\n",
    "# http://scipy.org/"
   ]
  },
  {
   "cell_type": "code",
   "execution_count": 5,
   "metadata": {
    "collapsed": true
   },
   "outputs": [],
   "source": [
    "my_fruits = ['apple','banana','custard','dates']\n",
    "my_empty = []\n",
    "my_empty1 = list()"
   ]
  },
  {
   "cell_type": "code",
   "execution_count": 6,
   "metadata": {
    "collapsed": false
   },
   "outputs": [
    {
     "name": "stdout",
     "output_type": "stream",
     "text": [
      "['apple', 'banana', 'custard', 'dates'] <type 'list'>\n",
      "[] <type 'list'>\n",
      "[] <type 'list'>\n"
     ]
    }
   ],
   "source": [
    "print my_fruits,type(my_fruits)\n",
    "print my_empty,type(my_empty)\n",
    "print my_empty1,type(my_empty1)"
   ]
  },
  {
   "cell_type": "code",
   "execution_count": null,
   "metadata": {
    "collapsed": true
   },
   "outputs": [],
   "source": [
    "# lists are indexed values\n",
    "# my_fruits = ['apple','banana','custard','dates']\n",
    "#                0         1         2       3      # +ve index or left to right.\n",
    "#               -4        -3         -2      -1     # -ve index or right to left"
   ]
  },
  {
   "cell_type": "code",
   "execution_count": 7,
   "metadata": {
    "collapsed": false
   },
   "outputs": [
    {
     "name": "stdout",
     "output_type": "stream",
     "text": [
      "apple\n"
     ]
    }
   ],
   "source": [
    "print my_fruits[0]"
   ]
  },
  {
   "cell_type": "code",
   "execution_count": 8,
   "metadata": {
    "collapsed": false
   },
   "outputs": [
    {
     "name": "stdout",
     "output_type": "stream",
     "text": [
      "dates\n"
     ]
    }
   ],
   "source": [
    "print my_fruits[-1]"
   ]
  },
  {
   "cell_type": "code",
   "execution_count": null,
   "metadata": {
    "collapsed": true
   },
   "outputs": [],
   "source": [
    "# slicing"
   ]
  },
  {
   "cell_type": "code",
   "execution_count": 10,
   "metadata": {
    "collapsed": false
   },
   "outputs": [
    {
     "name": "stdout",
     "output_type": "stream",
     "text": [
      "['apple', 'banana', 'custard']\n",
      "['apple', 'custard']\n"
     ]
    }
   ],
   "source": [
    "#for(i=0;i<=3;i+2)\n",
    "print my_fruits[0:3] # zero till three\n",
    "print my_fruits[0:3:2]"
   ]
  },
  {
   "cell_type": "code",
   "execution_count": 12,
   "metadata": {
    "collapsed": false
   },
   "outputs": [
    {
     "name": "stdout",
     "output_type": "stream",
     "text": [
      "p\n"
     ]
    },
    {
     "ename": "TypeError",
     "evalue": "'str' object does not support item assignment",
     "output_type": "error",
     "traceback": [
      "\u001b[0;31m---------------------------------------------------------------------------\u001b[0m",
      "\u001b[0;31mTypeError\u001b[0m                                 Traceback (most recent call last)",
      "\u001b[0;32m<ipython-input-12-15b0c0f30618>\u001b[0m in \u001b[0;36m<module>\u001b[0;34m()\u001b[0m\n\u001b[1;32m      2\u001b[0m \u001b[0mmy_string\u001b[0m\u001b[0;34m=\u001b[0m\u001b[0;34m\"python\"\u001b[0m\u001b[0;34m\u001b[0m\u001b[0m\n\u001b[1;32m      3\u001b[0m \u001b[0;32mprint\u001b[0m \u001b[0mmy_string\u001b[0m\u001b[0;34m[\u001b[0m\u001b[0;36m0\u001b[0m\u001b[0;34m]\u001b[0m\u001b[0;34m\u001b[0m\u001b[0m\n\u001b[0;32m----> 4\u001b[0;31m \u001b[0mmy_string\u001b[0m\u001b[0;34m[\u001b[0m\u001b[0;36m0\u001b[0m\u001b[0;34m]\u001b[0m\u001b[0;34m=\u001b[0m\u001b[0;34m\"P\"\u001b[0m\u001b[0;34m\u001b[0m\u001b[0m\n\u001b[0m",
      "\u001b[0;31mTypeError\u001b[0m: 'str' object does not support item assignment"
     ]
    }
   ],
   "source": [
    "# you can modify the list\n",
    "my_string=\"python\"\n",
    "print my_string[0]\n",
    "my_string[0]=\"P\""
   ]
  },
  {
   "cell_type": "code",
   "execution_count": 14,
   "metadata": {
    "collapsed": false
   },
   "outputs": [
    {
     "name": "stdout",
     "output_type": "stream",
     "text": [
      "apple\n"
     ]
    }
   ],
   "source": [
    "print my_fruits[0]\n",
    "my_fruits[0]='Apple'"
   ]
  },
  {
   "cell_type": "code",
   "execution_count": 15,
   "metadata": {
    "collapsed": false
   },
   "outputs": [
    {
     "name": "stdout",
     "output_type": "stream",
     "text": [
      "['Apple', 'banana', 'custard', 'dates']\n"
     ]
    }
   ],
   "source": [
    "print my_fruits"
   ]
  },
  {
   "cell_type": "code",
   "execution_count": 32,
   "metadata": {
    "collapsed": false
   },
   "outputs": [
    {
     "name": "stdout",
     "output_type": "stream",
     "text": [
      "Apple\n",
      "banana\n",
      "custard\n",
      "dates\n"
     ]
    }
   ],
   "source": [
    "# list is an iterable\n",
    "for value in my_fruits:\n",
    "    print value"
   ]
  },
  {
   "cell_type": "code",
   "execution_count": 19,
   "metadata": {
    "collapsed": false
   },
   "outputs": [
    {
     "name": "stdout",
     "output_type": "stream",
     "text": [
      "['Apple', 'banana', 'custard', 'dates']\n",
      "True\n",
      "False\n",
      "True\n"
     ]
    }
   ],
   "source": [
    "# in operator\n",
    "print my_fruits\n",
    "print 'Apple' in my_fruits\n",
    "print 'apple' in my_fruits\n",
    "print 'p' in 'python'"
   ]
  },
  {
   "cell_type": "code",
   "execution_count": 21,
   "metadata": {
    "collapsed": false
   },
   "outputs": [
    {
     "name": "stdout",
     "output_type": "stream",
     "text": [
      "['p', 'y', 't', 'h', 'o', 'n']\n",
      "['T', 'y', 't', 'h', 'o', 'n']\n"
     ]
    }
   ],
   "source": [
    "# converting a list to a string and vice-versa.\n",
    "\n",
    "# convert a string to a list.\n",
    "my_string=\"python\"\n",
    "Lmy_string=list(my_string)\n",
    "print Lmy_string\n",
    "Lmy_string[0]='T'\n",
    "print Lmy_string"
   ]
  },
  {
   "cell_type": "code",
   "execution_count": 30,
   "metadata": {
    "collapsed": false
   },
   "outputs": [
    {
     "name": "stdout",
     "output_type": "stream",
     "text": [
      "Help on built-in function join:\n",
      "\n",
      "join(...)\n",
      "    S.join(iterable) -> string\n",
      "    \n",
      "    Return a string which is the concatenation of the strings in the\n",
      "    iterable.  The separator between elements is S.\n",
      "\n",
      "None\n"
     ]
    }
   ],
   "source": [
    "# convert a list to a string.\n",
    "delimiter=\"\"\n",
    "print help(delimiter.join)"
   ]
  },
  {
   "cell_type": "code",
   "execution_count": 31,
   "metadata": {
    "collapsed": false
   },
   "outputs": [
    {
     "name": "stdout",
     "output_type": "stream",
     "text": [
      "Tython\n",
      "Tython\n"
     ]
    }
   ],
   "source": [
    "print delimiter.join(Lmy_string)\n",
    "new_string = delimiter.join(Lmy_string)\n",
    "print new_string"
   ]
  },
  {
   "cell_type": "code",
   "execution_count": 33,
   "metadata": {
    "collapsed": false
   },
   "outputs": [
    {
     "name": "stdout",
     "output_type": "stream",
     "text": [
      "['t', 'o', 'd', 'a', 'y', ' ', 'i', 's', ' ', 'f', 'r', 'i', 'd', 'a', 'y']\n"
     ]
    }
   ],
   "source": [
    "# sentence\n",
    "# convert a string to a list.\n",
    "my_sentence = \"today is friday\"\n",
    "Lmy_sentence = list(my_sentence)\n",
    "print Lmy_sentence\n"
   ]
  },
  {
   "cell_type": "code",
   "execution_count": 41,
   "metadata": {
    "collapsed": false
   },
   "outputs": [
    {
     "name": "stdout",
     "output_type": "stream",
     "text": [
      "Help on built-in function split:\n",
      "\n",
      "split(...)\n",
      "    S.split([sep [,maxsplit]]) -> list of strings\n",
      "    \n",
      "    Return a list of the words in the string S, using sep as the\n",
      "    delimiter string.  If maxsplit is given, at most maxsplit\n",
      "    splits are done. If sep is not specified or is None, any\n",
      "    whitespace string is a separator and empty strings are removed\n",
      "    from the result.\n",
      "\n",
      "None\n",
      "['tuxfux']\n"
     ]
    }
   ],
   "source": [
    "my_sentence = \"today is friday\"\n",
    "print help(my_string.split)\n",
    "my_email=\"tuxfux\"\n",
    "print my_email.split()"
   ]
  },
  {
   "cell_type": "code",
   "execution_count": 35,
   "metadata": {
    "collapsed": true
   },
   "outputs": [],
   "source": [
    "Lmy_sentence = my_sentence.split()"
   ]
  },
  {
   "cell_type": "code",
   "execution_count": 38,
   "metadata": {
    "collapsed": false
   },
   "outputs": [
    {
     "name": "stdout",
     "output_type": "stream",
     "text": [
      "['today', 'is', 'friday']\n",
      "['today', 'is', 'Thursday']\n"
     ]
    }
   ],
   "source": [
    "print Lmy_sentence\n",
    "Lmy_sentence[2]='Thursday'\n",
    "print Lmy_sentence"
   ]
  },
  {
   "cell_type": "code",
   "execution_count": 48,
   "metadata": {
    "collapsed": false
   },
   "outputs": [
    {
     "name": "stdout",
     "output_type": "stream",
     "text": [
      "['today', 'is', 'Thursday']\n",
      "today is friday\n",
      "today is Thursday\n"
     ]
    }
   ],
   "source": [
    "# converting a list to a string.\n",
    "#azhar=\" \"\n",
    "#azhar.join(Lmy_sentence)\n",
    "new_sentence=\" \".join(Lmy_sentence)\n",
    "print Lmy_sentence\n",
    "print my_sentence\n",
    "print new_sentence"
   ]
  },
  {
   "cell_type": "code",
   "execution_count": 49,
   "metadata": {
    "collapsed": false
   },
   "outputs": [
    {
     "name": "stdout",
     "output_type": "stream",
     "text": [
      "['Apple', 'banana', 'custard', 'dates']\n"
     ]
    }
   ],
   "source": [
    "# functions\n",
    "print my_fruits"
   ]
  },
  {
   "cell_type": "code",
   "execution_count": 50,
   "metadata": {
    "collapsed": false
   },
   "outputs": [
    {
     "name": "stdout",
     "output_type": "stream",
     "text": [
      "['__add__', '__class__', '__contains__', '__delattr__', '__delitem__', '__delslice__', '__doc__', '__eq__', '__format__', '__ge__', '__getattribute__', '__getitem__', '__getslice__', '__gt__', '__hash__', '__iadd__', '__imul__', '__init__', '__iter__', '__le__', '__len__', '__lt__', '__mul__', '__ne__', '__new__', '__reduce__', '__reduce_ex__', '__repr__', '__reversed__', '__rmul__', '__setattr__', '__setitem__', '__setslice__', '__sizeof__', '__str__', '__subclasshook__', 'append', 'count', 'extend', 'index', 'insert', 'pop', 'remove', 'reverse', 'sort']\n"
     ]
    }
   ],
   "source": [
    "print dir(my_fruits)"
   ]
  },
  {
   "cell_type": "code",
   "execution_count": 51,
   "metadata": {
    "collapsed": false
   },
   "outputs": [
    {
     "name": "stdout",
     "output_type": "stream",
     "text": [
      "Help on built-in function append:\n",
      "\n",
      "append(...)\n",
      "    L.append(object) -- append object to end\n",
      "\n",
      "None\n"
     ]
    }
   ],
   "source": [
    "# append\n",
    "print help(my_fruits.append)"
   ]
  },
  {
   "cell_type": "code",
   "execution_count": 52,
   "metadata": {
    "collapsed": false
   },
   "outputs": [
    {
     "name": "stdout",
     "output_type": "stream",
     "text": [
      "['Apple', 'banana', 'custard', 'dates', 'grapes']\n"
     ]
    }
   ],
   "source": [
    "my_fruits.append('grapes')\n",
    "print my_fruits"
   ]
  },
  {
   "cell_type": "code",
   "execution_count": 53,
   "metadata": {
    "collapsed": false
   },
   "outputs": [
    {
     "name": "stdout",
     "output_type": "stream",
     "text": [
      "Help on built-in function extend:\n",
      "\n",
      "extend(...)\n",
      "    L.extend(iterable) -- extend list by appending elements from the iterable\n",
      "\n",
      "None\n"
     ]
    }
   ],
   "source": [
    "# extend\n",
    "print help(my_fruits.extend)"
   ]
  },
  {
   "cell_type": "code",
   "execution_count": 54,
   "metadata": {
    "collapsed": false
   },
   "outputs": [
    {
     "name": "stdout",
     "output_type": "stream",
     "text": [
      "['Apple', 'banana', 'custard', 'dates', 'grapes', 'jackfruits', 'kiwi', 'leechi']\n"
     ]
    }
   ],
   "source": [
    "my_fruits.extend(['jackfruits','kiwi','leechi'])\n",
    "print my_fruits"
   ]
  },
  {
   "cell_type": "code",
   "execution_count": 55,
   "metadata": {
    "collapsed": false
   },
   "outputs": [
    {
     "name": "stdout",
     "output_type": "stream",
     "text": [
      "Help on built-in function insert:\n",
      "\n",
      "insert(...)\n",
      "    L.insert(index, object) -- insert object before index\n",
      "\n",
      "None\n"
     ]
    }
   ],
   "source": [
    "# insert\n",
    "print help(my_fruits.insert)"
   ]
  },
  {
   "cell_type": "code",
   "execution_count": 56,
   "metadata": {
    "collapsed": false
   },
   "outputs": [
    {
     "name": "stdout",
     "output_type": "stream",
     "text": [
      "['Apple', 'banana', 'custard', 'mango', 'dates', 'grapes', 'jackfruits', 'kiwi', 'leechi']\n"
     ]
    }
   ],
   "source": [
    "my_fruits.insert(3,'mango')\n",
    "print my_fruits"
   ]
  },
  {
   "cell_type": "code",
   "execution_count": 57,
   "metadata": {
    "collapsed": false
   },
   "outputs": [
    {
     "name": "stdout",
     "output_type": "stream",
     "text": [
      "Help on built-in function index:\n",
      "\n",
      "index(...)\n",
      "    L.index(value, [start, [stop]]) -> integer -- return first index of value.\n",
      "    Raises ValueError if the value is not present.\n",
      "\n",
      "None\n"
     ]
    }
   ],
   "source": [
    "# index\n",
    "print help(my_fruits.index)"
   ]
  },
  {
   "cell_type": "code",
   "execution_count": 58,
   "metadata": {
    "collapsed": false
   },
   "outputs": [
    {
     "name": "stdout",
     "output_type": "stream",
     "text": [
      "3\n"
     ]
    }
   ],
   "source": [
    "print my_fruits.index('mango')"
   ]
  },
  {
   "cell_type": "code",
   "execution_count": 61,
   "metadata": {
    "collapsed": false
   },
   "outputs": [
    {
     "name": "stdout",
     "output_type": "stream",
     "text": [
      "3\n",
      "6\n"
     ]
    }
   ],
   "source": [
    "my_fruits = ['Apple', 'banana', 'custard', 'mango', 'dates', 'grapes', 'mango','jackfruits', 'kiwi', 'leechi']\n",
    "print my_fruits.index('mango')\n",
    "print my_fruits.index('mango',4)"
   ]
  },
  {
   "cell_type": "code",
   "execution_count": 62,
   "metadata": {
    "collapsed": false
   },
   "outputs": [
    {
     "name": "stdout",
     "output_type": "stream",
     "text": [
      "Help on built-in function count:\n",
      "\n",
      "count(...)\n",
      "    L.count(value) -> integer -- return number of occurrences of value\n",
      "\n",
      "None\n"
     ]
    }
   ],
   "source": [
    "#count\n",
    "print help(my_fruits.count)"
   ]
  },
  {
   "cell_type": "code",
   "execution_count": 64,
   "metadata": {
    "collapsed": false
   },
   "outputs": [
    {
     "name": "stdout",
     "output_type": "stream",
     "text": [
      "2\n",
      "0\n"
     ]
    }
   ],
   "source": [
    "print my_fruits.count('mango')\n",
    "print my_fruits.count('gauva')"
   ]
  },
  {
   "cell_type": "code",
   "execution_count": 68,
   "metadata": {
    "collapsed": false
   },
   "outputs": [
    {
     "name": "stdout",
     "output_type": "stream",
     "text": [
      "Help on built-in function pop:\n",
      "\n",
      "pop(...)\n",
      "    L.pop([index]) -> item -- remove and return item at index (default last).\n",
      "    Raises IndexError if list is empty or index is out of range.\n",
      "\n",
      "None\n",
      "jackfruits\n",
      "['Apple', 'custard', 'mango', 'dates', 'grapes', 'mango']\n",
      "custard\n",
      "['Apple', 'mango', 'dates', 'grapes', 'mango']\n"
     ]
    }
   ],
   "source": [
    "# pop\n",
    "print help(my_fruits.pop)\n",
    "print my_fruits.pop()\n",
    "print my_fruits\n",
    "print my_fruits.pop(1)\n",
    "print my_fruits"
   ]
  },
  {
   "cell_type": "code",
   "execution_count": 69,
   "metadata": {
    "collapsed": false
   },
   "outputs": [
    {
     "ename": "IndexError",
     "evalue": "pop index out of range",
     "output_type": "error",
     "traceback": [
      "\u001b[0;31m---------------------------------------------------------------------------\u001b[0m",
      "\u001b[0;31mIndexError\u001b[0m                                Traceback (most recent call last)",
      "\u001b[0;32m<ipython-input-69-caee7eda01fa>\u001b[0m in \u001b[0;36m<module>\u001b[0;34m()\u001b[0m\n\u001b[0;32m----> 1\u001b[0;31m \u001b[0;32mprint\u001b[0m \u001b[0mmy_fruits\u001b[0m\u001b[0;34m.\u001b[0m\u001b[0mpop\u001b[0m\u001b[0;34m(\u001b[0m\u001b[0;36m10\u001b[0m\u001b[0;34m)\u001b[0m\u001b[0;34m\u001b[0m\u001b[0m\n\u001b[0m",
      "\u001b[0;31mIndexError\u001b[0m: pop index out of range"
     ]
    }
   ],
   "source": [
    "print my_fruits.pop(10)"
   ]
  },
  {
   "cell_type": "code",
   "execution_count": 71,
   "metadata": {
    "collapsed": false
   },
   "outputs": [
    {
     "name": "stdout",
     "output_type": "stream",
     "text": [
      "Help on built-in function remove:\n",
      "\n",
      "remove(...)\n",
      "    L.remove(value) -- remove first occurrence of value.\n",
      "    Raises ValueError if the value is not present.\n",
      "\n",
      "None\n",
      "None\n",
      "['Apple', 'dates', 'grapes', 'mango']\n"
     ]
    }
   ],
   "source": [
    "# remove\n",
    "print help(my_fruits.remove)\n",
    "print my_fruits.remove('mango')\n",
    "print my_fruits"
   ]
  },
  {
   "cell_type": "code",
   "execution_count": 72,
   "metadata": {
    "collapsed": false
   },
   "outputs": [
    {
     "ename": "ValueError",
     "evalue": "list.remove(x): x not in list",
     "output_type": "error",
     "traceback": [
      "\u001b[0;31m---------------------------------------------------------------------------\u001b[0m",
      "\u001b[0;31mValueError\u001b[0m                                Traceback (most recent call last)",
      "\u001b[0;32m<ipython-input-72-6a5a8a889a13>\u001b[0m in \u001b[0;36m<module>\u001b[0;34m()\u001b[0m\n\u001b[0;32m----> 1\u001b[0;31m \u001b[0;32mprint\u001b[0m \u001b[0mmy_fruits\u001b[0m\u001b[0;34m.\u001b[0m\u001b[0mremove\u001b[0m\u001b[0;34m(\u001b[0m\u001b[0;34m'gauva'\u001b[0m\u001b[0;34m)\u001b[0m\u001b[0;34m\u001b[0m\u001b[0m\n\u001b[0m",
      "\u001b[0;31mValueError\u001b[0m: list.remove(x): x not in list"
     ]
    }
   ],
   "source": [
    "print my_fruits.remove('gauva')"
   ]
  },
  {
   "cell_type": "code",
   "execution_count": 76,
   "metadata": {
    "collapsed": false
   },
   "outputs": [
    {
     "name": "stdout",
     "output_type": "stream",
     "text": [
      "Help on built-in function reverse:\n",
      "\n",
      "reverse(...)\n",
      "    L.reverse() -- reverse *IN PLACE*\n",
      "\n",
      "None\n",
      "None\n",
      "['mango', 'grapes', 'dates', 'Apple']\n"
     ]
    }
   ],
   "source": [
    "# reverse\n",
    "print help(my_fruits.reverse)\n",
    "print my_fruits.reverse()\n",
    "print my_fruits"
   ]
  },
  {
   "cell_type": "code",
   "execution_count": 77,
   "metadata": {
    "collapsed": false
   },
   "outputs": [
    {
     "name": "stdout",
     "output_type": "stream",
     "text": [
      "Help on built-in function sort:\n",
      "\n",
      "sort(...)\n",
      "    L.sort(cmp=None, key=None, reverse=False) -- stable sort *IN PLACE*;\n",
      "    cmp(x, y) -> -1, 0, 1\n",
      "\n",
      "None\n"
     ]
    }
   ],
   "source": [
    "# sort\n",
    "print help(my_fruits.sort)"
   ]
  },
  {
   "cell_type": "code",
   "execution_count": 80,
   "metadata": {
    "collapsed": false
   },
   "outputs": [
    {
     "name": "stdout",
     "output_type": "stream",
     "text": [
      "None\n"
     ]
    }
   ],
   "source": [
    "# reverse=False =>ascending\n",
    "# reverse=True =>descending\n",
    "print my_fruits.sort()"
   ]
  },
  {
   "cell_type": "code",
   "execution_count": 81,
   "metadata": {
    "collapsed": false
   },
   "outputs": [
    {
     "name": "stdout",
     "output_type": "stream",
     "text": [
      "['Apple', 'dates', 'grapes', 'mango']\n"
     ]
    }
   ],
   "source": [
    "print my_fruits"
   ]
  },
  {
   "cell_type": "code",
   "execution_count": 2,
   "metadata": {
    "collapsed": false
   },
   "outputs": [],
   "source": [
    "# task1\n",
    "\n",
    "days = ['yesterday','today','tomorrow','dayafter']"
   ]
  },
  {
   "cell_type": "code",
   "execution_count": null,
   "metadata": {
    "collapsed": true
   },
   "outputs": [],
   "source": [
    "# output 1:\n",
    "# yesterday 9\n",
    "# today     5\n",
    "# tomorrow  8\n",
    "# dayafter  8\n",
    "\n",
    "# output 2:\n",
    "# Yesterday\n",
    "# TOday\n",
    "# TOMorrow\n",
    "# DAYAfter\n"
   ]
  },
  {
   "cell_type": "code",
   "execution_count": 3,
   "metadata": {
    "collapsed": false
   },
   "outputs": [
    {
     "name": "stdout",
     "output_type": "stream",
     "text": [
      "yesterday 9\n",
      "today 5\n",
      "tomorrow 8\n",
      "dayafter 8\n"
     ]
    }
   ],
   "source": [
    "for value in days:\n",
    "    print value,len(value)"
   ]
  },
  {
   "cell_type": "code",
   "execution_count": 6,
   "metadata": {
    "collapsed": false
   },
   "outputs": [
    {
     "name": "stdout",
     "output_type": "stream",
     "text": [
      "yesterday 0 y\n",
      "today 1 o\n",
      "tomorrow 2 m\n",
      "dayafter 3 a\n"
     ]
    }
   ],
   "source": [
    "days = ['yesterday','today','tomorrow','dayafter']\n",
    "\n",
    "for value in days:\n",
    "    print value,days.index(value),value[days.index(value)]"
   ]
  },
  {
   "cell_type": "code",
   "execution_count": 7,
   "metadata": {
    "collapsed": false
   },
   "outputs": [
    {
     "name": "stdout",
     "output_type": "stream",
     "text": [
      "yesterday 0 \n",
      "today 1 t\n",
      "tomorrow 2 to\n",
      "dayafter 3 day\n"
     ]
    }
   ],
   "source": [
    "for value in days:\n",
    "    print value,days.index(value),value[0:days.index(value)]"
   ]
  },
  {
   "cell_type": "code",
   "execution_count": 8,
   "metadata": {
    "collapsed": false
   },
   "outputs": [
    {
     "name": "stdout",
     "output_type": "stream",
     "text": [
      "yesterday 0 y\n",
      "today 1 to\n",
      "tomorrow 2 tom\n",
      "dayafter 3 daya\n"
     ]
    }
   ],
   "source": [
    "for value in days:\n",
    "    print value,days.index(value),value[0:days.index(value) + 1]"
   ]
  },
  {
   "cell_type": "code",
   "execution_count": 13,
   "metadata": {
    "collapsed": false
   },
   "outputs": [
    {
     "name": "stdout",
     "output_type": "stream",
     "text": [
      "pyt\n",
      "pyt\n",
      "hon\n",
      "hon\n",
      "python\n"
     ]
    }
   ],
   "source": [
    "my_string = \"python\"\n",
    "# pyt\n",
    "print my_string[0:3]\n",
    "print my_string[:3]\n",
    "print my_string[3:6]\n",
    "print my_string[3:]\n",
    "\n",
    "print my_string[:3] + my_string[3:]"
   ]
  },
  {
   "cell_type": "code",
   "execution_count": 14,
   "metadata": {
    "collapsed": false
   },
   "outputs": [
    {
     "name": "stdout",
     "output_type": "stream",
     "text": [
      "Yesterday\n",
      "TOday\n",
      "TOMorrow\n",
      "DAYAfter\n"
     ]
    }
   ],
   "source": [
    "for value in days:\n",
    "    print value[:days.index(value) + 1].upper() + value[days.index(value) + 1:]"
   ]
  },
  {
   "cell_type": "code",
   "execution_count": 17,
   "metadata": {
    "collapsed": false
   },
   "outputs": [
    {
     "name": "stdout",
     "output_type": "stream",
     "text": [
      "Help on built-in function id in module __builtin__:\n",
      "\n",
      "id(...)\n",
      "    id(object) -> integer\n",
      "    \n",
      "    Return the identity of an object.  This is guaranteed to be unique among\n",
      "    simultaneously existing objects.  (Hint: it's the object's memory address.)\n",
      "\n",
      "None\n",
      "32366752\n",
      "32366752\n"
     ]
    }
   ],
   "source": [
    "# soft copy and deepcopy\n",
    "print help(id)\n"
   ]
  },
  {
   "cell_type": "code",
   "execution_count": 19,
   "metadata": {
    "collapsed": false
   },
   "outputs": [
    {
     "name": "stdout",
     "output_type": "stream",
     "text": [
      "32366752\n",
      "32366752\n",
      "32366752\n",
      "32366752\n"
     ]
    }
   ],
   "source": [
    "a = 10\n",
    "print id(a)\n",
    "print id(10)\n",
    "b = a\n",
    "print id(b)\n",
    "print id(10)"
   ]
  },
  {
   "cell_type": "code",
   "execution_count": 21,
   "metadata": {
    "collapsed": false
   },
   "outputs": [
    {
     "name": "stdout",
     "output_type": "stream",
     "text": [
      "32366512\n",
      "32366512\n",
      "10\n",
      "32366752\n"
     ]
    }
   ],
   "source": [
    "b = 20\n",
    "print id(b)\n",
    "print id(20)\n",
    "print a\n",
    "print id(a)"
   ]
  },
  {
   "cell_type": "code",
   "execution_count": null,
   "metadata": {
    "collapsed": true
   },
   "outputs": [],
   "source": [
    "# lists"
   ]
  },
  {
   "cell_type": "code",
   "execution_count": 22,
   "metadata": {
    "collapsed": false
   },
   "outputs": [
    {
     "name": "stdout",
     "output_type": "stream",
     "text": [
      "[1, 2, 3] 140162976637512\n",
      "[1, 2, 3] 140162976637512\n"
     ]
    }
   ],
   "source": [
    "# soft copy\n",
    "\n",
    "my_lista = [1,2,3]\n",
    "my_listb = my_lista\n",
    "\n",
    "print my_lista,id(my_lista)\n",
    "print my_listb,id(my_listb)"
   ]
  },
  {
   "cell_type": "code",
   "execution_count": 23,
   "metadata": {
    "collapsed": false
   },
   "outputs": [
    {
     "name": "stdout",
     "output_type": "stream",
     "text": [
      "True\n"
     ]
    }
   ],
   "source": [
    "# is\n",
    "print my_lista is my_listb"
   ]
  },
  {
   "cell_type": "code",
   "execution_count": 24,
   "metadata": {
    "collapsed": false
   },
   "outputs": [
    {
     "name": "stdout",
     "output_type": "stream",
     "text": [
      "[1, 'two', 3]\n",
      "[1, 'two', 3]\n"
     ]
    }
   ],
   "source": [
    "my_listb[1] = \"two\"\n",
    "print my_listb   # [1,\"two\",3]\n",
    "print my_lista   # [1,2,3]"
   ]
  },
  {
   "cell_type": "code",
   "execution_count": 25,
   "metadata": {
    "collapsed": false
   },
   "outputs": [
    {
     "name": "stdout",
     "output_type": "stream",
     "text": [
      "['one', 'two', 'three']\n",
      "[1, 'two', 3]\n"
     ]
    }
   ],
   "source": [
    "my_listb = [\"one\",\"two\",\"three\"]\n",
    "print my_listb\n",
    "print my_lista"
   ]
  },
  {
   "cell_type": "code",
   "execution_count": 28,
   "metadata": {
    "collapsed": false
   },
   "outputs": [
    {
     "name": "stdout",
     "output_type": "stream",
     "text": [
      "['a', 'b', 'c'] 140162976637080\n",
      "['a', 'b', 'c'] 140163083072288\n",
      "False\n"
     ]
    }
   ],
   "source": [
    "# Deep copy\n",
    "\n",
    "my_listc = [\"a\",\"b\",\"c\"]\n",
    "\n",
    "# way 1\n",
    "\n",
    "my_listd = my_listc[:]\n",
    "print my_listd,id(my_listd)\n",
    "print my_listc,id(my_listc)\n",
    "print my_listc is my_listd"
   ]
  },
  {
   "cell_type": "code",
   "execution_count": 29,
   "metadata": {
    "collapsed": false
   },
   "outputs": [
    {
     "name": "stdout",
     "output_type": "stream",
     "text": [
      "Help on function deepcopy in module copy:\n",
      "\n",
      "deepcopy(x, memo=None, _nil=[])\n",
      "    Deep copy operation on arbitrary Python objects.\n",
      "    \n",
      "    See the module's __doc__ string for more info.\n",
      "\n",
      "None\n"
     ]
    }
   ],
   "source": [
    "# way 2\n",
    "import copy\n",
    "print help(copy.deepcopy)"
   ]
  },
  {
   "cell_type": "code",
   "execution_count": 30,
   "metadata": {
    "collapsed": false
   },
   "outputs": [
    {
     "name": "stdout",
     "output_type": "stream",
     "text": [
      "['a', 'b', 'c'] 140163083072288\n",
      "['a', 'b', 'c'] 140162976638736\n",
      "False\n"
     ]
    }
   ],
   "source": [
    "my_liste = copy.deepcopy(my_listc)\n",
    "print my_listc,id(my_listc)\n",
    "print my_liste,id(my_liste)\n",
    "print my_listc is my_liste"
   ]
  },
  {
   "cell_type": "code",
   "execution_count": 31,
   "metadata": {
    "collapsed": false
   },
   "outputs": [
    {
     "name": "stdout",
     "output_type": "stream",
     "text": [
      "['a', 'one', 'c']\n",
      "['a', 'b', 'c']\n"
     ]
    }
   ],
   "source": [
    "my_listc[1] =\"one\"\n",
    "print my_listc\n",
    "print my_liste"
   ]
  },
  {
   "cell_type": "code",
   "execution_count": null,
   "metadata": {
    "collapsed": true
   },
   "outputs": [],
   "source": [
    "# list comprehension\n",
    "# https://github.com/tuxfux-hlp/Python-examples/blob/master/lists/list_comprehension.txt"
   ]
  },
  {
   "cell_type": "code",
   "execution_count": 39,
   "metadata": {
    "collapsed": false
   },
   "outputs": [
    {
     "name": "stdout",
     "output_type": "stream",
     "text": [
      "please enter the numbers:1,2,3,4,5,6,7,8,9,10\n",
      "1,2,3,4,5,6,7,8,9,10 <type 'str'>\n"
     ]
    }
   ],
   "source": [
    "# input -> 1,2,3,4,5,6,7,8,9,10\n",
    "# output -> 2,4,6,8,10\n",
    "\n",
    "output=[]\n",
    "enter_numbers = raw_input(\"please enter the numbers:\")\n",
    "print enter_numbers,type(enter_numbers)\n",
    "for num in enter_numbers.split(','):\n",
    "    if int(num) % 2 == 0:\n",
    "        output.append(num)"
   ]
  },
  {
   "cell_type": "code",
   "execution_count": 41,
   "metadata": {
    "collapsed": false
   },
   "outputs": [
    {
     "name": "stdout",
     "output_type": "stream",
     "text": [
      "['2', '4', '6', '8', '10']\n",
      "2,4,6,8,10\n"
     ]
    }
   ],
   "source": [
    "print output\n",
    "print \",\".join(output)"
   ]
  },
  {
   "cell_type": "code",
   "execution_count": 47,
   "metadata": {
    "collapsed": false
   },
   "outputs": [
    {
     "name": "stdout",
     "output_type": "stream",
     "text": [
      "4\n",
      "1\n"
     ]
    }
   ],
   "source": [
    "print 9 / 2  # quotient\n",
    "print 9 % 2  # reminder"
   ]
  },
  {
   "cell_type": "code",
   "execution_count": 46,
   "metadata": {
    "collapsed": false
   },
   "outputs": [
    {
     "name": "stdout",
     "output_type": "stream",
     "text": [
      "please enter the numbers:1,2,3,4,5,6,7,8,9,10\n",
      "2,4,6,8,10\n"
     ]
    }
   ],
   "source": [
    "# usign list comprehensions\n",
    "enter_numbers = raw_input(\"please enter the numbers:\")\n",
    "print \",\".join([ num for num in enter_numbers.split(',') if int(num) % 2 == 0])"
   ]
  },
  {
   "cell_type": "code",
   "execution_count": 48,
   "metadata": {
    "collapsed": false
   },
   "outputs": [
    {
     "name": "stdout",
     "output_type": "stream",
     "text": [
      "[['TODAY', 'today', 'Today'], ['IS', 'is', 'Is'], ['FRIDAY', 'friday', 'Friday']]\n"
     ]
    }
   ],
   "source": [
    "# example 2:\n",
    "# https://github.com/tuxfux-hlp/Python-examples/blob/master/lists/list_comprehension.txt\n",
    "\n",
    "my_sentence = \"today is friday\"\n",
    "print [ [value.upper(),value.lower(),value.capitalize()] for value in my_sentence.split()]"
   ]
  },
  {
   "cell_type": "code",
   "execution_count": null,
   "metadata": {
    "collapsed": true
   },
   "outputs": [],
   "source": []
  }
 ],
 "metadata": {
  "kernelspec": {
   "display_name": "Python 2",
   "language": "python",
   "name": "python2"
  },
  "language_info": {
   "codemirror_mode": {
    "name": "ipython",
    "version": 2
   },
   "file_extension": ".py",
   "mimetype": "text/x-python",
   "name": "python",
   "nbconvert_exporter": "python",
   "pygments_lexer": "ipython2",
   "version": "2.7.6"
  }
 },
 "nbformat": 4,
 "nbformat_minor": 1
}
