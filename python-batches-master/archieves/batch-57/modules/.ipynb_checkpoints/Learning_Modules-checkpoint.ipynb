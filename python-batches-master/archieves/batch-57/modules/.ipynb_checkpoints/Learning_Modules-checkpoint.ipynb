{
 "metadata": {
  "name": "",
  "signature": "sha256:94011ac5efe46624ea82a5ea6df4d805f50a15d911b0a5fe849f1e1172255537"
 },
 "nbformat": 3,
 "nbformat_minor": 0,
 "worksheets": [
  {
   "cells": [
    {
     "cell_type": "code",
     "collapsed": false,
     "input": [
      "# why do we save our programs as .py\n",
      "# platform independent.\n",
      "# convience - just to look and say that its a python program.\n",
      "# saving a program in .py makes it a modules.( A python program which can be used later)"
     ],
     "language": "python",
     "metadata": {},
     "outputs": []
    },
    {
     "cell_type": "code",
     "collapsed": false,
     "input": [
      "# program1.py -> f1,f2,f3,f4,f5\n",
      "# program2.py -> f1,f2,f3,program1.f1\n",
      "# re-usability of the code.\n",
      "# we need not worry about the namespaces around the programs."
     ],
     "language": "python",
     "metadata": {},
     "outputs": []
    },
    {
     "cell_type": "code",
     "collapsed": false,
     "input": [
      "help()"
     ],
     "language": "python",
     "metadata": {},
     "outputs": [
      {
       "output_type": "stream",
       "stream": "stdout",
       "text": [
        "\n",
        "Welcome to Python 2.7!  This is the online help utility.\n",
        "\n",
        "If this is your first time using Python, you should definitely check out\n",
        "the tutorial on the Internet at http://docs.python.org/2.7/tutorial/.\n",
        "\n",
        "Enter the name of any module, keyword, or topic to get help on writing\n",
        "Python programs and using Python modules.  To quit this help utility and\n",
        "return to the interpreter, just type \"quit\".\n",
        "\n",
        "To get a list of available modules, keywords, or topics, type \"modules\",\n",
        "\"keywords\", or \"topics\".  Each module also comes with a one-line summary\n",
        "of what it does; to list the modules whose summaries contain a given word\n",
        "such as \"spam\", type \"modules spam\".\n",
        "\n"
       ]
      },
      {
       "name": "stdout",
       "output_type": "stream",
       "stream": "stdout",
       "text": [
        "help> modules\n"
       ]
      },
      {
       "output_type": "stream",
       "stream": "stderr",
       "text": [
        "WARNING:OpenGL.Tk:Expected Tk Togl installation in /usr/lib/python2.7/dist-packages/OpenGL/Tk/togl-linux2-64\n"
       ]
      },
      {
       "output_type": "stream",
       "stream": "stdout",
       "text": [
        "\n",
        "Please wait a moment while I gather a list of all available modules...\n",
        "\n",
        "ANSI"
       ]
      },
      {
       "output_type": "stream",
       "stream": "stderr",
       "text": [
        "/usr/lib/python2.7/dist-packages/gtk-2.0/gtk/__init__.py:127: RuntimeWarning: PyOS_InputHook is not available for interactive use of PyGTK\n",
        "  set_interactive(1)\n"
       ]
      },
      {
       "output_type": "stream",
       "stream": "stdout",
       "text": [
        "                _multibytecodec     future_builtins     random\n",
        "BaseHTTPServer      _multiprocessing    gc                  re\n",
        "Bastion             _osx_support        gconf               readline\n",
        "CDROM               _pyio               genericpath         repr\n",
        "CGIHTTPServer       _random             getopt              requests\n",
        "Canvas              _sha                getpass             resource\n",
        "ConfigParser        _sha256             gettext             rexec\n",
        "Cookie              _sha512             gi                  rfc822\n",
        "Crypto              _socket             gio                 rlcompleter\n",
        "DLFCN               _sqlite3            glib                rmagic\n",
        "Dialog              _sre                glob                robotparser\n",
        "DocXMLRPCServer     _ssl                gobject             roman\n",
        "FSM                 _strptime           grp                 runpy\n",
        "FileDialog          _struct             gtk                 samba\n",
        "FixTk               _symtable           gtkspell            sched\n",
        "HTMLParser          _sysconfigdata      gtkunixprint        screen\n",
        "IN                  _sysconfigdata_nd   gzip                select\n",
        "IPython             _testcapi           hashlib             serial\n",
        "Image               _threading_local    heapq               service_identity\n",
        "ImageChops          _tkinter            hmac                sets\n",
        "ImageColor          _warnings           hotshot             setuptools\n",
        "ImageCrackCode      _weakref            html5lib            sgmllib\n",
        "ImageDraw           _weakrefset         htmlentitydefs      sha\n",
        "ImageEnhance        abc                 htmllib             shelve\n",
        "ImageFile           aifc                httplib             shlex\n",
        "ImageFileIO         antigravity         httplib2            shutil\n",
        "ImageFilter         anydbm              idlelib             signal\n",
        "ImageFont           appindicator        idna                simplegeneric\n",
        "ImageGL             apt                 ihooks              sip\n",
        "ImageGrab           apt_inst            imaplib             sipconfig\n",
        "ImageMath           apt_pkg             imghdr              sipconfig_nd\n",
        "ImageOps            aptdaemon           imp                 site\n",
        "ImagePalette        aptsources          importlib           sitecustomize\n",
        "ImagePath           argparse            imputil             six\n",
        "ImageQt             array               indicator_keyboard  smtpd\n",
        "ImageSequence       ast                 inspect             smtplib\n",
        "ImageStat           asynchat            io                  sndhdr\n",
        "ImageTk             asyncore            ipaddress           socket\n",
        "ImageWin            atexit              itertools           softwarecenter_aptd_plugins\n",
        "MimeWriter          atk                 jinja2              sphinx\n",
        "OpenGL              audiodev            json                spwd\n",
        "OpenSSL             audioop             jwt                 sqlite3\n",
        "PAM                 autoreload          keyword             sre\n",
        "PIL                 axi                 ldb                 sre_compile\n",
        "PSDraw              base64              lib2to3             sre_constants\n",
        "PngImagePlugin      bdb                 libvboxjxpcom       sre_parse\n",
        "PyQt4               binascii            linecache           ssl\n",
        "PySide              binhex              linuxaudiodev       stat\n",
        "Pyrex               bisect              locale              statvfs\n",
        "Queue               blinker             lockfile            storemagic\n",
        "ScrolledText        bs4                 logging             string\n",
        "SimpleDialog        bsddb               lsb_release         stringold\n",
        "SimpleHTTPServer    bz2                 lxml                stringprep\n",
        "SimpleXMLRPCServer  cPickle             macpath             strop\n",
        "SocketServer        cProfile            macurl2path         struct\n",
        "StringIO            cStringIO           mailbox             subprocess\n",
        "TYPES               cairo               mailcap             sunau\n",
        "Tix                 calendar            markupbase          sunaudio\n",
        "Tkconstants         cffi                markupsafe          symbol\n",
        "Tkdnd               cgi                 marshal             sympyprinting\n",
        "Tkinter             cgitb               math                symtable\n",
        "UbuntuSystemService characteristic      md5                 sys\n",
        "UserDict            chardet             mhlib               sysconfig\n",
        "UserList            chunk               mimetools           syslog\n",
        "UserString          cmath               mimetypes           tabnanny\n",
        "VBoxAuth            cmd                 mimify              talloc\n",
        "VBoxAuthSimple      code                mmap                tarfile\n",
        "VBoxDD              codecs              modulefinder        tdb\n",
        "VBoxDD2             codeop              multifile           telnetlib\n",
        "VBoxDDU             collections         multiprocessing     tempfile\n",
        "VBoxDbg             colorama            mutex               termios\n",
        "VBoxDragAndDropSvc  colorsys            ndg                 test\n",
        "VBoxGuestControlSvc commands            ndiff               test_characteristic\n",
        "VBoxGuestPropSvc    compileall          netrc               textwrap\n",
        "VBoxHeadless        compiler            new                 this\n",
        "VBoxHostChannel     contextlib          nis                 thread\n",
        "VBoxKeyboard        cookielib           nntplib             threading\n",
        "VBoxNetDHCP         copy                ntdb                time\n",
        "VBoxNetNAT          copy_reg            ntpath              timeit\n",
        "VBoxOGLhostcrutil   crypt               nturl2path          tkColorChooser\n",
        "VBoxOGLhosterrorspu cryptography        numbers             tkCommonDialog\n",
        "VBoxOGLrenderspu    csv                 oauthlib            tkFileDialog\n",
        "VBoxPython          ctypes              octavemagic         tkFont\n",
        "VBoxPython2_7       cups                oneconf             tkMessageBox\n",
        "VBoxREM             curl                opcode              tkSimpleDialog\n",
        "VBoxRT              curses              operator            toaiff\n",
        "VBoxSDL             cythonmagic         optparse            token\n",
        "VBoxSharedClipboard datetime            os                  tokenize\n",
        "VBoxSharedCrOpenGL  dbhash              os2emxpath          tornado\n",
        "VBoxSharedFolders   dbm                 ossaudiodev         trace\n",
        "VBoxVMM             dbus                pango               traceback\n",
        "VBoxVMMPreload      deb822              pangocairo          ttk\n",
        "VBoxXPCOM           debconf             parallelmagic       tty\n",
        "VBoxXPCOMC          debian              parser              turtle\n",
        "VirtualBox          debian_bundle       pdb                 twisted\n",
        "Xlib                debtagshw           pexpect             types\n",
        "_LWPCookieJar       decimal             pickle              ubuntu_sso\n",
        "_MozillaCookieJar   decorator           pickletools         unicodedata\n",
        "__builtin__         defer               pip                 unittest\n",
        "__future__          difflib             pipes               urllib\n",
        "_abcoll             dircache            piston_mini_client  urllib2\n",
        "_ast                dirspec             pkg_resources       urllib3\n",
        "_bisect             dis                 pkgutil             urlparse\n",
        "_bsddb              distlib             platform            user\n",
        "_cffi_backend       distutils           plistlib            uu\n",
        "_codecs             doctest             ply                 uuid\n",
        "_codecs_cn          docutils            popen2              vboxapi\n",
        "_codecs_hk          dsextras            poplib              vboxshell\n",
        "_codecs_iso2022     dumbdbm             posix               virtualenv\n",
        "_codecs_jp          dummy_thread        posixfile           virtualenv_support\n",
        "_codecs_kr          dummy_threading     posixpath           warnings\n",
        "_codecs_tw          duplicity           pprint              wave\n",
        "_collections        easy_install        profile             weakref\n",
        "_csv                email               pstats              webbrowser\n",
        "_ctypes             encodings           pty                 wheel\n",
        "_ctypes_test        ensurepip           pwd                 whichdb\n",
        "_curses             enum                pxssh               wsgiref\n",
        "_curses_panel       errno               py_compile          xapian\n",
        "_dbus_bindings      exceptions          pyasn1              xdg\n",
        "_dbus_glib_bindings fcntl               pyasn1_modules      xdiagnose\n",
        "_elementtree        fdpexpect           pyclbr              xdrlib\n",
        "_functools          filecmp             pycparser           xml\n",
        "_hashlib            fileinput           pycurl              xmllib\n",
        "_heapq              fluxgui             pydoc               xmlrpclib\n",
        "_hotshot            fnmatch             pydoc_data          xxsubtype\n",
        "_io                 formatter           pyexpat             zim\n",
        "_json               fpectl              pygments            zipfile\n",
        "_locale             fpformat            pygtk               zipimport\n",
        "_lsprof             fractions           pygtkcompat         zlib\n",
        "_markerlib          ftplib              pymysql             zmq\n",
        "_md5                functools           quopri              zope\n",
        "\n",
        "Enter any module name to get more help.  Or, type \"modules spam\" to search\n",
        "for modules whose descriptions contain the word \"spam\".\n",
        "\n"
       ]
      },
      {
       "name": "stdout",
       "output_type": "stream",
       "stream": "stdout",
       "text": [
        "help> quit()\n"
       ]
      },
      {
       "output_type": "stream",
       "stream": "stdout",
       "text": [
        "no Python documentation found for 'quit()'\n",
        "\n"
       ]
      },
      {
       "name": "stdout",
       "output_type": "stream",
       "stream": "stdout",
       "text": [
        "help> quit\n"
       ]
      },
      {
       "output_type": "stream",
       "stream": "stdout",
       "text": [
        "\n",
        "You are now leaving help and returning to the Python interpreter.\n",
        "If you want to ask for help on a particular object directly from the\n",
        "interpreter, you can type \"help(object)\".  Executing \"help('string')\"\n",
        "has the same effect as typing a particular string at the help> prompt.\n"
       ]
      }
     ],
     "prompt_number": 1
    },
    {
     "cell_type": "code",
     "collapsed": false,
     "input": [
      "# https://pypi.python.org/pypi\n",
      "# complete repository of modules."
     ],
     "language": "python",
     "metadata": {},
     "outputs": []
    },
    {
     "cell_type": "code",
     "collapsed": false,
     "input": [
      "# how to use modules.\n",
      "# importing the module using the name."
     ],
     "language": "python",
     "metadata": {},
     "outputs": []
    },
    {
     "cell_type": "code",
     "collapsed": false,
     "input": [
      "import math"
     ],
     "language": "python",
     "metadata": {},
     "outputs": [],
     "prompt_number": 1
    },
    {
     "cell_type": "code",
     "collapsed": false,
     "input": [
      "import math1"
     ],
     "language": "python",
     "metadata": {},
     "outputs": [
      {
       "ename": "ImportError",
       "evalue": "No module named math1",
       "output_type": "pyerr",
       "traceback": [
        "\u001b[0;31m---------------------------------------------------------------------------\u001b[0m\n\u001b[0;31mImportError\u001b[0m                               Traceback (most recent call last)",
        "\u001b[0;32m<ipython-input-3-628bade712e2>\u001b[0m in \u001b[0;36m<module>\u001b[0;34m()\u001b[0m\n\u001b[0;32m----> 1\u001b[0;31m \u001b[0;32mimport\u001b[0m \u001b[0mmath1\u001b[0m\u001b[0;34m\u001b[0m\u001b[0m\n\u001b[0m",
        "\u001b[0;31mImportError\u001b[0m: No module named math1"
       ]
      }
     ],
     "prompt_number": 3
    },
    {
     "cell_type": "code",
     "collapsed": false,
     "input": [
      "print dir(math)"
     ],
     "language": "python",
     "metadata": {},
     "outputs": [
      {
       "output_type": "stream",
       "stream": "stdout",
       "text": [
        "['__doc__', '__name__', '__package__', 'acos', 'acosh', 'asin', 'asinh', 'atan', 'atan2', 'atanh', 'ceil', 'copysign', 'cos', 'cosh', 'degrees', 'e', 'erf', 'erfc', 'exp', 'expm1', 'fabs', 'factorial', 'floor', 'fmod', 'frexp', 'fsum', 'gamma', 'hypot', 'isinf', 'isnan', 'ldexp', 'lgamma', 'log', 'log10', 'log1p', 'modf', 'pi', 'pow', 'radians', 'sin', 'sinh', 'sqrt', 'tan', 'tanh', 'trunc']\n"
       ]
      }
     ],
     "prompt_number": 4
    },
    {
     "cell_type": "code",
     "collapsed": false,
     "input": [
      "print math.pi"
     ],
     "language": "python",
     "metadata": {},
     "outputs": [
      {
       "output_type": "stream",
       "stream": "stdout",
       "text": [
        "3.14159265359\n"
       ]
      }
     ],
     "prompt_number": 5
    },
    {
     "cell_type": "code",
     "collapsed": false,
     "input": [
      "print help(math.pow)"
     ],
     "language": "python",
     "metadata": {},
     "outputs": [
      {
       "output_type": "stream",
       "stream": "stdout",
       "text": [
        "Help on built-in function pow in module math:\n",
        "\n",
        "pow(...)\n",
        "    pow(x, y)\n",
        "    \n",
        "    Return x**y (x to the power of y).\n",
        "\n",
        "None\n"
       ]
      }
     ],
     "prompt_number": 7
    },
    {
     "cell_type": "code",
     "collapsed": false,
     "input": [
      "print math.pow(2,3)"
     ],
     "language": "python",
     "metadata": {},
     "outputs": [
      {
       "output_type": "stream",
       "stream": "stdout",
       "text": [
        "8.0\n"
       ]
      }
     ],
     "prompt_number": 8
    },
    {
     "cell_type": "code",
     "collapsed": false,
     "input": [
      "# importing modules using aliases."
     ],
     "language": "python",
     "metadata": {},
     "outputs": []
    },
    {
     "cell_type": "code",
     "collapsed": false,
     "input": [
      "import math as m"
     ],
     "language": "python",
     "metadata": {},
     "outputs": [],
     "prompt_number": 9
    },
    {
     "cell_type": "code",
     "collapsed": false,
     "input": [
      "print m.pow(2,3)"
     ],
     "language": "python",
     "metadata": {},
     "outputs": [
      {
       "output_type": "stream",
       "stream": "stdout",
       "text": [
        "8.0\n"
       ]
      }
     ],
     "prompt_number": 10
    },
    {
     "cell_type": "code",
     "collapsed": false,
     "input": [
      "print m.pi"
     ],
     "language": "python",
     "metadata": {},
     "outputs": [
      {
       "output_type": "stream",
       "stream": "stdout",
       "text": [
        "3.14159265359\n"
       ]
      }
     ],
     "prompt_number": 11
    },
    {
     "cell_type": "code",
     "collapsed": false,
     "input": [
      "# Making the modules part of our local namespaces"
     ],
     "language": "python",
     "metadata": {},
     "outputs": []
    },
    {
     "cell_type": "code",
     "collapsed": false,
     "input": [
      "from math import pi,pow"
     ],
     "language": "python",
     "metadata": {},
     "outputs": [],
     "prompt_number": 4
    },
    {
     "cell_type": "code",
     "collapsed": false,
     "input": [
      "print pi"
     ],
     "language": "python",
     "metadata": {},
     "outputs": [
      {
       "output_type": "stream",
       "stream": "stdout",
       "text": [
        "3.14159265359\n"
       ]
      }
     ],
     "prompt_number": 6
    },
    {
     "cell_type": "code",
     "collapsed": false,
     "input": [
      "# when using the above method make it a point to not have values with the similar name.\n",
      "pi=10\n",
      "print pi"
     ],
     "language": "python",
     "metadata": {},
     "outputs": [
      {
       "output_type": "stream",
       "stream": "stdout",
       "text": [
        "10\n"
       ]
      }
     ],
     "prompt_number": 7
    },
    {
     "cell_type": "code",
     "collapsed": false,
     "input": [
      "print pow(2,3)"
     ],
     "language": "python",
     "metadata": {},
     "outputs": [
      {
       "output_type": "stream",
       "stream": "stdout",
       "text": [
        "8.0\n"
       ]
      }
     ],
     "prompt_number": 14
    },
    {
     "cell_type": "code",
     "collapsed": false,
     "input": [
      "# DONT TRY THIS AT HOME OR OFFICE\n",
      "# from math import *\n",
      "# NOT RECOMMENED."
     ],
     "language": "python",
     "metadata": {},
     "outputs": []
    }
   ],
   "metadata": {}
  }
 ]
}