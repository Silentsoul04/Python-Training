{
 "metadata": {
  "name": "",
  "signature": "sha256:26327dc2a38576addfc37c44ef6872a735f8bf7f055c14086183b42aff4ab09e"
 },
 "nbformat": 3,
 "nbformat_minor": 0,
 "worksheets": [
  {
   "cells": [
    {
     "cell_type": "code",
     "collapsed": false,
     "input": [
      "# what are regular expressions or what is the need of regular expression.\n",
      "# re are common in most of the programming languages.\n",
      "# regular expression/regex/pattern matching"
     ],
     "language": "python",
     "metadata": {},
     "outputs": []
    },
    {
     "cell_type": "code",
     "collapsed": false,
     "input": [
      "answer = raw_input(\"do you want to come to the movie:\")\n",
      "if answer == 'yes':\n",
      "    print \"you are welcome to the movie\"\n",
      "else:\n",
      "    print \"better luck next time\""
     ],
     "language": "python",
     "metadata": {},
     "outputs": [
      {
       "name": "stdout",
       "output_type": "stream",
       "stream": "stdout",
       "text": [
        "do you want to come to the movie:yes\n"
       ]
      },
      {
       "output_type": "stream",
       "stream": "stdout",
       "text": [
        "you are welcome to the movie\n"
       ]
      }
     ],
     "prompt_number": 1
    },
    {
     "cell_type": "code",
     "collapsed": false,
     "input": [
      "answer = raw_input(\"do you want to come to the movie - yes/no:\")\n",
      "if answer == 'yes':\n",
      "    print \"you are welcome to the movie\"\n",
      "else:\n",
      "    print \"better luck next time\""
     ],
     "language": "python",
     "metadata": {},
     "outputs": [
      {
       "name": "stdout",
       "output_type": "stream",
       "stream": "stdout",
       "text": [
        "do you want to come to the movie - yes/no:no\n"
       ]
      },
      {
       "output_type": "stream",
       "stream": "stdout",
       "text": [
        "better luck next time\n"
       ]
      }
     ],
     "prompt_number": 2
    },
    {
     "cell_type": "code",
     "collapsed": false,
     "input": [
      "answer = raw_input(\"do you want to come to the movie:\")\n",
      "if answer == 'yes':    # 2 ** 3 == 8 combination\n",
      "    print \"you are welcome to the movie\"\n",
      "else:\n",
      "    print \"better luck next time\""
     ],
     "language": "python",
     "metadata": {},
     "outputs": [
      {
       "name": "stdout",
       "output_type": "stream",
       "stream": "stdout",
       "text": [
        "do you want to come to the movie:Yes\n"
       ]
      },
      {
       "output_type": "stream",
       "stream": "stdout",
       "text": [
        "better luck next time\n"
       ]
      }
     ],
     "prompt_number": 3
    },
    {
     "cell_type": "code",
     "collapsed": false,
     "input": [
      "import re"
     ],
     "language": "python",
     "metadata": {},
     "outputs": [],
     "prompt_number": 4
    },
    {
     "cell_type": "code",
     "collapsed": false,
     "input": [
      "my_string = \"python\""
     ],
     "language": "python",
     "metadata": {},
     "outputs": [],
     "prompt_number": 9
    },
    {
     "cell_type": "code",
     "collapsed": false,
     "input": [
      "print dir(re)"
     ],
     "language": "python",
     "metadata": {},
     "outputs": [
      {
       "output_type": "stream",
       "stream": "stdout",
       "text": [
        "['DEBUG', 'DOTALL', 'I', 'IGNORECASE', 'L', 'LOCALE', 'M', 'MULTILINE', 'S', 'Scanner', 'T', 'TEMPLATE', 'U', 'UNICODE', 'VERBOSE', 'X', '_MAXCACHE', '__all__', '__builtins__', '__doc__', '__file__', '__name__', '__package__', '__version__', '_alphanum', '_cache', '_cache_repl', '_compile', '_compile_repl', '_expand', '_locale', '_pattern_type', '_pickle', '_subx', 'compile', 'copy_reg', 'error', 'escape', 'findall', 'finditer', 'match', 'purge', 'search', 'split', 'sre_compile', 'sre_parse', 'sub', 'subn', 'sys', 'template']\n"
       ]
      }
     ],
     "prompt_number": 5
    },
    {
     "cell_type": "code",
     "collapsed": false,
     "input": [
      "# match"
     ],
     "language": "python",
     "metadata": {},
     "outputs": [],
     "prompt_number": 6
    },
    {
     "cell_type": "code",
     "collapsed": false,
     "input": [
      "print help(re.match)"
     ],
     "language": "python",
     "metadata": {},
     "outputs": [
      {
       "output_type": "stream",
       "stream": "stdout",
       "text": [
        "Help on function match in module re:\n",
        "\n",
        "match(pattern, string, flags=0)\n",
        "    Try to apply the pattern at the start of the string, returning\n",
        "    a match object, or None if no match was found.\n",
        "\n",
        "None\n"
       ]
      }
     ],
     "prompt_number": 7
    },
    {
     "cell_type": "code",
     "collapsed": false,
     "input": [
      "# patter is basically a subset of your string.\n",
      "# string - python\n",
      "# few subsets of patter- ex: p,py,pyt,pyth "
     ],
     "language": "python",
     "metadata": {},
     "outputs": []
    },
    {
     "cell_type": "code",
     "collapsed": false,
     "input": [
      "print re.match('p',my_string) # we got a match pattern"
     ],
     "language": "python",
     "metadata": {},
     "outputs": [
      {
       "output_type": "stream",
       "stream": "stdout",
       "text": [
        "<_sre.SRE_Match object at 0x7ff0ffff8510>\n"
       ]
      }
     ],
     "prompt_number": 10
    },
    {
     "cell_type": "code",
     "collapsed": false,
     "input": [
      "print re.match('yth',my_string) #  this pattern fails,as the match has be from left to right."
     ],
     "language": "python",
     "metadata": {},
     "outputs": [
      {
       "output_type": "stream",
       "stream": "stdout",
       "text": [
        "None\n"
       ]
      }
     ],
     "prompt_number": 11
    },
    {
     "cell_type": "code",
     "collapsed": false,
     "input": [
      "print re.match('pyth',my_string)\n",
      "print type(re.match('pyth',my_string))"
     ],
     "language": "python",
     "metadata": {},
     "outputs": [
      {
       "output_type": "stream",
       "stream": "stdout",
       "text": [
        "<_sre.SRE_Match object at 0x7ff0ffff85e0>\n",
        "<type '_sre.SRE_Match'>\n"
       ]
      }
     ],
     "prompt_number": 13
    },
    {
     "cell_type": "code",
     "collapsed": false,
     "input": [
      "print re.match('Pyth',my_string)  # we have a upper case letter this failes."
     ],
     "language": "python",
     "metadata": {},
     "outputs": [
      {
       "output_type": "stream",
       "stream": "stdout",
       "text": [
        "None\n"
       ]
      }
     ],
     "prompt_number": 14
    },
    {
     "cell_type": "code",
     "collapsed": false,
     "input": [
      "# flag - 'I', 'IGNORECASE'\n",
      "# flags - added options\n",
      "\n",
      "print re.match('Pyth',my_string,re.I)"
     ],
     "language": "python",
     "metadata": {},
     "outputs": [
      {
       "output_type": "stream",
       "stream": "stdout",
       "text": [
        "<_sre.SRE_Match object at 0x7ff0ffff8718>\n"
       ]
      }
     ],
     "prompt_number": 15
    },
    {
     "cell_type": "code",
     "collapsed": false,
     "input": [
      "# Applying the regular expression\n",
      "import re\n",
      "\n",
      "answer = raw_input(\"do you want to come to the movie:\")\n",
      "#if answer == 'yes':    # 2 ** 3 == 8 combination\n",
      "if re.match(answer,'yes',re.I):\n",
      "    print \"you are welcome to the movie\"\n",
      "else:\n",
      "    print \"better luck next time\""
     ],
     "language": "python",
     "metadata": {},
     "outputs": [
      {
       "name": "stdout",
       "output_type": "stream",
       "stream": "stdout",
       "text": [
        "do you want to come to the movie:YeS\n"
       ]
      },
      {
       "output_type": "stream",
       "stream": "stdout",
       "text": [
        "you are welcome to the movie\n"
       ]
      }
     ],
     "prompt_number": 16
    },
    {
     "cell_type": "code",
     "collapsed": false,
     "input": [
      "# search"
     ],
     "language": "python",
     "metadata": {},
     "outputs": [],
     "prompt_number": 17
    },
    {
     "cell_type": "code",
     "collapsed": false,
     "input": [
      "print help(re.search)"
     ],
     "language": "python",
     "metadata": {},
     "outputs": [
      {
       "output_type": "stream",
       "stream": "stdout",
       "text": [
        "Help on function search in module re:\n",
        "\n",
        "search(pattern, string, flags=0)\n",
        "    Scan through string looking for a match to the pattern, returning\n",
        "    a match object, or None if no match was found.\n",
        "\n",
        "None\n"
       ]
      }
     ],
     "prompt_number": 18
    },
    {
     "cell_type": "code",
     "collapsed": false,
     "input": [
      "my_string=\"python\""
     ],
     "language": "python",
     "metadata": {},
     "outputs": [],
     "prompt_number": 19
    },
    {
     "cell_type": "code",
     "collapsed": true,
     "input": [
      "print re.match(\"py\",my_string)"
     ],
     "language": "python",
     "metadata": {},
     "outputs": [
      {
       "output_type": "stream",
       "stream": "stdout",
       "text": [
        "<_sre.SRE_Match object at 0x7ff0ffff89f0>\n"
       ]
      }
     ],
     "prompt_number": 20
    },
    {
     "cell_type": "code",
     "collapsed": false,
     "input": [
      "print re.match(\"pyt\",my_string)"
     ],
     "language": "python",
     "metadata": {},
     "outputs": [
      {
       "output_type": "stream",
       "stream": "stdout",
       "text": [
        "<_sre.SRE_Match object at 0x7ff0ffff8ac0>\n"
       ]
      }
     ],
     "prompt_number": 21
    },
    {
     "cell_type": "code",
     "collapsed": false,
     "input": [
      "print re.match('yt',my_string)"
     ],
     "language": "python",
     "metadata": {},
     "outputs": [
      {
       "output_type": "stream",
       "stream": "stdout",
       "text": [
        "None\n"
       ]
      }
     ],
     "prompt_number": 22
    },
    {
     "cell_type": "code",
     "collapsed": false,
     "input": [
      "print re.search('yt',my_string)"
     ],
     "language": "python",
     "metadata": {},
     "outputs": [
      {
       "output_type": "stream",
       "stream": "stdout",
       "text": [
        "<_sre.SRE_Match object at 0x7ff0ffff8b90>\n"
       ]
      }
     ],
     "prompt_number": 23
    },
    {
     "cell_type": "code",
     "collapsed": false,
     "input": [
      "my_sentence1 = \"python is my first language\"\n",
      "my_sentence2 = \"one of my first lanaguage is python\""
     ],
     "language": "python",
     "metadata": {},
     "outputs": [],
     "prompt_number": 25
    },
    {
     "cell_type": "code",
     "collapsed": false,
     "input": [
      "print re.match(\"python\",my_sentence1)  # True\n",
      "print re.match(\"python\",my_sentence2)  # False\n",
      "print re.search(\"python\",my_sentence1) # True\n",
      "print re.search(\"python\",my_sentence2) # True"
     ],
     "language": "python",
     "metadata": {},
     "outputs": [
      {
       "output_type": "stream",
       "stream": "stdout",
       "text": [
        "<_sre.SRE_Match object at 0x7ff0ffff8cc8>\n",
        "None\n",
        "<_sre.SRE_Match object at 0x7ff0ffff8cc8>\n",
        "<_sre.SRE_Match object at 0x7ff0ffff8cc8>\n"
       ]
      }
     ],
     "prompt_number": 26
    },
    {
     "cell_type": "code",
     "collapsed": false,
     "input": [
      "# Special characters"
     ],
     "language": "python",
     "metadata": {},
     "outputs": []
    },
    {
     "cell_type": "code",
     "collapsed": false,
     "input": [
      "# ^ (caret) -> beginning of a sentence.\n",
      "# $ (dollar) -> end of a sentence.\n",
      "# . (dot)  -> represents one character in the sentence."
     ],
     "language": "python",
     "metadata": {},
     "outputs": [],
     "prompt_number": 27
    },
    {
     "cell_type": "code",
     "collapsed": false,
     "input": [
      "my_sentence1 = \"python is my first language\"\n",
      "my_sentence2 = \"one of my first lanaguage is python\""
     ],
     "language": "python",
     "metadata": {},
     "outputs": [],
     "prompt_number": 28
    },
    {
     "cell_type": "code",
     "collapsed": false,
     "input": [
      "\n",
      "print re.search(\"python\",my_sentence1) # true\n",
      "print re.search(\"python\",my_sentence2) # true"
     ],
     "language": "python",
     "metadata": {},
     "outputs": [
      {
       "output_type": "stream",
       "stream": "stdout",
       "text": [
        "<_sre.SRE_Match object at 0x7ff0ffff8e68>\n",
        "<_sre.SRE_Match object at 0x7ff0ffff8e68>\n"
       ]
      }
     ],
     "prompt_number": 30
    },
    {
     "cell_type": "code",
     "collapsed": false,
     "input": [
      "# ^\n",
      "print re.search(\"^python\",my_sentence1) # True\n",
      "print re.search(\"^python\",my_sentence2) # False"
     ],
     "language": "python",
     "metadata": {},
     "outputs": [
      {
       "output_type": "stream",
       "stream": "stdout",
       "text": [
        "<_sre.SRE_Match object at 0x7ff0ffff8e00>\n",
        "None\n"
       ]
      }
     ],
     "prompt_number": 29
    },
    {
     "cell_type": "code",
     "collapsed": false,
     "input": [
      "# $\n",
      "print re.search(\"python$\",my_sentence1) # False\n",
      "print re.search(\"python$\",my_sentence2) # True"
     ],
     "language": "python",
     "metadata": {},
     "outputs": [
      {
       "output_type": "stream",
       "stream": "stdout",
       "text": [
        "None\n",
        "<_sre.SRE_Match object at 0x7ff0ffff8ed0>\n"
       ]
      }
     ],
     "prompt_number": 31
    },
    {
     "cell_type": "code",
     "collapsed": false,
     "input": [
      "# .\n",
      "my_string = \"python\"\n",
      "my_sentence1 = \"python is my first language\"\n",
      "print re.match('.....',my_string)\n",
      "print re.match('...',my_sentence1)"
     ],
     "language": "python",
     "metadata": {},
     "outputs": [
      {
       "output_type": "stream",
       "stream": "stdout",
       "text": [
        "<_sre.SRE_Match object at 0x7ff0fff81100>\n",
        "<_sre.SRE_Match object at 0x7ff0fff81100>\n"
       ]
      }
     ],
     "prompt_number": 34
    },
    {
     "cell_type": "code",
     "collapsed": false,
     "input": [
      "# group : group will work on a patter match provided it is true.\n",
      "print re.match('.....',my_string).group()\n",
      "print re.match('...',my_sentence1).group()\n",
      "print re.search('f....',my_sentence1)\n",
      "print re.search('f....',my_sentence1).group()"
     ],
     "language": "python",
     "metadata": {},
     "outputs": [
      {
       "output_type": "stream",
       "stream": "stdout",
       "text": [
        "pytho\n",
        "pyt\n",
        "<_sre.SRE_Match object at 0x7ff0fff81370>\n",
        "first\n"
       ]
      }
     ],
     "prompt_number": 37
    },
    {
     "cell_type": "code",
     "collapsed": false,
     "input": [
      "# find out the names of friends with exactly five characters\n",
      "import re\n",
      "my_students = ['aditya','kiran','arbaaz','harshita','tarun','kumar']\n",
      "\n",
      "for value in my_students:\n",
      "    if re.search('.....',value): # true\n",
      "        print re.search('.....',value).group()"
     ],
     "language": "python",
     "metadata": {},
     "outputs": [
      {
       "output_type": "stream",
       "stream": "stdout",
       "text": [
        "adity\n",
        "kiran\n",
        "arbaa\n",
        "harsh\n",
        "tarun\n",
        "kumar\n"
       ]
      }
     ],
     "prompt_number": 39
    },
    {
     "cell_type": "code",
     "collapsed": false,
     "input": [
      "# slight modification\n",
      "import re\n",
      "my_students = ['aditya','kiran','arbaaz','harshita','tarun','kumar']\n",
      "\n",
      "for value in my_students:\n",
      "    if re.search('^.....$',value): # true\n",
      "        print re.search('^.....$',value).group()"
     ],
     "language": "python",
     "metadata": {},
     "outputs": [
      {
       "output_type": "stream",
       "stream": "stdout",
       "text": [
        "kiran\n",
        "tarun\n",
        "kumar\n"
       ]
      }
     ],
     "prompt_number": 40
    },
    {
     "cell_type": "code",
     "collapsed": false,
     "input": [
      "# globbling characters\n",
      "# * -> represents zero or more characters.\n",
      "# + -> represents one or more characters_.\n",
      "# ? -> represents zero or one character."
     ],
     "language": "python",
     "metadata": {},
     "outputs": []
    },
    {
     "cell_type": "code",
     "collapsed": false,
     "input": [
      "my_film1 = \"ashique\"\n",
      "my_film2 = \"aashique\"\n",
      "my_film3 = \"aaashique\"\n",
      "my_film4 = \"shique\""
     ],
     "language": "python",
     "metadata": {},
     "outputs": [],
     "prompt_number": 41
    },
    {
     "cell_type": "code",
     "collapsed": false,
     "input": [
      "# *\n",
      "# a* -> a repeated zero or more times.\n",
      "print re.match('a*shique',my_film1)  \n",
      "print re.match('a*shique',my_film2)  \n",
      "print re.match('a*shique',my_film3)  \n",
      "print re.match('a*shique',my_film4)  "
     ],
     "language": "python",
     "metadata": {},
     "outputs": [
      {
       "output_type": "stream",
       "stream": "stdout",
       "text": [
        "<_sre.SRE_Match object at 0x7ff0fff81718>\n",
        "<_sre.SRE_Match object at 0x7ff0fff81718>\n",
        "<_sre.SRE_Match object at 0x7ff0fff81718>\n",
        "<_sre.SRE_Match object at 0x7ff0fff81718>\n"
       ]
      }
     ],
     "prompt_number": 45
    },
    {
     "cell_type": "code",
     "collapsed": false,
     "input": [
      "# +\n",
      "# a+ -> a repeated one or more times.\n",
      "print re.match('a+shique',my_film1)  \n",
      "print re.match('a+shique',my_film2)  \n",
      "print re.match('a+shique',my_film3)  \n",
      "print re.match('a+shique',my_film4) "
     ],
     "language": "python",
     "metadata": {},
     "outputs": [
      {
       "output_type": "stream",
       "stream": "stdout",
       "text": [
        "<_sre.SRE_Match object at 0x7ff0fff81780>\n",
        "<_sre.SRE_Match object at 0x7ff0fff81780>\n",
        "<_sre.SRE_Match object at 0x7ff0fff81780>\n",
        "None\n"
       ]
      }
     ],
     "prompt_number": 46
    },
    {
     "cell_type": "code",
     "collapsed": false,
     "input": [
      "my_film1 = \"ashique\"\n",
      "my_film2 = \"aashique\"\n",
      "my_film3 = \"aaashique\"\n",
      "my_film4 = \"shique\"\n",
      "\n",
      "# ?\n",
      "# a? -> a repeated zero or one time.\n",
      "# ashique or shique\n",
      "print re.match('a?shique',my_film1)  # TRUE\n",
      "print re.match('a?shique',my_film2)  # FALSE\n",
      "print re.match('a?shique',my_film3)  # FALSE\n",
      "print re.match('a?shique',my_film4)  # TRUE"
     ],
     "language": "python",
     "metadata": {},
     "outputs": [
      {
       "output_type": "stream",
       "stream": "stdout",
       "text": [
        "<_sre.SRE_Match object at 0x7ff0fff81850>\n",
        "None\n",
        "None\n",
        "<_sre.SRE_Match object at 0x7ff0fff81850>\n"
       ]
      }
     ],
     "prompt_number": 47
    },
    {
     "cell_type": "code",
     "collapsed": false,
     "input": [
      "# # ashique or shique\n",
      "print re.search('a?shique',my_film1)  # TRUE  \n",
      "print re.search('a?shique',my_film2)  # TRUE\n",
      "print re.search('a?shique',my_film3)  # TRUE\n",
      "print re.search('a?shique',my_film4)  # TRUE"
     ],
     "language": "python",
     "metadata": {},
     "outputs": [
      {
       "output_type": "stream",
       "stream": "stdout",
       "text": [
        "<_sre.SRE_Match object at 0x7ff0fff81920>\n",
        "<_sre.SRE_Match object at 0x7ff0fff81920>\n",
        "<_sre.SRE_Match object at 0x7ff0fff81920>\n",
        "<_sre.SRE_Match object at 0x7ff0fff81920>\n"
       ]
      }
     ],
     "prompt_number": 48
    },
    {
     "cell_type": "code",
     "collapsed": false,
     "input": [
      "# globbing characters are greedy.\n",
      "# *?,+?,?? - minimal matching\n",
      "# by default globbling characters are greedy or they do maximal matching.\n",
      "\n",
      "my_string1 = \"<H1>hello<H1>\"\n",
      "my_string2 = \"<HILL>hello1<HILL>\"\n",
      "my_string3 = \"<HELL>hello2<HELL>\"\n",
      "\n",
      "print re.search('<.*>',my_string1).group()\n",
      "print re.search('<.*>',my_string2).group()\n",
      "print re.search('<.*>',my_string3).group()\n",
      "\n",
      "# \"<H1>hello<H1>\"\n",
      "# <.*>\n",
      "# different patterns\n",
      "# <H1> ,<.*>\n",
      "# <H1>hello<H1> ,<.*> - maximal matching\n",
      "# <.*?>\n",
      "# <H1> - minimal matching"
     ],
     "language": "python",
     "metadata": {},
     "outputs": [
      {
       "output_type": "stream",
       "stream": "stdout",
       "text": [
        "<H1>hello<H1>\n",
        "<HILL>hello1<HILL>\n",
        "<HELL>hello2<HELL>\n"
       ]
      }
     ],
     "prompt_number": 50
    },
    {
     "cell_type": "code",
     "collapsed": false,
     "input": [
      "print re.search('<.*?>',my_string1).group()\n",
      "print re.search('<.*?>',my_string2).group()\n",
      "print re.search('<.*?>',my_string3).group()"
     ],
     "language": "python",
     "metadata": {},
     "outputs": [
      {
       "output_type": "stream",
       "stream": "stdout",
       "text": [
        "<H1>\n",
        "<HILL>\n",
        "<HELL>\n"
       ]
      }
     ],
     "prompt_number": 51
    },
    {
     "cell_type": "code",
     "collapsed": false,
     "input": [
      "# Anchors\n",
      "# {m} -> a character repetead m number of times.\n",
      "# {m,n} -> a character repeated between m and n number of times.\n",
      "# {m,} -> a character repeated more than m number of times.\n",
      "\n",
      "my_film1 = \"ashique\"\n",
      "my_film2 = \"aashique\"\n",
      "my_film3 = \"aaashique\"\n",
      "my_film4 = \"shique\"\n",
      "\n",
      "print re.match('a{2}shique',my_film1)\n",
      "print re.match('a{2}shique',my_film2)\n",
      "print re.match('a{2}shique',my_film3)\n",
      "print re.match('a{2}shique',my_film4)"
     ],
     "language": "python",
     "metadata": {},
     "outputs": [
      {
       "output_type": "stream",
       "stream": "stdout",
       "text": [
        "None\n",
        "<_sre.SRE_Match object at 0x7ff0fff81ac0>\n",
        "None\n",
        "None\n"
       ]
      }
     ],
     "prompt_number": 52
    },
    {
     "cell_type": "code",
     "collapsed": false,
     "input": [
      "print re.match('a{0,2}shique',my_film1)\n",
      "print re.match('a{0,2}shique',my_film2)\n",
      "print re.match('a{0,2}shique',my_film3)\n",
      "print re.match('a{0,2}shique',my_film4)"
     ],
     "language": "python",
     "metadata": {},
     "outputs": [
      {
       "output_type": "stream",
       "stream": "stdout",
       "text": [
        "<_sre.SRE_Match object at 0x7ff0fff81bf8>\n",
        "<_sre.SRE_Match object at 0x7ff0fff81bf8>\n",
        "None\n",
        "<_sre.SRE_Match object at 0x7ff0fff81bf8>\n"
       ]
      }
     ],
     "prompt_number": 53
    },
    {
     "cell_type": "code",
     "collapsed": false,
     "input": [
      "# compile\n",
      "print help(re.compile)"
     ],
     "language": "python",
     "metadata": {},
     "outputs": [
      {
       "output_type": "stream",
       "stream": "stdout",
       "text": [
        "Help on function compile in module re:\n",
        "\n",
        "compile(pattern, flags=0)\n",
        "    Compile a regular expression pattern, returning a pattern object.\n",
        "\n",
        "None\n"
       ]
      }
     ],
     "prompt_number": 54
    },
    {
     "cell_type": "code",
     "collapsed": false,
     "input": [
      "# compile will save your pattern one time.\n",
      "reg = re.compile('a{1,}shique',re.I)\n",
      "reg1 = re.compile('a{0,3}shique',re.I)"
     ],
     "language": "python",
     "metadata": {},
     "outputs": [],
     "prompt_number": 58
    },
    {
     "cell_type": "code",
     "collapsed": false,
     "input": [
      "print help(reg.match)"
     ],
     "language": "python",
     "metadata": {},
     "outputs": [
      {
       "output_type": "stream",
       "stream": "stdout",
       "text": [
        "Help on built-in function match:\n",
        "\n",
        "match(...)\n",
        "    match(string[, pos[, endpos]]) --> match object or None.\n",
        "    Matches zero or more characters at the beginning of the string\n",
        "\n",
        "None\n"
       ]
      }
     ],
     "prompt_number": 56
    },
    {
     "cell_type": "code",
     "collapsed": false,
     "input": [
      "print reg.match(my_film1)\n",
      "print reg.match(my_film2)\n",
      "print reg.match(my_film3)\n",
      "print reg.match(my_film4)"
     ],
     "language": "python",
     "metadata": {},
     "outputs": [
      {
       "output_type": "stream",
       "stream": "stdout",
       "text": [
        "<_sre.SRE_Match object at 0x7ff0fff81f38>\n",
        "<_sre.SRE_Match object at 0x7ff0fff81f38>\n",
        "<_sre.SRE_Match object at 0x7ff0fff81f38>\n",
        "None\n"
       ]
      }
     ],
     "prompt_number": 57
    },
    {
     "cell_type": "code",
     "collapsed": false,
     "input": [
      "print re.match('a{0,2}shique',my_film1)\n",
      "print re.match('a{0,2}shique',my_film2)\n",
      "print re.match('a{0,2}shique',my_film3)\n",
      "print re.match('a{0,2}shique',my_film4)"
     ],
     "language": "python",
     "metadata": {},
     "outputs": [
      {
       "output_type": "stream",
       "stream": "stdout",
       "text": [
        "<_sre.SRE_Match object at 0x7ff0fff81c60>\n",
        "<_sre.SRE_Match object at 0x7ff0fff81c60>\n",
        "None\n",
        "<_sre.SRE_Match object at 0x7ff0fff81c60>\n"
       ]
      }
     ],
     "prompt_number": 59
    },
    {
     "cell_type": "code",
     "collapsed": false,
     "input": [
      "print reg1.match(my_film1)\n",
      "print reg1.match(my_film2)\n",
      "print reg1.match(my_film3)\n",
      "print reg1.match(my_film4)"
     ],
     "language": "python",
     "metadata": {},
     "outputs": [
      {
       "output_type": "stream",
       "stream": "stdout",
       "text": [
        "<_sre.SRE_Match object at 0x7ff0fff81d98>\n",
        "<_sre.SRE_Match object at 0x7ff0fff81d98>\n",
        "None\n",
        "<_sre.SRE_Match object at 0x7ff0fff81d98>\n"
       ]
      }
     ],
     "prompt_number": 61
    },
    {
     "cell_type": "code",
     "collapsed": false,
     "input": [
      "# Character set\n",
      "# [a-z] - one characters from a to z.\n",
      "# ^[a-z] - characters starting from a to z.\n",
      "# [^a-z] - not having characters a to z.\n",
      "# [0-9] - characters having numbers.\n",
      "# [*+?.] - all the specical charactes are treated as literal symbols."
     ],
     "language": "python",
     "metadata": {},
     "outputs": []
    },
    {
     "cell_type": "code",
     "collapsed": false,
     "input": [
      "my_sentence1 = \"python is a good language\""
     ],
     "language": "python",
     "metadata": {},
     "outputs": [],
     "prompt_number": 62
    },
    {
     "cell_type": "code",
     "collapsed": false,
     "input": [
      "print re.match('[a-z]',my_sentence1)\n",
      "print re.match('[a-z]',my_sentence1).group()"
     ],
     "language": "python",
     "metadata": {},
     "outputs": [
      {
       "output_type": "stream",
       "stream": "stdout",
       "text": [
        "<_sre.SRE_Match object at 0x7ff0fff96100>\n",
        "p\n"
       ]
      }
     ],
     "prompt_number": 64
    },
    {
     "cell_type": "code",
     "collapsed": false,
     "input": [
      "print re.match('[a-z]+',my_sentence1)\n",
      "print re.match('[a-z]+',my_sentence1).group()"
     ],
     "language": "python",
     "metadata": {},
     "outputs": [
      {
       "output_type": "stream",
       "stream": "stdout",
       "text": [
        "<_sre.SRE_Match object at 0x7ff0fff961d0>\n",
        "python\n"
       ]
      }
     ],
     "prompt_number": 65
    },
    {
     "cell_type": "code",
     "collapsed": false,
     "input": [
      "#\\s - one space\n",
      "#\\s+ - A group of spaces\n",
      "print re.match('[a-z]+\\s+',my_sentence1).group()"
     ],
     "language": "python",
     "metadata": {},
     "outputs": [
      {
       "output_type": "stream",
       "stream": "stdout",
       "text": [
        "python \n"
       ]
      }
     ],
     "prompt_number": 66
    },
    {
     "cell_type": "code",
     "collapsed": false,
     "input": [
      "print re.match('[a-z]+\\s+[a-z]+\\s+[a-z]+\\s+[a-z]+\\s+[a-z]+',my_sentence1).group()"
     ],
     "language": "python",
     "metadata": {},
     "outputs": [
      {
       "output_type": "stream",
       "stream": "stdout",
       "text": [
        "python is a good language\n"
       ]
      }
     ],
     "prompt_number": 67
    },
    {
     "cell_type": "code",
     "collapsed": false,
     "input": [
      "print re.match('([a-z]+\\s+){4}[a-z]+',my_sentence1).group()"
     ],
     "language": "python",
     "metadata": {},
     "outputs": [
      {
       "output_type": "stream",
       "stream": "stdout",
       "text": [
        "python is a good language\n"
       ]
      }
     ],
     "prompt_number": 68
    },
    {
     "cell_type": "code",
     "collapsed": false,
     "input": [
      "print re.match('(\\w+\\s+){4}[a-z]+',my_sentence1).group()"
     ],
     "language": "python",
     "metadata": {},
     "outputs": [
      {
       "output_type": "stream",
       "stream": "stdout",
       "text": [
        "python is a good language\n"
       ]
      }
     ],
     "prompt_number": 69
    },
    {
     "cell_type": "code",
     "collapsed": false,
     "input": [
      "# grouping\n",
      "print re.match('[a-z]+\\s+[a-z]+\\s+[a-z]+\\s+[a-z]+\\s+[a-z]+',my_sentence1).group()\n",
      "print re.match('[a-z]+\\s+[a-z]+\\s+[a-z]+\\s+[a-z]+\\s+[a-z]+',my_sentence1).group(0)\n",
      "# index based grouping\n",
      "print re.match('([a-z]+)\\s+[a-z]+\\s+[a-z]+\\s+[a-z]+\\s+([a-z]+)',my_sentence1).group(1)\n",
      "print re.match('([a-z]+)\\s+[a-z]+\\s+[a-z]+\\s+[a-z]+\\s+([a-z]+)',my_sentence1).group(2)\n",
      "print re.match('([a-z]+)\\s+[a-z]+\\s+[a-z]+\\s+[a-z]+\\s+([a-z]+)',my_sentence1).groups()\n",
      "# a dictionary based grouping\n",
      "print re.match('(?P<why>[a-z]+)\\s+[a-z]+\\s+[a-z]+\\s+[a-z]+\\s+(?P<what>[a-z]+)',my_sentence1).group('why')\n",
      "print re.match('(?P<why>[a-z]+)\\s+[a-z]+\\s+[a-z]+\\s+[a-z]+\\s+(?P<what>[a-z]+)',my_sentence1).group('what')"
     ],
     "language": "python",
     "metadata": {},
     "outputs": [
      {
       "output_type": "stream",
       "stream": "stdout",
       "text": [
        "python is a good language\n",
        "python is a good language\n",
        "python\n",
        "language\n",
        "('python', 'language')\n",
        "python\n",
        "language\n"
       ]
      }
     ],
     "prompt_number": 113
    },
    {
     "cell_type": "code",
     "collapsed": false,
     "input": [
      "# VERBOSE\n",
      "print re.match('''\n",
      "(\\w+\\s+)     # a word and a space\n",
      "{4}          # the word and space repeated 4 times.\n",
      "[a-z]+       # the word repeated again without space\n",
      "''',my_sentence1,re.X).group()"
     ],
     "language": "python",
     "metadata": {},
     "outputs": [
      {
       "output_type": "stream",
       "stream": "stdout",
       "text": [
        "python is a good language\n"
       ]
      }
     ],
     "prompt_number": 87
    },
    {
     "cell_type": "code",
     "collapsed": false,
     "input": [
      "# search,match,findall\n",
      "my_string = \"python is a great language.python is good for starters.python is my first language.\"\n",
      "print re.match(\"python\",my_string).group()    # Match only from left to right and will stop if it find the match.\n",
      "print re.search(\"python\",my_string).group()   # search will scan through the whole string and stop at first possible match.\n",
      "print re.findall(\"python\",my_string)"
     ],
     "language": "python",
     "metadata": {},
     "outputs": [
      {
       "output_type": "stream",
       "stream": "stdout",
       "text": [
        "python\n",
        "python\n",
        "['python', 'python', 'python']\n"
       ]
      }
     ],
     "prompt_number": 92
    },
    {
     "cell_type": "code",
     "collapsed": false,
     "input": [
      "# Multiline flag - re.M\n",
      "my_string1 = \"python is a great language.\\npython is good for starters.\\npython is my first language.\"\n",
      "print my_string1\n",
      "print re.findall(\"python\",my_string1)\n",
      "print re.findall(\"^python\",my_string1)\n",
      "print re.findall('^python',my_string1,re.M)"
     ],
     "language": "python",
     "metadata": {},
     "outputs": [
      {
       "output_type": "stream",
       "stream": "stdout",
       "text": [
        "python is a great language.\n",
        "python is good for starters.\n",
        "python is my first language.\n",
        "['python', 'python', 'python']\n",
        "['python']\n",
        "['python', 'python', 'python']\n"
       ]
      }
     ],
     "prompt_number": 97
    },
    {
     "cell_type": "code",
     "collapsed": false,
     "input": [
      "# example1\n",
      "my_string = \"enx020756033063 Link encap:Ethernet  HWaddr 02:07:56:03:30:63\"\n",
      "print re.search('[0-9]{2}:',my_string).group()\n",
      "print re.search('([0-9]{2}:){5}[0-9]+',my_string).group()\n",
      "print re.search('(\\d{2}:){5}\\d+',my_string).group()"
     ],
     "language": "python",
     "metadata": {},
     "outputs": [
      {
       "output_type": "stream",
       "stream": "stdout",
       "text": [
        "02:\n",
        "02:07:56:03:30:63\n",
        "02:07:56:03:30:63\n"
       ]
      }
     ],
     "prompt_number": 84
    },
    {
     "cell_type": "code",
     "collapsed": false,
     "input": [
      "# example 2\n",
      "email = \"\"\"\n",
      "my valid email address is tuxfux.hlp@gmail.com\n",
      "my valid email address is tuxfux.hlp@yahoo.co.in\n",
      "my valid email address is tuxfux.hlp\n",
      "my valid email address is tuxfux.hlp@google.com\n",
      "my valid email address is @gmail.com\n",
      "my valid email address is tuxfux123.hlp@yahoo.co.in\n",
      "\"\"\"\n",
      "\n",
      "reg = re.compile(\"[0-9a-zA-Z.]+@[a-zA-Z.]+\")\n",
      "reg.findall(email)"
     ],
     "language": "python",
     "metadata": {},
     "outputs": [
      {
       "metadata": {},
       "output_type": "pyout",
       "prompt_number": 101,
       "text": [
        "['tuxfux.hlp@gmail.com',\n",
        " 'tuxfux.hlp@yahoo.co.in',\n",
        " 'tuxfux.hlp@google.com',\n",
        " 'tuxfux123.hlp@yahoo.co.in']"
       ]
      }
     ],
     "prompt_number": 101
    },
    {
     "cell_type": "code",
     "collapsed": false,
     "input": [
      "# example 3\n",
      "ip_address = '''\n",
      "enp2s0    Link encap:Ethernet  HWaddr 34:17:eb:84:7d:29  \n",
      "          UP BROADCAST MULTICAST  MTU:1500  Metric:1\n",
      "          RX packets:0 errors:0 dropped:0 overruns:0 frame:0\n",
      "          TX packets:0 errors:0 dropped:0 overruns:0 carrier:0\n",
      "          collisions:0 txqueuelen:1000 \n",
      "          RX bytes:0 (0.0 B)  TX bytes:0 (0.0 B)\n",
      "\n",
      "enx020756033063 Link encap:Ethernet  HWaddr 02:07:56:03:30:63  \n",
      "          inet addr:192.168.42.151  Bcast:192.168.42.255  Mask:255.255.255.0\n",
      "          inet6 addr: fe80::7:56ff:fe03:3063/64 Scope:Link\n",
      "          UP BROADCAST RUNNING MULTICAST  MTU:1500  Metric:1\n",
      "          RX packets:319842 errors:5 dropped:0 overruns:0 frame:5\n",
      "          TX packets:381352 errors:0 dropped:0 overruns:0 carrier:0\n",
      "          collisions:0 txqueuelen:1000 \n",
      "          RX bytes:23969227 (23.9 MB)  TX bytes:374266709 (374.2 MB)\n",
      "\n",
      "lo        Link encap:Local Loopback  \n",
      "          inet addr:127.0.0.1  Mask:255.0.0.0\n",
      "          inet6 addr: ::1/128 Scope:Host\n",
      "          UP LOOPBACK RUNNING  MTU:65536  Metric:1\n",
      "          RX packets:4859 errors:0 dropped:0 overruns:0 frame:0\n",
      "          TX packets:4859 errors:0 dropped:0 overruns:0 carrier:0\n",
      "          collisions:0 txqueuelen:0 \n",
      "          RX bytes:4896839 (4.8 MB)  TX bytes:4896839 (4.8 MB)\n",
      "\n",
      "wlp3s0    Link encap:Ethernet  HWaddr d0:7e:35:5d:58:18  \n",
      "          UP BROADCAST MULTICAST  MTU:1500  Metric:1\n",
      "          RX packets:0 errors:0 dropped:0 overruns:0 frame:0\n",
      "          TX packets:0 errors:0 dropped:0 overruns:0 carrier:0\n",
      "          collisions:0 txqueuelen:1000 \n",
      "          RX bytes:0 (0.0 B)  TX bytes:0 (0.0 B)\n",
      "'''\n",
      "\n",
      "print re.search('.*bcast',ip_address,re.I).group()\n",
      "my_ip=re.search('.*:(.*)\\s+bcast',ip_address,re.I).group(1)\n",
      "print my_ip"
     ],
     "language": "python",
     "metadata": {},
     "outputs": [
      {
       "output_type": "stream",
       "stream": "stdout",
       "text": [
        "          inet addr:192.168.42.151  Bcast\n",
        "192.168.42.151 \n"
       ]
      }
     ],
     "prompt_number": 115
    },
    {
     "cell_type": "code",
     "collapsed": false,
     "input": [
      "# REFERENCES\n",
      "# https://docs.python.org/2/library/re.html\n",
      "# https://docs.python.org/2/howto/regex.html"
     ],
     "language": "python",
     "metadata": {},
     "outputs": []
    }
   ],
   "metadata": {}
  }
 ]
}