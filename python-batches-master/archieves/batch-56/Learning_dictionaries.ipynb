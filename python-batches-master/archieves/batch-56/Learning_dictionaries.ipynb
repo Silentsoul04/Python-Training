{
 "cells": [
  {
   "cell_type": "code",
   "execution_count": null,
   "metadata": {
    "collapsed": true
   },
   "outputs": [],
   "source": [
    "# dictionaries\n",
    "# key => value\n",
    "# adhar\n",
    "# mom :<uin>(key-unique):home(value),lastname(value),bankaccount\n",
    "# dad :<uin>(key):home,lastname,bankaccount\n",
    "# kiddo:<uin>(key):home,lastname,bankaccount"
   ]
  },
  {
   "cell_type": "code",
   "execution_count": null,
   "metadata": {
    "collapsed": true
   },
   "outputs": [],
   "source": [
    "# cheatsheet\n",
    "# list - ['apple','banana'],list(),[]\n",
    "# tuple - ('apple','banana'),tuple(),()\n",
    "# dict -  {'a':'apple','b':'banana'},dict(),{}"
   ]
  },
  {
   "cell_type": "code",
   "execution_count": 1,
   "metadata": {
    "collapsed": true
   },
   "outputs": [],
   "source": [
    "my_fruits = {'a':'apple','b':'banana','c':'cherry'}\n",
    "empty_dict = {}\n",
    "empty_dict1 = dict()"
   ]
  },
  {
   "cell_type": "code",
   "execution_count": 4,
   "metadata": {
    "collapsed": false
   },
   "outputs": [
    {
     "name": "stdout",
     "output_type": "stream",
     "text": [
      "{'a': 'apple', 'c': 'cherry', 'b': 'banana'} <type 'dict'>\n",
      "{} <type 'dict'>\n",
      "{} <type 'dict'>\n"
     ]
    }
   ],
   "source": [
    "print my_fruits,type(my_fruits)\n",
    "print empty_dict,type(empty_dict)\n",
    "print empty_dict1,type(empty_dict1)"
   ]
  },
  {
   "cell_type": "code",
   "execution_count": 5,
   "metadata": {
    "collapsed": false
   },
   "outputs": [
    {
     "data": {
      "text/plain": [
       "'apple'"
      ]
     },
     "execution_count": 5,
     "metadata": {},
     "output_type": "execute_result"
    }
   ],
   "source": [
    "# extraction of values\n",
    "my_fruits['a']"
   ]
  },
  {
   "cell_type": "code",
   "execution_count": 6,
   "metadata": {
    "collapsed": false
   },
   "outputs": [
    {
     "name": "stdout",
     "output_type": "stream",
     "text": [
      "{'a': 'apple', 'c': 'cherry', 'b': 'banana', 'd': 'dates'}\n"
     ]
    }
   ],
   "source": [
    "# inserting values into dict\n",
    "my_fruits['d']='dates'\n",
    "print my_fruits"
   ]
  },
  {
   "cell_type": "code",
   "execution_count": 7,
   "metadata": {
    "collapsed": false
   },
   "outputs": [
    {
     "name": "stdout",
     "output_type": "stream",
     "text": [
      "{'a': 'apricot', 'c': 'cherry', 'b': 'banana', 'd': 'dates'}\n"
     ]
    }
   ],
   "source": [
    "# replace\n",
    "my_fruits['a'] = 'apricot'\n",
    "print my_fruits"
   ]
  },
  {
   "cell_type": "code",
   "execution_count": 3,
   "metadata": {
    "collapsed": false
   },
   "outputs": [
    {
     "name": "stdout",
     "output_type": "stream",
     "text": [
      "{'a': 'apple', 'c': 'cherry', 'b': 'banana'}\n",
      "['__class__', '__cmp__', '__contains__', '__delattr__', '__delitem__', '__doc__', '__eq__', '__format__', '__ge__', '__getattribute__', '__getitem__', '__gt__', '__hash__', '__init__', '__iter__', '__le__', '__len__', '__lt__', '__ne__', '__new__', '__reduce__', '__reduce_ex__', '__repr__', '__setattr__', '__setitem__', '__sizeof__', '__str__', '__subclasshook__', 'clear', 'copy', 'fromkeys', 'get', 'has_key', 'items', 'iteritems', 'iterkeys', 'itervalues', 'keys', 'pop', 'popitem', 'setdefault', 'update', 'values', 'viewitems', 'viewkeys', 'viewvalues']\n"
     ]
    }
   ],
   "source": [
    "#functions\n",
    "\n",
    "print my_fruits\n",
    "print dir(my_fruits)"
   ]
  },
  {
   "cell_type": "code",
   "execution_count": null,
   "metadata": {
    "collapsed": true
   },
   "outputs": [],
   "source": [
    "# TASKS\n",
    "# update,setdefault,fromkeys\n",
    "# tutorialpoint "
   ]
  },
  {
   "cell_type": "code",
   "execution_count": 6,
   "metadata": {
    "collapsed": false
   },
   "outputs": [
    {
     "name": "stdout",
     "output_type": "stream",
     "text": [
      "True\n",
      "False\n",
      "True\n"
     ]
    }
   ],
   "source": [
    "# has_key => in\n",
    "# in operator is only true for a key.\n",
    "print 'a' in my_fruits\n",
    "print 'apple' in my_fruits\n",
    "\n",
    "print my_fruits.has_key('a')"
   ]
  },
  {
   "cell_type": "code",
   "execution_count": 8,
   "metadata": {
    "collapsed": false
   },
   "outputs": [
    {
     "name": "stdout",
     "output_type": "stream",
     "text": [
      "apple\n",
      "apple\n"
     ]
    }
   ],
   "source": [
    "# get\n",
    "print my_fruits['a']\n",
    "print my_fruits.get('a')"
   ]
  },
  {
   "cell_type": "code",
   "execution_count": 9,
   "metadata": {
    "collapsed": false
   },
   "outputs": [
    {
     "name": "stdout",
     "output_type": "stream",
     "text": [
      "Help on built-in function items:\n",
      "\n",
      "items(...)\n",
      "    D.items() -> list of D's (key, value) pairs, as 2-tuples\n",
      "\n",
      "None\n"
     ]
    }
   ],
   "source": [
    "# items,iteritems,viewitems\n",
    "\n",
    "print help(my_fruits.items)"
   ]
  },
  {
   "cell_type": "code",
   "execution_count": 10,
   "metadata": {
    "collapsed": false
   },
   "outputs": [
    {
     "name": "stdout",
     "output_type": "stream",
     "text": [
      "{'a': 'apple', 'c': 'cherry', 'b': 'banana'}\n",
      "[('a', 'apple'), ('c', 'cherry'), ('b', 'banana')]\n"
     ]
    }
   ],
   "source": [
    "print my_fruits\n",
    "print my_fruits.items()"
   ]
  },
  {
   "cell_type": "code",
   "execution_count": 12,
   "metadata": {
    "collapsed": false
   },
   "outputs": [
    {
     "name": "stdout",
     "output_type": "stream",
     "text": [
      "Help on built-in function iteritems:\n",
      "\n",
      "iteritems(...)\n",
      "    D.iteritems() -> an iterator over the (key, value) items of D\n",
      "\n",
      "None\n"
     ]
    }
   ],
   "source": [
    "\n",
    "print help(my_fruits.iteritems)"
   ]
  },
  {
   "cell_type": "code",
   "execution_count": 13,
   "metadata": {
    "collapsed": false
   },
   "outputs": [
    {
     "name": "stdout",
     "output_type": "stream",
     "text": [
      "<dictionary-itemiterator object at 0x7fceb5f0eaa0>\n"
     ]
    }
   ],
   "source": [
    "print my_fruits.iteritems()"
   ]
  },
  {
   "cell_type": "code",
   "execution_count": 15,
   "metadata": {
    "collapsed": false
   },
   "outputs": [
    {
     "name": "stdout",
     "output_type": "stream",
     "text": [
      "a apple\n",
      "c cherry\n",
      "b banana\n"
     ]
    }
   ],
   "source": [
    "for key,value in my_fruits.iteritems():\n",
    "    print key,value"
   ]
  },
  {
   "cell_type": "code",
   "execution_count": 16,
   "metadata": {
    "collapsed": false
   },
   "outputs": [
    {
     "name": "stdout",
     "output_type": "stream",
     "text": [
      "Help on built-in function viewitems:\n",
      "\n",
      "viewitems(...)\n",
      "    D.viewitems() -> a set-like object providing a view on D's items\n",
      "\n",
      "None\n"
     ]
    }
   ],
   "source": [
    "# viewitems\n",
    "\n",
    "print help(my_fruits.viewitems)"
   ]
  },
  {
   "cell_type": "code",
   "execution_count": 17,
   "metadata": {
    "collapsed": false
   },
   "outputs": [
    {
     "name": "stdout",
     "output_type": "stream",
     "text": [
      "dict_items([('a', 'apple'), ('c', 'cherry'), ('b', 'banana')])\n"
     ]
    }
   ],
   "source": [
    "# template data for framework templates\n",
    "print my_fruits.viewitems()"
   ]
  },
  {
   "cell_type": "code",
   "execution_count": 18,
   "metadata": {
    "collapsed": false
   },
   "outputs": [
    {
     "name": "stdout",
     "output_type": "stream",
     "text": [
      "Help on built-in function keys:\n",
      "\n",
      "keys(...)\n",
      "    D.keys() -> list of D's keys\n",
      "\n",
      "None\n"
     ]
    }
   ],
   "source": [
    "# keys,iterkeys,viewkeys\n",
    "\n",
    "print help(my_fruits.keys)"
   ]
  },
  {
   "cell_type": "code",
   "execution_count": 19,
   "metadata": {
    "collapsed": false
   },
   "outputs": [
    {
     "name": "stdout",
     "output_type": "stream",
     "text": [
      "['a', 'c', 'b']\n"
     ]
    }
   ],
   "source": [
    "print my_fruits.keys()"
   ]
  },
  {
   "cell_type": "code",
   "execution_count": 20,
   "metadata": {
    "collapsed": false
   },
   "outputs": [
    {
     "name": "stdout",
     "output_type": "stream",
     "text": [
      "Help on built-in function iterkeys:\n",
      "\n",
      "iterkeys(...)\n",
      "    D.iterkeys() -> an iterator over the keys of D\n",
      "\n",
      "None\n"
     ]
    }
   ],
   "source": [
    "print help(my_fruits.iterkeys)\n"
   ]
  },
  {
   "cell_type": "code",
   "execution_count": 21,
   "metadata": {
    "collapsed": false
   },
   "outputs": [
    {
     "name": "stdout",
     "output_type": "stream",
     "text": [
      "<dictionary-keyiterator object at 0x7fceb5f28158>\n"
     ]
    }
   ],
   "source": [
    "print my_fruits.iterkeys()"
   ]
  },
  {
   "cell_type": "code",
   "execution_count": 22,
   "metadata": {
    "collapsed": false
   },
   "outputs": [
    {
     "name": "stdout",
     "output_type": "stream",
     "text": [
      "a\n",
      "c\n",
      "b\n"
     ]
    }
   ],
   "source": [
    "for key in my_fruits.iterkeys():\n",
    "    print key"
   ]
  },
  {
   "cell_type": "code",
   "execution_count": 23,
   "metadata": {
    "collapsed": false
   },
   "outputs": [
    {
     "name": "stdout",
     "output_type": "stream",
     "text": [
      "Help on built-in function viewkeys:\n",
      "\n",
      "viewkeys(...)\n",
      "    D.viewkeys() -> a set-like object providing a view on D's keys\n",
      "\n",
      "None\n"
     ]
    }
   ],
   "source": [
    "print help(my_fruits.viewkeys)"
   ]
  },
  {
   "cell_type": "code",
   "execution_count": 24,
   "metadata": {
    "collapsed": false
   },
   "outputs": [
    {
     "name": "stdout",
     "output_type": "stream",
     "text": [
      "dict_keys(['a', 'c', 'b'])\n"
     ]
    }
   ],
   "source": [
    "print my_fruits.viewkeys()"
   ]
  },
  {
   "cell_type": "code",
   "execution_count": null,
   "metadata": {
    "collapsed": true
   },
   "outputs": [],
   "source": [
    "# values,itervalues,viewvalues"
   ]
  },
  {
   "cell_type": "code",
   "execution_count": null,
   "metadata": {
    "collapsed": true
   },
   "outputs": [],
   "source": [
    "## copy\n",
    "#  -softcopy\n",
    "#  -deepcopy\n",
    "#  -shallowcopy"
   ]
  },
  {
   "cell_type": "code",
   "execution_count": 25,
   "metadata": {
    "collapsed": false
   },
   "outputs": [
    {
     "name": "stdout",
     "output_type": "stream",
     "text": [
      "[1, 2, 3] 140525801438240 [4, 5, 6] 140526175555664\n"
     ]
    }
   ],
   "source": [
    "# shallowcopy -> complex objects\n",
    "\n",
    "a = [1,2,3]\n",
    "b = [4,5,6]\n",
    "print a,id(a),b,id(b)"
   ]
  },
  {
   "cell_type": "code",
   "execution_count": 26,
   "metadata": {
    "collapsed": false
   },
   "outputs": [
    {
     "name": "stdout",
     "output_type": "stream",
     "text": [
      "[[1, 2, 3], [4, 5, 6]] 140525801451816\n",
      "[1, 2, 3] 140525801438240 [4, 5, 6] 140526175555664\n"
     ]
    }
   ],
   "source": [
    "Cc = [a,b]\n",
    "print Cc,id(Cc)\n",
    "print Cc[0],id(Cc[0]),Cc[1],id(Cc[1])"
   ]
  },
  {
   "cell_type": "code",
   "execution_count": 27,
   "metadata": {
    "collapsed": false
   },
   "outputs": [
    {
     "name": "stdout",
     "output_type": "stream",
     "text": [
      "[[1, 2, 3], [4, 5, 6]] 140525801451816\n",
      "[1, 2, 3] 140525801438240 [4, 5, 6] 140526175555664\n"
     ]
    }
   ],
   "source": [
    "# Softcopy\n",
    "\n",
    "Sc = Cc\n",
    "print Sc,id(Sc)\n",
    "print Sc[0],id(Sc[0]),Sc[1],id(Sc[1])"
   ]
  },
  {
   "cell_type": "code",
   "execution_count": 28,
   "metadata": {
    "collapsed": false
   },
   "outputs": [
    {
     "name": "stdout",
     "output_type": "stream",
     "text": [
      "[[1, 2, 3], [4, 5, 6]] 140525792504216\n",
      "[1, 2, 3] 140525792505368 [4, 5, 6] 140525801445784\n"
     ]
    }
   ],
   "source": [
    "# Deepcopy\n",
    "import copy\n",
    "Dc = copy.deepcopy(Cc)\n",
    "print Dc,id(Dc)\n",
    "print Dc[0],id(Dc[0]),Dc[1],id(Dc[1])"
   ]
  },
  {
   "cell_type": "code",
   "execution_count": 29,
   "metadata": {
    "collapsed": false
   },
   "outputs": [
    {
     "name": "stdout",
     "output_type": "stream",
     "text": [
      "[[1, 2, 3], [4, 5, 6]] 140525792571616\n",
      "[1, 2, 3] 140525801438240 [4, 5, 6] 140526175555664\n"
     ]
    }
   ],
   "source": [
    "# shallow copy\n",
    "import copy\n",
    "Ss = copy.copy(Cc)\n",
    "print Ss,id(Ss)\n",
    "print Ss[0],id(Ss[0]),Ss[1],id(Ss[1])"
   ]
  },
  {
   "cell_type": "code",
   "execution_count": null,
   "metadata": {
    "collapsed": true
   },
   "outputs": [],
   "source": [
    "# page1 -> [traiings,timing]\n",
    "# page2 -> [trainigs,cost]"
   ]
  },
  {
   "cell_type": "code",
   "execution_count": 31,
   "metadata": {
    "collapsed": false
   },
   "outputs": [
    {
     "name": "stdout",
     "output_type": "stream",
     "text": [
      "{'a': 'apple', 'c': 'cherry', 'b': 'banana'}\n",
      "Help on built-in function copy:\n",
      "\n",
      "copy(...)\n",
      "    D.copy() -> a shallow copy of D\n",
      "\n",
      "None\n"
     ]
    }
   ],
   "source": [
    "# copy\n",
    "print my_fruits\n",
    "print help(my_fruits.copy)"
   ]
  },
  {
   "cell_type": "code",
   "execution_count": 32,
   "metadata": {
    "collapsed": true
   },
   "outputs": [],
   "source": [
    "Dc = my_fruits.copy()"
   ]
  },
  {
   "cell_type": "code",
   "execution_count": 33,
   "metadata": {
    "collapsed": false
   },
   "outputs": [
    {
     "name": "stdout",
     "output_type": "stream",
     "text": [
      "{'a': 'apple', 'c': 'cherry', 'b': 'banana'} 140525801416976\n",
      "{'a': 'apple', 'c': 'cherry', 'b': 'banana'} 140525801479256\n"
     ]
    }
   ],
   "source": [
    "print Dc,id(Dc)\n",
    "print my_fruits,id(my_fruits)"
   ]
  },
  {
   "cell_type": "code",
   "execution_count": 35,
   "metadata": {
    "collapsed": false
   },
   "outputs": [
    {
     "name": "stdout",
     "output_type": "stream",
     "text": [
      "{}\n"
     ]
    }
   ],
   "source": [
    "# clear\n",
    "Dc.clear()\n",
    "print Dc"
   ]
  },
  {
   "cell_type": "code",
   "execution_count": 36,
   "metadata": {
    "collapsed": false
   },
   "outputs": [
    {
     "name": "stdout",
     "output_type": "stream",
     "text": [
      "Help on built-in function pop:\n",
      "\n",
      "pop(...)\n",
      "    D.pop(k[,d]) -> v, remove specified key and return the corresponding value.\n",
      "    If key is not found, d is returned if given, otherwise KeyError is raised\n",
      "\n",
      "None\n",
      "Help on built-in function popitem:\n",
      "\n",
      "popitem(...)\n",
      "    D.popitem() -> (k, v), remove and return some (key, value) pair as a\n",
      "    2-tuple; but raise KeyError if D is empty.\n",
      "\n",
      "None\n"
     ]
    }
   ],
   "source": [
    "# pop,popitem\n",
    "print help(my_fruits.pop)\n",
    "print help(my_fruits.popitem)"
   ]
  },
  {
   "cell_type": "code",
   "execution_count": 37,
   "metadata": {
    "collapsed": false
   },
   "outputs": [
    {
     "name": "stdout",
     "output_type": "stream",
     "text": [
      "apple\n"
     ]
    }
   ],
   "source": [
    "print my_fruits.pop('a')"
   ]
  },
  {
   "cell_type": "code",
   "execution_count": 39,
   "metadata": {
    "collapsed": false
   },
   "outputs": [
    {
     "ename": "KeyError",
     "evalue": "'a'",
     "output_type": "error",
     "traceback": [
      "\u001b[0;31m---------------------------------------------------------------------------\u001b[0m",
      "\u001b[0;31mKeyError\u001b[0m                                  Traceback (most recent call last)",
      "\u001b[0;32m<ipython-input-39-5d189acd1ac8>\u001b[0m in \u001b[0;36m<module>\u001b[0;34m()\u001b[0m\n\u001b[0;32m----> 1\u001b[0;31m \u001b[0;32mprint\u001b[0m \u001b[0mmy_fruits\u001b[0m\u001b[0;34m.\u001b[0m\u001b[0mpop\u001b[0m\u001b[0;34m(\u001b[0m\u001b[0;34m'a'\u001b[0m\u001b[0;34m)\u001b[0m\u001b[0;34m\u001b[0m\u001b[0m\n\u001b[0m",
      "\u001b[0;31mKeyError\u001b[0m: 'a'"
     ]
    }
   ],
   "source": [
    "print my_fruits.pop('a')"
   ]
  },
  {
   "cell_type": "code",
   "execution_count": 38,
   "metadata": {
    "collapsed": false
   },
   "outputs": [
    {
     "name": "stdout",
     "output_type": "stream",
     "text": [
      "{'c': 'cherry', 'b': 'banana'}\n"
     ]
    }
   ],
   "source": [
    "print my_fruits"
   ]
  },
  {
   "cell_type": "code",
   "execution_count": 41,
   "metadata": {
    "collapsed": false
   },
   "outputs": [
    {
     "data": {
      "text/plain": [
       "('c', 'cherry')"
      ]
     },
     "execution_count": 41,
     "metadata": {},
     "output_type": "execute_result"
    }
   ],
   "source": [
    "my_fruits.popitem()"
   ]
  },
  {
   "cell_type": "code",
   "execution_count": 42,
   "metadata": {
    "collapsed": false
   },
   "outputs": [
    {
     "name": "stdout",
     "output_type": "stream",
     "text": [
      "{'b': 'banana'}\n"
     ]
    }
   ],
   "source": [
    "print my_fruits"
   ]
  },
  {
   "cell_type": "code",
   "execution_count": 43,
   "metadata": {
    "collapsed": false
   },
   "outputs": [
    {
     "ename": "TypeError",
     "evalue": "pop expected at least 1 arguments, got 0",
     "output_type": "error",
     "traceback": [
      "\u001b[0;31m---------------------------------------------------------------------------\u001b[0m",
      "\u001b[0;31mTypeError\u001b[0m                                 Traceback (most recent call last)",
      "\u001b[0;32m<ipython-input-43-de3dc57389ab>\u001b[0m in \u001b[0;36m<module>\u001b[0;34m()\u001b[0m\n\u001b[0;32m----> 1\u001b[0;31m \u001b[0;32mprint\u001b[0m \u001b[0mmy_fruits\u001b[0m\u001b[0;34m.\u001b[0m\u001b[0mpop\u001b[0m\u001b[0;34m(\u001b[0m\u001b[0;34m)\u001b[0m\u001b[0;34m\u001b[0m\u001b[0m\n\u001b[0m",
      "\u001b[0;31mTypeError\u001b[0m: pop expected at least 1 arguments, got 0"
     ]
    }
   ],
   "source": [
    "print my_fruits.pop()"
   ]
  },
  {
   "cell_type": "code",
   "execution_count": null,
   "metadata": {
    "collapsed": true
   },
   "outputs": [],
   "source": []
  }
 ],
 "metadata": {
  "kernelspec": {
   "display_name": "Python 2",
   "language": "python",
   "name": "python2"
  },
  "language_info": {
   "codemirror_mode": {
    "name": "ipython",
    "version": 2
   },
   "file_extension": ".py",
   "mimetype": "text/x-python",
   "name": "python",
   "nbconvert_exporter": "python",
   "pygments_lexer": "ipython2",
   "version": "2.7.6"
  }
 },
 "nbformat": 4,
 "nbformat_minor": 1
}
