{
 "metadata": {
  "name": "",
  "signature": "sha256:ba77ef1ce3202651917e7e4e01974d15e2cd725a40889f831ec2d3aa56a39f49"
 },
 "nbformat": 3,
 "nbformat_minor": 0,
 "worksheets": [
  {
   "cells": [
    {
     "cell_type": "code",
     "collapsed": false,
     "input": [
      "# https://github.com/tuxfux-hlp/Python-examples/blob/master/opps/Good_links.txt"
     ],
     "language": "python",
     "metadata": {},
     "outputs": []
    },
    {
     "cell_type": "code",
     "collapsed": false,
     "input": [
      "# programming\n",
      "# functional programming.\n",
      "# object oriented programming."
     ],
     "language": "python",
     "metadata": {},
     "outputs": []
    },
    {
     "cell_type": "code",
     "collapsed": false,
     "input": [
      "# A P I E\n",
      "# A - Abstraction - how do you define your class object.\n",
      "# P - Polymorphism - Many forms\n",
      "# I - Inheritance\n",
      "# E - Encapsulation"
     ],
     "language": "python",
     "metadata": {},
     "outputs": []
    },
    {
     "cell_type": "code",
     "collapsed": false,
     "input": [
      "# All the below are examples of abstaraction.\n",
      "# example 1:\n",
      "# bankaccount  - class/classobj\n",
      "# - balance\n",
      "# + deposit()\n",
      "# + withdraw()\n",
      "# + Sintrest()\n",
      "\n",
      "# vipin    - 100,000 -> instance/object\n",
      "# madan    - 10,000\n",
      "# harshita - 1000"
     ],
     "language": "python",
     "metadata": {},
     "outputs": []
    },
    {
     "cell_type": "code",
     "collapsed": false,
     "input": [
      "# example 2:\n",
      "# villas ( blueprints) - class\n",
      "\n",
      "# villa1 -> yellow -> instance/objects\n",
      "# villa2 -> pink\n",
      "# villa3 -> green"
     ],
     "language": "python",
     "metadata": {},
     "outputs": []
    },
    {
     "cell_type": "code",
     "collapsed": false,
     "input": [
      "# Example 3:\n",
      "# automobiles\n",
      "# car (generic term) - class\n",
      "# - color\n",
      "# - body\n",
      "# - wheels\n",
      "# + break\n",
      "# + accleration\n",
      "# + clutch\n",
      "\n",
      "# car models\n",
      "# bmw           - instance/object\n",
      "# skoda\n",
      "# maruti\n",
      "# audi\n",
      "# benz\n",
      "# nano"
     ],
     "language": "python",
     "metadata": {},
     "outputs": []
    },
    {
     "cell_type": "code",
     "collapsed": false,
     "input": [
      "# Polymorphism\n",
      "\n",
      "print 2 + 3  # 5\n",
      "print '2' + '3' # 23\n",
      "\n",
      "# banks\n",
      "# intrest ( poly - many , morphism - forms)\n",
      "# home loan intrest\n",
      "# education loan intrest\n",
      "# saving loan intrest\n",
      "# personal loan intrest\n",
      "# ulip intrest."
     ],
     "language": "python",
     "metadata": {},
     "outputs": [
      {
       "output_type": "stream",
       "stream": "stdout",
       "text": [
        "5\n",
        "23\n"
       ]
      }
     ],
     "prompt_number": 1
    },
    {
     "cell_type": "code",
     "collapsed": false,
     "input": [
      "# Inheritance\n",
      "# the features or advantages u get from your parents\n",
      "\n",
      "# father( lefthanded,brownhair,blackeyes)\n",
      "# mother( righthanded,blondhair,blueeyes)\n",
      "\n",
      "# child is inheriting features from both mother and father.\n",
      "# child( lefhanded,blackhair,blueeyes)"
     ],
     "language": "python",
     "metadata": {},
     "outputs": []
    },
    {
     "cell_type": "code",
     "collapsed": false,
     "input": [
      "# Encapsulation\n",
      "# hiding of data. But we don't have it in python\n",
      "# getting the people to use function rather than data.\n",
      "\n",
      "# bankaccount\n",
      "# balance\n",
      "# deposit()\n",
      "# withdraw()\n",
      "\n",
      "# add money - i should not modify the balance account direclty, i should use the deposit() function.\n",
      "# withdraw money - i should not modify balance account direclty , i should use the withdraw() function.\n",
      "# we are more concerned with the functionality rather than the data.\n",
      "# pendrive - you plugin and see data. reading and writing data into the pendrive.\n"
     ],
     "language": "python",
     "metadata": {},
     "outputs": []
    },
    {
     "cell_type": "code",
     "collapsed": false,
     "input": [
      "# bankaccount for learning object oriented programming.\n",
      "\n",
      "# basic functional programming.\n",
      "balance = 0\n",
      "\n",
      "def deposit(amount):\n",
      "    global balance\n",
      "    balance = balance + amount\n",
      "\n",
      "def withdraw(amount):\n",
      "    global balance\n",
      "    balance = balance - amount\n",
      "    \n",
      "# Main\n",
      "# ramanji\n",
      "print \"balance of ramanji before deposit- {}\".format(balance)\n",
      "print \"depositing the amount into account - 1000\"\n",
      "deposit(1000)\n",
      "print \"withdraw the amount from the account - 300\"\n",
      "withdraw(300)\n",
      "print \"balance of ramanji after all transactions - {}\".format(balance)\n",
      "\n",
      "# Sunil\n",
      "print \"balance of sunil before deposit- {}\".format(balance)\n",
      "    "
     ],
     "language": "python",
     "metadata": {},
     "outputs": [
      {
       "output_type": "stream",
       "stream": "stdout",
       "text": [
        "balance of ramanji before deposit- 0\n",
        "depositing the amount into account - 1000\n",
        "withdraw the amount from the account - 300\n",
        "balance of ramanji after all transactions - 700\n",
        "balance of sunil before deposit- 700\n"
       ]
      }
     ],
     "prompt_number": 3
    },
    {
     "cell_type": "code",
     "collapsed": false,
     "input": [
      "# dictionary\n",
      "\n",
      "def account():\n",
      "    return {'balance':0}\n",
      "\n",
      "def deposit(account,amount):\n",
      "    account['balance'] =  account['balance'] + amount\n",
      "\n",
      "def withdraw(account,amount):\n",
      "    account['balance'] =  account['balance'] - amount\n",
      "    \n",
      "# Main\n",
      "ramji = account() # ramji = {balance:0} , ramji['balance']\n",
      "print ramji\n",
      "print \"balance of ramji is {}\".format(ramji['balance'])\n",
      "print \"depositing the amount into account - 1000\"\n",
      "deposit(ramji,1000)\n",
      "print \"withdraw then amount from the account - 300\"\n",
      "withdraw(ramji,300)\n",
      "print \"balance of ramanji after all transactions - {}\".format(ramji['balance'])\n",
      "\n",
      "sunil = account()\n",
      "print sunil\n",
      "print \"balance of sunil is {}\".format(sunil['balance'])"
     ],
     "language": "python",
     "metadata": {},
     "outputs": [
      {
       "output_type": "stream",
       "stream": "stdout",
       "text": [
        "{'balance': 0}\n",
        "balance of ramji is 0\n",
        "depositing the amount into account - 1000\n",
        "withdraw then amount from the account - 300\n",
        "balance of ramanji after all transactions - 700\n",
        "{'balance': 0}\n",
        "balance of sunil is 0\n"
       ]
      }
     ],
     "prompt_number": 6
    },
    {
     "cell_type": "code",
     "collapsed": false,
     "input": [
      "# object oriented concept."
     ],
     "language": "python",
     "metadata": {},
     "outputs": []
    },
    {
     "cell_type": "code",
     "collapsed": false,
     "input": [
      "# self represents the object itself.\n",
      "\n",
      "# Abstraction of a class account.\n",
      "# class is a keyword to begin your object oriented programming.\n",
      "# bal -> variables/sdata\n",
      "# deposit,withdraw,my_balance -> methods of class.\n",
      "# Madhav,Madan -> objects/instances\n",
      "# self -> represents the objects itself.\n",
      "\n",
      "# class account(object):\n",
      "class account:                                # class\n",
      "    bal = 0\n",
      "    def deposit(self,amount):                 # methods\n",
      "        self.bal = self.bal + amount\n",
      "    def withdraw(self,amount):                # methods\n",
      "        self.bal = self.bal - amount\n",
      "    def my_balance(self):                     # methods\n",
      "        print \"my balance is {}\".format(self.bal)\n",
      "        \n",
      "print type(account)   # 'classobj'/class\n",
      "print type(account()) #  'instance'/object\n",
      "\n",
      "# Madhav - instance/object\n",
      "Madhav=account()\n",
      "print dir(Madhav)\n",
      "Madhav.deposit(1000)\n",
      "\n",
      "\n",
      "# Madan - instance/object\n",
      "Madan=account()\n",
      "print dir(Madan)\n",
      "Madan.deposit(2000)"
     ],
     "language": "python",
     "metadata": {},
     "outputs": [
      {
       "output_type": "stream",
       "stream": "stdout",
       "text": [
        "<type 'classobj'>\n",
        "<type 'instance'>\n",
        "['__doc__', '__module__', 'bal', 'deposit', 'my_balance', 'withdraw']\n",
        "['__doc__', '__module__', 'bal', 'deposit', 'my_balance', 'withdraw']\n"
       ]
      }
     ],
     "prompt_number": 21
    },
    {
     "cell_type": "code",
     "collapsed": false,
     "input": [
      "Madhav.my_balance()"
     ],
     "language": "python",
     "metadata": {},
     "outputs": [
      {
       "ename": "NameError",
       "evalue": "global name 'bal' is not defined",
       "output_type": "pyerr",
       "traceback": [
        "\u001b[0;31m---------------------------------------------------------------------------\u001b[0m\n\u001b[0;31mNameError\u001b[0m                                 Traceback (most recent call last)",
        "\u001b[0;32m<ipython-input-15-15812316265d>\u001b[0m in \u001b[0;36m<module>\u001b[0;34m()\u001b[0m\n\u001b[0;32m----> 1\u001b[0;31m \u001b[0mMadhav\u001b[0m\u001b[0;34m.\u001b[0m\u001b[0mmy_balance\u001b[0m\u001b[0;34m(\u001b[0m\u001b[0;34m)\u001b[0m\u001b[0;34m\u001b[0m\u001b[0m\n\u001b[0m",
        "\u001b[0;32m<ipython-input-14-dcc5e40c1a80>\u001b[0m in \u001b[0;36mmy_balance\u001b[0;34m(self)\u001b[0m\n\u001b[1;32m      6\u001b[0m         \u001b[0mself\u001b[0m\u001b[0;34m.\u001b[0m\u001b[0mbal\u001b[0m \u001b[0;34m=\u001b[0m \u001b[0mself\u001b[0m\u001b[0;34m.\u001b[0m\u001b[0mbal\u001b[0m \u001b[0;34m-\u001b[0m \u001b[0mamount\u001b[0m\u001b[0;34m\u001b[0m\u001b[0m\n\u001b[1;32m      7\u001b[0m     \u001b[0;32mdef\u001b[0m \u001b[0mmy_balance\u001b[0m\u001b[0;34m(\u001b[0m\u001b[0mself\u001b[0m\u001b[0;34m)\u001b[0m\u001b[0;34m:\u001b[0m\u001b[0;34m\u001b[0m\u001b[0m\n\u001b[0;32m----> 8\u001b[0;31m         \u001b[0;32mprint\u001b[0m \u001b[0;34m\"my balance is {}\"\u001b[0m\u001b[0;34m.\u001b[0m\u001b[0mformat\u001b[0m\u001b[0;34m(\u001b[0m\u001b[0mbal\u001b[0m\u001b[0;34m)\u001b[0m\u001b[0;34m\u001b[0m\u001b[0m\n\u001b[0m\u001b[1;32m      9\u001b[0m \u001b[0;34m\u001b[0m\u001b[0m\n\u001b[1;32m     10\u001b[0m \u001b[0;32mprint\u001b[0m \u001b[0mtype\u001b[0m\u001b[0;34m(\u001b[0m\u001b[0maccount\u001b[0m\u001b[0;34m)\u001b[0m   \u001b[0;31m# 'classobj'/class\u001b[0m\u001b[0;34m\u001b[0m\u001b[0m\n",
        "\u001b[0;31mNameError\u001b[0m: global name 'bal' is not defined"
       ]
      }
     ],
     "prompt_number": 15
    },
    {
     "cell_type": "code",
     "collapsed": false,
     "input": [
      "Madhav.my_balance()"
     ],
     "language": "python",
     "metadata": {},
     "outputs": [
      {
       "output_type": "stream",
       "stream": "stdout",
       "text": [
        "my balance is 1000\n"
       ]
      }
     ],
     "prompt_number": 19
    },
    {
     "cell_type": "code",
     "collapsed": false,
     "input": [
      "Madan.my_balance()"
     ],
     "language": "python",
     "metadata": {},
     "outputs": [
      {
       "output_type": "stream",
       "stream": "stdout",
       "text": [
        "my balance is 2000\n"
       ]
      }
     ],
     "prompt_number": 22
    },
    {
     "cell_type": "code",
     "collapsed": false,
     "input": [
      "# Methods\n",
      "# important method - constructor. __init__\n",
      "# The first function to get into action, when you create an object is called constructor.\n",
      "\n",
      "# class account(object):\n",
      "class newaccount:# class\n",
      "    def __init__(self,minbal):                # Method/constructor\n",
      "        self.bal = minbal\n",
      "    def deposit(self,amount):                 # methods\n",
      "        self.bal = self.bal + amount\n",
      "    def withdraw(self,amount):                # methods\n",
      "        self.bal = self.bal - amount\n",
      "    def my_balance(self):                     # methods\n",
      "        print \"my balance is {}\".format(self.bal)"
     ],
     "language": "python",
     "metadata": {},
     "outputs": [],
     "prompt_number": 23
    },
    {
     "cell_type": "code",
     "collapsed": false,
     "input": [
      "# Anil\n",
      "# salaried\n",
      "\n",
      "# constructor is the first function/method which gets called when you try to access the Anil account.\n",
      "Anil = newaccount(minbal=0)\n",
      "print dir(Anil)\n",
      "Anil.my_balance()\n",
      "\n",
      "# Harshita\n",
      "# student\n",
      "Harshita = newaccount(minbal=10000)\n",
      "print dir(Harshita)\n",
      "Harshita.my_balance()"
     ],
     "language": "python",
     "metadata": {},
     "outputs": [
      {
       "output_type": "stream",
       "stream": "stdout",
       "text": [
        "['__doc__', '__init__', '__module__', 'bal', 'deposit', 'my_balance', 'withdraw']\n",
        "my balance is 0\n",
        "['__doc__', '__init__', '__module__', 'bal', 'deposit', 'my_balance', 'withdraw']\n",
        "my balance is 10000\n"
       ]
      }
     ],
     "prompt_number": 27
    },
    {
     "cell_type": "code",
     "collapsed": false,
     "input": [
      "# Inheritance\n",
      "# the features or advantages u get from your parents\n",
      "\n",
      "# father( lefthanded,brownhair,blackeyes)\n",
      "# mother( righthanded,blondhair,blueeyes)\n",
      "\n",
      "# child is inheriting features from both mother and father.\n",
      "# child( lefhanded,blackhair,blueeyes)\n",
      "\n",
      "class Father:\n",
      "    hand=\"lefty\"\n",
      "    hair=\"brown\"\n",
      "class Mother:\n",
      "    hand=\"right\"\n",
      "    hair=\"blond\"\n",
      "    eyes=\"blue\"\n",
      "    \n",
      "class child(Father,Mother):\n",
      "    hair=\"black\"\n",
      "    \n",
      "# Main\n",
      "Kumar = child()\n",
      "print dir(Kumar)\n",
      "print Kumar.hair\n",
      "print Kumar.hand\n",
      "print Kumar.eyes\n",
      "\n"
     ],
     "language": "python",
     "metadata": {},
     "outputs": [
      {
       "output_type": "stream",
       "stream": "stdout",
       "text": [
        "['__doc__', '__module__', 'eyes', 'hair', 'hand']\n",
        "black\n",
        "lefty\n",
        "blue\n"
       ]
      }
     ],
     "prompt_number": 31
    },
    {
     "cell_type": "code",
     "collapsed": false,
     "input": [
      "raise santosh"
     ],
     "language": "python",
     "metadata": {},
     "outputs": [
      {
       "ename": "NameError",
       "evalue": "name 'santosh' is not defined",
       "output_type": "pyerr",
       "traceback": [
        "\u001b[0;31m---------------------------------------------------------------------------\u001b[0m\n\u001b[0;31mNameError\u001b[0m                                 Traceback (most recent call last)",
        "\u001b[0;32m<ipython-input-36-460ec4d018fb>\u001b[0m in \u001b[0;36m<module>\u001b[0;34m()\u001b[0m\n\u001b[0;32m----> 1\u001b[0;31m \u001b[0;32mraise\u001b[0m \u001b[0msantosh\u001b[0m\u001b[0;34m\u001b[0m\u001b[0m\n\u001b[0m",
        "\u001b[0;31mNameError\u001b[0m: name 'santosh' is not defined"
       ]
      }
     ],
     "prompt_number": 36
    },
    {
     "cell_type": "code",
     "collapsed": false,
     "input": [
      "# santosh is inherting the features of the Exception class.\n",
      "class santosh(Exception):\n",
      "    pass\n",
      "\n",
      "raise santosh,\"I am back\""
     ],
     "language": "python",
     "metadata": {},
     "outputs": [
      {
       "ename": "santosh",
       "evalue": "I am back",
       "output_type": "pyerr",
       "traceback": [
        "\u001b[0;31m---------------------------------------------------------------------------\u001b[0m\n\u001b[0;31msantosh\u001b[0m                                   Traceback (most recent call last)",
        "\u001b[0;32m<ipython-input-37-5a7018151859>\u001b[0m in \u001b[0;36m<module>\u001b[0;34m()\u001b[0m\n\u001b[1;32m      2\u001b[0m     \u001b[0;32mpass\u001b[0m\u001b[0;34m\u001b[0m\u001b[0m\n\u001b[1;32m      3\u001b[0m \u001b[0;34m\u001b[0m\u001b[0m\n\u001b[0;32m----> 4\u001b[0;31m \u001b[0;32mraise\u001b[0m \u001b[0msantosh\u001b[0m\u001b[0;34m,\u001b[0m\u001b[0;34m\"I am back\"\u001b[0m\u001b[0;34m\u001b[0m\u001b[0m\n\u001b[0m",
        "\u001b[0;31msantosh\u001b[0m: I am back"
       ]
      }
     ],
     "prompt_number": 37
    },
    {
     "cell_type": "code",
     "collapsed": false,
     "input": [
      "# example\n",
      "# Movies\n",
      "# A,U,A/U 18yrs and above. \n",
      "\n",
      "age = input(\"please enter your age:\")\n",
      "\n",
      "class InvalidAgeError(Exception):\n",
      "    def __init__(age):\n",
      "        self.age = age\n",
      "\n",
      "def validate_age(age):\n",
      "    if age < 18:\n",
      "        raise InvalidAgeError(age)\n",
      "    else:\n",
      "        return \"you are old enough to see the movie- {}\".format(age)\n",
      "    \n",
      "    \n",
      "try:\n",
      "    validate_age(age)\n",
      "except Exception as e:\n",
      "    print \"you are not allowed to watch the movie {}\".format(e.age)\n",
      "else:\n",
      "    print validate_age(age)\n",
      "\n",
      "    \n",
      "        \n"
     ],
     "language": "python",
     "metadata": {},
     "outputs": [
      {
       "name": "stdout",
       "output_type": "stream",
       "stream": "stdout",
       "text": [
        "please enter your age:23\n"
       ]
      },
      {
       "output_type": "stream",
       "stream": "stdout",
       "text": [
        "you are old enough to see the movie- 23\n"
       ]
      }
     ],
     "prompt_number": 33
    },
    {
     "cell_type": "code",
     "collapsed": false,
     "input": [
      "# example\n",
      "# Movies\n",
      "# A,U,A/U 18yrs and above. \n",
      "\n",
      "age = input(\"please enter your age:\")\n",
      "\n",
      "# i created a custome exception called InvalidAgeError\n",
      "# parent exception is Exception.\n",
      "# child is InvalidAgeError\n",
      "\n",
      "class InvalidAgeError(Exception):\n",
      "    def __init__(self,age):\n",
      "        self.age = age\n",
      "\n",
      "def validate_age(age):\n",
      "    if age < 18:\n",
      "        raise InvalidAgeError(age)\n",
      "    else:\n",
      "        return \"you are old enough to see the movie- {}\".format(age)\n",
      "    \n",
      "    \n",
      "try:\n",
      "    validate_age(age)\n",
      "except Exception as e:\n",
      "    print \"you are not allowed to watch the movie {}\".format(e.age)\n",
      "else:\n",
      "    print validate_age(age)\n",
      "\n",
      "    \n",
      "        "
     ],
     "language": "python",
     "metadata": {},
     "outputs": [
      {
       "name": "stdout",
       "output_type": "stream",
       "stream": "stdout",
       "text": [
        "please enter your age:12\n"
       ]
      },
      {
       "output_type": "stream",
       "stream": "stdout",
       "text": [
        "you are not allowed to watch the movie 12\n"
       ]
      }
     ],
     "prompt_number": 35
    },
    {
     "cell_type": "code",
     "collapsed": false,
     "input": [
      "# inheritance example on the bank\n",
      "# ICICI account\n",
      "# for salaried people - you can keep a zero balance or you can get a overdraft.\n",
      "# for non-salaried people - we need to maintain a minimum balance.\n",
      "\n",
      "# class account(object):\n",
      "class account:                                # class\n",
      "    def __init__(self):                       # special method - constructor\n",
      "        self.bal = 0\n",
      "    def deposit(self,amount):                 # methods\n",
      "        self.bal = self.bal + amount\n",
      "    def withdraw(self,amount):                # methods\n",
      "        self.bal = self.bal - amount\n",
      "    def my_balance(self):                     # methods\n",
      "        print \"my balance is {}\".format(self.bal)\n",
      "    \n",
      "# you can inherit data and method from parents class but , you need to import the constructor(__init__) explicity.\n",
      "class minaccount(account):\n",
      "    def __init__(self):\n",
      "        account.__init__(self)\n",
      "    def withdraw(self,amount):\n",
      "        if self.bal - amount < 1000:\n",
      "            return \"buddy!!! you need to call your daddy\"\n",
      "        else:\n",
      "            account.withdraw(self,amount)\n",
      "    \n",
      "# inheritance - minaccount is child of account class.\n",
      "# Polymorphism - so we have withdraw() both in account and also minaccount.\n",
      "# both function have different functionlities , its called as polymorphic\n",
      "# There is an order of looking for functions.\n",
      "# Harshita.my_balance() , first its looks into the minaccount class and later it looks into the account class\n",
      "    \n",
      "    \n",
      "# kumar\n",
      "kumar = account()\n",
      "kumar.my_balance()\n",
      "kumar.withdraw(1000)\n",
      "kumar.my_balance()\n",
      "\n",
      "# Harshita - you have to manage a min balance of 1000 rupees\n",
      "Harshita = minaccount()\n",
      "Harshita.my_balance()\n",
      "Harshita.deposit(2000)\n",
      "Harshita.my_balance()\n",
      "Harshita.withdraw(1500)"
     ],
     "language": "python",
     "metadata": {},
     "outputs": [
      {
       "output_type": "stream",
       "stream": "stdout",
       "text": [
        "my balance is 0\n",
        "my balance is -1000\n",
        "my balance is 0\n",
        "my balance is 2000\n"
       ]
      },
      {
       "metadata": {},
       "output_type": "pyout",
       "prompt_number": 45,
       "text": [
        "'buddy!!! you need to call your daddy'"
       ]
      }
     ],
     "prompt_number": 45
    },
    {
     "cell_type": "code",
     "collapsed": false,
     "input": [
      "Harshita.withdraw(800)"
     ],
     "language": "python",
     "metadata": {},
     "outputs": [],
     "prompt_number": 46
    },
    {
     "cell_type": "code",
     "collapsed": false,
     "input": [
      "Harshita.my_balance()"
     ],
     "language": "python",
     "metadata": {},
     "outputs": [
      {
       "output_type": "stream",
       "stream": "stdout",
       "text": [
        "my balance is 1200\n"
       ]
      }
     ],
     "prompt_number": 47
    },
    {
     "cell_type": "code",
     "collapsed": false,
     "input": [
      "# Polymorphism\n",
      "# magic methods : https://github.com/RafeKettler/magicmethods\n",
      "# https://github.com/RafeKettler/magicmethods/blob/master/magicmethods.pdf\n",
      "\n",
      "print 3 + 2\n",
      "print '3' + '2'"
     ],
     "language": "python",
     "metadata": {},
     "outputs": [
      {
       "output_type": "stream",
       "stream": "stdout",
       "text": [
        "5\n",
        "32\n"
       ]
      }
     ],
     "prompt_number": 48
    },
    {
     "cell_type": "code",
     "collapsed": false,
     "input": [
      "a = 3\n",
      "b = 2\n",
      "print type(a),type(b) # a,b are instances/objects of 'int' class\n",
      "print dir(a)\n",
      "print a + b\n",
      "print a.__add__(b)"
     ],
     "language": "python",
     "metadata": {},
     "outputs": [
      {
       "output_type": "stream",
       "stream": "stdout",
       "text": [
        "<type 'int'> <type 'int'>\n",
        "['__abs__', '__add__', '__and__', '__class__', '__cmp__', '__coerce__', '__delattr__', '__div__', '__divmod__', '__doc__', '__float__', '__floordiv__', '__format__', '__getattribute__', '__getnewargs__', '__hash__', '__hex__', '__index__', '__init__', '__int__', '__invert__', '__long__', '__lshift__', '__mod__', '__mul__', '__neg__', '__new__', '__nonzero__', '__oct__', '__or__', '__pos__', '__pow__', '__radd__', '__rand__', '__rdiv__', '__rdivmod__', '__reduce__', '__reduce_ex__', '__repr__', '__rfloordiv__', '__rlshift__', '__rmod__', '__rmul__', '__ror__', '__rpow__', '__rrshift__', '__rshift__', '__rsub__', '__rtruediv__', '__rxor__', '__setattr__', '__sizeof__', '__str__', '__sub__', '__subclasshook__', '__truediv__', '__trunc__', '__xor__', 'bit_length', 'conjugate', 'denominator', 'imag', 'numerator', 'real']\n",
        "5\n",
        "5\n"
       ]
      }
     ],
     "prompt_number": 54
    },
    {
     "cell_type": "code",
     "collapsed": false,
     "input": [
      "c = '3'\n",
      "b = '2'\n",
      "print type(c),type(b) # c,b are instances/objects of 'str' class\n",
      "print c.__add__(b)"
     ],
     "language": "python",
     "metadata": {},
     "outputs": [
      {
       "output_type": "stream",
       "stream": "stdout",
       "text": [
        "<type 'str'> <type 'str'>\n",
        "32\n"
       ]
      }
     ],
     "prompt_number": 56
    },
    {
     "cell_type": "code",
     "collapsed": false,
     "input": [
      "# Adding two Rational number\n",
      "# 1/5 + 1/2 = 7/10 = (1 * 2 ) + (5 * 1) / 5 * 2 = 7/10\n",
      "# http://anandology.com/python-practice-book/object_oriented_programming.html#special-class-methods"
     ],
     "language": "python",
     "metadata": {},
     "outputs": [],
     "prompt_number": 57
    },
    {
     "cell_type": "code",
     "collapsed": false,
     "input": [
      "print 1/5 + 1/2\n",
      "print 1/5.0 + 1/2.0"
     ],
     "language": "python",
     "metadata": {},
     "outputs": [
      {
       "output_type": "stream",
       "stream": "stdout",
       "text": [
        "0\n",
        "0.7\n"
       ]
      }
     ],
     "prompt_number": 59
    },
    {
     "cell_type": "code",
     "collapsed": false,
     "input": [
      "class RationalNumber:\n",
      "    \"\"\"\n",
      "    Rational Numbers with support for arthmetic operations.\n",
      "\n",
      "        >>> a = RationalNumber(1, 2)\n",
      "        >>> b = RationalNumber(1, 3)\n",
      "        >>> a + b\n",
      "        5/6\n",
      "        >>> a - b\n",
      "        1/6\n",
      "        >>> a * b\n",
      "        1/6\n",
      "        >>> a/b\n",
      "        3/2\n",
      "    \"\"\"\n",
      "    def __init__(self, numerator, denominator=1):   # constructor\n",
      "        self.n = numerator\n",
      "        self.d = denominator\n",
      "\n",
      "    def __add__(self, other):\n",
      "        if not isinstance(other, RationalNumber):\n",
      "            other = RationalNumber(other)\n",
      "\n",
      "        n = self.n * other.d + self.d * other.n\n",
      "        d = self.d * other.d\n",
      "        return RationalNumber(n, d)\n",
      "    \n",
      "    def __str__(self):\n",
      "        return \"%s/%s\" % (self.n, self.d)\n",
      "\n",
      "    __repr__ = __str__"
     ],
     "language": "python",
     "metadata": {},
     "outputs": [],
     "prompt_number": 60
    },
    {
     "cell_type": "code",
     "collapsed": false,
     "input": [
      "a = RationalNumber(1,5)  # a.n = 1,a.d=5\n",
      "b = RationalNumber(1,2)  # b.n = 1,b.d=2\n",
      "print a + b # + is calling __add__ by default\n",
      "            # a.__add__(b)"
     ],
     "language": "python",
     "metadata": {},
     "outputs": [
      {
       "output_type": "stream",
       "stream": "stdout",
       "text": [
        "7/10\n"
       ]
      }
     ],
     "prompt_number": 62
    },
    {
     "cell_type": "code",
     "collapsed": false,
     "input": [
      "c = RationalNumber(1,5)  \n",
      "d = 2\n",
      "print c + d"
     ],
     "language": "python",
     "metadata": {},
     "outputs": [
      {
       "output_type": "stream",
       "stream": "stdout",
       "text": [
        "11/5\n"
       ]
      }
     ],
     "prompt_number": 63
    },
    {
     "cell_type": "code",
     "collapsed": false,
     "input": [
      "e = 12\n",
      "f = 13\n",
      "print e + f"
     ],
     "language": "python",
     "metadata": {},
     "outputs": [
      {
       "output_type": "stream",
       "stream": "stdout",
       "text": [
        "25\n"
       ]
      }
     ],
     "prompt_number": 64
    },
    {
     "cell_type": "code",
     "collapsed": false,
     "input": [
      "# encapsulation\n",
      "# http://radek.io/2011/07/21/private-protected-and-public-in-python/\n",
      "# https://importantshock.wordpress.com/2006/11/03/adventures-in-pythonic-encapsulation/\n",
      "\n",
      "# encapsulation is all about functionality rather than directly accessing the data.\n",
      "# public,protected,private\n",
      "# Python doesn\u2019t have any mechanisms, that would effectively restrict you from accessing a \n",
      "# variable or calling a member method. All of this is a matter of culture and convention.\n"
     ],
     "language": "python",
     "metadata": {},
     "outputs": []
    },
    {
     "cell_type": "code",
     "collapsed": false,
     "input": [
      "# Cup class containts only public variables.Everyone can access them.\n",
      "class Cup:\n",
      "    def __init__(self):       # methods\n",
      "        self.content = None   # data\n",
      "        self.color = None     # data\n",
      "    def fill(self,drink):     # mothods\n",
      "        self.content = drink\n",
      "    def empty(self):  # methods\n",
      "        self.content=None"
     ],
     "language": "python",
     "metadata": {},
     "outputs": [],
     "prompt_number": 12
    },
    {
     "cell_type": "code",
     "collapsed": false,
     "input": [
      "RedCup = Cup()"
     ],
     "language": "python",
     "metadata": {},
     "outputs": [],
     "prompt_number": 14
    },
    {
     "cell_type": "code",
     "collapsed": false,
     "input": [
      "print dir(RedCup)"
     ],
     "language": "python",
     "metadata": {},
     "outputs": [
      {
       "output_type": "stream",
       "stream": "stdout",
       "text": [
        "['__doc__', '__init__', '__module__', 'color', 'content', 'empty', 'fill']\n"
       ]
      }
     ],
     "prompt_number": 3
    },
    {
     "cell_type": "code",
     "collapsed": false,
     "input": [
      "RedCup.content=\"cofee\"\n",
      "RedCup.color=\"Red\"\n"
     ],
     "language": "python",
     "metadata": {},
     "outputs": [],
     "prompt_number": 4
    },
    {
     "cell_type": "code",
     "collapsed": false,
     "input": [
      "print RedCup.content\n",
      "print RedCup.color"
     ],
     "language": "python",
     "metadata": {},
     "outputs": [
      {
       "output_type": "stream",
       "stream": "stdout",
       "text": [
        "cofee\n",
        "Red\n"
       ]
      }
     ],
     "prompt_number": 6
    },
    {
     "cell_type": "code",
     "collapsed": false,
     "input": [
      "RedCup.fill(\"tea\")"
     ],
     "language": "python",
     "metadata": {},
     "outputs": [],
     "prompt_number": 7
    },
    {
     "cell_type": "code",
     "collapsed": false,
     "input": [
      "print RedCup.content"
     ],
     "language": "python",
     "metadata": {},
     "outputs": [
      {
       "output_type": "stream",
       "stream": "stdout",
       "text": [
        "tea\n"
       ]
      }
     ],
     "prompt_number": 9
    },
    {
     "cell_type": "code",
     "collapsed": false,
     "input": [
      "RedCup.empty()\n",
      "print RedCup.content"
     ],
     "language": "python",
     "metadata": {},
     "outputs": [
      {
       "output_type": "stream",
       "stream": "stdout",
       "text": [
        "None\n"
       ]
      }
     ],
     "prompt_number": 15
    },
    {
     "cell_type": "code",
     "collapsed": false,
     "input": [
      "# Protected\n",
      "# putting a _ before a variable literally makes it private.\n",
      "# you should access the private variable only from within a class or subclass.\n",
      "# using of a _<variable> literally changes nothing. Its just a convention to use the private variables only using method of the \n",
      "# class.\n",
      "\n",
      "class Cup:\n",
      "    def __init__(self):       # methods\n",
      "        self._content = None   # Protected\n",
      "        self.color = None     # data\n",
      "    def fill(self,drink):     # mothods\n",
      "        self._content = drink\n",
      "    def empty(self):  # methods\n",
      "        self._content=None"
     ],
     "language": "python",
     "metadata": {},
     "outputs": [],
     "prompt_number": 16
    },
    {
     "cell_type": "code",
     "collapsed": false,
     "input": [
      "BlueCup = Cup()"
     ],
     "language": "python",
     "metadata": {},
     "outputs": [],
     "prompt_number": 17
    },
    {
     "cell_type": "code",
     "collapsed": false,
     "input": [
      "print dir(BlueCup)"
     ],
     "language": "python",
     "metadata": {},
     "outputs": [
      {
       "output_type": "stream",
       "stream": "stdout",
       "text": [
        "['__doc__', '__init__', '__module__', '_content', 'color', 'empty', 'fill']\n"
       ]
      }
     ],
     "prompt_number": 18
    },
    {
     "cell_type": "code",
     "collapsed": false,
     "input": [
      "#  _content is declared a private variable and should not be touched directly."
     ],
     "language": "python",
     "metadata": {},
     "outputs": [],
     "prompt_number": 19
    },
    {
     "cell_type": "code",
     "collapsed": false,
     "input": [
      "# what i expect others(collegus/programmes) to do.\n",
      "BlueCup.color = \"blue\""
     ],
     "language": "python",
     "metadata": {},
     "outputs": [],
     "prompt_number": 20
    },
    {
     "cell_type": "code",
     "collapsed": false,
     "input": [
      "BlueCup.fill('boost')"
     ],
     "language": "python",
     "metadata": {},
     "outputs": [],
     "prompt_number": 21
    },
    {
     "cell_type": "code",
     "collapsed": false,
     "input": [
      "BlueCup._content"
     ],
     "language": "python",
     "metadata": {},
     "outputs": [
      {
       "metadata": {},
       "output_type": "pyout",
       "prompt_number": 22,
       "text": [
        "'boost'"
       ]
      }
     ],
     "prompt_number": 22
    },
    {
     "cell_type": "code",
     "collapsed": false,
     "input": [
      "BlueCup.empty()\n",
      "print BlueCup._content"
     ],
     "language": "python",
     "metadata": {},
     "outputs": [
      {
       "output_type": "stream",
       "stream": "stdout",
       "text": [
        "None\n"
       ]
      }
     ],
     "prompt_number": 23
    },
    {
     "cell_type": "code",
     "collapsed": false,
     "input": [
      "# fun part\n",
      "BlueCup._content = \"pepsi\""
     ],
     "language": "python",
     "metadata": {},
     "outputs": [],
     "prompt_number": 24
    },
    {
     "cell_type": "code",
     "collapsed": false,
     "input": [
      "print BlueCup._content"
     ],
     "language": "python",
     "metadata": {},
     "outputs": [
      {
       "output_type": "stream",
       "stream": "stdout",
       "text": [
        "pepsi\n"
       ]
      }
     ],
     "prompt_number": 25
    },
    {
     "cell_type": "code",
     "collapsed": false,
     "input": [
      "# Private\n",
      "# A private variable can have a two underscores before the variable : __variable\n",
      "\n",
      "class Cup:\n",
      "    def __init__(self):       # methods\n",
      "        self.__content = None   # Private\n",
      "        self.color = None     # data\n",
      "    def fill(self,drink):     # mothods\n",
      "        self.__content = drink\n",
      "    def empty(self):  # methods\n",
      "        self.__content=None\n",
      "    def contains(self):\n",
      "        return self.__content"
     ],
     "language": "python",
     "metadata": {},
     "outputs": [],
     "prompt_number": 31
    },
    {
     "cell_type": "code",
     "collapsed": false,
     "input": [
      "YellowCup = Cup()"
     ],
     "language": "python",
     "metadata": {},
     "outputs": [],
     "prompt_number": 36
    },
    {
     "cell_type": "code",
     "collapsed": false,
     "input": [
      "YellowCup.fill(\"horlicks\")"
     ],
     "language": "python",
     "metadata": {},
     "outputs": [],
     "prompt_number": 37
    },
    {
     "cell_type": "code",
     "collapsed": false,
     "input": [
      "YellowCup.__content"
     ],
     "language": "python",
     "metadata": {},
     "outputs": [
      {
       "ename": "AttributeError",
       "evalue": "Cup instance has no attribute '__content'",
       "output_type": "pyerr",
       "traceback": [
        "\u001b[0;31m---------------------------------------------------------------------------\u001b[0m\n\u001b[0;31mAttributeError\u001b[0m                            Traceback (most recent call last)",
        "\u001b[0;32m<ipython-input-38-f890fea35274>\u001b[0m in \u001b[0;36m<module>\u001b[0;34m()\u001b[0m\n\u001b[0;32m----> 1\u001b[0;31m \u001b[0mYellowCup\u001b[0m\u001b[0;34m.\u001b[0m\u001b[0m__content\u001b[0m\u001b[0;34m\u001b[0m\u001b[0m\n\u001b[0m",
        "\u001b[0;31mAttributeError\u001b[0m: Cup instance has no attribute '__content'"
       ]
      }
     ],
     "prompt_number": 38
    },
    {
     "cell_type": "code",
     "collapsed": false,
     "input": [
      "print YellowCup.contains()"
     ],
     "language": "python",
     "metadata": {},
     "outputs": [
      {
       "output_type": "stream",
       "stream": "stdout",
       "text": [
        "horlicks\n"
       ]
      }
     ],
     "prompt_number": 39
    },
    {
     "cell_type": "code",
     "collapsed": false,
     "input": [
      "# Name Mangling\n",
      "print dir(YellowCup)"
     ],
     "language": "python",
     "metadata": {},
     "outputs": [
      {
       "output_type": "stream",
       "stream": "stdout",
       "text": [
        "['_Cup__content', '__doc__', '__init__', '__module__', 'color', 'contains', 'empty', 'fill']\n"
       ]
      }
     ],
     "prompt_number": 40
    },
    {
     "cell_type": "code",
     "collapsed": false,
     "input": [
      "# _Cup__content\n",
      "print YellowCup._Cup__content  # Accessing a private variable in not so nice way."
     ],
     "language": "python",
     "metadata": {},
     "outputs": [
      {
       "output_type": "stream",
       "stream": "stdout",
       "text": [
        "horlicks\n"
       ]
      }
     ],
     "prompt_number": 42
    },
    {
     "cell_type": "code",
     "collapsed": false,
     "input": [
      "YellowCup._Cup__content = \"bournvita\"\n",
      "print YellowCup._Cup__content"
     ],
     "language": "python",
     "metadata": {},
     "outputs": [
      {
       "output_type": "stream",
       "stream": "stdout",
       "text": [
        "bournvita\n"
       ]
      }
     ],
     "prompt_number": 51
    },
    {
     "cell_type": "code",
     "collapsed": false,
     "input": [
      "print YellowCup.contains()"
     ],
     "language": "python",
     "metadata": {},
     "outputs": [
      {
       "output_type": "stream",
       "stream": "stdout",
       "text": [
        "bournvita\n"
       ]
      }
     ],
     "prompt_number": 52
    },
    {
     "cell_type": "code",
     "collapsed": false,
     "input": [],
     "language": "python",
     "metadata": {},
     "outputs": []
    }
   ],
   "metadata": {}
  }
 ]
}