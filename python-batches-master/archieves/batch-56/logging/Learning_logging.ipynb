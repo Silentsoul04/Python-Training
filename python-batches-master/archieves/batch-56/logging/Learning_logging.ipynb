{
 "cells": [
  {
   "cell_type": "raw",
   "metadata": {},
   "source": [
    "# logging\n",
    "\n",
    "--- /var/log/syslog ---\n",
    "Dec 27 08:07:41 tcloudost-VirtualBox NetworkManager[738]: <info> Activation (eth0) Stage 4 of 5 (IPv6 Configure Timeout) scheduled...\n",
    "Dec 27 08:07:41 tcloudost-VirtualBox NetworkManager[738]: <info> Activation (eth0) Stage 4 of 5 (IPv6 Configure Timeout) started...\n",
    "Dec 27 08:07:41 tcloudost-VirtualBox NetworkManager[738]: <info> Activation (eth0) Stage 4 of 5 (IPv6 Configure Timeout) complete.\n",
    "Dec 27 08:17:01 tcloudost-VirtualBox CRON[6867]: (tcloudost) CMD (/home/tcloudost/Documents/git_repositories/python-batches/batch-56/first.py)\n",
    "Dec 27 08:17:01 tcloudost-VirtualBox CRON[6868]: (root) CMD (   cd / && run-parts --report /etc/cron.hourly)\n",
    "Dec 27 08:17:01 tcloudost-VirtualBox postfix/pickup[6784]: E254B165874: uid=1000 from=<tcloudost>\n",
    "Dec 27 08:17:01 tcloudost-VirtualBox postfix/cleanup[6873]: E254B165874: message-id=<20161227024701.E254B165874@tcloudost-VirtualBox>\n"
   ]
  },
  {
   "cell_type": "code",
   "execution_count": null,
   "metadata": {
    "collapsed": true
   },
   "outputs": [],
   "source": [
    "# java,perl\n",
    "# logging -> logj4\n",
    "# https://docs.python.org/2/howto/logging.html\n",
    "# https://docs.python.org/2/howto/logging-cookbook.html"
   ]
  },
  {
   "cell_type": "code",
   "execution_count": 1,
   "metadata": {
    "collapsed": true
   },
   "outputs": [],
   "source": [
    "import logging as l"
   ]
  },
  {
   "cell_type": "code",
   "execution_count": 2,
   "metadata": {
    "collapsed": false
   },
   "outputs": [
    {
     "name": "stdout",
     "output_type": "stream",
     "text": [
      "['BASIC_FORMAT', 'BufferingFormatter', 'CRITICAL', 'DEBUG', 'ERROR', 'FATAL', 'FileHandler', 'Filter', 'Filterer', 'Formatter', 'Handler', 'INFO', 'LogRecord', 'Logger', 'LoggerAdapter', 'Manager', 'NOTSET', 'NullHandler', 'PlaceHolder', 'RootLogger', 'StreamHandler', 'WARN', 'WARNING', '__all__', '__author__', '__builtins__', '__date__', '__doc__', '__file__', '__name__', '__package__', '__path__', '__status__', '__version__', '_acquireLock', '_addHandlerRef', '_checkLevel', '_defaultFormatter', '_handlerList', '_handlers', '_levelNames', '_lock', '_loggerClass', '_releaseLock', '_removeHandlerRef', '_showwarning', '_srcfile', '_startTime', '_unicode', '_warnings_showwarning', 'addLevelName', 'atexit', 'basicConfig', 'cStringIO', 'captureWarnings', 'codecs', 'critical', 'currentframe', 'debug', 'disable', 'error', 'exception', 'fatal', 'getLevelName', 'getLogger', 'getLoggerClass', 'handlers', 'info', 'log', 'logMultiprocessing', 'logProcesses', 'logThreads', 'makeLogRecord', 'os', 'raiseExceptions', 'root', 'setLoggerClass', 'shutdown', 'sys', 'thread', 'threading', 'time', 'traceback', 'warn', 'warning', 'warnings', 'weakref']\n"
     ]
    }
   ],
   "source": [
    "print dir(l)"
   ]
  },
  {
   "cell_type": "code",
   "execution_count": null,
   "metadata": {
    "collapsed": true
   },
   "outputs": [],
   "source": [
    "# function\n",
    "# debug()\n",
    "# ex:\n",
    "# ssh -v localhost\n",
    "# ssh -vv localhost\n",
    "# ssh -vvv localhost\n",
    "# info()\n",
    "# warning()\n",
    "# error()\n",
    "# critical()\n",
    "\n",
    "# levels\n",
    "# lowest to hightest\n",
    "# debug,info,warning,error,critical (all in UPPER CASE)"
   ]
  },
  {
   "cell_type": "code",
   "execution_count": 4,
   "metadata": {
    "collapsed": false
   },
   "outputs": [
    {
     "name": "stderr",
     "output_type": "stream",
     "text": [
      "WARNING:root:this is an warning message\n",
      "ERROR:root:this is an error message\n",
      "CRITICAL:root:this is an critical message\n"
     ]
    }
   ],
   "source": [
    "l.debug(\"this is a debug message\")\n",
    "l.info(\"this is an info message\")\n",
    "l.warning(\"this is an warning message\")\n",
    "l.error(\"this is an error message\")\n",
    "l.critical(\"this is an critical message\")"
   ]
  },
  {
   "cell_type": "code",
   "execution_count": null,
   "metadata": {
    "collapsed": true
   },
   "outputs": [],
   "source": [
    "# The default level is WARNING, which means that only events of this \n",
    "# level and above will be tracked,\n",
    "# unless the logging package is configured to do otherwise.\n",
    "# to get the debug and info messages we have to configure them."
   ]
  },
  {
   "cell_type": "code",
   "execution_count": 5,
   "metadata": {
    "collapsed": false
   },
   "outputs": [
    {
     "name": "stdout",
     "output_type": "stream",
     "text": [
      "Help on function basicConfig in module logging:\n",
      "\n",
      "basicConfig(**kwargs)\n",
      "    Do basic configuration for the logging system.\n",
      "    \n",
      "    This function does nothing if the root logger already has handlers\n",
      "    configured. It is a convenience method intended for use by simple scripts\n",
      "    to do one-shot configuration of the logging package.\n",
      "    \n",
      "    The default behaviour is to create a StreamHandler which writes to\n",
      "    sys.stderr, set a formatter using the BASIC_FORMAT format string, and\n",
      "    add the handler to the root logger.\n",
      "    \n",
      "    A number of optional keyword arguments may be specified, which can alter\n",
      "    the default behaviour.\n",
      "    \n",
      "    filename  Specifies that a FileHandler be created, using the specified\n",
      "              filename, rather than a StreamHandler.\n",
      "    filemode  Specifies the mode to open the file, if filename is specified\n",
      "              (if filemode is unspecified, it defaults to 'a').\n",
      "    format    Use the specified format string for the handler.\n",
      "    datefmt   Use the specified date/time format.\n",
      "    level     Set the root logger level to the specified level.\n",
      "    stream    Use the specified stream to initialize the StreamHandler. Note\n",
      "              that this argument is incompatible with 'filename' - if both\n",
      "              are present, 'stream' is ignored.\n",
      "    \n",
      "    Note that you could specify a stream created using open(filename, mode)\n",
      "    rather than passing the filename and mode in. However, it should be\n",
      "    remembered that StreamHandler does not close its stream (since it may be\n",
      "    using sys.stdout or sys.stderr), whereas FileHandler closes its stream\n",
      "    when the handler is closed.\n",
      "\n",
      "None\n"
     ]
    }
   ],
   "source": [
    "print help(l.basicConfig)"
   ]
  },
  {
   "cell_type": "code",
   "execution_count": 6,
   "metadata": {
    "collapsed": false
   },
   "outputs": [
    {
     "name": "stdout",
     "output_type": "stream",
     "text": [
      "Help on class Formatter in module logging:\n",
      "\n",
      "class Formatter(__builtin__.object)\n",
      " |  Formatter instances are used to convert a LogRecord to text.\n",
      " |  \n",
      " |  Formatters need to know how a LogRecord is constructed. They are\n",
      " |  responsible for converting a LogRecord to (usually) a string which can\n",
      " |  be interpreted by either a human or an external system. The base Formatter\n",
      " |  allows a formatting string to be specified. If none is supplied, the\n",
      " |  default value of \"%s(message)\\n\" is used.\n",
      " |  \n",
      " |  The Formatter can be initialized with a format string which makes use of\n",
      " |  knowledge of the LogRecord attributes - e.g. the default value mentioned\n",
      " |  above makes use of the fact that the user's message and arguments are pre-\n",
      " |  formatted into a LogRecord's message attribute. Currently, the useful\n",
      " |  attributes in a LogRecord are described by:\n",
      " |  \n",
      " |  %(name)s            Name of the logger (logging channel)\n",
      " |  %(levelno)s         Numeric logging level for the message (DEBUG, INFO,\n",
      " |                      WARNING, ERROR, CRITICAL)\n",
      " |  %(levelname)s       Text logging level for the message (\"DEBUG\", \"INFO\",\n",
      " |                      \"WARNING\", \"ERROR\", \"CRITICAL\")\n",
      " |  %(pathname)s        Full pathname of the source file where the logging\n",
      " |                      call was issued (if available)\n",
      " |  %(filename)s        Filename portion of pathname\n",
      " |  %(module)s          Module (name portion of filename)\n",
      " |  %(lineno)d          Source line number where the logging call was issued\n",
      " |                      (if available)\n",
      " |  %(funcName)s        Function name\n",
      " |  %(created)f         Time when the LogRecord was created (time.time()\n",
      " |                      return value)\n",
      " |  %(asctime)s         Textual time when the LogRecord was created\n",
      " |  %(msecs)d           Millisecond portion of the creation time\n",
      " |  %(relativeCreated)d Time in milliseconds when the LogRecord was created,\n",
      " |                      relative to the time the logging module was loaded\n",
      " |                      (typically at application startup time)\n",
      " |  %(thread)d          Thread ID (if available)\n",
      " |  %(threadName)s      Thread name (if available)\n",
      " |  %(process)d         Process ID (if available)\n",
      " |  %(message)s         The result of record.getMessage(), computed just as\n",
      " |                      the record is emitted\n",
      " |  \n",
      " |  Methods defined here:\n",
      " |  \n",
      " |  __init__(self, fmt=None, datefmt=None)\n",
      " |      Initialize the formatter with specified format strings.\n",
      " |      \n",
      " |      Initialize the formatter either with the specified format string, or a\n",
      " |      default as described above. Allow for specialized date formatting with\n",
      " |      the optional datefmt argument (if omitted, you get the ISO8601 format).\n",
      " |  \n",
      " |  format(self, record)\n",
      " |      Format the specified record as text.\n",
      " |      \n",
      " |      The record's attribute dictionary is used as the operand to a\n",
      " |      string formatting operation which yields the returned string.\n",
      " |      Before formatting the dictionary, a couple of preparatory steps\n",
      " |      are carried out. The message attribute of the record is computed\n",
      " |      using LogRecord.getMessage(). If the formatting string uses the\n",
      " |      time (as determined by a call to usesTime(), formatTime() is\n",
      " |      called to format the event time. If there is exception information,\n",
      " |      it is formatted using formatException() and appended to the message.\n",
      " |  \n",
      " |  formatException(self, ei)\n",
      " |      Format and return the specified exception information as a string.\n",
      " |      \n",
      " |      This default implementation just uses\n",
      " |      traceback.print_exception()\n",
      " |  \n",
      " |  formatTime(self, record, datefmt=None)\n",
      " |      Return the creation time of the specified LogRecord as formatted text.\n",
      " |      \n",
      " |      This method should be called from format() by a formatter which\n",
      " |      wants to make use of a formatted time. This method can be overridden\n",
      " |      in formatters to provide for any specific requirement, but the\n",
      " |      basic behaviour is as follows: if datefmt (a string) is specified,\n",
      " |      it is used with time.strftime() to format the creation time of the\n",
      " |      record. Otherwise, the ISO8601 format is used. The resulting\n",
      " |      string is returned. This function uses a user-configurable function\n",
      " |      to convert the creation time to a tuple. By default, time.localtime()\n",
      " |      is used; to change this for a particular formatter instance, set the\n",
      " |      'converter' attribute to a function with the same signature as\n",
      " |      time.localtime() or time.gmtime(). To change it for all formatters,\n",
      " |      for example if you want all logging times to be shown in GMT,\n",
      " |      set the 'converter' attribute in the Formatter class.\n",
      " |  \n",
      " |  usesTime(self)\n",
      " |      Check if the format uses the creation time of the record.\n",
      " |  \n",
      " |  ----------------------------------------------------------------------\n",
      " |  Data descriptors defined here:\n",
      " |  \n",
      " |  __dict__\n",
      " |      dictionary for instance variables (if defined)\n",
      " |  \n",
      " |  __weakref__\n",
      " |      list of weak references to the object (if defined)\n",
      " |  \n",
      " |  ----------------------------------------------------------------------\n",
      " |  Data and other attributes defined here:\n",
      " |  \n",
      " |  converter = <built-in function localtime>\n",
      " |      localtime([seconds]) -> (tm_year,tm_mon,tm_mday,tm_hour,tm_min,\n",
      " |                                tm_sec,tm_wday,tm_yday,tm_isdst)\n",
      " |      \n",
      " |      Convert seconds since the Epoch to a time tuple expressing local time.\n",
      " |      When 'seconds' is not passed in, convert the current time instead.\n",
      "\n",
      "None\n"
     ]
    }
   ],
   "source": [
    "print help(l.Formatter)"
   ]
  },
  {
   "cell_type": "code",
   "execution_count": null,
   "metadata": {
    "collapsed": true
   },
   "outputs": [],
   "source": [
    "# man date"
   ]
  }
 ],
 "metadata": {
  "kernelspec": {
   "display_name": "Python 2",
   "language": "python",
   "name": "python2"
  },
  "language_info": {
   "codemirror_mode": {
    "name": "ipython",
    "version": 2
   },
   "file_extension": ".py",
   "mimetype": "text/x-python",
   "name": "python",
   "nbconvert_exporter": "python",
   "pygments_lexer": "ipython2",
   "version": "2.7.6"
  }
 },
 "nbformat": 4,
 "nbformat_minor": 1
}
