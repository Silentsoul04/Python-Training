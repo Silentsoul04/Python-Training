{
 "cells": [
  {
   "cell_type": "code",
   "execution_count": null,
   "metadata": {
    "collapsed": true
   },
   "outputs": [],
   "source": [
    "# function\n",
    "# one single program - 1000 lines\n",
    "# block of the code and call it when required.\n",
    "#"
   ]
  },
  {
   "cell_type": "code",
   "execution_count": 1,
   "metadata": {
    "collapsed": true
   },
   "outputs": [],
   "source": [
    "def my_func():\n",
    "    print \"hello world\""
   ]
  },
  {
   "cell_type": "code",
   "execution_count": 8,
   "metadata": {
    "collapsed": true
   },
   "outputs": [],
   "source": [
    "def my_func1():\n",
    "    return \"hello world\"\n",
    "    print \"hey today is monday\"\n",
    "    print \"today we are going to have fun\""
   ]
  },
  {
   "cell_type": "code",
   "execution_count": 4,
   "metadata": {
    "collapsed": false
   },
   "outputs": [
    {
     "name": "stdout",
     "output_type": "stream",
     "text": [
      "<type 'function'>\n",
      "<function my_func at 0x7fbd314dcc80>\n"
     ]
    },
    {
     "data": {
      "text/plain": [
       "<function __main__.my_func>"
      ]
     },
     "execution_count": 4,
     "metadata": {},
     "output_type": "execute_result"
    }
   ],
   "source": [
    "print type(my_func)\n",
    "print my_func\n",
    "my_func"
   ]
  },
  {
   "cell_type": "code",
   "execution_count": 5,
   "metadata": {
    "collapsed": false
   },
   "outputs": [
    {
     "name": "stdout",
     "output_type": "stream",
     "text": [
      "hello world\n",
      "None\n"
     ]
    }
   ],
   "source": [
    "# run the code\n",
    "# you function has  return value.\n",
    "# either you return or you get a none value.\n",
    "# Marks the end of the function.\n",
    "# can we use return more than once in a function. yes, with a conditional statements.\n",
    "print my_func()"
   ]
  },
  {
   "cell_type": "code",
   "execution_count": 9,
   "metadata": {
    "collapsed": false
   },
   "outputs": [
    {
     "name": "stdout",
     "output_type": "stream",
     "text": [
      "hello world\n"
     ]
    }
   ],
   "source": [
    "print my_func1()"
   ]
  },
  {
   "cell_type": "code",
   "execution_count": 10,
   "metadata": {
    "collapsed": true
   },
   "outputs": [],
   "source": [
    "# namespaces\n",
    "# local or global variables"
   ]
  },
  {
   "cell_type": "code",
   "execution_count": 14,
   "metadata": {
    "collapsed": true
   },
   "outputs": [],
   "source": [
    "# variable defined inside a function are called local variables.\n",
    "# They come into action during the run time of the function.\n",
    "# Lifespan of the local variables is during the run time of the function.\n",
    "# can i access the local variables outside the function ? NO\n",
    "\n",
    "def my_new():\n",
    "    x = 1\n",
    "    print locals()\n",
    "    return x"
   ]
  },
  {
   "cell_type": "code",
   "execution_count": 15,
   "metadata": {
    "collapsed": false
   },
   "outputs": [
    {
     "name": "stdout",
     "output_type": "stream",
     "text": [
      "{}\n",
      "10\n"
     ]
    }
   ],
   "source": [
    "y = 10\n",
    "def my_new():\n",
    "    print locals()\n",
    "    return y\n",
    "\n",
    "print my_new()"
   ]
  },
  {
   "cell_type": "code",
   "execution_count": 14,
   "metadata": {
    "collapsed": false
   },
   "outputs": [
    {
     "name": "stdout",
     "output_type": "stream",
     "text": [
      "{'y': 20}\n",
      "20\n"
     ]
    }
   ],
   "source": [
    "y = 10\n",
    "def my_new():\n",
    "    y = 20\n",
    "    print locals()\n",
    "    return y\n",
    "\n",
    "print my_new()"
   ]
  },
  {
   "cell_type": "code",
   "execution_count": 15,
   "metadata": {
    "collapsed": false
   },
   "outputs": [
    {
     "name": "stdout",
     "output_type": "stream",
     "text": [
      "{'x': 1}\n",
      "1\n"
     ]
    }
   ],
   "source": [
    "print my_new()"
   ]
  },
  {
   "cell_type": "code",
   "execution_count": 13,
   "metadata": {
    "collapsed": false
   },
   "outputs": [
    {
     "ename": "NameError",
     "evalue": "name 'x' is not defined",
     "output_type": "error",
     "traceback": [
      "\u001b[0;31m---------------------------------------------------------------------------\u001b[0m",
      "\u001b[0;31mNameError\u001b[0m                                 Traceback (most recent call last)",
      "\u001b[0;32m<ipython-input-13-2d264e11d975>\u001b[0m in \u001b[0;36m<module>\u001b[0;34m()\u001b[0m\n\u001b[0;32m----> 1\u001b[0;31m \u001b[0;32mprint\u001b[0m \u001b[0mx\u001b[0m\u001b[0;34m\u001b[0m\u001b[0m\n\u001b[0m",
      "\u001b[0;31mNameError\u001b[0m: name 'x' is not defined"
     ]
    }
   ],
   "source": [
    "print x"
   ]
  },
  {
   "cell_type": "code",
   "execution_count": 19,
   "metadata": {
    "collapsed": false
   },
   "outputs": [
    {
     "name": "stdout",
     "output_type": "stream",
     "text": [
      "{'_dh': [u'/home/tcloudost/Documents/git_repositories/python-batches/batch-56'], '__': '', 'my_func': <function my_func at 0x7fbd314dcc80>, '__builtin__': <module '__builtin__' (built-in)>, '_iii': u'# Scope Resolution\\n\\nx = 10\\ndef my_new():\\n    print locals()\\n    return x\\n\\nprint globals()', 'quit': <IPython.core.autocall.ZMQExitAutocall object at 0x7fbd32dad0d0>, '_i9': u'print my_func1()', '_i8': u'def my_func1():\\n    return \"hello world\"\\n    print \"hey today is monday\"\\n    print \"today we are going to have fun\"', '_i7': u'print my_func1()', '_i6': u'def my_func1():\\n    return \"hello world\"', '_i5': u'# run the code\\nprint my_func()', '_i4': u'print type(my_func)\\nprint my_func\\nmy_func', '_i3': u'print type(my_func)\\nprint my_func', '_i2': u'print type(my_func)', '_i1': u'def my_func():\\n    print \"hello world\"', 'exit': <IPython.core.autocall.ZMQExitAutocall object at 0x7fbd32dad0d0>, 'get_ipython': <bound method ZMQInteractiveShell.get_ipython of <ipykernel.zmqshell.ZMQInteractiveShell object at 0x7fbd3b9934d0>>, '_i': u'print my_new()', '_i14': u'def my_new():\\n    x = 1\\n    print locals()\\n    return x', '__doc__': 'Automatically created module for IPython interactive environment', 'my_new': <function my_new at 0x7fbd30c65ed8>, '_ii': u'print my_new()', '__builtins__': <module '__builtin__' (built-in)>, 'In': ['', u'def my_func():\\n    print \"hello world\"', u'print type(my_func)', u'print type(my_func)\\nprint my_func', u'print type(my_func)\\nprint my_func\\nmy_func', u'# run the code\\nprint my_func()', u'def my_func1():\\n    return \"hello world\"', u'print my_func1()', u'def my_func1():\\n    return \"hello world\"\\n    print \"hey today is monday\"\\n    print \"today we are going to have fun\"', u'print my_func1()', u'# namespaces\\n# local or global variables', u'def my_new():\\n    x = 1\\n    return x', u'print my_new()', u'print x', u'def my_new():\\n    x = 1\\n    print locals()\\n    return x', u'print my_new()', u'# Scope Resolution\\n\\nx = 10\\ndef my_new():\\n    print locals()\\n    return x\\n\\nprint globals()', u'print my_new()', u'print my_new()', u'# Scope Resolution\\n# First look locally and then globally.\\n\\nx = 10\\ndef my_new():\\n    x = 2\\n    print locals()\\n    return x\\n\\nprint globals()'], 'my_func1': <function my_func1 at 0x7fbd314dcde8>, '__name__': '__main__', '___': '', '_': <function my_func at 0x7fbd314dcc80>, '_sh': <module 'IPython.core.shadowns' from '/usr/local/lib/python2.7/dist-packages/IPython/core/shadowns.pyc'>, '_4': <function my_func at 0x7fbd314dcc80>, '_i13': u'print x', '_i12': u'print my_new()', '_i11': u'def my_new():\\n    x = 1\\n    return x', '_i10': u'# namespaces\\n# local or global variables', '_i17': u'print my_new()', '_i16': u'# Scope Resolution\\n\\nx = 10\\ndef my_new():\\n    print locals()\\n    return x\\n\\nprint globals()', '_i15': u'print my_new()', '_ih': ['', u'def my_func():\\n    print \"hello world\"', u'print type(my_func)', u'print type(my_func)\\nprint my_func', u'print type(my_func)\\nprint my_func\\nmy_func', u'# run the code\\nprint my_func()', u'def my_func1():\\n    return \"hello world\"', u'print my_func1()', u'def my_func1():\\n    return \"hello world\"\\n    print \"hey today is monday\"\\n    print \"today we are going to have fun\"', u'print my_func1()', u'# namespaces\\n# local or global variables', u'def my_new():\\n    x = 1\\n    return x', u'print my_new()', u'print x', u'def my_new():\\n    x = 1\\n    print locals()\\n    return x', u'print my_new()', u'# Scope Resolution\\n\\nx = 10\\ndef my_new():\\n    print locals()\\n    return x\\n\\nprint globals()', u'print my_new()', u'print my_new()', u'# Scope Resolution\\n# First look locally and then globally.\\n\\nx = 10\\ndef my_new():\\n    x = 2\\n    print locals()\\n    return x\\n\\nprint globals()'], 'x': 10, '_i19': u'# Scope Resolution\\n# First look locally and then globally.\\n\\nx = 10\\ndef my_new():\\n    x = 2\\n    print locals()\\n    return x\\n\\nprint globals()', '_i18': u'print my_new()', '_oh': {4: <function my_func at 0x7fbd314dcc80>}, 'Out': {4: <function my_func at 0x7fbd314dcc80>}}\n"
     ]
    }
   ],
   "source": [
    "# Scope Resolution\n",
    "# First look locally and then globally.\n",
    "# locals -> give the namespace/variables available to us locally.\n",
    "# globals -> give the namespace/variables available to us globally.\n",
    "\n",
    "x = 10\n",
    "def my_new():\n",
    "    x = 2\n",
    "    print locals()\n",
    "    return x\n",
    "\n",
    "print globals()"
   ]
  },
  {
   "cell_type": "code",
   "execution_count": null,
   "metadata": {
    "collapsed": true
   },
   "outputs": [],
   "source": [
    "# 'x': 10,\n",
    "# 4th line from bottom."
   ]
  },
  {
   "cell_type": "code",
   "execution_count": 17,
   "metadata": {
    "collapsed": false
   },
   "outputs": [
    {
     "name": "stdout",
     "output_type": "stream",
     "text": [
      "{}\n",
      "10\n"
     ]
    }
   ],
   "source": [
    "print my_new()"
   ]
  },
  {
   "cell_type": "code",
   "execution_count": 20,
   "metadata": {
    "collapsed": false
   },
   "outputs": [
    {
     "name": "stdout",
     "output_type": "stream",
     "text": [
      "{'x': 2}\n",
      "2\n"
     ]
    }
   ],
   "source": [
    "print my_new()"
   ]
  },
  {
   "cell_type": "code",
   "execution_count": 21,
   "metadata": {
    "collapsed": false
   },
   "outputs": [
    {
     "name": "stdout",
     "output_type": "stream",
     "text": [
      "10\n"
     ]
    }
   ],
   "source": [
    "print x"
   ]
  },
  {
   "cell_type": "code",
   "execution_count": 8,
   "metadata": {
    "collapsed": false
   },
   "outputs": [
    {
     "name": "stdout",
     "output_type": "stream",
     "text": [
      "{}\n",
      "1000\n",
      "1000\n",
      "{}\n",
      "2000\n",
      "{}\n",
      "1700\n",
      "1700\n"
     ]
    }
   ],
   "source": [
    "# global\n",
    "\n",
    "balance = 0\n",
    "\n",
    "def deposit():\n",
    "    global balance\n",
    "    print locals()\n",
    "    balance = balance + 1000\n",
    "    return balance\n",
    "\n",
    "def withdraw():\n",
    "    global balance\n",
    "    print locals()\n",
    "    balance = balance - 300\n",
    "    return balance\n",
    "\n",
    "# Main\n",
    "print deposit()\n",
    "print balance\n",
    "print deposit()\n",
    "print withdraw()\n",
    "print balance"
   ]
  },
  {
   "cell_type": "code",
   "execution_count": 9,
   "metadata": {
    "collapsed": true
   },
   "outputs": [],
   "source": [
    "# functional paremeters\n",
    "\n",
    "def my_add(a,b):\n",
    "    return a + b"
   ]
  },
  {
   "cell_type": "code",
   "execution_count": 10,
   "metadata": {
    "collapsed": false
   },
   "outputs": [
    {
     "name": "stdout",
     "output_type": "stream",
     "text": [
      "30\n",
      "linuxrocks\n",
      "rockslinux\n"
     ]
    }
   ],
   "source": [
    "# positional functional arguments\n",
    "\n",
    "print my_add(10,20)\n",
    "print my_add('linux','rocks')\n",
    "print my_add('rocks','linux')"
   ]
  },
  {
   "cell_type": "code",
   "execution_count": 11,
   "metadata": {
    "collapsed": false
   },
   "outputs": [
    {
     "name": "stdout",
     "output_type": "stream",
     "text": [
      "linuxrocks\n"
     ]
    }
   ],
   "source": [
    "# key based functional arguments\n",
    "\n",
    "print my_add(b='rocks',a='linux')"
   ]
  },
  {
   "cell_type": "code",
   "execution_count": 18,
   "metadata": {
    "collapsed": false
   },
   "outputs": [
    {
     "name": "stdout",
     "output_type": "stream",
     "text": [
      "2 * 1 = 2\n",
      "2 * 2 = 4\n",
      "2 * 3 = 6\n",
      "2 * 4 = 8\n",
      "2 * 5 = 10\n",
      "2 * 6 = 12\n",
      "2 * 7 = 14\n",
      "2 * 8 = 16\n",
      "2 * 9 = 18\n",
      "2 * 10 = 20\n",
      "3 * 1 = 3\n",
      "3 * 2 = 6\n",
      "3 * 3 = 9\n",
      "3 * 4 = 12\n",
      "3 * 5 = 15\n"
     ]
    }
   ],
   "source": [
    "# default arguments\n",
    "\n",
    "def multi(num,kumar=10):\n",
    "    for value in range(1,kumar+1):\n",
    "        print \"{} * {} = {}\".format(num,value,num*value)\n",
    "        \n",
    "multi(2)\n",
    "multi(3,5)"
   ]
  },
  {
   "cell_type": "code",
   "execution_count": null,
   "metadata": {
    "collapsed": true
   },
   "outputs": [],
   "source": [
    "# putty - http://cache.filehippo.com/img/ex/1125__putty1.png\n",
    "# def putty(hostname,port=22)\n",
    "# putty(hostname) # ssh\n",
    "# putty(hostname,23) # telnet"
   ]
  },
  {
   "cell_type": "code",
   "execution_count": 20,
   "metadata": {
    "collapsed": true
   },
   "outputs": [],
   "source": [
    "# *,**,*args,**kwargs"
   ]
  },
  {
   "cell_type": "code",
   "execution_count": 21,
   "metadata": {
    "collapsed": false
   },
   "outputs": [
    {
     "ename": "TypeError",
     "evalue": "my_add() takes exactly 2 arguments (1 given)",
     "output_type": "error",
     "traceback": [
      "\u001b[0;31m---------------------------------------------------------------------------\u001b[0m",
      "\u001b[0;31mTypeError\u001b[0m                                 Traceback (most recent call last)",
      "\u001b[0;32m<ipython-input-21-95abd6191a0c>\u001b[0m in \u001b[0;36m<module>\u001b[0;34m()\u001b[0m\n\u001b[1;32m      8\u001b[0m \u001b[0;31m# b = my_list[1]\u001b[0m\u001b[0;34m\u001b[0m\u001b[0;34m\u001b[0m\u001b[0m\n\u001b[1;32m      9\u001b[0m \u001b[0;34m\u001b[0m\u001b[0m\n\u001b[0;32m---> 10\u001b[0;31m \u001b[0;32mprint\u001b[0m \u001b[0mmy_add\u001b[0m\u001b[0;34m(\u001b[0m\u001b[0mmy_list\u001b[0m\u001b[0;34m)\u001b[0m\u001b[0;34m\u001b[0m\u001b[0m\n\u001b[0m",
      "\u001b[0;31mTypeError\u001b[0m: my_add() takes exactly 2 arguments (1 given)"
     ]
    }
   ],
   "source": [
    "# *\n",
    "def my_add(a,b):\n",
    "    return a + b\n",
    "\n",
    "my_list = [10,20]\n",
    "#(a,b) = my_list\n",
    "# a = my_list[0]\n",
    "# b = my_list[1]\n",
    "\n",
    "print my_add(my_list)"
   ]
  },
  {
   "cell_type": "code",
   "execution_count": 22,
   "metadata": {
    "collapsed": false
   },
   "outputs": [
    {
     "name": "stdout",
     "output_type": "stream",
     "text": [
      "30\n"
     ]
    }
   ],
   "source": [
    "print my_add(*my_list)"
   ]
  },
  {
   "cell_type": "code",
   "execution_count": 23,
   "metadata": {
    "collapsed": false
   },
   "outputs": [
    {
     "ename": "TypeError",
     "evalue": "my_add() takes exactly 2 arguments (3 given)",
     "output_type": "error",
     "traceback": [
      "\u001b[0;31m---------------------------------------------------------------------------\u001b[0m",
      "\u001b[0;31mTypeError\u001b[0m                                 Traceback (most recent call last)",
      "\u001b[0;32m<ipython-input-23-b08b83604235>\u001b[0m in \u001b[0;36m<module>\u001b[0;34m()\u001b[0m\n\u001b[1;32m      1\u001b[0m \u001b[0mmy_list2\u001b[0m\u001b[0;34m=\u001b[0m \u001b[0;34m[\u001b[0m\u001b[0;36m10\u001b[0m\u001b[0;34m,\u001b[0m\u001b[0;36m20\u001b[0m\u001b[0;34m,\u001b[0m\u001b[0;36m30\u001b[0m\u001b[0;34m]\u001b[0m\u001b[0;34m\u001b[0m\u001b[0m\n\u001b[0;32m----> 2\u001b[0;31m \u001b[0;32mprint\u001b[0m \u001b[0mmy_add\u001b[0m\u001b[0;34m(\u001b[0m\u001b[0;34m*\u001b[0m\u001b[0mmy_list2\u001b[0m\u001b[0;34m)\u001b[0m\u001b[0;34m\u001b[0m\u001b[0m\n\u001b[0m",
      "\u001b[0;31mTypeError\u001b[0m: my_add() takes exactly 2 arguments (3 given)"
     ]
    }
   ],
   "source": [
    "my_list2= [10,20,30]\n",
    "print my_add(*my_list2)"
   ]
  },
  {
   "cell_type": "code",
   "execution_count": 24,
   "metadata": {
    "collapsed": false
   },
   "outputs": [
    {
     "name": "stdout",
     "output_type": "stream",
     "text": [
      "30\n"
     ]
    }
   ],
   "source": [
    "# **\n",
    "def my_add(a,b):\n",
    "    return a + b\n",
    "\n",
    "my_dict = {'b':20,'a':10}\n",
    "print my_add(**my_dict)"
   ]
  },
  {
   "cell_type": "code",
   "execution_count": 25,
   "metadata": {
    "collapsed": false
   },
   "outputs": [
    {
     "ename": "TypeError",
     "evalue": "my_add() got an unexpected keyword argument 'c'",
     "output_type": "error",
     "traceback": [
      "\u001b[0;31m---------------------------------------------------------------------------\u001b[0m",
      "\u001b[0;31mTypeError\u001b[0m                                 Traceback (most recent call last)",
      "\u001b[0;32m<ipython-input-25-f967606e8c5d>\u001b[0m in \u001b[0;36m<module>\u001b[0;34m()\u001b[0m\n\u001b[1;32m      1\u001b[0m \u001b[0mmy_dict1\u001b[0m \u001b[0;34m=\u001b[0m \u001b[0;34m{\u001b[0m\u001b[0;34m'b'\u001b[0m\u001b[0;34m:\u001b[0m\u001b[0;36m30\u001b[0m\u001b[0;34m,\u001b[0m\u001b[0;34m'c'\u001b[0m\u001b[0;34m:\u001b[0m\u001b[0;36m20\u001b[0m\u001b[0;34m}\u001b[0m\u001b[0;34m\u001b[0m\u001b[0m\n\u001b[0;32m----> 2\u001b[0;31m \u001b[0;32mprint\u001b[0m \u001b[0mmy_add\u001b[0m\u001b[0;34m(\u001b[0m\u001b[0;34m**\u001b[0m\u001b[0mmy_dict1\u001b[0m\u001b[0;34m)\u001b[0m\u001b[0;34m\u001b[0m\u001b[0m\n\u001b[0m",
      "\u001b[0;31mTypeError\u001b[0m: my_add() got an unexpected keyword argument 'c'"
     ]
    }
   ],
   "source": [
    "my_dict1 = {'b':30,'c':20}\n",
    "print my_add(**my_dict1)"
   ]
  },
  {
   "cell_type": "code",
   "execution_count": 26,
   "metadata": {
    "collapsed": false
   },
   "outputs": [
    {
     "name": "stdout",
     "output_type": "stream",
     "text": [
      "Help on built-in function max in module __builtin__:\n",
      "\n",
      "max(...)\n",
      "    max(iterable[, key=func]) -> value\n",
      "    max(a, b, c, ...[, key=func]) -> value\n",
      "    \n",
      "    With a single iterable argument, return its largest item.\n",
      "    With two or more arguments, return the largest argument.\n",
      "\n",
      "None\n"
     ]
    }
   ],
   "source": [
    "# *args\n",
    "\n",
    "print help(max)"
   ]
  },
  {
   "cell_type": "code",
   "execution_count": 28,
   "metadata": {
    "collapsed": false
   },
   "outputs": [
    {
     "name": "stdout",
     "output_type": "stream",
     "text": [
      "-1\n",
      "89\n"
     ]
    }
   ],
   "source": [
    "print max(-5,-1)\n",
    "print max(22,33,14,51,62,74,89,20)"
   ]
  },
  {
   "cell_type": "code",
   "execution_count": 30,
   "metadata": {
    "collapsed": false
   },
   "outputs": [
    {
     "name": "stdout",
     "output_type": "stream",
     "text": [
      "-1\n",
      "89\n"
     ]
    }
   ],
   "source": [
    "# \n",
    "def gmax(*args):\n",
    "    big=-1\n",
    "    for value in args:\n",
    "        if value > big:\n",
    "            big = value\n",
    "    return big\n",
    "\n",
    "\n",
    "print gmax(-5,-1)\n",
    "print gmax(22,33,14,51,62,74,89,20)"
   ]
  },
  {
   "cell_type": "code",
   "execution_count": 31,
   "metadata": {
    "collapsed": false
   },
   "outputs": [
    {
     "name": "stdout",
     "output_type": "stream",
     "text": [
      "{'gender': 'm', 'name': 'kumar'}\n",
      "{'mobile': 'x.u.y.z', 'name': 'kumar'}\n",
      "{'location': 'hyd', 'mother': 'laxmi'}\n"
     ]
    }
   ],
   "source": [
    "# **kwargs\n",
    "\n",
    "def my_callme(**kwargs):\n",
    "    print kwargs\n",
    "    \n",
    "my_callme(name='kumar',gender='m')\n",
    "my_callme(name='kumar',mobile='x.u.y.z')\n",
    "my_callme(location='hyd',mother='laxmi')"
   ]
  },
  {
   "cell_type": "code",
   "execution_count": 1,
   "metadata": {
    "collapsed": true
   },
   "outputs": [],
   "source": [
    "def my_callme(**kwargs):\n",
    "    if 'name' in kwargs:\n",
    "        print \"your name is {}\".format(kwargs['name'])\n",
    "    if 'gender' in kwargs:\n",
    "        print \"your gender is {}\".format(kwargs['gender'])\n",
    "    if 'mobile' in kwargs:\n",
    "        print \"your mobile is {}\".format(kwargs['mobile'])\n",
    "    if 'location' in kwargs:\n",
    "        print \"your location is {}\".format(kwargs['location'])\n",
    "    if 'mother' in kwargs:\n",
    "        print \"your mother name is {}\".format(kwargs['mother'])"
   ]
  },
  {
   "cell_type": "code",
   "execution_count": 2,
   "metadata": {
    "collapsed": false
   },
   "outputs": [
    {
     "name": "stdout",
     "output_type": "stream",
     "text": [
      "your name is kumar\n",
      "your gender is m\n",
      "your name is kumar\n",
      "your mobile is x.u.y.z\n",
      "your location is hyd\n",
      "your mother name is laxmi\n"
     ]
    }
   ],
   "source": [
    "my_callme(name='kumar',gender='m')\n",
    "my_callme(name='kumar',mobile='x.u.y.z')\n",
    "my_callme(location='hyd',mother='laxmi')"
   ]
  },
  {
   "cell_type": "code",
   "execution_count": 6,
   "metadata": {
    "collapsed": false
   },
   "outputs": [
    {
     "name": "stdout",
     "output_type": "stream",
     "text": [
      "{'x': 1, 'inner': <function inner at 0x7fa9605abed8>}\n",
      "1\n"
     ]
    },
    {
     "ename": "NameError",
     "evalue": "name 'inner' is not defined",
     "output_type": "error",
     "traceback": [
      "\u001b[0;31m---------------------------------------------------------------------------\u001b[0m",
      "\u001b[0;31mNameError\u001b[0m                                 Traceback (most recent call last)",
      "\u001b[0;32m<ipython-input-6-922b5cbaad59>\u001b[0m in \u001b[0;36m<module>\u001b[0;34m()\u001b[0m\n\u001b[1;32m     10\u001b[0m \u001b[0;31m# Main\u001b[0m\u001b[0;34m\u001b[0m\u001b[0;34m\u001b[0m\u001b[0m\n\u001b[1;32m     11\u001b[0m \u001b[0;32mprint\u001b[0m \u001b[0mouter\u001b[0m\u001b[0;34m(\u001b[0m\u001b[0;34m)\u001b[0m \u001b[0;31m# 1\u001b[0m\u001b[0;34m\u001b[0m\u001b[0m\n\u001b[0;32m---> 12\u001b[0;31m \u001b[0;32mprint\u001b[0m \u001b[0minner\u001b[0m\u001b[0;34m(\u001b[0m\u001b[0;34m)\u001b[0m  \u001b[0;31m# inner is local to outer function so is not available.\u001b[0m\u001b[0;34m\u001b[0m\u001b[0m\n\u001b[0m",
      "\u001b[0;31mNameError\u001b[0m: name 'inner' is not defined"
     ]
    }
   ],
   "source": [
    "# function witin a function\n",
    "\n",
    "def outer():\n",
    "    x = 1\n",
    "    def inner():\n",
    "        return x\n",
    "    print locals()\n",
    "    return inner()  # calling the the inner function\n",
    "\n",
    "# Main\n",
    "print outer() # 1\n",
    "print inner()  # inner is local to outer function so is not available."
   ]
  },
  {
   "cell_type": "code",
   "execution_count": 9,
   "metadata": {
    "collapsed": false
   },
   "outputs": [
    {
     "name": "stdout",
     "output_type": "stream",
     "text": [
      "{'x': 1, 'inner': <function inner at 0x7fa9605c00c8>}\n",
      "<function inner at 0x7fa9605c00c8> <type 'function'>\n",
      "1\n"
     ]
    },
    {
     "ename": "NameError",
     "evalue": "name 'x' is not defined",
     "output_type": "error",
     "traceback": [
      "\u001b[0;31m---------------------------------------------------------------------------\u001b[0m",
      "\u001b[0;31mNameError\u001b[0m                                 Traceback (most recent call last)",
      "\u001b[0;32m<ipython-input-9-a1524f55429c>\u001b[0m in \u001b[0;36m<module>\u001b[0;34m()\u001b[0m\n\u001b[1;32m     13\u001b[0m \u001b[0;32mprint\u001b[0m \u001b[0mfoo\u001b[0m\u001b[0;34m,\u001b[0m\u001b[0mtype\u001b[0m\u001b[0;34m(\u001b[0m\u001b[0mfoo\u001b[0m\u001b[0;34m)\u001b[0m\u001b[0;34m\u001b[0m\u001b[0m\n\u001b[1;32m     14\u001b[0m \u001b[0;32mprint\u001b[0m \u001b[0mfoo\u001b[0m\u001b[0;34m(\u001b[0m\u001b[0;34m)\u001b[0m \u001b[0;31m# 1\u001b[0m\u001b[0;34m\u001b[0m\u001b[0m\n\u001b[0;32m---> 15\u001b[0;31m \u001b[0;32mprint\u001b[0m \u001b[0mx\u001b[0m\u001b[0;34m\u001b[0m\u001b[0m\n\u001b[0m\u001b[1;32m     16\u001b[0m \u001b[0;31m#print inner()  # inner is local to outer function so is not available.\u001b[0m\u001b[0;34m\u001b[0m\u001b[0;34m\u001b[0m\u001b[0m\n",
      "\u001b[0;31mNameError\u001b[0m: name 'x' is not defined"
     ]
    }
   ],
   "source": [
    "# Function Closures\n",
    "# All the variables available toa function during defination time, are available even if we \n",
    "# return it as a address.\n",
    "\n",
    "\n",
    "def outer():\n",
    "    x = 1\n",
    "    def inner():\n",
    "        return x\n",
    "    print locals()\n",
    "    return inner  # you are returning the inner function address.\n",
    "\n",
    "# Main\n",
    "foo = outer()\n",
    "print foo,type(foo)\n",
    "print foo() # 1\n",
    "print x\n",
    "#print inner()  # inner is local to outer function so is not available."
   ]
  },
  {
   "cell_type": "code",
   "execution_count": 10,
   "metadata": {
    "collapsed": false
   },
   "outputs": [
    {
     "name": "stdout",
     "output_type": "stream",
     "text": [
      "6\n",
      "2\n"
     ]
    }
   ],
   "source": [
    "# Functions are first class object.\n",
    "\n",
    "def add(x,y):\n",
    "    return x + y\n",
    "\n",
    "def sub(x,y):\n",
    "    return x - y\n",
    "\n",
    "def extra(func,x,y):\n",
    "    return func(x,y)\n",
    "\n",
    "print extra(add,2,4) # 6\n",
    "print extra(sub,4,2) # 2"
   ]
  },
  {
   "cell_type": "code",
   "execution_count": 11,
   "metadata": {
    "collapsed": false
   },
   "outputs": [
    {
     "name": "stdout",
     "output_type": "stream",
     "text": [
      "Help on built-in function map in module __builtin__:\n",
      "\n",
      "map(...)\n",
      "    map(function, sequence[, sequence, ...]) -> list\n",
      "    \n",
      "    Return a list of the results of applying the function to the items of\n",
      "    the argument sequence(s).  If more than one sequence is given, the\n",
      "    function is called with an argument list consisting of the corresponding\n",
      "    item of each sequence, substituting None for missing values when not all\n",
      "    sequences have the same length.  If the function is None, return a list of\n",
      "    the items of the sequence (or a list of tuples if more than one sequence).\n",
      "\n",
      "None\n"
     ]
    }
   ],
   "source": [
    "# map,filter and lambda\n",
    "\n",
    "print help(map)"
   ]
  },
  {
   "cell_type": "code",
   "execution_count": 12,
   "metadata": {
    "collapsed": false
   },
   "outputs": [
    {
     "name": "stdout",
     "output_type": "stream",
     "text": [
      "4\n",
      "625\n"
     ]
    }
   ],
   "source": [
    "# map\n",
    "\n",
    "def square(a):\n",
    "    return a * a\n",
    "\n",
    "print square(2) # 4\n",
    "print square(25) # 625"
   ]
  },
  {
   "cell_type": "code",
   "execution_count": 13,
   "metadata": {
    "collapsed": false
   },
   "outputs": [
    {
     "name": "stdout",
     "output_type": "stream",
     "text": [
      "[441, 484, 529, 576, 625]\n"
     ]
    }
   ],
   "source": [
    "print map(square,[21,22,23,24,25])\n",
    "         # function,arguement sequence"
   ]
  },
  {
   "cell_type": "code",
   "execution_count": 14,
   "metadata": {
    "collapsed": false
   },
   "outputs": [
    {
     "name": "stdout",
     "output_type": "stream",
     "text": [
      "Help on built-in function filter in module __builtin__:\n",
      "\n",
      "filter(...)\n",
      "    filter(function or None, sequence) -> list, tuple, or string\n",
      "    \n",
      "    Return those items of sequence for which function(item) is true.  If\n",
      "    function is None, return the items that are true.  If sequence is a tuple\n",
      "    or string, return the same type, else return a list.\n",
      "\n",
      "None\n"
     ]
    }
   ],
   "source": [
    "# filter\n",
    "\n",
    "print help(filter)"
   ]
  },
  {
   "cell_type": "code",
   "execution_count": 16,
   "metadata": {
    "collapsed": false
   },
   "outputs": [
    {
     "name": "stdout",
     "output_type": "stream",
     "text": [
      "even\n",
      "None\n"
     ]
    }
   ],
   "source": [
    "def even(a):\n",
    "    if a % 2 == 0:\n",
    "        return 'even'\n",
    "\n",
    "print even(2) # even # True\n",
    "print even(3) # None # False"
   ]
  },
  {
   "cell_type": "code",
   "execution_count": 17,
   "metadata": {
    "collapsed": false
   },
   "outputs": [
    {
     "name": "stdout",
     "output_type": "stream",
     "text": [
      "[22, 24]\n"
     ]
    }
   ],
   "source": [
    "print filter(even,[21,22,23,24,25])"
   ]
  },
  {
   "cell_type": "code",
   "execution_count": 21,
   "metadata": {
    "collapsed": false
   },
   "outputs": [
    {
     "name": "stdout",
     "output_type": "stream",
     "text": [
      "[1, 4, 9, 16, 25, 36, 49, 64, 81, 100]\n",
      "[1, 2, 3, 4, 5, 6, 7, 8, 9, 10]\n",
      "[None, 'even', None, 'even', None, 'even', None, 'even', None, 'even']\n",
      "[2, 4, 6, 8, 10]\n"
     ]
    }
   ],
   "source": [
    "# some fun\n",
    "print map(square,range(1,11))\n",
    "print filter(square,range(1,11))\n",
    "print map(even,range(1,11))\n",
    "print filter(even,range(1,11))"
   ]
  },
  {
   "cell_type": "code",
   "execution_count": 23,
   "metadata": {
    "collapsed": false
   },
   "outputs": [
    {
     "name": "stdout",
     "output_type": "stream",
     "text": [
      "[1, 4, 9, 16, 25, 36, 49, 64, 81, 100]\n",
      "[2, 4, 6, 8, 10]\n"
     ]
    }
   ],
   "source": [
    "# lambda\n",
    "# creation of a nameless function. creation of a function on fly.\n",
    "\n",
    "print map(lambda a:a*a,range(1,11))\n",
    "print filter(lambda a:a%2==0,range(1,11))"
   ]
  },
  {
   "cell_type": "code",
   "execution_count": null,
   "metadata": {
    "collapsed": true
   },
   "outputs": [],
   "source": []
  }
 ],
 "metadata": {
  "kernelspec": {
   "display_name": "Python 2",
   "language": "python",
   "name": "python2"
  },
  "language_info": {
   "codemirror_mode": {
    "name": "ipython",
    "version": 2
   },
   "file_extension": ".py",
   "mimetype": "text/x-python",
   "name": "python",
   "nbconvert_exporter": "python",
   "pygments_lexer": "ipython2",
   "version": "2.7.6"
  }
 },
 "nbformat": 4,
 "nbformat_minor": 1
}
