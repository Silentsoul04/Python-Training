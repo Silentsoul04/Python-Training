{
 "metadata": {
  "name": "",
  "signature": "sha256:0c52f040f280a7364d54fa0d53bfc3b969b301046c1f15e61a879a96aa80e50a"
 },
 "nbformat": 3,
 "nbformat_minor": 0,
 "worksheets": [
  {
   "cells": [
    {
     "cell_type": "code",
     "collapsed": false,
     "input": [
      "# files\n",
      "# Persistant way of storing a data.\n",
      "# .txt,.xls,.html\n",
      "# file only does three things - read,write,append\n",
      "# can i insert in between line ? - NO \n",
      "# can i insert in between words ? - NO\n",
      "# if you want to do above activities like writing in between line or a word you need to switch to a editor."
     ],
     "language": "python",
     "metadata": {},
     "outputs": []
    },
    {
     "cell_type": "code",
     "collapsed": false,
     "input": [
      "# modes\n",
      "# r - read - in this mode you can only read.\n",
      "# w - write - write into the file.\n",
      "# you can write into a file. If your file is not there it gets created. If it exists it get truncated to zero.\n",
      "# a - append - appending to the file.\n",
      "# you can keep appending to a file. adding lines to the end of the file.\n",
      "# \n",
      "\n",
      "# take example of a wordpad and a notepad. - encoding\n",
      "# b - binary mode - will take take care of this encoding.\n",
      "# rb,wb,ab"
     ],
     "language": "python",
     "metadata": {},
     "outputs": []
    },
    {
     "cell_type": "code",
     "collapsed": false,
     "input": [
      "# opening a file\n",
      "# f is a variable,we call a file handle. you can put any name to this.\n",
      "# open is a function which is used for opening the file.\n",
      "# it takes filename and mode as arguments.\n",
      "# file.txt is the filename,since we opened the ipython or ipython notebook in same location you dont need to give the path.\n",
      "# say: your file is in /tmp/file1.txt locations,so you can do the following.\n",
      "# g = open('/tmp/file.txt','r')\n",
      "f = open('file.txt','r')\n",
      "\n",
      "# or\n",
      "# f = open('file1.txt')  \n",
      "# if you dont specify the mode, which means you are opening the file in \"r\" mode automatically."
     ],
     "language": "python",
     "metadata": {},
     "outputs": [],
     "prompt_number": 8
    },
    {
     "cell_type": "code",
     "collapsed": false,
     "input": [
      "print dir(f)"
     ],
     "language": "python",
     "metadata": {},
     "outputs": [
      {
       "output_type": "stream",
       "stream": "stdout",
       "text": [
        "['__class__', '__delattr__', '__doc__', '__enter__', '__exit__', '__format__', '__getattribute__', '__hash__', '__init__', '__iter__', '__new__', '__reduce__', '__reduce_ex__', '__repr__', '__setattr__', '__sizeof__', '__str__', '__subclasshook__', 'close', 'closed', 'encoding', 'errors', 'fileno', 'flush', 'isatty', 'mode', 'name', 'newlines', 'next', 'read', 'readinto', 'readline', 'readlines', 'seek', 'softspace', 'tell', 'truncate', 'write', 'writelines', 'xreadlines']\n"
       ]
      }
     ],
     "prompt_number": 3
    },
    {
     "cell_type": "code",
     "collapsed": false,
     "input": [
      "print f.mode"
     ],
     "language": "python",
     "metadata": {},
     "outputs": [
      {
       "output_type": "stream",
       "stream": "stdout",
       "text": [
        "r\n"
       ]
      }
     ],
     "prompt_number": 4
    },
    {
     "cell_type": "code",
     "collapsed": false,
     "input": [
      "print f.name"
     ],
     "language": "python",
     "metadata": {},
     "outputs": [
      {
       "output_type": "stream",
       "stream": "stdout",
       "text": [
        "file.txt\n"
       ]
      }
     ],
     "prompt_number": 5
    },
    {
     "cell_type": "code",
     "collapsed": false,
     "input": [
      "# f.read\n",
      "print help(f.read)"
     ],
     "language": "python",
     "metadata": {},
     "outputs": [
      {
       "output_type": "stream",
       "stream": "stdout",
       "text": [
        "Help on built-in function read:\n",
        "\n",
        "read(...)\n",
        "    read([size]) -> read at most size bytes, returned as a string.\n",
        "    \n",
        "    If the size argument is negative or omitted, read until EOF is reached.\n",
        "    Notice that when in non-blocking mode, less data than what was requested\n",
        "    may be returned, even if no size parameter was given.\n",
        "\n",
        "None\n"
       ]
      }
     ],
     "prompt_number": 7
    },
    {
     "cell_type": "code",
     "collapsed": false,
     "input": [
      "print f.read(2)"
     ],
     "language": "python",
     "metadata": {},
     "outputs": [
      {
       "output_type": "stream",
       "stream": "stdout",
       "text": [
        "th\n"
       ]
      }
     ],
     "prompt_number": 9
    },
    {
     "cell_type": "code",
     "collapsed": false,
     "input": [
      "print f.read(2)"
     ],
     "language": "python",
     "metadata": {},
     "outputs": [
      {
       "output_type": "stream",
       "stream": "stdout",
       "text": [
        "is\n"
       ]
      }
     ],
     "prompt_number": 10
    },
    {
     "cell_type": "code",
     "collapsed": false,
     "input": [
      "print f.read()"
     ],
     "language": "python",
     "metadata": {},
     "outputs": [
      {
       "output_type": "stream",
       "stream": "stdout",
       "text": [
        " is my line 1.\n",
        "this is my line 2.\n",
        "this is my line 3.\n",
        "this is my line 4.\n",
        "this is my line 5.\n",
        "\n"
       ]
      }
     ],
     "prompt_number": 11
    },
    {
     "cell_type": "code",
     "collapsed": false,
     "input": [
      "print f.read()"
     ],
     "language": "python",
     "metadata": {},
     "outputs": [
      {
       "output_type": "stream",
       "stream": "stdout",
       "text": [
        "\n"
       ]
      }
     ],
     "prompt_number": 12
    },
    {
     "cell_type": "code",
     "collapsed": false,
     "input": [
      "# we did not receive anything.we reached the end of the file. the pointer is stuck at the end. so you dont get to see anything."
     ],
     "language": "python",
     "metadata": {},
     "outputs": []
    },
    {
     "cell_type": "code",
     "collapsed": false,
     "input": [
      "# f.tell\n",
      "print help(f.tell)"
     ],
     "language": "python",
     "metadata": {},
     "outputs": [
      {
       "output_type": "stream",
       "stream": "stdout",
       "text": [
        "Help on built-in function tell:\n",
        "\n",
        "tell(...)\n",
        "    tell() -> current file position, an integer (may be a long integer).\n",
        "\n",
        "None\n"
       ]
      }
     ],
     "prompt_number": 15
    },
    {
     "cell_type": "code",
     "collapsed": false,
     "input": [
      "print f.tell()"
     ],
     "language": "python",
     "metadata": {},
     "outputs": [
      {
       "output_type": "stream",
       "stream": "stdout",
       "text": [
        "95\n"
       ]
      }
     ],
     "prompt_number": 16
    },
    {
     "cell_type": "code",
     "collapsed": false,
     "input": [
      "# f.seek"
     ],
     "language": "python",
     "metadata": {},
     "outputs": [],
     "prompt_number": 17
    },
    {
     "cell_type": "code",
     "collapsed": false,
     "input": [
      "print help(f.seek)"
     ],
     "language": "python",
     "metadata": {},
     "outputs": [
      {
       "output_type": "stream",
       "stream": "stdout",
       "text": [
        "Help on built-in function seek:\n",
        "\n",
        "seek(...)\n",
        "    seek(offset[, whence]) -> None.  Move to new file position.\n",
        "    \n",
        "    Argument offset is a byte count.  Optional argument whence defaults to\n",
        "    0 (offset from start of file, offset should be >= 0); other values are 1\n",
        "    (move relative to current position, positive or negative), and 2 (move\n",
        "    relative to end of file, usually negative, although many platforms allow\n",
        "    seeking beyond the end of a file).  If the file is opened in text mode,\n",
        "    only offsets returned by tell() are legal.  Use of other offsets causes\n",
        "    undefined behavior.\n",
        "    Note that not all file objects are seekable.\n",
        "\n",
        "None\n"
       ]
      }
     ],
     "prompt_number": 18
    },
    {
     "cell_type": "code",
     "collapsed": false,
     "input": [
      "print f.seek(0)"
     ],
     "language": "python",
     "metadata": {},
     "outputs": [
      {
       "output_type": "stream",
       "stream": "stdout",
       "text": [
        "None\n"
       ]
      }
     ],
     "prompt_number": 19
    },
    {
     "cell_type": "code",
     "collapsed": false,
     "input": [
      "print f.tell()"
     ],
     "language": "python",
     "metadata": {},
     "outputs": [
      {
       "output_type": "stream",
       "stream": "stdout",
       "text": [
        "0\n"
       ]
      }
     ],
     "prompt_number": 20
    },
    {
     "cell_type": "code",
     "collapsed": false,
     "input": [
      "# now lets do a f.read and save into a variable called my_string\n",
      "\n",
      "my_string = f.read()\n",
      "print my_string,type(my_string)"
     ],
     "language": "python",
     "metadata": {},
     "outputs": [
      {
       "output_type": "stream",
       "stream": "stdout",
       "text": [
        "this is my line 1.\n",
        "this is my line 2.\n",
        "this is my line 3.\n",
        "this is my line 4.\n",
        "this is my line 5.\n",
        "<type 'str'>\n"
       ]
      }
     ],
     "prompt_number": 21
    },
    {
     "cell_type": "code",
     "collapsed": false,
     "input": [
      "# f.readline\n",
      "print help(f.readline)"
     ],
     "language": "python",
     "metadata": {},
     "outputs": [
      {
       "output_type": "stream",
       "stream": "stdout",
       "text": [
        "Help on built-in function readline:\n",
        "\n",
        "readline(...)\n",
        "    readline([size]) -> next line from the file, as a string.\n",
        "    \n",
        "    Retain newline.  A non-negative size argument limits the maximum\n",
        "    number of bytes to return (an incomplete line may be returned then).\n",
        "    Return an empty string at EOF.\n",
        "\n",
        "None\n"
       ]
      }
     ],
     "prompt_number": 22
    },
    {
     "cell_type": "code",
     "collapsed": false,
     "input": [
      "print f.tell()"
     ],
     "language": "python",
     "metadata": {},
     "outputs": [
      {
       "output_type": "stream",
       "stream": "stdout",
       "text": [
        "95\n"
       ]
      }
     ],
     "prompt_number": 23
    },
    {
     "cell_type": "code",
     "collapsed": false,
     "input": [
      "# bringing back the pointer to zero position\n",
      "f.seek(0)"
     ],
     "language": "python",
     "metadata": {},
     "outputs": [],
     "prompt_number": 24
    },
    {
     "cell_type": "code",
     "collapsed": false,
     "input": [
      "print f.tell()"
     ],
     "language": "python",
     "metadata": {},
     "outputs": [
      {
       "output_type": "stream",
       "stream": "stdout",
       "text": [
        "0\n"
       ]
      }
     ],
     "prompt_number": 25
    },
    {
     "cell_type": "code",
     "collapsed": false,
     "input": [
      "print f.readline()"
     ],
     "language": "python",
     "metadata": {},
     "outputs": [
      {
       "output_type": "stream",
       "stream": "stdout",
       "text": [
        "this is my line 1.\n",
        "\n"
       ]
      }
     ],
     "prompt_number": 26
    },
    {
     "cell_type": "code",
     "collapsed": false,
     "input": [
      "print f.readline()"
     ],
     "language": "python",
     "metadata": {},
     "outputs": [
      {
       "output_type": "stream",
       "stream": "stdout",
       "text": [
        "this is my line 2.\n",
        "\n"
       ]
      }
     ],
     "prompt_number": 27
    },
    {
     "cell_type": "code",
     "collapsed": false,
     "input": [
      "print f.readline()"
     ],
     "language": "python",
     "metadata": {},
     "outputs": [
      {
       "output_type": "stream",
       "stream": "stdout",
       "text": [
        "this is my line 3.\n",
        "\n"
       ]
      }
     ],
     "prompt_number": 28
    },
    {
     "cell_type": "code",
     "collapsed": false,
     "input": [
      "print f.readline()"
     ],
     "language": "python",
     "metadata": {},
     "outputs": [
      {
       "output_type": "stream",
       "stream": "stdout",
       "text": [
        "this is my line 4.\n",
        "\n"
       ]
      }
     ],
     "prompt_number": 29
    },
    {
     "cell_type": "code",
     "collapsed": false,
     "input": [
      "print f.readline()"
     ],
     "language": "python",
     "metadata": {},
     "outputs": [
      {
       "output_type": "stream",
       "stream": "stdout",
       "text": [
        "this is my line 5.\n",
        "\n"
       ]
      }
     ],
     "prompt_number": 30
    },
    {
     "cell_type": "code",
     "collapsed": false,
     "input": [
      "print f.readline()  # its not printing anything as we reached the end of the file."
     ],
     "language": "python",
     "metadata": {},
     "outputs": [
      {
       "output_type": "stream",
       "stream": "stdout",
       "text": [
        "\n"
       ]
      }
     ],
     "prompt_number": 31
    },
    {
     "cell_type": "code",
     "collapsed": false,
     "input": [
      "f.readline()"
     ],
     "language": "python",
     "metadata": {},
     "outputs": [
      {
       "metadata": {},
       "output_type": "pyout",
       "prompt_number": 32,
       "text": [
        "''"
       ]
      }
     ],
     "prompt_number": 32
    },
    {
     "cell_type": "code",
     "collapsed": false,
     "input": [
      "# f.readlines\n",
      "print help(f.readlines)"
     ],
     "language": "python",
     "metadata": {},
     "outputs": [
      {
       "output_type": "stream",
       "stream": "stdout",
       "text": [
        "Help on built-in function readlines:\n",
        "\n",
        "readlines(...)\n",
        "    readlines([size]) -> list of strings, each a line from the file.\n",
        "    \n",
        "    Call readline() repeatedly and return a list of the lines so read.\n",
        "    The optional size argument, if given, is an approximate bound on the\n",
        "    total number of bytes in the lines returned.\n",
        "\n",
        "None\n"
       ]
      }
     ],
     "prompt_number": 33
    },
    {
     "cell_type": "code",
     "collapsed": false,
     "input": [
      "f.seek(0) # making sure my pointer is set to zero"
     ],
     "language": "python",
     "metadata": {},
     "outputs": [],
     "prompt_number": 34
    },
    {
     "cell_type": "code",
     "collapsed": false,
     "input": [
      "my_lines = f.readlines()"
     ],
     "language": "python",
     "metadata": {},
     "outputs": [],
     "prompt_number": 35
    },
    {
     "cell_type": "code",
     "collapsed": false,
     "input": [
      "print my_lines,type(my_lines)"
     ],
     "language": "python",
     "metadata": {},
     "outputs": [
      {
       "output_type": "stream",
       "stream": "stdout",
       "text": [
        "['this is my line 1.\\n', 'this is my line 2.\\n', 'this is my line 3.\\n', 'this is my line 4.\\n', 'this is my line 5.\\n'] <type 'list'>\n"
       ]
      }
     ],
     "prompt_number": 36
    },
    {
     "cell_type": "code",
     "collapsed": false,
     "input": [
      "# f.readinto\n",
      "print help(f.readinto)"
     ],
     "language": "python",
     "metadata": {},
     "outputs": [
      {
       "output_type": "stream",
       "stream": "stdout",
       "text": [
        "Help on built-in function readinto:\n",
        "\n",
        "readinto(...)\n",
        "    readinto() -> Undocumented.  Don't use this; it may go away.\n",
        "\n",
        "None\n"
       ]
      }
     ],
     "prompt_number": 37
    },
    {
     "cell_type": "code",
     "collapsed": false,
     "input": [
      "# f.xreadlines\n",
      "print help(f.xreadlines)"
     ],
     "language": "python",
     "metadata": {},
     "outputs": [
      {
       "output_type": "stream",
       "stream": "stdout",
       "text": [
        "Help on built-in function xreadlines:\n",
        "\n",
        "xreadlines(...)\n",
        "    xreadlines() -> returns self.\n",
        "    \n",
        "    For backward compatibility. File objects now include the performance\n",
        "    optimizations previously implemented in the xreadlines module.\n",
        "\n",
        "None\n"
       ]
      }
     ],
     "prompt_number": 38
    },
    {
     "cell_type": "code",
     "collapsed": false,
     "input": [
      "# snapshot\n",
      "# open,name,mode,file modes,tell,seek,read,readline,readlines,readinto,xreadlines"
     ],
     "language": "python",
     "metadata": {},
     "outputs": [],
     "prompt_number": 39
    },
    {
     "cell_type": "code",
     "collapsed": false,
     "input": [
      "# write"
     ],
     "language": "python",
     "metadata": {},
     "outputs": []
    },
    {
     "cell_type": "code",
     "collapsed": false,
     "input": [
      "g = open(\"newfile.txt\",'w')\n",
      "# g is a new file handle\n",
      "# opened in mode w and having the file name as newfile.txt"
     ],
     "language": "python",
     "metadata": {},
     "outputs": [],
     "prompt_number": 40
    },
    {
     "cell_type": "code",
     "collapsed": false,
     "input": [
      "print help(g.write)"
     ],
     "language": "python",
     "metadata": {},
     "outputs": [
      {
       "output_type": "stream",
       "stream": "stdout",
       "text": [
        "Help on built-in function write:\n",
        "\n",
        "write(...)\n",
        "    write(str) -> None.  Write string str to file.\n",
        "    \n",
        "    Note that due to buffering, flush() or close() may be needed before\n",
        "    the file on disk reflects the data written.\n",
        "\n",
        "None\n"
       ]
      }
     ],
     "prompt_number": 41
    },
    {
     "cell_type": "code",
     "collapsed": false,
     "input": [
      "# you entered over keyboard,\n",
      "g.write(\"This is my first line.\\nThis is my second line.\\nThis is my third line.\\nThis is my fourth line.\\n\")"
     ],
     "language": "python",
     "metadata": {},
     "outputs": [],
     "prompt_number": 42
    },
    {
     "cell_type": "raw",
     "metadata": {},
     "source": [
      "key2gyaan@key2gyaan:~/Documents/git_repositories/tuxfux-hlp-notes/batch-56/files$ cat newfile.txt \n",
      "key2gyaan@key2gyaan:~/Documents/git_repositories/tuxfux-hlp-notes/batch-56/files$ cat newfile.txt\n"
     ]
    },
    {
     "cell_type": "code",
     "collapsed": false,
     "input": [
      "# after doing this i dont see any content in the file.\n",
      "# the content is till int he buffer\n",
      "\n",
      "# I/O devices\n",
      "# keyboard -> I/O buffer/cache -> cpu -> I/O buffer/cache -> disk\n",
      "# cpu is faster than your input/output devices"
     ],
     "language": "python",
     "metadata": {},
     "outputs": [],
     "prompt_number": 43
    },
    {
     "cell_type": "code",
     "collapsed": false,
     "input": [
      "# g.flush or g.close\n",
      "print help(g.flush)"
     ],
     "language": "python",
     "metadata": {},
     "outputs": [
      {
       "output_type": "stream",
       "stream": "stdout",
       "text": [
        "Help on built-in function flush:\n",
        "\n",
        "flush(...)\n",
        "    flush() -> None.  Flush the internal I/O buffer.\n",
        "\n",
        "None\n"
       ]
      }
     ],
     "prompt_number": 44
    },
    {
     "cell_type": "code",
     "collapsed": false,
     "input": [
      "print help(g.close)"
     ],
     "language": "python",
     "metadata": {},
     "outputs": [
      {
       "output_type": "stream",
       "stream": "stdout",
       "text": [
        "Help on built-in function close:\n",
        "\n",
        "close(...)\n",
        "    close() -> None or (perhaps) an integer.  Close the file.\n",
        "    \n",
        "    Sets data attribute .closed to True.  A closed file cannot be used for\n",
        "    further I/O operations.  close() may be called more than once without\n",
        "    error.  Some kinds of file objects (for example, opened by popen())\n",
        "    may return an exit status upon closing.\n",
        "\n",
        "None\n"
       ]
      }
     ],
     "prompt_number": 45
    },
    {
     "cell_type": "code",
     "collapsed": false,
     "input": [
      "g.flush()\n",
      "# this will flush the I/O buffers and dump it on the device(for our case its a disk)\n",
      "# Also your file is open for further writes too."
     ],
     "language": "python",
     "metadata": {},
     "outputs": [],
     "prompt_number": 46
    },
    {
     "cell_type": "raw",
     "metadata": {},
     "source": [
      "key2gyaan@key2gyaan:~/Documents/git_repositories/tuxfux-hlp-notes/batch-56/files$ cat newfile.txt \n",
      "This is my first line.\n",
      "This is my second line.\n",
      "This is my third line.\n",
      "This is my fourth line.\n",
      "key2gyaan@key2gyaan:~/Documents/git_repositories/tuxfux-hlp-notes/batch-56/files$ \n"
     ]
    },
    {
     "cell_type": "code",
     "collapsed": false,
     "input": [
      "# what if you close the file.\n",
      "g.close()\n",
      "# it closes the file and you cannot do anymore operation on top of the file."
     ],
     "language": "python",
     "metadata": {},
     "outputs": [],
     "prompt_number": 48
    },
    {
     "cell_type": "code",
     "collapsed": false,
     "input": [
      "print g.read()"
     ],
     "language": "python",
     "metadata": {},
     "outputs": [
      {
       "ename": "ValueError",
       "evalue": "I/O operation on closed file",
       "output_type": "pyerr",
       "traceback": [
        "\u001b[0;31m---------------------------------------------------------------------------\u001b[0m\n\u001b[0;31mValueError\u001b[0m                                Traceback (most recent call last)",
        "\u001b[0;32m<ipython-input-49-ee6f3a95f129>\u001b[0m in \u001b[0;36m<module>\u001b[0;34m()\u001b[0m\n\u001b[0;32m----> 1\u001b[0;31m \u001b[0;32mprint\u001b[0m \u001b[0mg\u001b[0m\u001b[0;34m.\u001b[0m\u001b[0mread\u001b[0m\u001b[0;34m(\u001b[0m\u001b[0;34m)\u001b[0m\u001b[0;34m\u001b[0m\u001b[0m\n\u001b[0m",
        "\u001b[0;31mValueError\u001b[0m: I/O operation on closed file"
       ]
      }
     ],
     "prompt_number": 49
    },
    {
     "cell_type": "code",
     "collapsed": false,
     "input": [
      "# attritute f.closed set to True\n",
      "\n",
      "print g.closed  # your file is set to true,as it is closed.\n",
      "print f.closed # your file is set to false,as it is opened."
     ],
     "language": "python",
     "metadata": {},
     "outputs": [
      {
       "output_type": "stream",
       "stream": "stdout",
       "text": [
        "True\n",
        "False\n"
       ]
      }
     ],
     "prompt_number": 51
    },
    {
     "cell_type": "code",
     "collapsed": false,
     "input": [],
     "language": "python",
     "metadata": {},
     "outputs": []
    }
   ],
   "metadata": {}
  }
 ]
}